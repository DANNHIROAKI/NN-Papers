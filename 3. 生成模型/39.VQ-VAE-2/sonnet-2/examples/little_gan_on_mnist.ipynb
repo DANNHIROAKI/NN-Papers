{
  "cells": [
    {
      "cell_type": "markdown",
      "metadata": {
        "colab_type": "text",
        "id": "Yu7u1mNfnxVP"
      },
      "source": [
        "**Copyright 2019 The Sonnet Authors. All Rights Reserved.**\n",
        "\n",
        "Licensed under the Apache License, Version 2.0 (the \"License\");\n",
        "you may not use this file except in compliance with the License.\n",
        "You may obtain a copy of the License at\n",
        "\n",
        "   http://www.apache.org/licenses/LICENSE-2.0\n",
        "\n",
        "Unless required by applicable law or agreed to in writing, software\n",
        "distributed under the License is distributed on an \"AS IS\" BASIS,\n",
        "WITHOUT WARRANTIES OR CONDITIONS OF ANY KIND, either express or  implied.\n",
        "See the License for the specific language governing permissions and\n",
        "limitations under the License.\n",
        "\n",
        "---"
      ]
    },
    {
      "cell_type": "markdown",
      "metadata": {
        "colab_type": "text",
        "id": "YlYRfLOzyuW9"
      },
      "source": [
        "## Generative Adversarial Networks (GANs)\n",
        "\n",
        "In this notebook we'll use Sonnet 2 and TensorFlow 2 to train a small image generator using the Generative Adversarial Nets (GAN) [1] framework. GANs consist of two modules:\n",
        "\n",
        "1.   A **generator**, which takes randomly sampled noise or latents as inputs and produces data (in this case, images) as output.\n",
        "2.   A **discriminator**, which provides the learning signal for the generator. Its inputs are real images and generated images, and it's trained to predict whether each input is real or generated.  The generator is trained to \"fool\" the discriminator into believing its outputs are real.\n",
        "\n",
        "Typically both the generator and discriminator are deep neural networks.\n",
        "\n",
        "For an extended tutorial on GANs, see Ian Goodfellow's [GAN Tutorial](https://arxiv.org/abs/1701.00160) [2].\n",
        "\n",
        "[1] I. Goodfellow, J. Pouget-Abadie, M. Mirza, B. Xu, D. Warde-Farley, S. Ozair, A. Courville, and Y. Bengio. [Generative Adversarial Nets](https://papers.nips.cc/paper/5423-generative-adversarial-nets.pdf). *NeurIPS*, 2014.\n",
        "\n",
        "[2] I. Goodfellow. [NIPS 2016 Tutorial: Generative Adversarial Networks](https://arxiv.org/abs/1701.00160). *arXiv:1701.00160*, 2017."
      ]
    },
    {
      "cell_type": "markdown",
      "metadata": {
        "colab_type": "text",
        "id": "WAfR3cvnoGMB"
      },
      "source": [
        "# Preamble"
      ]
    },
    {
      "cell_type": "code",
      "execution_count": 0,
      "metadata": {
        "colab": {},
        "colab_type": "code",
        "id": "4FqOAJb_jJR9"
      },
      "outputs": [],
      "source": [
        "import sys\n",
        "assert sys.version_info \u003e= (3, 6), \"Sonnet 2 requires Python \u003e=3.6\""
      ]
    },
    {
      "cell_type": "code",
      "execution_count": 0,
      "metadata": {
        "colab": {},
        "colab_type": "code",
        "id": "FZP3Wut53PTb"
      },
      "outputs": [],
      "source": [
        "!pip install dm-sonnet tqdm"
      ]
    },
    {
      "cell_type": "code",
      "execution_count": 0,
      "metadata": {
        "colab": {},
        "colab_type": "code",
        "id": "ermIoeaTel6V"
      },
      "outputs": [],
      "source": [
        "import functools\n",
        "import time\n",
        "import numpy as np\n",
        "import sonnet as snt\n",
        "import tensorflow as tf\n",
        "import tensorflow_datasets as tfds\n",
        "import tqdm"
      ]
    },
    {
      "cell_type": "code",
      "execution_count": 5,
      "metadata": {
        "colab": {
          "base_uri": "https://localhost:8080/",
          "height": 51
        },
        "colab_type": "code",
        "id": "Rpp_houJEHr9",
        "outputId": "4edf64da-e887-4f06-90d7-e1e7e51e31fc"
      },
      "outputs": [
        {
          "name": "stdout",
          "output_type": "stream",
          "text": [
            "TensorFlow version: 2.0.0-rc1\n",
            "    Sonnet version: 2.0.0b0\n"
          ]
        }
      ],
      "source": [
        "print(\"TensorFlow version: {}\".format(tf.__version__))\n",
        "print(\"    Sonnet version: {}\".format(snt.__version__))"
      ]
    },
    {
      "cell_type": "markdown",
      "metadata": {
        "colab_type": "text",
        "id": "ZAC0cJhzqE-a"
      },
      "source": [
        "Finally lets take a quick look at the GPUs we have available:"
      ]
    },
    {
      "cell_type": "code",
      "execution_count": 6,
      "metadata": {
        "colab": {
          "base_uri": "https://localhost:8080/",
          "height": 34
        },
        "colab_type": "code",
        "id": "6fOFkKYtqH8s",
        "outputId": "0f1bb7bb-0df2-492d-fd9e-67733a20cb28"
      },
      "outputs": [
        {
          "name": "stdout",
          "output_type": "stream",
          "text": [
            " Tesla T4\n"
          ]
        }
      ],
      "source": [
        "!grep Model: /proc/driver/nvidia/gpus/*/information | awk '{$1=\"\";print$0}'"
      ]
    },
    {
      "cell_type": "markdown",
      "metadata": {
        "colab_type": "text",
        "id": "UYYmqvOKfNbk"
      },
      "source": [
        "# Dataset\n",
        "\n",
        "We need to get our dataset in a state where we can iterate over it easily. The TensorFlow Datasets package provides a simple API for this. It will download the dataset and prepare it for us to speedily process on a GPU. We can also add our own pre-processing functions to mutate the dataset before our model sees it:"
      ]
    },
    {
      "cell_type": "code",
      "execution_count": 0,
      "metadata": {
        "colab": {},
        "colab_type": "code",
        "id": "UkBRriaQEr4z"
      },
      "outputs": [],
      "source": [
        "def process_batch(images, labels):\n",
        "  images = tf.squeeze(images, axis=[-1])\n",
        "  images = tf.cast(images, dtype=tf.float32)\n",
        "  images /= 255.\n",
        "  images = tf.clip_by_value(images, 0., 1.)\n",
        "  return images, labels\n",
        "\n",
        "batch_size = 100\n",
        "def mnist(split, batch_size=batch_size):\n",
        "  dataset, ds_info = tfds.load('mnist:3.*.*', split=split, as_supervised=True,\n",
        "                               with_info=True)\n",
        "  dataset = dataset.map(process_batch)\n",
        "  dataset = dataset.batch(batch_size)\n",
        "  dataset = dataset.prefetch(tf.data.experimental.AUTOTUNE)\n",
        "  dataset = dataset.cache()\n",
        "  return dataset, ds_info\n",
        "\n",
        "mnist_train, mnist_train_info = mnist('train')\n",
        "mnist_test, mnist_test_info = mnist('test')\n",
        "\n",
        "mnist_shuffled = mnist_train.shuffle(10000).repeat()"
      ]
    },
    {
      "cell_type": "markdown",
      "metadata": {
        "colab_type": "text",
        "id": "JfOCWVGEfgcq"
      },
      "source": [
        "MNIST contains `28x28` greyscale handwritten digits. Let's take a look at one:"
      ]
    },
    {
      "cell_type": "code",
      "execution_count": 8,
      "metadata": {
        "colab": {
          "base_uri": "https://localhost:8080/",
          "height": 286
        },
        "colab_type": "code",
        "id": "I_yM0TVjFCZq",
        "outputId": "24c80259-d3e5-476d-e238-296506c02d62"
      },
      "outputs": [
        {
          "data": {
            "text/plain": [
              "\u003cmatplotlib.image.AxesImage at 0x7fb4d006c438\u003e"
            ]
          },
          "execution_count": 8,
          "metadata": {
            "tags": []
          },
          "output_type": "execute_result"
        },
        {
          "data": {
            "image/png": "[encoded data removed]",
            "text/plain": [
              "\u003cFigure size 432x288 with 1 Axes\u003e"
            ]
          },
          "metadata": {
            "tags": []
          },
          "output_type": "display_data"
        }
      ],
      "source": [
        "import matplotlib.pyplot as plt\n",
        "\n",
        "images, _ = next(iter(mnist_test))\n",
        "plt.imshow(images[0])"
      ]
    },
    {
      "cell_type": "markdown",
      "metadata": {
        "colab_type": "text",
        "id": "d7bsizs5gK3K"
      },
      "source": [
        "# Sonnet\n",
        "\n",
        "The next step is to define a model. In Sonnet everything that contains TensorFlow variables (`tf.Variable`) extends `snt.Module`, this includes low level neural network components (e.g. `snt.Linear`,  `snt.Conv2D`), larger nets containing subcomponents (e.g. `snt.nets.MLP`), optimizers (e.g. `snt.optimizers.Adam`) and whatever else you can think of.\n",
        "\n",
        "Modules provide a simple abstraction for storing parameters (and `Variable`s used for other purposes, like for storing moving averages in `BatchNorm`).\n",
        "\n",
        "To find all the parameters for a given module, simply do: `module.variables`. This will return a `tuple` of all the parameters that exist for this module, or any module it references:"
      ]
    },
    {
      "cell_type": "markdown",
      "metadata": {
        "colab_type": "text",
        "id": "GrN37pi1o4HT"
      },
      "source": [
        "## Building the model"
      ]
    },
    {
      "cell_type": "markdown",
      "metadata": {
        "colab_type": "text",
        "id": "c6XoN56S2lSW"
      },
      "source": [
        "In Sonnet you build neural networks out of `snt.Module`s. In this simple example we'll build multi-layer perceptron (MLP) based generators and discriminators.\n",
        "\n",
        "We'll make use of \"Spectral Normalization\" [1] in both modules, which serves to regularize them.\n",
        "\n",
        "[1] T. Miyato, T. Kataoka, M. Koyama, and Y. Yoshida. [Spectral Normalization for Generative Adversarial Networks](https://arxiv.org/abs/1802.05957). *arXiv:1802.05957*, 2018."
      ]
    },
    {
      "cell_type": "code",
      "execution_count": 0,
      "metadata": {
        "colab": {},
        "colab_type": "code",
        "id": "hgjyB9yhFclD"
      },
      "outputs": [],
      "source": [
        "class SpectralNormalizer(snt.Module):\n",
        "\n",
        "  def __init__(self, epsilon=1e-12, name=None):\n",
        "    super().__init__(name=name)\n",
        "    self.l2_normalize = functools.partial(tf.math.l2_normalize, epsilon=epsilon)\n",
        "\n",
        "  @snt.once\n",
        "  def _initialize(self, weights):\n",
        "    init = self.l2_normalize(snt.initializers.TruncatedNormal()(\n",
        "        shape=[1, weights.shape[-1]], dtype=weights.dtype))\n",
        "    # 'u' tracks our estimate of the first spectral vector for the given weight.\n",
        "    self.u = tf.Variable(init, name='u', trainable=False)\n",
        "\n",
        "  def __call__(self, weights, is_training=True):\n",
        "    self._initialize(weights)\n",
        "    if is_training:\n",
        "      # Do a power iteration and update u and weights.\n",
        "      weights_matrix = tf.reshape(weights, [-1, weights.shape[-1]])\n",
        "      v = self.l2_normalize(self.u @ tf.transpose(weights_matrix))\n",
        "      v_w = v @ weights_matrix\n",
        "      u = self.l2_normalize(v_w)\n",
        "      sigma = tf.stop_gradient(tf.reshape(v_w @ tf.transpose(u), []))\n",
        "      self.u.assign(u)\n",
        "      weights.assign(weights / sigma)\n",
        "    return weights\n",
        "\n",
        "\n",
        "class SpectrallyNormedLinear(snt.Linear):\n",
        "\n",
        "  def __init__(self, *args, **kwargs):\n",
        "    super().__init__(*args, **kwargs)\n",
        "    self.spectral_normalizer = SpectralNormalizer()\n",
        "\n",
        "  def __call__(self, inputs, is_training=True):\n",
        "    self._initialize(inputs)\n",
        "\n",
        "    normed_w = self.spectral_normalizer(self.w, is_training=is_training)\n",
        "    outputs = tf.matmul(inputs, normed_w)\n",
        "    if self.with_bias:\n",
        "      outputs = tf.add(outputs, self.b)\n",
        "    return outputs\n",
        "\n",
        "\n",
        "class SimpleBlock(snt.Module):\n",
        "\n",
        "  def __init__(self, embed_dim, with_batch_norm=False, name=None):\n",
        "    super().__init__(name=name)\n",
        "    self.embed_dim = embed_dim\n",
        "    self.hidden = SpectrallyNormedLinear(self.embed_dim)\n",
        "    if with_batch_norm:\n",
        "      self.bn = snt.BatchNorm(create_scale=True, create_offset=True)\n",
        "    else:\n",
        "      self.bn = None\n",
        "\n",
        "  def __call__(self, inputs, is_training=True):\n",
        "    output = self.hidden(inputs, is_training=is_training)\n",
        "    if self.bn:\n",
        "      output = self.bn(output, is_training=is_training)\n",
        "    output = tf.nn.relu(output)\n",
        "    return output\n",
        "\n",
        "\n",
        "class Generator(snt.Module):\n",
        "\n",
        "  def __init__(self, output_shape, num_layers=1, embed_dim=1024, name=None):\n",
        "    super().__init__(name=name)\n",
        "    self.layers = [\n",
        "        SimpleBlock(embed_dim, with_batch_norm=True, name='block_'+str(index))\n",
        "        for index in range(num_layers)\n",
        "    ]\n",
        "    self.output_shape = tuple(output_shape)\n",
        "    output_size = np.prod(self.output_shape, dtype=int)\n",
        "    self.outputs = snt.Linear(output_size, name='outputs')\n",
        "\n",
        "  def __call__(self, inputs, is_training=True):\n",
        "    inputs = tf.convert_to_tensor(inputs)\n",
        "    output = snt.Flatten()(inputs)\n",
        "    for layer in self.layers:\n",
        "      output = layer(output, is_training=is_training)\n",
        "    output = self.outputs(output)\n",
        "    output = tf.reshape(output, [-1] + list(self.output_shape))\n",
        "    output = tf.sigmoid(output)\n",
        "    return output\n",
        "\n",
        "\n",
        "class Discriminator(snt.Module):\n",
        "\n",
        "  def __init__(self, num_layers=1, embed_dim=1024, name=None):\n",
        "    super().__init__(name=name)\n",
        "    self.layers = [\n",
        "        SimpleBlock(embed_dim, with_batch_norm=False, name='block_'+str(index))\n",
        "        for index in range(num_layers)\n",
        "    ]\n",
        "    self.outputs = SpectrallyNormedLinear(1, name='outputs')\n",
        "\n",
        "  def __call__(self, inputs, is_training=True):\n",
        "    inputs = tf.convert_to_tensor(inputs)\n",
        "    output = snt.Flatten()(inputs)\n",
        "    for layer in self.layers:\n",
        "      output = layer(output, is_training=is_training)\n",
        "    output = self.outputs(output)\n",
        "    return tf.reshape(output, [-1])\n",
        "\n",
        "\n",
        "class LittleGAN(snt.Module):\n",
        "\n",
        "  def __init__(self, num_layers=2, embed_dim=1024, name=None):\n",
        "    super().__init__(name=name)\n",
        "    self.generator = Generator(\n",
        "        [28, 28], num_layers=num_layers, embed_dim=embed_dim)\n",
        "    self.discriminator = Discriminator(\n",
        "        num_layers=num_layers, embed_dim=embed_dim)\n",
        "\n",
        "  def generate(self, noise, is_training=True):\n",
        "    return self.generator(noise, is_training=is_training)\n",
        "\n",
        "  def discriminate(self, images):\n",
        "    return self.discriminator(images)"
      ]
    },
    {
      "cell_type": "markdown",
      "metadata": {
        "colab_type": "text",
        "id": "0i03px8y8gf7"
      },
      "source": [
        "Now we'll create an instance of our class whose weights will be randomly initialized. We'll train this MLP such that it learns to recognize digits in the MNIST dataset."
      ]
    },
    {
      "cell_type": "code",
      "execution_count": 10,
      "metadata": {
        "colab": {
          "base_uri": "https://localhost:8080/",
          "height": 34
        },
        "colab_type": "code",
        "id": "XqL8oIMqGAnU",
        "outputId": "6471fe0d-0db3-4da0-c4ce-cdf672da67d9"
      },
      "outputs": [
        {
          "data": {
            "text/plain": [
              "LittleGAN(num_layers=2)"
            ]
          },
          "execution_count": 10,
          "metadata": {
            "tags": []
          },
          "output_type": "execute_result"
        }
      ],
      "source": [
        "gan = LittleGAN(num_layers=2)\n",
        "gan"
      ]
    },
    {
      "cell_type": "markdown",
      "metadata": {
        "colab_type": "text",
        "id": "snzkUUh9oXPy"
      },
      "source": [
        "## Using the model"
      ]
    },
    {
      "cell_type": "markdown",
      "metadata": {
        "colab_type": "text",
        "id": "On8wI6VwpDPm"
      },
      "source": [
        "Let's feed some random noise through the generator and see what it generates. Since the model is randomly initialized and not trained yet, the images it produces should look like noise.\n",
        "\n",
        "Below, the top row of images are real MNIST digits; the bottom row are the outputs of our randomly initialized generator."
      ]
    },
    {
      "cell_type": "code",
      "execution_count": 11,
      "metadata": {
        "colab": {
          "base_uri": "https://localhost:8080/",
          "height": 160
        },
        "colab_type": "code",
        "id": "4T-qmIc0GHfP",
        "outputId": "35babc71-6172-4756-f3fb-bb2f6f5cf363"
      },
      "outputs": [
        {
          "data": {
            "image/png": "[encoded data removed]",
            "text/plain": [
              "\u003cFigure size 1440x144 with 20 Axes\u003e"
            ]
          },
          "metadata": {
            "tags": []
          },
          "output_type": "display_data"
        }
      ],
      "source": [
        "images, labels = next(iter(mnist_test))\n",
        "noise_dim = 128\n",
        "\n",
        "def get_noise_batch(batch_size):\n",
        "  noise_shape = [batch_size, noise_dim]\n",
        "  return tf.random.normal(noise_shape, dtype=images.dtype)\n",
        "\n",
        "def get_label_batch(batch_size):\n",
        "  label_shape = [batch_size]\n",
        "  return tf.random.uniform(label_shape, maxval=10, dtype=labels.dtype)\n",
        "\n",
        "logits = gan.discriminate(images)\n",
        "noise = get_noise_batch(images.shape[0])\n",
        "gen_images = gan.generate(noise)\n",
        "\n",
        "num_images = 10\n",
        "plt.rcParams['figure.figsize'] = (2*num_images, 2)\n",
        "for i in range(num_images):\n",
        "  plt.subplot(2, num_images, i+1)\n",
        "  plt.imshow(images[i])\n",
        "  plt.subplot(2, num_images, num_images+i+1)\n",
        "  plt.imshow(gen_images[i])"
      ]
    },
    {
      "cell_type": "markdown",
      "metadata": {
        "colab_type": "text",
        "id": "9yV4JM345J71"
      },
      "source": [
        "Print the names, shapes, and other information about the variables in our little GAN model to get a rough idea of its structure."
      ]
    },
    {
      "cell_type": "code",
      "execution_count": 12,
      "metadata": {
        "colab": {
          "base_uri": "https://localhost:8080/",
          "height": 615
        },
        "colab_type": "code",
        "id": "9ti32zve4_QG",
        "outputId": "4b3e61aa-a999-4c92-99a8-c83caef12ad7"
      },
      "outputs": [
        {
          "name": "stdout",
          "output_type": "stream",
          "text": [
            "Variable                                                                         Shape      Type     Trainable  Device\n",
            "little_gan/discriminator/block_0/spectrally_normed_linear/b                      1024       float32  True       /job:localhost/replica:0/task:0/device:GPU:0\n",
            "little_gan/discriminator/block_0/spectrally_normed_linear/spectral_normalizer/u  1x1024     float32  False      /job:localhost/replica:0/task:0/device:GPU:0\n",
            "little_gan/discriminator/block_0/spectrally_normed_linear/w                      784x1024   float32  True       /job:localhost/replica:0/task:0/device:GPU:0\n",
            "little_gan/discriminator/block_1/spectrally_normed_linear/b                      1024       float32  True       /job:localhost/replica:0/task:0/device:GPU:0\n",
            "little_gan/discriminator/block_1/spectrally_normed_linear/spectral_normalizer/u  1x1024     float32  False      /job:localhost/replica:0/task:0/device:GPU:0\n",
            "little_gan/discriminator/block_1/spectrally_normed_linear/w                      1024x1024  float32  True       /job:localhost/replica:0/task:0/device:GPU:0\n",
            "little_gan/discriminator/outputs/b                                               1          float32  True       /job:localhost/replica:0/task:0/device:GPU:0\n",
            "little_gan/discriminator/outputs/spectral_normalizer/u                           1x1        float32  False      /job:localhost/replica:0/task:0/device:GPU:0\n",
            "little_gan/discriminator/outputs/w                                               1024x1     float32  True       /job:localhost/replica:0/task:0/device:GPU:0\n",
            "little_gan/generator/block_0/batch_norm/exponential_moving_average/average       1x1024     float32  False      /job:localhost/replica:0/task:0/device:GPU:0\n",
            "little_gan/generator/block_0/batch_norm/exponential_moving_average/average       1x1024     float32  False      /job:localhost/replica:0/task:0/device:GPU:0\n",
            "little_gan/generator/block_0/batch_norm/exponential_moving_average/counter                  int64    False      /job:localhost/replica:0/task:0/device:GPU:0\n",
            "little_gan/generator/block_0/batch_norm/exponential_moving_average/counter                  int64    False      /job:localhost/replica:0/task:0/device:GPU:0\n",
            "little_gan/generator/block_0/batch_norm/exponential_moving_average/hidden        1x1024     float32  False      /job:localhost/replica:0/task:0/device:GPU:0\n",
            "little_gan/generator/block_0/batch_norm/exponential_moving_average/hidden        1x1024     float32  False      /job:localhost/replica:0/task:0/device:GPU:0\n",
            "little_gan/generator/block_0/batch_norm/offset                                   1024       float32  True       /job:localhost/replica:0/task:0/device:GPU:0\n",
            "little_gan/generator/block_0/batch_norm/scale                                    1024       float32  True       /job:localhost/replica:0/task:0/device:GPU:0\n",
            "little_gan/generator/block_0/spectrally_normed_linear/b                          1024       float32  True       /job:localhost/replica:0/task:0/device:GPU:0\n",
            "little_gan/generator/block_0/spectrally_normed_linear/spectral_normalizer/u      1x1024     float32  False      /job:localhost/replica:0/task:0/device:GPU:0\n",
            "little_gan/generator/block_0/spectrally_normed_linear/w                          128x1024   float32  True       /job:localhost/replica:0/task:0/device:GPU:0\n",
            "little_gan/generator/block_1/batch_norm/exponential_moving_average/average       1x1024     float32  False      /job:localhost/replica:0/task:0/device:GPU:0\n",
            "little_gan/generator/block_1/batch_norm/exponential_moving_average/average       1x1024     float32  False      /job:localhost/replica:0/task:0/device:GPU:0\n",
            "little_gan/generator/block_1/batch_norm/exponential_moving_average/counter                  int64    False      /job:localhost/replica:0/task:0/device:GPU:0\n",
            "little_gan/generator/block_1/batch_norm/exponential_moving_average/counter                  int64    False      /job:localhost/replica:0/task:0/device:GPU:0\n",
            "little_gan/generator/block_1/batch_norm/exponential_moving_average/hidden        1x1024     float32  False      /job:localhost/replica:0/task:0/device:GPU:0\n",
            "little_gan/generator/block_1/batch_norm/exponential_moving_average/hidden        1x1024     float32  False      /job:localhost/replica:0/task:0/device:GPU:0\n",
            "little_gan/generator/block_1/batch_norm/offset                                   1024       float32  True       /job:localhost/replica:0/task:0/device:GPU:0\n",
            "little_gan/generator/block_1/batch_norm/scale                                    1024       float32  True       /job:localhost/replica:0/task:0/device:GPU:0\n",
            "little_gan/generator/block_1/spectrally_normed_linear/b                          1024       float32  True       /job:localhost/replica:0/task:0/device:GPU:0\n",
            "little_gan/generator/block_1/spectrally_normed_linear/spectral_normalizer/u      1x1024     float32  False      /job:localhost/replica:0/task:0/device:GPU:0\n",
            "little_gan/generator/block_1/spectrally_normed_linear/w                          1024x1024  float32  True       /job:localhost/replica:0/task:0/device:GPU:0\n",
            "little_gan/generator/outputs/b                                                   784        float32  True       /job:localhost/replica:0/task:0/device:GPU:0\n",
            "little_gan/generator/outputs/w                                                   1024x784   float32  True       /job:localhost/replica:0/task:0/device:GPU:0\n"
          ]
        }
      ],
      "source": [
        "print(snt.format_variables(gan.variables))"
      ]
    },
    {
      "cell_type": "markdown",
      "metadata": {
        "colab_type": "text",
        "id": "V297xpzfobXK"
      },
      "source": [
        "## Training the model"
      ]
    },
    {
      "cell_type": "markdown",
      "metadata": {
        "colab_type": "text",
        "id": "WTrv-jn4pPSx"
      },
      "source": [
        "To train the model we need a loss function for both the discriminator and generator, as well as an optimizer.\n",
        "\n",
        "We'll optimize the discriminator via the \"hinge loss\", defined by the function `hinge_loss_disc`. The generator simply maximizes the discriminator's error via a linear loss given by `loss_gen`.\n",
        "\n",
        "For the optimizer, we'll use the \"Adam\" optimizer (`snt.optimizers.Adam`). To compute gradients we'll use a `tf.GradientTape` which allows us to selectively record gradients only for the computation we want to back propagate through.\n",
        "\n",
        "We'll put all of this together below in a Sonnet Module called `GANOptimizer`, which takes as input the GAN to be optimized:"
      ]
    },
    {
      "cell_type": "code",
      "execution_count": 0,
      "metadata": {
        "colab": {},
        "colab_type": "code",
        "id": "JgVCqok0usw-"
      },
      "outputs": [],
      "source": [
        "def hinge_loss_disc(preds_real, preds_gen):\n",
        "  loss_real = tf.reduce_mean(tf.nn.relu(1. - preds_real))\n",
        "  loss_gen = tf.reduce_mean(tf.nn.relu(1. + preds_gen))\n",
        "  return loss_real + loss_gen\n",
        "\n",
        "def loss_gen(preds_gen):\n",
        "  return -tf.reduce_mean(preds_gen)\n",
        "\n",
        "class GANOptimizer(snt.Module):\n",
        "\n",
        "  def __init__(self,\n",
        "               gan,\n",
        "               gen_batch_size=100,\n",
        "               disc_lr=2e-4,\n",
        "               gen_lr=5e-5,\n",
        "               loss_type='hinge',\n",
        "               num_epochs=100,\n",
        "               decay_lr_start_epoch=50,\n",
        "               decay_disc_lr=True,\n",
        "               decay_gen_lr=True,\n",
        "               name=None):\n",
        "    super().__init__(name=name)\n",
        "    self.gan = gan\n",
        "    self.gen_batch_size = gen_batch_size\n",
        "    self.init_disc_lr = disc_lr\n",
        "    self.init_gen_lr = gen_lr\n",
        "    self.disc_lr = tf.Variable(\n",
        "        disc_lr, trainable=False, name='disc_lr', dtype=tf.float32)\n",
        "    self.gen_lr = tf.Variable(\n",
        "        gen_lr, trainable=False, name='gen_lr', dtype=tf.float32)\n",
        "    self.disc_opt = snt.optimizers.Adam(learning_rate=self.disc_lr, beta1=0.)\n",
        "    self.gen_opt = snt.optimizers.Adam(learning_rate=self.gen_lr, beta1=0.)\n",
        "    self.num_epochs = tf.constant(num_epochs, dtype=tf.int32)\n",
        "    self.decay_lr_start_epoch = tf.constant(decay_lr_start_epoch, dtype=tf.int32)\n",
        "    self.decay_disc_lr = decay_disc_lr\n",
        "    self.decay_gen_lr = decay_gen_lr\n",
        "\n",
        "  def disc_step(self, images, labels, lr_mult=1.):\n",
        "    \"\"\"Updates the discriminator once on the given batch of (images, labels).\"\"\"\n",
        "    del labels\n",
        "    gan = self.gan\n",
        "    with tf.GradientTape() as tape:\n",
        "      gen_images = gan.generate(get_noise_batch(images.shape[0]))\n",
        "      preds_real = gan.discriminate(images)\n",
        "      preds_gen = gan.discriminate(gen_images)\n",
        "      loss = hinge_loss_disc(preds_real, preds_gen)\n",
        "    disc_params = gan.discriminator.trainable_variables\n",
        "    disc_grads = tape.gradient(loss, disc_params)\n",
        "    if self.decay_disc_lr:\n",
        "      self.disc_lr.assign(self.init_disc_lr * lr_mult)\n",
        "    self.disc_opt.apply(disc_grads, disc_params)\n",
        "    return loss\n",
        "\n",
        "  def gen_step(self, lr_mult=1.):\n",
        "    \"\"\"Updates the generator once.\"\"\"\n",
        "    gan = self.gan\n",
        "    noise = get_noise_batch(self.gen_batch_size)\n",
        "    with tf.GradientTape() as tape:\n",
        "      gen_images = gan.generate(noise)\n",
        "      preds_gen = gan.discriminate(gen_images)\n",
        "      loss = loss_gen(preds_gen)\n",
        "    gen_params = gan.generator.trainable_variables\n",
        "    gen_grads = tape.gradient(loss, gen_params)\n",
        "    if self.decay_gen_lr:\n",
        "      self.gen_lr.assign(self.init_gen_lr * lr_mult)\n",
        "    self.gen_opt.apply(gen_grads, gen_params)\n",
        "    return loss\n",
        "\n",
        "  def _get_lr_mult(self, epoch):\n",
        "    # Linear decay to 0.\n",
        "    decay_epoch = tf.cast(epoch - self.decay_lr_start_epoch, tf.float32)\n",
        "    if decay_epoch \u003c tf.constant(0, dtype=tf.float32):\n",
        "      return tf.constant(1., dtype=tf.float32)\n",
        "    num_decay_epochs = tf.cast(self.num_epochs - self.decay_lr_start_epoch,\n",
        "                               dtype=tf.float32)\n",
        "    return (num_decay_epochs - decay_epoch) / num_decay_epochs\n",
        "\n",
        "  def step(self, train_batches, epoch):\n",
        "    \"\"\"Updates the discriminator and generator weights.\n",
        "\n",
        "    The discriminator is updated `len(train_batches)` times and the generator is\n",
        "    updated once.\n",
        "\n",
        "    Args:\n",
        "      train_batches: list of batches, where each item is an (image, label)\n",
        "        tuple. The discriminator is updated on each of these batches.\n",
        "      epoch: the epoch number, used to decide the learning rate multiplier for\n",
        "        learning rate decay.\n",
        "\n",
        "    Returns:\n",
        "      loss: the generator loss.\n",
        "      lr_mult: the computed learning rate multiplier.\n",
        "    \"\"\"\n",
        "    lr_mult = self._get_lr_mult(epoch)\n",
        "    for train_batch in train_batches:\n",
        "      self.disc_step(*train_batch, lr_mult=lr_mult)\n",
        "    return self.gen_step(lr_mult=lr_mult), lr_mult"
      ]
    },
    {
      "cell_type": "code",
      "execution_count": 14,
      "metadata": {
        "colab": {
          "base_uri": "https://localhost:8080/",
          "height": 989
        },
        "colab_type": "code",
        "id": "UUkshshiK6Eq",
        "outputId": "6272bb79-7eff-46af-a913-b9e886772948"
      },
      "outputs": [
        {
          "name": "stderr",
          "output_type": "stream",
          "text": [
            "\r  0%|          | 0/750000 [00:00\u003c?, ?images/s]"
          ]
        },
        {
          "name": "stdout",
          "output_type": "stream",
          "text": [
            "WARNING:tensorflow:From /tensorflow-2.0.0-rc1/python3.6/tensorflow_core/python/ops/resource_variable_ops.py:1781: calling BaseResourceVariable.__init__ (from tensorflow.python.ops.resource_variable_ops) with constraint is deprecated and will be removed in a future version.\n",
            "Instructions for updating:\n",
            "If using Keras pass *_constraint arguments to layers.\n"
          ]
        },
        {
          "name": "stderr",
          "output_type": "stream",
          "text": [
            "WARNING:tensorflow:From /tensorflow-2.0.0-rc1/python3.6/tensorflow_core/python/ops/resource_variable_ops.py:1781: calling BaseResourceVariable.__init__ (from tensorflow.python.ops.resource_variable_ops) with constraint is deprecated and will be removed in a future version.\n",
            "Instructions for updating:\n",
            "If using Keras pass *_constraint arguments to layers.\n",
            "  4%|▍         | 31300/750000 [00:19\u003c01:15, 9470.95images/s]"
          ]
        },
        {
          "name": "stdout",
          "output_type": "stream",
          "text": [
            "\n",
            "Epoch = 1/25 (lr_mult = 1.00, loss = 0.016450781375169754) done.\n"
          ]
        },
        {
          "name": "stderr",
          "output_type": "stream",
          "text": [
            "  8%|▊         | 62500/750000 [00:21\u003c00:56, 12207.04images/s]"
          ]
        },
        {
          "name": "stdout",
          "output_type": "stream",
          "text": [
            "\n",
            "Epoch = 2/25 (lr_mult = 1.00, loss = 0.04956576228141785) done.\n"
          ]
        },
        {
          "name": "stderr",
          "output_type": "stream",
          "text": [
            " 12%|█▏        | 92400/750000 [00:24\u003c00:53, 12197.78images/s]"
          ]
        },
        {
          "name": "stdout",
          "output_type": "stream",
          "text": [
            "\n",
            "Epoch = 3/25 (lr_mult = 1.00, loss = 0.10389317572116852) done.\n"
          ]
        },
        {
          "name": "stderr",
          "output_type": "stream",
          "text": [
            " 16%|█▋        | 122200/750000 [00:26\u003c00:51, 12084.79images/s]"
          ]
        },
        {
          "name": "stdout",
          "output_type": "stream",
          "text": [
            "\n",
            "Epoch = 4/25 (lr_mult = 1.00, loss = 0.051943909376859665) done.\n"
          ]
        },
        {
          "name": "stderr",
          "output_type": "stream",
          "text": [
            " 20%|██        | 151900/750000 [00:28\u003c00:49, 12153.37images/s]"
          ]
        },
        {
          "name": "stdout",
          "output_type": "stream",
          "text": [
            "\n",
            "Epoch = 5/25 (lr_mult = 1.00, loss = -0.21330127120018005) done.\n"
          ]
        },
        {
          "name": "stderr",
          "output_type": "stream",
          "text": [
            " 24%|██▍       | 181800/750000 [00:31\u003c00:47, 11858.25images/s]"
          ]
        },
        {
          "name": "stdout",
          "output_type": "stream",
          "text": [
            "\n",
            "Epoch = 6/25 (lr_mult = 1.00, loss = 0.15133343636989594) done.\n"
          ]
        },
        {
          "name": "stderr",
          "output_type": "stream",
          "text": [
            " 28%|██▊       | 211500/750000 [00:33\u003c00:44, 12015.89images/s]"
          ]
        },
        {
          "name": "stdout",
          "output_type": "stream",
          "text": [
            "\n",
            "Epoch = 7/25 (lr_mult = 1.00, loss = 0.2119884043931961) done.\n"
          ]
        },
        {
          "name": "stderr",
          "output_type": "stream",
          "text": [
            " 32%|███▏      | 242500/750000 [00:36\u003c00:41, 12089.66images/s]"
          ]
        },
        {
          "name": "stdout",
          "output_type": "stream",
          "text": [
            "\n",
            "Epoch = 8/25 (lr_mult = 1.00, loss = 0.25304022431373596) done.\n"
          ]
        },
        {
          "name": "stderr",
          "output_type": "stream",
          "text": [
            " 36%|███▋      | 272400/750000 [00:38\u003c00:39, 11972.72images/s]"
          ]
        },
        {
          "name": "stdout",
          "output_type": "stream",
          "text": [
            "\n",
            "Epoch = 9/25 (lr_mult = 1.00, loss = 0.31501442193984985) done.\n"
          ]
        },
        {
          "name": "stderr",
          "output_type": "stream",
          "text": [
            " 40%|████      | 302100/750000 [00:41\u003c00:38, 11631.19images/s]"
          ]
        },
        {
          "name": "stdout",
          "output_type": "stream",
          "text": [
            "\n",
            "Epoch = 10/25 (lr_mult = 1.00, loss = 0.3819904327392578) done.\n"
          ]
        },
        {
          "name": "stderr",
          "output_type": "stream",
          "text": [
            " 44%|████▍     | 331900/750000 [00:43\u003c00:35, 11762.71images/s]"
          ]
        },
        {
          "name": "stdout",
          "output_type": "stream",
          "text": [
            "\n",
            "Epoch = 11/25 (lr_mult = 1.00, loss = 0.359415739774704) done.\n"
          ]
        },
        {
          "name": "stderr",
          "output_type": "stream",
          "text": [
            " 48%|████▊     | 361700/750000 [00:46\u003c00:33, 11701.33images/s]"
          ]
        },
        {
          "name": "stdout",
          "output_type": "stream",
          "text": [
            "\n",
            "Epoch = 12/25 (lr_mult = 1.00, loss = 0.3620455861091614) done.\n"
          ]
        },
        {
          "name": "stderr",
          "output_type": "stream",
          "text": [
            " 52%|█████▏    | 391300/750000 [00:48\u003c00:30, 11574.55images/s]"
          ]
        },
        {
          "name": "stdout",
          "output_type": "stream",
          "text": [
            "\n",
            "Epoch = 13/25 (lr_mult = 1.00, loss = 0.34004005789756775) done.\n"
          ]
        },
        {
          "name": "stderr",
          "output_type": "stream",
          "text": [
            " 56%|█████▋    | 422000/750000 [00:51\u003c00:27, 11761.06images/s]"
          ]
        },
        {
          "name": "stdout",
          "output_type": "stream",
          "text": [
            "\n",
            "Epoch = 14/25 (lr_mult = 1.00, loss = 0.4108557105064392) done.\n"
          ]
        },
        {
          "name": "stderr",
          "output_type": "stream",
          "text": [
            " 60%|██████    | 451400/750000 [00:53\u003c00:25, 11703.31images/s]"
          ]
        },
        {
          "name": "stdout",
          "output_type": "stream",
          "text": [
            "\n",
            "Epoch = 15/25 (lr_mult = 1.00, loss = 0.4520989954471588) done.\n"
          ]
        },
        {
          "name": "stderr",
          "output_type": "stream",
          "text": [
            " 64%|██████▍   | 481900/750000 [00:56\u003c00:23, 11577.90images/s]"
          ]
        },
        {
          "name": "stdout",
          "output_type": "stream",
          "text": [
            "\n",
            "Epoch = 16/25 (lr_mult = 1.00, loss = 0.46710577607154846) done.\n"
          ]
        },
        {
          "name": "stderr",
          "output_type": "stream",
          "text": [
            " 68%|██████▊   | 511200/750000 [00:58\u003c00:20, 11707.29images/s]"
          ]
        },
        {
          "name": "stdout",
          "output_type": "stream",
          "text": [
            "\n",
            "Epoch = 17/25 (lr_mult = 1.00, loss = 0.4239480197429657) done.\n"
          ]
        },
        {
          "name": "stderr",
          "output_type": "stream",
          "text": [
            " 72%|███████▏  | 541700/750000 [01:01\u003c00:17, 12108.87images/s]"
          ]
        },
        {
          "name": "stdout",
          "output_type": "stream",
          "text": [
            "\n",
            "Epoch = 18/25 (lr_mult = 1.00, loss = 0.40935561060905457) done.\n"
          ]
        },
        {
          "name": "stderr",
          "output_type": "stream",
          "text": [
            " 76%|███████▌  | 571500/750000 [01:03\u003c00:15, 11730.40images/s]"
          ]
        },
        {
          "name": "stdout",
          "output_type": "stream",
          "text": [
            "\n",
            "Epoch = 19/25 (lr_mult = 1.00, loss = 0.46318596601486206) done.\n"
          ]
        },
        {
          "name": "stderr",
          "output_type": "stream",
          "text": [
            " 80%|████████  | 601400/750000 [01:06\u003c00:12, 12025.96images/s]"
          ]
        },
        {
          "name": "stdout",
          "output_type": "stream",
          "text": [
            "\n",
            "Epoch = 20/25 (lr_mult = 1.00, loss = 0.45752182602882385) done.\n"
          ]
        },
        {
          "name": "stderr",
          "output_type": "stream",
          "text": [
            " 84%|████████▍ | 632400/750000 [01:08\u003c00:09, 11889.06images/s]"
          ]
        },
        {
          "name": "stdout",
          "output_type": "stream",
          "text": [
            "\n",
            "Epoch = 21/25 (lr_mult = 1.00, loss = 0.3791620135307312) done.\n"
          ]
        },
        {
          "name": "stderr",
          "output_type": "stream",
          "text": [
            " 88%|████████▊ | 662100/750000 [01:11\u003c00:07, 11857.17images/s]"
          ]
        },
        {
          "name": "stdout",
          "output_type": "stream",
          "text": [
            "\n",
            "Epoch = 22/25 (lr_mult = 1.00, loss = 0.2888197600841522) done.\n"
          ]
        },
        {
          "name": "stderr",
          "output_type": "stream",
          "text": [
            " 92%|█████████▏| 691900/750000 [01:13\u003c00:04, 12035.37images/s]"
          ]
        },
        {
          "name": "stdout",
          "output_type": "stream",
          "text": [
            "\n",
            "Epoch = 23/25 (lr_mult = 1.00, loss = 0.4309738874435425) done.\n"
          ]
        },
        {
          "name": "stderr",
          "output_type": "stream",
          "text": [
            " 96%|█████████▌| 721800/750000 [01:16\u003c00:02, 11965.87images/s]"
          ]
        },
        {
          "name": "stdout",
          "output_type": "stream",
          "text": [
            "\n",
            "Epoch = 24/25 (lr_mult = 1.00, loss = 0.28471168875694275) done.\n"
          ]
        },
        {
          "name": "stderr",
          "output_type": "stream",
          "text": [
            "100%|██████████| 750000/750000 [01:18\u003c00:00, 9546.01images/s] "
          ]
        },
        {
          "name": "stdout",
          "output_type": "stream",
          "text": [
            "Epoch = 25/25 (lr_mult = 1.00, loss = 0.1431596875190735) done.\n"
          ]
        },
        {
          "name": "stderr",
          "output_type": "stream",
          "text": [
            "\n"
          ]
        }
      ],
      "source": [
        "import tqdm\n",
        "\n",
        "num_epochs = 25\n",
        "num_disc_steps = 2\n",
        "\n",
        "# We'll turn the step function which updates our models into a tf.function using\n",
        "# autograph. This makes training much faster. If debugging, you can turn this\n",
        "# off by setting `debug = True`.\n",
        "debug = False\n",
        "\n",
        "optimizer = GANOptimizer(gan, num_epochs=num_epochs)\n",
        "step = optimizer.step\n",
        "if not debug:\n",
        "  step = tf.function(step)\n",
        "\n",
        "train_dataset = iter(mnist_shuffled)\n",
        "num_examples = mnist_train_info.splits['train'].num_examples\n",
        "total_batch_size_per_step = batch_size * num_disc_steps\n",
        "steps_per_epoch = num_examples // total_batch_size_per_step\n",
        "\n",
        "steps_with_progress = tqdm.tqdm(range(num_epochs * steps_per_epoch),\n",
        "                                unit='images', unit_scale=batch_size,\n",
        "                                position=0)\n",
        "\n",
        "for step_num in steps_with_progress:\n",
        "  epoch = tf.constant(int(step_num / steps_per_epoch))\n",
        "  train_batches = [train_dataset.next() for _ in range(num_disc_steps)]\n",
        "  loss, lr_mult = step(train_batches, epoch)\n",
        "\n",
        "  if step_num and (step_num % steps_per_epoch == 0):\n",
        "    tqdm.tqdm.write(\n",
        "        '\\nEpoch = {}/{} (lr_mult = {:0.02f}, loss = {}) done.'.format(\n",
        "            epoch.numpy(), num_epochs, lr_mult.numpy(), loss.numpy()))\n",
        "\n",
        "print('Epoch = {}/{} (lr_mult = {:0.02f}, loss = {}) done.'.format(\n",
        "    num_epochs, num_epochs, lr_mult.numpy(), loss.numpy()))"
      ]
    },
    {
      "cell_type": "markdown",
      "metadata": {
        "colab_type": "text",
        "id": "2K0_eoR8og-G"
      },
      "source": [
        "## Evaluating the model"
      ]
    },
    {
      "cell_type": "markdown",
      "metadata": {
        "colab_type": "text",
        "id": "Cm_9RMJopgWc"
      },
      "source": [
        "Having trained our little GAN, let's check what its generated images look like now."
      ]
    },
    {
      "cell_type": "code",
      "execution_count": 15,
      "metadata": {
        "colab": {
          "base_uri": "https://localhost:8080/",
          "height": 99
        },
        "colab_type": "code",
        "id": "PM7IPcOeXtxH",
        "outputId": "4215ea70-f36a-43bd-fa9b-b232cea584ef"
      },
      "outputs": [
        {
          "data": {
            "image/png": "[encoded data removed]",
            "text/plain": [
              "\u003cFigure size 720x72 with 10 Axes\u003e"
            ]
          },
          "metadata": {
            "tags": []
          },
          "output_type": "display_data"
        }
      ],
      "source": [
        "num_images = 10\n",
        "noise = get_noise_batch(num_images)\n",
        "gen_images = gan.generate(noise)\n",
        "plt.rcParams['figure.figsize'] = (num_images, 1)\n",
        "for i in range(num_images):\n",
        "  plt.subplot(1, num_images, i+1)\n",
        "  plt.imshow(gen_images[i])"
      ]
    },
    {
      "cell_type": "markdown",
      "metadata": {
        "colab_type": "text",
        "id": "Lnkc55PtqA_I"
      },
      "source": [
        "Whew, those should already look much closer to actual handwritten digits! But there's still a ways to go. There are many potential ways to improve the results further, including (roughly in order of implementation difficulty):\n",
        "\n",
        "* Train the model for more steps (e.g., try setting `num_epochs = 100` or higher).\n",
        "* Add learning rate decay to make the step size smaller after a certain amount of time. (For example, try `optimizer = GANOptimizer(num_epochs=100, decay_lr_start_epoch=50)` to begin decaying the learning rate halfway through training.)\n",
        "* Increase the size of the model -- make it deeper (`num_layers=4`) and/or wider (`embed_dim=2048`).\n",
        "* Tweak the learning hyperparameters, such as the discriminator & generator learning rates or the training batch size.\n",
        "* Make the models **convolutional**, using `snt.Conv2D` layers to process the inputs and outputs. The generator and discriminator defined above use MLPs, which naively treat the digit images as flat vectors.\n",
        "* Make the model **conditional** on labels by feeding the digit label (e.g., \"7\") into the generator and discriminator. (See [1, 2] for some ideas on how to do this.)\n",
        "\n",
        "[1] M. Mirza and S. Osindero. [*Conditional Generative Adversarial Networks*](https://arxiv.org/abs/1411.1784). *arXiv:1411.1784*, 2014.\n",
        "\n",
        "[2] T. Miyato and M. Koyama. [*cGANs with Projection Discriminator*](https://arxiv.org/abs/1802.05637). *arXiv:1802.05637*, 2018."
      ]
    }
  ],
  "metadata": {
    "accelerator": "GPU",
    "colab": {
      "collapsed_sections": [],
      "name": "little_gan_on_mnist.ipynb",
      "provenance": [],
      "toc_visible": true
    },
    "kernelspec": {
      "display_name": "Python 3",
      "name": "python3"
    }
  },
  "nbformat": 4,
  "nbformat_minor": 0
}
