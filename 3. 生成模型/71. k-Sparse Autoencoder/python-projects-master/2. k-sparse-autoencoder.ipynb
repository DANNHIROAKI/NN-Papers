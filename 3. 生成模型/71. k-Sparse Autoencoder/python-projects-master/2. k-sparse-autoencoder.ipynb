{
 "cells": [
  {
   "cell_type": "code",
   "execution_count": 1,
   "metadata": {
    "collapsed": true
   },
   "outputs": [],
   "source": [
    "import numpy as np\n",
    "import pandas as pd\n",
    "import math\n",
    "import random\n",
    "import os\n",
    "import re\n",
    "from PIL import Image\n",
    "from scipy.misc import imresize\n",
    "from IPython.display import display\n",
    "import matplotlib.pyplot as plt\n",
    "%matplotlib inline\n",
    "import datetime\n",
    "import sys"
   ]
  },
  {
   "cell_type": "code",
   "execution_count": 2,
   "metadata": {
    "collapsed": true
   },
   "outputs": [],
   "source": [
    "def rgb2gray (rgb):\n",
    "    return np.dot (rgb[...,:3], [0.299, 0.587, 0.144])\n",
    "\n",
    "def imshow_gray (im):\n",
    "    plt.imshow (im, interpolation='nearest', cmap=plt.get_cmap ('gray'))\n",
    "    import math\n",
    "\n",
    "def sigmoid(x):\n",
    "    return 1 / (1 + math.exp(-x))"
   ]
  },
  {
   "cell_type": "markdown",
   "metadata": {},
   "source": [
    "## Q4"
   ]
  },
  {
   "cell_type": "code",
   "execution_count": 3,
   "metadata": {
    "collapsed": false
   },
   "outputs": [
    {
     "name": "stdout",
     "output_type": "stream",
     "text": [
      "Found 2778 Images.\n",
      "\n"
     ]
    }
   ],
   "source": [
    "min_rows = 32\n",
    "min_cols = 32\n",
    "d = min_rows * min_cols\n",
    "X = []\n",
    "C = []\n",
    "\n",
    "for base, dirs, files in os.walk ('Images'):\n",
    "    for filename in files:\n",
    "        name_jpeg = re.match (r'^(.*)\\.JPEG$', filename)\n",
    "        if name_jpeg:\n",
    "            filepath = os.path.join (base, filename)\n",
    "            im0 = imresize(np.asarray (Image.open(filepath, 'r')), (min_rows, min_cols))\n",
    "            if len(im0.shape) == 3:\n",
    "                im = rgb2gray (im0)\n",
    "            X.extend(np.reshape (im, (1, d)))\n",
    "            C.append(os.path.split(base)[1])\n",
    "        \n",
    "print \"Found\", len(X), \"Images.\\n\"\n",
    "X = np.asarray(X)"
   ]
  },
  {
   "cell_type": "code",
   "execution_count": 4,
   "metadata": {
    "collapsed": true
   },
   "outputs": [],
   "source": [
    "meanX = np.mean(X, axis=0)\n",
    "stdX = np.std(X, axis=0)"
   ]
  },
  {
   "cell_type": "code",
   "execution_count": 5,
   "metadata": {
    "collapsed": true
   },
   "outputs": [],
   "source": [
    "for i in range(X.shape[0]):\n",
    "    X[i] =(X[i] - meanX)/stdX"
   ]
  },
  {
   "cell_type": "code",
   "execution_count": 6,
   "metadata": {
    "collapsed": false
   },
   "outputs": [],
   "source": [
    "#Initialize W\n",
    "trainsz = (int(len(X)*0.8))\n",
    "hidsz = 30\n",
    "maxk = 5\n",
    "stepSize = 1e-9\n",
    "errList= []\n",
    "\n",
    "W = np.asarray(np.random.uniform(0,1,size = (1024, hidsz)))\n",
    "z = np.zeros((hidsz,1024))\n",
    "chosenSamps = np.random.choice(len(X), trainsz, replace=False)\n",
    "XTrain = X[chosenSamps]\n",
    "XTrain = np.transpose(XTrain)\n",
    "\n",
    "XTest = X[[i for i in range(len(X)) if i not in chosenSamps]]\n",
    "XTest = np.transpose(XTest)\n",
    "\n",
    "XTrainPred = np.zeros((1024, trainsz))\n",
    "\n",
    "maxActivations = np.zeros((maxk,trainsz))"
   ]
  },
  {
   "cell_type": "code",
   "execution_count": 98,
   "metadata": {
    "collapsed": false
   },
   "outputs": [
    {
     "name": "stdout",
     "output_type": "stream",
     "text": [
      "135876.298174 17:08:11.656000\n",
      "58059.9441771 17:12:24.645000\n",
      "37341.8514904 17:16:37.557000\n",
      "27908.0833227 17:20:52.517000\n",
      "22468.49663 17:25:05.181000\n",
      "18944.9071235 17:29:18.675000\n",
      "16467.6113393 17:33:32.177000\n",
      "14613.8143345 17:37:45.826000\n",
      "13167.7076852 17:42:00.935000\n",
      "12010.158847 17:46:13.364000\n",
      "11065.0702374 17:50:28.215000\n",
      "10281.7304521 17:54:42.189000\n",
      "9624.85440425 17:58:55.376000\n",
      "9049.31219818 18:03:07.984000\n",
      "8553.29591423 18:07:20.753000\n",
      "8118.76487669 18:11:34.415000\n",
      "7733.79663817 18:15:47.591000\n",
      "7385.5287052 18:20:01.551000\n",
      "7082.06881276 18:24:16.132000\n",
      "6803.06256701 18:28:31.461000\n"
     ]
    }
   ],
   "source": [
    "countii = 0\n",
    "errList =[]\n",
    "while countii < 10001:\n",
    "    countii += 1\n",
    "    \n",
    "    z = np.dot(np.transpose(W),XTrain)\n",
    "    #z = z - np.mean(z, axis=0)\n",
    "    \n",
    "    for j in range(z.shape[1]):\n",
    "        maxActivations[:,j] = np.argsort(z[:,j])[::-1][:maxk]\n",
    "        for i in range(hidsz):\n",
    "            if i not in maxActivations[:,j]:\n",
    "                z[i,j] = 0\n",
    "    \n",
    "    XTrainPred = np.dot(W, z)\n",
    "    #XTrainPred = XTrainPred - np.mean(XTrainPred, axis=0)\n",
    "    \n",
    "    trErrNew = np.square(XTrain - XTrainPred)\n",
    "    errList.append(np.sum(trErrNew))\n",
    "    if countii % 500 == 0:\n",
    "        print np.sum(trErrNew)/trainsz, datetime.datetime.now().time()\n",
    "        sys.stdout.flush()\n",
    "        \n",
    "    errDeriv = np.dot((XTrainPred - XTrain), np.transpose(z))\n",
    "    \n",
    "    W = W - stepSize*errDeriv"
   ]
  },
  {
   "cell_type": "code",
   "execution_count": 4,
   "metadata": {
    "collapsed": false
   },
   "outputs": [],
   "source": [
    "#np.save(\"W10000\", W)\n",
    "#np.save(\"errList10000_Q4\", errList)\n",
    "#errList = np.load(\"errList10000_Q4.npy\")"
   ]
  },
  {
   "cell_type": "code",
   "execution_count": 8,
   "metadata": {
    "collapsed": false
   },
   "outputs": [
    {
     "data": {
      "image/png": "[encoded data removed]",
      "text/plain": [
       "<matplotlib.figure.Figure at 0x99d9470>"
      ]
     },
     "metadata": {},
     "output_type": "display_data"
    }
   ],
   "source": [
    "plt.scatter(range(10001), errList);\n",
    "plt.xlabel(\"Iterations\")\n",
    "plt.ylabel(\"Training Error\");"
   ]
  },
  {
   "cell_type": "code",
   "execution_count": 102,
   "metadata": {
    "collapsed": false
   },
   "outputs": [],
   "source": [
    "zEncodedTest = np.dot(np.transpose(W),XTest)\n",
    "#XTestPred = np.dot(W, zTest)"
   ]
  },
  {
   "cell_type": "code",
   "execution_count": 103,
   "metadata": {
    "collapsed": false
   },
   "outputs": [],
   "source": [
    "CTest = [c for i,c in enumerate(C) if i not in chosenSamps]"
   ]
  },
  {
   "cell_type": "code",
   "execution_count": 104,
   "metadata": {
    "collapsed": false
   },
   "outputs": [],
   "source": [
    "from sklearn.neighbors import NearestNeighbors\n",
    "nbrs = NearestNeighbors(n_neighbors=5, algorithm='ball_tree').fit(np.transpose(zEncodedTest))\n",
    "distances, indices = nbrs.kneighbors(np.transpose(zEncodedTest))"
   ]
  },
  {
   "cell_type": "code",
   "execution_count": 105,
   "metadata": {
    "collapsed": false
   },
   "outputs": [],
   "source": [
    "CPred = CTest #Just initializing the dimensions\n",
    "from collections import Counter\n",
    "for i in range(len(indices)):\n",
    "    CPred[i] = Counter([CTest[x] for x in  indices[i,:]]).most_common(1)[0][0]"
   ]
  },
  {
   "cell_type": "code",
   "execution_count": 106,
   "metadata": {
    "collapsed": false
   },
   "outputs": [],
   "source": [
    "confuMatBoth = pd.DataFrame(data=0.0, \n",
    "index = ['Animal','Fungus'], \n",
    "columns = ['Animal','Fungus', 'Accuracy'])\n",
    "\n",
    "for i in range(len(indices)):\n",
    "    confuMatBoth[CTest[i]][CPred[i]] +=1\n",
    "\n",
    "for i in range(len(confuMatBoth)):\n",
    "    confuMatBoth.iloc[i]['Accuracy'] = confuMatBoth.iloc[i][i]/np.sum(confuMatBoth.iloc[i])"
   ]
  },
  {
   "cell_type": "code",
   "execution_count": 107,
   "metadata": {
    "collapsed": false
   },
   "outputs": [
    {
     "data": {
      "text/html": [
       "<div>\n",
       "<table border=\"1\" class=\"dataframe\">\n",
       "  <thead>\n",
       "    <tr style=\"text-align: right;\">\n",
       "      <th></th>\n",
       "      <th>Animal</th>\n",
       "      <th>Fungus</th>\n",
       "      <th>Accuracy</th>\n",
       "    </tr>\n",
       "  </thead>\n",
       "  <tbody>\n",
       "    <tr>\n",
       "      <th>Animal</th>\n",
       "      <td>372</td>\n",
       "      <td>0</td>\n",
       "      <td>1</td>\n",
       "    </tr>\n",
       "    <tr>\n",
       "      <th>Fungus</th>\n",
       "      <td>0</td>\n",
       "      <td>184</td>\n",
       "      <td>1</td>\n",
       "    </tr>\n",
       "  </tbody>\n",
       "</table>\n",
       "</div>"
      ],
      "text/plain": [
       "        Animal  Fungus  Accuracy\n",
       "Animal     372       0         1\n",
       "Fungus       0     184         1"
      ]
     },
     "execution_count": 107,
     "metadata": {},
     "output_type": "execute_result"
    }
   ],
   "source": [
    "confuMatBoth"
   ]
  },
  {
   "cell_type": "markdown",
   "metadata": {},
   "source": [
    "## Encoding error"
   ]
  },
  {
   "cell_type": "code",
   "execution_count": 108,
   "metadata": {
    "collapsed": false
   },
   "outputs": [],
   "source": [
    "#W = np.load(\"W10000.npy\")"
   ]
  },
  {
   "cell_type": "code",
   "execution_count": 109,
   "metadata": {
    "collapsed": false
   },
   "outputs": [
    {
     "name": "stdout",
     "output_type": "stream",
     "text": [
      "Encoding Error: 3.78 %\n"
     ]
    }
   ],
   "source": [
    "#Reconstruction data\n",
    "#zEncodedTest = np.dot(np.transpose(W),XTest)\n",
    "XTestPred = np.dot(W, zEncodedTest)\n",
    "print \"Encoding Error:\", \"{0:.2f}\".format(np.linalg.norm(XTestPred - XTest)/np.linalg.norm(XTest)), \"%\""
   ]
  },
  {
   "cell_type": "markdown",
   "metadata": {},
   "source": [
    "## Q5"
   ]
  },
  {
   "cell_type": "markdown",
   "metadata": {},
   "source": [
    "### Images - Animal:1571, Fungus:1207\n",
    "### Animals range(1571), Fungus range(1571, 2778)"
   ]
  },
  {
   "cell_type": "markdown",
   "metadata": {},
   "source": [
    "### Training Animal Images"
   ]
  },
  {
   "cell_type": "code",
   "execution_count": 110,
   "metadata": {
    "collapsed": false
   },
   "outputs": [],
   "source": [
    "#Initialize W\n",
    "trainsz = (int(1571*0.8))\n",
    "hidsz = 30\n",
    "maxk = 5\n",
    "WA = np.asarray(np.random.uniform(0,1,size = (1024, hidsz)))\n",
    "z = np.zeros((hidsz,1024))\n",
    "chosenSampsA = np.random.choice(range(1571), trainsz, replace=False)\n",
    "XATrain = X[chosenSampsA]\n",
    "XATrain = np.transpose(XATrain)\n",
    "\n",
    "XATest = X[[i for i in range(1571) if i not in chosenSampsA]]\n",
    "XATest = np.transpose(XATest)\n",
    "\n",
    "XATrainPred = np.zeros((1024, trainsz))\n",
    "\n",
    "maxActivations = np.zeros((maxk,trainsz))"
   ]
  },
  {
   "cell_type": "code",
   "execution_count": 111,
   "metadata": {
    "collapsed": false
   },
   "outputs": [
    {
     "name": "stdout",
     "output_type": "stream",
     "text": [
      "271253.472098 18:44:21.902000\n",
      "104410.163144 18:46:57.438000\n",
      "62570.2483696 18:49:23.948000\n",
      "44733.0726782 18:51:56.013000\n",
      "34853.0370497 18:54:27.732000\n",
      "28709.2931215 18:57:05.468000\n",
      "24492.0725022 18:59:37.744000\n",
      "21455.7773748 19:02:12.235000\n",
      "19125.2314002 19:04:58.038000\n",
      "17300.8242377 19:07:57.014000\n",
      "15834.2963315 19:10:33.912000\n",
      "14620.4573692 19:13:11.381000\n",
      "13603.9453917 19:16:03.335000\n",
      "12744.2432539 19:18:33.092000\n",
      "12010.7082096 19:21:00.655000\n",
      "11353.9487602 19:23:29.109000\n",
      "10791.0775122 19:25:53.982000\n",
      "10283.8430706 19:28:19.048000\n",
      "9829.40388044 19:30:49.365000\n",
      "9429.33011488 19:33:15.758000\n"
     ]
    }
   ],
   "source": [
    "countii = 0\n",
    "errList =[]\n",
    "while countii < 10001:\n",
    "    countii += 1\n",
    "    \n",
    "    z = np.dot(np.transpose(WA),XATrain)\n",
    "    #z = z - np.mean(z, axis=0)\n",
    "    \n",
    "    for j in range(z.shape[1]):\n",
    "        maxActivations[:,j] = np.argsort(z[:,j])[::-1][:maxk]\n",
    "        for i in range(hidsz):\n",
    "            if i not in maxActivations[:,j]:\n",
    "                z[i,j] = 0\n",
    "    \n",
    "    XATrainPred = np.dot(WA, z)\n",
    "    #XATrainPred = XATrainPred - np.mean(XATrainPred, axis=0)\n",
    "    \n",
    "    trErrNew = np.square(XATrain - XATrainPred)\n",
    "    errList.append(np.sum(trErrNew))\n",
    "    if countii % 500 == 0:\n",
    "        print np.sum(trErrNew)/trainsz, datetime.datetime.now().time()\n",
    "        sys.stdout.flush()\n",
    "        \n",
    "    errDeriv = np.dot((XATrainPred - XATrain), np.transpose(z))\n",
    "    \n",
    "    WA = WA - stepSize*errDeriv"
   ]
  },
  {
   "cell_type": "code",
   "execution_count": 9,
   "metadata": {
    "collapsed": true
   },
   "outputs": [],
   "source": [
    "#np.save(\"W10000AQ5\", WA)\n",
    "#np.save(\"errList10000A_Q5\", errList)\n",
    "#errList = np.load(\"errList10000A_Q5.npy\")"
   ]
  },
  {
   "cell_type": "code",
   "execution_count": 10,
   "metadata": {
    "collapsed": false
   },
   "outputs": [
    {
     "data": {
      "image/png": "[encoded data removed]",
      "text/plain": [
       "<matplotlib.figure.Figure at 0x9c64278>"
      ]
     },
     "metadata": {},
     "output_type": "display_data"
    }
   ],
   "source": [
    "plt.scatter(range(10001), errList);\n",
    "plt.xlabel(\"Iterations\")\n",
    "plt.ylabel(\"Training Error\");"
   ]
  },
  {
   "cell_type": "markdown",
   "metadata": {},
   "source": [
    "### Training Fungus Images"
   ]
  },
  {
   "cell_type": "code",
   "execution_count": 114,
   "metadata": {
    "collapsed": true
   },
   "outputs": [],
   "source": [
    "''#Initialize W\n",
    "trainsz = (int(1207*0.8))\n",
    "hidsz = 30\n",
    "maxk = 5\n",
    "WF = np.asarray(np.random.uniform(0,1,size = (1024, hidsz)))\n",
    "z = np.zeros((hidsz,1024))\n",
    "chosenSampsF = np.random.choice(range(1571, 2778), trainsz, replace=False)\n",
    "XFTrain = X[chosenSampsF]\n",
    "XFTrain = np.transpose(XFTrain)\n",
    "\n",
    "XFTest = X[[i for i in range(1571, 2778) if i not in chosenSampsF]]\n",
    "XFTest = np.transpose(XFTest)\n",
    "\n",
    "XFTrainPred = np.zeros((1024, trainsz))\n",
    "\n",
    "maxActivations = np.zeros((maxk,trainsz))"
   ]
  },
  {
   "cell_type": "code",
   "execution_count": 115,
   "metadata": {
    "collapsed": false
   },
   "outputs": [
    {
     "name": "stdout",
     "output_type": "stream",
     "text": [
      "728990.727503 19:35:09.307000\n",
      "245680.156788 19:37:01.118000\n",
      "135600.261799 19:38:56.944000\n",
      "90771.7132129 19:40:49.289000\n",
      "67805.4373205 19:42:42.652000\n",
      "53753.4347897 19:44:37.836000\n",
      "44897.3493422 19:46:32.206000\n",
      "38432.9419099 19:48:24.734000\n",
      "33637.4243216 19:50:17.268000\n",
      "30184.7782513 19:52:10.177000\n",
      "27353.873276 19:54:04.357000\n",
      "24921.9798185 19:55:57.105000\n",
      "22860.9806883 19:57:52.345000\n",
      "21252.5470586 19:59:55.647000\n",
      "19823.9473147 20:01:56.683000\n",
      "18646.0212065 20:04:03.880000\n",
      "17575.5287135 20:05:56.656000\n",
      "16644.0932013 20:07:49.899000\n",
      "15784.1072048 20:09:43.236000\n",
      "15056.15778 20:11:45.396000\n"
     ]
    }
   ],
   "source": [
    "countii = 0\n",
    "errList =[]\n",
    "while countii < 10001:\n",
    "    countii += 1\n",
    "    \n",
    "    z = np.dot(np.transpose(WF),XFTrain)\n",
    "    #z = z - np.mean(z, axis=0)\n",
    "    \n",
    "    for j in range(z.shape[1]):\n",
    "        maxActivations[:,j] = np.argsort(z[:,j])[::-1][:maxk]\n",
    "        for i in range(hidsz):\n",
    "            if i not in maxActivations[:,j]:\n",
    "                z[i,j] = 0\n",
    "    \n",
    "    XFTrainPred = np.dot(WF, z)\n",
    "    #XFTrainPred = XFTrainPred - np.mean(XFTrainPred, axis=0)\n",
    "    \n",
    "    trErrNew = np.square(XFTrain - XFTrainPred)\n",
    "    errList.append(np.sum(trErrNew))\n",
    "    if countii % 500 == 0:\n",
    "        print np.sum(trErrNew)/trainsz, datetime.datetime.now().time()\n",
    "        sys.stdout.flush()\n",
    "        \n",
    "    errDeriv = np.dot((XFTrainPred - XFTrain), np.transpose(z))\n",
    "    \n",
    "    WF = WF - stepSize*errDeriv"
   ]
  },
  {
   "cell_type": "code",
   "execution_count": 11,
   "metadata": {
    "collapsed": true
   },
   "outputs": [],
   "source": [
    "#np.save(\"W10000FQ5\", WF)\n",
    "#np.save(\"errList10000F_Q5\", errList)\n",
    "#errList = np.load(\"errList10000F_Q5.npy\")"
   ]
  },
  {
   "cell_type": "code",
   "execution_count": 12,
   "metadata": {
    "collapsed": false
   },
   "outputs": [
    {
     "data": {
      "image/png": "[encoded data removed]",
      "text/plain": [
       "<matplotlib.figure.Figure at 0x9ea02b0>"
      ]
     },
     "metadata": {},
     "output_type": "display_data"
    }
   ],
   "source": [
    "plt.scatter(range(10001), errList);\n",
    "plt.xlabel(\"Iterations\")\n",
    "plt.ylabel(\"Training Error\");"
   ]
  },
  {
   "cell_type": "code",
   "execution_count": 118,
   "metadata": {
    "collapsed": false
   },
   "outputs": [],
   "source": [
    "zAFEncodedTest = np.transpose(np.concatenate((np.transpose(np.dot(np.transpose(WA),XATest)), \n",
    "                                              np.transpose(np.dot(np.transpose(WF),XFTest)))))"
   ]
  },
  {
   "cell_type": "code",
   "execution_count": 119,
   "metadata": {
    "collapsed": true
   },
   "outputs": [],
   "source": [
    "CAFTest = [c for i,c in enumerate(C) if (i not in chosenSampsA) and (i not in chosenSampsF)]\n",
    "nbrs = NearestNeighbors(n_neighbors=5, algorithm='ball_tree').fit(np.transpose(zAFEncodedTest))\n",
    "distances, indices = nbrs.kneighbors(np.transpose(zAFEncodedTest))"
   ]
  },
  {
   "cell_type": "code",
   "execution_count": 120,
   "metadata": {
    "collapsed": true
   },
   "outputs": [],
   "source": [
    "CAFPred = CAFTest #Init the dimensions\n",
    "from collections import Counter\n",
    "for i in range(len(indices)):\n",
    "    CAFPred[i] = Counter([CAFTest[x] for x in  indices[i,:]]).most_common(1)[0][0]"
   ]
  },
  {
   "cell_type": "code",
   "execution_count": 121,
   "metadata": {
    "collapsed": true
   },
   "outputs": [],
   "source": [
    "confuMatIndiv = pd.DataFrame(data=0.0, \n",
    "index = ['Animal','Fungus'], \n",
    "columns = ['Animal','Fungus', 'Accuracy'])\n",
    "\n",
    "for i in range(len(indices)):\n",
    "    confuMatIndiv[CAFTest[i]][CAFPred[i]] +=1\n",
    "\n",
    "for i in range(len(confuMatBoth)):\n",
    "    confuMatIndiv.iloc[i]['Accuracy'] = confuMatIndiv.iloc[i][i]/np.sum(confuMatIndiv.iloc[i])"
   ]
  },
  {
   "cell_type": "code",
   "execution_count": 122,
   "metadata": {
    "collapsed": false
   },
   "outputs": [
    {
     "data": {
      "text/html": [
       "<div>\n",
       "<table border=\"1\" class=\"dataframe\">\n",
       "  <thead>\n",
       "    <tr style=\"text-align: right;\">\n",
       "      <th></th>\n",
       "      <th>Animal</th>\n",
       "      <th>Fungus</th>\n",
       "      <th>Accuracy</th>\n",
       "    </tr>\n",
       "  </thead>\n",
       "  <tbody>\n",
       "    <tr>\n",
       "      <th>Animal</th>\n",
       "      <td>407</td>\n",
       "      <td>0</td>\n",
       "      <td>1</td>\n",
       "    </tr>\n",
       "    <tr>\n",
       "      <th>Fungus</th>\n",
       "      <td>0</td>\n",
       "      <td>150</td>\n",
       "      <td>1</td>\n",
       "    </tr>\n",
       "  </tbody>\n",
       "</table>\n",
       "</div>"
      ],
      "text/plain": [
       "        Animal  Fungus  Accuracy\n",
       "Animal     407       0         1\n",
       "Fungus       0     150         1"
      ]
     },
     "execution_count": 122,
     "metadata": {},
     "output_type": "execute_result"
    }
   ],
   "source": [
    "confuMatIndiv"
   ]
  },
  {
   "cell_type": "code",
   "execution_count": 123,
   "metadata": {
    "collapsed": false
   },
   "outputs": [],
   "source": [
    "#WA = np.load(\"W10000AQ5.npy\")\n",
    "#WF = np.load(\"W10000FQ5.npy\")\n",
    "zAEncodedTest = np.dot(np.transpose(WA),XATest)\n",
    "zFEncodedTest = np.dot(np.transpose(WF),XFTest)"
   ]
  },
  {
   "cell_type": "code",
   "execution_count": 124,
   "metadata": {
    "collapsed": false
   },
   "outputs": [
    {
     "name": "stdout",
     "output_type": "stream",
     "text": [
      "Encoding Error Animal: 3.85 %\n",
      "Encoding Error Fungus: 9.33 %\n"
     ]
    }
   ],
   "source": [
    "#Reconstruction data\n",
    "XATestPred = np.dot(WA, zAEncodedTest)\n",
    "print \"Encoding Error Animal:\", \"{0:.2f}\".format(np.linalg.norm(XATestPred - XATest)/np.linalg.norm(XATest)), \"%\"\n",
    "\n",
    "XFTestPred = np.dot(WF, zFEncodedTest)\n",
    "print \"Encoding Error Fungus:\", \"{0:.2f}\".format(np.linalg.norm(XFTestPred - XFTest)/np.linalg.norm(XFTest)), \"%\""
   ]
  },
  {
   "cell_type": "markdown",
   "metadata": {},
   "source": [
    "## Q6"
   ]
  },
  {
   "cell_type": "markdown",
   "metadata": {},
   "source": [
    "#### As seen in the two confusion matrices above, when the encoded matrix is classified with 5NN, the classification error is zero when animal and fungus images are trained together. Classification error is also zero, when the images are trained individually.\n",
    "#### Reconstruction error for encoding is slightly lower when the Animal and Fungus images are trained together. The error for Fungus images is higher than the Animal images"
   ]
  },
  {
   "cell_type": "markdown",
   "metadata": {
    "collapsed": true
   },
   "source": [
    "## Hyperparamete tuning - observing encoding error for different values of sparsity - k"
   ]
  },
  {
   "cell_type": "code",
   "execution_count": 7,
   "metadata": {
    "collapsed": false
   },
   "outputs": [],
   "source": [
    "#Function to train the autoencoder\n",
    "def train_w(maxk, iters):\n",
    "    countii = 0\n",
    "    errList =[]\n",
    "    z = np.zeros((hidsz,1024))\n",
    "    maxActivations = np.zeros((maxk,trainsz))\n",
    "    XTrainPred = np.zeros((1024, trainsz))\n",
    "    W = np.asarray(np.random.uniform(0,1,size = (1024, hidsz)))\n",
    "    \n",
    "    while countii < iters:\n",
    "        countii += 1\n",
    "\n",
    "        z = np.dot(np.transpose(W),XTrain)\n",
    "        #z = z - np.mean(z, axis=0)\n",
    "\n",
    "        for j in range(z.shape[1]):\n",
    "            maxActivations[:,j] = np.argsort(z[:,j])[::-1][:maxk]\n",
    "            for i in range(hidsz):\n",
    "                if i not in maxActivations[:,j]:\n",
    "                    z[i,j] = 0\n",
    "\n",
    "        XTrainPred = np.dot(W, z)\n",
    "        #XTrainPred = XTrainPred - np.mean(XTrainPred, axis=0)\n",
    "\n",
    "        trErrNew = np.square(XTrain - XTrainPred)\n",
    "        errList.append(np.sum(trErrNew))\n",
    "        if countii % 500 == 0:\n",
    "            print countii, \" Error:\", np.sum(trErrNew)/trainsz, \"k:\", maxk, datetime.datetime.now().time()\n",
    "            sys.stdout.flush()\n",
    "\n",
    "        errDeriv = np.dot((XTrainPred - XTrain), np.transpose(z))\n",
    "\n",
    "        W = W - stepSize*errDeriv\n",
    "    return W, errList"
   ]
  },
  {
   "cell_type": "code",
   "execution_count": 10,
   "metadata": {
    "collapsed": false
   },
   "outputs": [
    {
     "name": "stdout",
     "output_type": "stream",
     "text": [
      "500  Error: 469577.0264 k: 2 15:23:40.077000\n",
      "1000  Error: 147637.834357 k: 2 15:27:37.691000\n",
      "1500  Error: 74536.6904621 k: 2 15:31:29.784000\n",
      "2000  Error: 46089.4182093 k: 2 15:35:17.188000\n",
      "Encoding Error for k: 2 86.74 %\n",
      "500  Error: 254064.841209 k: 3 15:39:04.435000\n",
      "1000  Error: 85492.5709259 k: 3 15:42:58.226000\n",
      "1500  Error: 46764.4493236 k: 3 15:47:09.188000\n",
      "2000  Error: 31213.2783408 k: 3 15:51:29.493000\n",
      "Encoding Error for k: 3 31.94 %\n",
      "500  Error: 174355.228972 k: 4 15:55:50.514000\n",
      "1000  Error: 65956.5031396 k: 4 15:59:47.146000\n",
      "1500  Error: 39346.9823689 k: 4 16:03:31.723000\n",
      "2000  Error: 28131.7031582 k: 4 16:07:14.233000\n",
      "Encoding Error for k: 4 15.40 %\n",
      "500  Error: 135263.4327 k: 5 16:10:57.480000\n",
      "1000  Error: 57317.5509482 k: 5 16:14:39.404000\n",
      "1500  Error: 36716.0015635 k: 5 16:18:21.943000\n",
      "2000  Error: 27404.8886257 k: 5 16:22:04.328000\n",
      "Encoding Error for k: 5 9.78 %\n",
      "500  Error: 114044.469568 k: 6 16:25:46.467000\n",
      "1000  Error: 52872.4804446 k: 6 16:29:28.283000\n",
      "1500  Error: 35335.5217257 k: 6 16:33:10.453000\n",
      "2000  Error: 26951.7789393 k: 6 16:36:58.278000\n",
      "Encoding Error for k: 6 7.58 %\n",
      "500  Error: 96829.3651713 k: 7 16:40:41.833000\n",
      "1000  Error: 46807.9994247 k: 7 16:44:24.189000\n",
      "1500  Error: 32322.151458 k: 7 16:48:07.218000\n",
      "2000  Error: 25289.3203011 k: 7 16:51:51.808000\n",
      "Encoding Error for k: 7 6.80 %\n",
      "500  Error: 91175.8091937 k: 8 16:55:34.006000\n",
      "1000  Error: 46631.4932825 k: 8 16:59:15.505000\n",
      "1500  Error: 33052.2726617 k: 8 17:02:57.621000\n",
      "2000  Error: 26360.3422391 k: 8 17:06:39.027000\n",
      "Encoding Error for k: 8 7.05 %\n",
      "500  Error: 83569.0226613 k: 9 17:10:21.583000\n",
      "1000  Error: 44155.9004828 k: 9 17:14:03.735000\n",
      "1500  Error: 31923.7250171 k: 9 17:17:45.912000\n",
      "2000  Error: 25852.3229866 k: 9 17:21:28.238000\n",
      "Encoding Error for k: 9 6.93 %\n",
      "500  Error: 78302.1725398 k: 10 17:25:09.233000\n",
      "1000  Error: 42799.1448194 k: 10 17:28:49.414000\n",
      "1500  Error: 31673.006046 k: 10 17:32:30.308000\n",
      "2000  Error: 26041.4617832 k: 10 17:36:13.028000\n",
      "Encoding Error for k: 10 7.05 %\n",
      "500  Error: 72995.4007185 k: 11 17:39:54.383000\n",
      "1000  Error: 41532.6495288 k: 11 17:43:34.844000\n",
      "1500  Error: 31437.4087432 k: 11 17:47:15.573000\n",
      "2000  Error: 26265.1108255 k: 11 17:50:56.326000\n",
      "Encoding Error for k: 11 7.37 %\n",
      "500  Error: 67900.8279161 k: 12 17:54:37.949000\n",
      "1000  Error: 39993.7071473 k: 12 17:58:18.744000\n",
      "1500  Error: 30918.9256358 k: 12 18:01:59.595000\n",
      "2000  Error: 26184.1652758 k: 12 18:05:39.197000\n",
      "Encoding Error for k: 12 7.61 %\n",
      "500  Error: 65231.2966485 k: 13 18:09:19.093000\n",
      "1000  Error: 40011.1553413 k: 13 18:12:59.707000\n",
      "1500  Error: 31551.5157165 k: 13 18:16:39.390000\n",
      "2000  Error: 27046.5103386 k: 13 18:20:19.279000\n",
      "Encoding Error for k: 13 7.93 %\n",
      "500  Error: 63802.5530555 k: 14 18:24:01.973000\n",
      "1000  Error: 40493.990077 k: 14 18:27:42.454000\n",
      "1500  Error: 32432.9466812 k: 14 18:31:22.039000\n",
      "2000  Error: 28039.2232885 k: 14 18:35:01.633000\n",
      "Encoding Error for k: 14 8.17 %\n"
     ]
    }
   ],
   "source": [
    "#Initialize frixed parameters\n",
    "trainsz = (int(len(X)*0.8))\n",
    "hidsz = 30\n",
    "stepSize = 1e-9\n",
    "encErrList = []\n",
    "\n",
    "#Run iterations\n",
    "for maxk in range(2,15):\n",
    "    chosenSamps = np.random.choice(len(X), trainsz, replace=False)\n",
    "    XTrain = X[chosenSamps]\n",
    "    XTrain = np.transpose(XTrain)\n",
    "    XTest = X[[i for i in range(len(X)) if i not in chosenSamps]]\n",
    "    XTest = np.transpose(XTest)\n",
    "    \n",
    "    W, errList = train_w(maxk, 2001)\n",
    "    zEncodedTest = np.dot(np.transpose(W),XTest)\n",
    "    XTestPred = np.dot(W, zEncodedTest)\n",
    "    encErr = \"{0:.2f}\".format(np.linalg.norm(XTestPred - XTest)/np.linalg.norm(XTest))\n",
    "    encErrList.append(encErr)\n",
    "    print \"Encoding Error for k:\", maxk, encErr, \"%\""
   ]
  },
  {
   "cell_type": "code",
   "execution_count": 12,
   "metadata": {
    "collapsed": false
   },
   "outputs": [
    {
     "data": {
      "text/plain": [
       "<matplotlib.text.Text at 0xb5d0c88>"
      ]
     },
     "execution_count": 12,
     "metadata": {},
     "output_type": "execute_result"
    },
    {
     "data": {
      "image/png": "[encoded data removed]",
      "text/plain": [
       "<matplotlib.figure.Figure at 0xb5aab70>"
      ]
     },
     "metadata": {},
     "output_type": "display_data"
    }
   ],
   "source": [
    "plt.plot(range(2,15), encErrList);\n",
    "plt.xlabel('Sparsity factor k')\n",
    "plt.ylabel('Test Error')"
   ]
  },
  {
   "cell_type": "code",
   "execution_count": null,
   "metadata": {
    "collapsed": true
   },
   "outputs": [],
   "source": []
  }
 ],
 "metadata": {
  "kernelspec": {
   "display_name": "Python 2",
   "language": "python",
   "name": "python2"
  },
  "language_info": {
   "codemirror_mode": {
    "name": "ipython",
    "version": 2
   },
   "file_extension": ".py",
   "mimetype": "text/x-python",
   "name": "python",
   "nbconvert_exporter": "python",
   "pygments_lexer": "ipython2",
   "version": "2.7.11"
  }
 },
 "nbformat": 4,
 "nbformat_minor": 0
}
