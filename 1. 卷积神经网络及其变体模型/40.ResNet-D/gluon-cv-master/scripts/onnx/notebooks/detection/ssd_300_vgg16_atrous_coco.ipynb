{
 "cells": [
  {
   "cell_type": "markdown",
   "metadata": {},
   "source": [
    "<a href=\"https://colab.research.google.com/github/dmlc/gluon-cv/blob/onnx/scripts/onnx/notebooks/detection/ssd_300_vgg16_atrous_coco.ipynb\" target=\"_parent\"><img src=\"https://colab.research.google.com/assets/colab-badge.svg\" alt=\"Open In Colab\"/></a>"
   ]
  },
  {
   "cell_type": "code",
   "execution_count": null,
   "metadata": {},
   "outputs": [],
   "source": [
    "!pip3 install --upgrade onnxruntime"
   ]
  },
  {
   "cell_type": "code",
   "execution_count": null,
   "metadata": {},
   "outputs": [],
   "source": [
    "\n",
    "import numpy as np\n",
    "import onnxruntime as rt\n",
    "import urllib.request\n",
    "import os.path\n",
    "from PIL import Image\n",
    "    "
   ]
  },
  {
   "cell_type": "code",
   "execution_count": null,
   "metadata": {},
   "outputs": [],
   "source": [
    "\n",
    "def fetch_model():\n",
    "    if not os.path.isfile(\"ssd_300_vgg16_atrous_coco.onnx\"):\n",
    "        urllib.request.urlretrieve(\"https://apache-mxnet.s3-us-west-2.amazonaws.com/onnx/models/gluoncv-ssd_300_vgg16_atrous_coco-3b342aa3.onnx\", filename=\"ssd_300_vgg16_atrous_coco.onnx\")\n",
    "    return \"ssd_300_vgg16_atrous_coco.onnx\"\n",
    "\n",
    "def prepare_img(img_path, input_shape):\n",
    "    # input_shape: BHWC\n",
    "    height, width = input_shape[1], input_shape[2]\n",
    "    img = Image.open(img_path).convert('RGB')\n",
    "    img = img.resize((width, height))\n",
    "    img = np.asarray(img)\n",
    "    plt_img = img\n",
    "    img = np.expand_dims(img, axis=0).astype('float32')\n",
    "\n",
    "    return plt_img, img\n",
    "    "
   ]
  },
  {
   "cell_type": "markdown",
   "metadata": {},
   "source": [
    "**Make sure to replace the image you want to use**"
   ]
  },
  {
   "cell_type": "code",
   "execution_count": null,
   "metadata": {},
   "outputs": [],
   "source": [
    "\n",
    "model = fetch_model()\n",
    "img_path = \"Your image\"\n",
    "plt_img, img = prepare_img(img_path, (1, 300, 300, 3))\n",
    "    "
   ]
  },
  {
   "cell_type": "code",
   "execution_count": null,
   "metadata": {},
   "outputs": [],
   "source": [
    "\n",
    "# Create a onnx inference session and get the input name\n",
    "onnx_session = rt.InferenceSession(model, None)\n",
    "input_name = onnx_session.get_inputs()[0].name    \n",
    "    "
   ]
  },
  {
   "cell_type": "code",
   "execution_count": null,
   "metadata": {},
   "outputs": [],
   "source": [
    "\n",
    "# Make prediction\n",
    "class_IDs, scores, bounding_boxes = onnx_session.run([], {input_name: img})\n"
   ]
  },
  {
   "cell_type": "markdown",
   "metadata": {},
   "source": [
    "\n",
    "(Optional) We use mxnet and gluoncv to visualize the result.\n",
    "\n",
    "Feel free to visualize the result your own way\n"
   ]
  },
  {
   "cell_type": "code",
   "execution_count": null,
   "metadata": {},
   "outputs": [],
   "source": [
    "!pip3 install --upgrade mxnet gluoncv"
   ]
  },
  {
   "cell_type": "code",
   "execution_count": null,
   "metadata": {},
   "outputs": [],
   "source": [
    "\n",
    "def prepare_label():\n",
    "    from gluoncv.data import COCODetection\n",
    "    return COCODetection.CLASSES\n",
    "    \n",
    "from gluoncv import utils\n",
    "from matplotlib import pyplot as plt\n",
    "\n",
    "labels = prepare_label()\n",
    "# Plot the result\n",
    "ax = utils.viz.plot_bbox(plt_img, bounding_boxes[0], scores[0],\n",
    "                         class_IDs[0], class_names=labels)\n",
    "plt.show()\n",
    "    "
   ]
  }
 ],
 "metadata": {},
 "nbformat": 4,
 "nbformat_minor": 4
}
