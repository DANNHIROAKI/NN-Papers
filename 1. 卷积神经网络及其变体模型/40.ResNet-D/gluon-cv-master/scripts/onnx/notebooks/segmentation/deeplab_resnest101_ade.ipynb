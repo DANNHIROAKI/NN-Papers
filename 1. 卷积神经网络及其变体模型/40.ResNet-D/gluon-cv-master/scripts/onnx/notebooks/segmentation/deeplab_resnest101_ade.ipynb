{
 "cells": [
  {
   "cell_type": "markdown",
   "metadata": {},
   "source": [
    "<a href=\"https://colab.research.google.com/github/dmlc/gluon-cv/blob/onnx/scripts/onnx/notebooks/segmentation/deeplab_resnest101_ade.ipynb\" target=\"_parent\"><img src=\"https://colab.research.google.com/assets/colab-badge.svg\" alt=\"Open In Colab\"/></a>"
   ]
  },
  {
   "cell_type": "code",
   "execution_count": null,
   "metadata": {},
   "outputs": [],
   "source": [
    "!pip3 install --upgrade onnxruntime"
   ]
  },
  {
   "cell_type": "code",
   "execution_count": null,
   "metadata": {},
   "outputs": [],
   "source": [
    "\n",
    "import numpy as np\n",
    "import onnxruntime as rt\n",
    "import urllib.request\n",
    "import os.path\n",
    "from PIL import Image\n",
    "    "
   ]
  },
  {
   "cell_type": "code",
   "execution_count": null,
   "metadata": {},
   "outputs": [],
   "source": [
    "\n",
    "def fetch_model():\n",
    "    if not os.path.isfile(\"deeplab_resnest101_ade.onnx\"):\n",
    "        urllib.request.urlretrieve(\"https://apache-mxnet.s3-us-west-2.amazonaws.com/onnx/models/gluoncv-deeplab_resnest101_ade-59566dba.onnx\", filename=\"deeplab_resnest101_ade.onnx\")\n",
    "    return \"deeplab_resnest101_ade.onnx\"\n",
    "\n",
    "def prepare_img(img_path, input_shape):\n",
    "    # input_shape: BHWC\n",
    "    height, width = input_shape[1], input_shape[2]\n",
    "    img = Image.open(img_path).convert('RGB')\n",
    "    img = img.resize((width, height))\n",
    "    img = np.asarray(img)\n",
    "    plt_img = img\n",
    "    img = np.expand_dims(img, axis=0).astype('float32')\n",
    "\n",
    "    return plt_img, img\n",
    "    "
   ]
  },
  {
   "cell_type": "markdown",
   "metadata": {},
   "source": [
    "**Make sure to replace the image you want to use**"
   ]
  },
  {
   "cell_type": "code",
   "execution_count": null,
   "metadata": {},
   "outputs": [],
   "source": [
    "\n",
    "model = fetch_model()\n",
    "img_path = 'Your image'\n",
    "plt_img, img = prepare_img(img_path, (1, 480, 480, 3))\n",
    "    "
   ]
  },
  {
   "cell_type": "code",
   "execution_count": null,
   "metadata": {},
   "outputs": [],
   "source": [
    "\n",
    "# Create a onnx inference session and get the input name\n",
    "onnx_session = rt.InferenceSession(model, None)\n",
    "input_name = onnx_session.get_inputs()[0].name    \n",
    "    "
   ]
  },
  {
   "cell_type": "code",
   "execution_count": null,
   "metadata": {},
   "outputs": [],
   "source": [
    "\n",
    "raw_result = onnx_session.run([], {input_name: img})[0]\n",
    "    "
   ]
  },
  {
   "cell_type": "markdown",
   "metadata": {},
   "source": [
    "\n",
    "(Optional) We use mxnet and gluoncv to visualize the result.\n",
    "\n",
    "Feel free to visualize the result your own way\n"
   ]
  },
  {
   "cell_type": "code",
   "execution_count": null,
   "metadata": {},
   "outputs": [],
   "source": [
    "!pip3 install --upgrade mxnet gluoncv"
   ]
  },
  {
   "cell_type": "code",
   "execution_count": null,
   "metadata": {},
   "outputs": [],
   "source": [
    "\n",
    "import mxnet as mx\n",
    "from gluoncv import utils\n",
    "from matplotlib import pyplot as plt\n",
    "from gluoncv.utils.viz import get_color_pallete\n",
    "    \n",
    "# Make prediction\n",
    "predict = mx.nd.squeeze(mx.nd.argmax(mx.nd.array(raw_result), 1)).asnumpy()\n",
    "mask = get_color_pallete(predict, 'ade20k')\n",
    "mask.save('output.png')\n",
    "    "
   ]
  },
  {
   "cell_type": "code",
   "execution_count": null,
   "metadata": {},
   "outputs": [],
   "source": [
    "\n",
    "# Plot the result\n",
    "plt.imshow(mask)\n",
    "plt.show()\n",
    "    "
   ]
  }
 ],
 "metadata": {},
 "nbformat": 4,
 "nbformat_minor": 4
}
