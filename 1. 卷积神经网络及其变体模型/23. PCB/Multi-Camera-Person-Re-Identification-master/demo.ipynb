{
  "nbformat": 4,
  "nbformat_minor": 2,
  "metadata": {
    "accelerator": "GPU",
    "colab": {
      "name": "Colab demo.ipynb",
      "provenance": [],
      "collapsed_sections": [],
      "include_colab_link": true
    },
    "kernelspec": {
      "display_name": "Python 3",
      "name": "python3"
    },
    "language_info": {}
  },
  "cells": [
    {
      "cell_type": "markdown",
      "source": [
        "<a href=\"https://colab.research.google.com/github/SurajDonthi/Multi-Camera-Person-Re-Identification/blob/master/demo.ipynb\" target=\"_parent\"><img src=\"https://colab.research.google.com/assets/colab-badge.svg\" alt=\"Open In Colab\"/></a>"
      ],
      "metadata": {
        "id": "view-in-github",
        "colab_type": "text"
      }
    },
    {
      "cell_type": "code",
      "execution_count": null,
      "source": [
        "#@title Setup Project, Environment & Data\r\n",
        "\r\n",
        "# ========================================================= PROJECT SETUP =========================================================\r\n",
        "# Clone Repo\r\n",
        "!git clone --quiet https://github.com/SurajDonthi/MTMCT-Person-Re-Identification.git\r\n",
        "%cd ./MTMCT-Person-Re-Identification/\r\n",
        "!pip3 install --quiet -r requirements.txt\r\n",
        "\r\n",
        "# ++++++++++++++++++++++++ D A T A   D O W N L O A D ++++++++++++++++++++++++\r\n",
        "\r\n",
        "# Download Market-1501 Dataset\r\n",
        "!wget --load-cookies /tmp/cookies.txt \"https://docs.google.com/uc?export=download&confirm=$(wget --quiet --save-cookies /tmp/cookies.txt --keep-session-cookies --no-check-certificate 'https://docs.google.com/uc?export=download&id=1ozb7D2cvc-TKVlLVCdYNWmTgZzEvNT4R' -O- | sed -rn 's/.*confirm=([0-9A-Za-z_]+).*/\\1\\n/p')&id=1ozb7D2cvc-TKVlLVCdYNWmTgZzEvNT4R\" -O ../market\\ 1501.zip && rm -rf /tmp/cookies.txt\r\n",
        "\r\n",
        "# Extract Market Dataset\r\n",
        "!unzip -qq ../market\\ 1501.zip -d ./data/raw/\r\n",
        "# Data Cleaning - Fix file names\r\n",
        "!find ./data/raw/Market-1501-v15.09.15 -name \"*.jpg.jpg\" -exec rename -v 's/\\.jpg.jpg$/\\.jpg/i' {} \\;\r\n",
        "\r\n",
        "# ++++++++++++++++++++++++++++++++++++++++++++++++++++++++++++++++++++++++++++\r\n",
        "\r\n",
        "# ================================================================================================================================="
      ],
      "outputs": [],
      "metadata": {
        "id": "2MxchW5N4jXn"
      }
    },
    {
      "cell_type": "code",
      "execution_count": null,
      "source": [
        "import os\r\n",
        "from argparse import Namespace\r\n",
        "\r\n",
        "from pathlib import Path\r\n",
        "from pytorch_lightning import Trainer\r\n",
        "from pytorch_lightning.callbacks.model_checkpoint import ModelCheckpoint\r\n",
        "# from pytorch_lightning.profiler import AdvancedProfiler\r\n",
        "from pytorch_lightning.loggers.tensorboard import TensorBoardLogger\r\n",
        "from pytorch_lightning.loggers.test_tube import TestTubeLogger\r\n",
        "\r\n",
        "from mtmct_reid.data import ReIDDataModule\r\n",
        "from mtmct_reid.engine import ST_ReID\r\n",
        "from mtmct_reid.utils import save_args\r\n",
        "\r\n",
        "import warnings\r\n",
        "\r\n",
        "warnings.filterwarnings('ignore')"
      ],
      "outputs": [],
      "metadata": {
        "id": "UAkgIOSXbiuM"
      }
    },
    {
      "cell_type": "markdown",
      "source": [
        "# Training"
      ],
      "metadata": {
        "id": "fkpp6btynLje"
      }
    },
    {
      "cell_type": "code",
      "execution_count": null,
      "source": [
        "%load_ext tensorboard\r\n",
        "%tensorboard --logdir logs/"
      ],
      "outputs": [],
      "metadata": {
        "id": "GZGJYhoum2Jc"
      }
    },
    {
      "cell_type": "code",
      "execution_count": null,
      "source": [
        "args = dict(\r\n",
        "    description = \"Training and Predicting on Market-1501 Dataset\",\r\n",
        "    data_dir = \"data/raw/Market-1501-v15.09.15\",\r\n",
        "    dataset = \"market\",\r\n",
        "    log_path = \"logs/\",\r\n",
        "\r\n",
        "    learning_rate = 0.1,\r\n",
        "    criterion = \"cross_entropy\",\r\n",
        "    rerank = False,\r\n",
        "    # random_erasing = True,\r\n",
        "    # color_jitter = True,\r\n",
        "\r\n",
        "    gpus = 1,\r\n",
        "    max_epochs = 60,\r\n",
        "    precision = 16,\r\n",
        "    train_batchsize = 64,\r\n",
        "    val_batchsize = 64,\r\n",
        "    test_batchsize = 64,\r\n",
        "    limit_val_batches = 1,\r\n",
        "    profiler = True,\r\n",
        "    progress_bar_refresh_rate = 20\r\n",
        ")\r\n",
        "\r\n",
        "args = Namespace(**args)"
      ],
      "outputs": [],
      "metadata": {
        "id": "r5TCS_ejbxeM"
      }
    },
    {
      "cell_type": "code",
      "execution_count": null,
      "source": [
        "tt_logger = TestTubeLogger(save_dir=args.log_path, name=\"\",\r\n",
        "                            description=args.description,\r\n",
        "                            )\r\n",
        "\r\n",
        "log_dir = Path(tt_logger.save_dir) / f\"version_{tt_logger.version}\"\r\n",
        "\r\n",
        "checkpoint_dir = log_dir / \"checkpoints\"\r\n",
        "os.makedirs(checkpoint_dir, exist_ok=True)\r\n",
        "chkpt_callback = ModelCheckpoint(checkpoint_dir,\r\n",
        "                                    monitor='Loss/val_loss/dataloader_idx_2',   # Pytorch-lightning appends extra path\r\n",
        "                                    save_last=True,\r\n",
        "                                    mode='min',\r\n",
        "                                    save_top_k=10,\r\n",
        "                                    )\r\n",
        "\r\n",
        "data_module = ReIDDataModule.from_argparse_args(args)\r\n",
        "\r\n",
        "model = ST_ReID(data_module.num_classes, learning_rate=args.learning_rate,\r\n",
        "                criterion=args.criterion, rerank=args.rerank)\r\n",
        "\r\n",
        "save_args(args, log_dir)\r\n",
        "\r\n",
        "trainer = Trainer.from_argparse_args(args, logger=[tt_logger],\r\n",
        "                                        checkpoint_callback=chkpt_callback,\r\n",
        "                                        profiler=True)  # AdvancedProfiler()\r\n",
        "\r\n",
        "# \r\n",
        "trainer.fit(model, data_module)"
      ],
      "outputs": [],
      "metadata": {
        "id": "HmFXmbJF5zPh"
      }
    },
    {
      "cell_type": "markdown",
      "source": [
        "# Testing/Evaluation\n",
        "\n",
        "Use the model to predict matches from other cameras."
      ],
      "metadata": {
        "id": "TjRrg-CUm2B-"
      }
    },
    {
      "cell_type": "code",
      "execution_count": null,
      "source": [
        "# Testing the loss & accuracy of the model\n",
        "trainer.test(model)"
      ],
      "outputs": [],
      "metadata": {
        "id": "Osz2gI43m11l"
      }
    },
    {
      "cell_type": "markdown",
      "source": [
        "# Save the results"
      ],
      "metadata": {
        "id": "-mSZQsqhm1vK"
      }
    },
    {
      "cell_type": "code",
      "execution_count": null,
      "source": [
        "!zip -r /content/experiment_results.zip /content/MTMCT-Person-Re-Identification/logs\n",
        "from google.colab import files\n",
        "files.download(\"/content/experiment_results.zip\")"
      ],
      "outputs": [],
      "metadata": {
        "id": "V0xdn_xim1ol"
      }
    }
  ]
}