{
  "nbformat": 4,
  "nbformat_minor": 0,
  "metadata": {
    "colab": {
      "name": "guide_for_new_tasks.ipynb",
      "provenance": [],
      "collapsed_sections": [
        "JndnmDMp66FL",
        "hmLxdk2D5YQG"
      ]
    },
    "kernelspec": {
      "name": "python3",
      "display_name": "Python 3"
    }
  },
  "cells": [
    {
      "cell_type": "markdown",
      "metadata": {
        "id": "JndnmDMp66FL"
      },
      "source": [
        "##### Copyright 2020 Google LLC.\n",
        "\n",
        "Licensed under the Apache License, Version 2.0 (the \"License\");"
      ]
    },
    {
      "cell_type": "code",
      "metadata": {
        "id": "hMqWDc_m6rUC"
      },
      "source": [
        "# Licensed under the Apache License, Version 2.0 (the \"License\");\n",
        "# you may not use this file except in compliance with the License.\n",
        "# You may obtain a copy of the License at\n",
        "#\n",
        "# https://www.apache.org/licenses/LICENSE-2.0\n",
        "#\n",
        "# Unless required by applicable law or agreed to in writing, software\n",
        "# distributed under the License is distributed on an \"AS IS\" BASIS,\n",
        "# WITHOUT WARRANTIES OR CONDITIONS OF ANY KIND, either express or implied.\n",
        "# See the License for the specific language governing permissions and\n",
        "# limitations under the License."
      ],
      "execution_count": 1,
      "outputs": []
    },
    {
      "cell_type": "markdown",
      "metadata": {
        "id": "vsS6OoYqWfqb"
      },
      "source": [
        "\n",
        "# How to use the GFSA layer for new tasks\n",
        "\n",
        "This notebook describes the high-level process for using the GFSA layer in a new task, specifically focusing on how to represent a new type of graph as an MDP so that you can use the GFSA layer.\n"
      ]
    },
    {
      "cell_type": "markdown",
      "metadata": {
        "id": "wqAn-pTN6iHA"
      },
      "source": [
        "[![Open In Colab](https://colab.research.google.com/assets/colab-badge.svg)](https://colab.research.google.com/github/google-research/google-research/blob/master/gfsa/notebooks/guide_for_new_tasks.ipynb)"
      ]
    },
    {
      "cell_type": "markdown",
      "metadata": {
        "id": "hmLxdk2D5YQG"
      },
      "source": [
        "### Setup and imports"
      ]
    },
    {
      "cell_type": "code",
      "metadata": {
        "colab": {
          "base_uri": "https://localhost:8080/"
        },
        "id": "UxOrT9g05XWV",
        "outputId": "370cbc50-ac38-475b-90f9-613e4056f1a6"
      },
      "source": [
        "!git clone https://github.com/google-research/google-research.git --depth=1"
      ],
      "execution_count": 2,
      "outputs": [
        {
          "output_type": "stream",
          "text": [
            "Cloning into 'google-research'...\n",
            "remote: Enumerating objects: 9929, done.\u001b[K\n",
            "remote: Counting objects: 100% (9929/9929), done.\u001b[K\n",
            "remote: Compressing objects: 100% (7957/7957), done.\u001b[K\n",
            "remote: Total 9929 (delta 1409), reused 7837 (delta 1180), pack-reused 0\u001b[K\n",
            "Receiving objects: 100% (9929/9929), 109.27 MiB | 20.40 MiB/s, done.\n",
            "Resolving deltas: 100% (1409/1409), done.\n",
            "Checking out files: 100% (10428/10428), done.\n"
          ],
          "name": "stdout"
        }
      ]
    },
    {
      "cell_type": "code",
      "metadata": {
        "id": "d450jDR_5Z-q"
      },
      "source": [
        "import os\n",
        "os.chdir(\"google-research\")"
      ],
      "execution_count": 3,
      "outputs": []
    },
    {
      "cell_type": "code",
      "metadata": {
        "colab": {
          "base_uri": "https://localhost:8080/"
        },
        "id": "gfCDCBvN59gv",
        "outputId": "518d907f-c4e0-4c3a-96aa-b20331ee975f"
      },
      "source": [
        "!pip install flax"
      ],
      "execution_count": 4,
      "outputs": [
        {
          "output_type": "stream",
          "text": [
            "Collecting flax\n",
            "\u001b[?25l  Downloading https://files.pythonhosted.org/packages/2e/ef/1a0c6a869396e4b20a83375fe06d725b5c1711746578ee8dd6969472af41/flax-0.2.2-py3-none-any.whl (148kB)\n",
            "\r\u001b[K     |██▏                             | 10kB 16.7MB/s eta 0:00:01\r\u001b[K     |████▍                           | 20kB 19.6MB/s eta 0:00:01\r\u001b[K     |██████▋                         | 30kB 10.7MB/s eta 0:00:01\r\u001b[K     |████████▉                       | 40kB 8.7MB/s eta 0:00:01\r\u001b[K     |███████████                     | 51kB 4.3MB/s eta 0:00:01\r\u001b[K     |█████████████▎                  | 61kB 4.7MB/s eta 0:00:01\r\u001b[K     |███████████████▍                | 71kB 4.9MB/s eta 0:00:01\r\u001b[K     |█████████████████▋              | 81kB 5.3MB/s eta 0:00:01\r\u001b[K     |███████████████████▉            | 92kB 5.6MB/s eta 0:00:01\r\u001b[K     |██████████████████████          | 102kB 4.2MB/s eta 0:00:01\r\u001b[K     |████████████████████████▎       | 112kB 4.2MB/s eta 0:00:01\r\u001b[K     |██████████████████████████▌     | 122kB 4.2MB/s eta 0:00:01\r\u001b[K     |████████████████████████████▊   | 133kB 4.2MB/s eta 0:00:01\r\u001b[K     |██████████████████████████████▉ | 143kB 4.2MB/s eta 0:00:01\r\u001b[K     |████████████████████████████████| 153kB 4.2MB/s \n",
            "\u001b[?25hRequirement already satisfied: msgpack in /usr/local/lib/python3.6/dist-packages (from flax) (1.0.0)\n",
            "Requirement already satisfied: matplotlib in /usr/local/lib/python3.6/dist-packages (from flax) (3.2.2)\n",
            "Requirement already satisfied: dataclasses; python_version < \"3.7\" in /usr/local/lib/python3.6/dist-packages (from flax) (0.8)\n",
            "Requirement already satisfied: jax>=0.1.59 in /usr/local/lib/python3.6/dist-packages (from flax) (0.2.6)\n",
            "Requirement already satisfied: numpy>=1.12 in /usr/local/lib/python3.6/dist-packages (from flax) (1.18.5)\n",
            "Requirement already satisfied: kiwisolver>=1.0.1 in /usr/local/lib/python3.6/dist-packages (from matplotlib->flax) (1.3.1)\n",
            "Requirement already satisfied: cycler>=0.10 in /usr/local/lib/python3.6/dist-packages (from matplotlib->flax) (0.10.0)\n",
            "Requirement already satisfied: python-dateutil>=2.1 in /usr/local/lib/python3.6/dist-packages (from matplotlib->flax) (2.8.1)\n",
            "Requirement already satisfied: pyparsing!=2.0.4,!=2.1.2,!=2.1.6,>=2.0.1 in /usr/local/lib/python3.6/dist-packages (from matplotlib->flax) (2.4.7)\n",
            "Requirement already satisfied: opt-einsum in /usr/local/lib/python3.6/dist-packages (from jax>=0.1.59->flax) (3.3.0)\n",
            "Requirement already satisfied: absl-py in /usr/local/lib/python3.6/dist-packages (from jax>=0.1.59->flax) (0.10.0)\n",
            "Requirement already satisfied: six in /usr/local/lib/python3.6/dist-packages (from cycler>=0.10->matplotlib->flax) (1.15.0)\n",
            "Installing collected packages: flax\n",
            "Successfully installed flax-0.2.2\n"
          ],
          "name": "stdout"
        }
      ]
    },
    {
      "cell_type": "code",
      "metadata": {
        "id": "iPo-cZD45hb_"
      },
      "source": [
        "import gast\n",
        "import numpy as np\n",
        "\n",
        "from gfsa import automaton_builder\n",
        "from gfsa import generic_ast_graphs\n",
        "from gfsa import graph_types\n",
        "from gfsa import py_ast_graphs\n",
        "from gfsa import schema_util\n",
        "from gfsa.datasets.mazes import maze_schema\n",
        "from gfsa.datasets.mazes import maze_task\n",
        "from gfsa.visualization.pprint import pprint\n",
        "from gfsa.visualization.pytrees import summarize_tree"
      ],
      "execution_count": 5,
      "outputs": []
    },
    {
      "cell_type": "markdown",
      "metadata": {
        "id": "r6GQcltBWibY"
      },
      "source": [
        "## Defining your graph domain"
      ]
    },
    {
      "cell_type": "markdown",
      "metadata": {
        "id": "kCfgkdNbalY6"
      },
      "source": [
        "The first step in using the GFSA layer for a new task is to specify how to interpret the graphs in your domain as MDPs. Specifically, you must define a set of node types, and then for each node type, define the set of possible actions (\"out edges\") the agent can take at that node, and the set of observations (\"in edges\") the agent can receive when it arrives at the node. In the codebase, this is referred to as a \"graph schema\".\n",
        "\n",
        "For the dataset of simple Python functions, the graph schema is derived from a simpler \"AST specification\":"
      ]
    },
    {
      "cell_type": "code",
      "metadata": {
        "id": "YkQGlO4nbepU",
        "colab": {
          "base_uri": "https://localhost:8080/"
        },
        "outputId": "dc1e9a78-6e14-46ed-ad34-d7c70f3e1b3b"
      },
      "source": [
        "# AST specification:\n",
        "py_ast_graphs.PY_AST_SPECS"
      ],
      "execution_count": 6,
      "outputs": [
        {
          "output_type": "execute_result",
          "data": {
            "text/plain": [
              "{'Add': ASTNodeSpec(fields={}, sequence_item_types={}, has_parent=True),\n",
              " 'And': ASTNodeSpec(fields={}, sequence_item_types={}, has_parent=True),\n",
              " 'Assign': ASTNodeSpec(fields={'targets': FieldType.ONE_CHILD, 'value': FieldType.ONE_CHILD}, sequence_item_types={}, has_parent=True),\n",
              " 'BinOp': ASTNodeSpec(fields={'left': FieldType.ONE_CHILD, 'op': FieldType.ONE_CHILD, 'right': FieldType.ONE_CHILD}, sequence_item_types={}, has_parent=True),\n",
              " 'BoolOp': ASTNodeSpec(fields={'op': FieldType.ONE_CHILD, 'values': FieldType.NONEMPTY_SEQUENCE}, sequence_item_types={'values': 'BoolOp_values'}, has_parent=True),\n",
              " 'Break': ASTNodeSpec(fields={}, sequence_item_types={}, has_parent=True),\n",
              " 'Call': ASTNodeSpec(fields={'func': FieldType.ONE_CHILD, 'args': FieldType.SEQUENCE, 'keywords': FieldType.NO_CHILDREN}, sequence_item_types={'args': 'Call_args'}, has_parent=True),\n",
              " 'Compare': ASTNodeSpec(fields={'left': FieldType.ONE_CHILD, 'ops': FieldType.ONE_CHILD, 'comparators': FieldType.ONE_CHILD}, sequence_item_types={}, has_parent=True),\n",
              " 'Constant': ASTNodeSpec(fields={}, sequence_item_types={}, has_parent=True),\n",
              " 'Continue': ASTNodeSpec(fields={}, sequence_item_types={}, has_parent=True),\n",
              " 'Div': ASTNodeSpec(fields={}, sequence_item_types={}, has_parent=True),\n",
              " 'Eq': ASTNodeSpec(fields={}, sequence_item_types={}, has_parent=True),\n",
              " 'Expr': ASTNodeSpec(fields={'value': FieldType.ONE_CHILD}, sequence_item_types={}, has_parent=True),\n",
              " 'For': ASTNodeSpec(fields={'target': FieldType.ONE_CHILD, 'iter': FieldType.ONE_CHILD, 'body': FieldType.NONEMPTY_SEQUENCE, 'orelse': FieldType.NO_CHILDREN}, sequence_item_types={'body': 'For_body'}, has_parent=True),\n",
              " 'FunctionDef': ASTNodeSpec(fields={'args': FieldType.ONE_CHILD, 'returns': FieldType.OPTIONAL_CHILD, 'body': FieldType.NONEMPTY_SEQUENCE, 'decorator_list': FieldType.NO_CHILDREN}, sequence_item_types={'body': 'FunctionDef_body'}, has_parent=True),\n",
              " 'Gt': ASTNodeSpec(fields={}, sequence_item_types={}, has_parent=True),\n",
              " 'GtE': ASTNodeSpec(fields={}, sequence_item_types={}, has_parent=True),\n",
              " 'If': ASTNodeSpec(fields={'test': FieldType.ONE_CHILD, 'body': FieldType.NONEMPTY_SEQUENCE, 'orelse': FieldType.SEQUENCE}, sequence_item_types={'body': 'If_body', 'orelse': 'If_orelse'}, has_parent=True),\n",
              " 'Lt': ASTNodeSpec(fields={}, sequence_item_types={}, has_parent=True),\n",
              " 'LtE': ASTNodeSpec(fields={}, sequence_item_types={}, has_parent=True),\n",
              " 'Module': ASTNodeSpec(fields={'body': FieldType.NONEMPTY_SEQUENCE}, sequence_item_types={'body': 'Module_body'}, has_parent=False),\n",
              " 'Mult': ASTNodeSpec(fields={}, sequence_item_types={}, has_parent=True),\n",
              " 'Name': ASTNodeSpec(fields={'ctx': FieldType.IGNORE}, sequence_item_types={}, has_parent=True),\n",
              " 'NotEq': ASTNodeSpec(fields={}, sequence_item_types={}, has_parent=True),\n",
              " 'Or': ASTNodeSpec(fields={}, sequence_item_types={}, has_parent=True),\n",
              " 'Pass': ASTNodeSpec(fields={}, sequence_item_types={}, has_parent=True),\n",
              " 'Return': ASTNodeSpec(fields={'value': FieldType.OPTIONAL_CHILD}, sequence_item_types={}, has_parent=True),\n",
              " 'Sub': ASTNodeSpec(fields={}, sequence_item_types={}, has_parent=True),\n",
              " 'While': ASTNodeSpec(fields={'test': FieldType.ONE_CHILD, 'body': FieldType.NONEMPTY_SEQUENCE, 'orelse': FieldType.NO_CHILDREN}, sequence_item_types={'body': 'While_body'}, has_parent=True),\n",
              " 'arguments': ASTNodeSpec(fields={'args': FieldType.SEQUENCE, 'posonlyargs': FieldType.NO_CHILDREN, 'vararg': FieldType.NO_CHILDREN, 'kwonlyargs': FieldType.NO_CHILDREN, 'kw_defaults': FieldType.NO_CHILDREN, 'kwarg': FieldType.NO_CHILDREN, 'defaults': FieldType.NO_CHILDREN}, sequence_item_types={'args': 'arguments_args'}, has_parent=True)}"
            ]
          },
          "metadata": {
            "tags": []
          },
          "execution_count": 6
        }
      ]
    },
    {
      "cell_type": "code",
      "metadata": {
        "id": "2WmX-csofj3J",
        "colab": {
          "base_uri": "https://localhost:8080/"
        },
        "outputId": "61051549-1cd3-4342-9c95-25a051770264"
      },
      "source": [
        "# Derived schema (using `generic_ast_graphs.build_ast_graph_schema`)\n",
        "py_ast_graphs.SCHEMA"
      ],
      "execution_count": 7,
      "outputs": [
        {
          "output_type": "execute_result",
          "data": {
            "text/plain": [
              "{'Add': NodeSchema(in_edges=['parent_in'], out_edges=['parent_out']),\n",
              " 'And': NodeSchema(in_edges=['parent_in'], out_edges=['parent_out']),\n",
              " 'Assign': NodeSchema(in_edges=['parent_in', 'targets_in', 'value_in'], out_edges=['parent_out', 'targets_out', 'value_out']),\n",
              " 'BinOp': NodeSchema(in_edges=['parent_in', 'left_in', 'op_in', 'right_in'], out_edges=['parent_out', 'left_out', 'op_out', 'right_out']),\n",
              " 'BoolOp': NodeSchema(in_edges=['parent_in', 'op_in', 'values_in'], out_edges=['parent_out', 'op_out', 'values_out_all', 'values_out_first', 'values_out_last']),\n",
              " 'BoolOp_values-seq-helper': NodeSchema(in_edges=['parent_in', 'item_in', 'next_in', 'next_missing', 'prev_in', 'prev_missing'], out_edges=['parent_out', 'item_out', 'next_out', 'prev_out']),\n",
              " 'Break': NodeSchema(in_edges=['parent_in'], out_edges=['parent_out']),\n",
              " 'Call': NodeSchema(in_edges=['parent_in', 'func_in', 'args_in', 'args_missing'], out_edges=['parent_out', 'func_out', 'args_out_all', 'args_out_first', 'args_out_last']),\n",
              " 'Call_args-seq-helper': NodeSchema(in_edges=['parent_in', 'item_in', 'next_in', 'next_missing', 'prev_in', 'prev_missing'], out_edges=['parent_out', 'item_out', 'next_out', 'prev_out']),\n",
              " 'Compare': NodeSchema(in_edges=['parent_in', 'left_in', 'ops_in', 'comparators_in'], out_edges=['parent_out', 'left_out', 'ops_out', 'comparators_out']),\n",
              " 'Constant': NodeSchema(in_edges=['parent_in'], out_edges=['parent_out']),\n",
              " 'Continue': NodeSchema(in_edges=['parent_in'], out_edges=['parent_out']),\n",
              " 'Div': NodeSchema(in_edges=['parent_in'], out_edges=['parent_out']),\n",
              " 'Eq': NodeSchema(in_edges=['parent_in'], out_edges=['parent_out']),\n",
              " 'Expr': NodeSchema(in_edges=['parent_in', 'value_in'], out_edges=['parent_out', 'value_out']),\n",
              " 'For': NodeSchema(in_edges=['parent_in', 'target_in', 'iter_in', 'body_in'], out_edges=['parent_out', 'target_out', 'iter_out', 'body_out_all', 'body_out_first', 'body_out_last']),\n",
              " 'For_body-seq-helper': NodeSchema(in_edges=['parent_in', 'item_in', 'next_in', 'next_missing', 'prev_in', 'prev_missing'], out_edges=['parent_out', 'item_out', 'next_out', 'prev_out']),\n",
              " 'FunctionDef': NodeSchema(in_edges=['parent_in', 'args_in', 'returns_in', 'returns_missing', 'body_in'], out_edges=['parent_out', 'args_out', 'returns_out', 'body_out_all', 'body_out_first', 'body_out_last']),\n",
              " 'FunctionDef_body-seq-helper': NodeSchema(in_edges=['parent_in', 'item_in', 'next_in', 'next_missing', 'prev_in', 'prev_missing'], out_edges=['parent_out', 'item_out', 'next_out', 'prev_out']),\n",
              " 'Gt': NodeSchema(in_edges=['parent_in'], out_edges=['parent_out']),\n",
              " 'GtE': NodeSchema(in_edges=['parent_in'], out_edges=['parent_out']),\n",
              " 'If': NodeSchema(in_edges=['parent_in', 'test_in', 'body_in', 'orelse_in', 'orelse_missing'], out_edges=['parent_out', 'test_out', 'body_out_all', 'body_out_first', 'body_out_last', 'orelse_out_all', 'orelse_out_first', 'orelse_out_last']),\n",
              " 'If_body-seq-helper': NodeSchema(in_edges=['parent_in', 'item_in', 'next_in', 'next_missing', 'prev_in', 'prev_missing'], out_edges=['parent_out', 'item_out', 'next_out', 'prev_out']),\n",
              " 'If_orelse-seq-helper': NodeSchema(in_edges=['parent_in', 'item_in', 'next_in', 'next_missing', 'prev_in', 'prev_missing'], out_edges=['parent_out', 'item_out', 'next_out', 'prev_out']),\n",
              " 'Lt': NodeSchema(in_edges=['parent_in'], out_edges=['parent_out']),\n",
              " 'LtE': NodeSchema(in_edges=['parent_in'], out_edges=['parent_out']),\n",
              " 'Module': NodeSchema(in_edges=['body_in'], out_edges=['body_out_all', 'body_out_first', 'body_out_last']),\n",
              " 'Module_body-seq-helper': NodeSchema(in_edges=['parent_in', 'item_in', 'next_in', 'next_missing', 'prev_in', 'prev_missing'], out_edges=['parent_out', 'item_out', 'next_out', 'prev_out']),\n",
              " 'Mult': NodeSchema(in_edges=['parent_in'], out_edges=['parent_out']),\n",
              " 'Name': NodeSchema(in_edges=['parent_in'], out_edges=['parent_out']),\n",
              " 'NotEq': NodeSchema(in_edges=['parent_in'], out_edges=['parent_out']),\n",
              " 'Or': NodeSchema(in_edges=['parent_in'], out_edges=['parent_out']),\n",
              " 'Pass': NodeSchema(in_edges=['parent_in'], out_edges=['parent_out']),\n",
              " 'Return': NodeSchema(in_edges=['parent_in', 'value_in', 'value_missing'], out_edges=['parent_out', 'value_out']),\n",
              " 'Sub': NodeSchema(in_edges=['parent_in'], out_edges=['parent_out']),\n",
              " 'While': NodeSchema(in_edges=['parent_in', 'test_in', 'body_in'], out_edges=['parent_out', 'test_out', 'body_out_all', 'body_out_first', 'body_out_last']),\n",
              " 'While_body-seq-helper': NodeSchema(in_edges=['parent_in', 'item_in', 'next_in', 'next_missing', 'prev_in', 'prev_missing'], out_edges=['parent_out', 'item_out', 'next_out', 'prev_out']),\n",
              " 'arguments': NodeSchema(in_edges=['parent_in', 'args_in', 'args_missing'], out_edges=['parent_out', 'args_out_all', 'args_out_first', 'args_out_last']),\n",
              " 'arguments_args-seq-helper': NodeSchema(in_edges=['parent_in', 'item_in', 'next_in', 'next_missing', 'prev_in', 'prev_missing'], out_edges=['parent_out', 'item_out', 'next_out', 'prev_out'])}"
            ]
          },
          "metadata": {
            "tags": []
          },
          "execution_count": 7
        }
      ]
    },
    {
      "cell_type": "markdown",
      "metadata": {
        "id": "bNnAv9UrbfIl"
      },
      "source": [
        "It's possible to infer the AST specification from a dataset of ASTs using `ast_spec_inference.py`. In the paper, we use two different AST specifications, one for the synthetic Python examples (shown above), and one for the Python examples written by humans (since these use many additional types of AST nodes)."
      ]
    },
    {
      "cell_type": "markdown",
      "metadata": {
        "id": "yFSJYg7VbzER"
      },
      "source": [
        "For the maze dataset, the node types are determined by the shape of the grid cell, and the graph schema determines which actions are valid:"
      ]
    },
    {
      "cell_type": "code",
      "metadata": {
        "id": "sY7P6YZmcT4X",
        "colab": {
          "base_uri": "https://localhost:8080/"
        },
        "outputId": "1e847b83-2811-4163-8bc6-7eedceaecb80"
      },
      "source": [
        "maze_task.SCHEMA"
      ],
      "execution_count": 8,
      "outputs": [
        {
          "output_type": "execute_result",
          "data": {
            "text/plain": [
              "{'cell_LRUD': NodeSchema(in_edges=['L_in', 'R_in', 'U_in', 'D_in'], out_edges=['L_out', 'R_out', 'U_out', 'D_out']),\n",
              " 'cell_LRUx': NodeSchema(in_edges=['L_in', 'R_in', 'U_in'], out_edges=['L_out', 'R_out', 'U_out']),\n",
              " 'cell_LRxD': NodeSchema(in_edges=['L_in', 'R_in', 'D_in'], out_edges=['L_out', 'R_out', 'D_out']),\n",
              " 'cell_LRxx': NodeSchema(in_edges=['L_in', 'R_in'], out_edges=['L_out', 'R_out']),\n",
              " 'cell_LxUD': NodeSchema(in_edges=['L_in', 'U_in', 'D_in'], out_edges=['L_out', 'U_out', 'D_out']),\n",
              " 'cell_LxUx': NodeSchema(in_edges=['L_in', 'U_in'], out_edges=['L_out', 'U_out']),\n",
              " 'cell_LxxD': NodeSchema(in_edges=['L_in', 'D_in'], out_edges=['L_out', 'D_out']),\n",
              " 'cell_xRUD': NodeSchema(in_edges=['R_in', 'U_in', 'D_in'], out_edges=['R_out', 'U_out', 'D_out']),\n",
              " 'cell_xRUx': NodeSchema(in_edges=['R_in', 'U_in'], out_edges=['R_out', 'U_out']),\n",
              " 'cell_xRxD': NodeSchema(in_edges=['R_in', 'D_in'], out_edges=['R_out', 'D_out']),\n",
              " 'cell_xxUD': NodeSchema(in_edges=['U_in', 'D_in'], out_edges=['U_out', 'D_out'])}"
            ]
          },
          "metadata": {
            "tags": []
          },
          "execution_count": 8
        }
      ]
    },
    {
      "cell_type": "markdown",
      "metadata": {
        "id": "tC9DHd1LcUIx"
      },
      "source": [
        "As a toy example of how you might encode a new graph domain, suppose we have a network of houses connected by directed roads. Each house is adjacent to exactly one road, and each road has at least one entry and exit point but may have more.\n",
        "\n",
        "![image.png](data:image/png;base64,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)\n",
        "\n",
        "We can encode this structure using the following schema:"
      ]
    },
    {
      "cell_type": "code",
      "metadata": {
        "id": "IVpdKvAscoX0",
        "colab": {
          "base_uri": "https://localhost:8080/"
        },
        "outputId": "5f2773ba-7315-4e98-e41e-ba02f57708cc"
      },
      "source": [
        "road_network_schema = {\n",
        "    # Houses are only connected to roads, so the only movement action\n",
        "    # available is to go to the road; likewise the only observation we receive\n",
        "    # after moving is the observation that we arrived from a road.\n",
        "    \"house\": graph_types.NodeSchema(\n",
        "        in_edges=[\"from_road\"],\n",
        "        out_edges=[\"to_road\"]),\n",
        "    # Roads are more complex. We can always move to a random previous or next\n",
        "    # road in the road network. We can also try to move to a house, but if there\n",
        "    # is no house, we will have to stay on the road. We denote this with a\n",
        "    # special observation (in `in_edges`).\n",
        "    \"road\": graph_types.NodeSchema(\n",
        "        in_edges=[\"from_next\", \"from_prev\", \"from_house\", \"no_house_here\"],\n",
        "        out_edges=[\"to_next\", \"to_prev\", \"to_house\"]),\n",
        "}\n",
        "road_network_schema"
      ],
      "execution_count": 9,
      "outputs": [
        {
          "output_type": "execute_result",
          "data": {
            "text/plain": [
              "{'house': NodeSchema(in_edges=['from_road'], out_edges=['to_road']),\n",
              " 'road': NodeSchema(in_edges=['from_next', 'from_prev', 'from_house', 'no_house_here'], out_edges=['to_next', 'to_prev', 'to_house'])}"
            ]
          },
          "metadata": {
            "tags": []
          },
          "execution_count": 9
        }
      ]
    },
    {
      "cell_type": "markdown",
      "metadata": {
        "id": "zwy8A7TkcxaN"
      },
      "source": [
        "## Building MDP graphs"
      ]
    },
    {
      "cell_type": "markdown",
      "metadata": {
        "id": "Fac7M2ZSc2Fs"
      },
      "source": [
        "Before running the GFSA layer on a specific input graph, you need to specify the result of taking each of the actions defined in the schema.\n",
        "\n",
        "For AST graphs, these transitions can be automatically computed based on the AST and its specification:"
      ]
    },
    {
      "cell_type": "code",
      "metadata": {
        "id": "2xCp_l1GdWnh",
        "colab": {
          "base_uri": "https://localhost:8080/"
        },
        "outputId": "a3d2c72b-2855-40a5-b0cb-50e95c4808bb"
      },
      "source": [
        "the_ast = gast.parse(\"\"\"\n",
        "def test_function(foo):\n",
        "  if foo:\n",
        "    return\n",
        "  pass\n",
        "\"\"\")\n",
        "generic_ast = py_ast_graphs.py_ast_to_generic(the_ast)\n",
        "mdp_graph, id_conversion_map = generic_ast_graphs.ast_to_graph(generic_ast, ast_spec=py_ast_graphs.PY_AST_SPECS)\n",
        "\n",
        "schema_util.assert_conforms_to_schema(mdp_graph, py_ast_graphs.SCHEMA)\n",
        "\n",
        "mdp_graph"
      ],
      "execution_count": 10,
      "outputs": [
        {
          "output_type": "execute_result",
          "data": {
            "text/plain": [
              "{'root__Module': GraphNode(node_type='Module', out_edges={'body_out_all': [InputTaggedNode(node_id='root_body_0__Module_body-seq-helper', in_edge='parent_in')], 'body_out_first': [InputTaggedNode(node_id='root_body_0__Module_body-seq-helper', in_edge='parent_in')], 'body_out_last': [InputTaggedNode(node_id='root_body_0__Module_body-seq-helper', in_edge='parent_in')]}),\n",
              " 'root_body_0__Module_body-seq-helper': GraphNode(node_type='Module_body-seq-helper', out_edges={'parent_out': [InputTaggedNode(node_id='root__Module', in_edge='body_in')], 'item_out': [InputTaggedNode(node_id='root_body_0_item__FunctionDef', in_edge='parent_in')], 'prev_out': [InputTaggedNode(node_id='root_body_0__Module_body-seq-helper', in_edge='prev_missing')], 'next_out': [InputTaggedNode(node_id='root_body_0__Module_body-seq-helper', in_edge='next_missing')]}),\n",
              " 'root_body_0_item__FunctionDef': GraphNode(node_type='FunctionDef', out_edges={'parent_out': [InputTaggedNode(node_id='root_body_0__Module_body-seq-helper', in_edge='item_in')], 'args_out': [InputTaggedNode(node_id='root_body_0_item_args__arguments', in_edge='parent_in')], 'returns_out': [InputTaggedNode(node_id='root_body_0_item__FunctionDef', in_edge='returns_missing')], 'body_out_all': [InputTaggedNode(node_id='root_body_0_item_body_0__FunctionDef_body-seq-helper', in_edge='parent_in'), InputTaggedNode(node_id='root_body_0_item_body_1__FunctionDef_body-seq-helper', in_edge='parent_in')], 'body_out_first': [InputTaggedNode(node_id='root_body_0_item_body_0__FunctionDef_body-seq-helper', in_edge='parent_in')], 'body_out_last': [InputTaggedNode(node_id='root_body_0_item_body_1__FunctionDef_body-seq-helper', in_edge='parent_in')]}),\n",
              " 'root_body_0_item_args__arguments': GraphNode(node_type='arguments', out_edges={'parent_out': [InputTaggedNode(node_id='root_body_0_item__FunctionDef', in_edge='args_in')], 'args_out_all': [InputTaggedNode(node_id='root_body_0_item_args_args_0__arguments_args-seq-helper', in_edge='parent_in')], 'args_out_first': [InputTaggedNode(node_id='root_body_0_item_args_args_0__arguments_args-seq-helper', in_edge='parent_in')], 'args_out_last': [InputTaggedNode(node_id='root_body_0_item_args_args_0__arguments_args-seq-helper', in_edge='parent_in')]}),\n",
              " 'root_body_0_item_args_args_0__arguments_args-seq-helper': GraphNode(node_type='arguments_args-seq-helper', out_edges={'parent_out': [InputTaggedNode(node_id='root_body_0_item_args__arguments', in_edge='args_in')], 'item_out': [InputTaggedNode(node_id='root_body_0_item_args_args_0_item__Name', in_edge='parent_in')], 'prev_out': [InputTaggedNode(node_id='root_body_0_item_args_args_0__arguments_args-seq-helper', in_edge='prev_missing')], 'next_out': [InputTaggedNode(node_id='root_body_0_item_args_args_0__arguments_args-seq-helper', in_edge='next_missing')]}),\n",
              " 'root_body_0_item_args_args_0_item__Name': GraphNode(node_type='Name', out_edges={'parent_out': [InputTaggedNode(node_id='root_body_0_item_args_args_0__arguments_args-seq-helper', in_edge='item_in')]}),\n",
              " 'root_body_0_item_body_0__FunctionDef_body-seq-helper': GraphNode(node_type='FunctionDef_body-seq-helper', out_edges={'parent_out': [InputTaggedNode(node_id='root_body_0_item__FunctionDef', in_edge='body_in')], 'item_out': [InputTaggedNode(node_id='root_body_0_item_body_0_item__If', in_edge='parent_in')], 'next_out': [InputTaggedNode(node_id='root_body_0_item_body_1__FunctionDef_body-seq-helper', in_edge='prev_in')], 'prev_out': [InputTaggedNode(node_id='root_body_0_item_body_0__FunctionDef_body-seq-helper', in_edge='prev_missing')]}),\n",
              " 'root_body_0_item_body_0_item__If': GraphNode(node_type='If', out_edges={'parent_out': [InputTaggedNode(node_id='root_body_0_item_body_0__FunctionDef_body-seq-helper', in_edge='item_in')], 'test_out': [InputTaggedNode(node_id='root_body_0_item_body_0_item_test__Name', in_edge='parent_in')], 'body_out_all': [InputTaggedNode(node_id='root_body_0_item_body_0_item_body_0__If_body-seq-helper', in_edge='parent_in')], 'body_out_first': [InputTaggedNode(node_id='root_body_0_item_body_0_item_body_0__If_body-seq-helper', in_edge='parent_in')], 'body_out_last': [InputTaggedNode(node_id='root_body_0_item_body_0_item_body_0__If_body-seq-helper', in_edge='parent_in')], 'orelse_out_all': [InputTaggedNode(node_id='root_body_0_item_body_0_item__If', in_edge='orelse_missing')], 'orelse_out_first': [InputTaggedNode(node_id='root_body_0_item_body_0_item__If', in_edge='orelse_missing')], 'orelse_out_last': [InputTaggedNode(node_id='root_body_0_item_body_0_item__If', in_edge='orelse_missing')]}),\n",
              " 'root_body_0_item_body_0_item_body_0__If_body-seq-helper': GraphNode(node_type='If_body-seq-helper', out_edges={'parent_out': [InputTaggedNode(node_id='root_body_0_item_body_0_item__If', in_edge='body_in')], 'item_out': [InputTaggedNode(node_id='root_body_0_item_body_0_item_body_0_item__Return', in_edge='parent_in')], 'prev_out': [InputTaggedNode(node_id='root_body_0_item_body_0_item_body_0__If_body-seq-helper', in_edge='prev_missing')], 'next_out': [InputTaggedNode(node_id='root_body_0_item_body_0_item_body_0__If_body-seq-helper', in_edge='next_missing')]}),\n",
              " 'root_body_0_item_body_0_item_body_0_item__Return': GraphNode(node_type='Return', out_edges={'parent_out': [InputTaggedNode(node_id='root_body_0_item_body_0_item_body_0__If_body-seq-helper', in_edge='item_in')], 'value_out': [InputTaggedNode(node_id='root_body_0_item_body_0_item_body_0_item__Return', in_edge='value_missing')]}),\n",
              " 'root_body_0_item_body_0_item_test__Name': GraphNode(node_type='Name', out_edges={'parent_out': [InputTaggedNode(node_id='root_body_0_item_body_0_item__If', in_edge='test_in')]}),\n",
              " 'root_body_0_item_body_1__FunctionDef_body-seq-helper': GraphNode(node_type='FunctionDef_body-seq-helper', out_edges={'parent_out': [InputTaggedNode(node_id='root_body_0_item__FunctionDef', in_edge='body_in')], 'item_out': [InputTaggedNode(node_id='root_body_0_item_body_1_item__Pass', in_edge='parent_in')], 'prev_out': [InputTaggedNode(node_id='root_body_0_item_body_0__FunctionDef_body-seq-helper', in_edge='next_in')], 'next_out': [InputTaggedNode(node_id='root_body_0_item_body_1__FunctionDef_body-seq-helper', in_edge='next_missing')]}),\n",
              " 'root_body_0_item_body_1_item__Pass': GraphNode(node_type='Pass', out_edges={'parent_out': [InputTaggedNode(node_id='root_body_0_item_body_1__FunctionDef_body-seq-helper', in_edge='item_in')]})}"
            ]
          },
          "metadata": {
            "tags": []
          },
          "execution_count": 10
        }
      ]
    },
    {
      "cell_type": "markdown",
      "metadata": {
        "id": "y7CzopTKdW4d"
      },
      "source": [
        "In the maze dataset, we precompute the destination of taking each possible action at each possible node:"
      ]
    },
    {
      "cell_type": "code",
      "metadata": {
        "id": "t6k0w0OSdkqg",
        "colab": {
          "base_uri": "https://localhost:8080/"
        },
        "outputId": "88ce4952-296b-4b91-be7a-983a39735263"
      },
      "source": [
        "the_maze_raw = [\n",
        "  \"███████  ████\",\n",
        "  \"████  █  █  █\",\n",
        "  \"████  ███████\",\n",
        "]\n",
        "the_maze = np.array([[c != \" \" for c in r] for r in the_maze_raw])\n",
        "mdp_graph, coordinates = maze_schema.encode_maze(the_maze)\n",
        "\n",
        "schema_util.assert_conforms_to_schema(mdp_graph, maze_task.SCHEMA)\n",
        "\n",
        "mdp_graph"
      ],
      "execution_count": 11,
      "outputs": [
        {
          "output_type": "execute_result",
          "data": {
            "text/plain": [
              "{'cell_0_0': GraphNode(node_type='cell_xRxD', out_edges={'R_out': [InputTaggedNode(node_id='cell_0_1', in_edge='L_in')], 'D_out': [InputTaggedNode(node_id='cell_1_0', in_edge='U_in')]}),\n",
              " 'cell_0_1': GraphNode(node_type='cell_LRxD', out_edges={'L_out': [InputTaggedNode(node_id='cell_0_0', in_edge='R_in')], 'R_out': [InputTaggedNode(node_id='cell_0_2', in_edge='L_in')], 'D_out': [InputTaggedNode(node_id='cell_1_1', in_edge='U_in')]}),\n",
              " 'cell_0_10': GraphNode(node_type='cell_LRxx', out_edges={'L_out': [InputTaggedNode(node_id='cell_0_9', in_edge='R_in')], 'R_out': [InputTaggedNode(node_id='cell_0_11', in_edge='L_in')]}),\n",
              " 'cell_0_11': GraphNode(node_type='cell_LRxx', out_edges={'L_out': [InputTaggedNode(node_id='cell_0_10', in_edge='R_in')], 'R_out': [InputTaggedNode(node_id='cell_0_12', in_edge='L_in')]}),\n",
              " 'cell_0_12': GraphNode(node_type='cell_LxxD', out_edges={'L_out': [InputTaggedNode(node_id='cell_0_11', in_edge='R_in')], 'D_out': [InputTaggedNode(node_id='cell_1_12', in_edge='U_in')]}),\n",
              " 'cell_0_2': GraphNode(node_type='cell_LRxD', out_edges={'L_out': [InputTaggedNode(node_id='cell_0_1', in_edge='R_in')], 'R_out': [InputTaggedNode(node_id='cell_0_3', in_edge='L_in')], 'D_out': [InputTaggedNode(node_id='cell_1_2', in_edge='U_in')]}),\n",
              " 'cell_0_3': GraphNode(node_type='cell_LRxD', out_edges={'L_out': [InputTaggedNode(node_id='cell_0_2', in_edge='R_in')], 'R_out': [InputTaggedNode(node_id='cell_0_4', in_edge='L_in')], 'D_out': [InputTaggedNode(node_id='cell_1_3', in_edge='U_in')]}),\n",
              " 'cell_0_4': GraphNode(node_type='cell_LRxx', out_edges={'L_out': [InputTaggedNode(node_id='cell_0_3', in_edge='R_in')], 'R_out': [InputTaggedNode(node_id='cell_0_5', in_edge='L_in')]}),\n",
              " 'cell_0_5': GraphNode(node_type='cell_LRxx', out_edges={'L_out': [InputTaggedNode(node_id='cell_0_4', in_edge='R_in')], 'R_out': [InputTaggedNode(node_id='cell_0_6', in_edge='L_in')]}),\n",
              " 'cell_0_6': GraphNode(node_type='cell_LxxD', out_edges={'L_out': [InputTaggedNode(node_id='cell_0_5', in_edge='R_in')], 'D_out': [InputTaggedNode(node_id='cell_1_6', in_edge='U_in')]}),\n",
              " 'cell_0_9': GraphNode(node_type='cell_xRxD', out_edges={'R_out': [InputTaggedNode(node_id='cell_0_10', in_edge='L_in')], 'D_out': [InputTaggedNode(node_id='cell_1_9', in_edge='U_in')]}),\n",
              " 'cell_1_0': GraphNode(node_type='cell_xRUD', out_edges={'R_out': [InputTaggedNode(node_id='cell_1_1', in_edge='L_in')], 'U_out': [InputTaggedNode(node_id='cell_0_0', in_edge='D_in')], 'D_out': [InputTaggedNode(node_id='cell_2_0', in_edge='U_in')]}),\n",
              " 'cell_1_1': GraphNode(node_type='cell_LRUD', out_edges={'L_out': [InputTaggedNode(node_id='cell_1_0', in_edge='R_in')], 'R_out': [InputTaggedNode(node_id='cell_1_2', in_edge='L_in')], 'U_out': [InputTaggedNode(node_id='cell_0_1', in_edge='D_in')], 'D_out': [InputTaggedNode(node_id='cell_2_1', in_edge='U_in')]}),\n",
              " 'cell_1_12': GraphNode(node_type='cell_xxUD', out_edges={'U_out': [InputTaggedNode(node_id='cell_0_12', in_edge='D_in')], 'D_out': [InputTaggedNode(node_id='cell_2_12', in_edge='U_in')]}),\n",
              " 'cell_1_2': GraphNode(node_type='cell_LRUD', out_edges={'L_out': [InputTaggedNode(node_id='cell_1_1', in_edge='R_in')], 'R_out': [InputTaggedNode(node_id='cell_1_3', in_edge='L_in')], 'U_out': [InputTaggedNode(node_id='cell_0_2', in_edge='D_in')], 'D_out': [InputTaggedNode(node_id='cell_2_2', in_edge='U_in')]}),\n",
              " 'cell_1_3': GraphNode(node_type='cell_LxUD', out_edges={'L_out': [InputTaggedNode(node_id='cell_1_2', in_edge='R_in')], 'U_out': [InputTaggedNode(node_id='cell_0_3', in_edge='D_in')], 'D_out': [InputTaggedNode(node_id='cell_2_3', in_edge='U_in')]}),\n",
              " 'cell_1_6': GraphNode(node_type='cell_xxUD', out_edges={'U_out': [InputTaggedNode(node_id='cell_0_6', in_edge='D_in')], 'D_out': [InputTaggedNode(node_id='cell_2_6', in_edge='U_in')]}),\n",
              " 'cell_1_9': GraphNode(node_type='cell_xxUD', out_edges={'U_out': [InputTaggedNode(node_id='cell_0_9', in_edge='D_in')], 'D_out': [InputTaggedNode(node_id='cell_2_9', in_edge='U_in')]}),\n",
              " 'cell_2_0': GraphNode(node_type='cell_xRUx', out_edges={'R_out': [InputTaggedNode(node_id='cell_2_1', in_edge='L_in')], 'U_out': [InputTaggedNode(node_id='cell_1_0', in_edge='D_in')]}),\n",
              " 'cell_2_1': GraphNode(node_type='cell_LRUx', out_edges={'L_out': [InputTaggedNode(node_id='cell_2_0', in_edge='R_in')], 'R_out': [InputTaggedNode(node_id='cell_2_2', in_edge='L_in')], 'U_out': [InputTaggedNode(node_id='cell_1_1', in_edge='D_in')]}),\n",
              " 'cell_2_10': GraphNode(node_type='cell_LRxx', out_edges={'L_out': [InputTaggedNode(node_id='cell_2_9', in_edge='R_in')], 'R_out': [InputTaggedNode(node_id='cell_2_11', in_edge='L_in')]}),\n",
              " 'cell_2_11': GraphNode(node_type='cell_LRxx', out_edges={'L_out': [InputTaggedNode(node_id='cell_2_10', in_edge='R_in')], 'R_out': [InputTaggedNode(node_id='cell_2_12', in_edge='L_in')]}),\n",
              " 'cell_2_12': GraphNode(node_type='cell_LxUx', out_edges={'L_out': [InputTaggedNode(node_id='cell_2_11', in_edge='R_in')], 'U_out': [InputTaggedNode(node_id='cell_1_12', in_edge='D_in')]}),\n",
              " 'cell_2_2': GraphNode(node_type='cell_LRUx', out_edges={'L_out': [InputTaggedNode(node_id='cell_2_1', in_edge='R_in')], 'R_out': [InputTaggedNode(node_id='cell_2_3', in_edge='L_in')], 'U_out': [InputTaggedNode(node_id='cell_1_2', in_edge='D_in')]}),\n",
              " 'cell_2_3': GraphNode(node_type='cell_LxUx', out_edges={'L_out': [InputTaggedNode(node_id='cell_2_2', in_edge='R_in')], 'U_out': [InputTaggedNode(node_id='cell_1_3', in_edge='D_in')]}),\n",
              " 'cell_2_6': GraphNode(node_type='cell_xRUx', out_edges={'R_out': [InputTaggedNode(node_id='cell_2_7', in_edge='L_in')], 'U_out': [InputTaggedNode(node_id='cell_1_6', in_edge='D_in')]}),\n",
              " 'cell_2_7': GraphNode(node_type='cell_LRxx', out_edges={'L_out': [InputTaggedNode(node_id='cell_2_6', in_edge='R_in')], 'R_out': [InputTaggedNode(node_id='cell_2_8', in_edge='L_in')]}),\n",
              " 'cell_2_8': GraphNode(node_type='cell_LRxx', out_edges={'L_out': [InputTaggedNode(node_id='cell_2_7', in_edge='R_in')], 'R_out': [InputTaggedNode(node_id='cell_2_9', in_edge='L_in')]}),\n",
              " 'cell_2_9': GraphNode(node_type='cell_LRUx', out_edges={'L_out': [InputTaggedNode(node_id='cell_2_8', in_edge='R_in')], 'R_out': [InputTaggedNode(node_id='cell_2_10', in_edge='L_in')], 'U_out': [InputTaggedNode(node_id='cell_1_9', in_edge='D_in')]})}"
            ]
          },
          "metadata": {
            "tags": []
          },
          "execution_count": 11
        }
      ]
    },
    {
      "cell_type": "markdown",
      "metadata": {
        "id": "fPlXc3f5dlJf"
      },
      "source": [
        "For the toy houses-and-roads example above, we might have a graph that looks something like this:"
      ]
    },
    {
      "cell_type": "code",
      "metadata": {
        "id": "hjgHOilYdqDa"
      },
      "source": [
        "GraphNode = graph_types.GraphNode\n",
        "InputTaggedNode = graph_types.InputTaggedNode\n",
        "mdp_graph = {\n",
        "    'R0': GraphNode(node_type='road',\n",
        "                    out_edges={\n",
        "                        'to_next': [InputTaggedNode(node_id='R1', in_edge='from_prev')],\n",
        "                        'to_prev': [InputTaggedNode(node_id='R1', in_edge='from_next')],\n",
        "                        'to_house': [InputTaggedNode(node_id='H0', in_edge='from_road')]\n",
        "                    }),\n",
        "    'R1': GraphNode(node_type='road',\n",
        "                    out_edges={\n",
        "                        'to_next': [InputTaggedNode(node_id='R0', in_edge='from_prev')],\n",
        "                        'to_prev': [InputTaggedNode(node_id='R0', in_edge='from_next'),\n",
        "                                    InputTaggedNode(node_id='R3', in_edge='from_next')],\n",
        "                        'to_house': [InputTaggedNode(node_id='H1', in_edge='from_road')]\n",
        "                    }),\n",
        "    'R2': GraphNode(node_type='road',\n",
        "                    out_edges={\n",
        "                        'to_next': [InputTaggedNode(node_id='R3', in_edge='from_prev'),\n",
        "                                    InputTaggedNode(node_id='R4', in_edge='from_prev')],\n",
        "                        'to_prev': [InputTaggedNode(node_id='R4', in_edge='from_next')],\n",
        "                        'to_house': [InputTaggedNode(node_id='R2', in_edge='no_house_here')]\n",
        "                    }),\n",
        "    'R3': GraphNode(node_type='road',\n",
        "                    out_edges={\n",
        "                        'to_next': [InputTaggedNode(node_id='R1', in_edge='from_prev')],\n",
        "                        'to_prev': [InputTaggedNode(node_id='R2', in_edge='from_next')],\n",
        "                        'to_house': [InputTaggedNode(node_id='H2', in_edge='from_road')]\n",
        "                    }),\n",
        "    'R4': GraphNode(node_type='road',\n",
        "                    out_edges={\n",
        "                        'to_next': [InputTaggedNode(node_id='R2', in_edge='from_prev')],\n",
        "                        'to_prev': [InputTaggedNode(node_id='R2', in_edge='from_next')],\n",
        "                        'to_house': [InputTaggedNode(node_id='R4', in_edge='no_house_here')]\n",
        "                    }),\n",
        "    'H0': GraphNode(node_type='house',\n",
        "                    out_edges={\n",
        "                        'to_road': [InputTaggedNode(node_id='R0', in_edge='from_house')]\n",
        "                    }),\n",
        "    'H1': GraphNode(node_type='house',\n",
        "                    out_edges={\n",
        "                        'to_road': [InputTaggedNode(node_id='R1', in_edge='from_house')]\n",
        "                    }),\n",
        "    'H2': GraphNode(node_type='house',\n",
        "                    out_edges={\n",
        "                        'to_road': [InputTaggedNode(node_id='R3', in_edge='from_house')]\n",
        "                    }),\n",
        "}\n",
        "\n",
        "schema_util.assert_conforms_to_schema(mdp_graph, road_network_schema)"
      ],
      "execution_count": 12,
      "outputs": []
    },
    {
      "cell_type": "markdown",
      "metadata": {
        "id": "oWxKGiDHinxz"
      },
      "source": [
        "Note that every action must have at least one destination and associated observation! This is the case even for roads with no house, for which the \"to_house\" action results in staying in place and getting a special sentinel observation."
      ]
    },
    {
      "cell_type": "markdown",
      "metadata": {
        "id": "LLXLYzdg62zd"
      },
      "source": [
        "## Encoding MDP graphs into GFSA-compatible NDArrays"
      ]
    },
    {
      "cell_type": "markdown",
      "metadata": {
        "id": "1sirS_gVjO-d"
      },
      "source": [
        "Once you have an MDP graph that conforms to a schema, you can use an automaton builder object to encode that graph into a set of NDArrays:"
      ]
    },
    {
      "cell_type": "code",
      "metadata": {
        "id": "W8S-peKCjUWu",
        "colab": {
          "base_uri": "https://localhost:8080/"
        },
        "outputId": "bf3f3861-0323-45de-ab0a-5d54c254769a"
      },
      "source": [
        "road_builder = automaton_builder.AutomatonBuilder(road_network_schema)\n",
        "pprint(summarize_tree(road_builder.encode_graph(mdp_graph, as_jax=False)))"
      ],
      "execution_count": 13,
      "outputs": [
        {
          "output_type": "stream",
          "text": [
            "(EncodedGraph(\n",
            "     initial_to_in_tagged=SparseCoordOperator(\n",
            "                              input_indices='int32(20, 1) [1, 16] nz:1.0',\n",
            "                              output_indices='int32(20, 2) [0, 17] nz:0.9',\n",
            "                              values='float32(20,) 0.9 ±0.2 [0.5, 1.0]'),\n",
            "     initial_to_special='int32(8,) [1, 6] nz:1.0',\n",
            "     in_tagged_to_in_tagged=SparseCoordOperator(\n",
            "                                input_indices='int32(54, 1) [0, 13] nz:0.94',\n",
            "                                output_indices='int32(54, 2) [0, 17] nz:0.96',\n",
            "                                values='float32(54,) 0.89 ±0.21 [0.5, 1.0]'),\n",
            "     in_tagged_to_special='int32(18,) [0, 5] nz:0.83',\n",
            "     in_tagged_node_indices='int32(18,) [0, 7] nz:0.83'),\n",
            " EncodedGraphMetadata(num_nodes=8, num_input_tagged_nodes=18))\n"
          ],
          "name": "stdout"
        }
      ]
    },
    {
      "cell_type": "markdown",
      "metadata": {
        "id": "p-bKOQVdWo2Q"
      },
      "source": [
        "## Using the high-level Flax wrapper API\n"
      ]
    },
    {
      "cell_type": "markdown",
      "metadata": {
        "id": "S20Jg2VCjj3L"
      },
      "source": [
        "Once you have an encoded MDP graph, you can feed it as input to the high-level GFSA layer class, `automaton_layer.FiniteStateGraphAutomaton`.\n",
        "\n",
        "The required inputs to this layer are:\n",
        "- encoded_graph: The encoded graph for this example. This may be padded to a larger size with zeros.\n",
        "- dynamic_metadata: The true size of this example, giving the number of nodes and the number of (node, observation) pairs.\n",
        "- static_metadata: The padded size of the input, which should be the same across all graphs.\n",
        "- builder: The builder object for this automaton, which also keeps track of the schema used to encode the graph.\n",
        "\n",
        "The parameters for this layer are initialized automatically when the layer is used, according to the conventions of the (pre-Linen) `flax.deprecated.nn` API.\n",
        "\n",
        "The `variant_weights` argument is optional, and allows you to specify extra pairwise dependencies between nodes in the graph. This can be used to allow the agent to take different actions when it reaches variables that are the same as the variable used at the start location, for instance. This must sum to 1 across all variants, but it is allowed to be continuous, and can be differentiated through (so it could be the softmax-normalized output of a neural network).\n",
        "\n",
        "Useful hyperparameters:\n",
        "- `num_out_edges` determines how many types of edges to generate in parallel.\n",
        "- `num_intermediate_states` determines how many non-initial automaton hidden states there are. Higher numbers give the policy more memory but make it slower to train.\n",
        "- `share_states_across_edges` determines whether the intermediate states are shared between multiple parallel edge types. Only used if `num_out_edges > 1`.\n",
        "- `logit_scaling`: Determines whether or not to apply the learned adjustment parameters, which allow one-to-many relationships.\n",
        "\n",
        "The return value of this layer is a matrix `[num_nodes, num_nodes, num_out_edges]` containing probabilities between 0 and 1 for each pair of nodes and each edge type. Since this output is differentiable with respect to the parameters, this matrix can be used in a variety of ways. For instance, `model/end_to_end_stack.py` shows how to combine the GFSA layer with graph neural network layers."
      ]
    },
    {
      "cell_type": "markdown",
      "metadata": {
        "id": "KUEURzZmW0pa"
      },
      "source": [
        "## Optional: Using the low-level GFSA building blocks"
      ]
    },
    {
      "cell_type": "markdown",
      "metadata": {
        "id": "aFaKY1bjl7CG"
      },
      "source": [
        "The GFSA layer's internal operations can also be executed independently of the Flax wrapper. Some of the interesting functions include:\n",
        "\n",
        "- `automaton_builder.AutomatonBuilder.initialize_routing_params` constructs a randomly-initialized policy for a given schema\n",
        "- `automaton_builder.AutomatonBuilder.routing_softmax` normalizes a policy using softmax, to allow optimization in unconstrained logit space\n",
        "- `automaton_builder.AutomatonBuilder.build_transition_matrix` combines a policy with an encoded MDP graph to obtain a transition matrix for the absorbing Markov chain\n",
        "- `automaton_builder.all_nodes_absorbing_solve` constructs and solves the linear system to determine the absorbing distribution\n",
        "- `linear_solvers.richardson_solve` solves an arbitrary diagonally-dominant linear system using fixed-point iteration, and handles the custom gradient rules for the linear solver\n",
        "- `automaton_builder.unroll_chain_steps` unrolls the transitions of the automaton over time for visualization and analysis purposes\n",
        "- `automaton_sampling.all_nodes_particle_estimate` provides a stochastic and non-differentiable approximation to `automaton_builder.all_nodes_absorbing_solve` using multiple rollouts (used for RL ablation experiments)\n",
        "- `model_util.safe_logit` converts from probability space to logit space in order to do the one-to-many adjustment.\n",
        "\n",
        "See each function for additional documentation."
      ]
    }
  ]
}
