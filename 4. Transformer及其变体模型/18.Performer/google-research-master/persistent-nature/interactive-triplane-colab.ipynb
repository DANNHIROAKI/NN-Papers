{
  "nbformat": 4,
  "nbformat_minor": 0,
  "metadata": {
    "colab": {
      "provenance": [],
      "gpuType": "T4"
    },
    "kernelspec": {
      "name": "python3",
      "display_name": "Python 3"
    },
    "language_info": {
      "name": "python"
    },
    "accelerator": "GPU",
    "gpuClass": "standard"
  },
  "cells": [
    {
      "cell_type": "markdown",
      "source": [
        "Copyright 2023 Google LLC. SPDX-License-Identifier: Apache-2.0\n",
        "\n",
        "Licensed under the Apache License, Version 2.0 (the \"License\"); you may not use this file except in compliance with the License. You may obtain a copy of the License at\n",
        "\n",
        "https://www.apache.org/licenses/LICENSE-2.0\n",
        "\n",
        "Unless required by applicable law or agreed to in writing, software distributed under the License is distributed on an \"AS IS\" BASIS, WITHOUT WARRANTIES OR CONDITIONS OF ANY KIND, either express or implied. See the License for the specific language governing permissions and limitations under the License."
      ],
      "metadata": {
        "id": "K8hG1oJ_lHmo"
      }
    },
    {
      "cell_type": "markdown",
      "source": [
        "# Persistent Nature: Interactive Widget - Triplane Model"
      ],
      "metadata": {
        "id": "Ybs-1iqxlVQc"
      }
    },
    {
      "cell_type": "markdown",
      "source": [
        "## Download Dependencies"
      ],
      "metadata": {
        "id": "8U5LxiVjlXWF"
      }
    },
    {
      "cell_type": "code",
      "source": [
        "! pip install ninja --quiet\n",
        "! pip install git+https://github.com/davidbau/baukit --quiet\n",
        "! pip install git+https://github.com/openai/CLIP.git --quiet\n",
        "! pip install einops --quiet"
      ],
      "metadata": {
        "id": "Vsiw9sEFlYVZ"
      },
      "execution_count": null,
      "outputs": []
    },
    {
      "cell_type": "code",
      "source": [
        "! git clone https://github.com/google-research/google-research.git"
      ],
      "metadata": {
        "id": "qkKADkRxlbzk"
      },
      "execution_count": null,
      "outputs": []
    },
    {
      "cell_type": "code",
      "source": [
        "%cd google-research/persistent-nature"
      ],
      "metadata": {
        "id": "Z3bRYPwGlfHT"
      },
      "execution_count": null,
      "outputs": []
    },
    {
      "cell_type": "code",
      "source": [
        "%%capture\n",
        "! bash patch.sh\n",
        "! bash download.sh"
      ],
      "metadata": {
        "id": "1xv6dnpdlglc"
      },
      "execution_count": null,
      "outputs": []
    },
    {
      "cell_type": "code",
      "source": [
        "! ls"
      ],
      "metadata": {
        "id": "e5IUMyQ5liTa"
      },
      "execution_count": null,
      "outputs": []
    },
    {
      "cell_type": "markdown",
      "source": [
        "## Setup models"
      ],
      "metadata": {
        "id": "FSUP-tZjlkQ3"
      }
    },
    {
      "cell_type": "code",
      "source": [
        "import torch\n",
        "from PIL import Image\n",
        "import pickle\n",
        "import numpy as np\n",
        "from IPython.display import display\n",
        "from ipywidgets import HTML, Button, HBox, VBox, Layout\n",
        "from baukit import renormalize\n",
        "from models.triplane import model_full\n",
        "from utils import sky_util, soat_util_triplane, camera_util, noise_util\n"
      ],
      "metadata": {
        "id": "qpY04qJglkj9"
      },
      "execution_count": null,
      "outputs": []
    },
    {
      "cell_type": "code",
      "source": [
        "torch.set_grad_enabled(False)\n",
        "device = 'cuda'"
      ],
      "metadata": {
        "id": "BpYbqENDl8kO"
      },
      "execution_count": null,
      "outputs": []
    },
    {
      "cell_type": "code",
      "source": [
        "full_model = model_full.ModelFull('pretrained/model_triplane.pkl', 'pretrained/model_sky_360.pkl').to(device).eval()"
      ],
      "metadata": {
        "id": "HVcePJ84m_wE"
      },
      "execution_count": null,
      "outputs": []
    },
    {
      "cell_type": "code",
      "source": [
        "G = soat_util_triplane.init_soat_model(full_model.ground).eval().cuda()\n",
        "G_pano = full_model.sky.G\n",
        "grid = sky_util.make_grid(G_pano)\n",
        "input_layer = G_pano.synthesis.input\n",
        "\n",
        "# settings\n",
        "fov = 60\n",
        "box_warp = G.rendering_kwargs['box_warp']\n",
        "G.rendering_kwargs['ray_end'] *= 2\n",
        "G.rendering_kwargs['depth_resolution'] *= 2\n",
        "G.rendering_kwargs['depth_resolution_importance'] *= 2\n",
        "G.rendering_kwargs['y_clip'] = 8.0\n",
        "G.rendering_kwargs['decay_start'] = 0.9 * G.rendering_kwargs['ray_end']\n",
        "G.rendering_kwargs['sample_deterministic'] = True"
      ],
      "metadata": {
        "id": "E369mphFnBHu"
      },
      "execution_count": null,
      "outputs": []
    },
    {
      "cell_type": "markdown",
      "source": [
        "## Generate Initial Layout and Skydome Env Map"
      ],
      "metadata": {
        "id": "JIcWD-eknLH3"
      }
    },
    {
      "cell_type": "code",
      "source": [
        "seed = 10 # np.random.randint(0, 1000)\n",
        "grid_size = 5\n",
        "zs, c = soat_util_triplane.prepare_zs(seed, grid_h=grid_size, grid_w=grid_size)\n",
        "zs = soat_util_triplane.interpolate_zs(zs)\n",
        "\n",
        "# generate feature planes\n",
        "xz_soat = soat_util_triplane.generate_xz(zs, c) # [1, 32, 512, 512]\n",
        "xy_soat = soat_util_triplane.generate_xy(zs, c) # 2 x [1, 32, 256, 512]\n",
        "yz_soat = soat_util_triplane.generate_yz(zs, c) # 2 x [1, 32, 256, 512]\n",
        "planes = [xy_soat, xz_soat, yz_soat]\n",
        "\n",
        "# set up upsampler and sky inputs\n",
        "z = zs[0,0] # extract a z latent for the upsampler\n",
        "ws = soat_util_triplane.prepare_ws(z, torch.zeros_like(c))\n",
        "sky_z = z[:, : G_pano.z_dim]\n",
        "\n",
        "# rendered noise (may not be used depending on noise_mode for upsampler)\n",
        "noise_gen = noise_util.build_soat_noise(G, grid_size)\n",
        "noise_input = noise_gen.get_noise(batch_size=1, device=zs.device)"
      ],
      "metadata": {
        "id": "PdFAVIa5nL-S"
      },
      "execution_count": null,
      "outputs": []
    },
    {
      "cell_type": "code",
      "source": [
        "# How fast we adjust. Too large and it will overshoot.\n",
        "# Too small and it will not react in time to avoid mountains.\n",
        "tilt_velocity_scale = .3    # Keep this small, otherwise you'll get motion sickness.\n",
        "offset_velocity_scale = .5\n",
        "\n",
        "# How far up the image should the horizon be, ideally.\n",
        "# Suggested range: 0.5 to 0.7.\n",
        "horizon_target = 0.65\n",
        "\n",
        "# What proportion of the depth map should be \"near\" the camera, ideally.\n",
        "# The smaller the number, the higher up the camera will fly.\n",
        "# Suggested range: 0.05 to 0.2\n",
        "near_target = 0.2\n",
        "\n",
        "offset = 0.\n",
        "tilt = 0.\n",
        "initial_stabilize_frames = 10\n",
        "\n",
        "# sample a random camera\n",
        "sampled_camera, cam2world_matrix, intrinsics = soat_util_triplane.sample_random_camera(fov, box_warp, seed)\n",
        "intrinsics_matrix = intrinsics[None].to(device)\n",
        "\n",
        "# balance camera above the horizon\n",
        "for _ in range(10):\n",
        "    adjusted_cam = camera_util.adjust_camera_vertically(sampled_camera, offset, tilt)\n",
        "    outputs, horizon, near = soat_util_triplane.generate_frame(\n",
        "        G, adjusted_cam, planes, ws, intrinsics_matrix, noise_input)\n",
        "    tilt += tilt_velocity_scale*(horizon - horizon_target)\n",
        "    offset += offset_velocity_scale*(near - near_target)\n",
        "print(adjusted_cam)\n",
        "\n",
        "# generate sky texture\n",
        "img_w_gray_sky = outputs['image_w_gray_sky']\n",
        "sky_encode = full_model.sky.encode(img_w_gray_sky)\n",
        "start_grid = sky_util.generate_start_grid(seed, input_layer, grid)\n",
        "sky_texture = sky_util.generate_pano_transform(G_pano, sky_z, sky_encode, start_grid)\n",
        "sky_texture = sky_texture.cuda()[None]\n",
        "display(renormalize.as_image(sky_texture[0]))"
      ],
      "metadata": {
        "id": "oqbpzSLVnNZT"
      },
      "execution_count": null,
      "outputs": []
    },
    {
      "cell_type": "markdown",
      "source": [
        "## Interactive Widget"
      ],
      "metadata": {
        "id": "G3eWHnwOnVW7"
      }
    },
    {
      "cell_type": "code",
      "source": [
        "l = HTML(\"\")\n",
        "h = HTML(\"\")\n",
        "display_size = (256, 256)\n",
        "\n",
        "\n",
        "layout_params = Layout(width='80px', height='40px')\n",
        "words = ['', 'forward', '', 'left', 'reset', 'right', '', 'backward', '']\n",
        "items = [Button(description=w, layout = layout_params) for w in words]\n",
        "top_box = HBox(items[:3])\n",
        "mid_box = HBox(items[3:6])\n",
        "bottom_box = HBox(items[6:])\n",
        "arrows = VBox([top_box, mid_box, bottom_box])\n",
        "\n",
        "\n",
        "camera = adjusted_cam\n",
        "camera_util.INITIAL_CAMERA = adjusted_cam\n",
        "h.value = str(camera)\n",
        "\n",
        "\n",
        "def update_display(outputs, camera):\n",
        "    composite_rgb_url = renormalize.as_url(outputs['composite'][0], size=display_size)\n",
        "\n",
        "\n",
        "    # calculate xyz points\n",
        "    ray_origins, ray_directions = G.ray_sampler(outputs['cam2world_matrix'], intrinsics_matrix, 32)\n",
        "    t_val = torch.linspace(G.rendering_kwargs['ray_start'], G.rendering_kwargs['ray_end'], 100, device=device).view(1, 1, -1, 1)\n",
        "    xyz = (ray_origins.unsqueeze(-2) + t_val * ray_directions.unsqueeze(-2))\n",
        "    vis_rays =  camera_util.visualize_rays(G, outputs['world2cam_matrix'], xyz,\n",
        "                                       xz_soat, display_size[0])\n",
        "    cam_img = renormalize.as_image(vis_rays)\n",
        "    cam_url = renormalize.as_url(cam_img, size=display_size)\n",
        "    img_html = ('<div class=\"row\"> <img src=\"%s\"/> <img src=\"%s\"/> </div>' % (composite_rgb_url, cam_url))\n",
        "    l.value = img_html\n",
        "    h.value = str(camera)\n",
        "\n",
        "def handle_event(event):\n",
        "    global camera, offset, tilt\n",
        "    camera = camera_util.update_camera(camera, event['key'], auto_adjust_height_and_tilt=True)\n",
        "    c = camera_util.adjust_camera_vertically(camera, offset, tilt)\n",
        "    outputs, horizon, near = soat_util_triplane.generate_frame(\n",
        "        G, c, planes, ws, intrinsics_matrix, noise_input, sky_texture=sky_texture)\n",
        "    tilt += tilt_velocity_scale*(horizon - horizon_target)\n",
        "    offset += offset_velocity_scale*(near - near_target)\n",
        "    update_display(outputs, c)\n",
        "\n",
        "def on_button_clicked(b):\n",
        "    clicked = b.description\n",
        "    options = {'forward': 'w', 'backward': 's', 'left': 'a',\n",
        "               'right': 'd', 'reset': 'x'}\n",
        "    val = options.get(clicked)\n",
        "    if val:\n",
        "        handle_event({'key': val})\n",
        "\n",
        "\n",
        "for button in items:\n",
        "    button.on_click(on_button_clicked)\n",
        "\n",
        "display(h, HBox([l, arrows]))\n",
        "handle_event({'key': 'x'})"
      ],
      "metadata": {
        "id": "X2xvcjZmnP4B"
      },
      "execution_count": null,
      "outputs": []
    }
  ]
}
