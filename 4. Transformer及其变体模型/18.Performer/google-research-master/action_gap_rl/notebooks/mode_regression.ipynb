{
  "nbformat": 4,
  "nbformat_minor": 0,
  "metadata": {
    "colab": {
      "name": "mode_regression.ipynb",
      "provenance": [],
      "collapsed_sections": [],
      "last_runtime": {
        "build_target": "//learning/brain/python/client:colab_notebook_py3",
        "kind": "private"
      }
    },
    "kernelspec": {
      "name": "python3",
      "display_name": "Python 3"
    }
  },
  "cells": [
    {
      "cell_type": "markdown",
      "metadata": {
        "id": "bZCvVbB1gbGH",
        "colab_type": "text"
      },
      "source": [
        "***Copyright 2020 Google LLC.***\n",
        "\n",
        "Licensed under the Apache License, Version 2.0 (the \"License\");"
      ]
    },
    {
      "cell_type": "code",
      "metadata": {
        "id": "X_Kwbd8GgW6k",
        "colab_type": "code",
        "colab": {}
      },
      "source": [
        "#@title Default title text\n",
        "# Licensed under the Apache License, Version 2.0 (the \"License\");\n",
        "# you may not use this file except in compliance with the License.\n",
        "# You may obtain a copy of the License at\n",
        "#\n",
        "# https://www.apache.org/licenses/LICENSE-2.0\n",
        "#\n",
        "# Unless required by applicable law or agreed to in writing, software\n",
        "# distributed under the License is distributed on an \"AS IS\" BASIS,\n",
        "# WITHOUT WARRANTIES OR CONDITIONS OF ANY KIND, either express or implied.\n",
        "# See the License for the specific language governing permissions and\n",
        "# limitations under the License."
      ],
      "execution_count": 0,
      "outputs": []
    },
    {
      "cell_type": "markdown",
      "metadata": {
        "id": "eRfbvz9TC5mC",
        "colab_type": "text"
      },
      "source": [
        "# Goal\n",
        "We want to build a model $h_\\theta(s) \\rightarrow a^*$ which predicts the mode $a^*$ of some target distribution, for which we have unnormalized log-probabilities, $y$.\n",
        "\n",
        "Stated another way, we want to find an appropriate loss L s.t. it is tractable to solve\n",
        "$$\n",
        "\\text{argmin}_\\theta \\sum\\limits_{i=1}^N L(\\pi(a_i \\mid h_\\theta(s_i)), y_i)\n",
        "$$\n",
        "where $\\theta$ are model parameters, $h$ is a model that depends on context $s$ and outputs the mode of $\\pi$, and $\\pi(a \\mid \\text{mode})$ is the predicted probability of action $a$. $y$ is information about the target distribution. We want the mode of $\\pi$ to correspond to areas where $y$ is maximized."
      ]
    },
    {
      "cell_type": "markdown",
      "metadata": {
        "id": "Is6D13WmZt_R",
        "colab_type": "text"
      },
      "source": [
        "## Candidate\n",
        "$$\n",
        "L(a, h_\\theta(s), y) = \\left\\lvert -\\lvert h_\\theta(s) - a\\rvert^p - y \\right\\rvert^{1/p}\n",
        "$$\n",
        "\n",
        "where $p$ is close to 0."
      ]
    },
    {
      "cell_type": "code",
      "metadata": {
        "id": "W9Uaw7FTA92B",
        "colab_type": "code",
        "colab": {}
      },
      "source": [
        "import numpy as np\n",
        "import tensorflow.compat.v2 as tf\n",
        "import matplotlib.pyplot as plt"
      ],
      "execution_count": 0,
      "outputs": []
    },
    {
      "cell_type": "code",
      "metadata": {
        "id": "Gel0tTnHBExg",
        "colab_type": "code",
        "colab": {}
      },
      "source": [
        "tf.enable_v2_behavior()"
      ],
      "execution_count": 0,
      "outputs": []
    },
    {
      "cell_type": "code",
      "metadata": {
        "id": "590nNksQLGYY",
        "colab_type": "code",
        "colab": {}
      },
      "source": [
        "n = 20\n",
        "lower, upper = -2, 2\n",
        "modes_x, modes_y = zip(*[  # (x, y)\n",
        "    (-1., -20),\n",
        "    (0.0, -20),\n",
        "    (1., -20),\n",
        "])\n",
        "\n",
        "x = np.concatenate((modes_x, np.random.uniform(lower, upper, size=n-len(modes_x))))\n",
        "y = np.random.uniform(-1000, -300, size=n)\n",
        "y[:len(modes_x)] = modes_y\n",
        "y /= np.max(np.abs(y))"
      ],
      "execution_count": 0,
      "outputs": []
    },
    {
      "cell_type": "code",
      "metadata": {
        "id": "YL40sNChBJPL",
        "colab_type": "code",
        "outputId": "a534abb7-e21c-42aa-8215-888a3e941210",
        "executionInfo": {
          "status": "ok",
          "timestamp": 1568767739291,
          "user_tz": 420,
          "elapsed": 585,
          "user": {
            "displayName": "Dan Abolafia",
            "photoUrl": "https://lh3.googleusercontent.com/a-/AAuE7mAQmxyT8biPkQeDgz5lf2ocSzJsOqH8BqBuLz1a=s64",
            "userId": "05741471333872541970"
          }
        },
        "colab": {
          "height": 269
        }
      },
      "source": [
        "plt.scatter(x, y)\n",
        "plt.show()"
      ],
      "execution_count": 0,
      "outputs": [
        {
          "output_type": "display_data",
          "data": {
            "image/png": "[encoded data removed]",
            "text/plain": [
              "<Figure size 600x400 with 1 Axes>"
            ]
          },
          "metadata": {
            "tags": []
          }
        }
      ]
    },
    {
      "cell_type": "markdown",
      "metadata": {
        "id": "6telOnwE-DLY",
        "colab_type": "text"
      },
      "source": [
        "Generalize the loss above to\n",
        "$$\n",
        "L(a, h_\\theta(s), y) = \\left\\lvert -\\lvert h_\\theta(s) - a\\rvert^p - y \\right\\rvert^{q}\n",
        "$$\n",
        "\n",
        "where $q = 1/p$. Bringing $p$ arbitrarily close to 0 converges to the non-differentiable $L^0$ loss. Choosing $p=0.1$ seems to be small enough for practable purposes."
      ]
    },
    {
      "cell_type": "code",
      "metadata": {
        "id": "kgBlN0u4BN4O",
        "colab_type": "code",
        "outputId": "1bae9bcb-0178-4787-b8db-5b264b1c68ab",
        "executionInfo": {
          "status": "ok",
          "timestamp": 1568767739936,
          "user_tz": 420,
          "elapsed": 633,
          "user": {
            "displayName": "Dan Abolafia",
            "photoUrl": "https://lh3.googleusercontent.com/a-/AAuE7mAQmxyT8biPkQeDgz5lf2ocSzJsOqH8BqBuLz1a=s64",
            "userId": "05741471333872541970"
          }
        },
        "colab": {
          "height": 269
        }
      },
      "source": [
        "# Mode\n",
        "\n",
        "p=0.1\n",
        "q=1/p\n",
        "t = np.linspace(-2,2,200).reshape(-1, 1)\n",
        "L = np.mean(np.power(np.abs(-np.power(np.abs(t - x[np.newaxis,:]), p) - y[np.newaxis,:]), q), axis=1)\n",
        "plt.plot(t, L)\n",
        "plt.show()"
      ],
      "execution_count": 0,
      "outputs": [
        {
          "output_type": "display_data",
          "data": {
            "image/png": "[encoded data removed]",
            "text/plain": [
              "<Figure size 600x400 with 1 Axes>"
            ]
          },
          "metadata": {
            "tags": []
          }
        }
      ]
    },
    {
      "cell_type": "code",
      "metadata": {
        "id": "rbpdMMo1cDcg",
        "colab_type": "code",
        "outputId": "8bfa779a-d9cd-42fc-be2b-e3472e7d66a4",
        "executionInfo": {
          "status": "ok",
          "timestamp": 1568240846788,
          "user_tz": 420,
          "elapsed": 611,
          "user": {
            "displayName": "Dan Abolafia",
            "photoUrl": "https://lh3.googleusercontent.com/a-/AAuE7mAQmxyT8biPkQeDgz5lf2ocSzJsOqH8BqBuLz1a=s64",
            "userId": "05741471333872541970"
          }
        },
        "colab": {
          "height": 269
        }
      },
      "source": [
        "# Median\n",
        "\n",
        "p=1.0\n",
        "q=2.0\n",
        "t = np.linspace(-2,2,200).reshape(-1, 1)\n",
        "L = np.mean(np.power(np.abs(-np.power(np.abs(t - x[np.newaxis,:]), p) - y[np.newaxis,:]), q), axis=1)\n",
        "#plt.ylim(0.5, 1.)\n",
        "plt.plot(t, L)\n",
        "plt.show()"
      ],
      "execution_count": 0,
      "outputs": [
        {
          "output_type": "display_data",
          "data": {
            "image/png": "[encoded data removed]",
            "text/plain": [
              "<Figure size 600x400 with 1 Axes>"
            ]
          },
          "metadata": {
            "tags": []
          }
        }
      ]
    },
    {
      "cell_type": "code",
      "metadata": {
        "id": "6oJ-yA-8BrT4",
        "colab_type": "code",
        "outputId": "07efa0fe-48cf-4a7c-d76f-96be7bbc685d",
        "executionInfo": {
          "status": "ok",
          "timestamp": 1568240838954,
          "user_tz": 420,
          "elapsed": 628,
          "user": {
            "displayName": "Dan Abolafia",
            "photoUrl": "https://lh3.googleusercontent.com/a-/AAuE7mAQmxyT8biPkQeDgz5lf2ocSzJsOqH8BqBuLz1a=s64",
            "userId": "05741471333872541970"
          }
        },
        "colab": {
          "height": 269
        }
      },
      "source": [
        "# Mean\n",
        "\n",
        "p=2.0\n",
        "q=2.0\n",
        "t = np.linspace(-2,2,200).reshape(-1, 1)\n",
        "L = np.mean(np.power(np.abs(-np.power(np.abs(t - x[np.newaxis,:]), p) - y[np.newaxis,:]), q), axis=1)\n",
        "#plt.ylim(0.5, 1.)\n",
        "plt.plot(t, L)\n",
        "plt.show()"
      ],
      "execution_count": 0,
      "outputs": [
        {
          "output_type": "display_data",
          "data": {
            "image/png": "[encoded data removed]",
            "text/plain": [
              "<Figure size 600x400 with 1 Axes>"
            ]
          },
          "metadata": {
            "tags": []
          }
        }
      ]
    },
    {
      "cell_type": "code",
      "metadata": {
        "id": "YdH9FIACacrE",
        "colab_type": "code",
        "colab": {}
      },
      "source": [
        ""
      ],
      "execution_count": 0,
      "outputs": []
    }
  ]
}