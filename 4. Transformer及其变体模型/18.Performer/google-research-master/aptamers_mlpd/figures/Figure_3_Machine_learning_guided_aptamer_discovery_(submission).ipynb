{
  "cells": [
    {
      "metadata": {
        "id": "DhWmZgAVwDGu",
        "colab_type": "text"
      },
      "cell_type": "markdown",
      "source": [
        "Copyright 2021 Google LLC\n",
        "\n",
        "Licensed under the Apache License, Version 2.0 (the \"License\");\n",
        "you may not use this file except in compliance with the License.\n",
        "You may obtain a copy of the License at\n",
        "\n",
        "    https://www.apache.org/licenses/LICENSE-2.0\n",
        "\n",
        "Unless required by applicable law or agreed to in writing, software\n",
        "distributed under the License is distributed on an \"AS IS\" BASIS,\n",
        "WITHOUT WARRANTIES OR CONDITIONS OF ANY KIND, either express or implied.\n",
        "See the License for the specific language governing permissions and\n",
        "limitations under the License."
      ]
    },
    {
      "cell_type": "markdown",
      "metadata": {
        "id": "aY9ia0-D7xWb"
      },
      "source": [
        "# Overview\n",
        "This notebook generates the estimated affinity values  (and corresponding summary plots) for experimental seeds (Figure 3A) and different walking strategies (Figure 3B)."
      ]
    },
    {
      "cell_type": "code",
      "execution_count": null,
      "metadata": {
        "id": "fMEeBFEHjYga"
      },
      "outputs": [],
      "source": [
        "import numpy as np\n",
        "import pandas as pd    \n",
        "import plotnine as p9"
      ]
    },
    {
      "cell_type": "markdown",
      "metadata": {
        "id": "36xx8bp4T8Df"
      },
      "source": [
        "# Parameters used in manuscript"
      ]
    },
    {
      "cell_type": "code",
      "execution_count": null,
      "metadata": {
        "id": "HlfJSFtKV3VH"
      },
      "outputs": [],
      "source": [
        "# Fraction of expected bead coverage from sequencing to consider non-contamination\n",
        "# For example, a tolerated bead fraction of 0.2 means that if, based on read \n",
        "# depth and number of beads, there are 100 reads expected per bead, then \n",
        "# sequences with fewer than 20 reads would be excluded from analysis.\n",
        "TOLERATED_BEAD_FRAC = 0.2 \n",
        "\n",
        "# Ratio cutoff between positive and negative pools to count as being real.\n",
        "# The ratio is calculated normalized by read depth, so if the ratio is 0.5, \n",
        "# then positive sequences are expected to have equal read depth (or more) in \n",
        "# the positive pool as the negative pool. So, as a toy example, if the \n",
        "# positive pool had 100 reads total and the negative pool had 200 reads total,\n",
        "# then a sequence with 5 reads in the positive pool and 10 reads in the \n",
        "# negative pool would have a ratio of 0.5.\n",
        "POS_NEG_RATIO_CUTOFF = 0.5\n",
        "\n",
        "# Minimum required reads (when 0 it uses only the above filters)\n",
        "MIN_READ_THRESH = 0"
      ]
    },
    {
      "cell_type": "code",
      "execution_count": null,
      "metadata": {
        "colab": {
          "base_uri": "https://localhost:8080/",
          "height": 173
        },
        "executionInfo": {
          "elapsed": 481,
          "status": "ok",
          "timestamp": 1603474417220,
          "user": {
            "displayName": "Ali Bashir",
            "userId": "01976351517997791084"
          },
          "user_tz": 420
        },
        "id": "EaDYmK8MTNQ2",
        "outputId": "710708e4-5cc6-4644-c330-7edcec823a13"
      },
      "outputs": [
        {
          "data": {
            "text/html": [
              "\u003cdiv\u003e\n",
              "\u003cstyle scoped\u003e\n",
              "    .dataframe tbody tr th:only-of-type {\n",
              "        vertical-align: middle;\n",
              "    }\n",
              "\n",
              "    .dataframe tbody tr th {\n",
              "        vertical-align: top;\n",
              "    }\n",
              "\n",
              "    .dataframe thead th {\n",
              "        text-align: right;\n",
              "    }\n",
              "\u003c/style\u003e\n",
              "\u003ctable border=\"1\" class=\"dataframe\"\u003e\n",
              "  \u003cthead\u003e\n",
              "    \u003ctr style=\"text-align: right;\"\u003e\n",
              "      \u003cth\u003e\u003c/th\u003e\n",
              "      \u003cth\u003eapt_collected\u003c/th\u003e\n",
              "      \u003cth\u003eapt_screened\u003c/th\u003e\n",
              "      \u003cth\u003econdition\u003c/th\u003e\n",
              "      \u003cth\u003econdition_flag\u003c/th\u003e\n",
              "      \u003cth\u003eseq_input\u003c/th\u003e\n",
              "      \u003cth\u003estringency\u003c/th\u003e\n",
              "    \u003c/tr\u003e\n",
              "  \u003c/thead\u003e\n",
              "  \u003ctbody\u003e\n",
              "    \u003ctr\u003e\n",
              "      \u003cth\u003e0\u003c/th\u003e\n",
              "      \u003ctd\u003e12204\u003c/td\u003e\n",
              "      \u003ctd\u003e3283890.016\u003c/td\u003e\n",
              "      \u003ctd\u003eround1_very_positive\u003c/td\u003e\n",
              "      \u003ctd\u003eround1_very_flag\u003c/td\u003e\n",
              "      \u003ctd\u003e200000\u003c/td\u003e\n",
              "      \u003ctd\u003eVery High\u003c/td\u003e\n",
              "    \u003c/tr\u003e\n",
              "    \u003ctr\u003e\n",
              "      \u003cth\u003e1\u003c/th\u003e\n",
              "      \u003ctd\u003e50353\u003c/td\u003e\n",
              "      \u003ctd\u003e6628573.952\u003c/td\u003e\n",
              "      \u003ctd\u003eround1_high_positive\u003c/td\u003e\n",
              "      \u003ctd\u003eround1_high_flag\u003c/td\u003e\n",
              "      \u003ctd\u003e200000\u003c/td\u003e\n",
              "      \u003ctd\u003eHigh\u003c/td\u003e\n",
              "    \u003c/tr\u003e\n",
              "    \u003ctr\u003e\n",
              "      \u003cth\u003e2\u003c/th\u003e\n",
              "      \u003ctd\u003e153845\u003c/td\u003e\n",
              "      \u003ctd\u003e5801469.696\u003c/td\u003e\n",
              "      \u003ctd\u003eround1_medium_positive\u003c/td\u003e\n",
              "      \u003ctd\u003eround1_medium_flag\u003c/td\u003e\n",
              "      \u003ctd\u003e200000\u003c/td\u003e\n",
              "      \u003ctd\u003eMedium\u003c/td\u003e\n",
              "    \u003c/tr\u003e\n",
              "    \u003ctr\u003e\n",
              "      \u003cth\u003e3\u003c/th\u003e\n",
              "      \u003ctd\u003e201255\u003c/td\u003e\n",
              "      \u003ctd\u003e3508412.512\u003c/td\u003e\n",
              "      \u003ctd\u003eround1_low_positive\u003c/td\u003e\n",
              "      \u003ctd\u003eround1_low_flag\u003c/td\u003e\n",
              "      \u003ctd\u003e200000\u003c/td\u003e\n",
              "      \u003ctd\u003eLow\u003c/td\u003e\n",
              "    \u003c/tr\u003e\n",
              "  \u003c/tbody\u003e\n",
              "\u003c/table\u003e\n",
              "\u003c/div\u003e"
            ],
            "text/plain": [
              "   apt_collected  apt_screened               condition      condition_flag  \\\n",
              "0          12204   3283890.016    round1_very_positive    round1_very_flag   \n",
              "1          50353   6628573.952    round1_high_positive    round1_high_flag   \n",
              "2         153845   5801469.696  round1_medium_positive  round1_medium_flag   \n",
              "3         201255   3508412.512     round1_low_positive     round1_low_flag   \n",
              "\n",
              "   seq_input stringency  \n",
              "0     200000  Very High  \n",
              "1     200000       High  \n",
              "2     200000     Medium  \n",
              "3     200000        Low  "
            ]
          },
          "execution_count": 20,
          "metadata": {
            "tags": []
          },
          "output_type": "execute_result"
        }
      ],
      "source": [
        "#@title MLPD Data Parameters\n",
        "apt_screened_list = [ 3283890.016, 6628573.952, 5801469.696, 3508412.512]\n",
        "apt_collected_list = [12204, 50353, 153845, 201255]\n",
        "seq_input = [200000] * 4\n",
        "conditions = ['round1_very_positive', \n",
        "              'round1_high_positive',\n",
        "              'round1_medium_positive',\n",
        "              'round1_low_positive']\n",
        "flags = ['round1_very_flag', 'round1_high_flag', 'round1_medium_flag', \n",
        "         'round1_low_flag']\n",
        "stringency = ['Very High', 'High', 'Medium', 'Low']\n",
        "mlpd_param_df = pd.DataFrame.from_dict({'apt_screened': apt_screened_list,\n",
        "                                    'apt_collected': apt_collected_list,\n",
        "                                    'seq_input': seq_input,\n",
        "                                    'condition': conditions,\n",
        "                                    'condition_flag': flags,\n",
        "                                    'stringency': stringency})\n",
        "\n",
        "\n",
        "mlpd_param_df"
      ]
    },
    {
      "cell_type": "markdown",
      "metadata": {
        "id": "WV-un-_QV7LN"
      },
      "source": [
        "# Load in Data"
      ]
    },
    {
      "cell_type": "code",
      "execution_count": null,
      "metadata": {
        "id": "3yld_1S-4Fq8"
      },
      "outputs": [],
      "source": [
        "# MLPD sequences with stringency / Kd\n",
        "# Upload mlpd_input_data_manuscript.csv\n",
        "from google.colab import files\n",
        "\n",
        "uploaded = files.upload()\n",
        "\n",
        "for fn in uploaded.keys():\n",
        "  print('User uploaded file \"{name}\" with length {length} bytes'.format(\n",
        "      name=fn, length=len(uploaded[fn])))"
      ]
    },
    {
      "cell_type": "code",
      "execution_count": null,
      "metadata": {
        "id": "hnEaxJf-YBn5"
      },
      "outputs": [],
      "source": [
        "with open('mlpd_input_data_manuscript.csv') as f:\n",
        "  mlpd_df = pd.read_csv(f)"
      ]
    },
    {
      "cell_type": "markdown",
      "metadata": {
        "id": "1HIhJhIKUNJc"
      },
      "source": [
        "# Helper functions"
      ]
    },
    {
      "cell_type": "code",
      "execution_count": null,
      "metadata": {
        "id": "tlk4Ur-4Mgjn"
      },
      "outputs": [],
      "source": [
        "def generate_cutoffs_via_PD_stats(df, col, apt_screened, apt_collected, seq_input,\n",
        "                                  tolerated_bead_frac, min_read_thresh):\n",
        "  \"\"\"Use the experimental parameters to determine sequences passing thresholds.\n",
        "\n",
        "  Args:\n",
        "    df: Pandas dataframe with experiment results. Must have columns named \n",
        "      after the col function parameter, containing the read count, and a\n",
        "      column 'sequence'.\n",
        "    col: The string name of the column in the experiment dataframe with the \n",
        "      read count.\n",
        "    apt_screened: The integer number of aptamers screened, from the experiment \n",
        "      parameters.\n",
        "    apt_collected: The integer number of aptamers collected, from the experiment\n",
        "      parameters.\n",
        "    seq_input: The integer number of unique sequences in the sequence library \n",
        "      used to construct the aptamer particles.\n",
        "    tolerated_bead_frac: The float tolerated bead fraction threshold. In other\n",
        "      words, the sequencing depth required to keep a sequence, in units of\n",
        "      fractions of a bead based on the average expected read depth per bead. \n",
        "    min_read_threshold: The integer minimum number of reads that a sequence\n",
        "      must have in order not to be filtered.\n",
        "\n",
        "  Returns:\n",
        "    Pandas series of the sequences from the dataframe that pass filter.\n",
        "  \"\"\"\n",
        "\n",
        "  expected_bead_coverage =  apt_screened / seq_input\n",
        "  tolerated_bead_coverage = expected_bead_coverage * tolerated_bead_frac\n",
        "  bead_full_min_sequence_coverage = (1. / apt_collected) * tolerated_bead_coverage\n",
        "  col_sum = df[col].sum()\n",
        "  # Look at sequenced counts calculated observed fraction of pool and raw count.\n",
        "  seqs = df[((df[col]/col_sum) \u003e bead_full_min_sequence_coverage) \u0026 # Pool frac.\n",
        "            (df[col] \u003e min_read_thresh)   # Raw count\n",
        "            ].sequence\n",
        "  return seqs\n",
        "\n",
        "\n",
        "def generate_pos_neg_normalized_ratio(df, col_prefix):\n",
        "  \"\"\"Adds fraction columns to the dataframe with the calculated pos/neg ratio.\n",
        "\n",
        "  Args:\n",
        "    df: Pandas dataframe, expected to have columns [col_prefix]_positive and\n",
        "      [col_prefix]_negative contain read counts for the positive and negative\n",
        "      selection conditions, respectively.\n",
        "    col_prefix: String prefix of the columns to use to calculate the ratio. \n",
        "      For example 'round1_very_positive'.\n",
        "  \n",
        "  Returns:\n",
        "    The original dataframe with three new columns:\n",
        "    [col_prefix]_positive_frac contains the fraction of the total positive \n",
        "      pool that is this sequence.\n",
        "    [col_prefix]_negative_frac contains the fraction of the total negative\n",
        "      pool that is this sequence.\n",
        "    [col_prefix]_pos_neg_ratio: The read-depth normalized fraction of the \n",
        "      sequence that ended in the positive pool.\n",
        "  \"\"\"\n",
        "  col_pos = col_prefix + '_' + 'positive'\n",
        "  col_neg = col_prefix + '_' + 'negative'\n",
        "  df[col_pos + '_frac'] = df[col_pos] /  df[col_pos].sum()\n",
        "  df[col_neg + '_frac'] = df[col_neg] /  df[col_neg].sum()\n",
        "  df[col_prefix + '_pos_neg_ratio'] = df[col_pos + '_frac'] / (\n",
        "      df[col_pos + '_frac'] + df[col_neg + '_frac'])\n",
        "  return df\n",
        "\n",
        "\n",
        "def build_seq_sets_from_df (input_param_df, input_df, tolerated_bead_frac, \n",
        "                            pos_neg_ratio, min_read_thresh):\n",
        "  \"\"\"Sets flags for sequences based on whether they clear stringencies.\n",
        "\n",
        "  This function adds a column 'seq_set' to the input_param_df (one row per\n",
        "  stringency level of a particle display experiment) containing all the \n",
        "  sequences in the experiment that passed that stringency level in the \n",
        "  experiment.\n",
        "\n",
        "  Args:\n",
        "    input_param_df: Pandas dataframe with experimental parameters. Expected\n",
        "      to have one row per stringency level in the experiment and \n",
        "      columns 'apt_screened', 'apt_collected', 'seq_input', 'condition', and\n",
        "      'condition_flag'.\n",
        "    input_df: Pandas dataframe with the experimental results (counts per \n",
        "      sequence) for the experiment covered in the input_param_df. Expected\n",
        "      to have a [col_prefix]_pos_neg_ratio column for each row of the\n",
        "      input_param_df (i.e. each stringency level).\n",
        "    tolerated_bead_frac: Float representing the minimum sequence depth, in\n",
        "      units of expected beads, for a sequence to be used in analysis.\n",
        "    pos_neg_ratio: The threshold for the pos_neg_ratio column for a sequence\n",
        "      to be used in the analysis.\n",
        "    min_read_thresh: The integer minimum number of reads for a sequence to\n",
        "      be used in the analysis (not normalized, a straight count.)\n",
        "\n",
        "  Returns:\n",
        "    Nothing.\n",
        "\n",
        "  \"\"\"\n",
        "  for _, row in input_param_df.iterrows():\n",
        "    \n",
        "    # Get parameters to calculate bead fraction.\n",
        "    apt_screened = row['apt_screened']\n",
        "    apt_collected = row['apt_collected']\n",
        "    seq_input = row['seq_input']\n",
        "    condition = row['condition']\n",
        "    flag = row['condition_flag']\n",
        "    \n",
        "    # Get sequences above tolerated_bead_frac in positive pool.\n",
        "    tolerated_bead_frac_seqs = generate_cutoffs_via_PD_stats(\n",
        "        input_df, condition, apt_screened, apt_collected, seq_input, \n",
        "        tolerated_bead_frac, min_read_thresh)\n",
        "    \n",
        "    # Intersect with seqs \u003e normalized positive sequencing count ratio.\n",
        "    condition_pre = condition.split('_positive')[0]\n",
        "    ratio_col = '%s_pos_neg_ratio' % (condition_pre)\n",
        "    pos_frac_seqs = input_df[input_df[ratio_col] \u003e pos_neg_ratio].sequence\n",
        "    seqs = set(tolerated_bead_frac_seqs) \u0026 set(pos_frac_seqs)\n",
        "    input_df[flag] = input_df.sequence.isin(set(seqs))"
      ]
    },
    {
      "cell_type": "markdown",
      "metadata": {
        "id": "ma9xR2ZUW4X6"
      },
      "source": [
        "## Affnity Helper Function"
      ]
    },
    {
      "cell_type": "code",
      "execution_count": null,
      "metadata": {
        "id": "A22ZQ31qW7mw"
      },
      "outputs": [],
      "source": [
        "def set_stringency_level_mlpd (row):\n",
        "  \"\"\"Returns the highest bin for MLPD.\n",
        "\n",
        "  Args:\n",
        "    row: A row from the MLPD experiment results. Expected\n",
        "      to have columns: 'round1_very_flag', \n",
        "      'round1_high_flag', 'round1_medium_flag', 'round1_low_flag' indicating\n",
        "      whether the sequence has passed the stringency threshold for each of\n",
        "      those conditions.\n",
        "\n",
        "  Returns:\n",
        "    Integer from 0-4 indicating the highest stringency level passed by this\n",
        "    sequence, or -1 to indicate conflicting information (for example passing\n",
        "    the high stringency threshold but missing the medium stringency \n",
        "    threshold).\n",
        "  \"\"\"\n",
        "  v_flag = row.round1_very_flag\n",
        "  h_flag = row.round1_high_flag\n",
        "  m_flag = row.round1_medium_flag\n",
        "  l_flag = row.round1_low_flag\n",
        "\n",
        "  if v_flag and h_flag and m_flag and l_flag:\n",
        "    return 4\n",
        "  elif h_flag and m_flag and l_flag and not v_flag:\n",
        "    return 3\n",
        "  elif m_flag and l_flag and not v_flag and not h_flag:\n",
        "    return 2\n",
        "  elif not m_flag and l_flag and not v_flag and not h_flag:\n",
        "    return 1\n",
        "  elif not m_flag and not l_flag and not v_flag and not h_flag:\n",
        "    return 0\n",
        "  else:\n",
        "    return -1"
      ]
    },
    {
      "cell_type": "markdown",
      "metadata": {
        "id": "G7b_H0eiMXil"
      },
      "source": [
        "## Stacked Bar Plot Helpers"
      ]
    },
    {
      "cell_type": "code",
      "execution_count": null,
      "metadata": {
        "id": "BIw_GOSH4VRT"
      },
      "outputs": [],
      "source": [
        "def make_stacked_boxplot(categories, models, stringency_levels, counts, fractions, y='fraction'):\n",
        "  \"\"\"Creates the stacked barplot showing relative enrichment.\n",
        "\n",
        "  The values of categories, models, stringency_levels, counts, and fractions\n",
        "  are the parallel lists created using construct_category_fractions_for_stacked_hists.\n",
        "  Each position in the list represents one segment of the stacked bar chart,\n",
        "  for example, the sequences that started from random seeds, were walked \n",
        "  with the Count model and have stringency_level 3 (=high, Kd \u003c 32nM). \n",
        "\n",
        "  Args:\n",
        "    categories: String list of seed categories, corresponding to the three grey\n",
        "      shaded areas. These are one of 'Random Seeds', 'Expt. Seeds' and \n",
        "      'ML Seeds'.\n",
        "    models: String list of models used to walk the seeds. These represent the\n",
        "      bars within each seed category, i.e. 'Random', 'Counts', 'SuperBin',\n",
        "      'Binned'.\n",
        "    stringency_levels: Integer list of stringency levels, 0-4, representing\n",
        "      Kd levels.\n",
        "    counts: Integer list of the number of sequences in this group of sequences.\n",
        "    fractions: Float list of the fraction of sequences in this group out of\n",
        "      the total sequences at all stringency levels. (For example, the fraction\n",
        "      of sequences from Random Seeds walked by the Counts model that are at\n",
        "      stringency level 2 as a fraction of all the sequences generated by taking\n",
        "      Random Seeds and walking them with the Counts model.)\n",
        "    y: The string name of the column to plot on the y axis.\n",
        "\n",
        "  Returns:\n",
        "    p: the ggplot figure\n",
        "    fishplot_df: The Pandas dataframe with the calculated values.\n",
        "  \"\"\"\n",
        "  fishplot_df = pd.DataFrame.from_dict({'category': categories,\n",
        "                                      'walking_model': models,\n",
        "                                      'stringency_level': stringency_levels,\n",
        "                                      'count': counts, \n",
        "                                      'fraction': fractions})\n",
        "  fishplot_df['log_count'] = np.log2(fishplot_df['count'])\n",
        "  fishplot_df['log_fraction'] = np.log10(fishplot_df['fraction'])\n",
        "  fishplot_df['category_cat'] = pd.Categorical(fishplot_df['category'], \n",
        "                                      categories=['Random Seeds', 'ML Seeds', 'Expt. Seeds'][::-1], \n",
        "                                      ordered=True)\n",
        "  fishplot_df['model_cat'] = pd.Categorical(fishplot_df['walking_model'], \n",
        "                                      categories=['SuperBin',\n",
        "                                                  'Binned', \n",
        "                                                  'Counts', \n",
        "                                                  'Random'][::-1], \n",
        "                                      ordered=True)\n",
        "  def stringency_to_kd(val):\n",
        "    super_bin_to_kd_map = dict(zip(range(5), \n",
        "                                 ['\u003e 512nM', '\u003c 512 nM', '\u003c 128 nM', \n",
        "                                  '\u003c 32 nM', '\u003c 8 nM']))\n",
        "    return super_bin_to_kd_map[val]\n",
        "  \n",
        "  # For plotting skip the aptamers which did not pass any stringency values\n",
        "  fishplot_df = fishplot_df[fishplot_df.stringency_level \u003e 0]\n",
        "  fishplot_df['$K_d$'] = fishplot_df['stringency_level'].apply(stringency_to_kd)\n",
        "  fishplot_df['$K_d$'] = pd.Categorical(\n",
        "      fishplot_df['$K_d$'], \n",
        "      categories=['\u003c 512 nM', '\u003c 128 nM', '\u003c 32 nM', '\u003c 8 nM'], ordered=True)\n",
        "  p = (p9.ggplot(fishplot_df, \n",
        "                 p9.aes(x='model_cat', y=y, alpha='$K_d$', fill='model_cat'))  + \n",
        "       p9.geom_col(position='stack', fill='#32CD32') + p9.coord_flip() + \n",
        "       p9.facet_grid(['category_cat', '.']) + \n",
        "       p9.theme_minimal() + \n",
        "       p9.theme(axis_text_x=p9.element_text(rotation=90, hjust=1), \n",
        "                figure_size=[5, 5], line=p9.element_line(color='white'))) \n",
        "\n",
        "  p = (p9.ggplot(fishplot_df, \n",
        "                 p9.aes(x='model_cat', y=y, alpha='$K_d$', fill='model_cat'))  + \n",
        "       p9.geom_col(position='stack') + p9.coord_flip() + \n",
        "       p9.facet_grid(['category_cat', '.']) + \n",
        "       p9.theme(axis_text_x=p9.element_text(rotation=90, hjust=1), \n",
        "                figure_size=[5, 5], line=p9.element_line(color='white'))  +\n",
        "       p9.scale_fill_manual(['#202124', '#174ea6', '#e37400', '#681da8', '#018774'][::-1]) +\n",
        "       p9.ylim([0.0, 0.2])\n",
        "  )\n",
        "  return p, fishplot_df"
      ]
    },
    {
      "cell_type": "code",
      "execution_count": null,
      "metadata": {
        "id": "Rv7zrnhDf6rw"
      },
      "outputs": [],
      "source": [
        "def construct_category_fractions_for_stacked_hists (\n",
        "    input_df, col, col_cat, cat_label, groupby_col, base_model,\n",
        "    categories, models, stringency_levels, counts, fractions, base_models \n",
        "    ):\n",
        "  '''For each subcategory calculate the fraction of data at each Kd.\n",
        "\n",
        "  This function adds to the parallel lists of categories, models, \n",
        "  stringency_levels, counts, fractions, and base_models that are later used\n",
        "  in creating the stacked bar plots.\n",
        "\n",
        "  For example, col_cat=['RANDOM_SEEDS_WALKED'], col='sequence_set', \n",
        "  col_label='Random Seeds', groupby_col='walking_model', and base_model=None\n",
        "  would limit the input dataframe of sequences to those sequences where the\n",
        "  sequence set is 'RANDOM_SEEDS_WALKED' (in other words, the set of sequences\n",
        "  that started from random sequences and were walked by an ML model). These\n",
        "  sequences would then by grouped by the walking model column plus the\n",
        "  stringency level (i.e. 0-4), i.e. the  model used to walk these sequences \n",
        "  and the affinity of the resulting sequence. For each group, the results\n",
        "  would be added to each of these parallel lists. So in this case, the \n",
        "  category would always be 'Random Seeds' (since that's the col_label), \n",
        "  and the model would be the walking model, and the stringency level would\n",
        "  be the stringency level of the group. So far this is all basic categories.\n",
        "  The next lists are the actual values used in plotting. The number of sequences\n",
        "  in the group gets added to the counts list, and the number of sequences in\n",
        "  this group relative to all those in this groupby_col is added to the fractions\n",
        "  list (in other words, what is the  fraction of random seeds walked by the \n",
        "  Counts model that ended up at stringency level 2 compared to all the sequences\n",
        "  generated by walking all random seeds with the Counts model.)\n",
        "\n",
        "  Args:\n",
        "    input_df: (pd.DataFrame) Dataframe for grouping.\n",
        "    cols: (str) Column id to select when subsetting dataframe.\n",
        "    col_cat: (list) Category within col to match when subsetting.\n",
        "    cat_label: (str) New label to call category.\n",
        "    groupby_col: (str) Column idea to group remaining subgroup on.\n",
        "    base_model: (str or None) Optional base model.  Not currently being used.\n",
        "    categories: (list) List of categories to append to.\n",
        "    models: (list) List of models to append to.\n",
        "    stringency_levels: (list) List of upated_super_bins to append to.\n",
        "    counts: (list) List of counts to append to.\n",
        "    fractions: (list) List of fractions to append to.\n",
        "    base_models: (list) List of base_models to append to.\n",
        "  '''\n",
        "  # Select out all unambiguous sequences in this set\n",
        "  sub_df = input_df[(input_df[col].isin(col_cat)) \u0026 \n",
        "                    (input_df.stringency_level \u003e= 0)]\n",
        "\n",
        "  # Create summary stats by stringency level\n",
        "  for (groupby_cat, stringency), grp in sub_df.groupby([groupby_col, \n",
        "                                                       'stringency_level']):\n",
        "    categories.append(cat_label)\n",
        "    models.append(groupby_cat)\n",
        "    stringency_levels.append(stringency)  \n",
        "    counts.append(len(grp))\n",
        "    denominator = len(sub_df[(sub_df[col].isin(col_cat)) \u0026\n",
        "                            (sub_df[groupby_col] == groupby_cat)])\n",
        "    fractions.append(float(len(grp)) / denominator)\n",
        "    base_models.append(base_model)\n"
      ]
    },
    {
      "cell_type": "markdown",
      "metadata": {
        "id": "IMIgaitGGjP5"
      },
      "source": [
        "# Convert stringencies to Kd"
      ]
    },
    {
      "cell_type": "code",
      "execution_count": null,
      "metadata": {
        "id": "edlWLAAuWO6i"
      },
      "outputs": [],
      "source": [
        "#@title Add positive_frac / (positive_frac + negative_frac) col to df\n",
        "\n",
        "for col_prefix in ['round1_very', 'round1_high', 'round1_medium', 'round1_low']:\n",
        "  mlpd_df = generate_pos_neg_normalized_ratio(mlpd_df, col_prefix)\n"
      ]
    },
    {
      "cell_type": "code",
      "execution_count": null,
      "metadata": {
        "id": "PqTgkMJKWbdJ"
      },
      "outputs": [],
      "source": [
        "#@title Measure consistency of particle display data when increasing stringency thresholds and set stringeny levels\n",
        "build_seq_sets_from_df (mlpd_param_df, mlpd_df, \n",
        "                        TOLERATED_BEAD_FRAC, \n",
        "                        POS_NEG_RATIO_CUTOFF, MIN_READ_THRESH)\n",
        "mlpd_df['stringency_level'] = mlpd_df.apply(\n",
        "    lambda x: set_stringency_level_mlpd(x), axis=1)"
      ]
    },
    {
      "cell_type": "markdown",
      "metadata": {
        "id": "Y6COfPyyQIoi"
      },
      "source": [
        "## Special Handling of 25 sequences ordered at higher multiplicity\n",
        "\n",
        "The particle display experiment requires a minimum amount of positive material for sequencing to succeed. (Otherwise it's easy to lose the pellet during PCR steps, for example.)\n",
        "\n",
        "We did not know a priori if we would meet this minimum level from our generated aptamers, therefore we spiked in a set of 25 sequences at higher copy number (400-fold) that were known/expected to be very good aptamers.  Here, we refine affinity estimates for these 25 sequences due to this increase in input copy number."
      ]
    },
    {
      "cell_type": "code",
      "execution_count": null,
      "metadata": {
        "colab": {
          "base_uri": "https://localhost:8080/"
        },
        "executionInfo": {
          "elapsed": 10527,
          "status": "ok",
          "timestamp": 1603474432810,
          "user": {
            "displayName": "Ali Bashir",
            "photoUrl": "https://lh3.googleusercontent.com/a-/AOh14Gg_2QzdOhvL03-igIA8CW4RWncTEV4gLZ80ECLPkg=s64",
            "userId": "01976351517997791084"
          },
          "user_tz": 420
        },
        "id": "FCuyNxTQG-HF",
        "outputId": "ead59f3b-9f5f-46a3-afdb-5446736199d0"
      },
      "outputs": [
        {
          "name": "stdout",
          "output_type": "stream",
          "text": [
            "Mean fold increase over library:  356.2413143113234\n",
            "Median fold increase over library:  405.75\n"
          ]
        }
      ],
      "source": [
        "# First create 2 dataframes for the 25 and everything else\n",
        "mlpd_high_count_df = mlpd_df[mlpd_df['multiple_copy_oligo_in_library']].copy()\n",
        "mlpd_nonhigh_count_df = mlpd_df[~mlpd_df['multiple_copy_oligo_in_library']]\n",
        "\n",
        "# Confirm that observed high count library is 400 fold greater than rest of library\n",
        "print \"Mean fold increase over library: \", mlpd_high_count_df.library.mean() / mlpd_nonhigh_count_df.library.mean()\n",
        "print \"Median fold increase over library: \", mlpd_high_count_df.library.median() / mlpd_nonhigh_count_df.library.median()"
      ]
    },
    {
      "cell_type": "code",
      "execution_count": null,
      "metadata": {
        "id": "bMvoZg__Swn8"
      },
      "outputs": [],
      "source": [
        "# Multiply tolerated bead frac by the 400 copies ordered in the library\n",
        "build_seq_sets_from_df (mlpd_param_df, mlpd_high_count_df, \n",
        "                        TOLERATED_BEAD_FRAC*400, \n",
        "                        POS_NEG_RATIO_CUTOFF, MIN_READ_THRESH)\n",
        "mlpd_high_count_df['stringency_level'] = mlpd_high_count_df.apply(\n",
        "    lambda x: set_stringency_level_mlpd(x), axis=1)\n",
        "# Join the two sublibraries back together\n",
        "mlpd_df = pd.concat([mlpd_high_count_df, mlpd_nonhigh_count_df])"
      ]
    },
    {
      "cell_type": "markdown",
      "metadata": {
        "id": "4533EXRRifVL"
      },
      "source": [
        "## Set stringency levels to rough kd thresholds\n"
      ]
    },
    {
      "cell_type": "code",
      "execution_count": null,
      "metadata": {
        "id": "-asTw_FzHLSH"
      },
      "outputs": [],
      "source": [
        "mlpd_stringency_to_kd_map = dict(zip(\n",
        "    range(-1, 5), \n",
        "    ['ambiguous', '\u003e 512nM', '\u003c 512 nM', '\u003c 128 nM', '\u003c 32 nM', '\u003c 8 nM']))\n",
        "\n",
        "mlpd_df['Kd'] = mlpd_df.stringency_level.apply(\n",
        "    lambda x: mlpd_stringency_to_kd_map[x])"
      ]
    },
    {
      "cell_type": "markdown",
      "metadata": {
        "id": "ewCE7ITr2t9t"
      },
      "source": [
        "# Build plot components by adding in walks from random, experimental, and ML seeds "
      ]
    },
    {
      "cell_type": "code",
      "execution_count": null,
      "metadata": {
        "id": "2LI4_ly3kXHZ"
      },
      "outputs": [],
      "source": [
        "categories = []\n",
        "models = []\n",
        "stringency_levels = []\n",
        "counts = []\n",
        "fractions = []\n",
        "base_models = []\n",
        "\n",
        "construct_category_fractions_for_stacked_hists(\n",
        "    mlpd_df, 'sequence_set', ['RANDOM_SEEDS_WALKED'], 'Random Seeds', 'walking_model', None,\n",
        "    categories, models, stringency_levels, counts, fractions, base_models)\n",
        "\n",
        "construct_category_fractions_for_stacked_hists(\n",
        "    mlpd_df, 'sequence_set', ['EXPT_SEEDS_WALKED'], 'Expt. Seeds', 'walking_model', None,\n",
        "    categories, models, stringency_levels, counts, fractions, base_models)\n",
        "\n",
        "construct_category_fractions_for_stacked_hists(\n",
        "    mlpd_df, 'sequence_set', ['MODEL_INFERENCE_WALKED'], 'ML Seeds', 'walking_model', None,\n",
        "    categories, models, stringency_levels, counts, fractions, base_models)"
      ]
    },
    {
      "cell_type": "markdown",
      "metadata": {
        "id": "HpHmHmGmGw3R"
      },
      "source": [
        "# Generate Figure Data/Plots"
      ]
    },
    {
      "cell_type": "code",
      "execution_count": null,
      "metadata": {
        "colab": {
          "base_uri": "https://localhost:8080/"
        },
        "executionInfo": {
          "elapsed": 10242,
          "status": "ok",
          "timestamp": 1603474433492,
          "user": {
            "displayName": "Ali Bashir",
            "photoUrl": "https://lh3.googleusercontent.com/a-/AOh14Gg_2QzdOhvL03-igIA8CW4RWncTEV4gLZ80ECLPkg=s64",
            "userId": "01976351517997791084"
          },
          "user_tz": 420
        },
        "id": "eyz1Ttd8bCDt",
        "outputId": "00a1b62b-7726-4f69-ace5-7e6539936060"
      },
      "outputs": [
        {
          "name": "stdout",
          "output_type": "stream",
          "text": [
            "Total sequences observed in MLPD sequencing :  398\n"
          ]
        }
      ],
      "source": [
        "# Only 398 of the 400 expt seed sequences were observed in the sequencing data\n",
        "print 'Total sequences observed in MLPD sequencing : ', mlpd_df[mlpd_df['sequence_set'] == 'EXPT_SEEDS'].Kd.value_counts().sum()"
      ]
    },
    {
      "cell_type": "code",
      "execution_count": null,
      "metadata": {
        "colab": {
          "base_uri": "https://localhost:8080/"
        },
        "executionInfo": {
          "elapsed": 10023,
          "status": "ok",
          "timestamp": 1603474433742,
          "user": {
            "displayName": "Ali Bashir",
            "photoUrl": "https://lh3.googleusercontent.com/a-/AOh14Gg_2QzdOhvL03-igIA8CW4RWncTEV4gLZ80ECLPkg=s64",
            "userId": "01976351517997791084"
          },
          "user_tz": 420
        },
        "id": "rFbHUqubYuec",
        "outputId": "87a38122-6940-465b-ac6c-fdd1af68d2b3"
      },
      "outputs": [
        {
          "data": {
            "text/plain": [
              "\u003c 512 nM     150\n",
              "\u003e 512nM      123\n",
              "\u003c 128 nM     102\n",
              "ambiguous     13\n",
              "\u003c 32 nM        8\n",
              "\u003c 8 nM         4\n",
              "Name: Kd, dtype: int64"
            ]
          },
          "execution_count": 33,
          "metadata": {
            "tags": []
          },
          "output_type": "execute_result"
        }
      ],
      "source": [
        "# Extracting remaining 2 seeds from walks and set values to ambiguous (same as conflicting seeds in stringency map)\n",
        "expt_seeds = mlpd_df[mlpd_df.sequence_set == 'EXPT_SEEDS_WALKED'].seed_seq.unique()\n",
        "expt_seed_df = pd.DataFrame.from_dict({'sequence': expt_seeds})\n",
        "mlpd_seed_df = expt_seed_df.merge(mlpd_df, on='sequence', how='left')\n",
        "mlpd_seed_df['Kd'].fillna('ambiguous', inplace=True)\n",
        "mlpd_seed_df.Kd.value_counts()"
      ]
    },
    {
      "cell_type": "code",
      "execution_count": null,
      "metadata": {
        "colab": {
          "base_uri": "https://localhost:8080/",
          "height": 496
        },
        "executionInfo": {
          "elapsed": 9768,
          "status": "ok",
          "timestamp": 1603474434763,
          "user": {
            "displayName": "Ali Bashir",
            "photoUrl": "https://lh3.googleusercontent.com/a-/AOh14Gg_2QzdOhvL03-igIA8CW4RWncTEV4gLZ80ECLPkg=s64",
            "userId": "01976351517997791084"
          },
          "user_tz": 420
        },
        "id": "XO4UqaG4bIDt",
        "outputId": "edc03d54-8991-4353-f6d1-7e36d39840ad"
      },
      "outputs": [
        {
          "data": {
            "image/png": "[encoded data removed]",
            "text/plain": [
              "\u003cFigure size 500x500 with 3 Axes\u003e"
            ]
          },
          "metadata": {
            "tags": []
          },
          "output_type": "display_data"
        },
        {
          "data": {
            "text/plain": [
              "\u003cggplot: (8787739034497)\u003e"
            ]
          },
          "execution_count": 34,
          "metadata": {
            "tags": []
          },
          "output_type": "execute_result"
        }
      ],
      "source": [
        "#3B\n",
        "p, fishplot_df = make_stacked_boxplot(\n",
        "    categories, models, stringency_levels, counts, fractions, y='fraction')\n",
        "p"
      ]
    }
  ],
  "metadata": {
    "colab": {
      "collapsed_sections": [],
      "last_runtime": {
        "build_target": "//research/biology/collaborations/aptamers:notebook",
        "kind": "shared"
      },
      "name": "Figure 3 Machine-learning-guided aptamer discovery (submission).ipynb",
      "provenance": [
        {
          "file_id": "1lnOjQL0n22MTkqWu5-muLaQ2n9D3IgsS",
          "timestamp": 1603475243607
        },
        {
          "file_id": "1Yr-U-1Au7aHDgdMhzI3V2ne5Ngc_Yq_0",
          "timestamp": 1603474804395
        },
        {
          "file_id": "1bCY27-701njNFilJR8O53Nk6nDykbiGS",
          "timestamp": 1603356659475
        },
        {
          "file_id": "12lB5W1pqRAusjFBehBcIB-rUWWEO40Wv",
          "timestamp": 1603356620654
        },
        {
          "file_id": "1HVMBWUAIVH2rLS7L7mJg6nQa7_2e5dqd",
          "timestamp": 1603294928626
        },
        {
          "file_id": "1o1Nzo0DqheofdpUsOcw3Y-yvr7Zfw1fM",
          "timestamp": 1601594445419
        },
        {
          "file_id": "1oW0opjcw801PT2zvAKKow9OnTHcMH1Bo",
          "timestamp": 1592776384405
        },
        {
          "file_id": "11Ltt7PwgJXdNwcYIM2LQPLTA7xhXL7dP",
          "timestamp": 1591825416238
        },
        {
          "file_id": "1y-rDPmrqh-X94iAXHCpo4ThdZBGX5G6f",
          "timestamp": 1590592797191
        },
        {
          "file_id": "1rNoIHfkUvT1oPcvT7dBglQ8a4vos83eL",
          "timestamp": 1586451115413
        },
        {
          "file_id": "1QGwmo4nQzMaD4HrW3dAW59BYOQGCdxw-",
          "timestamp": 1580512194777
        }
      ],
      "toc_visible": true
    },
    "kernelspec": {
      "display_name": "Python 2",
      "name": "python2"
    }
  },
  "nbformat": 4,
  "nbformat_minor": 0
}
