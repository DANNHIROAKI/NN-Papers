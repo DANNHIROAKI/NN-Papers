{
  "cells": [
    {
      "cell_type": "markdown",
      "metadata": {
        "id": "vf0LrbTEGGid"
      },
      "source": [
        "\n",
        "\u003ca href=\"https://colab.research.google.com/github/google-research/google-research/blob/master/nngp_nas/NNGP_on_NASBench101.ipynb\" target=\"_parent\"\u003e\u003cimg src=\"https://colab.research.google.com/assets/colab-badge.svg\" alt=\"Open In Colab\"/\u003e\u003c/a\u003e\n"
      ]
    },
    {
      "cell_type": "markdown",
      "metadata": {
        "id": "XWxIm3QxGBLH"
      },
      "source": [
        "Copyright 2020 Google LLC\n",
        "\n",
        "Licensed under the Apache License, Version 2.0 (the \"License\");\n",
        "you may not use this file except in compliance with the License.\n",
        "You may obtain a copy of the License at\n",
        "\n",
        "     https://www.apache.org/licenses/LICENSE-2.0\n",
        "\n",
        "Unless required by applicable law or agreed to in writing, software\n",
        "distributed under the License is distributed on an \"AS IS\" BASIS,\n",
        "WITHOUT WARRANTIES OR CONDITIONS OF ANY KIND, either express or implied.\n",
        "See the License for the specific language governing permissions and\n",
        "limitations under the License."
      ]
    },
    {
      "cell_type": "markdown",
      "metadata": {
        "id": "-rMTbJ6Epz3U"
      },
      "source": [
        "# Colab demonstration for NNGP evaluation.\n",
        "\n",
        "This colab accompanies the paper [**Towards NNGP-guided Neural Architecture Search**](https://arxiv.org/abs/2005.09629). We construct an NNGP evaluator of networks in the [**NAS-Bench-101**](http://proceedings.mlr.press/v97/ying19a.html) dataset, and compute some metrics on how well it predicts the ground truth performance of the networks.\n",
        "\n",
        "The publicly available and free hosted colab instances can be used to run this colab. This colab uses the NAS-Bench-101 package, which can be found at https://github.com/google-research/nasbench."
      ]
    },
    {
      "cell_type": "code",
      "execution_count": null,
      "metadata": {
        "id": "mEeWh4-51EFA"
      },
      "outputs": [],
      "source": [
        "# NAS-Bench-101 uses TF 1.x\n",
        "%tensorflow_version 1.x\n",
        "\n",
        "# Download the raw data (only 108 epoch data points).\n",
        "!curl -O https://storage.googleapis.com/nasbench/nasbench_only108.tfrecord\n",
        "\n",
        "# Clone and install the code and dependencies.\n",
        "!git clone https://github.com/google-research/nasbench\n",
        "!pip install ./nasbench\n",
        "\n",
        "# Initialize the NASBench object which parses the raw data into memory (this\n",
        "# should only be run once as it takes up to a few minutes).\n",
        "from nasbench import api\n",
        "\n",
        "# Load NAS-Bench-101 data.\n",
        "# This will take a while, and should only be run once.\n",
        "nasbench_only108 = api.NASBench('nasbench_only108.tfrecord')"
      ]
    },
    {
      "cell_type": "markdown",
      "metadata": {
        "id": "M_xlxmB3LUBx"
      },
      "source": [
        "# Imports and Definitions\n",
        "\n",
        "We define some useful constants and the `NNGP_CIFAR10_Evaluator` to be used for NNGP evaluation of networks."
      ]
    },
    {
      "cell_type": "code",
      "execution_count": null,
      "metadata": {
        "cellView": "form",
        "id": "3HXZu_TlpSHJ"
      },
      "outputs": [],
      "source": [
        "#@title Imports\n",
        "\n",
        "import numpy as np\n",
        "import scipy\n",
        "import scipy.stats as stats\n",
        "import sklearn\n",
        "import tensorflow as tf\n",
        "import tensorflow_datasets as tfds\n",
        "from tqdm.notebook import tqdm\n",
        "\n",
        "from nasbench import api\n",
        "from nasbench.lib import cifar\n",
        "from nasbench.lib import base_ops\n",
        "from nasbench.lib import model_builder\n",
        "\n",
        "import matplotlib.pyplot as plt\n",
        "tf.get_logger().setLevel('ERROR')"
      ]
    },
    {
      "cell_type": "code",
      "execution_count": null,
      "metadata": {
        "cellView": "form",
        "id": "bQ0Hre7XA20M"
      },
      "outputs": [],
      "source": [
        "#@title Useful Constants\n",
        "INPUT = 'input'\n",
        "OUTPUT = 'output'\n",
        "CONV3X3 = 'conv3x3-bn-relu'\n",
        "CONV1X1 = 'conv1x1-bn-relu'\n",
        "MAXPOOL3X3 = 'maxpool3x3'\n",
        "NUM_VERTICES = 7\n",
        "MAX_EDGES = 9\n",
        "EDGE_SPOTS = NUM_VERTICES * (NUM_VERTICES - 1) / 2   # Upper triangular matrix\n",
        "OP_SPOTS = NUM_VERTICES - 2   # Input/output vertices are fixed\n",
        "ALLOWED_OPS = [CONV3X3, CONV1X1, MAXPOOL3X3]\n",
        "ALLOWED_EDGES = [0, 1]   # Binary adjacency matrix\n",
        "\n",
        "# Default config for building architecture\n",
        "_CIFAR_DEFAULT_CONFIG = {\n",
        "    'nasbench_stem_filter_size': 128,\n",
        "    'nasbench_num_modules_per_stack': 3,\n",
        "    'nasbench_num_stacks': 3,\n",
        "    'nasbench_data_format': 'channels_last',\n",
        "    'nasbench_num_labels': 10,\n",
        "}\n",
        "\n",
        "# Pixel statistics for CIFAR10.\n",
        "CIFAR_MEAN = np.array([125.3, 123.0, 113.9])\n",
        "CIFAR_STDDEV = np.array([63.0, 62.1, 66.7])"
      ]
    },
    {
      "cell_type": "code",
      "execution_count": null,
      "metadata": {
        "cellView": "form",
        "id": "qciVMd3V_a1w"
      },
      "outputs": [],
      "source": [
        "#@title Helper functions\n",
        "\n",
        "def one_hot_cifar(label_batch):\n",
        "  \"\"\"One-hot function for CIFAR10.\n",
        "  \n",
        "  Args:\n",
        "    Batch of labels.\n",
        "\n",
        "  Returns:\n",
        "    Batch of adjusted one-hot labels with mean-zero.\n",
        "  \"\"\"\n",
        "  return np.array([[float(x==i) - 0.1 for i in range(10)] for x in label_batch])\n",
        "\n",
        "def build_model_fn(spec, config):\n",
        "  \"\"\"Returns a model function returning a feature vector.\"\"\"\n",
        "  if config['nasbench_data_format'] == 'channels_last':\n",
        "    channel_axis = 3\n",
        "  elif config['nasbench_data_format'] == 'channels_first':\n",
        "    # Currently this is not well supported\n",
        "    channel_axis = 1\n",
        "  else:\n",
        "    raise ValueError('invalid nasbench_data_format')\n",
        "\n",
        "  def model_fn(features, is_training):\n",
        "    \"\"\"Returns feature vector and training op from the input features.\n",
        "    \n",
        "    Args:\n",
        "      features: Input features.\n",
        "      is_training: Bool indicating whether to update batch-norm parameters.\n",
        "        Batch-norm parameters are updated when set to `true`.\n",
        "\n",
        "    Returns:\n",
        "      (net, train_op)\n",
        "      net: Feature vectors from penultimate layer of network.\n",
        "      train_op: Batch-normalization op.\n",
        "    \"\"\"\n",
        "    # Initial stem convolution\n",
        "    with tf.variable_scope('stem'):\n",
        "      net = base_ops.conv_bn_relu(\n",
        "          features, 3, config['nasbench_stem_filter_size'],\n",
        "          is_training, config['nasbench_data_format'])\n",
        "    for stack_num in range(config['nasbench_num_stacks']):\n",
        "      channels = net.get_shape()[channel_axis].value\n",
        "      # Downsample at start (except first)\n",
        "      if stack_num \u003e 0:\n",
        "        net = tf.layers.max_pooling2d(\n",
        "            inputs=net,\n",
        "            pool_size=(2, 2),\n",
        "            strides=(2, 2),\n",
        "            padding='same',\n",
        "            data_format=config['nasbench_data_format'])\n",
        "        # Double output channels each time we downsample\n",
        "        channels *= 2\n",
        "      with tf.variable_scope('stack{}'.format(stack_num)):\n",
        "        for module_num in range(config['nasbench_num_modules_per_stack']):\n",
        "          with tf.variable_scope('module{}'.format(module_num)):\n",
        "            net = model_builder.build_module(\n",
        "                spec,\n",
        "                inputs=net,\n",
        "                channels=channels,\n",
        "                is_training=is_training)\n",
        "    # Global average pool\n",
        "    if config['nasbench_data_format'] == 'channels_last':\n",
        "      net = tf.reduce_mean(net, [1, 2])\n",
        "    elif config['nasbench_data_format'] == 'channels_first':\n",
        "      net = tf.reduce_mean(net, [2, 3])\n",
        "    else:\n",
        "      raise ValueError('invalid nasbench_data_format')\n",
        "\n",
        "    # Define the training op as the update ops in the graph.\n",
        "    # The results in the training op being set to batch-norm updates.\n",
        "    train_ops = tf.get_collection(tf.GraphKeys.UPDATE_OPS)\n",
        "    train_op_w = tf.group(*train_ops)\n",
        "\n",
        "    return net, train_op_w\n",
        "\n",
        "  return model_fn"
      ]
    },
    {
      "cell_type": "code",
      "execution_count": null,
      "metadata": {
        "cellView": "form",
        "id": "Dq9K8xNBLUKb"
      },
      "outputs": [],
      "source": [
        "#@title NNGP_CIFAR10_Evaluator\n",
        "\n",
        "class NNGP_CIFAR10_Evaluator:\n",
        "  \"\"\"NNGP evaluator of models on CIFAR10.\"\"\"\n",
        "\n",
        "  def __init__(self,\n",
        "               train_size,\n",
        "               val_size,\n",
        "               random_seed=0,\n",
        "               config=_CIFAR_DEFAULT_CONFIG):\n",
        "    \"\"\"Initialize evaluator object.\n",
        "\n",
        "    Args:\n",
        "      train_size: Size of NNGP training set selected from CIFAR10 training set.\n",
        "      val_size: Size of NNGP validation set selected from CIFAR10 training set.\n",
        "      random_seed: Numpy random seed used for shuffing CIFAR10 training set.\n",
        "      config: Configurations required to build network.\n",
        "    \"\"\"\n",
        "    self.config = config\n",
        "    self._random_seed = random_seed\n",
        "    self._train_size = train_size\n",
        "    self._val_size = val_size\n",
        "    self._construct_dataset()\n",
        "\n",
        "  def get_train_size(self):\n",
        "    \"\"\"Return NNGP training set size.\"\"\"\n",
        "    return self._train_size\n",
        "\n",
        "  def get_val_size(self):\n",
        "    \"\"\"Return NNGP validation set size.\"\"\"\n",
        "    return self._val_size\n",
        "\n",
        "  def _construct_dataset(self):\n",
        "    \"\"\"Construct dataset for NNGP training and evaluation from CIFAR10.\n",
        "\n",
        "    Args:\n",
        "      train_size: Size of NNGP training set selected from CIFAR10 training set.\n",
        "      val_size: Size of NNGP validation set selected from CIFAR10 training set.\n",
        "    \"\"\"\n",
        "    train_size = self._train_size\n",
        "    val_size = self._val_size\n",
        "    random_seed = self._random_seed\n",
        "\n",
        "    assert train_size + val_size \u003c= 50000\n",
        "\n",
        "    # Load CIFAR10 training set\n",
        "    ds, _ = tfds.load('cifar10', split='train', batch_size=-1, with_info=True)\n",
        "    ds = tfds.as_numpy(ds)\n",
        "\n",
        "    # Shuffle index\n",
        "    np.random.seed(random_seed)\n",
        "    shuffled = np.arange(50000)\n",
        "    np.random.shuffle(shuffled)\n",
        "    train_index = shuffled[:train_size]\n",
        "    val_index = shuffled[-val_size:]\n",
        "\n",
        "    # Select training subset and validation subset.\n",
        "    train_images = ds['image'][train_index]\n",
        "    train_images = (train_images - CIFAR_MEAN) / CIFAR_STDDEV\n",
        "    train_labels = ds['label'][train_index]\n",
        "\n",
        "    val_images = ds['image'][val_index]\n",
        "    val_images = (val_images - CIFAR_MEAN) / CIFAR_STDDEV\n",
        "    val_labels = ds['label'][val_index]\n",
        "\n",
        "    self.data_dict = dict(train_images=train_images,\n",
        "                          train_labels=train_labels,\n",
        "                          val_images=val_images,\n",
        "                          val_labels=val_labels)\n",
        "    \n",
        "    del ds\n",
        "\n",
        "  def nngp_eval(self,\n",
        "                spec,\n",
        "                batch_size=100,\n",
        "                ensemble_number=4,\n",
        "                verbose=False):\n",
        "    \"\"\"Evaluate NAS-Bench-101 model using NNGP evaluation.\n",
        "\n",
        "    Args:\n",
        "      spec: ModelSpec object.\n",
        "      batch_size: Batch size to use for NNGP training and evaluation.\n",
        "        The batch size must divide training and val set size.\n",
        "      ensemble_number: Ensemble number for monte-carlo NNGP kernel estimation.\n",
        "\n",
        "    Returns:\n",
        "      NNGP validation accuracy.\n",
        "    \"\"\"\n",
        "\n",
        "    # Get data\n",
        "    data_dict = self.data_dict\n",
        "    train_images = data_dict['train_images']\n",
        "    train_labels = data_dict['train_labels']\n",
        "    val_images = data_dict['val_images']\n",
        "    val_labels = data_dict['val_labels']\n",
        "\n",
        "    n_t = len(train_labels)\n",
        "    n_v = len(val_labels)\n",
        "\n",
        "    # Initialize Kernel matrices.\n",
        "    K_tt = np.zeros((n_t,n_t),dtype=np.float32)\n",
        "    K_vt = np.zeros((n_v,n_t),dtype=np.float32)\n",
        "    assert n_t % batch_size == 0, (\n",
        "        \"Batch size does not divide training set size.\")\n",
        "    assert n_v % batch_size == 0, (\n",
        "        \"Batch size does not divide validation set size.\")\n",
        "    \n",
        "    model_fn = build_model_fn(spec, self.config)\n",
        "\n",
        "    with tf.Graph().as_default():\n",
        "      features = tf.placeholder(dtype=tf.float32, shape=[batch_size, 32, 32, 3])\n",
        "      is_training = tf.placeholder(dtype=tf.bool, name='is_training')\n",
        "      vecs, ops = model_fn(features, is_training)\n",
        "      tf.logging.info(\"Model constructed.\")\n",
        "      for curr_m in range(ensemble_number):\n",
        "        with tf.Session() as sess:\n",
        "          sess.run(tf.global_variables_initializer())\n",
        "          # Set batch norm parameters using random batch of training set.\n",
        "          init_ind = np.random.choice(\n",
        "              n_t, batch_size, replace=False)\n",
        "          init_sample = train_images[init_ind]\n",
        "          _ = sess.run(ops,\n",
        "                      feed_dict={features: init_sample, is_training: True})\n",
        "          # Get train feature vectors.\n",
        "          fvecs = []\n",
        "          iterations = n_t // batch_size\n",
        "          for i in range(iterations):\n",
        "            feed = train_images[batch_size * i:batch_size * (i+1)]\n",
        "            vres = sess.run([vecs],\n",
        "                            feed_dict={features: feed, is_training: False})\n",
        "            fvecs += vres\n",
        "          fvecs_t = np.concatenate(fvecs, axis=0)\n",
        "          # Update K_tt using train feature vectors.\n",
        "          K_tt += np.matmul(fvecs_t, fvecs_t.T) * (1.0/ensemble_number)\n",
        "          # Get validation feature vectors.\n",
        "          fvecs = []\n",
        "          iterations = n_v // batch_size\n",
        "          for i in range(iterations):\n",
        "            feed = val_images[batch_size * i:batch_size * (i+1)]\n",
        "            vres = sess.run([vecs],\n",
        "                            feed_dict={features: feed, is_training: False})\n",
        "            fvecs += vres\n",
        "          fvecs_v = np.concatenate(fvecs, axis=0)\n",
        "          # Update K_vt using val feature vetors.\n",
        "          K_vt += np.matmul(fvecs_v, fvecs_t.T) * (1.0/ensemble_number)\n",
        "          \n",
        "      performance = 0.0\n",
        "      # Range of regularizer set manually.\n",
        "      diag_reg_values = np.logspace(-7, 2, num=20)\n",
        "      one_hot_labels_t = one_hot_cifar(train_labels)\n",
        "      for epsilon in diag_reg_values:\n",
        "        # Regularize K_tt.\n",
        "        K_tt_reg = K_tt + epsilon * np.trace(K_tt) / n_t * np.eye(n_t)\n",
        "        # 'try' statement, since scipty.linalg.solve can fail.\n",
        "        try:\n",
        "          # Perform NNGP inference to obtain validation accuracy.\n",
        "          inv_labels = scipy.linalg.solve(\n",
        "              K_tt_reg, one_hot_labels_t, sym_pos=True)\n",
        "          prediction = np.matmul(K_vt, inv_labels)\n",
        "          correct_predictions = (\n",
        "              np.argmax(prediction, axis=1) == val_labels).astype(np.float32)\n",
        "          performance = max(performance, np.mean(correct_predictions))\n",
        "        except:\n",
        "          if verbose:\n",
        "            print(\"Matrix inversion error for epsilon = {}\".format(epsilon))\n",
        "          continue\n",
        "    \n",
        "    return performance"
      ]
    },
    {
      "cell_type": "markdown",
      "metadata": {
        "id": "Tx8Bv3BrBEx_"
      },
      "source": [
        "# Single example\n",
        "\n",
        "Here we construct a single network cell spec and compute its NNGP validation accuracy."
      ]
    },
    {
      "cell_type": "code",
      "execution_count": null,
      "metadata": {
        "id": "hasG33UbM59Z"
      },
      "outputs": [],
      "source": [
        "# Construct evaluator.\n",
        "evaluator = NNGP_CIFAR10_Evaluator(train_size=500, val_size=200)"
      ]
    },
    {
      "cell_type": "code",
      "execution_count": null,
      "metadata": {
        "colab": {
          "base_uri": "https://localhost:8080/",
          "height": 51
        },
        "executionInfo": {
          "elapsed": 164845,
          "status": "ok",
          "timestamp": 1602028098579,
          "user": {
            "displayName": "Jaehoon Lee",
            "photoUrl": "https://lh3.googleusercontent.com/a-/AOh14GhxHqEwdpweGC4ZrtdwaxYD0GM-tam3aLuSS-I4aQ=s64",
            "userId": "07296832508386080109"
          },
          "user_tz": 420
        },
        "id": "fD1iu3nUOPOR",
        "outputId": "d4bdd189-d744-488f-c4e8-173b2b079e4e"
      },
      "outputs": [
        {
          "name": "stdout",
          "output_type": "stream",
          "text": [
            "NNGP validation accuracy:\n",
            "0.38\n"
          ]
        }
      ],
      "source": [
        "# Build ModelSpec of Inception-like cell.\n",
        "cell = api.ModelSpec(\n",
        "  matrix=[[0, 1, 1, 1, 0, 1, 0],    # input layer\n",
        "          [0, 0, 0, 0, 0, 0, 1],    # 1x1 conv\n",
        "          [0, 0, 0, 0, 0, 0, 1],    # 3x3 conv\n",
        "          [0, 0, 0, 0, 1, 0, 0],    # 5x5 conv (replaced by two 3x3's)\n",
        "          [0, 0, 0, 0, 0, 0, 1],    # 5x5 conv (replaced by two 3x3's)\n",
        "          [0, 0, 0, 0, 0, 0, 1],    # 3x3 max-pool\n",
        "          [0, 0, 0, 0, 0, 0, 0]],   # output layer\n",
        "  # Operations at the vertices of the module, matches order of matrix.\n",
        "  ops=[INPUT, CONV1X1, CONV3X3, CONV3X3, CONV3X3, MAXPOOL3X3, OUTPUT])\n",
        "\n",
        "# Perform NNGP inference using evaluator to obtain NNGP validation accuracy.\n",
        "nngp_validation_accuracy = evaluator.nngp_eval(cell, batch_size=100, ensemble_number=4)\n",
        "\n",
        "print(\"NNGP validation accuracy:\")\n",
        "print(nngp_validation_accuracy)"
      ]
    },
    {
      "cell_type": "code",
      "execution_count": null,
      "metadata": {
        "colab": {
          "base_uri": "https://localhost:8080/",
          "height": 408
        },
        "executionInfo": {
          "elapsed": 164838,
          "status": "ok",
          "timestamp": 1602028098580,
          "user": {
            "displayName": "Jaehoon Lee",
            "photoUrl": "https://lh3.googleusercontent.com/a-/AOh14GhxHqEwdpweGC4ZrtdwaxYD0GM-tam3aLuSS-I4aQ=s64",
            "userId": "07296832508386080109"
          },
          "user_tz": 420
        },
        "id": "mQBJfENPRnt1",
        "outputId": "a14d814e-98c8-4fd0-d6ef-32a7e0fe23cf"
      },
      "outputs": [
        {
          "data": {
            "text/plain": [
              "array([8, 9, 3, 7, 6, 3, 3, 9, 8, 7, 6, 4, 2, 1, 9, 1, 3, 9, 3, 7, 9, 9,\n",
              "       5, 8, 1, 7, 2, 8, 0, 3, 3, 7, 8, 9, 1, 3, 5, 4, 8, 3, 8, 3, 7, 7,\n",
              "       6, 9, 3, 5, 4, 7, 9, 0, 9, 9, 7, 2, 4, 7, 8, 1, 9, 4, 8, 7, 2, 0,\n",
              "       1, 1, 6, 0, 3, 4, 5, 6, 4, 6, 9, 5, 1, 7, 7, 6, 2, 8, 2, 8, 4, 0,\n",
              "       5, 5, 3, 0, 4, 4, 0, 6, 2, 8, 9, 9, 8, 2, 6, 2, 9, 7, 0, 9, 8, 9,\n",
              "       6, 6, 5, 7, 3, 6, 0, 4, 9, 3, 0, 4, 0, 2, 7, 4, 1, 1, 6, 0, 5, 0,\n",
              "       0, 8, 3, 1, 4, 6, 4, 5, 6, 1, 6, 1, 1, 7, 1, 2, 3, 9, 3, 5, 8, 2,\n",
              "       0, 0, 4, 9, 0, 0, 8, 9, 5, 7, 8, 5, 3, 6, 7, 6, 7, 9, 2, 6, 3, 7,\n",
              "       8, 1, 8, 3, 9, 4, 0, 3, 0, 0, 3, 9, 3, 6, 4, 2, 3, 5, 9, 6, 2, 5,\n",
              "       7, 4, 4, 4, 1, 2, 2, 4, 2, 9, 7, 8, 7, 1, 7, 9, 1, 3, 1, 4, 3, 6,\n",
              "       9, 4, 9, 2, 1, 5, 8, 0, 2, 3, 9, 3, 9, 9, 0, 2, 9, 7, 9, 7, 9, 9,\n",
              "       6, 1, 6, 5, 1, 8, 9, 4, 5, 5, 6, 9, 9, 8, 2, 8, 2, 8, 2, 8, 1, 8,\n",
              "       3, 5, 1, 6, 2, 3, 2, 2, 0, 8, 3, 5, 1, 8, 9, 8, 0, 1, 7, 4, 1, 8,\n",
              "       8, 8, 2, 6, 9, 0, 4, 1, 4, 3, 5, 1, 0, 2, 0, 3, 4, 8, 2, 9, 1, 5,\n",
              "       5, 6, 4, 5, 8, 5, 3, 5, 8, 7, 0, 1, 5, 7, 2, 4, 3, 4, 9, 5, 3, 6,\n",
              "       8, 0, 2, 1, 6, 0, 4, 0, 7, 2, 3, 1, 6, 0, 5, 7, 9, 7, 9, 0, 5, 8,\n",
              "       0, 9, 0, 0, 4, 4, 8, 2, 4, 9, 6, 0, 5, 2, 9, 8, 0, 8, 1, 1, 1, 3,\n",
              "       7, 2, 1, 9, 1, 3, 9, 2, 0, 5, 2, 5, 3, 7, 7, 5, 9, 0, 0, 3, 1, 5,\n",
              "       9, 7, 9, 4, 5, 5, 1, 9, 2, 8, 4, 5, 3, 3, 4, 4, 1, 1, 1, 7, 4, 8,\n",
              "       1, 2, 7, 7, 5, 5, 9, 4, 8, 2, 0, 6, 9, 2, 2, 1, 1, 0, 4, 3, 0, 9,\n",
              "       6, 2, 7, 0, 5, 2, 4, 3, 4, 2, 2, 4, 3, 7, 7, 0, 0, 3, 5, 7, 1, 0,\n",
              "       7, 7, 0, 5, 2, 5, 8, 9, 5, 5, 8, 3, 1, 8, 5, 2, 9, 3, 2, 1, 9, 9,\n",
              "       1, 3, 9, 3, 5, 1, 9, 1, 6, 3, 2, 8, 7, 8, 5, 6])"
            ]
          },
          "execution_count": 11,
          "metadata": {
            "tags": []
          },
          "output_type": "execute_result"
        }
      ],
      "source": [
        "evaluator.data_dict['train_labels']"
      ]
    },
    {
      "cell_type": "code",
      "execution_count": null,
      "metadata": {
        "colab": {
          "base_uri": "https://localhost:8080/",
          "height": 34
        },
        "executionInfo": {
          "elapsed": 171360,
          "status": "ok",
          "timestamp": 1602028105113,
          "user": {
            "displayName": "Jaehoon Lee",
            "photoUrl": "https://lh3.googleusercontent.com/a-/AOh14GhxHqEwdpweGC4ZrtdwaxYD0GM-tam3aLuSS-I4aQ=s64",
            "userId": "07296832508386080109"
          },
          "user_tz": 420
        },
        "id": "mnr55ZMUQ8Xv",
        "outputId": "aea782c2-a3cd-44f2-fd05-8b710a5709aa"
      },
      "outputs": [
        {
          "data": {
            "text/plain": [
              "array([7, 8, 4, 4, 6, 5, 2, 9, 6, 6, 9, 9, 3, 0, 8, 7, 9, 0, 4, 9])"
            ]
          },
          "execution_count": 12,
          "metadata": {
            "tags": []
          },
          "output_type": "execute_result"
        }
      ],
      "source": [
        "ds, _ = tfds.load('cifar10', split='train', batch_size=-1, with_info=True)\n",
        "ds = tfds.as_numpy(ds)\n",
        "ds['label'][:20]"
      ]
    },
    {
      "cell_type": "markdown",
      "metadata": {
        "id": "A7N9-9EiCwL1"
      },
      "source": [
        "# NNGP inference on subsets of NAS-Bench-101\n",
        "\n",
        "Let us now select 50 random networks from the NAS-Bench-101 dataset and plot the ground-truth performance (obtained by taking the average of the final test set accuracy after 108-epoch training) against NNGP validation accuracy.\n",
        "\n",
        "While we set the NNGP training and validation set size to 100, and the ensemble number to 2 here for rapid evaluation, these parameters may be adjusted.\n",
        "\n",
        "We also compute some basic metrics on how well the NNGP validation accuracy predicts the ground truth performance."
      ]
    },
    {
      "cell_type": "code",
      "execution_count": null,
      "metadata": {
        "cellView": "form",
        "id": "Yhf9zumrOXO9"
      },
      "outputs": [],
      "source": [
        "#@title Function defs\n",
        "\n",
        "def random_specs(oracle, num, random_seed=12345):\n",
        "  \"\"\"Returns a list of valid specs in oracle.\n",
        "  \n",
        "  Args:\n",
        "    oracle: An api.NASBench object.\n",
        "    num: Number of specs to return.\n",
        "\n",
        "  Returns:\n",
        "    A list of random valid specs from oracle.\n",
        "  \"\"\"\n",
        "  specs = []\n",
        "  hashes = set([])\n",
        "  \n",
        "  np.random.seed(random_seed)\n",
        "  while len(specs) \u003c num:\n",
        "    # Find a valid random spec.\n",
        "    while True:\n",
        "      matrix = np.random.choice(ALLOWED_EDGES,\n",
        "                                size=(NUM_VERTICES, NUM_VERTICES))\n",
        "      matrix = np.triu(matrix, 1)\n",
        "      ops = np.random.choice(ALLOWED_OPS, size=(NUM_VERTICES)).tolist()\n",
        "      ops[0] = INPUT\n",
        "      ops[-1] = OUTPUT\n",
        "      spec = api.ModelSpec(matrix=matrix, ops=ops)\n",
        "      if oracle.is_valid(spec):\n",
        "        break\n",
        "    # Check if spec is already in collected set.\n",
        "    h = spec.hash_spec(ALLOWED_OPS)\n",
        "    if h in hashes:\n",
        "      continue\n",
        "    specs += [spec]\n",
        "    hashes.add(h)\n",
        "\n",
        "  return specs\n",
        "\n",
        "\n",
        "def mean_108epoch_performance(spec, oracle):\n",
        "  \"\"\"Returns the mean performance of model after 108-epoch training.\n",
        "\n",
        "  Args:\n",
        "    spec: ModelSpec.\n",
        "    oracle: An api.NASBench object containing final_test_accuracy for\n",
        "      108-epoch training.\n",
        "\n",
        "  Returns:\n",
        "    Mean final_test_accuracy of model built from spec upon 108-epoch training.\n",
        "  \"\"\"\n",
        "  result = np.mean([d['final_test_accuracy']\n",
        "                    for d in oracle.get_metrics_from_spec(spec)[1][108]])\n",
        "\n",
        "  return result"
      ]
    },
    {
      "cell_type": "markdown",
      "metadata": {
        "id": "XrOJVsQ2pk8h"
      },
      "source": [
        "## Experiment\n",
        "\n",
        "Let us run the experiment and present performance metrics.\n",
        "\n",
        "This make take up to ~30 mins on a GPU (V100) instance."
      ]
    },
    {
      "cell_type": "code",
      "execution_count": null,
      "metadata": {
        "id": "tLFLRbgQ9xfQ"
      },
      "outputs": [],
      "source": [
        "# Experiment configurations\n",
        "NUM_SPECS = 250\n",
        "RANDOM_SEED = 123\n",
        "TRAIN_SIZE = 100\n",
        "VAL_SIZE = 200\n",
        "BATCH_SIZE = 100\n",
        "ENSEMBLE_NUMBER = 2"
      ]
    },
    {
      "cell_type": "code",
      "execution_count": null,
      "metadata": {
        "id": "qD8mErilX0Gc"
      },
      "outputs": [],
      "source": [
        "# Get 250 random specs from NAS-Bench-101 dataset.\n",
        "nasbench_specs = random_specs(\n",
        "    oracle=nasbench_only108, num=NUM_SPECS, random_seed=RANDOM_SEED)\n",
        "\n",
        "# Construct NNGP evaluator.\n",
        "evaluator = NNGP_CIFAR10_Evaluator(train_size=TRAIN_SIZE, val_size=VAL_SIZE)\n",
        "\n",
        "# Retrieve mean 108-epoch trained test-accuracy for the 250 specs.\n",
        "ground_truth = [\n",
        "                mean_108epoch_performance(spec=spec, oracle=nasbench_only108) \n",
        "                for spec in nasbench_specs\n",
        "                ]"
      ]
    },
    {
      "cell_type": "code",
      "execution_count": null,
      "metadata": {
        "colab": {
          "base_uri": "https://localhost:8080/",
          "height": 66,
          "referenced_widgets": [
            "6e6ccad3e71b4fc593be0143edf845c7",
            "b619a80c5d794002b34faba9e210b393",
            "ec14e1007b04450eb6dc7147a52508d6",
            "8b475a3beaca4ab39771ff5ef2afe5f4",
            "cb151c02cf624186b3489757a8e1e0eb",
            "e20930b90d27465fb7464a1f77b46620",
            "c7430782e31946dd9b2b60510840d8b4",
            "8cc0d1a4e21046f99d657b015a1315a4"
          ]
        },
        "executionInfo": {
          "elapsed": 1367509,
          "status": "ok",
          "timestamp": 1602036547206,
          "user": {
            "displayName": "Jaehoon Lee",
            "photoUrl": "https://lh3.googleusercontent.com/a-/AOh14GhxHqEwdpweGC4ZrtdwaxYD0GM-tam3aLuSS-I4aQ=s64",
            "userId": "07296832508386080109"
          },
          "user_tz": 420
        },
        "id": "t-uz_5q9Z_jt",
        "outputId": "4ed03f9f-56a7-48c0-b219-3cf583c0904c"
      },
      "outputs": [
        {
          "data": {
            "application/vnd.jupyter.widget-view+json": {
              "model_id": "6e6ccad3e71b4fc593be0143edf845c7",
              "version_major": 2,
              "version_minor": 0
            },
            "text/plain": [
              "HBox(children=(FloatProgress(value=0.0, max=250.0), HTML(value='')))"
            ]
          },
          "metadata": {
            "tags": []
          },
          "output_type": "display_data"
        },
        {
          "name": "stdout",
          "output_type": "stream",
          "text": [
            "\n"
          ]
        }
      ],
      "source": [
        "# Compute NNGP validation accuracy for the 250 specs.\n",
        "nngp_val = [\n",
        "            evaluator.nngp_eval(spec, batch_size=BATCH_SIZE, \n",
        "                                ensemble_number=ENSEMBLE_NUMBER) \n",
        "            for spec in tqdm(nasbench_specs)\n",
        "            ]"
      ]
    },
    {
      "cell_type": "markdown",
      "metadata": {
        "id": "bdpCK9NxyOTP"
      },
      "source": [
        "## Analysis"
      ]
    },
    {
      "cell_type": "markdown",
      "metadata": {
        "id": "G5onNrslr-Kq"
      },
      "source": [
        "### Ground Truth vs. NNGP Validation Accuracy Plot\n",
        "\n",
        "We plot the groud truth accuracy against NNGP validation accuracy."
      ]
    },
    {
      "cell_type": "code",
      "execution_count": null,
      "metadata": {
        "colab": {
          "base_uri": "https://localhost:8080/",
          "height": 295
        },
        "executionInfo": {
          "elapsed": 1366098,
          "status": "ok",
          "timestamp": 1602036547413,
          "user": {
            "displayName": "Jaehoon Lee",
            "photoUrl": "https://lh3.googleusercontent.com/a-/AOh14GhxHqEwdpweGC4ZrtdwaxYD0GM-tam3aLuSS-I4aQ=s64",
            "userId": "07296832508386080109"
          },
          "user_tz": 420
        },
        "id": "Gqc-3e3Fa2wm",
        "outputId": "7b8ceead-4787-48d2-d04e-86642b7c82be"
      },
      "outputs": [
        {
          "data": {
            "image/png": "[encoded data removed]",
            "text/plain": [
              "\u003cFigure size 432x288 with 1 Axes\u003e"
            ]
          },
          "metadata": {
            "needs_background": "light",
            "tags": []
          },
          "output_type": "display_data"
        }
      ],
      "source": [
        "# Compare ground-truth accuracy against NNGP \n",
        "plt.title(\"Ground truth accurcay vs. NNGP validation accuracy\")\n",
        "plt.scatter(nngp_val, ground_truth, s=30)\n",
        "plt.xlabel(\"NNGP validation accuracy\")\n",
        "plt.ylabel(\"Ground truth accuracy\")\n",
        "\n",
        "plt.show()"
      ]
    },
    {
      "cell_type": "markdown",
      "metadata": {
        "id": "Lffziq4HsKeY"
      },
      "source": [
        "### Metrics\n",
        "\n",
        "We compute metrics used in [**Towards NNGP-guided Neural Architecture Search**]() to evaluate how well NNGP accuracy predicts the ground truth performance of the 250-network subset selected.\n",
        "\n",
        "See paper for more information on the metrics."
      ]
    },
    {
      "cell_type": "code",
      "execution_count": null,
      "metadata": {
        "colab": {
          "base_uri": "https://localhost:8080/",
          "height": 68
        },
        "executionInfo": {
          "elapsed": 1363844,
          "status": "ok",
          "timestamp": 1602036547414,
          "user": {
            "displayName": "Jaehoon Lee",
            "photoUrl": "https://lh3.googleusercontent.com/a-/AOh14GhxHqEwdpweGC4ZrtdwaxYD0GM-tam3aLuSS-I4aQ=s64",
            "userId": "07296832508386080109"
          },
          "user_tz": 420
        },
        "id": "FlC0Tt1HsLEJ",
        "outputId": "567e31f2-f734-49ff-8370-82d1e3fe4b87"
      },
      "outputs": [
        {
          "name": "stdout",
          "output_type": "stream",
          "text": [
            "Kendall's Tau: 0.1827665761509062\n",
            "Correlation Coefficient: 0.21632201735448991\n",
            "Discovered Performance: 0.9337606827418009\n"
          ]
        }
      ],
      "source": [
        "# Kendall's tau.\n",
        "tau, _ = stats.kendalltau(ground_truth, nngp_val)\n",
        "print(\"Kendall's Tau: {}\".format(tau))\n",
        "\n",
        "# Pearson Correlation\n",
        "corr, _ = stats.pearsonr(ground_truth, nngp_val)\n",
        "print(\"Correlation Coefficient: {}\".format(corr))\n",
        "\n",
        "# Discovered Performance\n",
        "# Sort networks according to NNGP performance\n",
        "sorted_networks = np.argsort(nngp_val) \n",
        "# Get best ground-truth performance of the top-10 networks according to NNGP performance.\n",
        "discovered_performance = np.max(np.array(ground_truth)[sorted_networks[-10:]]) \n",
        "print(\"Discovered Performance: {}\".format(discovered_performance))"
      ]
    },
    {
      "cell_type": "code",
      "execution_count": null,
      "metadata": {
        "colab": {
          "base_uri": "https://localhost:8080/",
          "height": 295
        },
        "executionInfo": {
          "elapsed": 1363226,
          "status": "ok",
          "timestamp": 1602036547416,
          "user": {
            "displayName": "Jaehoon Lee",
            "photoUrl": "https://lh3.googleusercontent.com/a-/AOh14GhxHqEwdpweGC4ZrtdwaxYD0GM-tam3aLuSS-I4aQ=s64",
            "userId": "07296832508386080109"
          },
          "user_tz": 420
        },
        "id": "l28eOBNmtAiT",
        "outputId": "12e2164a-686d-45c3-f93a-d79ad3574dbb"
      },
      "outputs": [
        {
          "data": {
            "image/png": "[encoded data removed]",
            "text/plain": [
              "\u003cFigure size 432x288 with 1 Axes\u003e"
            ]
          },
          "metadata": {
            "needs_background": "light",
            "tags": []
          },
          "output_type": "display_data"
        }
      ],
      "source": [
        "# Prediction Quality for Exceedance of Threshold Performance p_T (PQETP-p_T)\n",
        "def pqetp(ground_truth, performance_metric, threshold):\n",
        "  \"\"\"Returns PQETP_threshold with respect to the performance metric.\"\"\"\n",
        "  return sklearn.metrics.roc_auc_score(\n",
        "      (np.array(ground_truth) \u003e threshold), performance_metric)\n",
        "\n",
        "# PQETP plot.\n",
        "threshold_values = [0.85, 0.87, 0.89, 0.91, 0.93]\n",
        "pqetp_threshold = [\n",
        "                   pqetp(ground_truth, nngp_val, p_T) \n",
        "                   for p_T in threshold_values\n",
        "                   ]\n",
        "\n",
        "plt.title(\"PQETP vs. Threshold\")\n",
        "plt.plot(threshold_values, pqetp_threshold, marker='s')\n",
        "plt.xlabel(\"Threshold\")\n",
        "plt.ylabel(\"PQETP\")\n",
        "\n",
        "plt.show()"
      ]
    },
    {
      "cell_type": "markdown",
      "metadata": {
        "id": "Y_ttpKKtAogJ"
      },
      "source": [
        "The quality of prediction improves as one increases NUM_SPECS, TRAIN_SIZE, VAL_SIZE, and ENSEMBLE_NUMBER. Evaluating on the full (423k) NASBench-101 models as done in the paper would require distributed computation. "
      ]
    }
  ],
  "metadata": {
    "accelerator": "GPU",
    "colab": {
      "collapsed_sections": [],
      "last_runtime": {
        "build_target": "//learning/deepmind/dm_python:dm_notebook3",
        "kind": "private"
      },
      "name": "NNGP_on_NASBench101.ipynb",
      "provenance": [
        {
          "file_id": "1mk7bNsV5tbqKL9l7Mr8r19X0vOA_Hu3c",
          "timestamp": 1602097293687
        },
        {
          "file_id": "1OTCP0vAZ7x46Q9fPZxUOpgaZbDB1iZZe",
          "timestamp": 1602097090952
        },
        {
          "file_id": "1HGCyoCf7d8_473V6mQn0Ux34Lq_tkJ4B",
          "timestamp": 1594772313378
        }
      ]
    },
    "kernelspec": {
      "display_name": "Python 3",
      "name": "python3"
    },
    "widgets": {
      "application/vnd.jupyter.widget-state+json": {
        "6e6ccad3e71b4fc593be0143edf845c7": {
          "model_module": "@jupyter-widgets/controls",
          "model_name": "HBoxModel",
          "state": {
            "_dom_classes": [],
            "_model_module": "@jupyter-widgets/controls",
            "_model_module_version": "1.5.0",
            "_model_name": "HBoxModel",
            "_view_count": null,
            "_view_module": "@jupyter-widgets/controls",
            "_view_module_version": "1.5.0",
            "_view_name": "HBoxView",
            "box_style": "",
            "children": [
              "IPY_MODEL_ec14e1007b04450eb6dc7147a52508d6",
              "IPY_MODEL_8b475a3beaca4ab39771ff5ef2afe5f4"
            ],
            "layout": "IPY_MODEL_b619a80c5d794002b34faba9e210b393"
          }
        },
        "8b475a3beaca4ab39771ff5ef2afe5f4": {
          "model_module": "@jupyter-widgets/controls",
          "model_name": "HTMLModel",
          "state": {
            "_dom_classes": [],
            "_model_module": "@jupyter-widgets/controls",
            "_model_module_version": "1.5.0",
            "_model_name": "HTMLModel",
            "_view_count": null,
            "_view_module": "@jupyter-widgets/controls",
            "_view_module_version": "1.5.0",
            "_view_name": "HTMLView",
            "description": "",
            "description_tooltip": null,
            "layout": "IPY_MODEL_8cc0d1a4e21046f99d657b015a1315a4",
            "placeholder": "​",
            "style": "IPY_MODEL_c7430782e31946dd9b2b60510840d8b4",
            "value": " 250/250 [22:40\u0026lt;00:00,  5.44s/it]"
          }
        },
        "8cc0d1a4e21046f99d657b015a1315a4": {
          "model_module": "@jupyter-widgets/base",
          "model_name": "LayoutModel",
          "state": {
            "_model_module": "@jupyter-widgets/base",
            "_model_module_version": "1.2.0",
            "_model_name": "LayoutModel",
            "_view_count": null,
            "_view_module": "@jupyter-widgets/base",
            "_view_module_version": "1.2.0",
            "_view_name": "LayoutView",
            "align_content": null,
            "align_items": null,
            "align_self": null,
            "border": null,
            "bottom": null,
            "display": null,
            "flex": null,
            "flex_flow": null,
            "grid_area": null,
            "grid_auto_columns": null,
            "grid_auto_flow": null,
            "grid_auto_rows": null,
            "grid_column": null,
            "grid_gap": null,
            "grid_row": null,
            "grid_template_areas": null,
            "grid_template_columns": null,
            "grid_template_rows": null,
            "height": null,
            "justify_content": null,
            "justify_items": null,
            "left": null,
            "margin": null,
            "max_height": null,
            "max_width": null,
            "min_height": null,
            "min_width": null,
            "object_fit": null,
            "object_position": null,
            "order": null,
            "overflow": null,
            "overflow_x": null,
            "overflow_y": null,
            "padding": null,
            "right": null,
            "top": null,
            "visibility": null,
            "width": null
          }
        },
        "b619a80c5d794002b34faba9e210b393": {
          "model_module": "@jupyter-widgets/base",
          "model_name": "LayoutModel",
          "state": {
            "_model_module": "@jupyter-widgets/base",
            "_model_module_version": "1.2.0",
            "_model_name": "LayoutModel",
            "_view_count": null,
            "_view_module": "@jupyter-widgets/base",
            "_view_module_version": "1.2.0",
            "_view_name": "LayoutView",
            "align_content": null,
            "align_items": null,
            "align_self": null,
            "border": null,
            "bottom": null,
            "display": null,
            "flex": null,
            "flex_flow": null,
            "grid_area": null,
            "grid_auto_columns": null,
            "grid_auto_flow": null,
            "grid_auto_rows": null,
            "grid_column": null,
            "grid_gap": null,
            "grid_row": null,
            "grid_template_areas": null,
            "grid_template_columns": null,
            "grid_template_rows": null,
            "height": null,
            "justify_content": null,
            "justify_items": null,
            "left": null,
            "margin": null,
            "max_height": null,
            "max_width": null,
            "min_height": null,
            "min_width": null,
            "object_fit": null,
            "object_position": null,
            "order": null,
            "overflow": null,
            "overflow_x": null,
            "overflow_y": null,
            "padding": null,
            "right": null,
            "top": null,
            "visibility": null,
            "width": null
          }
        },
        "c7430782e31946dd9b2b60510840d8b4": {
          "model_module": "@jupyter-widgets/controls",
          "model_name": "DescriptionStyleModel",
          "state": {
            "_model_module": "@jupyter-widgets/controls",
            "_model_module_version": "1.5.0",
            "_model_name": "DescriptionStyleModel",
            "_view_count": null,
            "_view_module": "@jupyter-widgets/base",
            "_view_module_version": "1.2.0",
            "_view_name": "StyleView",
            "description_width": ""
          }
        },
        "cb151c02cf624186b3489757a8e1e0eb": {
          "model_module": "@jupyter-widgets/controls",
          "model_name": "ProgressStyleModel",
          "state": {
            "_model_module": "@jupyter-widgets/controls",
            "_model_module_version": "1.5.0",
            "_model_name": "ProgressStyleModel",
            "_view_count": null,
            "_view_module": "@jupyter-widgets/base",
            "_view_module_version": "1.2.0",
            "_view_name": "StyleView",
            "bar_color": null,
            "description_width": "initial"
          }
        },
        "e20930b90d27465fb7464a1f77b46620": {
          "model_module": "@jupyter-widgets/base",
          "model_name": "LayoutModel",
          "state": {
            "_model_module": "@jupyter-widgets/base",
            "_model_module_version": "1.2.0",
            "_model_name": "LayoutModel",
            "_view_count": null,
            "_view_module": "@jupyter-widgets/base",
            "_view_module_version": "1.2.0",
            "_view_name": "LayoutView",
            "align_content": null,
            "align_items": null,
            "align_self": null,
            "border": null,
            "bottom": null,
            "display": null,
            "flex": null,
            "flex_flow": null,
            "grid_area": null,
            "grid_auto_columns": null,
            "grid_auto_flow": null,
            "grid_auto_rows": null,
            "grid_column": null,
            "grid_gap": null,
            "grid_row": null,
            "grid_template_areas": null,
            "grid_template_columns": null,
            "grid_template_rows": null,
            "height": null,
            "justify_content": null,
            "justify_items": null,
            "left": null,
            "margin": null,
            "max_height": null,
            "max_width": null,
            "min_height": null,
            "min_width": null,
            "object_fit": null,
            "object_position": null,
            "order": null,
            "overflow": null,
            "overflow_x": null,
            "overflow_y": null,
            "padding": null,
            "right": null,
            "top": null,
            "visibility": null,
            "width": null
          }
        },
        "ec14e1007b04450eb6dc7147a52508d6": {
          "model_module": "@jupyter-widgets/controls",
          "model_name": "FloatProgressModel",
          "state": {
            "_dom_classes": [],
            "_model_module": "@jupyter-widgets/controls",
            "_model_module_version": "1.5.0",
            "_model_name": "FloatProgressModel",
            "_view_count": null,
            "_view_module": "@jupyter-widgets/controls",
            "_view_module_version": "1.5.0",
            "_view_name": "ProgressView",
            "bar_style": "success",
            "description": "100%",
            "description_tooltip": null,
            "layout": "IPY_MODEL_e20930b90d27465fb7464a1f77b46620",
            "max": 250,
            "min": 0,
            "orientation": "horizontal",
            "style": "IPY_MODEL_cb151c02cf624186b3489757a8e1e0eb",
            "value": 250
          }
        }
      }
    }
  },
  "nbformat": 4,
  "nbformat_minor": 0
}
