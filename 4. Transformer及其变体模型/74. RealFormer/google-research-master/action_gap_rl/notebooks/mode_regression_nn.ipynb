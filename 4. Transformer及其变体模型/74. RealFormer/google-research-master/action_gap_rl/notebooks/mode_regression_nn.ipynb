{
  "nbformat": 4,
  "nbformat_minor": 0,
  "metadata": {
    "colab": {
      "name": "mode_regression_nn.ipynb",
      "provenance": [],
      "collapsed_sections": [],
      "last_runtime": {
        "build_target": "//learning/brain/python/client:colab_notebook_py3",
        "kind": "private"
      }
    },
    "kernelspec": {
      "name": "python3",
      "display_name": "Python 3"
    }
  },
  "cells": [
    {
      "cell_type": "markdown",
      "metadata": {
        "id": "bZCvVbB1gbGH",
        "colab_type": "text"
      },
      "source": [
        "***Copyright 2020 Google LLC.***\n",
        "\n",
        "Licensed under the Apache License, Version 2.0 (the \"License\");"
      ]
    },
    {
      "cell_type": "code",
      "metadata": {
        "id": "X_Kwbd8GgW6k",
        "colab_type": "code",
        "colab": {}
      },
      "source": [
        "#@title Default title text\n",
        "# Licensed under the Apache License, Version 2.0 (the \"License\");\n",
        "# you may not use this file except in compliance with the License.\n",
        "# You may obtain a copy of the License at\n",
        "#\n",
        "# https://www.apache.org/licenses/LICENSE-2.0\n",
        "#\n",
        "# Unless required by applicable law or agreed to in writing, software\n",
        "# distributed under the License is distributed on an \"AS IS\" BASIS,\n",
        "# WITHOUT WARRANTIES OR CONDITIONS OF ANY KIND, either express or implied.\n",
        "# See the License for the specific language governing permissions and\n",
        "# limitations under the License."
      ],
      "execution_count": 0,
      "outputs": []
    },
    {
      "cell_type": "code",
      "metadata": {
        "id": "wng8KpSARKuG",
        "colab_type": "code",
        "colab": {}
      },
      "source": [
        "import numpy as np\n",
        "import tensorflow.compat.v2 as tf\n",
        "import matplotlib.pyplot as plt"
      ],
      "execution_count": 0,
      "outputs": []
    },
    {
      "cell_type": "code",
      "metadata": {
        "id": "T37b-H9BRRLJ",
        "colab_type": "code",
        "colab": {}
      },
      "source": [
        "tf.enable_v2_behavior()"
      ],
      "execution_count": 0,
      "outputs": []
    },
    {
      "cell_type": "code",
      "metadata": {
        "id": "jGTee7vtdEtj",
        "colab_type": "code",
        "colab": {}
      },
      "source": [
        "# Mode as a function of observation\n",
        "def f(s):\n",
        "  return np.sin(s*2*np.pi/100.)/2."
      ],
      "execution_count": 0,
      "outputs": []
    },
    {
      "cell_type": "code",
      "metadata": {
        "id": "kQrsv8kNdM5-",
        "colab_type": "code",
        "colab": {}
      },
      "source": [
        "N = 100\n",
        "s = np.random.uniform(-100, 100, size=N)  # observations between -100 and 100\n",
        "a = np.random.uniform(-1, 1, size=N)  # Actions between -1 and 1"
      ],
      "execution_count": 0,
      "outputs": []
    },
    {
      "cell_type": "code",
      "metadata": {
        "id": "VpkmOcwrdf6G",
        "colab_type": "code",
        "outputId": "361a5b61-3c6b-4a34-a071-42e1bfe123a6",
        "executionInfo": {
          "status": "ok",
          "timestamp": 1568423233252,
          "user_tz": 420,
          "elapsed": 289,
          "user": {
            "displayName": "Dan Abolafia",
            "photoUrl": "https://lh3.googleusercontent.com/a-/AAuE7mAQmxyT8biPkQeDgz5lf2ocSzJsOqH8BqBuLz1a=s64",
            "userId": "05741471333872541970"
          }
        },
        "colab": {
          "height": 51
        }
      },
      "source": [
        "P = 0.2\n",
        "y = -100*np.abs(a - f(s))**P\n",
        "y /= np.max(np.abs(y))\n",
        "print(np.max(y))\n",
        "print(np.min(y))"
      ],
      "execution_count": 0,
      "outputs": [
        {
          "output_type": "stream",
          "text": [
            "-0.19769162598050274\n",
            "-1.0\n"
          ],
          "name": "stdout"
        }
      ]
    },
    {
      "cell_type": "code",
      "metadata": {
        "id": "PlFJsBWleHZu",
        "colab_type": "code",
        "outputId": "f86eb1bd-b14e-4e90-e483-8160f854d882",
        "executionInfo": {
          "status": "ok",
          "timestamp": 1568423233792,
          "user_tz": 420,
          "elapsed": 521,
          "user": {
            "displayName": "Dan Abolafia",
            "photoUrl": "https://lh3.googleusercontent.com/a-/AAuE7mAQmxyT8biPkQeDgz5lf2ocSzJsOqH8BqBuLz1a=s64",
            "userId": "05741471333872541970"
          }
        },
        "colab": {
          "height": 286
        }
      },
      "source": [
        "plt.scatter(s, a, c=y)\n",
        "plt.plot(np.sort(s), f(np.sort(s)))\n",
        "plt.plot()"
      ],
      "execution_count": 0,
      "outputs": [
        {
          "output_type": "execute_result",
          "data": {
            "text/plain": [
              "[]"
            ]
          },
          "metadata": {
            "tags": []
          },
          "execution_count": 6
        },
        {
          "output_type": "display_data",
          "data": {
            "image/png": "[encoded data removed]",
            "text/plain": [
              "<Figure size 600x400 with 1 Axes>"
            ]
          },
          "metadata": {
            "tags": []
          }
        }
      ]
    },
    {
      "cell_type": "markdown",
      "metadata": {
        "id": "0nphBRRZ80Zt",
        "colab_type": "text"
      },
      "source": [
        "# Explanation\n",
        "\n",
        "Observations $s$ are scalar values between -100 and 100. Actions $a$ are scalar values between -1 and 1.\n",
        "\n",
        "The plot above shows $(s, a)$ pairs, with their corresponding targets $y$ as color (dark is low, light is hight). The high target regions follow the curve $f$, which gives the mode (argmax action) as a function of $s$.\n",
        "\n",
        "The goal is to recover $f$ from the given data points.\n"
      ]
    },
    {
      "cell_type": "code",
      "metadata": {
        "id": "GFFKJaFFfcI6",
        "colab_type": "code",
        "colab": {}
      },
      "source": [
        "data = (s[:, np.newaxis], a[:, np.newaxis], y[:, np.newaxis])\n",
        "s_features = tf.constant(np.linspace(-100, 100, 50)[np.newaxis, :], dtype=tf.float32)\n",
        "\n",
        "hidden_widths = [1000, 500]\n",
        "model = tf.keras.Sequential(\n",
        "    [tf.keras.layers.Lambda(lambda x: tf.exp(-(x - s_features)**2/2000))]\n",
        "    + [tf.keras.layers.Dense(w, activation='relu') for w in hidden_widths]\n",
        "    + [tf.keras.layers.Dense(1, activation=None)]\n",
        ")"
      ],
      "execution_count": 0,
      "outputs": []
    },
    {
      "cell_type": "markdown",
      "metadata": {
        "id": "XfoYOomc9e_m",
        "colab_type": "text"
      },
      "source": [
        "What loss functions best recover the curve $f$ from our dataset?"
      ]
    },
    {
      "cell_type": "code",
      "metadata": {
        "id": "BN6JkI2NT4yU",
        "colab_type": "code",
        "colab": {}
      },
      "source": [
        "# loss A\n",
        "#    ||h(s) - a|^p - R|^q\n",
        "# This is danabo's mode regression loss\n",
        "\n",
        "p = 0.1\n",
        "q = 1/P\n",
        "# p = q = 2.0\n",
        "def loss(model, s, a, y):\n",
        "  reg = tf.linalg.global_norm(model.trainable_variables)\n",
        "  return tf.reduce_mean(tf.abs(-tf.abs(model(s)-a)**p - y)**q) + 0.003*reg"
      ],
      "execution_count": 0,
      "outputs": []
    },
    {
      "cell_type": "code",
      "metadata": {
        "id": "yWbSJPG4T5JB",
        "colab_type": "code",
        "colab": {}
      },
      "source": [
        "# loss B\n",
        "#    |h(s) - a|^p * exp(R/tau)\n",
        "# This is one of Dale's surrogate loss, specifically dot-product loss.\n",
        "\n",
        "p = 1.0\n",
        "tau = 1/10.\n",
        "def loss(model, s, a, y):\n",
        "  reg = tf.linalg.global_norm(model.trainable_variables)\n",
        "  target = tf.cast(tf.exp(y/tau), tf.float32)\n",
        "  return tf.reduce_mean(tf.abs(model(s)-a)**p * target) + 0.0005*reg"
      ],
      "execution_count": 0,
      "outputs": []
    },
    {
      "cell_type": "code",
      "metadata": {
        "id": "q56RI8-V1_V8",
        "colab_type": "code",
        "outputId": "40e9b633-8516-4763-f180-4d55f137fb34",
        "executionInfo": {
          "status": "ok",
          "timestamp": 1568423585282,
          "user_tz": 420,
          "elapsed": 293,
          "user": {
            "displayName": "Dan Abolafia",
            "photoUrl": "https://lh3.googleusercontent.com/a-/AAuE7mAQmxyT8biPkQeDgz5lf2ocSzJsOqH8BqBuLz1a=s64",
            "userId": "05741471333872541970"
          }
        },
        "colab": {
          "height": 34
        }
      },
      "source": [
        "np.var(s)"
      ],
      "execution_count": 0,
      "outputs": [
        {
          "output_type": "execute_result",
          "data": {
            "text/plain": [
              "3297.3220206374854"
            ]
          },
          "metadata": {
            "tags": []
          },
          "execution_count": 56
        }
      ]
    },
    {
      "cell_type": "code",
      "metadata": {
        "id": "dn8ggwVZesaY",
        "colab_type": "code",
        "outputId": "c0c8ca98-58a8-436e-870e-bc2b920ede4c",
        "executionInfo": {
          "status": "ok",
          "timestamp": 1568423585608,
          "user_tz": 420,
          "elapsed": 300,
          "user": {
            "displayName": "Dan Abolafia",
            "photoUrl": "https://lh3.googleusercontent.com/a-/AAuE7mAQmxyT8biPkQeDgz5lf2ocSzJsOqH8BqBuLz1a=s64",
            "userId": "05741471333872541970"
          }
        },
        "colab": {
          "height": 34
        }
      },
      "source": [
        "# Initialize model\n",
        "\n",
        "device_string = '/device:GPU:0'\n",
        "# device_string = '/device:TPU:0'\n",
        "# device_string = ''  # CPU\n",
        "\n",
        "with tf.device(device_string):\n",
        "  model(data[0])\n",
        "  print(loss(model, *data).numpy())  # Initialize model\n",
        "\n",
        "optimizer = tf.keras.optimizers.Adam(learning_rate=0.0001)"
      ],
      "execution_count": 0,
      "outputs": [
        {
          "output_type": "stream",
          "text": [
            "0.014822608\n"
          ],
          "name": "stdout"
        }
      ]
    },
    {
      "cell_type": "code",
      "metadata": {
        "id": "PjqYN66ygqxH",
        "colab_type": "code",
        "colab": {}
      },
      "source": [
        "def sample_batch(batch_size, *args):\n",
        "  assert args\n",
        "  idx = np.random.choice(args[0].shape[0], batch_size)\n",
        "  return tuple([arg[idx] for arg in args])"
      ],
      "execution_count": 0,
      "outputs": []
    },
    {
      "cell_type": "code",
      "metadata": {
        "id": "V1C8fNjNfba0",
        "colab_type": "code",
        "colab": {}
      },
      "source": [
        "for i in range(10000):\n",
        "  # batch = sample_batch(100, *data)\n",
        "  batch = data\n",
        "  optimizer.minimize(lambda: loss(model, *batch), model.trainable_variables)\n",
        "  if i % 100 == 0:\n",
        "    print(i, '\\t', loss(model, *data).numpy())"
      ],
      "execution_count": 0,
      "outputs": []
    },
    {
      "cell_type": "markdown",
      "metadata": {
        "id": "8uBenv2C9iYM",
        "colab_type": "text"
      },
      "source": [
        "Test recovery of $f$."
      ]
    },
    {
      "cell_type": "code",
      "metadata": {
        "id": "I8v-OUy7hD1D",
        "colab_type": "code",
        "outputId": "77c9c082-b7e6-4614-c365-c9fb9de12b50",
        "executionInfo": {
          "status": "ok",
          "timestamp": 1568423597001,
          "user_tz": 420,
          "elapsed": 428,
          "user": {
            "displayName": "Dan Abolafia",
            "photoUrl": "https://lh3.googleusercontent.com/a-/AAuE7mAQmxyT8biPkQeDgz5lf2ocSzJsOqH8BqBuLz1a=s64",
            "userId": "05741471333872541970"
          }
        },
        "colab": {
          "height": 269
        }
      },
      "source": [
        "X = np.linspace(-100, 100, 200)[:, np.newaxis]\n",
        "Y = model(X).numpy()\n",
        "plt.plot(X, Y)\n",
        "plt.show()"
      ],
      "execution_count": 0,
      "outputs": [
        {
          "output_type": "display_data",
          "data": {
            "image/png": "[encoded data removed]",
            "text/plain": [
              "<Figure size 600x400 with 1 Axes>"
            ]
          },
          "metadata": {
            "tags": []
          }
        }
      ]
    },
    {
      "cell_type": "code",
      "metadata": {
        "id": "A5Rev3QIhQFf",
        "colab_type": "code",
        "colab": {}
      },
      "source": [
        ""
      ],
      "execution_count": 0,
      "outputs": []
    }
  ]
}