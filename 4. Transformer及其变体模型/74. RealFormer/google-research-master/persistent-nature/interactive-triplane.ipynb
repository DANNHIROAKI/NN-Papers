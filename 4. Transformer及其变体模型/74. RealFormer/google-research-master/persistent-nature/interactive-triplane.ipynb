{
 "cells": [
  {
   "cell_type": "markdown",
   "id": "8d53883e-e676-4ec1-a49f-644ed0c0e31c",
   "metadata": {},
   "source": [
    "Copyright 2023 Google LLC. SPDX-License-Identifier: Apache-2.0\n",
    "\n",
    "Licensed under the Apache License, Version 2.0 (the \"License\"); you may not use this file except in compliance with the License. You may obtain a copy of the License at\n",
    "\n",
    "https://www.apache.org/licenses/LICENSE-2.0\n",
    "\n",
    "Unless required by applicable law or agreed to in writing, software distributed under the License is distributed on an \"AS IS\" BASIS, WITHOUT WARRANTIES OR CONDITIONS OF ANY KIND, either express or implied. See the License for the specific language governing permissions and limitations under the License."
   ]
  },
  {
   "cell_type": "code",
   "execution_count": null,
   "id": "50ff8ba0",
   "metadata": {},
   "outputs": [],
   "source": [
    "%env CUDA_DEVICE_ORDER=PCI_BUS_ID\n",
    "%env CUDA_VISIBLE_DEVICES=0"
   ]
  },
  {
   "cell_type": "code",
   "execution_count": null,
   "id": "2f34a8c8",
   "metadata": {},
   "outputs": [],
   "source": [
    "import torch\n",
    "from PIL import Image\n",
    "import pickle\n",
    "import numpy as np\n",
    "from IPython.display import display\n",
    "from ipywidgets import HTML\n",
    "from ipyevents import Event\n",
    "from baukit import renormalize\n",
    "\n",
    "from models.triplane import model_full\n",
    "from utils import sky_util, soat_util_triplane, camera_util, noise_util, show\n"
   ]
  },
  {
   "cell_type": "code",
   "execution_count": null,
   "id": "91216085",
   "metadata": {},
   "outputs": [],
   "source": [
    "torch.set_grad_enabled(False)\n",
    "device = 'cuda'"
   ]
  },
  {
   "cell_type": "markdown",
   "id": "c4cc1e6e",
   "metadata": {},
   "source": [
    "# load models"
   ]
  },
  {
   "cell_type": "code",
   "execution_count": null,
   "id": "530a4d16",
   "metadata": {},
   "outputs": [],
   "source": [
    "full_model = model_full.ModelFull('pretrained/model_triplane.pkl', 'pretrained/model_sky_360.pkl').to(device).eval()"
   ]
  },
  {
   "cell_type": "code",
   "execution_count": null,
   "id": "c49c810b",
   "metadata": {},
   "outputs": [],
   "source": [
    "G = soat_util_triplane.init_soat_model(full_model.ground).eval().cuda()\n",
    "G_pano = full_model.sky.G\n",
    "grid = sky_util.make_grid(G_pano)\n",
    "input_layer = G_pano.synthesis.input\n",
    "\n",
    "# settings\n",
    "fov = 60\n",
    "box_warp = G.rendering_kwargs['box_warp']\n",
    "G.rendering_kwargs['ray_end'] *= 2\n",
    "G.rendering_kwargs['depth_resolution'] *= 2\n",
    "G.rendering_kwargs['depth_resolution_importance'] *= 2\n",
    "G.rendering_kwargs['y_clip'] = 8.0\n",
    "G.rendering_kwargs['decay_start'] = 0.9 * G.rendering_kwargs['ray_end']\n",
    "G.rendering_kwargs['sample_deterministic'] = True"
   ]
  },
  {
   "cell_type": "markdown",
   "id": "59e45118",
   "metadata": {},
   "source": [
    "# generate initial layout and skydome env map"
   ]
  },
  {
   "cell_type": "code",
   "execution_count": null,
   "id": "eb05c6e6",
   "metadata": {},
   "outputs": [],
   "source": [
    "seed = 10 # np.random.randint(0, 1000)\n",
    "grid_size = 5\n",
    "zs, c = soat_util_triplane.prepare_zs(seed, grid_h=grid_size, grid_w=grid_size)\n",
    "zs = soat_util_triplane.interpolate_zs(zs)\n",
    "\n",
    "# generate feature planes\n",
    "xz_soat = soat_util_triplane.generate_xz(zs, c) # [1, 32, 512, 512]\n",
    "xy_soat = soat_util_triplane.generate_xy(zs, c) # 2 x [1, 32, 256, 512]\n",
    "yz_soat = soat_util_triplane.generate_yz(zs, c) # 2 x [1, 32, 256, 512]\n",
    "planes = [xy_soat, xz_soat, yz_soat]\n",
    "\n",
    "# set up upsampler and sky inputs\n",
    "z = zs[0,0] # extract a z latent for the upsampler\n",
    "ws = soat_util_triplane.prepare_ws(z, torch.zeros_like(c))\n",
    "sky_z = z[:, : G_pano.z_dim]\n",
    "\n",
    "# rendered noise (may not be used depending on noise_mode for upsampler)\n",
    "noise_gen = noise_util.build_soat_noise(G, grid_size)\n",
    "noise_input = noise_gen.get_noise(batch_size=1, device=zs.device)"
   ]
  },
  {
   "cell_type": "code",
   "execution_count": null,
   "id": "a03e09ba",
   "metadata": {},
   "outputs": [],
   "source": [
    "# How fast we adjust. Too large and it will overshoot.\n",
    "# Too small and it will not react in time to avoid mountains.\n",
    "tilt_velocity_scale = .3    # Keep this small, otherwise you'll get motion sickness.\n",
    "offset_velocity_scale = .5\n",
    "\n",
    "# How far up the image should the horizon be, ideally.\n",
    "# Suggested range: 0.5 to 0.7.\n",
    "horizon_target = 0.65\n",
    "\n",
    "# What proportion of the depth map should be \"near\" the camera, ideally.\n",
    "# The smaller the number, the higher up the camera will fly.\n",
    "# Suggested range: 0.05 to 0.2\n",
    "near_target = 0.2\n",
    "\n",
    "offset = 0.\n",
    "tilt = 0.\n",
    "initial_stabilize_frames = 10\n",
    "\n",
    "# sample a random camera\n",
    "sampled_camera, cam2world_matrix, intrinsics = soat_util_triplane.sample_random_camera(fov, box_warp, seed)\n",
    "intrinsics_matrix = intrinsics[None].to(device)\n",
    "# print(sampled_camera)\n",
    "\n",
    "# balance camera above the horizon\n",
    "for _ in range(10):\n",
    "    adjusted_cam = camera_util.adjust_camera_vertically(sampled_camera, offset, tilt)\n",
    "    outputs, horizon, near = soat_util_triplane.generate_frame(\n",
    "        G, adjusted_cam, planes, ws, intrinsics_matrix, noise_input)\n",
    "    # print(horizon, near)\n",
    "    tilt += tilt_velocity_scale*(horizon - horizon_target)\n",
    "    offset += offset_velocity_scale*(near - near_target)\n",
    "print(adjusted_cam)\n",
    "    \n",
    "# generate sky texture\n",
    "img_w_gray_sky = outputs['image_w_gray_sky']\n",
    "sky_encode = full_model.sky.encode(img_w_gray_sky)\n",
    "start_grid = sky_util.generate_start_grid(seed, input_layer, grid)\n",
    "sky_texture = sky_util.generate_pano_transform(G_pano, sky_z, sky_encode, start_grid)\n",
    "sky_texture = sky_texture.cuda()[None]\n",
    "show(renormalize.as_image(sky_texture[0]))"
   ]
  },
  {
   "cell_type": "markdown",
   "id": "2ac19d65",
   "metadata": {},
   "source": [
    "# interactive widget"
   ]
  },
  {
   "cell_type": "code",
   "execution_count": null,
   "id": "c76602f2",
   "metadata": {},
   "outputs": [],
   "source": [
    "l = HTML(\"\")\n",
    "h = HTML(\"\")\n",
    "d = Event(source=l, watched_events=['keydown'])\n",
    "display_size = (256, 256)\n",
    "\n",
    "camera = adjusted_cam\n",
    "camera_util.INITIAL_CAMERA = adjusted_cam\n",
    "    \n",
    "def update_display(outputs, camera):\n",
    "    composite_rgb_url = renormalize.as_url(outputs['composite'][0], size=display_size)\n",
    "    \n",
    "\n",
    "    # calculate xyz points\n",
    "    ray_origins, ray_directions = G.ray_sampler(outputs['cam2world_matrix'], intrinsics_matrix, 32)\n",
    "    t_val = torch.linspace(G.rendering_kwargs['ray_start'], G.rendering_kwargs['ray_end'], 100, device=device).view(1, 1, -1, 1)\n",
    "    xyz = (ray_origins.unsqueeze(-2) + t_val * ray_directions.unsqueeze(-2))\n",
    "    vis_rays =  camera_util.visualize_rays(G, outputs['world2cam_matrix'], xyz,\n",
    "                                       xz_soat, display_size[0])\n",
    "    cam_img = renormalize.as_image(vis_rays)    \n",
    "    cam_url = renormalize.as_url(cam_img, size=display_size)\n",
    "    img_html = ('<div class=\"row\"> <img src=\"%s\"/> <img src=\"%s\"/> </div>' % (composite_rgb_url, cam_url))\n",
    "    l.value = img_html\n",
    "    h.value = str(camera)\n",
    "    \n",
    "def handle_event(event):\n",
    "    global camera, offset, tilt\n",
    "    camera = camera_util.update_camera(camera, event['key'], auto_adjust_height_and_tilt=True)\n",
    "    c = camera_util.adjust_camera_vertically(camera, offset, tilt)\n",
    "    outputs, horizon, near = soat_util_triplane.generate_frame(\n",
    "        G, c, planes, ws, intrinsics_matrix, noise_input, sky_texture=sky_texture)\n",
    "    # print(horizon, near)\n",
    "    tilt += tilt_velocity_scale*(horizon - horizon_target)\n",
    "    offset += offset_velocity_scale*(near - near_target)\n",
    "    update_display(outputs, c)    \n",
    "\n",
    "d.on_dom_event(handle_event)\n",
    "display(h, l)\n",
    "handle_event({'key': 'x'})"
   ]
  },
  {
   "cell_type": "code",
   "execution_count": null,
   "id": "89292383",
   "metadata": {},
   "outputs": [],
   "source": []
  }
 ],
 "metadata": {
  "kernelspec": {
   "display_name": "persistentnature",
   "language": "python",
   "name": "persistentnature"
  },
  "language_info": {
   "codemirror_mode": {
    "name": "ipython",
    "version": 3
   },
   "file_extension": ".py",
   "mimetype": "text/x-python",
   "name": "python",
   "nbconvert_exporter": "python",
   "pygments_lexer": "ipython3",
   "version": "3.8.16"
  }
 },
 "nbformat": 4,
 "nbformat_minor": 5
}
