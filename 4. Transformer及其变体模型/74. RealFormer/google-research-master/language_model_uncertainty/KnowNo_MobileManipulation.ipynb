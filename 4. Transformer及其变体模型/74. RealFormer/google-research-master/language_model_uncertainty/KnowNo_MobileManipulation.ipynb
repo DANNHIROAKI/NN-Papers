{
  "nbformat": 4,
  "nbformat_minor": 0,
  "metadata": {
    "colab": {
      "provenance": [],
      "collapsed_sections": [
        "Q39CIF2h3RYB",
        "2RjOSbFKzGzq",
        "Ehn-BO77Oy1h",
        "5xwO6drGPPMX",
        "CPSbGA8kPbJ2",
        "qo4pfCgzRLHh",
        "xCmgJ8K0Piwt",
        "HrAmUcMGbE0n",
        "B8874YbMc4O1"
      ],
      "machine_shape": "hm"
    },
    "kernelspec": {
      "name": "python3",
      "display_name": "Python 3"
    },
    "language_info": {
      "name": "python"
    },
    "accelerator": "GPU",
    "widgets": {
      "application/vnd.jupyter.widget-state+json": {
        "c32b943cf86d4922943a5b6f5c500620": {
          "model_module": "@jupyter-widgets/controls",
          "model_name": "HBoxModel",
          "model_module_version": "1.5.0",
          "state": {
            "_dom_classes": [],
            "_model_module": "@jupyter-widgets/controls",
            "_model_module_version": "1.5.0",
            "_model_name": "HBoxModel",
            "_view_count": null,
            "_view_module": "@jupyter-widgets/controls",
            "_view_module_version": "1.5.0",
            "_view_name": "HBoxView",
            "box_style": "",
            "children": [
              "IPY_MODEL_9db2e45e251e49869493b530eefa40b1",
              "IPY_MODEL_8aa3f8cc63c7436daf32ddd86d01b57d",
              "IPY_MODEL_10e6de049a1e4fd7a11f19707d52e4c7"
            ],
            "layout": "IPY_MODEL_39aab91053164a8d920586d38396ee4a"
          }
        },
        "9db2e45e251e49869493b530eefa40b1": {
          "model_module": "@jupyter-widgets/controls",
          "model_name": "HTMLModel",
          "model_module_version": "1.5.0",
          "state": {
            "_dom_classes": [],
            "_model_module": "@jupyter-widgets/controls",
            "_model_module_version": "1.5.0",
            "_model_name": "HTMLModel",
            "_view_count": null,
            "_view_module": "@jupyter-widgets/controls",
            "_view_module_version": "1.5.0",
            "_view_name": "HTMLView",
            "description": "",
            "description_tooltip": null,
            "layout": "IPY_MODEL_8b3295e6a508426891b613f7c2737c46",
            "placeholder": "​",
            "style": "IPY_MODEL_b0ac20d9e7744916aa13e9d3f249f02c",
            "value": "100%"
          }
        },
        "8aa3f8cc63c7436daf32ddd86d01b57d": {
          "model_module": "@jupyter-widgets/controls",
          "model_name": "FloatProgressModel",
          "model_module_version": "1.5.0",
          "state": {
            "_dom_classes": [],
            "_model_module": "@jupyter-widgets/controls",
            "_model_module_version": "1.5.0",
            "_model_name": "FloatProgressModel",
            "_view_count": null,
            "_view_module": "@jupyter-widgets/controls",
            "_view_module_version": "1.5.0",
            "_view_name": "ProgressView",
            "bar_style": "success",
            "description": "",
            "description_tooltip": null,
            "layout": "IPY_MODEL_70c79bb109d14232b96dda8e792865d4",
            "max": 200,
            "min": 0,
            "orientation": "horizontal",
            "style": "IPY_MODEL_9f99fd8bdbe441f58b055a9c2061589d",
            "value": 200
          }
        },
        "10e6de049a1e4fd7a11f19707d52e4c7": {
          "model_module": "@jupyter-widgets/controls",
          "model_name": "HTMLModel",
          "model_module_version": "1.5.0",
          "state": {
            "_dom_classes": [],
            "_model_module": "@jupyter-widgets/controls",
            "_model_module_version": "1.5.0",
            "_model_name": "HTMLModel",
            "_view_count": null,
            "_view_module": "@jupyter-widgets/controls",
            "_view_module_version": "1.5.0",
            "_view_name": "HTMLView",
            "description": "",
            "description_tooltip": null,
            "layout": "IPY_MODEL_30ae43d1f0164765879ebb40abf73449",
            "placeholder": "​",
            "style": "IPY_MODEL_a1fcf30a878a412f9c8d897faa5975ce",
            "value": " 200/200 [05:38&lt;00:00,  1.12it/s]"
          }
        },
        "39aab91053164a8d920586d38396ee4a": {
          "model_module": "@jupyter-widgets/base",
          "model_name": "LayoutModel",
          "model_module_version": "1.2.0",
          "state": {
            "_model_module": "@jupyter-widgets/base",
            "_model_module_version": "1.2.0",
            "_model_name": "LayoutModel",
            "_view_count": null,
            "_view_module": "@jupyter-widgets/base",
            "_view_module_version": "1.2.0",
            "_view_name": "LayoutView",
            "align_content": null,
            "align_items": null,
            "align_self": null,
            "border": null,
            "bottom": null,
            "display": null,
            "flex": null,
            "flex_flow": null,
            "grid_area": null,
            "grid_auto_columns": null,
            "grid_auto_flow": null,
            "grid_auto_rows": null,
            "grid_column": null,
            "grid_gap": null,
            "grid_row": null,
            "grid_template_areas": null,
            "grid_template_columns": null,
            "grid_template_rows": null,
            "height": null,
            "justify_content": null,
            "justify_items": null,
            "left": null,
            "margin": null,
            "max_height": null,
            "max_width": null,
            "min_height": null,
            "min_width": null,
            "object_fit": null,
            "object_position": null,
            "order": null,
            "overflow": null,
            "overflow_x": null,
            "overflow_y": null,
            "padding": null,
            "right": null,
            "top": null,
            "visibility": null,
            "width": null
          }
        },
        "8b3295e6a508426891b613f7c2737c46": {
          "model_module": "@jupyter-widgets/base",
          "model_name": "LayoutModel",
          "model_module_version": "1.2.0",
          "state": {
            "_model_module": "@jupyter-widgets/base",
            "_model_module_version": "1.2.0",
            "_model_name": "LayoutModel",
            "_view_count": null,
            "_view_module": "@jupyter-widgets/base",
            "_view_module_version": "1.2.0",
            "_view_name": "LayoutView",
            "align_content": null,
            "align_items": null,
            "align_self": null,
            "border": null,
            "bottom": null,
            "display": null,
            "flex": null,
            "flex_flow": null,
            "grid_area": null,
            "grid_auto_columns": null,
            "grid_auto_flow": null,
            "grid_auto_rows": null,
            "grid_column": null,
            "grid_gap": null,
            "grid_row": null,
            "grid_template_areas": null,
            "grid_template_columns": null,
            "grid_template_rows": null,
            "height": null,
            "justify_content": null,
            "justify_items": null,
            "left": null,
            "margin": null,
            "max_height": null,
            "max_width": null,
            "min_height": null,
            "min_width": null,
            "object_fit": null,
            "object_position": null,
            "order": null,
            "overflow": null,
            "overflow_x": null,
            "overflow_y": null,
            "padding": null,
            "right": null,
            "top": null,
            "visibility": null,
            "width": null
          }
        },
        "b0ac20d9e7744916aa13e9d3f249f02c": {
          "model_module": "@jupyter-widgets/controls",
          "model_name": "DescriptionStyleModel",
          "model_module_version": "1.5.0",
          "state": {
            "_model_module": "@jupyter-widgets/controls",
            "_model_module_version": "1.5.0",
            "_model_name": "DescriptionStyleModel",
            "_view_count": null,
            "_view_module": "@jupyter-widgets/base",
            "_view_module_version": "1.2.0",
            "_view_name": "StyleView",
            "description_width": ""
          }
        },
        "70c79bb109d14232b96dda8e792865d4": {
          "model_module": "@jupyter-widgets/base",
          "model_name": "LayoutModel",
          "model_module_version": "1.2.0",
          "state": {
            "_model_module": "@jupyter-widgets/base",
            "_model_module_version": "1.2.0",
            "_model_name": "LayoutModel",
            "_view_count": null,
            "_view_module": "@jupyter-widgets/base",
            "_view_module_version": "1.2.0",
            "_view_name": "LayoutView",
            "align_content": null,
            "align_items": null,
            "align_self": null,
            "border": null,
            "bottom": null,
            "display": null,
            "flex": null,
            "flex_flow": null,
            "grid_area": null,
            "grid_auto_columns": null,
            "grid_auto_flow": null,
            "grid_auto_rows": null,
            "grid_column": null,
            "grid_gap": null,
            "grid_row": null,
            "grid_template_areas": null,
            "grid_template_columns": null,
            "grid_template_rows": null,
            "height": null,
            "justify_content": null,
            "justify_items": null,
            "left": null,
            "margin": null,
            "max_height": null,
            "max_width": null,
            "min_height": null,
            "min_width": null,
            "object_fit": null,
            "object_position": null,
            "order": null,
            "overflow": null,
            "overflow_x": null,
            "overflow_y": null,
            "padding": null,
            "right": null,
            "top": null,
            "visibility": null,
            "width": null
          }
        },
        "9f99fd8bdbe441f58b055a9c2061589d": {
          "model_module": "@jupyter-widgets/controls",
          "model_name": "ProgressStyleModel",
          "model_module_version": "1.5.0",
          "state": {
            "_model_module": "@jupyter-widgets/controls",
            "_model_module_version": "1.5.0",
            "_model_name": "ProgressStyleModel",
            "_view_count": null,
            "_view_module": "@jupyter-widgets/base",
            "_view_module_version": "1.2.0",
            "_view_name": "StyleView",
            "bar_color": null,
            "description_width": ""
          }
        },
        "30ae43d1f0164765879ebb40abf73449": {
          "model_module": "@jupyter-widgets/base",
          "model_name": "LayoutModel",
          "model_module_version": "1.2.0",
          "state": {
            "_model_module": "@jupyter-widgets/base",
            "_model_module_version": "1.2.0",
            "_model_name": "LayoutModel",
            "_view_count": null,
            "_view_module": "@jupyter-widgets/base",
            "_view_module_version": "1.2.0",
            "_view_name": "LayoutView",
            "align_content": null,
            "align_items": null,
            "align_self": null,
            "border": null,
            "bottom": null,
            "display": null,
            "flex": null,
            "flex_flow": null,
            "grid_area": null,
            "grid_auto_columns": null,
            "grid_auto_flow": null,
            "grid_auto_rows": null,
            "grid_column": null,
            "grid_gap": null,
            "grid_row": null,
            "grid_template_areas": null,
            "grid_template_columns": null,
            "grid_template_rows": null,
            "height": null,
            "justify_content": null,
            "justify_items": null,
            "left": null,
            "margin": null,
            "max_height": null,
            "max_width": null,
            "min_height": null,
            "min_width": null,
            "object_fit": null,
            "object_position": null,
            "order": null,
            "overflow": null,
            "overflow_x": null,
            "overflow_y": null,
            "padding": null,
            "right": null,
            "top": null,
            "visibility": null,
            "width": null
          }
        },
        "a1fcf30a878a412f9c8d897faa5975ce": {
          "model_module": "@jupyter-widgets/controls",
          "model_name": "DescriptionStyleModel",
          "model_module_version": "1.5.0",
          "state": {
            "_model_module": "@jupyter-widgets/controls",
            "_model_module_version": "1.5.0",
            "_model_name": "DescriptionStyleModel",
            "_view_count": null,
            "_view_module": "@jupyter-widgets/base",
            "_view_module_version": "1.2.0",
            "_view_name": "StyleView",
            "description_width": ""
          }
        },
        "e7f1e93b10da4b26b6b19d101ba845c6": {
          "model_module": "@jupyter-widgets/controls",
          "model_name": "HBoxModel",
          "model_module_version": "1.5.0",
          "state": {
            "_dom_classes": [],
            "_model_module": "@jupyter-widgets/controls",
            "_model_module_version": "1.5.0",
            "_model_name": "HBoxModel",
            "_view_count": null,
            "_view_module": "@jupyter-widgets/controls",
            "_view_module_version": "1.5.0",
            "_view_name": "HBoxView",
            "box_style": "",
            "children": [
              "IPY_MODEL_4ef26b63cfb44138967e1048c5fd14a7",
              "IPY_MODEL_63d64ac2955e4ecc9f49d07c5e818bd5",
              "IPY_MODEL_6d87ca5fe84b421b9a1f4ff656fa433e"
            ],
            "layout": "IPY_MODEL_964848b1884a4466adfa773c01130a3b"
          }
        },
        "4ef26b63cfb44138967e1048c5fd14a7": {
          "model_module": "@jupyter-widgets/controls",
          "model_name": "HTMLModel",
          "model_module_version": "1.5.0",
          "state": {
            "_dom_classes": [],
            "_model_module": "@jupyter-widgets/controls",
            "_model_module_version": "1.5.0",
            "_model_name": "HTMLModel",
            "_view_count": null,
            "_view_module": "@jupyter-widgets/controls",
            "_view_module_version": "1.5.0",
            "_view_name": "HTMLView",
            "description": "",
            "description_tooltip": null,
            "layout": "IPY_MODEL_780d0761e45141ebb7d1e914203fe754",
            "placeholder": "​",
            "style": "IPY_MODEL_7ef99abc89e942c8ba2f6d43a8aed7f6",
            "value": "100%"
          }
        },
        "63d64ac2955e4ecc9f49d07c5e818bd5": {
          "model_module": "@jupyter-widgets/controls",
          "model_name": "FloatProgressModel",
          "model_module_version": "1.5.0",
          "state": {
            "_dom_classes": [],
            "_model_module": "@jupyter-widgets/controls",
            "_model_module_version": "1.5.0",
            "_model_name": "FloatProgressModel",
            "_view_count": null,
            "_view_module": "@jupyter-widgets/controls",
            "_view_module_version": "1.5.0",
            "_view_name": "ProgressView",
            "bar_style": "success",
            "description": "",
            "description_tooltip": null,
            "layout": "IPY_MODEL_b336a4c41c4541b6936272aa66434fb5",
            "max": 100,
            "min": 0,
            "orientation": "horizontal",
            "style": "IPY_MODEL_87d3b46594294471a0fb8d054436cd67",
            "value": 100
          }
        },
        "6d87ca5fe84b421b9a1f4ff656fa433e": {
          "model_module": "@jupyter-widgets/controls",
          "model_name": "HTMLModel",
          "model_module_version": "1.5.0",
          "state": {
            "_dom_classes": [],
            "_model_module": "@jupyter-widgets/controls",
            "_model_module_version": "1.5.0",
            "_model_name": "HTMLModel",
            "_view_count": null,
            "_view_module": "@jupyter-widgets/controls",
            "_view_module_version": "1.5.0",
            "_view_name": "HTMLView",
            "description": "",
            "description_tooltip": null,
            "layout": "IPY_MODEL_aeed08bb372349889ce41c60c64cc592",
            "placeholder": "​",
            "style": "IPY_MODEL_08ed03a1cb1c42e59324d004b6447321",
            "value": " 100/100 [02:40&lt;00:00,  1.64s/it]"
          }
        },
        "964848b1884a4466adfa773c01130a3b": {
          "model_module": "@jupyter-widgets/base",
          "model_name": "LayoutModel",
          "model_module_version": "1.2.0",
          "state": {
            "_model_module": "@jupyter-widgets/base",
            "_model_module_version": "1.2.0",
            "_model_name": "LayoutModel",
            "_view_count": null,
            "_view_module": "@jupyter-widgets/base",
            "_view_module_version": "1.2.0",
            "_view_name": "LayoutView",
            "align_content": null,
            "align_items": null,
            "align_self": null,
            "border": null,
            "bottom": null,
            "display": null,
            "flex": null,
            "flex_flow": null,
            "grid_area": null,
            "grid_auto_columns": null,
            "grid_auto_flow": null,
            "grid_auto_rows": null,
            "grid_column": null,
            "grid_gap": null,
            "grid_row": null,
            "grid_template_areas": null,
            "grid_template_columns": null,
            "grid_template_rows": null,
            "height": null,
            "justify_content": null,
            "justify_items": null,
            "left": null,
            "margin": null,
            "max_height": null,
            "max_width": null,
            "min_height": null,
            "min_width": null,
            "object_fit": null,
            "object_position": null,
            "order": null,
            "overflow": null,
            "overflow_x": null,
            "overflow_y": null,
            "padding": null,
            "right": null,
            "top": null,
            "visibility": null,
            "width": null
          }
        },
        "780d0761e45141ebb7d1e914203fe754": {
          "model_module": "@jupyter-widgets/base",
          "model_name": "LayoutModel",
          "model_module_version": "1.2.0",
          "state": {
            "_model_module": "@jupyter-widgets/base",
            "_model_module_version": "1.2.0",
            "_model_name": "LayoutModel",
            "_view_count": null,
            "_view_module": "@jupyter-widgets/base",
            "_view_module_version": "1.2.0",
            "_view_name": "LayoutView",
            "align_content": null,
            "align_items": null,
            "align_self": null,
            "border": null,
            "bottom": null,
            "display": null,
            "flex": null,
            "flex_flow": null,
            "grid_area": null,
            "grid_auto_columns": null,
            "grid_auto_flow": null,
            "grid_auto_rows": null,
            "grid_column": null,
            "grid_gap": null,
            "grid_row": null,
            "grid_template_areas": null,
            "grid_template_columns": null,
            "grid_template_rows": null,
            "height": null,
            "justify_content": null,
            "justify_items": null,
            "left": null,
            "margin": null,
            "max_height": null,
            "max_width": null,
            "min_height": null,
            "min_width": null,
            "object_fit": null,
            "object_position": null,
            "order": null,
            "overflow": null,
            "overflow_x": null,
            "overflow_y": null,
            "padding": null,
            "right": null,
            "top": null,
            "visibility": null,
            "width": null
          }
        },
        "7ef99abc89e942c8ba2f6d43a8aed7f6": {
          "model_module": "@jupyter-widgets/controls",
          "model_name": "DescriptionStyleModel",
          "model_module_version": "1.5.0",
          "state": {
            "_model_module": "@jupyter-widgets/controls",
            "_model_module_version": "1.5.0",
            "_model_name": "DescriptionStyleModel",
            "_view_count": null,
            "_view_module": "@jupyter-widgets/base",
            "_view_module_version": "1.2.0",
            "_view_name": "StyleView",
            "description_width": ""
          }
        },
        "b336a4c41c4541b6936272aa66434fb5": {
          "model_module": "@jupyter-widgets/base",
          "model_name": "LayoutModel",
          "model_module_version": "1.2.0",
          "state": {
            "_model_module": "@jupyter-widgets/base",
            "_model_module_version": "1.2.0",
            "_model_name": "LayoutModel",
            "_view_count": null,
            "_view_module": "@jupyter-widgets/base",
            "_view_module_version": "1.2.0",
            "_view_name": "LayoutView",
            "align_content": null,
            "align_items": null,
            "align_self": null,
            "border": null,
            "bottom": null,
            "display": null,
            "flex": null,
            "flex_flow": null,
            "grid_area": null,
            "grid_auto_columns": null,
            "grid_auto_flow": null,
            "grid_auto_rows": null,
            "grid_column": null,
            "grid_gap": null,
            "grid_row": null,
            "grid_template_areas": null,
            "grid_template_columns": null,
            "grid_template_rows": null,
            "height": null,
            "justify_content": null,
            "justify_items": null,
            "left": null,
            "margin": null,
            "max_height": null,
            "max_width": null,
            "min_height": null,
            "min_width": null,
            "object_fit": null,
            "object_position": null,
            "order": null,
            "overflow": null,
            "overflow_x": null,
            "overflow_y": null,
            "padding": null,
            "right": null,
            "top": null,
            "visibility": null,
            "width": null
          }
        },
        "87d3b46594294471a0fb8d054436cd67": {
          "model_module": "@jupyter-widgets/controls",
          "model_name": "ProgressStyleModel",
          "model_module_version": "1.5.0",
          "state": {
            "_model_module": "@jupyter-widgets/controls",
            "_model_module_version": "1.5.0",
            "_model_name": "ProgressStyleModel",
            "_view_count": null,
            "_view_module": "@jupyter-widgets/base",
            "_view_module_version": "1.2.0",
            "_view_name": "StyleView",
            "bar_color": null,
            "description_width": ""
          }
        },
        "aeed08bb372349889ce41c60c64cc592": {
          "model_module": "@jupyter-widgets/base",
          "model_name": "LayoutModel",
          "model_module_version": "1.2.0",
          "state": {
            "_model_module": "@jupyter-widgets/base",
            "_model_module_version": "1.2.0",
            "_model_name": "LayoutModel",
            "_view_count": null,
            "_view_module": "@jupyter-widgets/base",
            "_view_module_version": "1.2.0",
            "_view_name": "LayoutView",
            "align_content": null,
            "align_items": null,
            "align_self": null,
            "border": null,
            "bottom": null,
            "display": null,
            "flex": null,
            "flex_flow": null,
            "grid_area": null,
            "grid_auto_columns": null,
            "grid_auto_flow": null,
            "grid_auto_rows": null,
            "grid_column": null,
            "grid_gap": null,
            "grid_row": null,
            "grid_template_areas": null,
            "grid_template_columns": null,
            "grid_template_rows": null,
            "height": null,
            "justify_content": null,
            "justify_items": null,
            "left": null,
            "margin": null,
            "max_height": null,
            "max_width": null,
            "min_height": null,
            "min_width": null,
            "object_fit": null,
            "object_position": null,
            "order": null,
            "overflow": null,
            "overflow_x": null,
            "overflow_y": null,
            "padding": null,
            "right": null,
            "top": null,
            "visibility": null,
            "width": null
          }
        },
        "08ed03a1cb1c42e59324d004b6447321": {
          "model_module": "@jupyter-widgets/controls",
          "model_name": "DescriptionStyleModel",
          "model_module_version": "1.5.0",
          "state": {
            "_model_module": "@jupyter-widgets/controls",
            "_model_module_version": "1.5.0",
            "_model_name": "DescriptionStyleModel",
            "_view_count": null,
            "_view_module": "@jupyter-widgets/base",
            "_view_module_version": "1.2.0",
            "_view_name": "StyleView",
            "description_width": ""
          }
        },
        "070b174149744dda86c66d861a892837": {
          "model_module": "@jupyter-widgets/controls",
          "model_name": "HBoxModel",
          "model_module_version": "1.5.0",
          "state": {
            "_dom_classes": [],
            "_model_module": "@jupyter-widgets/controls",
            "_model_module_version": "1.5.0",
            "_model_name": "HBoxModel",
            "_view_count": null,
            "_view_module": "@jupyter-widgets/controls",
            "_view_module_version": "1.5.0",
            "_view_name": "HBoxView",
            "box_style": "",
            "children": [
              "IPY_MODEL_aa98a999d6ab43afa3a7ea8e6ff9291e",
              "IPY_MODEL_80c0a10f43c54c40ba033b5214efcdc9",
              "IPY_MODEL_f104258356384acbbd9100669474bb9a"
            ],
            "layout": "IPY_MODEL_cd61691c9cf14eea9075a30b3e6f66ce"
          }
        },
        "aa98a999d6ab43afa3a7ea8e6ff9291e": {
          "model_module": "@jupyter-widgets/controls",
          "model_name": "HTMLModel",
          "model_module_version": "1.5.0",
          "state": {
            "_dom_classes": [],
            "_model_module": "@jupyter-widgets/controls",
            "_model_module_version": "1.5.0",
            "_model_name": "HTMLModel",
            "_view_count": null,
            "_view_module": "@jupyter-widgets/controls",
            "_view_module_version": "1.5.0",
            "_view_name": "HTMLView",
            "description": "",
            "description_tooltip": null,
            "layout": "IPY_MODEL_096205756a364ce086b24e75fbb77459",
            "placeholder": "​",
            "style": "IPY_MODEL_93c5a5bdb0f24d76988631241e5a78e0",
            "value": "100%"
          }
        },
        "80c0a10f43c54c40ba033b5214efcdc9": {
          "model_module": "@jupyter-widgets/controls",
          "model_name": "FloatProgressModel",
          "model_module_version": "1.5.0",
          "state": {
            "_dom_classes": [],
            "_model_module": "@jupyter-widgets/controls",
            "_model_module_version": "1.5.0",
            "_model_name": "FloatProgressModel",
            "_view_count": null,
            "_view_module": "@jupyter-widgets/controls",
            "_view_module_version": "1.5.0",
            "_view_name": "ProgressView",
            "bar_style": "success",
            "description": "",
            "description_tooltip": null,
            "layout": "IPY_MODEL_d817411bfd6c471ba2237a55cac5d47d",
            "max": 200,
            "min": 0,
            "orientation": "horizontal",
            "style": "IPY_MODEL_ac85b66dd88046f3a7b9c145cf4445af",
            "value": 200
          }
        },
        "f104258356384acbbd9100669474bb9a": {
          "model_module": "@jupyter-widgets/controls",
          "model_name": "HTMLModel",
          "model_module_version": "1.5.0",
          "state": {
            "_dom_classes": [],
            "_model_module": "@jupyter-widgets/controls",
            "_model_module_version": "1.5.0",
            "_model_name": "HTMLModel",
            "_view_count": null,
            "_view_module": "@jupyter-widgets/controls",
            "_view_module_version": "1.5.0",
            "_view_name": "HTMLView",
            "description": "",
            "description_tooltip": null,
            "layout": "IPY_MODEL_7a1621d311544df4826a20c2d02b35b2",
            "placeholder": "​",
            "style": "IPY_MODEL_2803f8c2b15348d1a54d6c8eac29eed3",
            "value": " 200/200 [01:10&lt;00:00,  2.12it/s]"
          }
        },
        "cd61691c9cf14eea9075a30b3e6f66ce": {
          "model_module": "@jupyter-widgets/base",
          "model_name": "LayoutModel",
          "model_module_version": "1.2.0",
          "state": {
            "_model_module": "@jupyter-widgets/base",
            "_model_module_version": "1.2.0",
            "_model_name": "LayoutModel",
            "_view_count": null,
            "_view_module": "@jupyter-widgets/base",
            "_view_module_version": "1.2.0",
            "_view_name": "LayoutView",
            "align_content": null,
            "align_items": null,
            "align_self": null,
            "border": null,
            "bottom": null,
            "display": null,
            "flex": null,
            "flex_flow": null,
            "grid_area": null,
            "grid_auto_columns": null,
            "grid_auto_flow": null,
            "grid_auto_rows": null,
            "grid_column": null,
            "grid_gap": null,
            "grid_row": null,
            "grid_template_areas": null,
            "grid_template_columns": null,
            "grid_template_rows": null,
            "height": null,
            "justify_content": null,
            "justify_items": null,
            "left": null,
            "margin": null,
            "max_height": null,
            "max_width": null,
            "min_height": null,
            "min_width": null,
            "object_fit": null,
            "object_position": null,
            "order": null,
            "overflow": null,
            "overflow_x": null,
            "overflow_y": null,
            "padding": null,
            "right": null,
            "top": null,
            "visibility": null,
            "width": null
          }
        },
        "096205756a364ce086b24e75fbb77459": {
          "model_module": "@jupyter-widgets/base",
          "model_name": "LayoutModel",
          "model_module_version": "1.2.0",
          "state": {
            "_model_module": "@jupyter-widgets/base",
            "_model_module_version": "1.2.0",
            "_model_name": "LayoutModel",
            "_view_count": null,
            "_view_module": "@jupyter-widgets/base",
            "_view_module_version": "1.2.0",
            "_view_name": "LayoutView",
            "align_content": null,
            "align_items": null,
            "align_self": null,
            "border": null,
            "bottom": null,
            "display": null,
            "flex": null,
            "flex_flow": null,
            "grid_area": null,
            "grid_auto_columns": null,
            "grid_auto_flow": null,
            "grid_auto_rows": null,
            "grid_column": null,
            "grid_gap": null,
            "grid_row": null,
            "grid_template_areas": null,
            "grid_template_columns": null,
            "grid_template_rows": null,
            "height": null,
            "justify_content": null,
            "justify_items": null,
            "left": null,
            "margin": null,
            "max_height": null,
            "max_width": null,
            "min_height": null,
            "min_width": null,
            "object_fit": null,
            "object_position": null,
            "order": null,
            "overflow": null,
            "overflow_x": null,
            "overflow_y": null,
            "padding": null,
            "right": null,
            "top": null,
            "visibility": null,
            "width": null
          }
        },
        "93c5a5bdb0f24d76988631241e5a78e0": {
          "model_module": "@jupyter-widgets/controls",
          "model_name": "DescriptionStyleModel",
          "model_module_version": "1.5.0",
          "state": {
            "_model_module": "@jupyter-widgets/controls",
            "_model_module_version": "1.5.0",
            "_model_name": "DescriptionStyleModel",
            "_view_count": null,
            "_view_module": "@jupyter-widgets/base",
            "_view_module_version": "1.2.0",
            "_view_name": "StyleView",
            "description_width": ""
          }
        },
        "d817411bfd6c471ba2237a55cac5d47d": {
          "model_module": "@jupyter-widgets/base",
          "model_name": "LayoutModel",
          "model_module_version": "1.2.0",
          "state": {
            "_model_module": "@jupyter-widgets/base",
            "_model_module_version": "1.2.0",
            "_model_name": "LayoutModel",
            "_view_count": null,
            "_view_module": "@jupyter-widgets/base",
            "_view_module_version": "1.2.0",
            "_view_name": "LayoutView",
            "align_content": null,
            "align_items": null,
            "align_self": null,
            "border": null,
            "bottom": null,
            "display": null,
            "flex": null,
            "flex_flow": null,
            "grid_area": null,
            "grid_auto_columns": null,
            "grid_auto_flow": null,
            "grid_auto_rows": null,
            "grid_column": null,
            "grid_gap": null,
            "grid_row": null,
            "grid_template_areas": null,
            "grid_template_columns": null,
            "grid_template_rows": null,
            "height": null,
            "justify_content": null,
            "justify_items": null,
            "left": null,
            "margin": null,
            "max_height": null,
            "max_width": null,
            "min_height": null,
            "min_width": null,
            "object_fit": null,
            "object_position": null,
            "order": null,
            "overflow": null,
            "overflow_x": null,
            "overflow_y": null,
            "padding": null,
            "right": null,
            "top": null,
            "visibility": null,
            "width": null
          }
        },
        "ac85b66dd88046f3a7b9c145cf4445af": {
          "model_module": "@jupyter-widgets/controls",
          "model_name": "ProgressStyleModel",
          "model_module_version": "1.5.0",
          "state": {
            "_model_module": "@jupyter-widgets/controls",
            "_model_module_version": "1.5.0",
            "_model_name": "ProgressStyleModel",
            "_view_count": null,
            "_view_module": "@jupyter-widgets/base",
            "_view_module_version": "1.2.0",
            "_view_name": "StyleView",
            "bar_color": null,
            "description_width": ""
          }
        },
        "7a1621d311544df4826a20c2d02b35b2": {
          "model_module": "@jupyter-widgets/base",
          "model_name": "LayoutModel",
          "model_module_version": "1.2.0",
          "state": {
            "_model_module": "@jupyter-widgets/base",
            "_model_module_version": "1.2.0",
            "_model_name": "LayoutModel",
            "_view_count": null,
            "_view_module": "@jupyter-widgets/base",
            "_view_module_version": "1.2.0",
            "_view_name": "LayoutView",
            "align_content": null,
            "align_items": null,
            "align_self": null,
            "border": null,
            "bottom": null,
            "display": null,
            "flex": null,
            "flex_flow": null,
            "grid_area": null,
            "grid_auto_columns": null,
            "grid_auto_flow": null,
            "grid_auto_rows": null,
            "grid_column": null,
            "grid_gap": null,
            "grid_row": null,
            "grid_template_areas": null,
            "grid_template_columns": null,
            "grid_template_rows": null,
            "height": null,
            "justify_content": null,
            "justify_items": null,
            "left": null,
            "margin": null,
            "max_height": null,
            "max_width": null,
            "min_height": null,
            "min_width": null,
            "object_fit": null,
            "object_position": null,
            "order": null,
            "overflow": null,
            "overflow_x": null,
            "overflow_y": null,
            "padding": null,
            "right": null,
            "top": null,
            "visibility": null,
            "width": null
          }
        },
        "2803f8c2b15348d1a54d6c8eac29eed3": {
          "model_module": "@jupyter-widgets/controls",
          "model_name": "DescriptionStyleModel",
          "model_module_version": "1.5.0",
          "state": {
            "_model_module": "@jupyter-widgets/controls",
            "_model_module_version": "1.5.0",
            "_model_name": "DescriptionStyleModel",
            "_view_count": null,
            "_view_module": "@jupyter-widgets/base",
            "_view_module_version": "1.2.0",
            "_view_name": "StyleView",
            "description_width": ""
          }
        },
        "52de909e363a475e8de11e0254f0e6c7": {
          "model_module": "@jupyter-widgets/controls",
          "model_name": "HBoxModel",
          "model_module_version": "1.5.0",
          "state": {
            "_dom_classes": [],
            "_model_module": "@jupyter-widgets/controls",
            "_model_module_version": "1.5.0",
            "_model_name": "HBoxModel",
            "_view_count": null,
            "_view_module": "@jupyter-widgets/controls",
            "_view_module_version": "1.5.0",
            "_view_name": "HBoxView",
            "box_style": "",
            "children": [
              "IPY_MODEL_de5fd14fbeba439f929f12d3a5f8d834",
              "IPY_MODEL_59a70ef1c554449c8ae1956b7f73d5f2",
              "IPY_MODEL_4b8c5bf518084b90b38095e6dbbe7b57"
            ],
            "layout": "IPY_MODEL_dc7ea97773a94170a96a56c0c415f4d4"
          }
        },
        "de5fd14fbeba439f929f12d3a5f8d834": {
          "model_module": "@jupyter-widgets/controls",
          "model_name": "HTMLModel",
          "model_module_version": "1.5.0",
          "state": {
            "_dom_classes": [],
            "_model_module": "@jupyter-widgets/controls",
            "_model_module_version": "1.5.0",
            "_model_name": "HTMLModel",
            "_view_count": null,
            "_view_module": "@jupyter-widgets/controls",
            "_view_module_version": "1.5.0",
            "_view_name": "HTMLView",
            "description": "",
            "description_tooltip": null,
            "layout": "IPY_MODEL_ef452f90672b471f941119c418e74754",
            "placeholder": "​",
            "style": "IPY_MODEL_64fd470c744f41409dee05d7e3c6b0e7",
            "value": "100%"
          }
        },
        "59a70ef1c554449c8ae1956b7f73d5f2": {
          "model_module": "@jupyter-widgets/controls",
          "model_name": "FloatProgressModel",
          "model_module_version": "1.5.0",
          "state": {
            "_dom_classes": [],
            "_model_module": "@jupyter-widgets/controls",
            "_model_module_version": "1.5.0",
            "_model_name": "FloatProgressModel",
            "_view_count": null,
            "_view_module": "@jupyter-widgets/controls",
            "_view_module_version": "1.5.0",
            "_view_name": "ProgressView",
            "bar_style": "success",
            "description": "",
            "description_tooltip": null,
            "layout": "IPY_MODEL_cdfc6438f2ac4f83a3a1dfed3cc4439c",
            "max": 100,
            "min": 0,
            "orientation": "horizontal",
            "style": "IPY_MODEL_5781329ba3844daca20e076e07d354f3",
            "value": 100
          }
        },
        "4b8c5bf518084b90b38095e6dbbe7b57": {
          "model_module": "@jupyter-widgets/controls",
          "model_name": "HTMLModel",
          "model_module_version": "1.5.0",
          "state": {
            "_dom_classes": [],
            "_model_module": "@jupyter-widgets/controls",
            "_model_module_version": "1.5.0",
            "_model_name": "HTMLModel",
            "_view_count": null,
            "_view_module": "@jupyter-widgets/controls",
            "_view_module_version": "1.5.0",
            "_view_name": "HTMLView",
            "description": "",
            "description_tooltip": null,
            "layout": "IPY_MODEL_a8e0f4f3e28c4a7994769c56ff0aaa02",
            "placeholder": "​",
            "style": "IPY_MODEL_d5eba784fd634c5e9aefd84855119a63",
            "value": " 100/100 [00:34&lt;00:00,  2.74it/s]"
          }
        },
        "dc7ea97773a94170a96a56c0c415f4d4": {
          "model_module": "@jupyter-widgets/base",
          "model_name": "LayoutModel",
          "model_module_version": "1.2.0",
          "state": {
            "_model_module": "@jupyter-widgets/base",
            "_model_module_version": "1.2.0",
            "_model_name": "LayoutModel",
            "_view_count": null,
            "_view_module": "@jupyter-widgets/base",
            "_view_module_version": "1.2.0",
            "_view_name": "LayoutView",
            "align_content": null,
            "align_items": null,
            "align_self": null,
            "border": null,
            "bottom": null,
            "display": null,
            "flex": null,
            "flex_flow": null,
            "grid_area": null,
            "grid_auto_columns": null,
            "grid_auto_flow": null,
            "grid_auto_rows": null,
            "grid_column": null,
            "grid_gap": null,
            "grid_row": null,
            "grid_template_areas": null,
            "grid_template_columns": null,
            "grid_template_rows": null,
            "height": null,
            "justify_content": null,
            "justify_items": null,
            "left": null,
            "margin": null,
            "max_height": null,
            "max_width": null,
            "min_height": null,
            "min_width": null,
            "object_fit": null,
            "object_position": null,
            "order": null,
            "overflow": null,
            "overflow_x": null,
            "overflow_y": null,
            "padding": null,
            "right": null,
            "top": null,
            "visibility": null,
            "width": null
          }
        },
        "ef452f90672b471f941119c418e74754": {
          "model_module": "@jupyter-widgets/base",
          "model_name": "LayoutModel",
          "model_module_version": "1.2.0",
          "state": {
            "_model_module": "@jupyter-widgets/base",
            "_model_module_version": "1.2.0",
            "_model_name": "LayoutModel",
            "_view_count": null,
            "_view_module": "@jupyter-widgets/base",
            "_view_module_version": "1.2.0",
            "_view_name": "LayoutView",
            "align_content": null,
            "align_items": null,
            "align_self": null,
            "border": null,
            "bottom": null,
            "display": null,
            "flex": null,
            "flex_flow": null,
            "grid_area": null,
            "grid_auto_columns": null,
            "grid_auto_flow": null,
            "grid_auto_rows": null,
            "grid_column": null,
            "grid_gap": null,
            "grid_row": null,
            "grid_template_areas": null,
            "grid_template_columns": null,
            "grid_template_rows": null,
            "height": null,
            "justify_content": null,
            "justify_items": null,
            "left": null,
            "margin": null,
            "max_height": null,
            "max_width": null,
            "min_height": null,
            "min_width": null,
            "object_fit": null,
            "object_position": null,
            "order": null,
            "overflow": null,
            "overflow_x": null,
            "overflow_y": null,
            "padding": null,
            "right": null,
            "top": null,
            "visibility": null,
            "width": null
          }
        },
        "64fd470c744f41409dee05d7e3c6b0e7": {
          "model_module": "@jupyter-widgets/controls",
          "model_name": "DescriptionStyleModel",
          "model_module_version": "1.5.0",
          "state": {
            "_model_module": "@jupyter-widgets/controls",
            "_model_module_version": "1.5.0",
            "_model_name": "DescriptionStyleModel",
            "_view_count": null,
            "_view_module": "@jupyter-widgets/base",
            "_view_module_version": "1.2.0",
            "_view_name": "StyleView",
            "description_width": ""
          }
        },
        "cdfc6438f2ac4f83a3a1dfed3cc4439c": {
          "model_module": "@jupyter-widgets/base",
          "model_name": "LayoutModel",
          "model_module_version": "1.2.0",
          "state": {
            "_model_module": "@jupyter-widgets/base",
            "_model_module_version": "1.2.0",
            "_model_name": "LayoutModel",
            "_view_count": null,
            "_view_module": "@jupyter-widgets/base",
            "_view_module_version": "1.2.0",
            "_view_name": "LayoutView",
            "align_content": null,
            "align_items": null,
            "align_self": null,
            "border": null,
            "bottom": null,
            "display": null,
            "flex": null,
            "flex_flow": null,
            "grid_area": null,
            "grid_auto_columns": null,
            "grid_auto_flow": null,
            "grid_auto_rows": null,
            "grid_column": null,
            "grid_gap": null,
            "grid_row": null,
            "grid_template_areas": null,
            "grid_template_columns": null,
            "grid_template_rows": null,
            "height": null,
            "justify_content": null,
            "justify_items": null,
            "left": null,
            "margin": null,
            "max_height": null,
            "max_width": null,
            "min_height": null,
            "min_width": null,
            "object_fit": null,
            "object_position": null,
            "order": null,
            "overflow": null,
            "overflow_x": null,
            "overflow_y": null,
            "padding": null,
            "right": null,
            "top": null,
            "visibility": null,
            "width": null
          }
        },
        "5781329ba3844daca20e076e07d354f3": {
          "model_module": "@jupyter-widgets/controls",
          "model_name": "ProgressStyleModel",
          "model_module_version": "1.5.0",
          "state": {
            "_model_module": "@jupyter-widgets/controls",
            "_model_module_version": "1.5.0",
            "_model_name": "ProgressStyleModel",
            "_view_count": null,
            "_view_module": "@jupyter-widgets/base",
            "_view_module_version": "1.2.0",
            "_view_name": "StyleView",
            "bar_color": null,
            "description_width": ""
          }
        },
        "a8e0f4f3e28c4a7994769c56ff0aaa02": {
          "model_module": "@jupyter-widgets/base",
          "model_name": "LayoutModel",
          "model_module_version": "1.2.0",
          "state": {
            "_model_module": "@jupyter-widgets/base",
            "_model_module_version": "1.2.0",
            "_model_name": "LayoutModel",
            "_view_count": null,
            "_view_module": "@jupyter-widgets/base",
            "_view_module_version": "1.2.0",
            "_view_name": "LayoutView",
            "align_content": null,
            "align_items": null,
            "align_self": null,
            "border": null,
            "bottom": null,
            "display": null,
            "flex": null,
            "flex_flow": null,
            "grid_area": null,
            "grid_auto_columns": null,
            "grid_auto_flow": null,
            "grid_auto_rows": null,
            "grid_column": null,
            "grid_gap": null,
            "grid_row": null,
            "grid_template_areas": null,
            "grid_template_columns": null,
            "grid_template_rows": null,
            "height": null,
            "justify_content": null,
            "justify_items": null,
            "left": null,
            "margin": null,
            "max_height": null,
            "max_width": null,
            "min_height": null,
            "min_width": null,
            "object_fit": null,
            "object_position": null,
            "order": null,
            "overflow": null,
            "overflow_x": null,
            "overflow_y": null,
            "padding": null,
            "right": null,
            "top": null,
            "visibility": null,
            "width": null
          }
        },
        "d5eba784fd634c5e9aefd84855119a63": {
          "model_module": "@jupyter-widgets/controls",
          "model_name": "DescriptionStyleModel",
          "model_module_version": "1.5.0",
          "state": {
            "_model_module": "@jupyter-widgets/controls",
            "_model_module_version": "1.5.0",
            "_model_name": "DescriptionStyleModel",
            "_view_count": null,
            "_view_module": "@jupyter-widgets/base",
            "_view_module_version": "1.2.0",
            "_view_name": "StyleView",
            "description_width": ""
          }
        }
      }
    }
  },
  "cells": [
    {
      "cell_type": "markdown",
      "source": [
        "##### Copyright 2023 Google LLC. SPDX-License-Identifier: Apache-2.0"
      ],
      "metadata": {
        "id": "OmYi8qM4WebZ"
      }
    },
    {
      "cell_type": "markdown",
      "source": [
        "Copyright 2023 Google LLC. SPDX-License-Identifier: Apache-2.0\n",
        "\n",
        "Licensed under the Apache License, Version 2.0 (the \"License\"); you may not use this file except in compliance with the License. You may obtain a copy of the License at\n",
        "\n",
        "https://www.apache.org/licenses/LICENSE-2.0\n",
        "\n",
        "Unless required by applicable law or agreed to in writing, software distributed under the License is distributed on an \"AS IS\" BASIS, WITHOUT WARRANTIES OR CONDITIONS OF ANY KIND, either express or implied. See the License for the specific language governing permissions and limitations under the License."
      ],
      "metadata": {
        "id": "kHO2w5zSWbsf"
      }
    },
    {
      "cell_type": "markdown",
      "source": [
        "# **Robots That Ask For Help: Uncertainty Alignment for Large Language Model Planners** Mobile Manipulation\n",
        "\n",
        "[KnowNo](https://robot-help.github.io) is a framework for measuring and aligning the uncertainty of LLM-based planners, such that they know when they don't know, and ask for help when needed. KnowNo builds on the theory of conformal prediction to provide statistical guarantees on task completion while minimizing human help.\n",
        "\n",
        "This colab runs an example of KnowNo for mobile manipulation (example scenario shown below)\n",
        "*   Environment: an orange, an apple, and a Sprite\n",
        "*   User instruction: Put the fruit in the top drawer.\n",
        "*   Ambiguity: fruit is under-specified (apple or orange). User meant orange.\n",
        "\n",
        "<img src=\"https://robot-help.github.io/img/sample-mobile-manipulation.png\" height=\"200px\">\n",
        "\n",
        "Note:\n",
        "* Instead of setting up the scenario distribution here, we will load a dataset sampled from a pre-defined scenario distribution involving the mobile robot, the same used in the experiments.\n",
        "* We use [GPT-3.5](https://arxiv.org/abs/2005.14165) (text-davinci-003) as the language model here.\n",
        "* We focus on the planning part; we do not consider object detection or low-level action execution here.\n",
        "* The calibration invoves running LLM inference for a fair number of calibration data (200). You can also skip the calibration and directly test in new scenarios at the last block based on provided calibration result."
      ],
      "metadata": {
        "id": "cHsncwrPOxZt"
      }
    },
    {
      "cell_type": "code",
      "source": [
        "openai_api_key = \"your-api-key\""
      ],
      "metadata": {
        "id": "irR8HHXQWyoD"
      },
      "execution_count": null,
      "outputs": []
    },
    {
      "cell_type": "markdown",
      "source": [
        "## **Setup**"
      ],
      "metadata": {
        "id": "Q39CIF2h3RYB"
      }
    },
    {
      "cell_type": "code",
      "source": [
        "#@markdown A few imports and downloading data\n",
        "!pip install -U --no-cache-dir gdown --pre\n",
        "!pip install openai tqdm\n",
        "\n",
        "import openai\n",
        "import signal\n",
        "import tqdm.notebook as tqdm\n",
        "import random\n",
        "import numpy as np\n",
        "import matplotlib.pyplot as plt\n",
        "\n",
        "# dataset files - small sizes\n",
        "!gdown https://drive.google.com/uc?id=1XWIeGfF08V1eR104VLDilmwhIGVk2uzk\n",
        "!gdown https://drive.google.com/uc?id=1iEIZaVbbajMXsNdrjVkOgK5rhPtfl5WI\n",
        "\n",
        "# Set OpenAI API key.\n",
        "openai.api_key = openai_api_key"
      ],
      "metadata": {
        "cellView": "form",
        "id": "QSmQIVIIarLz"
      },
      "execution_count": null,
      "outputs": []
    },
    {
      "cell_type": "code",
      "source": [
        "#@markdown LLM API call\n",
        "class timeout:\n",
        "    def __init__(self, seconds=1, error_message='Timeout'):\n",
        "        self.seconds = seconds\n",
        "        self.error_message = error_message\n",
        "\n",
        "    def handle_timeout(self, signum, frame):\n",
        "        raise TimeoutError(self.error_message)\n",
        "\n",
        "    def __enter__(self):\n",
        "        signal.signal(signal.SIGALRM, self.handle_timeout)\n",
        "        signal.alarm(self.seconds)\n",
        "\n",
        "    def __exit__(self, type, value, traceback):\n",
        "        signal.alarm(0)\n",
        "\n",
        "# OpenAI only supports up to five tokens (logprobs argument) for getting the likelihood.\n",
        "# Thus we use the logit_bias argument to force LLM only consdering the five option\n",
        "# tokens: A, B, C, D, E\n",
        "def lm(prompt,\n",
        "       max_tokens=256,\n",
        "       temperature=0,\n",
        "       logprobs=None,\n",
        "       stop_seq=None,\n",
        "       logit_bias={\n",
        "          317: 100.0,   #  A (with space at front)\n",
        "          347: 100.0,   #  B (with space at front)\n",
        "          327: 100.0,   #  C (with space at front)\n",
        "          360: 100.0,   #  D (with space at front)\n",
        "          412: 100.0,   #  E (with space at front)\n",
        "      },\n",
        "       timeout_seconds=20):\n",
        "  max_attempts = 5\n",
        "  for _ in range(max_attempts):\n",
        "      try:\n",
        "          with timeout(seconds=timeout_seconds):\n",
        "              response = openai.Completion.create(\n",
        "                  model='text-davinci-003',\n",
        "                  prompt=prompt,\n",
        "                  max_tokens=max_tokens,\n",
        "                  temperature=temperature,\n",
        "                  logprobs=logprobs,\n",
        "                  logit_bias=logit_bias,\n",
        "                  stop=list(stop_seq) if stop_seq is not None else None,\n",
        "              )\n",
        "          break\n",
        "      except:\n",
        "          print('Timeout, retrying...')\n",
        "          pass\n",
        "  return response, response[\"choices\"][0][\"text\"].strip()"
      ],
      "metadata": {
        "id": "DpR4dgevMMsa",
        "cellView": "form"
      },
      "execution_count": null,
      "outputs": []
    },
    {
      "cell_type": "markdown",
      "source": [
        "## **Load Pre-generated Dataset**\n",
        "KnowNo assumes there exists a distribution of scenarios that the robot may encounter. A scenario refers to an environment with objects, a (potentially ambiguous) language instruction, and a goal. Here we provide a dataset of 300 scenarios sampled from a pre-defined scenario distribution, including the corresponding prompts for the LLM.\n",
        "\n",
        "We will also split the dataset into a calibration set of size 200 and a test set of size 100."
      ],
      "metadata": {
        "id": "2RjOSbFKzGzq"
      }
    },
    {
      "cell_type": "code",
      "source": [
        "#@title\n",
        "# Load the 300 scenarios\n",
        "scenario_info_path = '/content/metabot-tasks-info.txt'\n",
        "with open(scenario_info_path, 'r') as f:\n",
        "  scenario_info_text = f.read()\n",
        "scenario_info_text = scenario_info_text.split('\\n\\n')\n",
        "print('Loaded scenario info from ' + scenario_info_path)"
      ],
      "metadata": {
        "id": "KIj6ncIPAM1a",
        "outputId": "3d1793aa-4f11-4f5b-9732-65e5bdc0b468",
        "colab": {
          "base_uri": "https://localhost:8080/"
        },
        "cellView": "form"
      },
      "execution_count": null,
      "outputs": [
        {
          "output_type": "stream",
          "name": "stdout",
          "text": [
            "Loaded scenario info from /content/metabot-tasks-info.txt\n"
          ]
        }
      ]
    },
    {
      "cell_type": "code",
      "source": [
        "#@title\n",
        "# Print a scenario\n",
        "print('Sample scenario:\\n')\n",
        "print(scenario_info_text[0].split('\\n',1)[1])  # remove the printed index"
      ],
      "metadata": {
        "collapsed": true,
        "id": "MzUjuVWD2OE4",
        "outputId": "a242a647-1ca0-41d3-ee8c-a2ae748d8158",
        "colab": {
          "base_uri": "https://localhost:8080/"
        },
        "cellView": "form"
      },
      "execution_count": null,
      "outputs": [
        {
          "output_type": "stream",
          "name": "stdout",
          "text": [
            "Sample scenario:\n",
            "\n",
            "Scene: a Coke, a bottled unsweetened tea, and a Sprite\n",
            "Task: Bring me a flavored drink.\n",
            "User intent (object): Coke, bottled unsweetened tea, Sprite\n",
            "User intent (location): pick-up\n",
            "Scene objects: Coke, bottled unsweetened tea, Sprite\n",
            "Task category: creative_multilabel_task\n"
          ]
        }
      ]
    },
    {
      "cell_type": "code",
      "source": [
        "#@title\n",
        "# Load the corresponding prompts for multiple choice generation\n",
        "mc_gen_prompt_path = '/content/metabot-mc-gen-prompt.txt'\n",
        "with open(mc_gen_prompt_path, 'r') as f:\n",
        "  mc_gen_prompt_all = f.read().split('--0000--')\n",
        "print('Loaded multiple choice generation prompts from ' + mc_gen_prompt_path)"
      ],
      "metadata": {
        "id": "QcgT1Hmh5J4B",
        "outputId": "b912ecad-d90b-46cf-f9f5-2832ef9c51e8",
        "colab": {
          "base_uri": "https://localhost:8080/"
        },
        "cellView": "form",
        "collapsed": true
      },
      "execution_count": null,
      "outputs": [
        {
          "output_type": "stream",
          "name": "stdout",
          "text": [
            "Loaded multiple choice generation prompts from /content/metabot-mc-gen-prompt.txt\n"
          ]
        }
      ]
    },
    {
      "cell_type": "code",
      "source": [
        "#@title\n",
        "# Print a prompt for MC generation\n",
        "print(mc_gen_prompt_all[0])"
      ],
      "metadata": {
        "collapsed": true,
        "id": "ChAQLxXi7IIm",
        "outputId": "457ab1e9-8a5a-4408-b4da-606e9bcb29c5",
        "colab": {
          "base_uri": "https://localhost:8080/"
        },
        "cellView": "form"
      },
      "execution_count": null,
      "outputs": [
        {
          "output_type": "stream",
          "name": "stdout",
          "text": [
            "We: You are a robot operating in an office kitchen. You are in front of a counter with two closed drawers, a top one and a bottom one. There is also a landfill bin, a recycling bin, and a compost bin.\n",
            "\n",
            "We: On the counter, there is an orange soda, a Pepsi, and an apple.\n",
            "We: Put that drink in the top drawer.\n",
            "You:\n",
            "A) open the top drawer and put the orange soda in it\n",
            "B) open the bottom drawer and put the Pepsi in it\n",
            "C) open the bottom drawer and put the orange soda in it\n",
            "D) open the top drawer and put the Pepsi in it\n",
            "\n",
            "We: On the counter, there is an energy bar, a banana, and a microwave.\n",
            "We: Put the snack next to the microwave.\n",
            "You:\n",
            "A) pick up the energy bar and put it next to the microwave\n",
            "B) pick up the banana and put it next to the energy bar\n",
            "C) pick up the banana and put it next to the microwave\n",
            "D) pick up the energy bar and put it next to the banana\n",
            "\n",
            "We: On the counter, there is a Coke, a Sprite, and a sponge.\n",
            "We: Can you dispose of the can? It should have expired.\n",
            "You:\n",
            "A) pick up the sponge and put it in the landfill bin\n",
            "B) pick up the Coke and put it in the recycling bin\n",
            "C) pick up the Sprite and put it in the recycling bin\n",
            "D) pick up the Coke and put it in the landfill bin\n",
            "\n",
            "We: On the counter, there is a bottled water, a bag of jalapeno chips, and a bag of rice chips.\n",
            "We: I would like a bag of chips.\n",
            "You:\n",
            "A) pick up the bottled water\n",
            "B) pick up the jalapeno chips\n",
            "C) pick up the kettle chips\n",
            "D) pick up the rice chips\n",
            "\n",
            "We: On the counter, there is a Coke, a bottled unsweetened tea, and a Sprite. \n",
            "We: Bring me a flavored drink.\n",
            "You:\n"
          ]
        }
      ]
    },
    {
      "cell_type": "code",
      "source": [
        "#@title\n",
        "# Split data into calibration set and test set\n",
        "calibration_set = []\n",
        "num_calibration_data = 200\n",
        "num_test_data = 100\n",
        "for i in range(num_calibration_data):\n",
        "  calibration_set.append({\n",
        "      'info': scenario_info_text[i],\n",
        "      'mc_gen_prompt': mc_gen_prompt_all[i],\n",
        "  })\n",
        "test_set = []\n",
        "for i in range(num_calibration_data, 300):\n",
        "  test_set.append({\n",
        "      'info': scenario_info_text[i],\n",
        "      'mc_gen_prompt': mc_gen_prompt_all[i],\n",
        "  })"
      ],
      "metadata": {
        "id": "cUaEe4j97RDz",
        "cellView": "form"
      },
      "execution_count": null,
      "outputs": []
    },
    {
      "cell_type": "markdown",
      "source": [
        "\n",
        "## **Multiple Choice Question Answering**\n",
        "For each scenario, KnowNo first applies few-shot prompting to generate plausible options to take, and then queries the likelihood of predicting the choice token (A, B, C, D, E). These likelihood values reveal the LLM uncertainty."
      ],
      "metadata": {
        "id": "2ln3p3jE0taA"
      }
    },
    {
      "cell_type": "code",
      "source": [
        "#@markdown Print an example of task and prompt for MC generation\n",
        "print('Sample task:\\n')\n",
        "print(calibration_set[0]['info'].split('\\n',1)[1])  # remove the printed index\n",
        "print('\\n-------------\\nPrompt for MC generation:\\n')\n",
        "print(calibration_set[0]['mc_gen_prompt'])"
      ],
      "metadata": {
        "id": "qczjVeUrg0NI",
        "collapsed": true,
        "colab": {
          "base_uri": "https://localhost:8080/"
        },
        "cellView": "form",
        "outputId": "200c2dbb-3a85-4d34-b04a-fa57661da802"
      },
      "execution_count": null,
      "outputs": [
        {
          "output_type": "stream",
          "name": "stdout",
          "text": [
            "Sample task:\n",
            "\n",
            "Scene: a Coke, a bottled unsweetened tea, and a Sprite\n",
            "Task: Bring me a flavored drink.\n",
            "User intent (object): Coke, bottled unsweetened tea, Sprite\n",
            "User intent (location): pick-up\n",
            "Scene objects: Coke, bottled unsweetened tea, Sprite\n",
            "Task category: creative_multilabel_task\n",
            "\n",
            "-------------\n",
            "Prompt for MC generation:\n",
            "\n",
            "We: You are a robot operating in an office kitchen. You are in front of a counter with two closed drawers, a top one and a bottom one. There is also a landfill bin, a recycling bin, and a compost bin.\n",
            "\n",
            "We: On the counter, there is an orange soda, a Pepsi, and an apple.\n",
            "We: Put that drink in the top drawer.\n",
            "You:\n",
            "A) open the top drawer and put the orange soda in it\n",
            "B) open the bottom drawer and put the Pepsi in it\n",
            "C) open the bottom drawer and put the orange soda in it\n",
            "D) open the top drawer and put the Pepsi in it\n",
            "\n",
            "We: On the counter, there is an energy bar, a banana, and a microwave.\n",
            "We: Put the snack next to the microwave.\n",
            "You:\n",
            "A) pick up the energy bar and put it next to the microwave\n",
            "B) pick up the banana and put it next to the energy bar\n",
            "C) pick up the banana and put it next to the microwave\n",
            "D) pick up the energy bar and put it next to the banana\n",
            "\n",
            "We: On the counter, there is a Coke, a Sprite, and a sponge.\n",
            "We: Can you dispose of the can? It should have expired.\n",
            "You:\n",
            "A) pick up the sponge and put it in the landfill bin\n",
            "B) pick up the Coke and put it in the recycling bin\n",
            "C) pick up the Sprite and put it in the recycling bin\n",
            "D) pick up the Coke and put it in the landfill bin\n",
            "\n",
            "We: On the counter, there is a bottled water, a bag of jalapeno chips, and a bag of rice chips.\n",
            "We: I would like a bag of chips.\n",
            "You:\n",
            "A) pick up the bottled water\n",
            "B) pick up the jalapeno chips\n",
            "C) pick up the kettle chips\n",
            "D) pick up the rice chips\n",
            "\n",
            "We: On the counter, there is a Coke, a bottled unsweetened tea, and a Sprite. \n",
            "We: Bring me a flavored drink.\n",
            "You:\n"
          ]
        }
      ]
    },
    {
      "cell_type": "code",
      "source": [
        "#@markdown Run MC generation (this may take a few minutes depending on API traffic)\n",
        "import tqdm.notebook as tqdm\n",
        "\n",
        "print('Running calibration set...printing first five results...')\n",
        "for i in tqdm.trange(num_calibration_data):\n",
        "  calibration_data = calibration_set[i]\n",
        "  prompt = calibration_data['mc_gen_prompt']\n",
        "  _, text = lm(prompt, logit_bias={})\n",
        "  text = text.strip()\n",
        "  # print a few results\n",
        "  if i < 5:\n",
        "    print(text)\n",
        "    print('----')\n",
        "  calibration_data['mc_gen_raw'] = text\n",
        "  calibration_set[i] = calibration_data\n",
        "\n",
        "print('Running test set...printing first five results...')\n",
        "for i in tqdm.trange(num_test_data):\n",
        "  test_data = test_set[i]\n",
        "  prompt = test_data['mc_gen_prompt']\n",
        "  _, text = lm(prompt, logit_bias={})\n",
        "  text = text.strip()\n",
        "  test_data['mc_gen_raw'] = text\n",
        "  test_set[i] = test_data"
      ],
      "metadata": {
        "id": "iuddtTvdEcZA",
        "cellView": "form",
        "colab": {
          "base_uri": "https://localhost:8080/",
          "height": 550,
          "referenced_widgets": [
            "c32b943cf86d4922943a5b6f5c500620",
            "9db2e45e251e49869493b530eefa40b1",
            "8aa3f8cc63c7436daf32ddd86d01b57d",
            "10e6de049a1e4fd7a11f19707d52e4c7",
            "39aab91053164a8d920586d38396ee4a",
            "8b3295e6a508426891b613f7c2737c46",
            "b0ac20d9e7744916aa13e9d3f249f02c",
            "70c79bb109d14232b96dda8e792865d4",
            "9f99fd8bdbe441f58b055a9c2061589d",
            "30ae43d1f0164765879ebb40abf73449",
            "a1fcf30a878a412f9c8d897faa5975ce",
            "e7f1e93b10da4b26b6b19d101ba845c6",
            "4ef26b63cfb44138967e1048c5fd14a7",
            "63d64ac2955e4ecc9f49d07c5e818bd5",
            "6d87ca5fe84b421b9a1f4ff656fa433e",
            "964848b1884a4466adfa773c01130a3b",
            "780d0761e45141ebb7d1e914203fe754",
            "7ef99abc89e942c8ba2f6d43a8aed7f6",
            "b336a4c41c4541b6936272aa66434fb5",
            "87d3b46594294471a0fb8d054436cd67",
            "aeed08bb372349889ce41c60c64cc592",
            "08ed03a1cb1c42e59324d004b6447321"
          ]
        },
        "outputId": "8fdcde0d-9162-4bc1-b559-f7368982ff63"
      },
      "execution_count": null,
      "outputs": [
        {
          "output_type": "stream",
          "name": "stdout",
          "text": [
            "Running calibration set...printing first five results...\n"
          ]
        },
        {
          "output_type": "display_data",
          "data": {
            "text/plain": [
              "  0%|          | 0/200 [00:00<?, ?it/s]"
            ],
            "application/vnd.jupyter.widget-view+json": {
              "version_major": 2,
              "version_minor": 0,
              "model_id": "c32b943cf86d4922943a5b6f5c500620"
            }
          },
          "metadata": {}
        },
        {
          "output_type": "stream",
          "name": "stdout",
          "text": [
            "A) pick up the Coke\n",
            "B) pick up the bottled unsweetened tea\n",
            "C) pick up the Sprite\n",
            "D) pick up the bottled sweetened tea\n",
            "----\n",
            "A) pick up the Pepsi\n",
            "B) pick up the Coke\n",
            "C) pick up the RedBull\n",
            "D) pick up the bottled water\n",
            "----\n",
            "A) pick up the orange soda and put it in the landfill bin\n",
            "B) pick up the orange and put it in the landfill bin\n",
            "C) pick up the apple and put it in the landfill bin\n",
            "D) pick up the orange soda and put it in the recycling bin\n",
            "----\n",
            "A) open the top drawer and put the Coke in it\n",
            "B) open the bottom drawer and put the Coke in it\n",
            "C) open the top drawer and put the energy bar in it\n",
            "D) open the bottom drawer and put the energy bar in it\n",
            "----\n",
            "A) pick up the RedBull and put it in the landfill bin\n",
            "B) pick up the bottled unsweetened tea and put it in the landfill bin\n",
            "C) pick up the bottled water and put it in the recycling bin\n",
            "D) pick up the RedBull and put it in the recycling bin\n",
            "----\n",
            "Running test set...printing first five results...\n"
          ]
        },
        {
          "output_type": "display_data",
          "data": {
            "text/plain": [
              "  0%|          | 0/100 [00:00<?, ?it/s]"
            ],
            "application/vnd.jupyter.widget-view+json": {
              "version_major": 2,
              "version_minor": 0,
              "model_id": "e7f1e93b10da4b26b6b19d101ba845c6"
            }
          },
          "metadata": {}
        }
      ]
    },
    {
      "cell_type": "code",
      "source": [
        "#@markdown Post-process the generated MC and get prompt for querying likelihood\n",
        "\n",
        "mc_score_background_prompt = \"You are a robot operating in an office kitchen. \"\\\n",
        "\"You are in front of a counter with two closed drawers, a top one and a middle \"\\\n",
        "\"one. There is also a landfill bin, a recycling bin, and a compost bin.\"\n",
        "\n",
        "def process_mc_raw(mc_raw, add_mc='an option not listed here'):\n",
        "  mc_all = mc_raw.split('\\n')\n",
        "\n",
        "  mc_processed_all = []\n",
        "  for mc in mc_all:\n",
        "      mc = mc.strip()\n",
        "\n",
        "      # skip nonsense\n",
        "      if len(mc) < 5 or mc[0] not in [\n",
        "          'a', 'b', 'c', 'd', 'A', 'B', 'C', 'D', '1', '2', '3', '4'\n",
        "      ]:\n",
        "          continue\n",
        "      mc = mc[2:]  # remove a), b), ...\n",
        "      mc = mc.strip().lower().split('.')[0]\n",
        "      mc_processed_all.append(mc)\n",
        "  if len(mc_processed_all) < 4:\n",
        "      raise 'Cannot extract four options from the raw output.'\n",
        "\n",
        "  # Check if any repeated option - use do nothing as substitue\n",
        "  mc_processed_all = list(set(mc_processed_all))\n",
        "  if len(mc_processed_all) < 4:\n",
        "      num_need = 4 - len(mc_processed_all)\n",
        "      for _ in range(num_need):\n",
        "          mc_processed_all.append('do nothing')\n",
        "  prefix_all = ['A) ', 'B) ', 'C) ', 'D) ']\n",
        "  if add_mc is not None:\n",
        "      mc_processed_all.append(add_mc)\n",
        "      prefix_all.append('E) ')\n",
        "  random.shuffle(mc_processed_all)\n",
        "\n",
        "  # get full string\n",
        "  mc_prompt = ''\n",
        "  for mc_ind, (prefix, mc) in enumerate(zip(prefix_all, mc_processed_all)):\n",
        "      mc_prompt += prefix + mc\n",
        "      if mc_ind < len(mc_processed_all) - 1:\n",
        "          mc_prompt += '\\n'\n",
        "  add_mc_prefix = prefix_all[mc_processed_all.index(add_mc)][0]\n",
        "  return mc_prompt, mc_processed_all, add_mc_prefix\n",
        "\n",
        "# process\n",
        "for dataset in [calibration_set, test_set]:\n",
        "  for i in range(len(dataset)):\n",
        "    mc_gen_raw = dataset[i]['mc_gen_raw'].strip()\n",
        "    mc_gen_full, mc_gen_all, add_mc_prefix = process_mc_raw(mc_gen_raw)\n",
        "\n",
        "    # get the part of the current scenario from the previous prompt\n",
        "    cur_scenario_prompt = dataset[i]['mc_gen_prompt'].split('\\n\\n')[-1]\n",
        "\n",
        "    # get new prompt\n",
        "    mc_score_prompt = mc_score_background_prompt + '\\n\\n' + cur_scenario_prompt + '\\n' + mc_gen_full\n",
        "    mc_score_prompt += \"\\nWe: Which option is correct? Answer with a single letter.\"\n",
        "    mc_score_prompt += \"\\nYou:\"\n",
        "    dataset[i]['mc_score_prompt'] = mc_score_prompt\n",
        "\n",
        "    # save other data\n",
        "    dataset[i]['mc_gen_full'] = mc_gen_full\n",
        "    dataset[i]['mc_gen_all'] = mc_gen_all\n",
        "    dataset[i]['add_mc_prefix'] = add_mc_prefix"
      ],
      "metadata": {
        "id": "COcmIMfUUoIQ",
        "cellView": "form"
      },
      "execution_count": null,
      "outputs": []
    },
    {
      "cell_type": "code",
      "source": [
        "#@markdown Print an example of prompt for querying likelihood\n",
        "print(calibration_set[0]['mc_score_prompt'])"
      ],
      "metadata": {
        "id": "GGwGheSvRQEW",
        "outputId": "e944fa6f-550d-4541-d125-f5c4a81f3f90",
        "colab": {
          "base_uri": "https://localhost:8080/"
        },
        "cellView": "form"
      },
      "execution_count": null,
      "outputs": [
        {
          "output_type": "stream",
          "name": "stdout",
          "text": [
            "You are a robot operating in an office kitchen. You are in front of a counter with two closed drawers, a top one and a middle one. There is also a landfill bin, a recycling bin, and a compost bin.\n",
            "\n",
            "We: On the counter, there is a Coke, a bottled unsweetened tea, and a Sprite. \n",
            "We: Bring me a flavored drink.\n",
            "You:\n",
            "A) pick up the coke\n",
            "B) an option not listed here\n",
            "C) pick up the bottled sweetened tea\n",
            "D) pick up the bottled unsweetened tea\n",
            "E) pick up the sprite\n",
            "We: Which option is correct? Answer with a single letter.\n",
            "You:\n"
          ]
        }
      ]
    },
    {
      "cell_type": "code",
      "source": [
        "#@markdown Query the likelihood of choice tokens (this may take a few minutes depending on API traffic)\n",
        "for i, dataset in enumerate([calibration_set, test_set]):\n",
        "  if i == 0:\n",
        "    print('Running calibration set...printing first five results...')\n",
        "  else:\n",
        "    print('Running test set...printing first five results...')\n",
        "  for i in tqdm.trange(len(dataset)):\n",
        "    prompt = dataset[i]['mc_score_prompt']\n",
        "\n",
        "    # call LLM API\n",
        "    mc_score_response, _ = lm(prompt, max_tokens=1, logprobs=5)\n",
        "    top_logprobs_full = mc_score_response[\"choices\"][0][\"logprobs\"][\"top_logprobs\"][0]\n",
        "    top_tokens = [token.strip() for token in top_logprobs_full.keys()]\n",
        "    top_logprobs = [value for value in top_logprobs_full.values()]\n",
        "    if i < 5:\n",
        "      print(top_tokens, top_logprobs)\n",
        "    dataset[i]['top_logprobs_full'] = top_logprobs_full\n",
        "    dataset[i]['top_tokens'] = top_tokens\n",
        "    dataset[i]['top_logprobs'] = top_logprobs"
      ],
      "metadata": {
        "colab": {
          "height": 289,
          "referenced_widgets": [
            "070b174149744dda86c66d861a892837",
            "aa98a999d6ab43afa3a7ea8e6ff9291e",
            "80c0a10f43c54c40ba033b5214efcdc9",
            "f104258356384acbbd9100669474bb9a",
            "cd61691c9cf14eea9075a30b3e6f66ce",
            "096205756a364ce086b24e75fbb77459",
            "93c5a5bdb0f24d76988631241e5a78e0",
            "d817411bfd6c471ba2237a55cac5d47d",
            "ac85b66dd88046f3a7b9c145cf4445af",
            "7a1621d311544df4826a20c2d02b35b2",
            "2803f8c2b15348d1a54d6c8eac29eed3",
            "52de909e363a475e8de11e0254f0e6c7",
            "de5fd14fbeba439f929f12d3a5f8d834",
            "59a70ef1c554449c8ae1956b7f73d5f2",
            "4b8c5bf518084b90b38095e6dbbe7b57",
            "dc7ea97773a94170a96a56c0c415f4d4",
            "ef452f90672b471f941119c418e74754",
            "64fd470c744f41409dee05d7e3c6b0e7",
            "cdfc6438f2ac4f83a3a1dfed3cc4439c",
            "5781329ba3844daca20e076e07d354f3",
            "a8e0f4f3e28c4a7994769c56ff0aaa02",
            "d5eba784fd634c5e9aefd84855119a63"
          ],
          "base_uri": "https://localhost:8080/"
        },
        "id": "3lr-wxgwYjub",
        "outputId": "b96dd157-85b8-4f65-b76b-a67901c181cc",
        "cellView": "form"
      },
      "execution_count": null,
      "outputs": [
        {
          "output_type": "stream",
          "name": "stdout",
          "text": [
            "Running calibration set...printing first five results...\n"
          ]
        },
        {
          "output_type": "display_data",
          "data": {
            "text/plain": [
              "  0%|          | 0/200 [00:00<?, ?it/s]"
            ],
            "application/vnd.jupyter.widget-view+json": {
              "version_major": 2,
              "version_minor": 0,
              "model_id": "070b174149744dda86c66d861a892837"
            }
          },
          "metadata": {}
        },
        {
          "output_type": "stream",
          "name": "stdout",
          "text": [
            "['E', 'D', 'C', 'A', 'B'] [-0.2519463, -1.5561227, -5.050118, -5.316033, -7.727799]\n",
            "['E', 'D', 'B', 'A', 'C'] [-0.002713803, -5.920858, -10.699895, -12.656659, -13.417515]\n",
            "['B', 'C', 'A', 'D', 'E'] [-0.0003345106, -8.228652, -9.603835, -15.858969, -17.2986]\n",
            "['A', 'E', 'B', 'D', 'C'] [-0.20416771, -1.6897938, -9.600461, -10.388485, -10.906881]\n",
            "['B', 'C', 'A', 'D', 'E'] [-0.009360072, -4.6867967, -9.218649, -14.434767, -14.504599]\n",
            "Running test set...printing first five results...\n"
          ]
        },
        {
          "output_type": "display_data",
          "data": {
            "text/plain": [
              "  0%|          | 0/100 [00:00<?, ?it/s]"
            ],
            "application/vnd.jupyter.widget-view+json": {
              "version_major": 2,
              "version_minor": 0,
              "model_id": "52de909e363a475e8de11e0254f0e6c7"
            }
          },
          "metadata": {}
        },
        {
          "output_type": "stream",
          "name": "stdout",
          "text": [
            "['E', 'C', 'A', 'B', 'D'] [-0.004876243, -5.3763742, -8.366593, -11.975548, -13.7236185]\n",
            "['D', 'A', 'B', 'E', 'C'] [-2.5344274e-05, -11.427271, -11.657274, -12.264673, -13.826197]\n",
            "['D', 'A', 'B', 'C', 'E'] [-1.5805701e-05, -11.204811, -13.664916, -13.807395, -17.985342]\n",
            "['A', 'C', 'B', 'E', 'D'] [-8.5358415e-06, -12.154228, -12.661491, -16.09182, -17.296272]\n",
            "['E', 'D', 'C', 'A', 'B'] [-0.34237248, -1.2382848, -10.517009, -12.27785, -12.517641]\n"
          ]
        }
      ]
    },
    {
      "cell_type": "markdown",
      "source": [
        "## **Specify Target Success Level**\n",
        "Here you can specify the target success level, which is $1-\\epsilon$ in the paper.\n"
      ],
      "metadata": {
        "id": "E9aZi0XmcPN1"
      }
    },
    {
      "cell_type": "code",
      "source": [
        "target_success = 0.8  #@param {type: \"number\"} {form-width: \"10%\"}\n",
        "epsilon = 1-target_success\n",
        "print('Epsilon:', epsilon)"
      ],
      "metadata": {
        "cellView": "form",
        "id": "err6DW0NcTC2",
        "outputId": "588badff-5a9a-4341-8029-e1552fbd3c93",
        "colab": {
          "base_uri": "https://localhost:8080/"
        }
      },
      "execution_count": null,
      "outputs": [
        {
          "output_type": "stream",
          "name": "stdout",
          "text": [
            "Epsilon: 0.19999999999999996\n"
          ]
        }
      ]
    },
    {
      "cell_type": "markdown",
      "source": [
        "## **Calibration with Conformal Prediction**\n",
        "We now perform calibration based on likelihood from the calibration set and the target error level $ϵ$. The result is a threshold $1-\\widehat{q}$ that at test time, if the prediction set includes all options with likelihood higher than $1-\\widehat{q}$, then the set is guaranteed to include the **true** option with $1-\\epsilon$ probability."
      ],
      "metadata": {
        "id": "QQIWiYsqYEYZ"
      }
    },
    {
      "cell_type": "code",
      "source": [
        "#@markdown First, for convenience, we use simple heuristics to determine if each option generated is a true option. In the pre-generated data, we defined the user intent (object to be moved, and the target location). In the paper for the Mobile Manipulation example, the true options are labelled manually.\n",
        "for dataset in [calibration_set, test_set]:\n",
        "  for data_ind, data in enumerate(dataset):\n",
        "    true_options = []\n",
        "    info = data['info']\n",
        "    mc_gen_all = data['mc_gen_all']\n",
        "\n",
        "    # extract the line started with user intent (object) from info\n",
        "    info = info.split('\\n',1)[1]  # remove index\n",
        "    true_obj = info.split('User intent (object): ')[1].split('\\n')[0].lower()\n",
        "    true_obj = true_obj.split(',')\n",
        "    true_obj = [obj.strip() for obj in true_obj]\n",
        "    true_target_loc = info.split('User intent (location): ')[1].split('\\n')[0].lower()\n",
        "    # print(true_obj, '   ', true_target_loc)\n",
        "\n",
        "    # go through all mc\n",
        "    token_all = ['A', 'B', 'C', 'D', 'E']\n",
        "    for mc_ind, mc in enumerate(mc_gen_all):\n",
        "      if 'not listed here' in mc or 'do nothing' in mc: continue\n",
        "\n",
        "      # corner case: if there is only one sponge, shrink true_obj to only sponge\n",
        "      scene_obj = info.split('Scene objects:')[1].split('\\n')[0].split(', ')\n",
        "      scene_obj = [obj.strip().lower() for obj in scene_obj]\n",
        "      for i in range(len(true_obj)):\n",
        "        if not ('clean sponge' in scene_obj and 'dirty sponge with food residue' in scene_obj) \\\n",
        "          and 'sponge' in true_obj[i]:\n",
        "          true_obj[i] = 'sponge'\n",
        "\n",
        "      # corner case: mc has both clean and dirty\n",
        "      if 'clean' in mc and 'dirty' in mc: continue\n",
        "\n",
        "      # corner case: orange and orange soda - not dealt with\n",
        "\n",
        "      if true_target_loc == 'pick-up':\n",
        "        # check if more than one scene object in the mc\n",
        "        num_obj_in_mc = 0\n",
        "        for obj in scene_obj:\n",
        "          if obj in mc.lower(): num_obj_in_mc += 1\n",
        "        if num_obj_in_mc > 1: continue\n",
        "\n",
        "        for obj in true_obj:\n",
        "          if obj in mc and 'drawer' not in mc and 'bin' not in mc and \\\n",
        "            'microwave' not in mc and 'cooktop' not in mc:\n",
        "            true_options.append(token_all[mc_ind])\n",
        "      elif 'drawer' in true_target_loc:\n",
        "        for obj in true_obj:\n",
        "          if obj in mc and true_target_loc in mc:\n",
        "            true_options.append(token_all[mc_ind])\n",
        "      elif 'recycling' in true_target_loc or 'landfill' in true_target_loc \\\n",
        "        or 'compost' in true_target_loc or 'microwave' in true_target_loc \\\n",
        "        or 'cooktop' in true_target_loc:\n",
        "        for obj in true_obj:\n",
        "          if obj in mc and true_target_loc in mc:\n",
        "            true_options.append(token_all[mc_ind])\n",
        "      else: # target location is an object\n",
        "        mc_obj_pick_up_phrase = mc.split('and')[0]\n",
        "        mc_obj_place_phrase = mc.split('and')[1]\n",
        "        for obj in true_obj:\n",
        "          if obj in mc_obj_pick_up_phrase and true_target_loc in mc_obj_place_phrase:\n",
        "            true_options.append(token_all[mc_ind])\n",
        "\n",
        "    # if none correct\n",
        "    if len(true_options) == 0:\n",
        "      true_options = [data['add_mc_prefix']]\n",
        "\n",
        "    # save\n",
        "    dataset[data_ind]['true_options'] = true_options"
      ],
      "metadata": {
        "id": "pbmHI99DXPHY",
        "cellView": "form"
      },
      "execution_count": null,
      "outputs": []
    },
    {
      "cell_type": "code",
      "source": [
        "#@markdown Then, get the non-conformity scores from the calibration set, which is 1 minus the likelihood of the **true** option, $1-f(x)_{y_\\text{true}}$. If there is more than one acceptable option for a scenario, we will use the minimum.\n",
        "def temperature_scaling(logits, temperature):\n",
        "    logits = np.array(logits)\n",
        "    logits /= temperature\n",
        "\n",
        "    # apply softmax\n",
        "    logits -= logits.max()\n",
        "    logits = logits - np.log(np.sum(np.exp(logits)))\n",
        "    smx = np.exp(logits)\n",
        "    return smx\n",
        "\n",
        "non_conformity_score = []\n",
        "token_all = ['A', 'B', 'C', 'D', 'E']\n",
        "for data in calibration_set:\n",
        "  top_logprobs = data['top_logprobs']\n",
        "  top_tokens = data['top_tokens']\n",
        "  true_options = data['true_options']\n",
        "\n",
        "  # normalize the five scores to sum of 1\n",
        "  mc_smx_all = temperature_scaling(top_logprobs, temperature=5)\n",
        "\n",
        "  # get the softmax value of true option\n",
        "  true_label_smx = [mc_smx_all[token_ind]\n",
        "                    for token_ind, token in enumerate(top_tokens)\n",
        "                    if token in true_options]\n",
        "  true_label_smx = np.max(true_label_smx)\n",
        "\n",
        "  # get non-comformity score\n",
        "  non_conformity_score.append(1 - true_label_smx)"
      ],
      "metadata": {
        "cellView": "form",
        "id": "gJkulUUPRy-d"
      },
      "execution_count": null,
      "outputs": []
    },
    {
      "cell_type": "code",
      "source": [
        "#@markdown Find $\\widehat{q}$ as the $\\frac{\\lceil (N+1)(1-\\epsilon) \\rceil}{N}$ quantile of the non-conformity scores, where $N$ is number of calibration data. Also plot the histogram of the scores and the quantile.\n",
        "q_level = np.ceil((num_calibration_data + 1) * (1 - epsilon)) / num_calibration_data\n",
        "qhat = np.quantile(non_conformity_score, q_level, method='higher')\n",
        "print('Quantile value qhat:', qhat)\n",
        "print('')\n",
        "\n",
        "# plot histogram and quantile\n",
        "plt.figure(figsize=(6, 3))\n",
        "plt.hist(non_conformity_score, bins=30, edgecolor='k', linewidth=1)\n",
        "plt.axvline(\n",
        "    x=qhat, linestyle='--', color='r', label='Quantile value'\n",
        ")\n",
        "plt.title(\n",
        "    'Histogram of non-comformity scores in the calibration set'\n",
        ")\n",
        "plt.xlabel('Non-comformity score')\n",
        "plt.legend(); plt.show()\n",
        "print('')\n",
        "print('A good predictor should have low non-comformity scores, concentrated at the left side of the figure')"
      ],
      "metadata": {
        "colab": {
          "height": 402,
          "base_uri": "https://localhost:8080/"
        },
        "id": "MZmTNEGQbeqx",
        "outputId": "792d1b63-f90e-489b-d5bf-b099eddee176",
        "cellView": "form"
      },
      "execution_count": null,
      "outputs": [
        {
          "output_type": "stream",
          "name": "stdout",
          "text": [
            "Quantile value qhat: 0.928147098697616\n",
            "\n"
          ]
        },
        {
          "output_type": "display_data",
          "data": {
            "text/plain": [
              "<Figure size 600x300 with 1 Axes>"
            ],
            "image/png": "[encoded data removed]"
          },
          "metadata": {}
        },
        {
          "output_type": "stream",
          "name": "stdout",
          "text": [
            "\n",
            "A good predictor should have low non-comformity scores, concentrated at the left side of the figure\n"
          ]
        }
      ]
    },
    {
      "cell_type": "markdown",
      "source": [
        "You may see there is a number of data with large non-comformity scores, which means the prediction is badly wrong. This is due to the inherent bias in the GPT3.5 model.\n",
        "\n",
        "We also applied temperature scaling=5 to smooth the probability distribution a bit."
      ],
      "metadata": {
        "id": "etsYbIxyWXU7"
      }
    },
    {
      "cell_type": "markdown",
      "source": [
        "## **Prediction at Test Time and Triggering Human Help**\n",
        "With $\\widehat{q}$, we can construct the predictions sets for test scenarios and observe the empirical coverage (ratio of true option included in the sets) and the average set size.\n",
        "\n",
        "When the set is not a singleton (i.e., has more than one option), we deem the LLM is uncertain about the correct option and **triggers human help**. Below we simulate human always choosing the correct option from the prediction set if there is one. This translates the coverage guarantee to task completion guarantee!"
      ],
      "metadata": {
        "id": "B8874YbMc4O1"
      }
    },
    {
      "cell_type": "code",
      "source": [
        "#@title\n",
        "num_coverage = 0\n",
        "num_help = 0\n",
        "num_success = 0\n",
        "set_size_all = []\n",
        "for data in test_set:\n",
        "  top_logprobs = data['top_logprobs']\n",
        "  top_tokens = data['top_tokens']\n",
        "  true_options = data['true_options']\n",
        "\n",
        "  # normalize the five scores to sum of 1\n",
        "  mc_smx_all = temperature_scaling(top_logprobs, temperature=5)\n",
        "\n",
        "  # include all options with score >= 1-qhat\n",
        "  prediction_set = [\n",
        "            token for token_ind, token in enumerate(top_tokens)\n",
        "            if mc_smx_all[token_ind] >= 1 - qhat\n",
        "        ]\n",
        "  set_size_all.append(len(prediction_set))\n",
        "\n",
        "  # check coverage\n",
        "  flag_coverage = not set(prediction_set).isdisjoint(true_options)\n",
        "  num_coverage += flag_coverage\n",
        "\n",
        "  # check help - if prediction set is not singleton, or set include option E\n",
        "  flag_help = len(prediction_set) != 1 or data['add_mc_prefix'] in prediction_set\n",
        "  num_help += flag_help\n",
        "\n",
        "  # check success - same as coverage\n",
        "  num_success += flag_coverage\n",
        "\n",
        "# get average rate\n",
        "coverage_rate = num_coverage / num_test_data\n",
        "help_rate = num_help / num_test_data\n",
        "success_rate = num_success / num_test_data\n",
        "avg_prediction_set_size = np.mean(set_size_all)\n",
        "\n",
        "# show results\n",
        "print('============== Summary ==============')\n",
        "print('Number of calibration data:', num_calibration_data)\n",
        "print('Number of test data:', num_test_data)\n",
        "# print('Quantile value:', qhat)\n",
        "print('Average prediction set size:', avg_prediction_set_size)\n",
        "print('Marginal coverage guarantee:', 1 - epsilon)\n",
        "print('Empirical coverage:', coverage_rate)\n",
        "print('Help rate:', help_rate)\n",
        "print('Success rate:', success_rate)\n",
        "print('\\nSuccess rate should be the same as empirical coverage, and it is close to the marginal coverage guarantee, 1-epsilon\\n')\n",
        "\n",
        "# plot histogram of prediction set size\n",
        "plt.figure(figsize=(6, 3))\n",
        "plt.hist(\n",
        "    set_size_all, bins=np.arange(-1, 6) + 0.5, edgecolor='k',\n",
        "    linewidth=1\n",
        ")\n",
        "ax = plt.gca()\n",
        "ax.locator_params(integer=True)\n",
        "plt.title('Histogram of prediction set size')\n",
        "plt.xlabel('Prediction set size')\n",
        "plt.ylabel('Frequency')\n",
        "plt.show()"
      ],
      "metadata": {
        "colab": {
          "height": 524,
          "base_uri": "https://localhost:8080/"
        },
        "id": "6pf8q6srddxh",
        "outputId": "b895fdc5-5589-4c9a-b0f8-a4a02350c358",
        "cellView": "form"
      },
      "execution_count": null,
      "outputs": [
        {
          "output_type": "stream",
          "name": "stdout",
          "text": [
            "============== Summary ==============\n",
            "Number of calibration data: 200\n",
            "Number of test data: 100\n",
            "Average prediction set size: 2.61\n",
            "Marginal coverage guarantee: 0.8\n",
            "Empirical coverage: 0.77\n",
            "Help rate: 0.83\n",
            "Success rate: 0.77\n",
            "\n",
            "Success rate should be the same as empirical coverage, and it is close to the marginal coverage guarantee, 1-epsilon\n",
            "\n"
          ]
        },
        {
          "output_type": "display_data",
          "data": {
            "text/plain": [
              "<Figure size 600x300 with 1 Axes>"
            ],
            "image/png": "[encoded data removed]"
          },
          "metadata": {}
        }
      ]
    },
    {
      "cell_type": "markdown",
      "source": [
        "You may notice that the help rate is very high here. From experiments, we tend to fine the GPT3.5 model significantly underperforms PaLM2-L model, largely due to the bias in GPT3.5 model such as favoring option C/D/E over option A/B. We also tend to find such bias dependent on the context, so simply adjusting the logit_bias argument in the API call does not help significantly."
      ],
      "metadata": {
        "id": "PVnUogycXBcE"
      }
    },
    {
      "cell_type": "markdown",
      "source": [
        "## **Specify Your Own Instruction**\n",
        "You can specify your own instruction here, and also the three objects present on the countertop. If you did not run calibration above, you can choose `skip_calibration` here and applies calibration result based on target success level=0.8.\n",
        "\n",
        "Feel free to use these objects: bottled water, bottled tea, orange soda, RedBull, Coke, Pepsi, Sprite, rice chips, jalapeno chips, kettle chips, multigrain chips, apple, orange, energy bar, dirty sponge with food residue, clean sponge, metal bowl, plastic bowl. You can also specify putting the item in the top or bottom drawer, or in the landfill, or recycling, or landfill bin. For example, \"put the kettle chips in the drawer.\" which is ambiguous in the choice of drawer.\n",
        "\n",
        "This block will then show the prediction set for this scenario --- see if the set makes sense!"
      ],
      "metadata": {
        "id": "hLq1cyarUFs3"
      }
    },
    {
      "cell_type": "code",
      "source": [
        "instruction = \"Put the bottled water in the bin.\" #@param {type:\"string\"}\n",
        "scene_objects = \"energy bar, bottled water, rice chips\" #@param {type:\"string\"}\n",
        "skip_calibration = False #@param {type:\"boolean\"}\n",
        "if skip_calibration: qhat = 0.928 # based on epsilon=0.2\n",
        "\n",
        "import random\n",
        "def process_mc_raw(mc_raw, add_mc='an option not listed here'):\n",
        "  mc_all = mc_raw.split('\\n')\n",
        "  mc_processed_all = []\n",
        "  for mc in mc_all:\n",
        "      mc = mc.strip()  # sometimes there is leading space\n",
        "      # skip nonsense\n",
        "      if len(mc) < 5 or mc[0] not in [\n",
        "          'a', 'b', 'c', 'd', 'A', 'B', 'C', 'D', '1', '2', '3', '4'\n",
        "      ]:\n",
        "          continue\n",
        "      mc = mc[2:]  # remove a), b), ...\n",
        "      mc = mc.strip().lower().split('.')[0]\n",
        "      mc_processed_all.append(mc)\n",
        "  if len(mc_processed_all) < 4:\n",
        "      raise 'Cannot extract four options from the raw output.'\n",
        "  # Check if any repeated option - use do nothing as substitue\n",
        "  mc_processed_all = list(set(mc_processed_all))\n",
        "  if len(mc_processed_all) < 4:\n",
        "      num_need = 4 - len(mc_processed_all)\n",
        "      for _ in range(num_need):\n",
        "          mc_processed_all.append('do nothing')\n",
        "  prefix_all = ['A) ', 'B) ', 'C) ', 'D) ']\n",
        "  if add_mc is not None:\n",
        "      mc_processed_all.append(add_mc)\n",
        "      prefix_all.append('E) ')\n",
        "  random.shuffle(mc_processed_all)\n",
        "  mc_prompt = ''\n",
        "  for mc_ind, (prefix, mc) in enumerate(zip(prefix_all, mc_processed_all)):\n",
        "      mc_prompt += prefix + mc\n",
        "      if mc_ind < len(mc_processed_all) - 1:\n",
        "          mc_prompt += '\\n'\n",
        "  add_mc_prefix = prefix_all[mc_processed_all.index(add_mc)][0]\n",
        "  return mc_prompt, mc_processed_all, add_mc_prefix\n",
        "\n",
        "# prompt for generating multiple choice\n",
        "demo_mc_gen_prompt = \"\"\"\n",
        "We: You are a robot operating in an office kitchen. You are in front of a counter with two closed drawers, a top one and a bottom one. There is also a landfill bin, a recycling bin, and a compost bin.\n",
        "\n",
        "We: On the counter, there is an orange soda, a Pepsi, and an apple.\n",
        "We: Put that drink in the top drawer.\n",
        "You:\n",
        "A) open the top drawer and put the orange soda in it\n",
        "B) open the bottom drawer and put the Pepsi in it\n",
        "C) open the bottom drawer and put the orange soda in it\n",
        "D) open the top drawer and put the Pepsi in it\n",
        "\n",
        "We: On the counter, there is an energy bar, a banana, and a microwave.\n",
        "We: Put the snack next to the microwave.\n",
        "You:\n",
        "A) pick up the energy bar and put it next to the microwave\n",
        "B) pick up the banana and put it next to the energy bar\n",
        "C) pick up the banana and put it next to the microwave\n",
        "D) pick up the energy bar and put it next to the banana\n",
        "\n",
        "We: On the counter, there is a Coke, a Sprite, and a sponge.\n",
        "We: Can you dispose of the can? It should have expired.\n",
        "You:\n",
        "A) pick up the sponge and put it in the landfill bin\n",
        "B) pick up the Coke and put it in the recycling bin\n",
        "C) pick up the Sprite and put it in the recycling bin\n",
        "D) pick up the Coke and put it in the landfill bin\n",
        "\n",
        "We: On the counter, there is a bottled water, a bag of jalapeno chips, and a bag of rice chips.\n",
        "We: I would like a bag of chips.\n",
        "You:\n",
        "A) pick up the bottled water\n",
        "B) pick up the jalapeno chips\n",
        "C) pick up the kettle chips\n",
        "D) pick up the rice chips\n",
        "\n",
        "We: On the counter, there is {scene_objects}\n",
        "We: {task}\n",
        "You:\n",
        "\"\"\"\n",
        "demo_mc_gen_prompt = demo_mc_gen_prompt.replace('{task}', instruction)\n",
        "demo_mc_gen_prompt = demo_mc_gen_prompt.replace('{scene_objects}', scene_objects)\n",
        "\n",
        "# Generate multiple choices\n",
        "_, demo_mc_gen_raw = lm(demo_mc_gen_prompt, stop_seq=['We:'], logit_bias={})\n",
        "demo_mc_gen_raw = demo_mc_gen_raw.strip()\n",
        "demo_mc_gen_full, demo_mc_gen_all, demo_add_mc_prefix = process_mc_raw(demo_mc_gen_raw)\n",
        "\n",
        "# get the part of the current scenario from the previous prompt\n",
        "demo_cur_scenario_prompt = demo_mc_gen_prompt.split('\\n\\n')[-1].strip()\n",
        "\n",
        "# get new prompt\n",
        "demo_mc_score_background_prompt = \"\"\"\n",
        "You are a robot operating in an office kitchen. You are in front of a counter with two closed drawers, a top one and a middle one. There is also a landfill bin, a recycling bin, and a compost bin.\n",
        "\"\"\".strip()\n",
        "demo_mc_score_prompt = demo_mc_score_background_prompt + '\\n\\n' + demo_cur_scenario_prompt + '\\n' + demo_mc_gen_full\n",
        "demo_mc_score_prompt += \"\\nWe: Which option is correct? Answer with a single capital letter.\"\n",
        "demo_mc_score_prompt += \"\\nYou:\"\n",
        "\n",
        "# scoring\n",
        "mc_score_response, _ = lm(demo_mc_score_prompt, max_tokens=1, logprobs=5)\n",
        "top_logprobs_full = mc_score_response[\"choices\"][0][\"logprobs\"][\"top_logprobs\"][0]\n",
        "top_tokens = [token.strip() for token in top_logprobs_full.keys()]\n",
        "top_logprobs = [value for value in top_logprobs_full.values()]\n",
        "\n",
        "# get prediction set\n",
        "def temperature_scaling(logits, temperature):\n",
        "    logits = np.array(logits)\n",
        "    logits /= temperature\n",
        "\n",
        "    # apply softmax\n",
        "    logits -= logits.max()\n",
        "    logits = logits - np.log(np.sum(np.exp(logits)))\n",
        "    smx = np.exp(logits)\n",
        "    return smx\n",
        "mc_smx_all = temperature_scaling(top_logprobs, temperature=5)\n",
        "\n",
        "# include all options with score >= 1-qhat\n",
        "prediction_set = [\n",
        "          token for token_ind, token in enumerate(top_tokens)\n",
        "          if mc_smx_all[token_ind] >= 1 - qhat\n",
        "      ]\n",
        "\n",
        "# print\n",
        "print('Multiple choices generated:')\n",
        "print(demo_mc_gen_full)\n",
        "print('\\nPrediction set:', prediction_set)\n",
        "if len(prediction_set) == 1:\n",
        "  print('No help needed!')\n",
        "else:\n",
        "  print('Help needed!')"
      ],
      "metadata": {
        "id": "un9GDoSUilg9",
        "outputId": "a38218e3-c57a-4667-83d1-573d7fa3c863",
        "cellView": "form",
        "collapsed": true,
        "colab": {
          "base_uri": "https://localhost:8080/"
        }
      },
      "execution_count": null,
      "outputs": [
        {
          "output_type": "stream",
          "name": "stdout",
          "text": [
            "Multiple choices generated:\n",
            "A) pick up the bottled water and put it in the landfill bin\n",
            "B) pick up the bottled water and put it in the recycling bin\n",
            "C) pick up the energy bar and put it in the landfill bin\n",
            "D) pick up the rice chips and put it in the landfill bin\n",
            "E) an option not listed here\n",
            "\n",
            "Prediction set: ['B']\n",
            "No help needed!\n"
          ]
        }
      ]
    }
  ]
}