{
  "cells": [
    {
      "cell_type": "code",
      "execution_count": null,
      "metadata": {
        "id": "5QoWip9KktQ0"
      },
      "outputs": [],
      "source": [
        "\"\"\"Licensed under the Apache License, Version 2.0.\"\"\"\n",
        "\n",
        "# Note due to random number generation in the underlying libraries, most notably \n",
        "# networkx, there are slight differences between results from running this colab\n",
        "# and those seen in the manuscript.\n",
        "\n",
        "import os\n",
        "import matplotlib.pyplot as plt\n",
        "import seaborn as sns\n",
        "import numpy as np\n",
        "import pandas as pd\n",
        "\n",
        "from IPython import display\n",
        "\n",
        "import plotnine as p9\n",
        "\n",
        "# Library of analysis code common to experiments.\n",
        "import protseq_analysis"
      ]
    },
    {
      "cell_type": "code",
      "execution_count": null,
      "metadata": {
        "id": "6uH0Q314F_YL"
      },
      "outputs": [],
      "source": [
        "# Download the dataset from:\n",
        "# Jess, Phillip (2021), “ProtSeq Data”, Mendeley Data, V1, doi: 10.17632/f9hdn5xc3v.1\n",
        "# https://data.mendeley.com/datasets/f9hdn5xc3v/1\n",
        "\n",
        "!wget https://data.mendeley.com/public-files/datasets/f9hdn5xc3v/files/3590fc8d-f47e-4199-982a-45871305178e/file_downloaded -O \"Six cycle DNA_DNA BCS base calls.fastq.gz\"\n",
        "!wget https://data.mendeley.com/public-files/datasets/f9hdn5xc3v/files/ae9dfef2-af3f-4592-a895-519b8013f6c8/file_downloaded -O \"Six cycle DNA_DNA BCS undertermined calls.fastq.gz\""
      ]
    },
    {
      "cell_type": "code",
      "execution_count": null,
      "metadata": {
        "id": "82oAwAANfj1x"
      },
      "outputs": [],
      "source": [
        "FEATURE_DELIM = ':'\n",
        "TAG_PREFIX = 'S_'\n",
        "MATCH_STR = 'SA'"
      ]
    },
    {
      "cell_type": "code",
      "execution_count": null,
      "metadata": {
        "id": "1nyn2171wDJ8"
      },
      "outputs": [],
      "source": [
        "expt_dict = {\n",
        "    'base': ['Six cycle DNA_DNA BCS base calls.fastq.gz'],\n",
        "    'undertermined': ['Six cycle DNA_DNA BCS undertermined calls.fastq.gz'],\n",
        "}\n",
        "\n",
        "DNA_BINDER_DICT = {'SP12':'SA12', 'SP11':'SA11', 'SP10':'SA10', 'SP13':'SA13'} # These are the three standard DNA:DNA binder/target pairs. Update if new DNA:DNA binders are used\n",
        "\n",
        "component_names_str = '''\n",
        "BCS_Fd1_SP12\tAACAC\n",
        "BCS_Fd2_SP10\tTCACA\n",
        "BCS_Fd3_SP11\tTTCAG\n",
        "BCS_Fd7_NULL\tATCAAGGC\n",
        "BCS_Fd8_SP13\tCTAGTACG\n",
        "BCS.SA10-1\tTACCAAGA\n",
        "BCS.SA11-1\tTGAGTATC\n",
        "BCS.SA12-1\tGCTGTTCA\n",
        "BCS.SA5_Random-1\tTGAGCCTT\n",
        "BCS.SA13-1\tTTCGTAAC\n",
        "BCS.SA10-2\tTGTATAGT\n",
        "BCS.SA11-2\tAGGGTAAT\n",
        "BCS.SA12-2\tTTCACCAG\n",
        "BCS.SA5_Random-2\tAAATCGGA\n",
        "BCS.SA13-2\tTGATACGA\n",
        "BCS.SA10-3\tTGAACTTG\n",
        "BCS.SA11-3\tACTTTACC\n",
        "BCS.SA12-3\tATCTGAGC\n",
        "BCS.SA5_Random-3\tGGTCTCTA\n",
        "BCS.SA13-3\tCCTTCATA\n",
        "BCS.SA10-4\tTAGTCCAC\n",
        "BCS.SA11-4\tGCCATATA\n",
        "BCS.SA12-4\tCCTCTCAT\n",
        "BCS.SA5-4\tGGCTATAG\n",
        "BCS.SA13-4\tGGAATCAA\n",
        "BCS.SA10-5\tCACGAAAT\n",
        "BCS.SA11-5\tTCTTTCTA\n",
        "BCS.SA12-5\tATGAGAAG\n",
        "BCS.SA5-5\tATTCGATG\n",
        "BCS.SA13-5\tATAGTCCT\n",
        "BCS.SA10-6\tACTTACAC\n",
        "BCS.SA11-6\tTGACTAGT\n",
        "BCS.SA12-6\tGGTCGTTA\n",
        "BCS.SA5-6\tTTCTATCC\n",
        "BCS.SA13-6\tTTCAAACA\n",
        "BCS.SA_Null\tTACCATGG\n",
        "BCS4_DirectSeqSA_BC\tAGACTCAG\n",
        "BCS4_DirectSeqSA_Missed\tCTGCGCCTATACGAATT\n",
        "NGS_Adapt\tGTATG\n",
        "BS_Bridge\tCGTTATC\n",
        "BS_Base\tCATCAGCTCGCAGTCG\n",
        "'''\n",
        "subseqs, component_dict, seq_rev_comp_dict = protseq_analysis.get_subseqs_from_component_names(component_names_str)"
      ]
    },
    {
      "cell_type": "code",
      "execution_count": null,
      "metadata": {
        "id": "XFUFdV80R-eB"
      },
      "outputs": [],
      "source": [
        "foundation_dict = {}\n",
        "non_Fd_components = [component for component in component_dict.values() if protseq_analysis.FOUNDATION_SUBSTR not in component]\n",
        "\n",
        "for component in component_dict.values():\n",
        "  if protseq_analysis.FOUNDATION_SUBSTR in component:\n",
        "    binder_match_unit = component.split('_')[-1]\n",
        "    if binder_match_unit == 'NULL':\n",
        "      continue\n",
        "    binder_match_str = '.' + DNA_BINDER_DICT[binder_match_unit]\n",
        "    foundation_dict[component] = [non_fd_comp for non_fd_comp in non_Fd_components if (binder_match_str in non_fd_comp)]\n"
      ]
    },
    {
      "cell_type": "code",
      "execution_count": null,
      "metadata": {
        "id": "8Am6GhSqpQlm"
      },
      "outputs": [],
      "source": [
        "SEQS_TO_READ = 100000000 # Number of sequences\n",
        "DIST_FOR_CLUSTERING = 0\n",
        "N_COMMON = 50000000\n",
        "full_df = protseq_analysis.read_fastqs_for_experiment(\n",
        "    expt_dict, num_reads=SEQS_TO_READ, subseqs=subseqs, n_common=N_COMMON, \n",
        "    dist_for_clustering=DIST_FOR_CLUSTERING)"
      ]
    },
    {
      "cell_type": "code",
      "execution_count": null,
      "metadata": {
        "id": "nxZp8Tb1Bv2p"
      },
      "outputs": [],
      "source": [
        "cycle_dfs, cycle_correspondence = protseq_analysis.foundation_partner_cycle_table(full_df, foundation_dict,\n",
        "                                                         component_dict, cycles_to_check=6, heatmap=False,\n",
        "                                                         allow_overlaps=False)"
      ]
    },
    {
      "cell_type": "markdown",
      "metadata": {
        "id": "lHL89UNR_k_X"
      },
      "source": [
        "##Plotting and Tables"
      ]
    },
    {
      "cell_type": "markdown",
      "metadata": {
        "id": "DPCuryPS_mwW"
      },
      "source": [
        "## Produce stacked histogram and counts table"
      ]
    },
    {
      "cell_type": "code",
      "execution_count": null,
      "metadata": {
        "colab": {
          "height": 623
        },
        "executionInfo": {
          "elapsed": 3775,
          "status": "ok",
          "timestamp": 1632435367005,
          "user": {
            "displayName": "",
            "photoUrl": "",
            "userId": ""
          },
          "user_tz": 420
        },
        "id": "TL5SBWA9Fpvo",
        "outputId": "22ba4fb8-fd21-46e6-a33b-91f2c1ef54a8"
      },
      "outputs": [
        {
          "data": {
            "image/png": "[encoded data removed]",
            "text/plain": [
              "\u003cFigure size 640x480 with 4 Axes\u003e"
            ]
          },
          "metadata": {},
          "output_type": "display_data"
        },
        {
          "data": {
            "image/png": "[encoded data removed]",
            "text/plain": [
              "\u003cFigure size 200x400 with 1 Axes\u003e"
            ]
          },
          "metadata": {},
          "output_type": "display_data"
        }
      ],
      "source": [
        "def convert_cycle_dfs_to_stacked_hists(cycle_dfs, foundation_dict, \n",
        "                                      min_cycle, max_cycle):\n",
        "  ''' Generate stacked histograms figures figures for multi-cycle runs.'''\n",
        "  \n",
        "  # Generate dataframe based on expected cycle\n",
        "  foundations = []\n",
        "  aptamers = []\n",
        "  counts = []\n",
        "  exp_cycles = []\n",
        "  matches = []\n",
        "  for i in range (min_cycle, max_cycle+1):\n",
        "    cycle_df = cycle_dfs[i]\n",
        "    for col in cycle_df.columns:\n",
        "      for key, values in foundation_dict.items():\n",
        "        aptamer = key.split('_')[-1]\n",
        "        for val in values:\n",
        "          # Tag association foundation target with corresponding aptamer\n",
        "          tag = col.split('_')[-1]\n",
        "          foundations.append(tag)\n",
        "          aptamers.append(aptamer)\n",
        "          exp_cycle = int(val[-1])\n",
        "          count = cycle_df[col].loc[val]\n",
        "          exp_cycles.append(exp_cycle)\n",
        "          counts.append(count)\n",
        "          matches.append(tag == aptamer)\n",
        "\n",
        "  exp_plot_df = pd.DataFrame.from_dict({'Fd': foundations,\n",
        "                          'aptamer': aptamers,\n",
        "                          'count': counts,\n",
        "                          'exp_cycle': exp_cycles,\n",
        "                          'match': matches,})\n",
        "  \n",
        "  exp_plot_agg_df = exp_plot_df.groupby(\n",
        "      ['Fd', 'aptamer', 'exp_cycle', 'match']).sum().reset_index()\n",
        "\n",
        "  p = (p9.ggplot(exp_plot_agg_df[exp_plot_agg_df['Fd'] != 'Foundation'], \n",
        "                p9.aes('exp_cycle', 'count', fill='match')) + \n",
        "      p9.geom_bar(stat='identity', position='stack') + p9.facet_wrap('~Fd') +\n",
        "        p9.theme_minimal())\n",
        "                \n",
        "  p.draw()\n",
        "\n",
        "  # Generate dataframe based on \"observed\" cycle  \n",
        "  foundations = []\n",
        "  matches = []\n",
        "  aptamers = []\n",
        "  counts = []\n",
        "  cycles = []\n",
        "  for i in range (min_cycle, max_cycle+1):\n",
        "    cycle_df = cycle_dfs[i]\n",
        "    for col in cycle_df.columns:\n",
        "      for key, values in foundation_dict.items():\n",
        "        cycle_matches = [val for val in values if int(val[-1]) == i]\n",
        "        cycle_mismatches =  [val for val in values if int(val[-1]) != i]\n",
        "        aptamer = key.split('_')[-1]\n",
        "\n",
        "        # Set placeholders to allow for two rows:\n",
        "        #   1. Calculate when the expected cycle matches observed cycle\n",
        "        #   2. Calculate when expected cycle mismatches observed cycle\n",
        "        foundations += [col.split('_')[-1]]*2\n",
        "        aptamers += [aptamer]*2\n",
        "        cycles += [i]*2  \n",
        "        \n",
        "        # Add in match/mismatch flags and counts.\n",
        "        matches += [True]\n",
        "        matches += [False]\n",
        "        counts += [cycle_df[col].loc[cycle_matches].sum()]\n",
        "        counts += [cycle_df[col].loc[cycle_mismatches].sum()]\n",
        "          \n",
        "  plot_df = pd.DataFrame.from_dict({'Fd': foundations,\n",
        "                          'match': matches,\n",
        "                          'aptamer': aptamers,\n",
        "                          'count': counts,\n",
        "                          'cycle': cycles})\n",
        "  \n",
        "  # Aggregate based on 'Fd' and 'aptamer'\n",
        "  # This ignores cycle information and corresponding matching cycle information.\n",
        "  plot_agg_df = plot_df.groupby(['Fd', 'aptamer']).sum()[['count']].reset_index()\n",
        "\n",
        "  p = (p9.ggplot(plot_agg_df[plot_agg_df['Fd'] != 'Foundation'], \n",
        "                 p9.aes('Fd', 'count', fill='aptamer')) + \n",
        "                 p9.geom_bar(stat='identity', position='stack') +\n",
        "        p9.theme_minimal() + p9.theme(figure_size=[2, 4]))\n",
        "                 \n",
        "  p.draw()   \n",
        "\n",
        "  return exp_plot_agg_df\n",
        "        \n",
        "exp_plot_agg_df = convert_cycle_dfs_to_stacked_hists(cycle_dfs, foundation_dict, 1, 6)\n"
      ]
    },
    {
      "cell_type": "code",
      "execution_count": null,
      "metadata": {
        "colab": {
          "height": 833
        },
        "executionInfo": {
          "elapsed": 59,
          "status": "ok",
          "timestamp": 1632435367211,
          "user": {
            "displayName": "",
            "photoUrl": "",
            "userId": ""
          },
          "user_tz": 420
        },
        "id": "BGncsGdixqyM",
        "outputId": "c0542d63-6471-4f90-d4da-cc069dbdecb4"
      },
      "outputs": [
        {
          "data": {
            "text/html": [
              "\u003cdiv\u003e\n",
              "\u003cstyle scoped\u003e\n",
              "    .dataframe tbody tr th:only-of-type {\n",
              "        vertical-align: middle;\n",
              "    }\n",
              "\n",
              "    .dataframe tbody tr th {\n",
              "        vertical-align: top;\n",
              "    }\n",
              "\n",
              "    .dataframe thead th {\n",
              "        text-align: right;\n",
              "    }\n",
              "\u003c/style\u003e\n",
              "\u003ctable border=\"1\" class=\"dataframe\"\u003e\n",
              "  \u003cthead\u003e\n",
              "    \u003ctr style=\"text-align: right;\"\u003e\n",
              "      \u003cth\u003e\u003c/th\u003e\n",
              "      \u003cth\u003eFd\u003c/th\u003e\n",
              "      \u003cth\u003eSP10\u003c/th\u003e\n",
              "      \u003cth\u003eSP11\u003c/th\u003e\n",
              "      \u003cth\u003eSP12\u003c/th\u003e\n",
              "      \u003cth\u003eSP13\u003c/th\u003e\n",
              "    \u003c/tr\u003e\n",
              "    \u003ctr\u003e\n",
              "      \u003cth\u003eaptamer\u003c/th\u003e\n",
              "      \u003cth\u003eexp_cycle\u003c/th\u003e\n",
              "      \u003cth\u003e\u003c/th\u003e\n",
              "      \u003cth\u003e\u003c/th\u003e\n",
              "      \u003cth\u003e\u003c/th\u003e\n",
              "      \u003cth\u003e\u003c/th\u003e\n",
              "    \u003c/tr\u003e\n",
              "  \u003c/thead\u003e\n",
              "  \u003ctbody\u003e\n",
              "    \u003ctr\u003e\n",
              "      \u003cth rowspan=\"6\" valign=\"top\"\u003eSP10\u003c/th\u003e\n",
              "      \u003cth\u003e1\u003c/th\u003e\n",
              "      \u003ctd\u003e6539\u003c/td\u003e\n",
              "      \u003ctd\u003e2096\u003c/td\u003e\n",
              "      \u003ctd\u003e1009\u003c/td\u003e\n",
              "      \u003ctd\u003e885\u003c/td\u003e\n",
              "    \u003c/tr\u003e\n",
              "    \u003ctr\u003e\n",
              "      \u003cth\u003e2\u003c/th\u003e\n",
              "      \u003ctd\u003e8833\u003c/td\u003e\n",
              "      \u003ctd\u003e116\u003c/td\u003e\n",
              "      \u003ctd\u003e347\u003c/td\u003e\n",
              "      \u003ctd\u003e107\u003c/td\u003e\n",
              "    \u003c/tr\u003e\n",
              "    \u003ctr\u003e\n",
              "      \u003cth\u003e3\u003c/th\u003e\n",
              "      \u003ctd\u003e11316\u003c/td\u003e\n",
              "      \u003ctd\u003e155\u003c/td\u003e\n",
              "      \u003ctd\u003e298\u003c/td\u003e\n",
              "      \u003ctd\u003e179\u003c/td\u003e\n",
              "    \u003c/tr\u003e\n",
              "    \u003ctr\u003e\n",
              "      \u003cth\u003e4\u003c/th\u003e\n",
              "      \u003ctd\u003e11440\u003c/td\u003e\n",
              "      \u003ctd\u003e317\u003c/td\u003e\n",
              "      \u003ctd\u003e595\u003c/td\u003e\n",
              "      \u003ctd\u003e242\u003c/td\u003e\n",
              "    \u003c/tr\u003e\n",
              "    \u003ctr\u003e\n",
              "      \u003cth\u003e5\u003c/th\u003e\n",
              "      \u003ctd\u003e10404\u003c/td\u003e\n",
              "      \u003ctd\u003e236\u003c/td\u003e\n",
              "      \u003ctd\u003e1221\u003c/td\u003e\n",
              "      \u003ctd\u003e178\u003c/td\u003e\n",
              "    \u003c/tr\u003e\n",
              "    \u003ctr\u003e\n",
              "      \u003cth\u003e6\u003c/th\u003e\n",
              "      \u003ctd\u003e5828\u003c/td\u003e\n",
              "      \u003ctd\u003e327\u003c/td\u003e\n",
              "      \u003ctd\u003e1429\u003c/td\u003e\n",
              "      \u003ctd\u003e257\u003c/td\u003e\n",
              "    \u003c/tr\u003e\n",
              "    \u003ctr\u003e\n",
              "      \u003cth rowspan=\"6\" valign=\"top\"\u003eSP11\u003c/th\u003e\n",
              "      \u003cth\u003e1\u003c/th\u003e\n",
              "      \u003ctd\u003e4883\u003c/td\u003e\n",
              "      \u003ctd\u003e16295\u003c/td\u003e\n",
              "      \u003ctd\u003e5545\u003c/td\u003e\n",
              "      \u003ctd\u003e5520\u003c/td\u003e\n",
              "    \u003c/tr\u003e\n",
              "    \u003ctr\u003e\n",
              "      \u003cth\u003e2\u003c/th\u003e\n",
              "      \u003ctd\u003e264\u003c/td\u003e\n",
              "      \u003ctd\u003e12519\u003c/td\u003e\n",
              "      \u003ctd\u003e314\u003c/td\u003e\n",
              "      \u003ctd\u003e113\u003c/td\u003e\n",
              "    \u003c/tr\u003e\n",
              "    \u003ctr\u003e\n",
              "      \u003cth\u003e3\u003c/th\u003e\n",
              "      \u003ctd\u003e425\u003c/td\u003e\n",
              "      \u003ctd\u003e16514\u003c/td\u003e\n",
              "      \u003ctd\u003e497\u003c/td\u003e\n",
              "      \u003ctd\u003e189\u003c/td\u003e\n",
              "    \u003c/tr\u003e\n",
              "    \u003ctr\u003e\n",
              "      \u003cth\u003e4\u003c/th\u003e\n",
              "      \u003ctd\u003e614\u003c/td\u003e\n",
              "      \u003ctd\u003e13933\u003c/td\u003e\n",
              "      \u003ctd\u003e1218\u003c/td\u003e\n",
              "      \u003ctd\u003e400\u003c/td\u003e\n",
              "    \u003c/tr\u003e\n",
              "    \u003ctr\u003e\n",
              "      \u003cth\u003e5\u003c/th\u003e\n",
              "      \u003ctd\u003e1422\u003c/td\u003e\n",
              "      \u003ctd\u003e15862\u003c/td\u003e\n",
              "      \u003ctd\u003e3143\u003c/td\u003e\n",
              "      \u003ctd\u003e839\u003c/td\u003e\n",
              "    \u003c/tr\u003e\n",
              "    \u003ctr\u003e\n",
              "      \u003cth\u003e6\u003c/th\u003e\n",
              "      \u003ctd\u003e2207\u003c/td\u003e\n",
              "      \u003ctd\u003e14769\u003c/td\u003e\n",
              "      \u003ctd\u003e4215\u003c/td\u003e\n",
              "      \u003ctd\u003e1333\u003c/td\u003e\n",
              "    \u003c/tr\u003e\n",
              "    \u003ctr\u003e\n",
              "      \u003cth rowspan=\"6\" valign=\"top\"\u003eSP12\u003c/th\u003e\n",
              "      \u003cth\u003e1\u003c/th\u003e\n",
              "      \u003ctd\u003e3003\u003c/td\u003e\n",
              "      \u003ctd\u003e2823\u003c/td\u003e\n",
              "      \u003ctd\u003e17818\u003c/td\u003e\n",
              "      \u003ctd\u003e1785\u003c/td\u003e\n",
              "    \u003c/tr\u003e\n",
              "    \u003ctr\u003e\n",
              "      \u003cth\u003e2\u003c/th\u003e\n",
              "      \u003ctd\u003e447\u003c/td\u003e\n",
              "      \u003ctd\u003e218\u003c/td\u003e\n",
              "      \u003ctd\u003e19335\u003c/td\u003e\n",
              "      \u003ctd\u003e178\u003c/td\u003e\n",
              "    \u003c/tr\u003e\n",
              "    \u003ctr\u003e\n",
              "      \u003cth\u003e3\u003c/th\u003e\n",
              "      \u003ctd\u003e1556\u003c/td\u003e\n",
              "      \u003ctd\u003e1745\u003c/td\u003e\n",
              "      \u003ctd\u003e5446\u003c/td\u003e\n",
              "      \u003ctd\u003e1227\u003c/td\u003e\n",
              "    \u003c/tr\u003e\n",
              "    \u003ctr\u003e\n",
              "      \u003cth\u003e4\u003c/th\u003e\n",
              "      \u003ctd\u003e1658\u003c/td\u003e\n",
              "      \u003ctd\u003e1267\u003c/td\u003e\n",
              "      \u003ctd\u003e18392\u003c/td\u003e\n",
              "      \u003ctd\u003e1094\u003c/td\u003e\n",
              "    \u003c/tr\u003e\n",
              "    \u003ctr\u003e\n",
              "      \u003cth\u003e5\u003c/th\u003e\n",
              "      \u003ctd\u003e2033\u003c/td\u003e\n",
              "      \u003ctd\u003e2202\u003c/td\u003e\n",
              "      \u003ctd\u003e15735\u003c/td\u003e\n",
              "      \u003ctd\u003e1627\u003c/td\u003e\n",
              "    \u003c/tr\u003e\n",
              "    \u003ctr\u003e\n",
              "      \u003cth\u003e6\u003c/th\u003e\n",
              "      \u003ctd\u003e1398\u003c/td\u003e\n",
              "      \u003ctd\u003e957\u003c/td\u003e\n",
              "      \u003ctd\u003e12293\u003c/td\u003e\n",
              "      \u003ctd\u003e675\u003c/td\u003e\n",
              "    \u003c/tr\u003e\n",
              "    \u003ctr\u003e\n",
              "      \u003cth rowspan=\"6\" valign=\"top\"\u003eSP13\u003c/th\u003e\n",
              "      \u003cth\u003e1\u003c/th\u003e\n",
              "      \u003ctd\u003e6078\u003c/td\u003e\n",
              "      \u003ctd\u003e6384\u003c/td\u003e\n",
              "      \u003ctd\u003e6886\u003c/td\u003e\n",
              "      \u003ctd\u003e13344\u003c/td\u003e\n",
              "    \u003c/tr\u003e\n",
              "    \u003ctr\u003e\n",
              "      \u003cth\u003e2\u003c/th\u003e\n",
              "      \u003ctd\u003e157\u003c/td\u003e\n",
              "      \u003ctd\u003e67\u003c/td\u003e\n",
              "      \u003ctd\u003e275\u003c/td\u003e\n",
              "      \u003ctd\u003e6867\u003c/td\u003e\n",
              "    \u003c/tr\u003e\n",
              "    \u003ctr\u003e\n",
              "      \u003cth\u003e3\u003c/th\u003e\n",
              "      \u003ctd\u003e51\u003c/td\u003e\n",
              "      \u003ctd\u003e11\u003c/td\u003e\n",
              "      \u003ctd\u003e126\u003c/td\u003e\n",
              "      \u003ctd\u003e702\u003c/td\u003e\n",
              "    \u003c/tr\u003e\n",
              "    \u003ctr\u003e\n",
              "      \u003cth\u003e4\u003c/th\u003e\n",
              "      \u003ctd\u003e1616\u003c/td\u003e\n",
              "      \u003ctd\u003e1548\u003c/td\u003e\n",
              "      \u003ctd\u003e2900\u003c/td\u003e\n",
              "      \u003ctd\u003e12098\u003c/td\u003e\n",
              "    \u003c/tr\u003e\n",
              "    \u003ctr\u003e\n",
              "      \u003cth\u003e5\u003c/th\u003e\n",
              "      \u003ctd\u003e3172\u003c/td\u003e\n",
              "      \u003ctd\u003e3536\u003c/td\u003e\n",
              "      \u003ctd\u003e5659\u003c/td\u003e\n",
              "      \u003ctd\u003e14169\u003c/td\u003e\n",
              "    \u003c/tr\u003e\n",
              "    \u003ctr\u003e\n",
              "      \u003cth\u003e6\u003c/th\u003e\n",
              "      \u003ctd\u003e2442\u003c/td\u003e\n",
              "      \u003ctd\u003e1188\u003c/td\u003e\n",
              "      \u003ctd\u003e4550\u003c/td\u003e\n",
              "      \u003ctd\u003e4972\u003c/td\u003e\n",
              "    \u003c/tr\u003e\n",
              "  \u003c/tbody\u003e\n",
              "\u003c/table\u003e\n",
              "\u003c/div\u003e"
            ],
            "text/plain": [
              "Fd                  SP10   SP11   SP12   SP13\n",
              "aptamer exp_cycle                            \n",
              "SP10    1           6539   2096   1009    885\n",
              "        2           8833    116    347    107\n",
              "        3          11316    155    298    179\n",
              "        4          11440    317    595    242\n",
              "        5          10404    236   1221    178\n",
              "        6           5828    327   1429    257\n",
              "SP11    1           4883  16295   5545   5520\n",
              "        2            264  12519    314    113\n",
              "        3            425  16514    497    189\n",
              "        4            614  13933   1218    400\n",
              "        5           1422  15862   3143    839\n",
              "        6           2207  14769   4215   1333\n",
              "SP12    1           3003   2823  17818   1785\n",
              "        2            447    218  19335    178\n",
              "        3           1556   1745   5446   1227\n",
              "        4           1658   1267  18392   1094\n",
              "        5           2033   2202  15735   1627\n",
              "        6           1398    957  12293    675\n",
              "SP13    1           6078   6384   6886  13344\n",
              "        2            157     67    275   6867\n",
              "        3             51     11    126    702\n",
              "        4           1616   1548   2900  12098\n",
              "        5           3172   3536   5659  14169\n",
              "        6           2442   1188   4550   4972"
            ]
          },
          "execution_count": 8,
          "metadata": {},
          "output_type": "execute_result"
        }
      ],
      "source": [
        "# Drop empty foundations and produce table\n",
        "six_cycle_table_df = exp_plot_agg_df[exp_plot_agg_df.Fd != 'Foundation']  \n",
        "six_cycle_table_df.pivot(index=['aptamer', 'exp_cycle'], columns=['Fd'], \n",
        "                         values='count').astype(int)"
      ]
    },
    {
      "cell_type": "markdown",
      "metadata": {
        "id": "Lik-Amwg_eLt"
      },
      "source": [
        "## Experiment Cycle, Yield Line Plot"
      ]
    },
    {
      "cell_type": "code",
      "execution_count": null,
      "metadata": {
        "id": "KoYkSAls7DTh"
      },
      "outputs": [],
      "source": [
        "def check_n_name_match(label_str):  \n",
        "  '''Determine the number of exact matches for a particular foundation.'''\n",
        "  fd_str_list = str(label_str).split(';')\n",
        "  fd_str_list = [elem for elem in fd_str_list if 'SA' in elem or 'SP' in elem]\n",
        "  if len(fd_str_list) \u003e 0 and 'Fd' in fd_str_list[0]:\n",
        "    tag = fd_str_list[0].split('_')[-1]\n",
        "    # Get last two characters since numbers are  2-digits.\n",
        "    match_tag = '.SA'+tag[-2:]+'-'  \n",
        "    matches = []\n",
        "    for elem in fd_str_list[1:]:\n",
        "      if match_tag not in elem:\n",
        "        matches.append(0)\n",
        "      else:\n",
        "        matches.append(int(elem.split('-')[-1]))\n",
        "    n_matches = 0\n",
        "    #print (matches)\n",
        "    for i, match in enumerate(matches):\n",
        "      if i \u003c 5 and match == i+1:\n",
        "        n_matches = i+1\n",
        "      elif match == (i+1)-6:\n",
        "        n_matches = i+1\n",
        "      else:\n",
        "        return n_matches\n",
        "    return n_matches\n",
        "  \n",
        "def get_foundation_name(label_str):  \n",
        "  '''From the match string identify the foundation.'''\n",
        "  fd_str_list = str(label_str).split(';')\n",
        "  fd_str_list = [elem for elem in fd_str_list if 'SP' in elem]\n",
        "  if len(fd_str_list) \u003e 0 and 'Fd' in fd_str_list[0]:\n",
        "    tag = fd_str_list[0].split('_')[-1]\n",
        "    return tag\n",
        "  return None"
      ]
    },
    {
      "cell_type": "code",
      "execution_count": null,
      "metadata": {
        "id": "rxGz_H_m8UqL"
      },
      "outputs": [],
      "source": [
        "def make_count_vs_cycle_line_plot(full_df):\n",
        "  fds = []\n",
        "  counts = []\n",
        "  cycles = []\n",
        "  bcs_nonzero_df = full_df[full_df['check_n_name_match'] \u003e 0]\n",
        "  for fd in full_df.base_foundation.unique():\n",
        "    temp_df = bcs_nonzero_df[(bcs_nonzero_df['base_foundation'] == fd)]\n",
        "    for i in range (1, 13): # Optional limit to check 12-cycle experiments.\n",
        "      count =  temp_df[(temp_df['check_n_name_match'] \u003e= i)]['count'].sum()\n",
        "      counts.append(count)\n",
        "      cycles.append(i)\n",
        "      fds.append(fd)\n",
        "  line_df = pd.DataFrame.from_dict({'Fd': fds, 'count': counts, \n",
        "                                    'Experimental Cycle Number': cycles})\n",
        "  line_df['Log Count'] = np.log(line_df['count']+1)\n",
        "\n",
        "  max_cycles = max(line_df[line_df['count'] \u003e 0]['Experimental Cycle Number'])\n",
        "  plt.figure(figsize=(float(max_cycles) / 2., 6))\n",
        "  sns.lineplot(data=line_df[line_df['Experimental Cycle Number'] \u003c= max_cycles], \n",
        "               x='Experimental Cycle Number', y='Log Count', hue='Fd')\n",
        "  plt.legend()\n",
        "  return line_df"
      ]
    },
    {
      "cell_type": "code",
      "execution_count": null,
      "metadata": {
        "colab": {
          "height": 388
        },
        "executionInfo": {
          "elapsed": 3986,
          "status": "ok",
          "timestamp": 1632439448761,
          "user": {
            "displayName": "",
            "photoUrl": "",
            "userId": ""
          },
          "user_tz": 420
        },
        "id": "TZ1Dxm6xq09d",
        "outputId": "80c61a64-c923-48b7-830d-6f2ca3c07ff7"
      },
      "outputs": [
        {
          "data": {
            "image/png": "[encoded data removed]",
            "text/plain": [
              "\u003cFigure size 300x600 with 1 Axes\u003e"
            ]
          },
          "metadata": {},
          "output_type": "display_data"
        }
      ],
      "source": [
        "# Note the affect of the random number generator variance is most apparent in\n",
        "# the low counts of the last cycle in the line plot figure below. \n",
        "full_df['base_foundation'] = full_df.ordered_foundation_labels.apply(get_foundation_name)\n",
        "full_df['check_n_name_match'] = full_df.ordered_foundation_labels.apply(check_n_name_match)\n",
        "_ = make_count_vs_cycle_line_plot(full_df)"
      ]
    }
  ],
  "metadata": {
    "colab": {
      "collapsed_sections": [],
      "last_runtime": {
        "build_target": "//research/biology/collaborations/aptamers:notebook",
        "kind": "shared"
      },
      "name": "BCS ProtSeq 6 Cycle Data Set.ipynb",
      "provenance": [
        {
          "file_id": "1Q0YxXEfS56FhqHGZZUnGj3ALT5X6Mc0B",
          "timestamp": 1632432735326
        },
        {
          "file_id": "1JKB4cfTBGAA_G7VGD8JyWV4-2Abvrb6R",
          "timestamp": 1632269031835
        },
        {
          "file_id": "1cb2VRGK_z0qq0mUlxXKdCfuXBs4M1iP3",
          "timestamp": 1632263844965
        },
        {
          "file_id": "1fONwpc7if6IkMxFexvXvYkFqv1FB5NaG",
          "timestamp": 1631737568145
        },
        {
          "file_id": "1ZlC9Jz_Zaw5TCS7AuD_yxQDG4sQD9Jtd",
          "timestamp": 1631720954129
        }
      ]
    },
    "kernelspec": {
      "display_name": "Python 3",
      "name": "python3"
    },
    "language_info": {
      "name": "python"
    }
  },
  "nbformat": 4,
  "nbformat_minor": 0
}
