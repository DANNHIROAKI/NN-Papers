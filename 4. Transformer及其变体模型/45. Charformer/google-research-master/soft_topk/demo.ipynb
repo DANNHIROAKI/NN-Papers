{
 "cells": [
  {
   "cell_type": "code",
   "execution_count": null,
   "metadata": {},
   "outputs": [],
   "source": [
    "# Copyright 2020 The Google Research Authors.\n",
    "#\n",
    "# Licensed under the Apache License, Version 2.0 (the \"License\");\n",
    "# you may not use this file except in compliance with the License.\n",
    "# You may obtain a copy of the License at\n",
    "#\n",
    "#     http://www.apache.org/licenses/LICENSE-2.0\n",
    "#\n",
    "# Unless required by applicable law or agreed to in writing, software\n",
    "# distributed under the License is distributed on an \"AS IS\" BASIS,\n",
    "# WITHOUT WARRANTIES OR CONDITIONS OF ANY KIND, either express or implied.\n",
    "# See the License for the specific language governing permissions and\n",
    "# limitations under the License."
   ]
  },
  {
   "cell_type": "markdown",
   "metadata": {},
   "source": [
    "'''\n",
    "# Introduction\n",
    "\n",
    "This is a demo of the SOFT top-k operator (https://arxiv.org/pdf/2002.06504.pdf). \n",
    "We demostrate the usage of the provided `Topk_custom` module in the forward and the backward pass.\n",
    "\n",
    "'''"
   ]
  },
  {
   "cell_type": "code",
   "execution_count": 151,
   "metadata": {},
   "outputs": [],
   "source": [
    "'''\n",
    "# Set up\n",
    "'''\n",
    "import torch\n",
    "from torch.nn.parameter import Parameter\n",
    "import numpy as np\n",
    "import soft_ot as soft\n",
    "import matplotlib.pyplot as plt\n",
    "import matplotlib\n",
    "matplotlib.rc('xtick', labelsize=20) \n",
    "matplotlib.rc('ytick', labelsize=20) \n",
    "\n",
    "torch.manual_seed(1)\n",
    "num_iter = int(1e2)\n",
    "k = 3\n",
    "epsilon=5e-2 # larger epsilon lead to smoother relaxation, and requires less num_iter"
   ]
  },
  {
   "cell_type": "code",
   "execution_count": 152,
   "metadata": {},
   "outputs": [],
   "source": [
    "soft_topk = soft.TopK_custom(k, epsilon=epsilon, max_iter=num_iter) "
   ]
  },
  {
   "cell_type": "code",
   "execution_count": 153,
   "metadata": {},
   "outputs": [
    {
     "name": "stdout",
     "output_type": "stream",
     "text": [
      "======scores======\n",
      "[5, 2, 3, 4, 1, 6]\n"
     ]
    }
   ],
   "source": [
    "'''\n",
    "# Input the scores\n",
    "'''\n",
    "scores = [5,2,3,4,1,6] #input the scores here\n",
    "scores_tensor = Parameter(torch.FloatTensor([scores]))\n",
    "print('======scores======')\n",
    "print(scores)"
   ]
  },
  {
   "cell_type": "code",
   "execution_count": 154,
   "metadata": {},
   "outputs": [
    {
     "name": "stdout",
     "output_type": "stream",
     "text": [
      "======topk scores======\n",
      "[0.15886909 0.84113085 0.63542354 0.36457655 0.9414631  0.05853688]\n"
     ]
    },
    {
     "data": {
      "image/png": "[encoded data removed]",
      "text/plain": [
       "<Figure size 432x288 with 2 Axes>"
      ]
     },
     "metadata": {
      "needs_background": "light"
     },
     "output_type": "display_data"
    }
   ],
   "source": [
    "'''\n",
    "# Forward pass. \n",
    "The goal of the forward pass is to identify the scores that belongs to top-k. \n",
    "The `soft_topk` object returns a smoothed indicator function: The entries are close to 1 for top-k scores, and close to 0 for non-top-k scores.\n",
    "The smoothness is controled by hyper-parameter `epsilon`.\n",
    "'''\n",
    "A = soft_topk(scores_tensor)\n",
    "indicator_vector = A.data.numpy()\n",
    "print('======topk scores======')\n",
    "print(indicator_vector[0,:])\n",
    "\n",
    "plt.imshow(indicator_vector, cmap='Greys')\n",
    "# plt.axis('off')\n",
    "plt.yticks([])\n",
    "plt.xticks(range(len(scores)), scores)\n",
    "plt.colorbar()\n",
    "plt.show()"
   ]
  },
  {
   "cell_type": "code",
   "execution_count": 155,
   "metadata": {},
   "outputs": [
    {
     "name": "stdout",
     "output_type": "stream",
     "text": [
      "======w.r.t score grad======\n",
      "[[ 0.10541585 -0.04306151 -0.07465184 -0.07465144  0.04347444  0.04347456]]\n"
     ]
    }
   ],
   "source": [
    "'''\n",
    "# Backward Pass\n",
    "\n",
    "The goal of training is to push the scores that should have been top-k to really be top-k. \n",
    "For example, in neural kNN, we want to push the scores with the same labels as the query sample to be top-k.\n",
    "In this demo, we mimick the loss function of neural kNN. \n",
    "`picked` is the scores ids with the same label as the query sample. Our training goal is to push them to be top-k.\n",
    "'''\n",
    "\n",
    "picked = [1,2,3]\n",
    "loss = 0\n",
    "for item in picked:\n",
    "    loss += A[0,item]\n",
    "loss.backward()\n",
    "A_grad = scores_tensor.grad.clone()\n",
    "print('======w.r.t score grad======')\n",
    "print(A_grad.data.numpy())"
   ]
  },
  {
   "cell_type": "code",
   "execution_count": 156,
   "metadata": {},
   "outputs": [
    {
     "data": {
      "image/png": "[encoded data removed]",
      "text/plain": [
       "<Figure size 432x360 with 1 Axes>"
      ]
     },
     "metadata": {
      "needs_background": "light"
     },
     "output_type": "display_data"
    }
   ],
   "source": [
    "'''\n",
    "# Visualization of the Grad\n",
    "'''\n",
    "\n",
    "x = scores\n",
    "grad = A_grad.numpy()[0,:]\n",
    "grad = grad/np.linalg.norm(grad)\n",
    "plt.figure(figsize=(len(scores),5))\n",
    "plt.scatter(range(len(x)), x)\n",
    "picked_scores = [x[item] for item in picked]\n",
    "plt.scatter(picked, picked_scores, label='scores we want to push to smallest top-k')\n",
    "for i, item in enumerate(x):\n",
    "    plt.arrow(i, item, 0, grad[i], head_width=abs(grad[i])/4, fc='k')\n",
    "plt.xticks(range(len(x)), x)\n",
    "plt.yticks([])\n",
    "plt.xlim([-0.5, len(scores)-0.5])\n",
    "plt.ylim([min(scores)-1, max(scores)+1])\n",
    "plt.legend()\n",
    "plt.show()"
   ]
  },
  {
   "cell_type": "code",
   "execution_count": 150,
   "metadata": {},
   "outputs": [
    {
     "data": {
      "text/plain": [
       "tensor([[0., 0., 0., 0., 0., 0.]])"
      ]
     },
     "execution_count": 150,
     "metadata": {},
     "output_type": "execute_result"
    }
   ],
   "source": [
    "# clear the grad before rerun the forward-backward code\n",
    "scores_tensor.grad.data.zero_()"
   ]
  },
  {
   "cell_type": "code",
   "execution_count": null,
   "metadata": {},
   "outputs": [],
   "source": []
  }
 ],
 "metadata": {
  "kernelspec": {
   "display_name": "Python 3",
   "language": "python",
   "name": "python3"
  },
  "language_info": {
   "codemirror_mode": {
    "name": "ipython",
    "version": 3
   },
   "file_extension": ".py",
   "mimetype": "text/x-python",
   "name": "python",
   "nbconvert_exporter": "python",
   "pygments_lexer": "ipython3",
   "version": "3.7.7"
  }
 },
 "nbformat": 4,
 "nbformat_minor": 4
}
