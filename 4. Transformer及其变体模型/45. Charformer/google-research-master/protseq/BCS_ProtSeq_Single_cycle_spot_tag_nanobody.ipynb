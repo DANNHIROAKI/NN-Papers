{
  "cells": [
    {
      "cell_type": "code",
      "execution_count": null,
      "metadata": {
        "id": "5QoWip9KktQ0"
      },
      "outputs": [],
      "source": [
        "\"\"\"Licensed under the Apache License, Version 2.0.\"\"\"\n",
        "\n",
        "import matplotlib.pyplot as plt\n",
        "import seaborn as sns\n",
        "\n",
        "from IPython import display\n",
        "import pandas as pd\n",
        "\n",
        "# Library of analysis code common to experiments.\n",
        "import protseq_analysis"
      ]
    },
    {
      "cell_type": "code",
      "execution_count": null,
      "metadata": {
        "id": "q3SmkvGjEwK8"
      },
      "outputs": [],
      "source": [
        "# Download the dataset from:\n",
        "# Jess, Phillip (2021), “ProtSeq Data”, Mendeley Data, V1, doi: 10.17632/f9hdn5xc3v.1\n",
        "# https://data.mendeley.com/datasets/f9hdn5xc3v/1\n",
        "\n",
        "!wget https://data.mendeley.com/public-files/datasets/f9hdn5xc3v/files/d4ce0d83-88c6-4208-8e98-adc074c65b55/file_downloaded -O \"peptide nanobody BCS Base calls.fastq.gz\"\n",
        "!wget https://data.mendeley.com/public-files/datasets/f9hdn5xc3v/files/327343b8-11af-4fbc-afa9-2aeb07c3c8e7/file_downloaded -O \"peptide nanobody BCS undertermined calls.fastq.gz\""
      ]
    },
    {
      "cell_type": "code",
      "execution_count": null,
      "metadata": {
        "id": "1nyn2171wDJ8"
      },
      "outputs": [],
      "source": [
        "expt_dict = {\n",
        "    'base': ['peptide nanobody BCS Base calls.fastq.gz'],\n",
        "    'undertermined': ['peptide nanobody BCS undertermined calls.fastq.gz'],\n",
        "}\n",
        "\n",
        "component_names_str = '''\n",
        "5Phos.O1_BCS4_Fd7\tATCAAGGC\n",
        "5Phos.O1_BCS4_Fd8\tCTAGTACG\n",
        "5Phos.O1_BCS4_Fd11\tTGCGTACA\n",
        "Brady.O1_BCS4_Fd12\tTGCAAACG\n",
        "Brady.O1_BCS4_Fd13\tCGGAAAGA\n",
        "Brady.O1_BCS4_Fd14\tGTGAGCAA\n",
        "SP4.O1_BCS4_Fd15\tCGTAACTC\n",
        "SP4.O1_BCS4_Fd16\tCTATATCA\n",
        "SP4.O1_BCS4_Fd17\tTCTAAGGT\n",
        "Spot-Tag.O1_BCS4_Fd31\tAGATGCCA\n",
        "Spot-Tag.O1_BCS4_Fd19\tTGGTACCT\n",
        "Spot-Tag.O1_BCS4_Fd20\tCGTAAGTG\n",
        "SP6.O1_BCS4_Fd21\tGCAGTACT\n",
        "SP6.O1_BCS4_Fd22\tTTGCCCAA\n",
        "SP6.O1_BCS4_Fd23\tACGTGGAA\n",
        "CLR.Null.Blk_BCS4_Fd24\tTTGCTCCT\n",
        "CLR.Null.Blk_BCS4_Fd25\tGAAGGGAA\n",
        "CLR.Null.Blk_BCS4_Fd26\tACCTCAGA\n",
        "Spot-Tag.O1_BCS4_Fd27\tCCACATGA\n",
        "Spot-Tag.O1_BCS4_Fd28\tGTTTGGTG\n",
        "Spot-Tag.O1_BCS4_Fd29\tGGGACAAT\n",
        "AV.B4.U2.SA1.3\tCTTGTATCTAGG\n",
        "AV.B4.U2.SA2.3\tAATGCCGAAGGT\n",
        "AV.B4.U2.SA4.2\tACGTCGCCAATT\n",
        "Spot_B4.Br.A4.R\tCCGGTTAACAAA\n",
        "'''\n",
        "\n",
        "subseqs, component_dict, _ = protseq_analysis.get_subseqs_from_component_names(component_names_str)\n",
        "foundation_dict = protseq_analysis.get_foundation_dict(component_dict)\n",
        "full_df = protseq_analysis.read_fastqs_for_experiment(expt_dict, num_reads=100000000, subseqs=subseqs, n_common=50000000, dist_for_clustering=0)"
      ]
    },
    {
      "cell_type": "code",
      "execution_count": null,
      "metadata": {
        "id": "zMZoaQG1A2Bv"
      },
      "outputs": [],
      "source": [
        "cycle_dfs, cycle_correspondence = protseq_analysis.foundation_partner_cycle_table(full_df, foundation_dict,\n",
        "                                                                          component_dict, cycles_to_check=1, heatmap=False,\n",
        "                                                                          allow_overlaps=False)\n",
        "first_cycle_df = cycle_dfs[1]\n",
        "first_cycle_df['binder'] = ['SP4.2', 'SP6', 'SP9 (Neg. Ctrl)', 'Spot-Tag']\n",
        "plot_df = protseq_analysis.make_plot_df(first_cycle_df)"
      ]
    },
    {
      "cell_type": "code",
      "execution_count": null,
      "metadata": {
        "colab": {
          "height": 762
        },
        "executionInfo": {
          "elapsed": 290,
          "status": "ok",
          "timestamp": 1632439890726,
          "user": {
            "displayName": "",
            "photoUrl": "",
            "userId": ""
          },
          "user_tz": 420
        },
        "id": "MeZ9wC0crebN",
        "outputId": "4d772b03-d70d-40c0-de16-42ad3c8c58f5"
      },
      "outputs": [
        {
          "data": {
            "text/html": [
              "\u003cdiv\u003e\n",
              "\u003cstyle scoped\u003e\n",
              "    .dataframe tbody tr th:only-of-type {\n",
              "        vertical-align: middle;\n",
              "    }\n",
              "\n",
              "    .dataframe tbody tr th {\n",
              "        vertical-align: top;\n",
              "    }\n",
              "\n",
              "    .dataframe thead th {\n",
              "        text-align: right;\n",
              "    }\n",
              "\u003c/style\u003e\n",
              "\u003ctable border=\"1\" class=\"dataframe\"\u003e\n",
              "  \u003cthead\u003e\n",
              "    \u003ctr style=\"text-align: right;\"\u003e\n",
              "      \u003cth\u003e\u003c/th\u003e\n",
              "      \u003cth\u003eBinder for\u003c/th\u003e\n",
              "      \u003cth\u003eSP4.2\u003c/th\u003e\n",
              "      \u003cth\u003eSP6\u003c/th\u003e\n",
              "      \u003cth\u003eSP9 (Neg. Ctrl)\u003c/th\u003e\n",
              "      \u003cth\u003eSpot-Tag\u003c/th\u003e\n",
              "    \u003c/tr\u003e\n",
              "    \u003ctr\u003e\n",
              "      \u003cth\u003eBinder Target\u003c/th\u003e\n",
              "      \u003cth\u003eTarget Foundation\u003c/th\u003e\n",
              "      \u003cth\u003e\u003c/th\u003e\n",
              "      \u003cth\u003e\u003c/th\u003e\n",
              "      \u003cth\u003e\u003c/th\u003e\n",
              "      \u003cth\u003e\u003c/th\u003e\n",
              "    \u003c/tr\u003e\n",
              "  \u003c/thead\u003e\n",
              "  \u003ctbody\u003e\n",
              "    \u003ctr\u003e\n",
              "      \u003cth rowspan=\"3\" valign=\"top\"\u003e5Phos\u003c/th\u003e\n",
              "      \u003cth\u003eFd11\u003c/th\u003e\n",
              "      \u003ctd\u003e180\u003c/td\u003e\n",
              "      \u003ctd\u003e970\u003c/td\u003e\n",
              "      \u003ctd\u003e1\u003c/td\u003e\n",
              "      \u003ctd\u003e288\u003c/td\u003e\n",
              "    \u003c/tr\u003e\n",
              "    \u003ctr\u003e\n",
              "      \u003cth\u003eFd7\u003c/th\u003e\n",
              "      \u003ctd\u003e679\u003c/td\u003e\n",
              "      \u003ctd\u003e1269\u003c/td\u003e\n",
              "      \u003ctd\u003e4\u003c/td\u003e\n",
              "      \u003ctd\u003e611\u003c/td\u003e\n",
              "    \u003c/tr\u003e\n",
              "    \u003ctr\u003e\n",
              "      \u003cth\u003eFd8\u003c/th\u003e\n",
              "      \u003ctd\u003e91\u003c/td\u003e\n",
              "      \u003ctd\u003e523\u003c/td\u003e\n",
              "      \u003ctd\u003e0\u003c/td\u003e\n",
              "      \u003ctd\u003e175\u003c/td\u003e\n",
              "    \u003c/tr\u003e\n",
              "    \u003ctr\u003e\n",
              "      \u003cth rowspan=\"3\" valign=\"top\"\u003eBrady\u003c/th\u003e\n",
              "      \u003cth\u003eFd12\u003c/th\u003e\n",
              "      \u003ctd\u003e24\u003c/td\u003e\n",
              "      \u003ctd\u003e116\u003c/td\u003e\n",
              "      \u003ctd\u003e0\u003c/td\u003e\n",
              "      \u003ctd\u003e42\u003c/td\u003e\n",
              "    \u003c/tr\u003e\n",
              "    \u003ctr\u003e\n",
              "      \u003cth\u003eFd13\u003c/th\u003e\n",
              "      \u003ctd\u003e516\u003c/td\u003e\n",
              "      \u003ctd\u003e1611\u003c/td\u003e\n",
              "      \u003ctd\u003e4\u003c/td\u003e\n",
              "      \u003ctd\u003e1663\u003c/td\u003e\n",
              "    \u003c/tr\u003e\n",
              "    \u003ctr\u003e\n",
              "      \u003cth\u003eFd14\u003c/th\u003e\n",
              "      \u003ctd\u003e222\u003c/td\u003e\n",
              "      \u003ctd\u003e1113\u003c/td\u003e\n",
              "      \u003ctd\u003e1\u003c/td\u003e\n",
              "      \u003ctd\u003e603\u003c/td\u003e\n",
              "    \u003c/tr\u003e\n",
              "    \u003ctr\u003e\n",
              "      \u003cth rowspan=\"3\" valign=\"top\"\u003eCLR\u003c/th\u003e\n",
              "      \u003cth\u003eFd24\u003c/th\u003e\n",
              "      \u003ctd\u003e224\u003c/td\u003e\n",
              "      \u003ctd\u003e1061\u003c/td\u003e\n",
              "      \u003ctd\u003e2\u003c/td\u003e\n",
              "      \u003ctd\u003e405\u003c/td\u003e\n",
              "    \u003c/tr\u003e\n",
              "    \u003ctr\u003e\n",
              "      \u003cth\u003eFd25\u003c/th\u003e\n",
              "      \u003ctd\u003e233\u003c/td\u003e\n",
              "      \u003ctd\u003e930\u003c/td\u003e\n",
              "      \u003ctd\u003e3\u003c/td\u003e\n",
              "      \u003ctd\u003e558\u003c/td\u003e\n",
              "    \u003c/tr\u003e\n",
              "    \u003ctr\u003e\n",
              "      \u003cth\u003eFd26\u003c/th\u003e\n",
              "      \u003ctd\u003e81\u003c/td\u003e\n",
              "      \u003ctd\u003e361\u003c/td\u003e\n",
              "      \u003ctd\u003e0\u003c/td\u003e\n",
              "      \u003ctd\u003e92\u003c/td\u003e\n",
              "    \u003c/tr\u003e\n",
              "    \u003ctr\u003e\n",
              "      \u003cth\u003eEmpty\u003c/th\u003e\n",
              "      \u003cth\u003eEmpty\u003c/th\u003e\n",
              "      \u003ctd\u003e0\u003c/td\u003e\n",
              "      \u003ctd\u003e0\u003c/td\u003e\n",
              "      \u003ctd\u003e0\u003c/td\u003e\n",
              "      \u003ctd\u003e0\u003c/td\u003e\n",
              "    \u003c/tr\u003e\n",
              "    \u003ctr\u003e\n",
              "      \u003cth rowspan=\"3\" valign=\"top\"\u003eSP4\u003c/th\u003e\n",
              "      \u003cth\u003eFd15\u003c/th\u003e\n",
              "      \u003ctd\u003e7201\u003c/td\u003e\n",
              "      \u003ctd\u003e397\u003c/td\u003e\n",
              "      \u003ctd\u003e0\u003c/td\u003e\n",
              "      \u003ctd\u003e207\u003c/td\u003e\n",
              "    \u003c/tr\u003e\n",
              "    \u003ctr\u003e\n",
              "      \u003cth\u003eFd16\u003c/th\u003e\n",
              "      \u003ctd\u003e8399\u003c/td\u003e\n",
              "      \u003ctd\u003e447\u003c/td\u003e\n",
              "      \u003ctd\u003e2\u003c/td\u003e\n",
              "      \u003ctd\u003e107\u003c/td\u003e\n",
              "    \u003c/tr\u003e\n",
              "    \u003ctr\u003e\n",
              "      \u003cth\u003eFd17\u003c/th\u003e\n",
              "      \u003ctd\u003e11355\u003c/td\u003e\n",
              "      \u003ctd\u003e441\u003c/td\u003e\n",
              "      \u003ctd\u003e1\u003c/td\u003e\n",
              "      \u003ctd\u003e188\u003c/td\u003e\n",
              "    \u003c/tr\u003e\n",
              "    \u003ctr\u003e\n",
              "      \u003cth rowspan=\"3\" valign=\"top\"\u003eSP6\u003c/th\u003e\n",
              "      \u003cth\u003eFd21\u003c/th\u003e\n",
              "      \u003ctd\u003e83\u003c/td\u003e\n",
              "      \u003ctd\u003e28641\u003c/td\u003e\n",
              "      \u003ctd\u003e3\u003c/td\u003e\n",
              "      \u003ctd\u003e129\u003c/td\u003e\n",
              "    \u003c/tr\u003e\n",
              "    \u003ctr\u003e\n",
              "      \u003cth\u003eFd22\u003c/th\u003e\n",
              "      \u003ctd\u003e82\u003c/td\u003e\n",
              "      \u003ctd\u003e28871\u003c/td\u003e\n",
              "      \u003ctd\u003e1\u003c/td\u003e\n",
              "      \u003ctd\u003e148\u003c/td\u003e\n",
              "    \u003c/tr\u003e\n",
              "    \u003ctr\u003e\n",
              "      \u003cth\u003eFd23\u003c/th\u003e\n",
              "      \u003ctd\u003e50\u003c/td\u003e\n",
              "      \u003ctd\u003e21007\u003c/td\u003e\n",
              "      \u003ctd\u003e0\u003c/td\u003e\n",
              "      \u003ctd\u003e96\u003c/td\u003e\n",
              "    \u003c/tr\u003e\n",
              "    \u003ctr\u003e\n",
              "      \u003cth rowspan=\"6\" valign=\"top\"\u003eSpot-Tag\u003c/th\u003e\n",
              "      \u003cth\u003eFd19\u003c/th\u003e\n",
              "      \u003ctd\u003e132\u003c/td\u003e\n",
              "      \u003ctd\u003e485\u003c/td\u003e\n",
              "      \u003ctd\u003e2\u003c/td\u003e\n",
              "      \u003ctd\u003e7013\u003c/td\u003e\n",
              "    \u003c/tr\u003e\n",
              "    \u003ctr\u003e\n",
              "      \u003cth\u003eFd20\u003c/th\u003e\n",
              "      \u003ctd\u003e138\u003c/td\u003e\n",
              "      \u003ctd\u003e406\u003c/td\u003e\n",
              "      \u003ctd\u003e0\u003c/td\u003e\n",
              "      \u003ctd\u003e9825\u003c/td\u003e\n",
              "    \u003c/tr\u003e\n",
              "    \u003ctr\u003e\n",
              "      \u003cth\u003eFd27\u003c/th\u003e\n",
              "      \u003ctd\u003e114\u003c/td\u003e\n",
              "      \u003ctd\u003e453\u003c/td\u003e\n",
              "      \u003ctd\u003e38\u003c/td\u003e\n",
              "      \u003ctd\u003e3461\u003c/td\u003e\n",
              "    \u003c/tr\u003e\n",
              "    \u003ctr\u003e\n",
              "      \u003cth\u003eFd28\u003c/th\u003e\n",
              "      \u003ctd\u003e124\u003c/td\u003e\n",
              "      \u003ctd\u003e455\u003c/td\u003e\n",
              "      \u003ctd\u003e1\u003c/td\u003e\n",
              "      \u003ctd\u003e4976\u003c/td\u003e\n",
              "    \u003c/tr\u003e\n",
              "    \u003ctr\u003e\n",
              "      \u003cth\u003eFd29\u003c/th\u003e\n",
              "      \u003ctd\u003e161\u003c/td\u003e\n",
              "      \u003ctd\u003e458\u003c/td\u003e\n",
              "      \u003ctd\u003e1\u003c/td\u003e\n",
              "      \u003ctd\u003e10803\u003c/td\u003e\n",
              "    \u003c/tr\u003e\n",
              "    \u003ctr\u003e\n",
              "      \u003cth\u003eFd31\u003c/th\u003e\n",
              "      \u003ctd\u003e130\u003c/td\u003e\n",
              "      \u003ctd\u003e428\u003c/td\u003e\n",
              "      \u003ctd\u003e1\u003c/td\u003e\n",
              "      \u003ctd\u003e5256\u003c/td\u003e\n",
              "    \u003c/tr\u003e\n",
              "  \u003c/tbody\u003e\n",
              "\u003c/table\u003e\n",
              "\u003c/div\u003e"
            ],
            "text/plain": [
              "Binder for                       SP4.2    SP6  SP9 (Neg. Ctrl)  Spot-Tag\n",
              "Binder Target Target Foundation                                         \n",
              "5Phos         Fd11                 180    970                1       288\n",
              "              Fd7                  679   1269                4       611\n",
              "              Fd8                   91    523                0       175\n",
              "Brady         Fd12                  24    116                0        42\n",
              "              Fd13                 516   1611                4      1663\n",
              "              Fd14                 222   1113                1       603\n",
              "CLR           Fd24                 224   1061                2       405\n",
              "              Fd25                 233    930                3       558\n",
              "              Fd26                  81    361                0        92\n",
              "Empty         Empty                  0      0                0         0\n",
              "SP4           Fd15                7201    397                0       207\n",
              "              Fd16                8399    447                2       107\n",
              "              Fd17               11355    441                1       188\n",
              "SP6           Fd21                  83  28641                3       129\n",
              "              Fd22                  82  28871                1       148\n",
              "              Fd23                  50  21007                0        96\n",
              "Spot-Tag      Fd19                 132    485                2      7013\n",
              "              Fd20                 138    406                0      9825\n",
              "              Fd27                 114    453               38      3461\n",
              "              Fd28                 124    455                1      4976\n",
              "              Fd29                 161    458                1     10803\n",
              "              Fd31                 130    428                1      5256"
            ]
          },
          "metadata": {},
          "output_type": "display_data"
        }
      ],
      "source": [
        "def get_foundation(s):\n",
        "  if s == 'Empty_Foundation':\n",
        "    return 'Empty'\n",
        "  else:\n",
        "    return s.split('_')[-1]\n",
        "\n",
        "def pivot_plot_df(plot_df):\n",
        "  df = plot_df.copy()\n",
        "  df['Target Foundation'] = df['target'].map(get_foundation)\n",
        "  return pd.pivot(df, index=['Binder Target', 'Target Foundation'], values='Count', columns='Binder for').astype(int)\n",
        "\n",
        "plot_df_pivoted = pivot_plot_df(plot_df)\n",
        "with pd.option_context(\"display.max_rows\", 1000):\n",
        "  display.display(plot_df_pivoted)"
      ]
    },
    {
      "cell_type": "code",
      "execution_count": null,
      "metadata": {
        "colab": {
          "height": 421
        },
        "executionInfo": {
          "elapsed": 2643,
          "status": "ok",
          "timestamp": 1632439913869,
          "user": {
            "displayName": "",
            "photoUrl": "",
            "userId": ""
          },
          "user_tz": 420
        },
        "id": "5sjHHvNWaNpe",
        "outputId": "f74c1661-888b-4f90-c393-ab9ee9c4c659"
      },
      "outputs": [
        {
          "data": {
            "image/png": "[encoded data removed]",
            "text/plain": [
              "\u003cFigure size 3000x600 with 1 Axes\u003e"
            ]
          },
          "metadata": {},
          "output_type": "display_data"
        }
      ],
      "source": [
        "def do_plot(plot_df, palette):\n",
        "  plot_agg_df = plot_df.groupby(['Binder Target', 'target', 'Binder for']).sum().reset_index()\n",
        "  plt.figure(figsize=(30,6))\n",
        "  # plt.figure(figsize=(4.75, 2))  # Size for figure in paper.\n",
        "  g = sns.swarmplot(data=plot_agg_df, palette=palette,\n",
        "                    x='Binder Target', y='Count', hue='Binder for', dodge=True)\n",
        "  g.set_xticklabels(g.get_xticklabels(), rotation=90) \n",
        "  plt.show()\n",
        "\n",
        "\n",
        "do_plot(plot_df, palette={'SP4.2':'tab:cyan',\n",
        "                          'SP6': 'tab:purple',\n",
        "                          'SP9 (Neg. Ctrl)': 'tab:green',\n",
        "                          'Spot-Tag': 'tab:orange'})"
      ]
    },
    {
      "cell_type": "code",
      "execution_count": null,
      "metadata": {
        "id": "UZu9m8wmLz_5"
      },
      "outputs": [],
      "source": [
        ""
      ]
    }
  ],
  "metadata": {
    "colab": {
      "collapsed_sections": [],
      "last_runtime": {
        "build_target": "",
        "kind": "local"
      },
      "name": "BCS ProtSeq Single cycle spot tag nanobody.ipynb",
      "provenance": [
        {
          "file_id": "1k8UKySCRrNevNTXJ83-2uiVZoa1N4BYl",
          "timestamp": 1631739518321
        },
        {
          "file_id": "1fONwpc7if6IkMxFexvXvYkFqv1FB5NaG",
          "timestamp": 1631723212939
        },
        {
          "file_id": "1ZlC9Jz_Zaw5TCS7AuD_yxQDG4sQD9Jtd",
          "timestamp": 1631720954129
        }
      ]
    },
    "kernelspec": {
      "display_name": "Python 3",
      "name": "python3"
    },
    "language_info": {
      "name": "python"
    }
  },
  "nbformat": 4,
  "nbformat_minor": 0
}
