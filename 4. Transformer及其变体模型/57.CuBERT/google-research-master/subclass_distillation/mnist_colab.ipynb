{
  "cells": [
    {
      "cell_type": "markdown",
      "metadata": {
        "id": "CvliHAuTCOXC"
      },
      "source": [
        "# Subclass Distillation Demo Colab\n",
        "\n",
        "This Colab trains a convolutional network on MNIST collapsed to 2 classes (0-4 and 5-9) with 10 subclasses, and then distills into a narrow fully connected network.\n",
        "\n",
        "---\n",
        "\n",
        "Copyright 2021 Google LLC\n",
        "\n",
        "Licensed under the Apache License, Version 2.0 (the \"License\");\n",
        "you may not use this file except in compliance with the License.\n",
        "You may obtain a copy of the License at\n",
        "\n",
        "    https://www.apache.org/licenses/LICENSE-2.0\n",
        "\n",
        "Unless required by applicable law or agreed to in writing, software\n",
        "distributed under the License is distributed on an \"AS IS\" BASIS,\n",
        "WITHOUT WARRANTIES OR CONDITIONS OF ANY KIND, either express or implied.\n",
        "See the License for the specific language governing permissions and\n",
        "limitations under the License.\n",
        "\n",
        "Please cite as:\n",
        "\n",
        "    @article{muller2020subclass,\n",
        "      title={Subclass distillation},\n",
        "      author={M{\\\"u}ller, Rafael and Kornblith, Simon and Hinton, Geoffrey},\n",
        "      journal={arXiv preprint arXiv:2002.03936},\n",
        "      year={2020}\n",
        "    }"
      ]
    },
    {
      "cell_type": "code",
      "execution_count": null,
      "metadata": {
        "id": "MgwqLLdO7ucT"
      },
      "outputs": [],
      "source": [
        "import tensorflow.compat.v2 as tf\n",
        "import tensorflow_datasets as tfds\n",
        "from typing import Union\n",
        "\n",
        "tf.enable_v2_behavior()\n",
        "\n",
        "builder = tfds.builder('mnist')\n",
        "BATCH_SIZE = 256\n",
        "NUM_EPOCHS = 12\n",
        "NUM_CLASSES = 2  # 2 total classes.\n",
        "NUM_SUBCLASSES = 10  # 10 total subclasses (5 subclasses/class)."
      ]
    },
    {
      "cell_type": "markdown",
      "metadata": {
        "id": "ESq6w6UxgB0r"
      },
      "source": [
        "## Define Subclass Losses"
      ]
    },
    {
      "cell_type": "code",
      "execution_count": null,
      "metadata": {
        "id": "E9acm-rggErH"
      },
      "outputs": [],
      "source": [
        "def class_logits_from_subclass_logits(\n",
        "    subclass_logits: tf.Tensor, num_classes: int) -\u003e tf.Tensor:\n",
        "  \"\"\"Compute class logits from subclass logits.\n",
        "\n",
        "  This function computes `logsumexp` over the subclasses corresponding to each\n",
        "  dataset class to yield class logits. We work in log space for numerical\n",
        "  stability, but `softmax(class_logits)` yields the same probabilities as\n",
        "  summing `softmax(subclass_logits)` over the subclasses corresponding to eac\n",
        "  dataset class.\n",
        "\n",
        "  Args:\n",
        "    subclass_logits: A Tensor of shape `[batch_size, num_subclasses]` of\n",
        "      subclass logits. `num_subclasses` must be a multiple of `num_classes`.\n",
        "    num_classes: Number of output classes.\n",
        "\n",
        "  Returns:\n",
        "    A Tensor of shape `[batch_size]` containing per-example losses.\n",
        "  \"\"\"\n",
        "  # Check arguments.\n",
        "  if subclass_logits.shape.rank != 2:\n",
        "    raise ValueError('`subclass_logits` must be a Tensor of rank 2.')\n",
        "  num_subclasses = int(subclass_logits.shape[-1])\n",
        "  if num_subclasses % num_classes != 0:\n",
        "    raise ValueError(\n",
        "        'Number of subclasses in `subclass_logits` must be a multiple of '\n",
        "        'number of classes in `labels`.')\n",
        "\n",
        "  # Compute cross entropy loss after performing LogSumExp over subclass logits\n",
        "  # corresponding to each class. This is equivalent to summing their\n",
        "  # probabilities but maintains the stability advantages of working with logits.\n",
        "  subclass_logits = tf.reshape(\n",
        "      subclass_logits, (-1, num_classes, num_subclasses // num_classes))\n",
        "  return tf.math.reduce_logsumexp(subclass_logits, -1)\n",
        "\n",
        "\n",
        "def negative_sampling_loss(\n",
        "    subclass_logits: tf.Tensor, temperature: Union[float, tf.Tensor],\n",
        "    device_context=None, epsilon: Union[float, tf.Tensor] = 1e-9):\n",
        "  \"\"\"Negative sampling loss for subclass distillation.\n",
        "\n",
        "  This auxiliary loss is applied to the teacher to encourage the model to use\n",
        "  all subclasses. It penalizes high correlation between the logits in a given\n",
        "  minibatch.\n",
        "\n",
        "  Args:\n",
        "    subclass_logits: A Tensor of shape `[batch_size, num_subclasses]` of\n",
        "      subclass logits.\n",
        "    temperature: Temperature of negative sampling loss. Usually less than 1.\n",
        "    device_context: Instance of `TPUContext` or `None`. If provided, the\n",
        "      negative sampling loss will be computed using logits from all TPU\n",
        "      replicas. When using TPUEstimator, the device context is provided to the\n",
        "      `model_fn` as `params['context']`.\n",
        "    epsilon: Small float used to avoid dividing by 0.\n",
        "\n",
        "  Returns:\n",
        "    A scalar Tensor containing the overall loss.\n",
        "  \"\"\"\n",
        "  if subclass_logits.shape.rank != 2:\n",
        "    raise ValueError('`subclass_logits` must be a Tensor of rank 2.')\n",
        "  temperature = tf.convert_to_tensor(temperature, dtype=subclass_logits.dtype)\n",
        "  epsilon = tf.convert_to_tensor(epsilon, dtype=subclass_logits.dtype)\n",
        "  batch_size = tf.cast(tf.shape(subclass_logits)[0], subclass_logits.dtype)\n",
        "  num_subclasses = tf.convert_to_tensor(int(subclass_logits.shape[-1]),\n",
        "                                        dtype=subclass_logits.dtype)\n",
        "\n",
        "  # Subtract per-example (not batch) mean and variance from subclass logits.\n",
        "  mean, variance = tf.nn.moments(subclass_logits, -1, keepdims=True)\n",
        "  normalized_logits = tf.nn.batch_normalization(\n",
        "      subclass_logits,\n",
        "      mean=mean,\n",
        "      variance=variance,\n",
        "      offset=None,\n",
        "      scale=1. / tf.sqrt(temperature * num_subclasses),\n",
        "      variance_epsilon=epsilon)\n",
        "\n",
        "  scaled_correlations = tf.linalg.matmul(\n",
        "      normalized_logits, normalized_logits, transpose_b=True)\n",
        "  return (tf.math.reduce_mean(tf.math.reduce_logsumexp(scaled_correlations, -1))\n",
        "          - 1 / temperature - tf.math.log(batch_size))\n",
        "\n",
        "\n",
        "def distillation_loss(teacher_logits: tf.Tensor, student_logits: tf.Tensor,\n",
        "                      temperature: Union[float, tf.Tensor]):\n",
        "  \"\"\"Compute distillation loss.\n",
        "\n",
        "  This function computes cross entropy between softened logits and softened\n",
        "  targets. The resulting loss is scaled by the squared temperature so that\n",
        "  the gradient magnitude remains approximately constant as the temperature is\n",
        "  changed. For reference, see Hinton et al., 2014, \"Distilling the knowledge in\n",
        "  a neural network.\"\n",
        "\n",
        "  Args:\n",
        "    teacher_logits: A Tensor of logits provided by the teacher.\n",
        "    student_logits: A Tensor of logits provided by the student, of the same\n",
        "      shape as `teacher_logits`.\n",
        "    temperature: Temperature to use for distillation.\n",
        "\n",
        "  Returns:\n",
        "    A scalar Tensor containing the overall loss.\n",
        "  \"\"\"\n",
        "  soft_targets = tf.nn.softmax(\n",
        "      tf.stop_gradient(teacher_logits) / temperature, -1)\n",
        "  return tf.reduce_mean(\n",
        "      tf.nn.softmax_cross_entropy_with_logits(\n",
        "          soft_targets, student_logits / temperature)) * temperature ** 2"
      ]
    },
    {
      "cell_type": "markdown",
      "metadata": {
        "id": "QE7ImzZvVltG"
      },
      "source": [
        "## Data Loading and Model Construction"
      ]
    },
    {
      "cell_type": "code",
      "execution_count": null,
      "metadata": {
        "id": "Qpsirk4jADDQ"
      },
      "outputs": [],
      "source": [
        "# Load train and test splits.\n",
        "def preprocess(x):\n",
        "  image = tf.image.convert_image_dtype(x['image'], tf.float32)\n",
        "  labels = tf.one_hot(x['label'], builder.info.features['label'].num_classes)\n",
        "  labels = tf.reduce_sum(\n",
        "      tf.reshape(labels, (NUM_CLASSES, NUM_SUBCLASSES // NUM_CLASSES)), -1)\n",
        "  return image, labels\n",
        "\n",
        "\n",
        "mnist_train = tfds.load('mnist', split='train', shuffle_files=False).cache()\n",
        "mnist_train = mnist_train.map(preprocess)\n",
        "mnist_train = mnist_train.shuffle(builder.info.splits['train'].num_examples)\n",
        "mnist_train = mnist_train.batch(BATCH_SIZE, drop_remainder=True)\n",
        "\n",
        "mnist_test = tfds.load('mnist', split='test').cache()\n",
        "mnist_test = mnist_test.map(preprocess).batch(BATCH_SIZE)"
      ]
    },
    {
      "cell_type": "code",
      "execution_count": null,
      "metadata": {
        "id": "LLOvfznQVlJi"
      },
      "outputs": [],
      "source": [
        "@tf.function\n",
        "def compute_num_correct(model, images, labels):\n",
        "  \"\"\"Compute number of correctly classified images in a batch.\n",
        "\n",
        "  Args:\n",
        "    model: Instance of tf.keras.Model.\n",
        "    images: Tensor representing a batch of images.\n",
        "    labels: Tensor representing a batch of labels.\n",
        "\n",
        "  Returns:\n",
        "    Number of correctly classified images.\n",
        "  \"\"\"\n",
        "  subclass_logits = model(images, training=False)\n",
        "  class_logits = class_logits_from_subclass_logits(\n",
        "      subclass_logits, NUM_CLASSES)\n",
        "  return tf.reduce_sum(\n",
        "      tf.cast(tf.math.equal(tf.argmax(class_logits, -1), tf.argmax(labels, -1)),\n",
        "              tf.float32))"
      ]
    },
    {
      "cell_type": "markdown",
      "metadata": {
        "id": "kcNtIqeoVhrM"
      },
      "source": [
        "## Teacher Training"
      ]
    },
    {
      "cell_type": "code",
      "execution_count": null,
      "metadata": {
        "executionInfo": {
          "elapsed": 1,
          "status": "ok",
          "timestamp": 1629232179039,
          "user": {
            "displayName": "",
            "photoUrl": "",
            "userId": ""
          },
          "user_tz": 240
        },
        "id": "HugaLMMzVgBJ",
        "outputId": "b227ade0-e41e-455f-b07a-3d42ebbf2de4"
      },
      "outputs": [
        {
          "name": "stdout",
          "output_type": "stream",
          "text": [
            "Epoch 1: 97.13%\n",
            "Epoch 2: 98.28%\n",
            "Epoch 3: 98.64%\n",
            "Epoch 4: 98.85%\n",
            "Epoch 5: 98.86%\n",
            "Epoch 6: 98.94%\n",
            "Epoch 7: 99.28%\n",
            "Epoch 8: 99.28%\n",
            "Epoch 9: 99.22%\n",
            "Epoch 10: 99.25%\n",
            "Epoch 11: 99.38%\n",
            "Epoch 12: 99.35%\n"
          ]
        }
      ],
      "source": [
        "#@test {\"output\": \"ignore\"}\n",
        "\n",
        "# Hyperparameters for teacher training.\n",
        "BETA = 1.0\n",
        "NEGATIVE_SAMPLING_TEMPERATURE = 1.0\n",
        "\n",
        "# Build CNN teacher.\n",
        "cnn_model = tf.keras.Sequential()\n",
        "cnn_model.add(tf.keras.layers.Conv2D(32, kernel_size=(3, 3), activation='relu'))\n",
        "cnn_model.add(tf.keras.layers.MaxPooling2D(pool_size=(2, 2)))\n",
        "cnn_model.add(tf.keras.layers.Conv2D(64, (3, 3), activation='relu'))\n",
        "cnn_model.add(tf.keras.layers.MaxPooling2D(pool_size=(2, 2), strides=2))\n",
        "cnn_model.add(tf.keras.layers.Flatten())\n",
        "cnn_model.add(tf.keras.layers.Dropout(0.5))\n",
        "cnn_model.add(tf.keras.layers.Dense(128, activation='relu'))\n",
        "cnn_model.add(tf.keras.layers.Dropout(0.5))\n",
        "cnn_model.add(tf.keras.layers.Dense(NUM_SUBCLASSES))\n",
        "\n",
        "\n",
        "@tf.function\n",
        "def compute_teacher_loss(images, labels):\n",
        "  \"\"\"Compute subclass distillation teacher loss for given images and labels.\n",
        "\n",
        "  Args:\n",
        "    images: Tensor representing a batch of images.\n",
        "    labels: Tensor representing a batch of labels.\n",
        "\n",
        "  Returns:\n",
        "    Scalar loss Tensor.\n",
        "  \"\"\"\n",
        "  subclass_logits = cnn_model(images, training=True)\n",
        "\n",
        "  # Compute cross-entropy loss for superclasses.\n",
        "  class_logits = class_logits_from_subclass_logits(\n",
        "      subclass_logits, NUM_CLASSES)\n",
        "  cross_entropy_loss_value = tf.reduce_mean(\n",
        "      tf.nn.softmax_cross_entropy_with_logits(labels, class_logits))\n",
        "\n",
        "  # Compute negative sampling loss to distribute logits.\n",
        "  negative_sampling_loss_value = negative_sampling_loss(\n",
        "      subclass_logits, NEGATIVE_SAMPLING_TEMPERATURE)\n",
        "\n",
        "  return cross_entropy_loss_value + BETA * negative_sampling_loss_value\n",
        "\n",
        "\n",
        "def train_and_evaluate(model, compute_loss_fn):\n",
        "  \"\"\"Perform training and evaluation for a given model.\n",
        "\n",
        "  Args:\n",
        "    model: Instance of tf.keras.Model.\n",
        "    compute_loss_fn: A function that computes the training loss given the\n",
        "      images, and labels.\n",
        "  \"\"\"\n",
        "  optimizer = tf.keras.optimizers.Adam()\n",
        "  for epoch in range(1, NUM_EPOCHS + 1):\n",
        "    # Run training.\n",
        "    print('Epoch {}: '.format(epoch), end='')\n",
        "    for images, labels in mnist_train:\n",
        "      with tf.GradientTape() as tape:\n",
        "        loss_value = compute_loss_fn(images, labels)\n",
        "\n",
        "      grads = tape.gradient(loss_value, model.trainable_variables)\n",
        "      optimizer.apply_gradients(zip(grads, model.trainable_variables))\n",
        "\n",
        "    # Run evaluation.\n",
        "    num_correct = 0\n",
        "    num_total = builder.info.splits['test'].num_examples\n",
        "    for images, labels in mnist_test:\n",
        "      num_correct += compute_num_correct(model, images, labels)\n",
        "\n",
        "    print('{:.2f}%'.format(float(num_correct) / num_total * 100))\n",
        "\n",
        "\n",
        "train_and_evaluate(cnn_model, compute_teacher_loss)"
      ]
    },
    {
      "cell_type": "markdown",
      "metadata": {
        "id": "DdpFSQU4CUiW"
      },
      "source": [
        "### Subclasses\n",
        "\n",
        "Each column in the figure corresponds to a learned subclass. While not perfect, the digits roughly organize by the class in the original dataset."
      ]
    },
    {
      "cell_type": "code",
      "execution_count": null,
      "metadata": {
        "colab": {
          "height": 584
        },
        "executionInfo": {
          "elapsed": 944,
          "status": "ok",
          "timestamp": 1629144104187,
          "user": {
            "displayName": "",
            "photoUrl": "",
            "userId": ""
          },
          "user_tz": 240
        },
        "id": "yFacCsxEAxXg",
        "outputId": "5d124efb-6737-4191-ac8c-e5813121ad0d"
      },
      "outputs": [
        {
          "data": {
            "text/plain": [
              "(-0.5, 279.5, 167.5, -0.5)"
            ]
          },
          "execution_count": 6,
          "metadata": {
            "tags": []
          },
          "output_type": "execute_result"
        },
        {
          "data": {
            "image/png": "[encoded data removed]",
            "text/plain": [
              "\u003cFigure size 1600x1000 with 1 Axes\u003e"
            ]
          },
          "metadata": {
            "tags": []
          },
          "output_type": "display_data"
        }
      ],
      "source": [
        "#@test {\"output\": \"ignore\"}\n",
        "\n",
        "import numpy as np\n",
        "from matplotlib import pyplot as plt\n",
        "\n",
        "for images, labels in mnist_train:\n",
        "  sc_logits = cnn_model(images)\n",
        "  break\n",
        "\n",
        "np_images = images.numpy()\n",
        "subclass_images = np.zeros((np_images.shape[1] * 6, NUM_SUBCLASSES,\n",
        "                            np_images.shape[2]))\n",
        "for i in range(NUM_SUBCLASSES):\n",
        "  images_for_subclass = np_images[np.argmax(sc_logits, -1) == i][:6, :, :, 0]\n",
        "  images_for_subclass = images_for_subclass.reshape((-1, np_images.shape[2]))\n",
        "  subclass_images[:images_for_subclass.shape[0], i, :] = images_for_subclass\n",
        "\n",
        "plt.gcf().set_size_inches((16, 10))\n",
        "plt.imshow(subclass_images.reshape(subclass_images.shape[0], -1), cmap='gray')\n",
        "plt.axis('off')"
      ]
    },
    {
      "cell_type": "markdown",
      "metadata": {
        "id": "x8lzFZjkc5w6"
      },
      "source": [
        "## Student Training"
      ]
    },
    {
      "cell_type": "markdown",
      "metadata": {
        "id": "9dHkx67WeC1W"
      },
      "source": [
        "### Distill to Student\n",
        "\n",
        "After subclass distillation, the student performs nearly as well as the teacher."
      ]
    },
    {
      "cell_type": "code",
      "execution_count": null,
      "metadata": {
        "executionInfo": {
          "elapsed": 41058,
          "status": "ok",
          "timestamp": 1629144168317,
          "user": {
            "displayName": "",
            "photoUrl": "",
            "userId": ""
          },
          "user_tz": 240
        },
        "id": "IiCR0T7JbgiP",
        "outputId": "58ff3eb2-e704-4b60-ad3f-c31929b69706"
      },
      "outputs": [
        {
          "name": "stdout",
          "output_type": "stream",
          "text": [
            "Epoch 1: 98.00%\n",
            "Epoch 2: 98.51%\n",
            "Epoch 3: 98.85%\n",
            "Epoch 4: 98.85%\n",
            "Epoch 5: 98.96%\n",
            "Epoch 6: 98.98%\n",
            "Epoch 7: 98.95%\n",
            "Epoch 8: 98.99%\n",
            "Epoch 9: 98.99%\n",
            "Epoch 10: 98.96%\n",
            "Epoch 11: 99.02%\n",
            "Epoch 12: 99.01%\n"
          ]
        }
      ],
      "source": [
        "#@test {\"output\": \"ignore\"}\n",
        "\n",
        "# Hyperparameters for distillation.\n",
        "ALPHA = 0.5\n",
        "DISTILLATION_TEMPERATURE = 4.\n",
        "\n",
        "# Build fully connected student.\n",
        "fc_model = tf.keras.Sequential()\n",
        "fc_model.add(tf.keras.layers.Flatten())\n",
        "fc_model.add(tf.keras.layers.Dense(784, activation='relu'))\n",
        "fc_model.add(tf.keras.layers.Dense(784, activation='relu'))\n",
        "fc_model.add(tf.keras.layers.Dense(NUM_SUBCLASSES))\n",
        "\n",
        "# We copy the student before it is trained and use it below.\n",
        "fc_model_no_distillation = tf.keras.Sequential()\n",
        "fc_model_no_distillation.add(tf.keras.layers.Flatten())\n",
        "fc_model_no_distillation.add(tf.keras.layers.Dense(784, activation='relu'))\n",
        "fc_model_no_distillation.add(tf.keras.layers.Dense(784, activation='relu'))\n",
        "fc_model_no_distillation.add(tf.keras.layers.Dense(NUM_CLASSES))\n",
        "\n",
        "fc_model_conventional_distillation = tf.keras.models.clone_model(\n",
        "    fc_model_no_distillation)\n",
        "\n",
        "def compute_student_loss(images, labels):\n",
        "  \"\"\"Compute subclass distillation student loss for given images and labels.\n",
        "\n",
        "  Args:\n",
        "    images: Tensor representing a batch of images.\n",
        "    labels: Tensor representing a batch of labels.\n",
        "\n",
        "  Returns:\n",
        "    Scalar loss Tensor.\n",
        "  \"\"\"\n",
        "  student_subclass_logits = fc_model(images, training=True)\n",
        "\n",
        "  # Compute distillation loss between student subclass logits and softened\n",
        "  # teacher subclass targets probabilities.\n",
        "  teacher_subclass_logits = cnn_model(images, training=False)\n",
        "  distillation_loss_value = distillation_loss(\n",
        "      teacher_logits=teacher_subclass_logits,\n",
        "      student_logits=student_subclass_logits,\n",
        "      temperature=DISTILLATION_TEMPERATURE)\n",
        "\n",
        "  # Compute cross-entropy loss with hard targets.\n",
        "  student_class_logits = class_logits_from_subclass_logits(\n",
        "      student_subclass_logits, NUM_CLASSES)\n",
        "  cross_entropy_loss_value = tf.reduce_mean(\n",
        "      tf.nn.softmax_cross_entropy_with_logits(labels, student_class_logits))\n",
        "\n",
        "  return (ALPHA * distillation_loss_value +\n",
        "          (1 - ALPHA) * cross_entropy_loss_value)\n",
        "\n",
        "\n",
        "train_and_evaluate(fc_model, compute_student_loss)"
      ]
    },
    {
      "cell_type": "markdown",
      "metadata": {
        "id": "CEKk1VP5eGkO"
      },
      "source": [
        "### Train Student from Scratch\n",
        "\n",
        "When trained from scratch, the student performs substantially worse."
      ]
    },
    {
      "cell_type": "code",
      "execution_count": null,
      "metadata": {
        "executionInfo": {
          "elapsed": 23357,
          "status": "ok",
          "timestamp": 1629144191886,
          "user": {
            "displayName": "",
            "photoUrl": "",
            "userId": ""
          },
          "user_tz": 240
        },
        "id": "PInjFtPJiOzf",
        "outputId": "c1414c28-0e8b-438a-e17a-82e77ed0a824"
      },
      "outputs": [
        {
          "name": "stdout",
          "output_type": "stream",
          "text": [
            "Epoch 1: 97.87%\n",
            "Epoch 2: 98.13%\n",
            "Epoch 3: 98.24%\n",
            "Epoch 4: 97.71%\n",
            "Epoch 5: 98.25%\n",
            "Epoch 6: 98.58%\n",
            "Epoch 7: 98.32%\n",
            "Epoch 8: 98.39%\n",
            "Epoch 9: 98.47%\n",
            "Epoch 10: 98.51%\n",
            "Epoch 11: 98.54%\n",
            "Epoch 12: 98.53%\n"
          ]
        }
      ],
      "source": [
        "#@test {\"output\": \"ignore\"}\n",
        "\n",
        "def compute_plain_cross_entropy_loss(images, labels):\n",
        "  \"\"\"Compute plain loss for given images and labels.\n",
        "\n",
        "  For fair comparison and convenience, this function also performs a\n",
        "  LogSumExp over subclasses, but does not perform subclass distillation.\n",
        "\n",
        "  Args:\n",
        "    images: Tensor representing a batch of images.\n",
        "    labels: Tensor representing a batch of labels.\n",
        "\n",
        "  Returns:\n",
        "    Scalar loss Tensor.\n",
        "  \"\"\"\n",
        "  student_class_logits = fc_model_no_distillation(images, training=True)\n",
        "  cross_entropy_loss = tf.reduce_mean(\n",
        "      tf.nn.softmax_cross_entropy_with_logits(labels, student_class_logits))\n",
        "  return cross_entropy_loss\n",
        "\n",
        "\n",
        "train_and_evaluate(fc_model_no_distillation, compute_plain_cross_entropy_loss)"
      ]
    },
    {
      "cell_type": "markdown",
      "metadata": {
        "id": "MbbZ_V1MwuOh"
      },
      "source": [
        "### Conventional Distillation from Binary Predictions\n",
        "\n",
        "Baseline: distillation from logits.\n",
        "It performs better than training the student from scratch, but worse than subclass distillation.\n"
      ]
    },
    {
      "cell_type": "code",
      "execution_count": null,
      "metadata": {
        "executionInfo": {
          "elapsed": 37433,
          "status": "ok",
          "timestamp": 1629144280585,
          "user": {
            "displayName": "",
            "photoUrl": "",
            "userId": ""
          },
          "user_tz": 240
        },
        "id": "Q4G56u-Lwrt3",
        "outputId": "cdd78420-d947-4d0e-c5fc-a4e61b8bb276"
      },
      "outputs": [
        {
          "name": "stdout",
          "output_type": "stream",
          "text": [
            "Epoch 1: 97.90%\n",
            "Epoch 2: 98.34%\n",
            "Epoch 3: 98.46%\n",
            "Epoch 4: 98.51%\n",
            "Epoch 5: 98.76%\n",
            "Epoch 6: 98.68%\n",
            "Epoch 7: 98.71%\n",
            "Epoch 8: 98.81%\n",
            "Epoch 9: 98.75%\n",
            "Epoch 10: 98.72%\n",
            "Epoch 11: 98.80%\n",
            "Epoch 12: 98.72%\n"
          ]
        }
      ],
      "source": [
        "#@test {\"output\": \"ignore\"}\n",
        "\n",
        "def compute_conventional_distillation_loss(images, labels):\n",
        "  \"\"\"Compute distillation student loss for given images and labels.\n",
        "\n",
        "  Args:\n",
        "    images: Tensor representing a batch of images.\n",
        "    labels: Tensor representing a batch of labels.\n",
        "\n",
        "  Returns:\n",
        "    Scalar loss Tensor.\n",
        "  \"\"\"\n",
        "  student_class_logits = fc_model_conventional_distillation(images,\n",
        "                                                            training=True)\n",
        "\n",
        "  teacher_subclass_logits = cnn_model(images, training=False)\n",
        "\n",
        "  teacher_class_logits = class_logits_from_subclass_logits(\n",
        "      teacher_subclass_logits, NUM_CLASSES)\n",
        "\n",
        "  # Compute distillation loss between student logits and softened\n",
        "  # teacher targets probabilities.\n",
        "  distillation_loss_value = distillation_loss(\n",
        "      teacher_logits=teacher_class_logits,\n",
        "      student_logits=student_class_logits,\n",
        "      temperature=DISTILLATION_TEMPERATURE)\n",
        "  \n",
        "  # Compute cross-entropy loss with hard targets.\n",
        "  cross_entropy_loss_value = tf.reduce_mean(\n",
        "      tf.nn.softmax_cross_entropy_with_logits(labels, student_class_logits))\n",
        "\n",
        "  return (ALPHA * distillation_loss_value +\n",
        "          (1 - ALPHA) * cross_entropy_loss_value)\n",
        "\n",
        "\n",
        "train_and_evaluate(fc_model_conventional_distillation,\n",
        "                   compute_conventional_distillation_loss)"
      ]
    }
  ],
  "metadata": {
    "colab": {
      "collapsed_sections": [],
      "last_runtime": {
        "build_target": "//learning/deepmind/public/tools/ml_python:ml_notebook",
        "kind": "private"
      },
      "name": "Subclass Distillation MNIST.ipynb",
      "provenance": []
    },
    "kernelspec": {
      "display_name": "Python 3",
      "name": "python3"
    },
    "language_info": {
      "name": "python"
    }
  },
  "nbformat": 4,
  "nbformat_minor": 0
}
