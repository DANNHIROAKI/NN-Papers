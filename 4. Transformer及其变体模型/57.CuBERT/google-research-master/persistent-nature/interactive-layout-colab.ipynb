{
  "nbformat": 4,
  "nbformat_minor": 0,
  "metadata": {
    "colab": {
      "provenance": [],
      "gpuType": "T4"
    },
    "kernelspec": {
      "name": "python3",
      "display_name": "Python 3"
    },
    "language_info": {
      "name": "python"
    },
    "accelerator": "GPU",
    "gpuClass": "standard"
  },
  "cells": [
    {
      "cell_type": "markdown",
      "source": [
        "Copyright 2023 Google LLC. SPDX-License-Identifier: Apache-2.0\n",
        "\n",
        "Licensed under the Apache License, Version 2.0 (the \"License\"); you may not use this file except in compliance with the License. You may obtain a copy of the License at\n",
        "\n",
        "https://www.apache.org/licenses/LICENSE-2.0\n",
        "\n",
        "Unless required by applicable law or agreed to in writing, software distributed under the License is distributed on an \"AS IS\" BASIS, WITHOUT WARRANTIES OR CONDITIONS OF ANY KIND, either express or implied. See the License for the specific language governing permissions and limitations under the License."
      ],
      "metadata": {
        "id": "RAG6S1AUfnmC"
      }
    },
    {
      "cell_type": "markdown",
      "source": [
        "# Persistent Nature: Interactive Widget - Layout Model"
      ],
      "metadata": {
        "id": "maPbRD8sfq2n"
      }
    },
    {
      "cell_type": "markdown",
      "source": [
        "## Download Dependencies"
      ],
      "metadata": {
        "id": "TZXqB89Pf1L1"
      }
    },
    {
      "cell_type": "code",
      "source": [
        "! pip install ninja --quiet\n",
        "! pip install git+https://github.com/davidbau/baukit --quiet\n",
        "! pip install git+https://github.com/openai/CLIP.git --quiet\n",
        "! pip install einops --quiet"
      ],
      "metadata": {
        "id": "YgLZ7mRJgDWU"
      },
      "execution_count": null,
      "outputs": []
    },
    {
      "cell_type": "code",
      "source": [
        "! git clone https://github.com/google-research/google-research.git"
      ],
      "metadata": {
        "id": "1eqSRRKYf0YA"
      },
      "execution_count": null,
      "outputs": []
    },
    {
      "cell_type": "code",
      "source": [
        "%cd google-research/persistent-nature"
      ],
      "metadata": {
        "id": "3Szc43u1k_Xo"
      },
      "execution_count": null,
      "outputs": []
    },
    {
      "cell_type": "code",
      "source": [
        "%%capture\n",
        "! bash patch.sh\n",
        "! bash download.sh"
      ],
      "metadata": {
        "id": "zP6z_0NthWPQ"
      },
      "execution_count": null,
      "outputs": []
    },
    {
      "cell_type": "code",
      "source": [
        "! ls"
      ],
      "metadata": {
        "id": "UX6cZzBkkyHa"
      },
      "execution_count": null,
      "outputs": []
    },
    {
      "cell_type": "markdown",
      "source": [
        "## Setup models"
      ],
      "metadata": {
        "id": "qVj5_rrKiP2L"
      }
    },
    {
      "cell_type": "code",
      "source": [
        "import torch\n",
        "from PIL import Image\n",
        "import pickle\n",
        "import numpy as np\n",
        "from IPython.display import display\n",
        "from ipywidgets import HTML, Button, HBox, VBox, Layout\n",
        "from baukit import renormalize\n",
        "\n",
        "from models.layout import model_full\n",
        "from utils import sky_util, soat_util, camera_util, render_settings, filters\n"
      ],
      "metadata": {
        "id": "Pm_tuNhvfoEF"
      },
      "execution_count": null,
      "outputs": []
    },
    {
      "cell_type": "code",
      "source": [
        "torch.set_grad_enabled(False)\n",
        "device = 'cuda'"
      ],
      "metadata": {
        "id": "-mfYiFDwgRk4"
      },
      "execution_count": null,
      "outputs": []
    },
    {
      "cell_type": "code",
      "source": [
        "full_model = model_full.ModelFull('pretrained/model_terrain.pkl', 'pretrained/model_sky_360.pkl').to(device).eval()"
      ],
      "metadata": {
        "id": "O3DGY_g2iN1c"
      },
      "execution_count": null,
      "outputs": []
    },
    {
      "cell_type": "code",
      "source": [
        "full_model.set_nerf_params(**render_settings.nerf_render_interactive)\n",
        "G_layout = full_model.terrain_model.layout_model\n",
        "G_soat = soat_util.init_soat_model(G_layout)\n",
        "G_sky = full_model.sky_model\n",
        "grid = sky_util.make_grid(G_sky.G)\n",
        "input_layer = G_sky.G.synthesis.input"
      ],
      "metadata": {
        "id": "vV1EBGkCigpS"
      },
      "execution_count": null,
      "outputs": []
    },
    {
      "cell_type": "markdown",
      "source": [
        "## Generate Initial Layout and Skydome Env Map"
      ],
      "metadata": {
        "id": "RBVWdrbmipBV"
      }
    },
    {
      "cell_type": "code",
      "source": [
        "seed = 944 # np.random.randint(0, 1000)\n",
        "truncation = 0.8\n",
        "grid_size = 5\n",
        "\n",
        "layout = soat_util.generate_layout(seed, grid_h=grid_size, grid_w=grid_size, device=device, truncation_psi=truncation)\n",
        "z = torch.randn(1, G_layout.layout_generator.z_dim, device=device)\n",
        "c = None\n",
        "noise_input = torch.randn_like(layout)[:, :1]\n",
        "\n",
        "sampled_Rt = G_layout.trajectory_sampler.sample_trajectories(G_layout.layout_decoder, layout)\n",
        "initial_camera = camera_util.camera_from_pose(sampled_Rt.squeeze())\n",
        "\n",
        "print(initial_camera)"
      ],
      "metadata": {
        "id": "HRU3K4M8ilen"
      },
      "execution_count": null,
      "outputs": []
    },
    {
      "cell_type": "code",
      "source": [
        "# sample initial frame\n",
        "Rt = camera_util.pose_from_camera(initial_camera)[None].to(device)\n",
        "camera_params = camera_util.get_full_image_parameters(\n",
        "    G_layout, G_layout.layout_decoder_kwargs.nerf_out_res, batch_size=1, device=device, Rt=Rt)\n",
        "outputs = full_model(z, c, camera_params, truncation=truncation,\n",
        "                     nerf_kwargs=dict(cached_layout=layout,\n",
        "                                      extras=[],\n",
        "                                      noise_input=noise_input,\n",
        "                                     )\n",
        "                    )\n",
        "\n",
        "# generate sky texture based on initial frame\n",
        "sky_encoder_ws = G_sky.encode(outputs['rgb_up'] * outputs['sky_mask'])\n",
        "sky_z = z[:, :G_sky.G.z_dim]\n",
        "start_grid = sky_util.generate_start_grid(seed, input_layer, grid)\n",
        "sky_pano = sky_util.generate_pano_transform(G_sky.G, sky_z, sky_encoder_ws, start_grid)\n",
        "sky_texture = sky_pano[None]\n",
        "display(renormalize.as_image(sky_texture[0]))"
      ],
      "metadata": {
        "id": "6D1A0F4SitrQ"
      },
      "execution_count": null,
      "outputs": []
    },
    {
      "cell_type": "markdown",
      "source": [
        "## Interactive Widget"
      ],
      "metadata": {
        "id": "iU0Fkg_3i0sV"
      }
    },
    {
      "cell_type": "code",
      "source": [
        "l = HTML(\"\")\n",
        "h = HTML(\"\")\n",
        "display_size = (256, 256)\n",
        "\n",
        "camera = initial_camera\n",
        "camera_util.INITIAL_CAMERA = initial_camera\n",
        "h.value = str(camera)\n",
        "\n",
        "\n",
        "layout_params = Layout(width='80px', height='40px')\n",
        "words = ['', 'forward', '', 'left', 'reset', 'right', '', 'backward', '']\n",
        "items = [Button(description=w, layout = layout_params) for w in words]\n",
        "top_box = HBox(items[:3])\n",
        "mid_box = HBox(items[3:6])\n",
        "bottom_box = HBox(items[6:])\n",
        "arrows = VBox([top_box, mid_box, bottom_box])\n",
        "\n",
        "\n",
        "# How fast we adjust. Too large and it will overshoot.\n",
        "# Too small and it will not react in time to avoid mountains.\n",
        "tilt_velocity_scale = .3    # Keep this small, otherwise you'll get motion sickness.\n",
        "offset_velocity_scale = .5\n",
        "\n",
        "# How far up the image should the horizon be, ideally.\n",
        "# Suggested range: 0.5 to 0.7.\n",
        "horizon_target = 0.65\n",
        "\n",
        "# What proportion of the depth map should be \"near\" the camera, ideally.\n",
        "# The smaller the number, the higher up the camera will fly.\n",
        "# Suggested range: 0.05 to 0.2\n",
        "near_target = 0.2\n",
        "\n",
        "offset = 0\n",
        "tilt = 0\n",
        "initial_stabilize_frames = 10\n",
        "\n",
        "output_list = []\n",
        "\n",
        "def generate_frame_from_camera(camera):\n",
        "    Rt = camera_util.pose_from_camera(camera)[None].to(device)\n",
        "    camera_params = camera_util.get_full_image_parameters(\n",
        "        G_layout, G_layout.layout_decoder_kwargs.nerf_out_res, batch_size=1, device=device, Rt=Rt)\n",
        "    outputs = full_model(z, c, camera_params, truncation=truncation,\n",
        "                         nerf_kwargs=dict(extras = ['camera_points'],\n",
        "                                          cached_layout=layout,\n",
        "                                          noise_input=noise_input,\n",
        "                                         ),\n",
        "                         sky_texture=sky_texture\n",
        "                        )\n",
        "    return outputs\n",
        "\n",
        "def update_display(outputs, camera):\n",
        "    composite_rgb_url = renormalize.as_url(outputs['rgb_overlay_upsample'][0], size=display_size)\n",
        "\n",
        "    vis_rays =  camera_util.visualize_rays(G_layout, outputs['extras']['Rt'], outputs['extras']['camera_points'],\n",
        "                                           outputs['extras']['layout'], display_size[0])\n",
        "    cam_img = renormalize.as_image(vis_rays)\n",
        "    cam_url = renormalize.as_url(cam_img, size=display_size)\n",
        "    img_html = ('<div class=\"row\"> <img src=\"%s\"/> <img src=\"%s\"/> </div>' % (composite_rgb_url, cam_url))\n",
        "    output_list.append(outputs)\n",
        "    l.value = img_html\n",
        "    h.value = str(camera)\n",
        "\n",
        "\n",
        "def handle_event(event):\n",
        "    global camera, offset, tilt\n",
        "    camera = camera_util.update_camera(camera, event['key'], auto_adjust_height_and_tilt=True)\n",
        "    c = camera_util.adjust_camera_vertically(camera, offset, tilt)\n",
        "    outputs = generate_frame_from_camera(c)\n",
        "    outputs = filters.smooth_mask(outputs) # optional mask smoothing\n",
        "    update_display(outputs, c)\n",
        "    tilt, offset = camera_util.update_tilt_and_offset(outputs, tilt, offset,\n",
        "                                                      horizon_target=horizon_target,\n",
        "                                                      near_target=near_target,\n",
        "                                                      tilt_velocity_scale=tilt_velocity_scale,\n",
        "                                                      offset_velocity_scale=offset_velocity_scale)\n",
        "\n",
        "def on_button_clicked(b):\n",
        "    clicked = b.description\n",
        "    options = {'forward': 'w', 'backward': 's', 'left': 'a',\n",
        "               'right': 'd', 'reset': 'x'}\n",
        "    val = options.get(clicked)\n",
        "    if val:\n",
        "        handle_event({'key': val})\n",
        "\n",
        "\n",
        "for button in items:\n",
        "    button.on_click(on_button_clicked)\n",
        "\n",
        "\n",
        "for x in range(initial_stabilize_frames):\n",
        "    outputs = generate_frame_from_camera(camera_util.adjust_camera_vertically(camera, offset, tilt))\n",
        "    tilt, offset = camera_util.update_tilt_and_offset(outputs, tilt, offset,\n",
        "                                                      horizon_target=horizon_target,\n",
        "                                                      near_target=near_target,\n",
        "                                                      tilt_velocity_scale=tilt_velocity_scale,\n",
        "                                                      offset_velocity_scale=offset_velocity_scale)\n",
        "\n",
        "display(h, HBox([l, arrows]))\n",
        "handle_event({'key': 'x'})"
      ],
      "metadata": {
        "id": "xAsgPbR8i1tk"
      },
      "execution_count": null,
      "outputs": []
    },
    {
      "cell_type": "code",
      "source": [],
      "metadata": {
        "id": "YYSlb_DWkfk5"
      },
      "execution_count": null,
      "outputs": []
    }
  ]
}
