{
  "cells": [
    {
      "cell_type": "markdown",
      "metadata": {
        "id": "cpiXMy9wm43N"
      },
      "source": [
        "##### Copyright 2020 Google LLC.\n",
        "\n",
        "\n",
        "Licensed under the Apache License, Version 2.0 (the \"License\");\n",
        "you may not use this file except in compliance with the License.\n",
        "You may obtain a copy of the License at\n",
        "\n",
        "    https://www.apache.org/licenses/LICENSE-2.0\n",
        "\n",
        "Unless required by applicable law or agreed to in writing, software\n",
        "distributed under the License is distributed on an \"AS IS\" BASIS,\n",
        "WITHOUT WARRANTIES OR CONDITIONS OF ANY KIND, either express or implied.\n",
        "See the License for the specific language governing permissions and\n",
        "limitations under the License."
      ]
    },
    {
      "cell_type": "code",
      "execution_count": null,
      "metadata": {
        "colab": {
          "base_uri": "https://localhost:8080/",
          "height": 202
        },
        "executionInfo": {
          "elapsed": 6146,
          "status": "ok",
          "timestamp": 1593127009647,
          "user": {
            "displayName": "Lucy Colwell",
            "photoUrl": "https://lh3.googleusercontent.com/a-/AOh14GhDVS9VL55nJ_BMyjGqE4RYboOf4i5N9LaE148oGg=s64",
            "userId": "17590064334699832966"
          },
          "user_tz": 240
        },
        "id": "s1p8KZv26C6P",
        "outputId": "615174ba-fc4f-4e72-b06f-f4497e9d1a15"
      },
      "outputs": [
        {
          "name": "stdout",
          "output_type": "stream",
          "text": [
            "Collecting python-Levenshtein\n",
            "\u001b[?25l  Downloading https://files.pythonhosted.org/packages/42/a9/d1785c85ebf9b7dfacd08938dd028209c34a0ea3b1bcdb895208bd40a67d/python-Levenshtein-0.12.0.tar.gz (48kB)\n",
            "\r\u001b[K     |██████▊                         | 10kB 18.8MB/s eta 0:00:01\r\u001b[K     |█████████████▌                  | 20kB 1.7MB/s eta 0:00:01\r\u001b[K     |████████████████████▏           | 30kB 2.2MB/s eta 0:00:01\r\u001b[K     |███████████████████████████     | 40kB 2.5MB/s eta 0:00:01\r\u001b[K     |████████████████████████████████| 51kB 1.6MB/s \n",
            "\u001b[?25hRequirement already satisfied: setuptools in /usr/local/lib/python2.7/dist-packages (from python-Levenshtein) (44.1.1)\n",
            "Building wheels for collected packages: python-Levenshtein\n",
            "  Building wheel for python-Levenshtein (setup.py) ... \u001b[?25l\u001b[?25hdone\n",
            "  Created wheel for python-Levenshtein: filename=python_Levenshtein-0.12.0-cp27-cp27mu-linux_x86_64.whl size=98777 sha256=4212c60530985927dc96fcc1c50cb4bf66a4ab61ee13d458631cf6f1b9dff1cc\n",
            "  Stored in directory: /root/.cache/pip/wheels/de/c2/93/660fd5f7559049268ad2dc6d81c4e39e9e36518766eaf7e342\n",
            "Successfully built python-Levenshtein\n",
            "Installing collected packages: python-Levenshtein\n",
            "Successfully installed python-Levenshtein-0.12.0\n"
          ]
        }
      ],
      "source": [
        "import os\n",
        "import numpy\n",
        "import seaborn\n",
        "import pandas\n",
        "import matplotlib\n",
        "import matplotlib.style\n",
        "import matplotlib.patheffects\n",
        "import matplotlib as mpl\n",
        "from matplotlib import pyplot as pyplot\n",
        "from scipy.spatial import distance\n",
        "\n",
        "from IPython.display import display\n",
        "from collections import OrderedDict\n",
        "\n",
        "mpl.style.use('classic')\n",
        "\n",
        "import random\n",
        "import tempfile\n",
        "import tarfile\n",
        "import zipfile\n",
        "\n",
        "# If required\n",
        "!pip install python-Levenshtein\n",
        "\n",
        "import Levenshtein\n",
        "from Levenshtein import distance as ldistance"
      ]
    },
    {
      "cell_type": "markdown",
      "metadata": {
        "id": "hE9WmUx46G2h"
      },
      "source": [
        "## Load large dataframe of sequences"
      ]
    },
    {
      "cell_type": "code",
      "execution_count": null,
      "metadata": {
        "id": "bPrKchItzcHv",
        "outputId": "75016e2c-1742-4ae0-9562-59e222fd4ca7"
      },
      "outputs": [
        {
          "data": {
            "text/html": [
              "\u003cdiv\u003e\n",
              "\u003cstyle scoped\u003e\n",
              "    .dataframe tbody tr th:only-of-type {\n",
              "        vertical-align: middle;\n",
              "    }\n",
              "\n",
              "    .dataframe tbody tr th {\n",
              "        vertical-align: top;\n",
              "    }\n",
              "\n",
              "    .dataframe thead th {\n",
              "        text-align: right;\n",
              "    }\n",
              "\u003c/style\u003e\n",
              "\u003ctable border=\"1\" class=\"dataframe\"\u003e\n",
              "  \u003cthead\u003e\n",
              "    \u003ctr style=\"text-align: right;\"\u003e\n",
              "      \u003cth\u003e\u003c/th\u003e\n",
              "      \u003cth\u003esequence\u003c/th\u003e\n",
              "      \u003cth\u003epartition\u003c/th\u003e\n",
              "      \u003cth\u003emutation_sequence\u003c/th\u003e\n",
              "      \u003cth\u003enum_mutations\u003c/th\u003e\n",
              "      \u003cth\u003enum_edits\u003c/th\u003e\n",
              "      \u003cth\u003eviral_selection\u003c/th\u003e\n",
              "      \u003cth\u003eis_viable\u003c/th\u003e\n",
              "    \u003c/tr\u003e\n",
              "  \u003c/thead\u003e\n",
              "  \u003ctbody\u003e\n",
              "    \u003ctr\u003e\n",
              "      \u003cth\u003e0\u003c/th\u003e\n",
              "      \u003ctd\u003eADEEIRATNPIATEMYGSVSTNLQLGNR\u003c/td\u003e\n",
              "      \u003ctd\u003edesigned\u003c/td\u003e\n",
              "      \u003ctd\u003eAD____A___I___M_________L___\u003c/td\u003e\n",
              "      \u003ctd\u003e6\u003c/td\u003e\n",
              "      \u003ctd\u003e6\u003c/td\u003e\n",
              "      \u003ctd\u003e-2.027259\u003c/td\u003e\n",
              "      \u003ctd\u003eFalse\u003c/td\u003e\n",
              "    \u003c/tr\u003e\n",
              "    \u003ctr\u003e\n",
              "      \u003cth\u003e1\u003c/th\u003e\n",
              "      \u003ctd\u003eADEEIRATNPVATEQYGSVSTNQQRQNR\u003c/td\u003e\n",
              "      \u003ctd\u003edesigned\u003c/td\u003e\n",
              "      \u003ctd\u003eAD____A_______________Q__Q__\u003c/td\u003e\n",
              "      \u003ctd\u003e5\u003c/td\u003e\n",
              "      \u003ctd\u003e5\u003c/td\u003e\n",
              "      \u003ctd\u003e-0.429554\u003c/td\u003e\n",
              "      \u003ctd\u003eTrue\u003c/td\u003e\n",
              "    \u003c/tr\u003e\n",
              "    \u003ctr\u003e\n",
              "      \u003cth\u003e2\u003c/th\u003e\n",
              "      \u003ctd\u003eADEEIRTTNPVATEQWGGVSTNLQIGNY\u003c/td\u003e\n",
              "      \u003ctd\u003edesigned\u003c/td\u003e\n",
              "      \u003ctd\u003eAD_____________W_G______I__Y\u003c/td\u003e\n",
              "      \u003ctd\u003e6\u003c/td\u003e\n",
              "      \u003ctd\u003e6\u003c/td\u003e\n",
              "      \u003ctd\u003e-0.527843\u003c/td\u003e\n",
              "      \u003ctd\u003eTrue\u003c/td\u003e\n",
              "    \u003c/tr\u003e\n",
              "  \u003c/tbody\u003e\n",
              "\u003c/table\u003e\n",
              "\u003c/div\u003e"
            ],
            "text/plain": [
              "                       sequence partition             mutation_sequence  \\\n",
              "0  ADEEIRATNPIATEMYGSVSTNLQLGNR  designed  AD____A___I___M_________L___   \n",
              "1  ADEEIRATNPVATEQYGSVSTNQQRQNR  designed  AD____A_______________Q__Q__   \n",
              "2  ADEEIRTTNPVATEQWGGVSTNLQIGNY  designed  AD_____________W_G______I__Y   \n",
              "\n",
              "   num_mutations  num_edits  viral_selection  is_viable  \n",
              "0              6          6        -2.027259      False  \n",
              "1              5          5        -0.429554       True  \n",
              "2              6          6        -0.527843       True  "
            ]
          },
          "execution_count": 2,
          "metadata": {
            "tags": []
          },
          "output_type": "execute_result"
        }
      ],
      "source": [
        "# Version to use with Jupyter (put zip file in the same directory)\n",
        "my_zip = zipfile.ZipFile('allseqs_20191230.csv.zip')\n",
        "my_zip.extractall() # extract csv file to the current working directory\n",
        "\n",
        "df = pandas.read_csv('allseqs_20191230.csv', index_col=None)\n",
        "df.head(3)"
      ]
    },
    {
      "cell_type": "markdown",
      "metadata": {
        "id": "HUwsFJUfD4Cm"
      },
      "source": [
        "### Code used to create subsampled partitions"
      ]
    },
    {
      "cell_type": "code",
      "execution_count": null,
      "metadata": {
        "id": "VUfUWUUcEB_n",
        "outputId": "f8ac9649-2bfe-48a6-c95f-c492fbb84195"
      },
      "outputs": [
        {
          "data": {
            "text/html": [
              "\u003cdiv\u003e\n",
              "\u003cstyle scoped\u003e\n",
              "    .dataframe tbody tr th:only-of-type {\n",
              "        vertical-align: middle;\n",
              "    }\n",
              "\n",
              "    .dataframe tbody tr th {\n",
              "        vertical-align: top;\n",
              "    }\n",
              "\n",
              "    .dataframe thead th {\n",
              "        text-align: right;\n",
              "    }\n",
              "\u003c/style\u003e\n",
              "\u003ctable border=\"1\" class=\"dataframe\"\u003e\n",
              "  \u003cthead\u003e\n",
              "    \u003ctr style=\"text-align: right;\"\u003e\n",
              "      \u003cth\u003e\u003c/th\u003e\n",
              "      \u003cth\u003epartition\u003c/th\u003e\n",
              "      \u003cth\u003e0\u003c/th\u003e\n",
              "    \u003c/tr\u003e\n",
              "  \u003c/thead\u003e\n",
              "  \u003ctbody\u003e\n",
              "    \u003ctr\u003e\n",
              "      \u003cth\u003e8\u003c/th\u003e\n",
              "      \u003ctd\u003elr_designed_plus_rand_train_walked\u003c/td\u003e\n",
              "      \u003ctd\u003e19680\u003c/td\u003e\n",
              "    \u003c/tr\u003e\n",
              "    \u003ctr\u003e\n",
              "      \u003cth\u003e10\u003c/th\u003e\n",
              "      \u003ctd\u003elr_rand_doubles_plus_single_walked\u003c/td\u003e\n",
              "      \u003ctd\u003e19999\u003c/td\u003e\n",
              "    \u003c/tr\u003e\n",
              "    \u003ctr\u003e\n",
              "      \u003cth\u003e20\u003c/th\u003e\n",
              "      \u003ctd\u003ernn_rand_doubles_plus_singles_walked\u003c/td\u003e\n",
              "      \u003ctd\u003e20154\u003c/td\u003e\n",
              "    \u003c/tr\u003e\n",
              "    \u003ctr\u003e\n",
              "      \u003cth\u003e5\u003c/th\u003e\n",
              "      \u003ctd\u003ecnn_standard_walked\u003c/td\u003e\n",
              "      \u003ctd\u003e20395\u003c/td\u003e\n",
              "    \u003c/tr\u003e\n",
              "    \u003ctr\u003e\n",
              "      \u003cth\u003e3\u003c/th\u003e\n",
              "      \u003ctd\u003ecnn_rand_doubles_plus_single_walked\u003c/td\u003e\n",
              "      \u003ctd\u003e20454\u003c/td\u003e\n",
              "    \u003c/tr\u003e\n",
              "    \u003ctr\u003e\n",
              "      \u003cth\u003e12\u003c/th\u003e\n",
              "      \u003ctd\u003elr_standard_walked\u003c/td\u003e\n",
              "      \u003ctd\u003e20456\u003c/td\u003e\n",
              "    \u003c/tr\u003e\n",
              "    \u003ctr\u003e\n",
              "      \u003cth\u003e18\u003c/th\u003e\n",
              "      \u003ctd\u003ernn_designed_plus_rand_train_walked\u003c/td\u003e\n",
              "      \u003ctd\u003e20731\u003c/td\u003e\n",
              "    \u003c/tr\u003e\n",
              "    \u003ctr\u003e\n",
              "      \u003cth\u003e1\u003c/th\u003e\n",
              "      \u003ctd\u003ecnn_designed_plus_rand_train_walked\u003c/td\u003e\n",
              "      \u003ctd\u003e20759\u003c/td\u003e\n",
              "    \u003c/tr\u003e\n",
              "    \u003ctr\u003e\n",
              "      \u003cth\u003e22\u003c/th\u003e\n",
              "      \u003ctd\u003ernn_standard_walked\u003c/td\u003e\n",
              "      \u003ctd\u003e20838\u003c/td\u003e\n",
              "    \u003c/tr\u003e\n",
              "  \u003c/tbody\u003e\n",
              "\u003c/table\u003e\n",
              "\u003c/div\u003e"
            ],
            "text/plain": [
              "                               partition      0\n",
              "8     lr_designed_plus_rand_train_walked  19680\n",
              "10    lr_rand_doubles_plus_single_walked  19999\n",
              "20  rnn_rand_doubles_plus_singles_walked  20154\n",
              "5                    cnn_standard_walked  20395\n",
              "3    cnn_rand_doubles_plus_single_walked  20454\n",
              "12                    lr_standard_walked  20456\n",
              "18   rnn_designed_plus_rand_train_walked  20731\n",
              "1    cnn_designed_plus_rand_train_walked  20759\n",
              "22                   rnn_standard_walked  20838"
            ]
          },
          "execution_count": 3,
          "metadata": {
            "tags": []
          },
          "output_type": "execute_result"
        }
      ],
      "source": [
        "sizes = df.groupby('partition').size().reset_index()\n",
        "sizes[sizes.partition.str.endswith('walked')].sort_values(0)"
      ]
    },
    {
      "cell_type": "code",
      "execution_count": null,
      "metadata": {
        "id": "HQK02xQxFk2y",
        "outputId": "f7a0b903-db85-4ab7-889c-f5df0596f618"
      },
      "outputs": [
        {
          "name": "stdout",
          "output_type": "stream",
          "text": [
            "cnn_designed_plus_rand_train_walked (19680, 7)\n",
            "cnn_rand_doubles_plus_single_walked (19680, 7)\n",
            "cnn_standard_walked (19680, 7)\n",
            "designed (19680, 7)\n",
            "lr_designed_plus_rand_train_walked (19680, 7)\n",
            "lr_rand_doubles_plus_single_walked (19680, 7)\n",
            "lr_standard_walked (19680, 7)\n",
            "rnn_designed_plus_rand_train_walked (19680, 7)\n",
            "rnn_rand_doubles_plus_singles_walked (19680, 7)\n",
            "rnn_standard_walked (19680, 7)\n"
          ]
        }
      ],
      "source": [
        "for p, g in df.groupby('partition'):\n",
        "  if p not in ['lr_rand_doubles_plus_single_walked',\n",
        " 'lr_designed_plus_rand_train_walked',\n",
        " 'cnn_rand_doubles_plus_single_walked',\n",
        " 'rnn_rand_doubles_plus_singles_walked',\n",
        " 'cnn_standard_walked',\n",
        " 'rnn_designed_plus_rand_train_walked',\n",
        " 'rnn_standard_walked',\n",
        " 'cnn_designed_plus_rand_train_walked',\n",
        " 'lr_standard_walked',\n",
        " 'designed']:\n",
        "    continue\n",
        "  subsample = g.sample(n=19680, replace=False, random_state=777)\n",
        "  print p, subsample.shape\n",
        "  subsample = subsample.sort_values(by='num_edits', ascending=False)  # sort far =\u003e near\n",
        "  subsample.to_csv(index=None)"
      ]
    },
    {
      "cell_type": "markdown",
      "metadata": {
        "id": "lMZtqAIW7OKd"
      },
      "source": [
        "## Load subsampled partitions"
      ]
    },
    {
      "cell_type": "code",
      "execution_count": null,
      "metadata": {
        "id": "POos0y660WJE"
      },
      "outputs": [],
      "source": [
        "# Version to use with Jupyter (put tar file in the same directory)\n",
        "my_tar = tarfile.open('subsampled.tar.gz')\n",
        "my_tar.extractall('./') # specify which folder to extract to\n",
        "my_tar.close()"
      ]
    },
    {
      "cell_type": "markdown",
      "metadata": {
        "id": "NI5kuun19uuH"
      },
      "source": [
        "## Load clustered subsampled partitions"
      ]
    },
    {
      "cell_type": "code",
      "execution_count": null,
      "metadata": {
        "id": "bMs_CTaMxmLV"
      },
      "outputs": [],
      "source": [
        "# Version to use with Jupyter (put tar file in the same directory)\n",
        "my_tar = tarfile.open('clusters.tar.gz')\n",
        "my_tar.extractall('./') # specify which folder to extract to\n",
        "my_tar.close()"
      ]
    },
    {
      "cell_type": "markdown",
      "metadata": {
        "id": "A799iLaedM1Z"
      },
      "source": [
        "## Load viable clusters"
      ]
    },
    {
      "cell_type": "code",
      "execution_count": null,
      "metadata": {
        "id": "Wetw-JR-0mcu"
      },
      "outputs": [],
      "source": [
        "# Version to use with Jupyter (put tar file in the same directory)\n",
        "my_tar = tarfile.open('viable_clusters.tar.gz')\n",
        "my_tar.extractall('./') # specify which folder to extract to\n",
        "my_tar.close()"
      ]
    },
    {
      "cell_type": "markdown",
      "metadata": {
        "id": "mm71ToT99a5y"
      },
      "source": [
        "## Code used to make clusters from the sequence partitions"
      ]
    },
    {
      "cell_type": "code",
      "execution_count": null,
      "metadata": {
        "id": "pfaulu34-dV3"
      },
      "outputs": [],
      "source": [
        "def levenshtein_distances(df):\n",
        "  \"\"\"Calculates Levenshtein distance matrix for Wrangler df.\n",
        "\n",
        "  Args:\n",
        "    df: (dataframe) A frame representing experimental data from our\n",
        "    collaborators containing a column 'sequence' with amino acid sequences.\n",
        "\n",
        "  Returns:\n",
        "    A numpy.ndarray(shape=(len(df), len(df)), dtype=float).\n",
        "  \"\"\"\n",
        "  seqs = list(df.sequence)\n",
        "  ldistance = Levenshtein.distance\n",
        "  transformed_seqs = numpy.array(seqs).reshape(-1, 1)\n",
        "  ld = distance.pdist(\n",
        "      transformed_seqs, lambda x, y: ldistance(x[0], y[0]))\n",
        "  return distance.squareform(ld)"
      ]
    },
    {
      "cell_type": "code",
      "execution_count": null,
      "metadata": {
        "id": "sebR7RzD-alp"
      },
      "outputs": [],
      "source": [
        "def get_clusters(df, dm, cluster_threshold):\n",
        "  \"\"\"Clusters sequences using a pairwise distance matrix at a threshold.\n",
        "\n",
        "  Args:\n",
        "    df: (dataframe) A pandas dataframe, containing a column 'sequence' with\n",
        "      amino acid sequences, a column 'partition' indicating what dataset the\n",
        "      sequences are from, and a column 'num_edits' indicating the Levenshtein\n",
        "      distance of each amino acid sequence from the wildtype.\n",
        "    dm: A numpy.ndarray(shape=(len(df), len(df)), dtype=float)\n",
        "    cluster_threshold: Clustering radius to use.\n",
        "\n",
        "  Returns:\n",
        "    n_clusters: (int) Number of clusters formed.\n",
        "\n",
        "    cluster_ids: (ndarray(int, shape=len(df)) Indicates which cluster each\n",
        "      sequence has been assigned to (zero-indexed).\n",
        "  \"\"\"\n",
        "  if len(df) != len(dm):\n",
        "    raise ValueError(\n",
        "        'Dataframe has %d sequences, but distance matrix is shape %r'\n",
        "        % (len(df), dm.shape))\n",
        "\n",
        "  cluster_ids = numpy.full(len(df), numpy.nan)\n",
        "  is_unassigned = numpy.isnan(cluster_ids)\n",
        "  current_cluster_id = 0\n",
        "  while numpy.any(is_unassigned):\n",
        "    # Next founder is lowest-index sequence that hasn't already been clustered.\n",
        "    founder_index = numpy.where(is_unassigned)[0][0]\n",
        "    cluster_mask = dm[:, founder_index] \u003c cluster_threshold\n",
        "    # Assign a cluster ID to the set of indices for the new cluster.\n",
        "    cluster_ids[cluster_mask] = current_cluster_id\n",
        "\n",
        "    is_unassigned = numpy.isnan(cluster_ids)\n",
        "    current_cluster_id += 1\n",
        "\n",
        "  return current_cluster_id, cluster_ids"
      ]
    },
    {
      "cell_type": "code",
      "execution_count": null,
      "metadata": {
        "id": "93fcu0wt-UO-"
      },
      "outputs": [],
      "source": [
        "def get_all_clusters(df, dm=None, min_mut=0, min_cluster_threshold=5,\n",
        "                     max_cluster_threshold=40):\n",
        "  \"\"\"Clusters a set of sequences using a range of cluster thresholds.\n",
        "\n",
        "  The number of effective sequences is calculated at diversity thresholds in the\n",
        "  range min_cluster_threshold to max_cluster_threshold specified.\n",
        "\n",
        "  Args:\n",
        "    df: (dataframe) A pandas dataframe, containing a column 'sequence' with\n",
        "      amino acid sequences, a column 'partition' indicating what dataset the\n",
        "      sequences are from, and a column 'num_edits' indicating the Levenshtein\n",
        "      distance of each amino acid sequence from the wildtype with N sequences.\n",
        "    dm: (numpy.array(shape=(N,N)) A pairwise distance matrix for the N sequences\n",
        "      or None\n",
        "    min_mut: (int) Cluster sequences greater than this distance from wild type.\n",
        "    min_cluster_threshold: Smallest clustering radius to use.\n",
        "    max_cluster_threshold: Largest clustering radius to use.\n",
        "\n",
        "  Returns:\n",
        "    n_clusters: (ndarray, size (nsteps-1)) Array containing the number of\n",
        "      clusters found for each size between min_cluster_threshold and\n",
        "      max_cluster_threshold inclusive.\n",
        "    all_clusters_df: A pandas dataframe with the columns specified for the input\n",
        "      df, plus an additional column per cluster threshold indicating the\n",
        "      cluster_id of each sequence, with the column name denoting the cluster\n",
        "      radius.\n",
        "  \"\"\"\n",
        "  df = df[df.num_edits \u003e= min_mut].copy()\n",
        "  if dm is None:\n",
        "    dm = levenshtein_distances(df)\n",
        "  all_n_clusters = []\n",
        "  for cluster_threshold in range(\n",
        "      min_cluster_threshold, max_cluster_threshold+1):\n",
        "\n",
        "    n_clusters, cluster_ids = get_clusters(df, dm, cluster_threshold)\n",
        "    assert cluster_threshold not in df  # i.e., column doesnt exist already.\n",
        "    df[cluster_threshold] = cluster_ids\n",
        "    all_n_clusters.append(n_clusters)\n",
        "\n",
        "  return all_n_clusters, df"
      ]
    },
    {
      "cell_type": "markdown",
      "metadata": {
        "id": "LrJ5phQP8pJq"
      },
      "source": [
        "### Example using the clustering code to cluster sequences from one partition."
      ]
    },
    {
      "cell_type": "code",
      "execution_count": null,
      "metadata": {
        "colab": {
          "base_uri": "https://localhost:8080/",
          "height": 52
        },
        "executionInfo": {
          "elapsed": 607087,
          "status": "ok",
          "timestamp": 1586487689181,
          "user": {
            "displayName": "Lucy Colwell",
            "photoUrl": "https://lh3.googleusercontent.com/a-/AOh14GhDVS9VL55nJ_BMyjGqE4RYboOf4i5N9LaE148oGg=s64",
            "userId": "17590064334699832966"
          },
          "user_tz": 240
        },
        "id": "r_sKV6E2-S2G",
        "outputId": "468778ef-3d14-40d1-bbb0-52f58e485b51",
        "scrolled": true
      },
      "outputs": [
        {
          "name": "stdout",
          "output_type": "stream",
          "text": [
            "CPU times: user 8min 8s, sys: 13.4 s, total: 8min 22s\n",
            "Wall time: 8min 33s\n"
          ]
        }
      ],
      "source": [
        "%%time\n",
        "cluster_dir = 'clusters'\n",
        "partition = 'designed'\n",
        "\n",
        "f = os.path.join(cluster_dir, '%s.csv' % partition)\n",
        "sequence_df = pandas.read_csv(f, index_col=None)\n",
        "\n",
        "n_clusters, clustered_df = get_all_clusters(sequence_df, dm=None, min_mut=0, min_cluster_threshold=2, max_cluster_threshold=40)\n",
        "clustered_df.head().T"
      ]
    },
    {
      "cell_type": "markdown",
      "metadata": {
        "id": "nQdtTkxBeLpc"
      },
      "source": [
        "### Example using the clustering code to cluster viable sequences from one partition."
      ]
    },
    {
      "cell_type": "code",
      "execution_count": null,
      "metadata": {
        "id": "HYxYC9NmePuk",
        "outputId": "41673479-ce1c-4b57-fb3f-fcd8e9167c0b"
      },
      "outputs": [
        {
          "name": "stdout",
          "output_type": "stream",
          "text": [
            "CPU times: user 2min 56s, sys: 3.15 s, total: 2min 59s\n",
            "Wall time: 3min 2s\n"
          ]
        }
      ],
      "source": [
        "%%time\n",
        "viable_cluster_dir = 'viable_clusters'\n",
        "partition = 'designed'\n",
        "\n",
        "f = os.path.join(viable_cluster_dir, '%s.csv' % partition)\n",
        "df = pandas.read_csv(f, index_col=None)\n",
        " \n",
        "viable_df = df[df.is_viable]\n",
        "\n",
        "n_clusters, df_viable_clusters = get_all_clusters(viable_df, dm=None, min_cluster_threshold=2, max_cluster_threshold=40)\n",
        "df_viable_clusters.head().T"
      ]
    },
    {
      "cell_type": "markdown",
      "metadata": {
        "id": "9ue33qoF976e"
      },
      "source": [
        "## Num clusters vs radius plots (Figure 4a, viable sequence only)"
      ]
    },
    {
      "cell_type": "code",
      "execution_count": null,
      "metadata": {
        "colab": {
          "base_uri": "https://localhost:8080/",
          "height": 388
        },
        "executionInfo": {
          "elapsed": 219669,
          "status": "ok",
          "timestamp": 1587000220311,
          "user": {
            "displayName": "Lucy Colwell",
            "photoUrl": "https://lh3.googleusercontent.com/a-/AOh14GhDVS9VL55nJ_BMyjGqE4RYboOf4i5N9LaE148oGg=s64",
            "userId": "17590064334699832966"
          },
          "user_tz": 240
        },
        "id": "i369DDCk98Qz",
        "outputId": "a830b9c4-375d-4a5d-f5f9-08af13e901cc"
      },
      "outputs": [
        {
          "name": "stdout",
          "output_type": "stream",
          "text": [
            "Loading data from \"lr_rand_doubles_plus_single_walked\"\n",
            "Loading data from \"lr_designed_plus_rand_train_walked\"\n",
            "Loading data from \"cnn_rand_doubles_plus_single_walked\"\n",
            "Loading data from \"rnn_rand_doubles_plus_singles_walked\"\n",
            "Loading data from \"cnn_standard_walked\"\n",
            "Loading data from \"rnn_designed_plus_rand_train_walked\"\n",
            "Loading data from \"rnn_standard_walked\"\n",
            "Loading data from \"cnn_designed_plus_rand_train_walked\"\n",
            "Loading data from \"lr_standard_walked\"\n",
            "Loading data from \"designed\"\n",
            "(446879, 6)\n"
          ]
        },
        {
          "data": {
            "text/html": [
              "\u003cdiv\u003e\n",
              "\u003cstyle scoped\u003e\n",
              "    .dataframe tbody tr th:only-of-type {\n",
              "        vertical-align: middle;\n",
              "    }\n",
              "\n",
              "    .dataframe tbody tr th {\n",
              "        vertical-align: top;\n",
              "    }\n",
              "\n",
              "    .dataframe thead th {\n",
              "        text-align: right;\n",
              "    }\n",
              "\u003c/style\u003e\n",
              "\u003ctable border=\"1\" class=\"dataframe\"\u003e\n",
              "  \u003cthead\u003e\n",
              "    \u003ctr style=\"text-align: right;\"\u003e\n",
              "      \u003cth\u003e\u003c/th\u003e\n",
              "      \u003cth\u003en_clusters\u003c/th\u003e\n",
              "      \u003cth\u003epartition\u003c/th\u003e\n",
              "      \u003cth\u003eradius\u003c/th\u003e\n",
              "    \u003c/tr\u003e\n",
              "  \u003c/thead\u003e\n",
              "  \u003ctbody\u003e\n",
              "    \u003ctr\u003e\n",
              "      \u003cth\u003e0\u003c/th\u003e\n",
              "      \u003ctd\u003e14183\u003c/td\u003e\n",
              "      \u003ctd\u003ecnn_designed_plus_rand_train_walked\u003c/td\u003e\n",
              "      \u003ctd\u003e2\u003c/td\u003e\n",
              "    \u003c/tr\u003e\n",
              "    \u003ctr\u003e\n",
              "      \u003cth\u003e1\u003c/th\u003e\n",
              "      \u003ctd\u003e13991\u003c/td\u003e\n",
              "      \u003ctd\u003ecnn_designed_plus_rand_train_walked\u003c/td\u003e\n",
              "      \u003ctd\u003e3\u003c/td\u003e\n",
              "    \u003c/tr\u003e\n",
              "    \u003ctr\u003e\n",
              "      \u003cth\u003e2\u003c/th\u003e\n",
              "      \u003ctd\u003e9272\u003c/td\u003e\n",
              "      \u003ctd\u003ecnn_designed_plus_rand_train_walked\u003c/td\u003e\n",
              "      \u003ctd\u003e4\u003c/td\u003e\n",
              "    \u003c/tr\u003e\n",
              "    \u003ctr\u003e\n",
              "      \u003cth\u003e3\u003c/th\u003e\n",
              "      \u003ctd\u003e6481\u003c/td\u003e\n",
              "      \u003ctd\u003ecnn_designed_plus_rand_train_walked\u003c/td\u003e\n",
              "      \u003ctd\u003e5\u003c/td\u003e\n",
              "    \u003c/tr\u003e\n",
              "    \u003ctr\u003e\n",
              "      \u003cth\u003e4\u003c/th\u003e\n",
              "      \u003ctd\u003e4662\u003c/td\u003e\n",
              "      \u003ctd\u003ecnn_designed_plus_rand_train_walked\u003c/td\u003e\n",
              "      \u003ctd\u003e6\u003c/td\u003e\n",
              "    \u003c/tr\u003e\n",
              "  \u003c/tbody\u003e\n",
              "\u003c/table\u003e\n",
              "\u003c/div\u003e"
            ],
            "text/plain": [
              "   n_clusters                            partition  radius\n",
              "0       14183  cnn_designed_plus_rand_train_walked       2\n",
              "1       13991  cnn_designed_plus_rand_train_walked       3\n",
              "2        9272  cnn_designed_plus_rand_train_walked       4\n",
              "3        6481  cnn_designed_plus_rand_train_walked       5\n",
              "4        4662  cnn_designed_plus_rand_train_walked       6"
            ]
          },
          "metadata": {
            "tags": []
          },
          "output_type": "display_data"
        }
      ],
      "source": [
        "MIN_RADIUS = 2\n",
        "MAX_RADIUS = 40\n",
        "partitions = [\n",
        "    'lr_rand_doubles_plus_single_walked',\n",
        "    'lr_designed_plus_rand_train_walked',\n",
        "    'cnn_rand_doubles_plus_single_walked',\n",
        "    'rnn_rand_doubles_plus_singles_walked',\n",
        "    'cnn_standard_walked',\n",
        "    'rnn_designed_plus_rand_train_walked',\n",
        "    'rnn_standard_walked',\n",
        "    'cnn_designed_plus_rand_train_walked',\n",
        "    'lr_standard_walked',\n",
        "    'designed']\n",
        "    \n",
        "\n",
        "def load_clusterings(outdir, partition):\n",
        "  f = os.path.join(outdir, '%s.csv' % partition)\n",
        "  print('Loading data from \"%s\"' % partition)\n",
        "  clusters_df = pandas.read_csv(f, index_col=None)\n",
        "  return clusters_df\n",
        "\n",
        "\n",
        "def get_all_cluster_stats(\n",
        "    df, partition, min_radius=MIN_RADIUS, max_radius=MAX_RADIUS):\n",
        "  all_stats = []\n",
        "  for radius in range(min_radius, max_radius+1):\n",
        "    stats = get_cluster_stats(df, radius)\n",
        "    stats['radius'] = radius\n",
        "    stats['partition'] = partition\n",
        "    all_stats.append(stats)\n",
        "  return pandas.concat(all_stats)\n",
        "\n",
        "\n",
        "def get_cluster_stats(df, radius):\n",
        "  cluster_id_colname = str(radius)\n",
        "  stats = pandas.DataFrame([\n",
        "    {\n",
        "        'cluster_id': int(cluster_id),\n",
        "        'num_seqs': len(cluster),\n",
        "        'num_viable': cluster.is_viable.sum(),\n",
        "        'precision': cluster.is_viable.mean(),    \n",
        "    }\n",
        "    for cluster_id, cluster \n",
        "    in df.groupby(by=cluster_id_colname)\n",
        "  ])\n",
        "  return stats\n",
        "\n",
        "viable_clusterings = {\n",
        "    p: load_clusterings('viable_clusters', p)\n",
        "    for p in partitions\n",
        "}\n",
        "\n",
        "viable_clustering_stats = pandas.concat([\n",
        "    get_all_cluster_stats(viable_clusterings[p], p)\n",
        "    for p in partitions\n",
        "])\n",
        "\n",
        "print(viable_clustering_stats.shape)\n",
        "viable_clustering_stats.head(5)\n",
        "\n",
        "viable_clustering_stats_agg_rows = []\n",
        "for (p, r), g in viable_clustering_stats.groupby(['partition', 'radius']):\n",
        "  viable_clustering_stats_agg_rows.append(\n",
        "      {'partition': p, 'radius': r, 'n_clusters': (g.num_viable \u003e 0).sum()})\n",
        "  \n",
        "viable_clustering_stats_agg = pandas.DataFrame(viable_clustering_stats_agg_rows)  \n",
        "display(viable_clustering_stats_agg.head())"
      ]
    },
    {
      "cell_type": "code",
      "execution_count": null,
      "metadata": {
        "colab": {
          "base_uri": "https://localhost:8080/",
          "height": 815
        },
        "executionInfo": {
          "elapsed": 1942,
          "status": "ok",
          "timestamp": 1587000251306,
          "user": {
            "displayName": "Lucy Colwell",
            "photoUrl": "https://lh3.googleusercontent.com/a-/AOh14GhDVS9VL55nJ_BMyjGqE4RYboOf4i5N9LaE148oGg=s64",
            "userId": "17590064334699832966"
          },
          "user_tz": 240
        },
        "id": "P2ez7t4m-B_Y",
        "outputId": "6f95d287-0e3f-4ab9-e037-74aedbe043bc"
      },
      "outputs": [
        {
          "data": {
            "image/png": "[encoded data removed]",
            "text/plain": [
              "\u003cFigure size 432x288 with 1 Axes\u003e"
            ]
          },
          "metadata": {
            "needs_background": "light",
            "tags": []
          },
          "output_type": "display_data"
        },
        {
          "data": {
            "image/png": "[encoded data removed]",
            "text/plain": [
              "\u003cFigure size 432x288 with 1 Axes\u003e"
            ]
          },
          "metadata": {
            "needs_background": "light",
            "tags": []
          },
          "output_type": "display_data"
        },
        {
          "data": {
            "image/png": "[encoded data removed]",
            "text/plain": [
              "\u003cFigure size 432x288 with 1 Axes\u003e"
            ]
          },
          "metadata": {
            "needs_background": "light",
            "tags": []
          },
          "output_type": "display_data"
        }
      ],
      "source": [
        "legend_labels = {\n",
        "    'cnn_designed_plus_rand_train_walked': 'CNN',\n",
        "    'cnn_rand_doubles_plus_single_walked': 'CNN',\n",
        "    'cnn_standard_walked': 'CNN',\n",
        "    'designed': 'Additive',\n",
        "    'lr_designed_plus_rand_train_walked': 'LR',\n",
        "    'lr_rand_doubles_plus_single_walked': 'LR',\n",
        "    'lr_standard_walked': 'LR',\n",
        "    'rnn_designed_plus_rand_train_walked': 'RNN',\n",
        "    'rnn_rand_doubles_plus_singles_walked': 'RNN',\n",
        "    'rnn_standard_walked': 'RNN',    \n",
        "}\n",
        "blues_palette = seaborn.color_palette('Blues')\n",
        "oranges_palette = seaborn.color_palette('Oranges')\n",
        "purples_palette = seaborn.color_palette('Purples')\n",
        "greens_palette = seaborn.color_palette('Greens')\n",
        "DEFAULT_SATURATION_INDEX = -2\n",
        "designed_color = (109/255., 109/255., 109/255.) # gray\n",
        "\n",
        "\n",
        "def get_arch_color_for_partition(category, saturation_index=DEFAULT_SATURATION_INDEX):\n",
        "  if category.startswith('lr'):\n",
        "    color = oranges_palette[saturation_index-1]\n",
        "  elif category.startswith('cnn'):\n",
        "    color = blues_palette[saturation_index]\n",
        "  elif category.startswith('rnn'):\n",
        "    color = greens_palette[saturation_index]\n",
        "  elif category == 'designed':\n",
        "    color = designed_color\n",
        "  elif category == 'rand':  # FIXME probably pick something better.... Sam used this for ivis plots so using for consistency\n",
        "    color = 'black'\n",
        "  else:\n",
        "    raise ValueError('??: \"%s\"' % category)\n",
        "  return color\n",
        "\n",
        "  \n",
        "def plot_num_clusters_vs_radius(\n",
        "    df,\n",
        "    partitions,\n",
        "    figsize=(2.5, 1.5),\n",
        "    dpi=300,\n",
        "    scale=1,\n",
        "    title=None):\n",
        "\n",
        "  pyplot.figure()\n",
        "  for partition in partitions:\n",
        "    sub_df = df[df.partition == partition]\n",
        "    label = legend_labels[partition]\n",
        "    pyplot.plot(\n",
        "        sub_df.radius, \n",
        "        sub_df.n_clusters, \n",
        "        color=get_arch_color_for_partition(partition),\n",
        "        linestyle='-',\n",
        "        linewidth=1*scale,\n",
        "        label=label)\n",
        "  pyplot.axvline(\n",
        "      x=12, color='magenta', linestyle='-', alpha=.7, linewidth=.5*scale)\n",
        "  pyplot.yscale('log')\n",
        "  if title:\n",
        "    pyplot.title(title, fontsize=24)\n",
        "  \n",
        "  xtick_values, _ = pyplot.xticks()\n",
        "  pyplot.xticks([2] + list(xtick_values))\n",
        "  pyplot.xlim(3, 40)\n",
        "  pyplot.ylim(1, 20000)\n",
        "  pyplot.legend(frameon=False)\n",
        "  ax = pyplot.gca()\n",
        "  ax.tick_params(axis='both')\n",
        "  pyplot.xlabel('Cluster radius')\n",
        "\n",
        "scale=4\n",
        "plot_num_clusters_vs_radius(\n",
        "    viable_clustering_stats_agg, \n",
        "    [\n",
        "        'rnn_rand_doubles_plus_singles_walked',\n",
        "        'cnn_rand_doubles_plus_single_walked',\n",
        "        'lr_rand_doubles_plus_single_walked',     \n",
        "        'designed',\n",
        "    ],\n",
        "    scale=scale)\n",
        "plot_num_clusters_vs_radius(\n",
        "    viable_clustering_stats_agg, \n",
        "    [\n",
        "        'rnn_standard_walked',\n",
        "        'cnn_standard_walked',\n",
        "        'lr_standard_walked',                                             \n",
        "        'designed',     \n",
        "    ],\n",
        "    scale=scale)\n",
        "plot_num_clusters_vs_radius(\n",
        "    viable_clustering_stats_agg, \n",
        "    [\n",
        "        'rnn_designed_plus_rand_train_walked',\n",
        "        'cnn_designed_plus_rand_train_walked',\n",
        "        'lr_designed_plus_rand_train_walked',\n",
        "        'designed',\n",
        "    ],\n",
        "    scale=scale)"
      ]
    },
    {
      "cell_type": "markdown",
      "metadata": {
        "id": "qxRkhCCh91aj"
      },
      "source": [
        "## Figure 4b, Group by dataset line plots"
      ]
    },
    {
      "cell_type": "code",
      "execution_count": null,
      "metadata": {
        "colab": {
          "base_uri": "https://localhost:8080/",
          "height": 242
        },
        "executionInfo": {
          "elapsed": 408806,
          "status": "ok",
          "timestamp": 1587000663744,
          "user": {
            "displayName": "Lucy Colwell",
            "photoUrl": "https://lh3.googleusercontent.com/a-/AOh14GhDVS9VL55nJ_BMyjGqE4RYboOf4i5N9LaE148oGg=s64",
            "userId": "17590064334699832966"
          },
          "user_tz": 240
        },
        "id": "IABgTV9n9vVz",
        "outputId": "b3b79785-4151-4188-ab2d-c274f7ecf9eb"
      },
      "outputs": [
        {
          "name": "stdout",
          "output_type": "stream",
          "text": [
            "Loading data from \"lr_rand_doubles_plus_single_walked\"\n",
            "Loading data from \"lr_designed_plus_rand_train_walked\"\n",
            "Loading data from \"cnn_rand_doubles_plus_single_walked\"\n",
            "Loading data from \"rnn_rand_doubles_plus_singles_walked\"\n",
            "Loading data from \"cnn_standard_walked\"\n",
            "Loading data from \"rnn_designed_plus_rand_train_walked\"\n",
            "Loading data from \"rnn_standard_walked\"\n",
            "Loading data from \"cnn_designed_plus_rand_train_walked\"\n",
            "Loading data from \"lr_standard_walked\"\n",
            "Loading data from \"designed\"\n",
            "(830087, 6)\n",
            "CPU times: user 8min 20s, sys: 3.13 s, total: 8min 23s\n",
            "Wall time: 8min 27s\n"
          ]
        }
      ],
      "source": [
        "%%time\n",
        "# takes ~7 mins\n",
        "clusterings = {\n",
        "    p: load_clusterings('clusters', p)\n",
        "    for p in partitions\n",
        "}\n",
        "\n",
        "clustering_stats = pandas.concat([\n",
        "    get_all_cluster_stats(clusterings[p], p)\n",
        "    for p in partitions\n",
        "])\n",
        "\n",
        "print(clustering_stats.shape)\n",
        "clustering_stats.head(5)"
      ]
    },
    {
      "cell_type": "code",
      "execution_count": null,
      "metadata": {
        "colab": {
          "base_uri": "https://localhost:8080/",
          "height": 815
        },
        "executionInfo": {
          "elapsed": 987,
          "status": "ok",
          "timestamp": 1587000667211,
          "user": {
            "displayName": "Lucy Colwell",
            "photoUrl": "https://lh3.googleusercontent.com/a-/AOh14GhDVS9VL55nJ_BMyjGqE4RYboOf4i5N9LaE148oGg=s64",
            "userId": "17590064334699832966"
          },
          "user_tz": 240
        },
        "id": "uYQ-xbVO91q_",
        "outputId": "7cdb17ed-01c7-4b59-8086-768487c01ac2"
      },
      "outputs": [
        {
          "data": {
            "image/png": "[encoded data removed]",
            "text/plain": [
              "\u003cFigure size 432x288 with 1 Axes\u003e"
            ]
          },
          "metadata": {
            "needs_background": "light",
            "tags": []
          },
          "output_type": "display_data"
        },
        {
          "data": {
            "image/png": "[encoded data removed]",
            "text/plain": [
              "\u003cFigure size 432x288 with 1 Axes\u003e"
            ]
          },
          "metadata": {
            "needs_background": "light",
            "tags": []
          },
          "output_type": "display_data"
        },
        {
          "data": {
            "image/png": "[encoded data removed]",
            "text/plain": [
              "\u003cFigure size 432x288 with 1 Axes\u003e"
            ]
          },
          "metadata": {
            "needs_background": "light",
            "tags": []
          },
          "output_type": "display_data"
        }
      ],
      "source": [
        "def plot_n_clusters_vs_precision(\n",
        "    cluster_stats, \n",
        "    partitions,\n",
        "    dpi=300,\n",
        "    figsize=(2.5, 1),\n",
        "    radius=12,\n",
        "    scale=1):\n",
        "\n",
        "  pyplot.figure()\n",
        "  data = {}\n",
        "  cluster_stats = cluster_stats[cluster_stats.radius == radius]\n",
        "  assert len(cluster_stats) \u003e 0\n",
        "  for partition in partitions:\n",
        "    sub_df = cluster_stats[cluster_stats.partition == partition]\n",
        "    if sub_df.empty:\n",
        "      print('No rows for partition \"%s\"' % partition)\n",
        "      continue\n",
        "    precisions = sorted(sub_df.precision.unique())\n",
        "    n_clusters_gt_p = [(sub_df.precision \u003e= p).sum() for p in precisions]\n",
        "    # print('line\u003c%s\u003e: %r' % (partition, zip(n_clusters_gt_p, precisions)))\n",
        "    data[partition] = {'x': precisions, 'y': n_clusters_gt_p}\n",
        "    pyplot.plot(\n",
        "        precisions, n_clusters_gt_p, \n",
        "        label=legend_labels[partition],\n",
        "        color=get_arch_color_for_partition(partition),\n",
        "        linestyle='-',\n",
        "        linewidth=1*scale,\n",
        "        )\n",
        "  xticks = numpy.linspace(0, 1, 5)\n",
        "  xticks[0] = 0.05 # Move the start\n",
        "  pyplot.xticks(xticks, ['%.0f%%' % (x*100) for x in xticks])\n",
        "  pyplot.xlabel('Minimum cluster viability threshold')\n",
        "  pyplot.ylabel('# clusters \u003e= viability threshold')\n",
        "  pyplot.xlim(xticks[0], xticks[-1] + 0.01)\n",
        "  pyplot.ylim(0, 1150)\n",
        "  pyplot.yticks([0, 250, 500, 750, 1000])\n",
        "  ax = pyplot.gca()\n",
        "  ax.tick_params(axis='both')\n",
        "\n",
        "\n",
        "stats = clustering_stats\n",
        "scale = 4\n",
        "pdata = plot_n_clusters_vs_precision(stats, [\n",
        "    'rnn_rand_doubles_plus_singles_walked',\n",
        "    'cnn_rand_doubles_plus_single_walked',\n",
        "    'lr_rand_doubles_plus_single_walked',\n",
        "    'designed',\n",
        "], scale=scale)\n",
        "plot_n_clusters_vs_precision(stats, [\n",
        "    'rnn_standard_walked',\n",
        "    'cnn_standard_walked',\n",
        "    'lr_standard_walked',                                             \n",
        "    'designed',\n",
        "], scale=scale)\n",
        "plot_n_clusters_vs_precision(stats, [\n",
        "    'rnn_designed_plus_rand_train_walked',\n",
        "    'cnn_designed_plus_rand_train_walked',\n",
        "    'lr_designed_plus_rand_train_walked',\n",
        "    'designed',\n",
        "], scale=scale)"
      ]
    },
    {
      "cell_type": "code",
      "execution_count": null,
      "metadata": {
        "id": "VQnFzL_XA9vh"
      },
      "outputs": [],
      "source": [
        ""
      ]
    }
  ],
  "metadata": {
    "colab": {
      "collapsed_sections": [
        "HUwsFJUfD4Cm",
        "A799iLaedM1Z",
        "LrJ5phQP8pJq",
        "nQdtTkxBeLpc",
        "9ue33qoF976e",
        "qxRkhCCh91aj"
      ],
      "name": "200609_figure4_shared.ipynb",
      "provenance": [],
      "toc_visible": true
    },
    "kernelspec": {
      "display_name": "Python 2",
      "language": "python",
      "name": "python2"
    },
    "language_info": {
      "codemirror_mode": {
        "name": "ipython",
        "version": 2
      },
      "file_extension": ".py",
      "mimetype": "text/x-python",
      "name": "python",
      "nbconvert_exporter": "python",
      "pygments_lexer": "ipython2",
      "version": "2.7.16"
    }
  },
  "nbformat": 4,
  "nbformat_minor": 0
}
