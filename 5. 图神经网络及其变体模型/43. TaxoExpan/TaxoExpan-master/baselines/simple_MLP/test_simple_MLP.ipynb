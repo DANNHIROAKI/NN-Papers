{
 "cells": [
  {
   "cell_type": "code",
   "execution_count": 14,
   "metadata": {
    "ExecuteTime": {
     "end_time": "2019-06-20T18:36:46.609275Z",
     "start_time": "2019-06-20T18:36:46.578298Z"
    }
   },
   "outputs": [
    {
     "name": "stdout",
     "output_type": "stream",
     "text": [
      "The autoreload extension is already loaded. To reload it, use:\n",
      "  %reload_ext autoreload\n"
     ]
    }
   ],
   "source": [
    "import networkx as nx \n",
    "import dgl\n",
    "from gensim.models import KeyedVectors\n",
    "import numpy as np \n",
    "import torch \n",
    "import torch.nn as nn\n",
    "import torch.nn.functional as F\n",
    "from torch.utils.data import Dataset\n",
    "import random\n",
    "import pickle\n",
    "import time\n",
    "from tqdm import tqdm\n",
    "import random\n",
    "from data_loader import MAGDatasetSlim, EdgeDataset, SubGraphDataset, EdgeDataLoader, SubGraphDataLoader\n",
    "from itertools import chain\n",
    "from model import MLP, DeepSetMLP, bce_loss\n",
    "import os\n",
    "\n",
    "%load_ext autoreload\n",
    "%autoreload 2"
   ]
  },
  {
   "cell_type": "code",
   "execution_count": 2,
   "metadata": {
    "ExecuteTime": {
     "end_time": "2019-06-20T18:32:33.450067Z",
     "start_time": "2019-06-20T18:32:33.361198Z"
    }
   },
   "outputs": [],
   "source": [
    "mag_dataset = MAGDatasetSlim(name=\"computer_science\", path=\"../../data/MAG_FoS/computer_science.pickle.20190606.bin\")"
   ]
  },
  {
   "cell_type": "code",
   "execution_count": 9,
   "metadata": {
    "ExecuteTime": {
     "end_time": "2019-06-20T18:35:39.249711Z",
     "start_time": "2019-06-20T18:35:39.218179Z"
    }
   },
   "outputs": [],
   "source": [
    "pretrained_embedding = mag_dataset.g_full.ndata['x'].numpy()\n",
    "vocab_size, embed_dim = pretrained_embedding.shape"
   ]
  },
  {
   "cell_type": "code",
   "execution_count": null,
   "metadata": {
    "ExecuteTime": {
     "end_time": "2019-06-20T18:19:50.009863Z",
     "start_time": "2019-06-20T18:19:23.821875Z"
    }
   },
   "outputs": [],
   "source": [
    "train_dataset = SubGraphDataset(mag_dataset)"
   ]
  },
  {
   "cell_type": "code",
   "execution_count": 4,
   "metadata": {
    "ExecuteTime": {
     "end_time": "2019-06-20T18:33:02.462290Z",
     "start_time": "2019-06-20T18:32:36.289456Z"
    }
   },
   "outputs": [
    {
     "name": "stderr",
     "output_type": "stream",
     "text": [
      "generating intermediate data ...: 100%|██████████| 24754/24754 [00:25<00:00, 980.08it/s] "
     ]
    },
    {
     "name": "stdout",
     "output_type": "stream",
     "text": [
      "Finish loading dataset (26.081312894821167 seconds)\n"
     ]
    },
    {
     "name": "stderr",
     "output_type": "stream",
     "text": [
      "\n"
     ]
    }
   ],
   "source": [
    "train_loader = SubGraphDataLoader(data_path=\"../../data/MAG_FoS/computer_science.pickle.20190606.bin\", mode=\"train\")"
   ]
  },
  {
   "cell_type": "code",
   "execution_count": null,
   "metadata": {
    "ExecuteTime": {
     "end_time": "2019-06-18T20:29:42.533595Z",
     "start_time": "2019-06-18T20:29:39.598816Z"
    }
   },
   "outputs": [],
   "source": [
    "# train_loader = EdgeDataLoader(data_path=\"../../data/MAG_FoS/computer_science.pickle.20190606.bin\", mode=\"train\")\n",
    "# validation_loader = EdgeDataLoader(data_path=\"../../data/MAG_FoS/computer_science.pickle.20190606.bin\", mode=\"validation\")\n",
    "# test_loader = EdgeDataLoader(data_path=\"../../data/MAG_FoS/computer_science.pickle.20190606.bin\", mode=\"test\", batch_size=1, batch_type=\"large_batch\")"
   ]
  },
  {
   "cell_type": "code",
   "execution_count": 10,
   "metadata": {
    "ExecuteTime": {
     "end_time": "2019-06-20T18:35:45.079409Z",
     "start_time": "2019-06-20T18:35:45.058418Z"
    }
   },
   "outputs": [],
   "source": [
    "device = torch.device(\"cuda:0\")"
   ]
  },
  {
   "cell_type": "code",
   "execution_count": 15,
   "metadata": {
    "ExecuteTime": {
     "end_time": "2019-06-20T18:36:49.617677Z",
     "start_time": "2019-06-20T18:36:49.474040Z"
    }
   },
   "outputs": [],
   "source": [
    "model = DeepSetMLP(vocab_size, embed_dim, first_hidden=1200, second_hidden=600, activation=nn.LeakyReLU(), pretrained_embedding=pretrained_embedding)"
   ]
  },
  {
   "cell_type": "code",
   "execution_count": 5,
   "metadata": {
    "ExecuteTime": {
     "end_time": "2019-06-20T18:33:42.013426Z",
     "start_time": "2019-06-20T18:33:41.153560Z"
    }
   },
   "outputs": [],
   "source": [
    "for idx, (parents, siblings, children, labels) in enumerate(train_loader):\n",
    "#     cur_samples = sampless\n",
    "    cp = parents\n",
    "    cs = siblings\n",
    "    cc = children\n",
    "    cl = labels\n",
    "    break"
   ]
  },
  {
   "cell_type": "code",
   "execution_count": 16,
   "metadata": {
    "ExecuteTime": {
     "end_time": "2019-06-20T18:36:51.770215Z",
     "start_time": "2019-06-20T18:36:51.618621Z"
    }
   },
   "outputs": [
    {
     "data": {
      "text/plain": [
       "tensor([[-4.9991e-02],\n",
       "        [ 1.8081e-02],\n",
       "        [ 5.1782e-02],\n",
       "        [ 3.4357e-02],\n",
       "        [ 3.9084e-03],\n",
       "        [ 1.7217e-02],\n",
       "        [ 2.6182e-02],\n",
       "        [ 2.3576e-02],\n",
       "        [ 1.9715e-02],\n",
       "        [ 3.5165e-04],\n",
       "        [ 7.2886e-02],\n",
       "        [ 3.3833e-02],\n",
       "        [ 3.0351e-02],\n",
       "        [ 2.5233e-02],\n",
       "        [ 3.2054e-02],\n",
       "        [ 2.5817e-02],\n",
       "        [ 2.3107e-03],\n",
       "        [ 4.4176e-02],\n",
       "        [ 5.4347e-02],\n",
       "        [ 1.8523e-02],\n",
       "        [ 5.1299e-02],\n",
       "        [ 2.0483e-01],\n",
       "        [ 3.4432e-02],\n",
       "        [ 1.5028e-02],\n",
       "        [ 2.7309e-02],\n",
       "        [ 3.9257e-02],\n",
       "        [ 3.1202e-02],\n",
       "        [ 1.0943e-02],\n",
       "        [ 4.2036e-02],\n",
       "        [ 2.5457e-02],\n",
       "        [ 3.0455e-02],\n",
       "        [ 3.0927e-02],\n",
       "        [ 8.3701e-03],\n",
       "        [ 3.9392e-02],\n",
       "        [ 3.1073e-02],\n",
       "        [ 6.8897e-03],\n",
       "        [ 3.0962e-02],\n",
       "        [ 3.7438e-02],\n",
       "        [ 6.7807e-02],\n",
       "        [ 5.5400e-02],\n",
       "        [ 2.3374e-02],\n",
       "        [ 5.0496e-02],\n",
       "        [ 1.7097e-02],\n",
       "        [ 4.3830e-02],\n",
       "        [-9.4266e-03],\n",
       "        [ 1.1180e-02],\n",
       "        [ 2.8475e-02],\n",
       "        [ 1.5889e-02],\n",
       "        [ 1.5495e-02],\n",
       "        [ 9.0768e-03],\n",
       "        [ 2.7303e-02],\n",
       "        [ 1.2938e-02],\n",
       "        [ 4.3241e-03],\n",
       "        [ 4.9880e-02],\n",
       "        [ 7.1002e-03],\n",
       "        [ 1.4167e-02],\n",
       "        [ 5.2018e-02],\n",
       "        [ 3.7749e-02],\n",
       "        [ 2.5391e-02],\n",
       "        [ 3.1947e-02],\n",
       "        [ 1.7502e-02],\n",
       "        [ 3.3514e-02],\n",
       "        [ 1.8812e-02],\n",
       "        [-2.3641e-02],\n",
       "        [ 1.6198e-02],\n",
       "        [ 3.5900e-02],\n",
       "        [ 5.1803e-02],\n",
       "        [ 9.9082e-03],\n",
       "        [-1.0510e-02],\n",
       "        [ 3.7696e-03],\n",
       "        [-7.2727e-03],\n",
       "        [ 2.1862e-02],\n",
       "        [ 2.7859e-02],\n",
       "        [ 8.0339e-03],\n",
       "        [ 1.4710e-02],\n",
       "        [ 4.6197e-02],\n",
       "        [ 1.0458e-02],\n",
       "        [ 2.4988e-02],\n",
       "        [ 1.9618e-02],\n",
       "        [ 1.3903e-02],\n",
       "        [ 1.4155e-02],\n",
       "        [ 2.7622e-02],\n",
       "        [ 2.4958e-02],\n",
       "        [ 4.0643e-02],\n",
       "        [ 2.8575e-02],\n",
       "        [-4.9902e-03],\n",
       "        [ 3.8393e-02],\n",
       "        [ 1.6877e-02],\n",
       "        [-3.5119e-04],\n",
       "        [ 2.0888e-02],\n",
       "        [ 2.6347e-02],\n",
       "        [ 1.9656e-03],\n",
       "        [ 5.2185e-03],\n",
       "        [ 1.1518e-02],\n",
       "        [ 3.0507e-02],\n",
       "        [ 1.7143e-02],\n",
       "        [ 3.3600e-02],\n",
       "        [ 3.8941e-02],\n",
       "        [ 6.4119e-02],\n",
       "        [ 2.7984e-02],\n",
       "        [-1.1303e-02],\n",
       "        [ 2.0683e-03],\n",
       "        [ 1.7758e-02],\n",
       "        [ 2.4718e-02],\n",
       "        [ 2.7842e-02],\n",
       "        [ 3.0170e-03],\n",
       "        [ 2.3701e-02],\n",
       "        [ 2.1729e-02],\n",
       "        [-4.6202e-04],\n",
       "        [ 2.9475e-02],\n",
       "        [ 3.7485e-02],\n",
       "        [ 2.2143e-02],\n",
       "        [-1.3279e-01],\n",
       "        [ 1.2265e-02],\n",
       "        [ 4.9424e-03],\n",
       "        [ 3.1842e-02],\n",
       "        [ 2.8203e-02],\n",
       "        [ 1.4233e-02],\n",
       "        [ 4.3666e-02],\n",
       "        [ 3.1000e-02],\n",
       "        [ 2.5129e-02],\n",
       "        [ 8.9861e-04],\n",
       "        [ 3.3431e-02],\n",
       "        [ 1.0130e-02],\n",
       "        [ 1.5405e-02],\n",
       "        [ 5.6548e-04],\n",
       "        [ 5.8990e-02],\n",
       "        [ 2.1854e-02],\n",
       "        [ 5.1020e-02],\n",
       "        [ 3.9844e-02],\n",
       "        [ 1.4910e-02],\n",
       "        [ 2.6223e-02],\n",
       "        [ 2.7382e-02],\n",
       "        [ 3.6583e-02],\n",
       "        [ 2.1637e-02],\n",
       "        [ 1.5105e-02],\n",
       "        [ 3.6711e-02],\n",
       "        [ 3.4092e-02],\n",
       "        [ 1.0232e-02],\n",
       "        [ 2.1017e-02],\n",
       "        [ 2.1238e-02],\n",
       "        [ 2.2660e-02],\n",
       "        [ 1.3715e-02],\n",
       "        [ 1.8382e-02],\n",
       "        [-3.8259e-04],\n",
       "        [ 6.2128e-03],\n",
       "        [ 6.2875e-02],\n",
       "        [ 2.7607e-02],\n",
       "        [ 8.3373e-03],\n",
       "        [ 1.1886e-02],\n",
       "        [ 2.1172e-02],\n",
       "        [ 6.0190e-02],\n",
       "        [ 2.9318e-02],\n",
       "        [ 2.4952e-02],\n",
       "        [ 4.8281e-02],\n",
       "        [ 5.5968e-03],\n",
       "        [ 3.2151e-02],\n",
       "        [ 5.7081e-03],\n",
       "        [ 6.7111e-03],\n",
       "        [ 3.4894e-02],\n",
       "        [-5.5763e-02],\n",
       "        [ 1.7501e-02],\n",
       "        [ 4.8281e-02],\n",
       "        [ 1.7496e-02],\n",
       "        [ 2.4597e-02],\n",
       "        [ 3.2544e-02],\n",
       "        [ 2.0683e-02],\n",
       "        [ 2.5261e-02],\n",
       "        [ 3.9121e-02],\n",
       "        [ 2.8472e-02],\n",
       "        [ 2.4152e-03],\n",
       "        [ 2.3781e-02],\n",
       "        [ 5.9652e-03],\n",
       "        [ 5.1815e-02],\n",
       "        [ 2.3731e-02],\n",
       "        [ 1.5985e-02],\n",
       "        [ 1.0446e-02],\n",
       "        [ 2.6544e-02],\n",
       "        [ 2.4756e-02],\n",
       "        [ 1.8102e-02],\n",
       "        [ 2.5981e-02],\n",
       "        [ 3.2549e-02],\n",
       "        [ 4.5417e-02],\n",
       "        [ 1.6098e-02],\n",
       "        [ 2.6131e-02],\n",
       "        [ 1.8446e-02],\n",
       "        [ 2.7393e-02],\n",
       "        [ 1.3916e-02],\n",
       "        [ 3.6079e-02],\n",
       "        [ 6.2764e-03],\n",
       "        [ 3.6386e-02],\n",
       "        [ 2.0150e-02],\n",
       "        [-4.2515e-03],\n",
       "        [-2.4026e-01],\n",
       "        [ 2.4058e-02],\n",
       "        [ 2.0578e-04],\n",
       "        [ 2.2905e-02],\n",
       "        [ 2.9211e-02],\n",
       "        [ 3.0561e-02],\n",
       "        [ 8.6973e-03],\n",
       "        [ 3.1562e-03],\n",
       "        [ 3.7931e-02],\n",
       "        [ 2.6229e-02],\n",
       "        [ 1.6013e-02],\n",
       "        [-1.8682e-02],\n",
       "        [-4.9946e-03],\n",
       "        [ 2.3405e-02],\n",
       "        [ 1.3359e-02],\n",
       "        [ 1.5342e-03],\n",
       "        [ 2.5987e-02],\n",
       "        [ 4.0657e-03],\n",
       "        [ 1.6493e-02],\n",
       "        [ 7.6290e-03],\n",
       "        [ 1.5618e-02],\n",
       "        [ 1.9409e-02],\n",
       "        [ 1.1760e-02],\n",
       "        [-1.0082e-02],\n",
       "        [-2.4229e-02],\n",
       "        [ 3.6096e-02],\n",
       "        [ 4.1196e-02],\n",
       "        [ 1.6601e-02],\n",
       "        [ 1.9295e-02],\n",
       "        [-1.1781e-02],\n",
       "        [ 1.8845e-02],\n",
       "        [ 3.7126e-02],\n",
       "        [ 1.3570e-02],\n",
       "        [-8.2808e-04],\n",
       "        [-7.3454e-03],\n",
       "        [ 1.2498e-02],\n",
       "        [ 1.2410e-02],\n",
       "        [ 2.1950e-02],\n",
       "        [-2.2709e-03],\n",
       "        [ 6.0474e-02],\n",
       "        [ 1.2033e-02],\n",
       "        [ 1.7490e-02],\n",
       "        [ 1.1406e-02],\n",
       "        [-1.6346e-03],\n",
       "        [ 1.1987e-02],\n",
       "        [ 6.8077e-04],\n",
       "        [ 2.5297e-02],\n",
       "        [ 5.2070e-02],\n",
       "        [ 3.9269e-03],\n",
       "        [ 9.9084e-03],\n",
       "        [ 1.1958e-02],\n",
       "        [ 4.9518e-03],\n",
       "        [-1.4031e-02],\n",
       "        [ 7.7275e-04],\n",
       "        [ 5.5445e-03],\n",
       "        [ 6.0958e-03],\n",
       "        [-7.4513e-03],\n",
       "        [ 3.5843e-02],\n",
       "        [ 3.2762e-02],\n",
       "        [-1.3379e-03],\n",
       "        [ 4.6276e-02],\n",
       "        [ 7.1649e-04],\n",
       "        [ 5.2396e-02],\n",
       "        [ 1.0411e-02],\n",
       "        [ 1.6224e-02],\n",
       "        [ 1.6987e-02],\n",
       "        [ 2.6205e-02],\n",
       "        [ 1.6835e-02],\n",
       "        [-3.7344e-03],\n",
       "        [-1.2944e-02],\n",
       "        [-7.5706e-03],\n",
       "        [ 1.2123e-02],\n",
       "        [ 6.5776e-03],\n",
       "        [-2.6630e-03],\n",
       "        [ 4.7564e-03],\n",
       "        [-3.6996e-03],\n",
       "        [ 3.1016e-02],\n",
       "        [ 5.2067e-02],\n",
       "        [ 5.3853e-03],\n",
       "        [ 2.3180e-02],\n",
       "        [ 6.6948e-02],\n",
       "        [ 2.7920e-02],\n",
       "        [ 3.0405e-02],\n",
       "        [ 1.7697e-02],\n",
       "        [ 5.5436e-02],\n",
       "        [ 5.9493e-02],\n",
       "        [ 2.2187e-02],\n",
       "        [ 4.2550e-02],\n",
       "        [ 5.4653e-02],\n",
       "        [ 5.3306e-02],\n",
       "        [ 3.4239e-02],\n",
       "        [ 7.1250e-02],\n",
       "        [ 2.8269e-02],\n",
       "        [ 3.8027e-02],\n",
       "        [ 7.3432e-02],\n",
       "        [ 4.5026e-02],\n",
       "        [ 4.7994e-02],\n",
       "        [ 4.4362e-02],\n",
       "        [ 6.3796e-02],\n",
       "        [ 2.6707e-02],\n",
       "        [ 5.4283e-02]], grad_fn=<AddmmBackward>)"
      ]
     },
     "execution_count": 16,
     "metadata": {},
     "output_type": "execute_result"
    }
   ],
   "source": [
    "model(cp, cs, cc)"
   ]
  },
  {
   "cell_type": "code",
   "execution_count": null,
   "metadata": {
    "ExecuteTime": {
     "end_time": "2019-06-18T17:06:07.371123Z",
     "start_time": "2019-06-18T17:06:07.340975Z"
    }
   },
   "outputs": [],
   "source": [
    "labels.float()"
   ]
  },
  {
   "cell_type": "code",
   "execution_count": null,
   "metadata": {
    "ExecuteTime": {
     "end_time": "2019-06-17T22:23:42.103090Z",
     "start_time": "2019-06-17T22:23:40.178986Z"
    }
   },
   "outputs": [],
   "source": [
    "for idx, samples in enumerate(test_loader):\n",
    "    cur_samples = samples\n",
    "    break"
   ]
  },
  {
   "cell_type": "code",
   "execution_count": null,
   "metadata": {
    "ExecuteTime": {
     "end_time": "2019-06-17T22:22:21.037461Z",
     "start_time": "2019-06-17T22:22:21.011403Z"
    }
   },
   "outputs": [],
   "source": [
    "cur_samples"
   ]
  },
  {
   "cell_type": "code",
   "execution_count": null,
   "metadata": {
    "ExecuteTime": {
     "end_time": "2019-06-17T21:43:55.027065Z",
     "start_time": "2019-06-17T21:43:55.001764Z"
    }
   },
   "outputs": [],
   "source": [
    "cur_sampels[3]"
   ]
  },
  {
   "cell_type": "code",
   "execution_count": null,
   "metadata": {
    "ExecuteTime": {
     "end_time": "2019-06-17T21:46:45.614481Z",
     "start_time": "2019-06-17T21:46:45.595551Z"
    }
   },
   "outputs": [],
   "source": [
    "batchs = [edge_dataset[i] for i in range(10, 20)]"
   ]
  },
  {
   "cell_type": "code",
   "execution_count": null,
   "metadata": {
    "ExecuteTime": {
     "end_time": "2019-06-17T21:47:27.648241Z",
     "start_time": "2019-06-17T21:47:27.626375Z"
    }
   },
   "outputs": [],
   "source": [
    "parents, children, labels = map(list, zip(*chain(*batchs)))"
   ]
  },
  {
   "cell_type": "code",
   "execution_count": null,
   "metadata": {
    "ExecuteTime": {
     "end_time": "2019-06-17T21:54:21.270312Z",
     "start_time": "2019-06-17T21:54:21.243838Z"
    }
   },
   "outputs": [],
   "source": [
    "for i in range()"
   ]
  },
  {
   "cell_type": "code",
   "execution_count": null,
   "metadata": {
    "ExecuteTime": {
     "end_time": "2019-06-17T22:00:01.545564Z",
     "start_time": "2019-06-17T22:00:01.518531Z"
    }
   },
   "outputs": [],
   "source": [
    "parents[314: 317]"
   ]
  },
  {
   "cell_type": "code",
   "execution_count": null,
   "metadata": {},
   "outputs": [],
   "source": []
  }
 ],
 "metadata": {
  "kernelspec": {
   "display_name": "Python 3",
   "language": "python",
   "name": "python3"
  },
  "language_info": {
   "codemirror_mode": {
    "name": "ipython",
    "version": 3
   },
   "file_extension": ".py",
   "mimetype": "text/x-python",
   "name": "python",
   "nbconvert_exporter": "python",
   "pygments_lexer": "ipython3",
   "version": "3.7.3"
  }
 },
 "nbformat": 4,
 "nbformat_minor": 2
}
