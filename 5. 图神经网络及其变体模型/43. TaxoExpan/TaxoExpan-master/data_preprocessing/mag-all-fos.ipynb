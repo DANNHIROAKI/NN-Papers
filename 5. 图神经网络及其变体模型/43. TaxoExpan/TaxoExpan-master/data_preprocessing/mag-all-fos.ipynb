{
 "cells": [
  {
   "cell_type": "code",
   "execution_count": 25,
   "metadata": {
    "ExecuteTime": {
     "end_time": "2019-07-02T17:26:41.972755Z",
     "start_time": "2019-07-02T17:26:41.942522Z"
    }
   },
   "outputs": [
    {
     "name": "stdout",
     "output_type": "stream",
     "text": [
      "The autoreload extension is already loaded. To reload it, use:\n",
      "  %reload_ext autoreload\n"
     ]
    }
   ],
   "source": [
    "import nltk\n",
    "import numpy as np\n",
    "from gensim.models.wrappers import FastText\n",
    "import re\n",
    "import os, sys\n",
    "import networkx as nx\n",
    "from gensim.models import KeyedVectors\n",
    "from tqdm import tqdm\n",
    "\n",
    "%load_ext autoreload\n",
    "%autoreload 2\n",
    "\n",
    "# np.set_printoptions(suppress=True, formatter={'float_kind':'{:0.4f}'.format})\n"
   ]
  },
  {
   "cell_type": "code",
   "execution_count": 2,
   "metadata": {
    "ExecuteTime": {
     "end_time": "2019-07-02T16:32:24.850145Z",
     "start_time": "2019-07-02T16:32:24.811486Z"
    }
   },
   "outputs": [],
   "source": [
    "class Taxon(object):\n",
    "    def __init__(self, tx_id, rank=-1, norm_name=\"none\", display_name=\"None\", main_type=\"\", level=\"-100\", p_count=0, c_count=0, create_date=\"None\"):\n",
    "        self.tx_id = tx_id\n",
    "        self.rank = int(rank)\n",
    "        self.norm_name = norm_name\n",
    "        self.display_name = display_name\n",
    "        self.main_type = main_type\n",
    "        self.level = int(level)\n",
    "        self.p_count = int(p_count)\n",
    "        self.c_count = int(c_count)\n",
    "        self.create_date = create_date\n",
    "        \n",
    "    def __str__(self):\n",
    "        return \"Taxon {} (name: {}, level: {})\".format(self.tx_id, self.norm_name, self.level)\n",
    "        \n",
    "    def __lt__(self, another_taxon):\n",
    "        if self.level < another_taxon.level:\n",
    "            return True\n",
    "        else:\n",
    "            return self.rank < another_taxon.rank\n",
    "\n",
    "        \n",
    "class Taxonomy(object):\n",
    "    def __init__(self, name=\"\", node_list=None, edge_list=None):\n",
    "        self.name = name\n",
    "        self.graph = nx.DiGraph()\n",
    "        self.tx_id2taxon = {}\n",
    "        self.root = None\n",
    "        \n",
    "    def __str__(self):\n",
    "        return f\"=== Taxonomy {self.name} ===\\nNumber of nodes: {self.graph.number_of_nodes()}\\nNumber of edges: {self.graph.number_of_edges()}\"\n",
    "    \n",
    "    def get_number_of_nodes(self):\n",
    "        return self.graph.number_of_nodes()\n",
    "\n",
    "    def get_number_of_edges(self):\n",
    "        return self.graph.number_of_edges()\n",
    "    \n",
    "    def get_nodes(self):\n",
    "        \"\"\"\n",
    "        return: a generator of nodes\n",
    "        \"\"\"\n",
    "        return self.graph.nodes()\n",
    "    \n",
    "    def get_edges(self):\n",
    "        \"\"\"\n",
    "        return: a generator of edges\n",
    "        \"\"\"\n",
    "        return self.graph.edges()\n",
    "    \n",
    "    def get_root_node(self):\n",
    "        \"\"\"\n",
    "        return: a taxon object\n",
    "        \"\"\"\n",
    "        if not self.root:\n",
    "            self.root = list(nx.topological_sort(self.graph))[0]\n",
    "        return self.root\n",
    "    \n",
    "    def get_leaf_nodes(self):\n",
    "        \"\"\"\n",
    "        return: a list of taxon objects\n",
    "        \"\"\"\n",
    "        leaf_nodes = []\n",
    "        for node in self.graph.nodes():\n",
    "            if self.graph.out_degree(node) == 0:\n",
    "                leaf_nodes.append(node)\n",
    "        return leaf_nodes\n",
    "    \n",
    "    def get_children(self, parent_node):\n",
    "        \"\"\"\n",
    "        parent_node: a taxon object\n",
    "        return: a list of taxon object representing the children taxons\n",
    "        \"\"\"\n",
    "        assert parent_node in self.graph, \"parent node not in taxonomy\"\n",
    "        return [edge[1] for edge in self.graph.out_edges(parent_node)]\n",
    "    \n",
    "    def get_parent(self, child_node):\n",
    "        \"\"\"\n",
    "        child_node: a taxon object\n",
    "        return: a list of taxon object representing the parent taxons\n",
    "        \"\"\"\n",
    "        assert child_node in self.graph, \"child node not in taxonomy\"\n",
    "        return [edge[0] for edge in self.graph.in_edges(child_node)]\n",
    "    \n",
    "    def get_descendants(self, parent_node):\n",
    "        \"\"\"\n",
    "        parent_node: a taxon object\n",
    "        return: a list of taxon object representing the descendant taxons\n",
    "        \"\"\"\n",
    "        assert parent_node in self.graph, \"parent node not in taxonomy\"\n",
    "        return list(nx.descendants(self.graph, parent_node))\n",
    "    \n",
    "    def get_ancestors(self, child_node):\n",
    "        \"\"\"\n",
    "        child_node: a taxon object\n",
    "        return: a list of taxon object representing the ancestor taxons\n",
    "        \"\"\"\n",
    "        assert child_node in self.graph, \"child node not in taxonomy\"\n",
    "        return list(nx.ancestors(self.graph, child_node))\n",
    "    \n",
    "    def is_valid_DAG(self):\n",
    "        return nx.is_directed_acyclic_graph(self.graph)\n",
    "    \n",
    "    def is_weakly_connected(self):\n",
    "        return nx.number_weakly_connected_components(self.graph) == 1\n",
    "    \n",
    "    def get_max_depth(self):\n",
    "        return nx.dag_longest_path_length(self.graph)\n",
    "    \n",
    "    def add_node(self, node):\n",
    "        self.graph.add_node(node)\n",
    "        self.tx_id2taxon[node.tx_id] = node\n",
    "        \n",
    "    def add_edge(self, start, end):\n",
    "        \"\"\"\n",
    "        start: a taxon object\n",
    "        end: a taxon object\n",
    "        \"\"\"\n",
    "        self.graph.add_edge(start, end)\n",
    "    \n",
    "    def add_nodes_from_list(self, node_list):\n",
    "        self.graph.add_nodes_from(node_list)\n",
    "        for node in node_list:\n",
    "            self.tx_id2taxon[node.tx_id] = node\n",
    "\n",
    "    def add_edges_from_list(self, edge_list):\n",
    "        \"\"\"\n",
    "        edge_list: a list of taxon object pairs from parent_taxon -> child_taxon\n",
    "        \"\"\"\n",
    "        self.graph.add_edges_from(edge_list)\n",
    "    "
   ]
  },
  {
   "cell_type": "code",
   "execution_count": 18,
   "metadata": {
    "ExecuteTime": {
     "end_time": "2019-07-02T17:21:13.922780Z",
     "start_time": "2019-07-02T17:21:07.637834Z"
    }
   },
   "outputs": [],
   "source": [
    "taxonomy = Taxonomy(name=\"mag-cs-fos\")\n",
    "tx_id2taxon = {}\n",
    "with open(\"/home/t-jishen/mag-taxonomy/FieldsOfStudy.txt\" , \"r\") as fin:\n",
    "    for line in fin:\n",
    "        line = line.strip()\n",
    "        if line:\n",
    "            segs = line.split(\"\\t\")\n",
    "            assert len(segs) == 9, \"Wrong number of segmentations\"\n",
    "            taxon = Taxon(tx_id=segs[0], display_name=segs[3], norm_name=segs[2], level=segs[5])\n",
    "            tx_id2taxon[segs[0]] = taxon \n",
    "            taxonomy.add_node(taxon)"
   ]
  },
  {
   "cell_type": "code",
   "execution_count": 19,
   "metadata": {
    "ExecuteTime": {
     "end_time": "2019-07-02T17:21:19.253173Z",
     "start_time": "2019-07-02T17:21:14.468818Z"
    }
   },
   "outputs": [],
   "source": [
    "with open(\"/home/t-jishen/mag-taxonomy/FieldOfStudyChildren.txt\", \"r\") as fin:\n",
    "    for line in fin:\n",
    "        line = line.strip()\n",
    "        if line:\n",
    "            segs = line.split()\n",
    "            assert len(segs) == 2, \"Wrong number of segmentations\"\n",
    "            parent_taxon = tx_id2taxon[segs[0]]\n",
    "            child_taxon = tx_id2taxon[segs[1]]\n",
    "            taxonomy.add_edge(parent_taxon, child_taxon)"
   ]
  },
  {
   "cell_type": "code",
   "execution_count": 20,
   "metadata": {
    "ExecuteTime": {
     "end_time": "2019-07-02T17:21:20.884616Z",
     "start_time": "2019-07-02T17:21:19.255252Z"
    }
   },
   "outputs": [],
   "source": [
    "non_oprhan_nodes = []\n",
    "for node in taxonomy.graph.nodes():\n",
    "    if taxonomy.graph.in_degree(node) != 0 or taxonomy.graph.out_degree(node) != 0:\n",
    "        non_oprhan_nodes.append(node)"
   ]
  },
  {
   "cell_type": "code",
   "execution_count": 32,
   "metadata": {
    "ExecuteTime": {
     "end_time": "2019-07-02T17:28:15.865982Z",
     "start_time": "2019-07-02T17:28:06.087566Z"
    }
   },
   "outputs": [],
   "source": [
    "fos_taxonomy = taxonomy.graph.subgraph(non_oprhan_nodes).copy()"
   ]
  },
  {
   "cell_type": "code",
   "execution_count": 39,
   "metadata": {
    "ExecuteTime": {
     "end_time": "2019-07-02T17:30:42.004086Z",
     "start_time": "2019-07-02T17:30:27.831545Z"
    }
   },
   "outputs": [
    {
     "name": "stdout",
     "output_type": "stream",
     "text": [
      "Taxon 95457728 (name: history, level: 0)\n",
      "Taxon 127313418 (name: geology, level: 0)\n",
      "Taxon 162324750 (name: economics, level: 0)\n",
      "Taxon 205649164 (name: geography, level: 0)\n",
      "Taxon 185592680 (name: chemistry, level: 0)\n",
      "Taxon 138885662 (name: philosophy, level: 0)\n",
      "Taxon 144024400 (name: sociology, level: 0)\n",
      "Taxon 192562407 (name: materials science, level: 0)\n",
      "Taxon 33923547 (name: mathematics, level: 0)\n",
      "Taxon 86803240 (name: biology, level: 0)\n",
      "Taxon 41008148 (name: computer science, level: 0)\n",
      "Taxon 17744445 (name: political science, level: 0)\n",
      "Taxon 127413603 (name: engineering, level: 0)\n",
      "Taxon 15744967 (name: psychology, level: 0)\n",
      "Taxon 39432304 (name: environmental science, level: 0)\n",
      "Taxon 144133560 (name: business, level: 0)\n",
      "Taxon 121332964 (name: physics, level: 0)\n",
      "Taxon 71924100 (name: medicine, level: 0)\n",
      "Taxon 142362112 (name: art, level: 0)\n"
     ]
    }
   ],
   "source": [
    "L0_nodes = []\n",
    "selected_nodes = []\n",
    "for node in fos_taxonomy.nodes():\n",
    "    if node.level == 0:\n",
    "        print(node)\n",
    "        L0_nodes.append(node)\n",
    "        selected_nodes.append(node)\n",
    "        selected_nodes.extend(list(nx.descendants(fos_taxonomy, node)))\n",
    "\n",
    "selected_nodes = list(set(selected_nodes))\n",
    "final_fos_taxonomy = fos_taxonomy.subgraph(selected_nodes).copy()\n",
    "\n",
    "# list(nx.descendants(self.graph, parent_node))\n",
    "# def sample_dag(taxonomy, source_node, depth_limit=7):\n",
    "#     subgraph_nodes = taxonomy.get_descendants(source_node)\n",
    "#     subgraph_nodes.append(source_node)\n",
    "#     return taxonomy.graph.subgraph(subgraph_nodes)\n",
    "\n",
    "# for node in fos_taxonomy.nodes():\n",
    "#     if fos_taxonomy.in_degree(node) == 0:\n",
    "#         print(node)\n",
    "# # [len(c) for c in sorted(nx.connected_components(fos_taxonomy), key=len, reverse=True)]"
   ]
  },
  {
   "cell_type": "code",
   "execution_count": 96,
   "metadata": {
    "ExecuteTime": {
     "end_time": "2019-07-03T00:40:09.416078Z",
     "start_time": "2019-07-03T00:40:09.382422Z"
    }
   },
   "outputs": [
    {
     "data": {
      "text/plain": [
       "431416"
      ]
     },
     "execution_count": 96,
     "metadata": {},
     "output_type": "execute_result"
    }
   ],
   "source": [
    "final_fos_taxonomy.number_of_nodes()"
   ]
  },
  {
   "cell_type": "code",
   "execution_count": 98,
   "metadata": {
    "ExecuteTime": {
     "end_time": "2019-07-03T00:40:58.796472Z",
     "start_time": "2019-07-03T00:40:58.535177Z"
    }
   },
   "outputs": [
    {
     "data": {
      "text/plain": [
       "698743"
      ]
     },
     "execution_count": 98,
     "metadata": {},
     "output_type": "execute_result"
    }
   ],
   "source": [
    "final_fos_taxonomy.number_of_edges()"
   ]
  },
  {
   "cell_type": "code",
   "execution_count": 97,
   "metadata": {
    "ExecuteTime": {
     "end_time": "2019-07-03T00:40:27.471543Z",
     "start_time": "2019-07-03T00:40:26.646336Z"
    }
   },
   "outputs": [
    {
     "data": {
      "text/plain": [
       "378044"
      ]
     },
     "execution_count": 97,
     "metadata": {},
     "output_type": "execute_result"
    }
   ],
   "source": [
    "leaf_node_cnt = 0\n",
    "for node in final_fos_taxonomy:\n",
    "    if final_fos_taxonomy.out_degree(node) == 0:\n",
    "        leaf_node_cnt += 1\n",
    "leaf_node_cnt"
   ]
  },
  {
   "cell_type": "code",
   "execution_count": 99,
   "metadata": {
    "ExecuteTime": {
     "end_time": "2019-07-03T00:41:18.135613Z",
     "start_time": "2019-07-03T00:41:16.215237Z"
    }
   },
   "outputs": [],
   "source": [
    "with open(f\"/datadrive/structure_expan/data/MAG_FoS/mag_field_of_studies.terms\", \"w\") as fout:\n",
    "    for node in final_fos_taxonomy:\n",
    "        fout.write(f\"{node.tx_id}\\t{node.norm_name}\\n\")\n",
    "\n",
    "with open(f\"/datadrive/structure_expan/data/MAG_FoS/mag_field_of_studies.taxo\", \"w\") as fout:\n",
    "    for edge in final_fos_taxonomy.edges():\n",
    "        fout.write(f\"{edge[0].tx_id}\\t{edge[1].tx_id}\\n\")"
   ]
  },
  {
   "cell_type": "markdown",
   "metadata": {},
   "source": [
    "# word2vec definition embeddings"
   ]
  },
  {
   "cell_type": "code",
   "execution_count": 100,
   "metadata": {
    "ExecuteTime": {
     "end_time": "2019-07-03T00:41:56.986129Z",
     "start_time": "2019-07-03T00:41:55.783562Z"
    }
   },
   "outputs": [],
   "source": [
    "wiki2seqId = {}\n",
    "with open(\"/datadrive/large_data/FosWikiIdToSeqId.txt\", \"r\") as fin:\n",
    "    for line in fin:\n",
    "        line = line.strip()\n",
    "        if line:\n",
    "            segs = line.split(\"\\t\")\n",
    "            wiki2seqId[segs[0]] = int(segs[1])"
   ]
  },
  {
   "cell_type": "code",
   "execution_count": 101,
   "metadata": {
    "ExecuteTime": {
     "end_time": "2019-07-03T00:41:57.485068Z",
     "start_time": "2019-07-03T00:41:57.012230Z"
    }
   },
   "outputs": [],
   "source": [
    "tx_id2name = {}\n",
    "with open(\"/datadrive/structure_expan/data/MAG_FoS/mag_field_of_studies.terms\", \"r\") as fin:\n",
    "    for line in fin:\n",
    "        line = line.strip()\n",
    "        if line:\n",
    "            segs = line.split(\"\\t\")\n",
    "            tx_id2name[int(segs[0])] = segs[1]"
   ]
  },
  {
   "cell_type": "code",
   "execution_count": 102,
   "metadata": {
    "ExecuteTime": {
     "end_time": "2019-07-03T00:42:09.836125Z",
     "start_time": "2019-07-03T00:41:57.490626Z"
    }
   },
   "outputs": [
    {
     "name": "stdout",
     "output_type": "stream",
     "text": [
      "0\n",
      "100000\n",
      "200000\n",
      "300000\n",
      "400000\n",
      "500000\n",
      "600000\n",
      "700000\n"
     ]
    }
   ],
   "source": [
    "seqId2embed = {}\n",
    "with open(\"/datadrive/large_data/MAG_pretrained_definition_word2vec.tsv\", \"r\") as fin:\n",
    "    for idx, line in enumerate(fin):\n",
    "        if idx % 100000 == 0:\n",
    "            print(idx)\n",
    "        line = line.strip()\n",
    "        if line:\n",
    "            segs = line.split(\"\\t\")\n",
    "            wikiId = segs[0]\n",
    "            if wikiId in wiki2seqId:\n",
    "                seqId = wiki2seqId[wikiId]\n",
    "                seqId2embed[seqId] = segs[1]"
   ]
  },
  {
   "cell_type": "code",
   "execution_count": 103,
   "metadata": {
    "ExecuteTime": {
     "end_time": "2019-07-03T00:42:40.731608Z",
     "start_time": "2019-07-03T00:42:40.200508Z"
    }
   },
   "outputs": [],
   "source": [
    "tx_id2embed = {}\n",
    "for tx_id in tx_id2name:\n",
    "    if tx_id in seqId2embed:\n",
    "        tx_id2embed[tx_id] = seqId2embed[tx_id]"
   ]
  },
  {
   "cell_type": "code",
   "execution_count": 113,
   "metadata": {
    "ExecuteTime": {
     "end_time": "2019-07-03T00:44:25.678502Z",
     "start_time": "2019-07-03T00:44:25.656114Z"
    }
   },
   "outputs": [
    {
     "data": {
      "text/plain": [
       "431416"
      ]
     },
     "execution_count": 113,
     "metadata": {},
     "output_type": "execute_result"
    }
   ],
   "source": [
    "len(tx_id2name)"
   ]
  },
  {
   "cell_type": "code",
   "execution_count": 114,
   "metadata": {
    "ExecuteTime": {
     "end_time": "2019-07-03T00:44:26.563593Z",
     "start_time": "2019-07-03T00:44:26.536142Z"
    }
   },
   "outputs": [
    {
     "data": {
      "text/plain": [
       "431409"
      ]
     },
     "execution_count": 114,
     "metadata": {},
     "output_type": "execute_result"
    }
   ],
   "source": [
    "len(tx_id2embed)"
   ]
  },
  {
   "cell_type": "code",
   "execution_count": 115,
   "metadata": {
    "ExecuteTime": {
     "end_time": "2019-07-03T00:47:04.171499Z",
     "start_time": "2019-07-03T00:47:00.302732Z"
    }
   },
   "outputs": [],
   "source": [
    "with open(\"/datadrive/structure_expan/data/MAG_FoS/mag_field_of_studies.terms.word2vec.def.embed\", \"w\") as fout:\n",
    "    fout.write(f\"{len(tx_id2name)} 250\\n\")\n",
    "    for seqId in tx_id2name:\n",
    "        if seqId in tx_id2embed:\n",
    "            fout.write(f\"{seqId} {tx_id2embed[seqId]}\\n\")\n",
    "        else:\n",
    "            embed_string = \" \".join([\"-1000\" for _ in range(250)])\n",
    "            fout.write(f\"{seqId} {embed_string}\\n\")"
   ]
  },
  {
   "cell_type": "code",
   "execution_count": 116,
   "metadata": {
    "ExecuteTime": {
     "end_time": "2019-07-03T00:49:25.158664Z",
     "start_time": "2019-07-03T00:47:56.936843Z"
    }
   },
   "outputs": [],
   "source": [
    "wv = KeyedVectors.load_word2vec_format(\"/datadrive/structure_expan/data/MAG_FoS/mag_field_of_studies.terms.word2vec.def.embed\")"
   ]
  },
  {
   "cell_type": "code",
   "execution_count": 118,
   "metadata": {
    "ExecuteTime": {
     "end_time": "2019-07-03T00:50:03.581151Z",
     "start_time": "2019-07-03T00:50:03.496751Z"
    }
   },
   "outputs": [
    {
     "data": {
      "text/plain": [
       "227"
      ]
     },
     "execution_count": 118,
     "metadata": {},
     "output_type": "execute_result"
    }
   ],
   "source": [
    "(wv.vectors.sum(axis=1) == -1000 * 250).sum()"
   ]
  },
  {
   "cell_type": "code",
   "execution_count": 117,
   "metadata": {
    "ExecuteTime": {
     "end_time": "2019-07-03T00:50:01.252095Z",
     "start_time": "2019-07-03T00:50:01.209214Z"
    }
   },
   "outputs": [
    {
     "data": {
      "text/plain": [
       "(431416, 250)"
      ]
     },
     "execution_count": 117,
     "metadata": {},
     "output_type": "execute_result"
    }
   ],
   "source": [
    "wv.vectors.shape"
   ]
  },
  {
   "cell_type": "code",
   "execution_count": 120,
   "metadata": {
    "ExecuteTime": {
     "end_time": "2019-07-03T00:52:06.153832Z",
     "start_time": "2019-07-03T00:51:29.577012Z"
    }
   },
   "outputs": [
    {
     "name": "stdout",
     "output_type": "stream",
     "text": [
      "2910279918 biogeneses\n",
      "2909612880 glasiosite\n",
      "2909504036 probothriocephalus\n",
      "2909024353 spathosterninae\n",
      "2910428536 acylaminopenicillin\n",
      "2910123521 hemithiridoidea\n",
      "2910554443 balanitides\n",
      "2911073012 schedotrioza\n",
      "2909499090 ossiannilssonola\n",
      "2909845446 laminaridextrins\n",
      "2911101801 cytocuprein\n",
      "2908863618 corneregel\n",
      "2910440600 pheochromocyte\n",
      "2911137917 dermamoeba\n",
      "2909216835 dasybranchus\n",
      "2908804317 pyelostomies\n",
      "2910965902 lycopodioideae\n",
      "2909525876 diakineses\n",
      "2910310286 paxyodon syrmatophorus\n",
      "2909612950 disconectes\n",
      "2909088580 antiantibodies\n",
      "2908883531 aspidoptera phyllostomatis\n",
      "2909182676 paladent 20\n",
      "2909893743 pseudopodisma\n",
      "2910564829 chromatonema\n",
      "2911184412 chromoplasm\n",
      "2909165327 nematoblast\n",
      "2909340679 cassidulinoides parkerianus\n",
      "2908778711 hemicycliostyla\n",
      "2910899768 procapritermes\n",
      "2909255693 leprotintinnus\n",
      "2909570606 dependoviruses\n",
      "2910623702 paranchistus\n",
      "2908846738 chondroplasties\n",
      "2909338513 allodrilus\n",
      "2910692645 hydraclear\n",
      "2910868477 paenarthrobacter\n",
      "2908626016 cyclochoroidectomy\n",
      "2909111635 sulculeolaria\n",
      "2909206195 resulcin aquaprime\n",
      "2911145054 hildenbrandiaceae\n",
      "2909479958 rhacaplacarus\n",
      "2908937644 rostrozetes\n",
      "2908817396 eyndhovenia euryalis\n",
      "2911116119 halospirulina\n",
      "2910525175 idh2 r172k\n",
      "2909969591 nitrospinae\n",
      "2908680996 spondyliaspis\n",
      "2910244451 strelkoviacarus\n",
      "2909446401 nanohaloarchaeota\n",
      "2910797855 keratroides\n",
      "2910269104 paramormia\n",
      "2910829684 pterocirrus\n",
      "2908879050 talectomies\n",
      "2910892788 melanobombus\n",
      "2909612769 psilochorema\n",
      "2910802048 spermoblast\n",
      "2910893313 phaeographopsis\n",
      "2910015403 cardiomyoplasties\n",
      "2908897041 lymphopenias\n",
      "2910376602 dyshemoglobin\n",
      "2909264177 claroideoglomeraceae\n",
      "2908693910 piscihepevirus\n",
      "2909527857 plateletphereses\n",
      "2910377558 poecilogonalos\n",
      "2908807482 lancetinae\n",
      "2909040401 microhepatica\n",
      "2909727907 mercaptoglycerol\n",
      "2910672240 legeriosimilis\n",
      "2910900607 cylydrorhinus\n",
      "2909142257 varicinassa\n",
      "2908978870 marinimicrobia\n",
      "2910118946 allylthiol\n",
      "2910110494 apophycocyanin\n",
      "2910222412 hemitrichapion\n",
      "2909702109 microxyphium\n",
      "2909701912 acanthamoebas\n",
      "2910988882 medullomyoblastomas\n",
      "2909791046 sasaella masamuneana\n",
      "2908959224 neoeriocheir\n",
      "2910708788 lobothallia praeradiosa\n",
      "2908680530 normocellularity\n",
      "2910418280 heterocordylus\n",
      "2908776085 rifampicinum\n",
      "2909648660 craurococcus\n",
      "2908815485 trichomeriaceae\n",
      "2909966712 stilomysis\n",
      "2909119103 stellacyanins\n",
      "2908643810 exencephalies\n",
      "2910241848 colpotomies\n",
      "2908941970 isocortices\n",
      "2909752591 malonyltyrosine\n",
      "2910092176 gymnochilus\n",
      "2910799525 kelisiinae\n",
      "2909054622 subramaniomyces fusisaprophyticus\n",
      "2910975742 nociceptions\n",
      "2910337799 loxocorniculum\n",
      "2908634572 myriopathes\n",
      "2909146899 distromium\n",
      "2910399380 chloroacetylcholine\n",
      "2911066292 tunavirinae\n",
      "2908601928 diplosolen\n",
      "2910007243 lepidopora\n",
      "2908944617 lagascatriol\n",
      "2910898256 hepatoviruses\n",
      "2908913387 hypertriploidy\n",
      "2910547332 tetraploidies\n",
      "2908690909 walterianella\n",
      "2908569246 desomedine\n",
      "2909188703 melanospermum\n",
      "2908647879 oniscigastridae\n",
      "2908782479 antopocerus\n",
      "2909103539 dopaminoquinone\n",
      "2910590689 fatigueability\n",
      "2909190154 viperotoxin\n",
      "2909633587 monoposthia\n",
      "2910225770 cylicodontophorus bicoronatus\n",
      "2910316435 mesiofacial\n",
      "2910829162 brachyscelus crusculum\n",
      "2910400816 triarachidin\n",
      "2910736827 chrysocelis\n",
      "2908629525 hemisotoma\n",
      "2910206925 eichleriella deglubens\n",
      "2910472558 dehydroaustinol\n",
      "2909573338 methoxyambenonium\n",
      "2910103694 cymbaloporetta squammosa\n",
      "2908829542 viannamyia\n",
      "2908877956 tenedocythere\n",
      "2909311503 spongopyle\n",
      "2909885070 alexamorelin\n",
      "2909750465 methylethylcellulose\n",
      "2910051437 protohynobius\n",
      "2910492989 hemimandibulectomies\n",
      "2908945147 deprimerones\n",
      "2909337777 benzmetanide\n",
      "2909277455 masturbations\n",
      "2908836239 dioleylphosphate\n",
      "2910354878 eochionelasmus ohtai\n",
      "2910530467 rhodocalyx\n",
      "2910953821 poecilophysis\n",
      "2909619756 phoratoxon\n",
      "2908532856 gongylocarpus\n",
      "2911170915 vascularizes\n",
      "2909494457 sclerocleista\n",
      "2911175558 angioscopies\n",
      "2909604644 dextroscoliosis\n",
      "2909759719 hypercapnemia\n",
      "2910878655 oesophagodontus\n",
      "2909529800 amerodectes\n",
      "2909582578 orthohyperkeratosis\n",
      "2909752251 kroppcarcinus siderastreicola\n",
      "2908843976 psettodoidei\n",
      "2910488051 sinobacteraceae\n",
      "2911034235 butanephrine\n",
      "2908705758 sphenophrya\n",
      "2910151972 tridecanoin\n",
      "2910464049 patescibacteria\n",
      "2909336705 gigantetronenin\n",
      "2910863254 maltohexaitol\n",
      "2909873759 botryoglossum\n",
      "2909897668 pubovaginalis\n",
      "2910200092 sdpflrfamide\n",
      "2910004300 mystroxylon\n",
      "2910856869 utoaztecan\n",
      "2908767399 dodecanoylcarnitine\n",
      "2909127935 allocortices\n",
      "2908848623 culdocenteses\n",
      "2911041148 cavostelium apophysatum\n",
      "2908609037 ephelotermes\n",
      "2909399275 variospora\n",
      "2908678004 nephrostomography\n",
      "2909723882 pyridoxaloxime\n",
      "2910337131 spilophorella\n",
      "2910261538 sulphoridazine\n",
      "2908991261 histidylserine\n",
      "2909271618 neurhermes\n",
      "2910548191 alloprevotella\n",
      "2910771794 dicyclopropylketone\n",
      "2909382106 spongiaxius\n",
      "2910584580 phenacomyia\n",
      "2909980170 neilonella\n",
      "2910799795 hypodeviation\n",
      "2909292010 cymatiainae\n",
      "2909279581 alstophylline\n",
      "2910743055 methylhippurate\n",
      "2908617326 log10 eid50\n",
      "2909819451 takaosamine\n",
      "2908700333 ceratiomyxaceae\n",
      "2909071479 polydispyrenia\n",
      "2910242627 encephalomyelocele\n",
      "2909186011 tanganyikans\n",
      "2909443582 ureterotome\n",
      "2910077455 dehydrosertindole\n",
      "2910424064 glutamicibacter\n",
      "2909960508 adenomyoses\n",
      "2910007672 paracoelotes\n",
      "2910232332 hypoglucagonaemia\n",
      "2909478717 pseudotmethis\n",
      "2908658394 haematomyidium\n",
      "2908992355 aethionemeae\n",
      "2909157164 desoxymorellin\n",
      "2910513019 trierucate\n",
      "2909303647 geniculifera\n",
      "2910551317 hyperioides sibaginis\n",
      "2908524655 deoxyhaemocyanin\n",
      "2908590767 phasealloy\n",
      "2910450520 scotchprep\n",
      "2909026441 entodontopsis leucostega\n",
      "2910119919 chalarinae\n",
      "2908949894 lasiorhynchites\n",
      "2908704451 stilbonema\n",
      "2908952140 coccometra\n",
      "2909777125 rhopalodiaceae\n",
      "2909967894 salpingogram\n",
      "2909470787 violapterin\n",
      "2908813073 ancylonema\n",
      "2910044633 cenchrinae\n",
      "2910226145 geometrine\n",
      "2909691095 tatsiensine\n",
      "2911132477 planostegina\n"
     ]
    }
   ],
   "source": [
    "for tx_id in tx_id2embed:\n",
    "    embed_string = tx_id2embed[tx_id]\n",
    "    embed_sum = np.array([float(ele) for ele in embed_string.split(\" \")]).sum()\n",
    "    if embed_sum == -1000 * 250:\n",
    "        print(tx_id, tx_id2name[tx_id])"
   ]
  },
  {
   "cell_type": "code",
   "execution_count": 124,
   "metadata": {
    "ExecuteTime": {
     "end_time": "2019-07-03T02:43:30.209457Z",
     "start_time": "2019-07-03T02:43:28.873853Z"
    }
   },
   "outputs": [
    {
     "data": {
      "text/plain": [
       "1"
      ]
     },
     "execution_count": 124,
     "metadata": {},
     "output_type": "execute_result"
    }
   ],
   "source": [
    "nx.number_weakly_connected_components(final_fos_taxonomy)"
   ]
  },
  {
   "cell_type": "code",
   "execution_count": null,
   "metadata": {},
   "outputs": [],
   "source": []
  }
 ],
 "metadata": {
  "kernelspec": {
   "display_name": "Python 3",
   "language": "python",
   "name": "python3"
  },
  "language_info": {
   "codemirror_mode": {
    "name": "ipython",
    "version": 3
   },
   "file_extension": ".py",
   "mimetype": "text/x-python",
   "name": "python",
   "nbconvert_exporter": "python",
   "pygments_lexer": "ipython3",
   "version": "3.7.3"
  }
 },
 "nbformat": 4,
 "nbformat_minor": 2
}
