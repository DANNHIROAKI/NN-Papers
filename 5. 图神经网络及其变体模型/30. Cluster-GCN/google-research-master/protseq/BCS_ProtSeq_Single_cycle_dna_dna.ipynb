{
  "cells": [
    {
      "cell_type": "code",
      "execution_count": null,
      "metadata": {
        "id": "5QoWip9KktQ0"
      },
      "outputs": [],
      "source": [
        "\"\"\"Licensed under the Apache License, Version 2.0.\"\"\"\n",
        "\n",
        "import matplotlib.pyplot as plt\n",
        "import seaborn as sns\n",
        "\n",
        "from IPython import display\n",
        "import pandas as pd\n",
        "\n",
        "# Library of analysis code common to experiments.\n",
        "import protseq_analysis"
      ]
    },
    {
      "cell_type": "code",
      "execution_count": null,
      "metadata": {
        "id": "4R2pw6yLFgbc"
      },
      "outputs": [],
      "source": [
        "# Download the dataset from:\n",
        "# Jess, Phillip (2021), “ProtSeq Data”, Mendeley Data, V1, doi: 10.17632/f9hdn5xc3v.1\n",
        "# https://data.mendeley.com/datasets/f9hdn5xc3v/1\n",
        "\n",
        "!wget https://data.mendeley.com/public-files/datasets/f9hdn5xc3v/files/882faf53-004e-4d44-b3b7-93ae8d6e82ba/file_downloaded -O \"Single cycle DNA_DNA BCS Base calls.fastq.gz\"\n",
        "!wget https://data.mendeley.com/public-files/datasets/f9hdn5xc3v/files/8e9f2979-e85a-48af-9876-c3dc93602551/file_downloaded -O \"Single cycle DNA_DNA BCS undetermined calls.fastq.gz\""
      ]
    },
    {
      "cell_type": "code",
      "execution_count": null,
      "metadata": {
        "id": "1nyn2171wDJ8"
      },
      "outputs": [],
      "source": [
        "\n",
        "expt_dict = {\n",
        "    'base': ['Single cycle DNA_DNA BCS Base calls.fastq.gz'],\n",
        "    'undertermined': ['Single cycle DNA_DNA BCS undetermined calls.fastq.gz'],\n",
        "}\n",
        "\n",
        "component_names_str = '''\n",
        "5Phos.O1_BCS4_Fd7\tATCAAGGC\n",
        "5Phos.O1_BCS4_Fd8\tCTAGTACG\n",
        "5Phos.O1_BCS4_Fd11\tTGCGTACA\n",
        "5Phos.O1_BCS4_Fd12\tTGCAAACG\n",
        "SP9.T25_BCS4_Fd13\tCGGAAAGA\n",
        "SP9.T25_BCS4_Fd14\tGTGAGCAA\n",
        "SP9.T25_BCS4_Fd15\tCGTAACTC\n",
        "SP9.T25_BCS4_Fd16\tCTATATCA\n",
        "SP6.O1_BCS4_Fd17\tTCTAAGGT\n",
        "SP6.O1_BCS4_Fd18\tAAGCAACT\n",
        "SP6.O1_BCS4_Fd19\tTGGTACCT\n",
        "SP6.O1_BCS4_Fd20\tCGTAAGTG\n",
        "AV.B4.U2.SA1.2\tTGCTTGCCTGGT\n",
        "AV.B4.U2.SA1.3\tCTTGTATCTAGG\n",
        "AV.B4.U2.SA2.3\tAATGCCGAAGGT\n",
        "AV.B4.U2.SA4.2\tACGTCGCCAATT\n",
        "'''\n",
        "\n",
        "subseqs, component_dict, _ = protseq_analysis.get_subseqs_from_component_names(component_names_str)\n",
        "foundation_dict = protseq_analysis.get_foundation_dict(component_dict)\n",
        "full_df = protseq_analysis.read_fastqs_for_experiment(expt_dict, num_reads=100000000, subseqs=subseqs, n_common=50000000, dist_for_clustering=0)"
      ]
    },
    {
      "cell_type": "code",
      "execution_count": null,
      "metadata": {
        "id": "zMZoaQG1A2Bv"
      },
      "outputs": [],
      "source": [
        "cycle_dfs, cycle_correspondence = protseq_analysis.foundation_partner_cycle_table(full_df, foundation_dict,\n",
        "                                                                          component_dict, cycles_to_check=1, heatmap=False,\n",
        "                                                                          allow_overlaps=False)\n",
        "first_cycle_df = cycle_dfs[1]\n",
        "first_cycle_df['binder'] = ['SP4.1 (Neg. Ctrl)', 'SP4.2 (Neg. Ctrl)', 'SP6', 'SP9']\n",
        "plot_df = protseq_analysis.make_plot_df(first_cycle_df)"
      ]
    },
    {
      "cell_type": "code",
      "execution_count": null,
      "metadata": {
        "colab": {
          "height": 235
        },
        "executionInfo": {
          "elapsed": 113,
          "status": "ok",
          "timestamp": 1631830890725,
          "user": {
            "displayName": "",
            "photoUrl": "",
            "userId": ""
          },
          "user_tz": 420
        },
        "id": "91TQ8lpgsr8m",
        "outputId": "a98f19cf-1dce-4a0b-bba7-5e9c83936815"
      },
      "outputs": [
        {
          "data": {
            "text/html": [
              "\u003cdiv\u003e\n",
              "\u003cstyle scoped\u003e\n",
              "    .dataframe tbody tr th:only-of-type {\n",
              "        vertical-align: middle;\n",
              "    }\n",
              "\n",
              "    .dataframe tbody tr th {\n",
              "        vertical-align: top;\n",
              "    }\n",
              "\n",
              "    .dataframe thead tr th {\n",
              "        text-align: left;\n",
              "    }\n",
              "\n",
              "    .dataframe thead tr:last-of-type th {\n",
              "        text-align: right;\n",
              "    }\n",
              "\u003c/style\u003e\n",
              "\u003ctable border=\"1\" class=\"dataframe\"\u003e\n",
              "  \u003cthead\u003e\n",
              "    \u003ctr\u003e\n",
              "      \u003cth\u003eBinder Target\u003c/th\u003e\n",
              "      \u003cth colspan=\"4\" halign=\"left\"\u003e5Phos\u003c/th\u003e\n",
              "      \u003cth\u003eEmpty\u003c/th\u003e\n",
              "      \u003cth colspan=\"4\" halign=\"left\"\u003eSP6\u003c/th\u003e\n",
              "      \u003cth colspan=\"4\" halign=\"left\"\u003eSP9\u003c/th\u003e\n",
              "    \u003c/tr\u003e\n",
              "    \u003ctr\u003e\n",
              "      \u003cth\u003eTarget Foundation\u003c/th\u003e\n",
              "      \u003cth\u003eFd11\u003c/th\u003e\n",
              "      \u003cth\u003eFd12\u003c/th\u003e\n",
              "      \u003cth\u003eFd7\u003c/th\u003e\n",
              "      \u003cth\u003eFd8\u003c/th\u003e\n",
              "      \u003cth\u003eEmpty\u003c/th\u003e\n",
              "      \u003cth\u003eFd17\u003c/th\u003e\n",
              "      \u003cth\u003eFd18\u003c/th\u003e\n",
              "      \u003cth\u003eFd19\u003c/th\u003e\n",
              "      \u003cth\u003eFd20\u003c/th\u003e\n",
              "      \u003cth\u003eFd13\u003c/th\u003e\n",
              "      \u003cth\u003eFd14\u003c/th\u003e\n",
              "      \u003cth\u003eFd15\u003c/th\u003e\n",
              "      \u003cth\u003eFd16\u003c/th\u003e\n",
              "    \u003c/tr\u003e\n",
              "    \u003ctr\u003e\n",
              "      \u003cth\u003eBinder for\u003c/th\u003e\n",
              "      \u003cth\u003e\u003c/th\u003e\n",
              "      \u003cth\u003e\u003c/th\u003e\n",
              "      \u003cth\u003e\u003c/th\u003e\n",
              "      \u003cth\u003e\u003c/th\u003e\n",
              "      \u003cth\u003e\u003c/th\u003e\n",
              "      \u003cth\u003e\u003c/th\u003e\n",
              "      \u003cth\u003e\u003c/th\u003e\n",
              "      \u003cth\u003e\u003c/th\u003e\n",
              "      \u003cth\u003e\u003c/th\u003e\n",
              "      \u003cth\u003e\u003c/th\u003e\n",
              "      \u003cth\u003e\u003c/th\u003e\n",
              "      \u003cth\u003e\u003c/th\u003e\n",
              "      \u003cth\u003e\u003c/th\u003e\n",
              "    \u003c/tr\u003e\n",
              "  \u003c/thead\u003e\n",
              "  \u003ctbody\u003e\n",
              "    \u003ctr\u003e\n",
              "      \u003cth\u003eSP4.1 (Neg. Ctrl)\u003c/th\u003e\n",
              "      \u003ctd\u003e0\u003c/td\u003e\n",
              "      \u003ctd\u003e0\u003c/td\u003e\n",
              "      \u003ctd\u003e0\u003c/td\u003e\n",
              "      \u003ctd\u003e0\u003c/td\u003e\n",
              "      \u003ctd\u003e0\u003c/td\u003e\n",
              "      \u003ctd\u003e0\u003c/td\u003e\n",
              "      \u003ctd\u003e0\u003c/td\u003e\n",
              "      \u003ctd\u003e0\u003c/td\u003e\n",
              "      \u003ctd\u003e1\u003c/td\u003e\n",
              "      \u003ctd\u003e0\u003c/td\u003e\n",
              "      \u003ctd\u003e1\u003c/td\u003e\n",
              "      \u003ctd\u003e0\u003c/td\u003e\n",
              "      \u003ctd\u003e1\u003c/td\u003e\n",
              "    \u003c/tr\u003e\n",
              "    \u003ctr\u003e\n",
              "      \u003cth\u003eSP4.2 (Neg. Ctrl)\u003c/th\u003e\n",
              "      \u003ctd\u003e0\u003c/td\u003e\n",
              "      \u003ctd\u003e0\u003c/td\u003e\n",
              "      \u003ctd\u003e2\u003c/td\u003e\n",
              "      \u003ctd\u003e0\u003c/td\u003e\n",
              "      \u003ctd\u003e0\u003c/td\u003e\n",
              "      \u003ctd\u003e1\u003c/td\u003e\n",
              "      \u003ctd\u003e0\u003c/td\u003e\n",
              "      \u003ctd\u003e1\u003c/td\u003e\n",
              "      \u003ctd\u003e0\u003c/td\u003e\n",
              "      \u003ctd\u003e1\u003c/td\u003e\n",
              "      \u003ctd\u003e1\u003c/td\u003e\n",
              "      \u003ctd\u003e0\u003c/td\u003e\n",
              "      \u003ctd\u003e0\u003c/td\u003e\n",
              "    \u003c/tr\u003e\n",
              "    \u003ctr\u003e\n",
              "      \u003cth\u003eSP6\u003c/th\u003e\n",
              "      \u003ctd\u003e117\u003c/td\u003e\n",
              "      \u003ctd\u003e84\u003c/td\u003e\n",
              "      \u003ctd\u003e935\u003c/td\u003e\n",
              "      \u003ctd\u003e76\u003c/td\u003e\n",
              "      \u003ctd\u003e0\u003c/td\u003e\n",
              "      \u003ctd\u003e19140\u003c/td\u003e\n",
              "      \u003ctd\u003e11383\u003c/td\u003e\n",
              "      \u003ctd\u003e29377\u003c/td\u003e\n",
              "      \u003ctd\u003e18751\u003c/td\u003e\n",
              "      \u003ctd\u003e83\u003c/td\u003e\n",
              "      \u003ctd\u003e100\u003c/td\u003e\n",
              "      \u003ctd\u003e54\u003c/td\u003e\n",
              "      \u003ctd\u003e21\u003c/td\u003e\n",
              "    \u003c/tr\u003e\n",
              "    \u003ctr\u003e\n",
              "      \u003cth\u003eSP9\u003c/th\u003e\n",
              "      \u003ctd\u003e205\u003c/td\u003e\n",
              "      \u003ctd\u003e152\u003c/td\u003e\n",
              "      \u003ctd\u003e1768\u003c/td\u003e\n",
              "      \u003ctd\u003e191\u003c/td\u003e\n",
              "      \u003ctd\u003e0\u003c/td\u003e\n",
              "      \u003ctd\u003e277\u003c/td\u003e\n",
              "      \u003ctd\u003e135\u003c/td\u003e\n",
              "      \u003ctd\u003e375\u003c/td\u003e\n",
              "      \u003ctd\u003e252\u003c/td\u003e\n",
              "      \u003ctd\u003e28256\u003c/td\u003e\n",
              "      \u003ctd\u003e62962\u003c/td\u003e\n",
              "      \u003ctd\u003e11395\u003c/td\u003e\n",
              "      \u003ctd\u003e6234\u003c/td\u003e\n",
              "    \u003c/tr\u003e\n",
              "  \u003c/tbody\u003e\n",
              "\u003c/table\u003e\n",
              "\u003c/div\u003e"
            ],
            "text/plain": [
              "Binder Target     5Phos                 Empty  ...    SP6    SP9                    \n",
              "Target Foundation  Fd11 Fd12   Fd7  Fd8 Empty  ...   Fd20   Fd13   Fd14   Fd15  Fd16\n",
              "Binder for                                     ...                                  \n",
              "SP4.1 (Neg. Ctrl)     0    0     0    0     0  ...      1      0      1      0     1\n",
              "SP4.2 (Neg. Ctrl)     0    0     2    0     0  ...      0      1      1      0     0\n",
              "SP6                 117   84   935   76     0  ...  18751     83    100     54    21\n",
              "SP9                 205  152  1768  191     0  ...    252  28256  62962  11395  6234\n",
              "\n",
              "[4 rows x 13 columns]"
            ]
          },
          "metadata": {},
          "output_type": "display_data"
        }
      ],
      "source": [
        "def get_foundation(s):\n",
        "  if s == 'Empty_Foundation':\n",
        "    return 'Empty'\n",
        "  else:\n",
        "    return s.split('_')[-1]\n",
        "\n",
        "def pivot_plot_df(plot_df):\n",
        "  df = plot_df.copy()\n",
        "  df['Target Foundation'] = df['target'].map(get_foundation)\n",
        "  return pd.pivot(df, columns=['Binder Target', 'Target Foundation'], values='Count', index='Binder for').astype(int)\n",
        "\n",
        "plot_df_pivoted = pivot_plot_df(plot_df)\n",
        "with pd.option_context(\"display.max_rows\", 1000):\n",
        "  display.display(plot_df_pivoted)"
      ]
    },
    {
      "cell_type": "code",
      "execution_count": null,
      "metadata": {
        "colab": {
          "height": 410
        },
        "executionInfo": {
          "elapsed": 927,
          "status": "ok",
          "timestamp": 1631740050877,
          "user": {
            "displayName": "",
            "photoUrl": "",
            "userId": ""
          },
          "user_tz": 420
        },
        "id": "5sjHHvNWaNpe",
        "outputId": "b34ec4fa-4110-408a-c6af-1d039999fea5"
      },
      "outputs": [
        {
          "data": {
            "image/png": "[encoded data removed]",
            "text/plain": [
              "\u003cFigure size 3000x600 with 1 Axes\u003e"
            ]
          },
          "metadata": {},
          "output_type": "display_data"
        }
      ],
      "source": [
        "def do_plot(plot_df, palette):\n",
        "  plot_agg_df = plot_df.groupby(['Binder Target', 'target', 'Binder for']).sum().reset_index()\n",
        "  plt.figure(figsize=(30,6))\n",
        "  # plt.figure(figsize=(4.75, 2))  # Size for figure in paper.\n",
        "  g = sns.swarmplot(data=plot_agg_df, palette=palette,\n",
        "                    x='Binder Target', y='Count', hue='Binder for', dodge=True)\n",
        "  g.set_xticklabels(g.get_xticklabels(), rotation=90) \n",
        "  plt.show()\n",
        "\n",
        "\n",
        "do_plot(plot_df, palette={'SP6':'tab:purple',\n",
        "                          'SP9': 'tab:green',\n",
        "                          'SP4.1 (Neg. Ctrl)': 'tab:blue',\n",
        "                          'SP4.2 (Neg. Ctrl)': 'tab:cyan'})"
      ]
    },
    {
      "cell_type": "code",
      "execution_count": null,
      "metadata": {
        "id": "UZu9m8wmLz_5"
      },
      "outputs": [],
      "source": [
        ""
      ]
    }
  ],
  "metadata": {
    "colab": {
      "collapsed_sections": [],
      "last_runtime": {
        "build_target": "",
        "kind": "local"
      },
      "name": "BCS ProtSeq Single cycle dna dna.ipynb",
      "provenance": [
        {
          "file_id": "1k8UKySCRrNevNTXJ83-2uiVZoa1N4BYl",
          "timestamp": 1631739518321
        },
        {
          "file_id": "1fONwpc7if6IkMxFexvXvYkFqv1FB5NaG",
          "timestamp": 1631723212939
        },
        {
          "file_id": "1ZlC9Jz_Zaw5TCS7AuD_yxQDG4sQD9Jtd",
          "timestamp": 1631720954129
        }
      ]
    },
    "kernelspec": {
      "display_name": "Python 3",
      "name": "python3"
    },
    "language_info": {
      "name": "python"
    }
  },
  "nbformat": 4,
  "nbformat_minor": 0
}
