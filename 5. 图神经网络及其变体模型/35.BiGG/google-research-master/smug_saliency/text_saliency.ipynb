{
  "cells": [
    {
      "cell_type": "code",
      "execution_count": null,
      "metadata": {
        "id": "v4XSlX_RMQuq"
      },
      "outputs": [],
      "source": [
        "# Copyright 2021 The Google Research Authors.\n",
        "#\n",
        "# Licensed under the Apache License, Version 2.0 (the \"License\");\n",
        "# you may not use this file except in compliance with the License.\n",
        "# You may obtain a copy of the License at\n",
        "#\n",
        "#     http://www.apache.org/licenses/LICENSE-2.0\n",
        "#\n",
        "# Unless required by applicable law or agreed to in writing, software\n",
        "# distributed under the License is distributed on an \"AS IS\" BASIS,\n",
        "# WITHOUT WARRANTIES OR CONDITIONS OF ANY KIND, either express or implied.\n",
        "# See the License for the specific language governing permissions and\n",
        "# limitations under the License."
      ]
    },
    {
      "cell_type": "markdown",
      "metadata": {
        "id": "CHVbLYfAjE-o"
      },
      "source": [
        "# NOTE\n",
        "#### Make sure that this notebook is using `smug` kernel"
      ]
    },
    {
      "cell_type": "code",
      "execution_count": null,
      "metadata": {
        "id": "T7x4V6xhFlGD",
        "outputId": "89758dd3-d562-4b8d-a02d-15768c3643a9"
      },
      "outputs": [
        {
          "name": "stdout",
          "output_type": "stream",
          "text": [
            "annotations.json    100%[===================\u003e]   2.21M   798KB/s    in 2.8s    \n",
            "review+wiki.filtere 100%[===================\u003e]  95.50M   435KB/s    in 2m 51s  \n",
            "reviews.260k.heldou 100%[===================\u003e]   7.70M   457KB/s    in 25s     \n",
            "reviews.260k.train. 100%[===================\u003e]  56.66M  1.12MB/s    in 89s     \n",
            "reviews.aspect0.hel 100%[===================\u003e]   2.56M   617KB/s    in 4.2s    \n",
            "reviews.aspect0.tra 100%[===================\u003e]  20.20M   451KB/s    in 52s     \n",
            "reviews.aspect1.hel 100%[===================\u003e]   2.54M   436KB/s    in 6.9s    \n",
            "reviews.aspect1.tra 100%[===================\u003e]  17.87M   404KB/s    in 52s     \n",
            "reviews.aspect2.hel 100%[===================\u003e]   2.59M   530KB/s    in 6.4s    \n",
            "reviews.aspect2.tra 100%[===================\u003e]  18.19M   738KB/s    in 20s     \n"
          ]
        }
      ],
      "source": [
        "import os\n",
        "if not os.path.exists('data'):\n",
        "  ! mkdir data\n",
        "  ! wget wget -q -P data/ --show-progress http://people.csail.mit.edu/taolei/beer/annotations.json\n",
        "  ! wget wget -q -P data/ --show-progress http://people.csail.mit.edu/taolei/beer/review+wiki.filtered.200.txt.gz\n",
        "  ! wget wget -q -P data/ --show-progress http://people.csail.mit.edu/taolei/beer/reviews.260k.heldout.txt.gz\n",
        "  ! wget wget -q -P data/ --show-progress http://people.csail.mit.edu/taolei/beer/reviews.260k.train.txt.gz\n",
        "  ! wget wget -q -P data/ --show-progress http://people.csail.mit.edu/taolei/beer/reviews.aspect0.heldout.txt.gz\n",
        "  ! wget wget -q -P data/ --show-progress http://people.csail.mit.edu/taolei/beer/reviews.aspect0.train.txt.gz\n",
        "  ! wget wget -q -P data/ --show-progress http://people.csail.mit.edu/taolei/beer/reviews.aspect1.heldout.txt.gz\n",
        "  ! wget wget -q -P data/ --show-progress http://people.csail.mit.edu/taolei/beer/reviews.aspect1.train.txt.gz\n",
        "  ! wget wget -q -P data/ --show-progress http://people.csail.mit.edu/taolei/beer/reviews.aspect2.heldout.txt.gz\n",
        "  ! wget wget -q -P data/ --show-progress http://people.csail.mit.edu/taolei/beer/reviews.aspect2.train.txt.gz"
      ]
    },
    {
      "cell_type": "code",
      "execution_count": null,
      "metadata": {
        "id": "rERcG7e8FlGJ"
      },
      "outputs": [],
      "source": [
        "import gzip\n",
        "import json\n",
        "\n",
        "from IPython.display import clear_output, display, Image, HTML\n",
        "from matplotlib import pyplot as plt\n",
        "import numpy as np\n",
        "from sklearn.model_selection import train_test_split\n",
        "\n",
        "from tensorflow.compat.v1 import gfile\n",
        "from tensorflow.compat.v1 import keras\n",
        "import tensorflow.compat.v1 as tf\n",
        "from tensorflow.compat.v1.keras.preprocessing import sequence, text\n",
        "\n",
        "tf.disable_eager_execution()\n",
        "\n",
        "os.chdir('../')\n",
        "from smug_saliency import masking\n",
        "from smug_saliency import utils\n",
        "os.chdir('smug_saliency/')"
      ]
    },
    {
      "cell_type": "markdown",
      "metadata": {
        "id": "FvUsBfMFFlGJ"
      },
      "source": [
        "### Train 1D CNN"
      ]
    },
    {
      "cell_type": "code",
      "execution_count": null,
      "metadata": {
        "id": "aVJL2_shFlGK"
      },
      "outputs": [],
      "source": [
        "def load_reviews(path, verbose=True):\n",
        "  data_x, data_y = [ ], [ ]\n",
        "  fopen = gfile.Open(path, 'rb')\n",
        "  if path.endswith(\".gz\"):\n",
        "    fopen = gzip.GzipFile(fileobj=fopen)\n",
        "\n",
        "  for line in fopen:\n",
        "    line = line.decode('ascii')\n",
        "    y, sep, x = line.partition(\"\\t\")\n",
        "    # x = x.split()\n",
        "    y = y.split()\n",
        "    if len(x) == 0: continue\n",
        "    y = np.asarray([ float(v) for v in y ])\n",
        "    data_x.append(x)\n",
        "    data_y.append(y)\n",
        "  fopen.close()\n",
        "\n",
        "  if verbose:\n",
        "    print(\"{} examples loaded from {}\".format(len(data_x), path))\n",
        "    print(\"max text length: {}\".format(max(len(x) for x in data_x)))\n",
        "\n",
        "  return data_x, data_y\n",
        "\n",
        "def create_splits(X, y, test_size=3000, random_state=42):\n",
        "  return train_test_split(X,\n",
        "                          y,\n",
        "                          test_size=3000,\n",
        "                          random_state=42)\n",
        "\n",
        "def create_tokenizer(X, top_words=10000):\n",
        "    tokenizer = text.Tokenizer(num_words=top_words)\n",
        "    tokenizer.fit_on_texts(X)\n",
        "    return tokenizer\n",
        "\n",
        "def pad_sequences(X, max_words=500):\n",
        "    return sequence.pad_sequences(X, maxlen=max_words)"
      ]
    },
    {
      "cell_type": "code",
      "execution_count": null,
      "metadata": {
        "id": "hlbbL7blFlGK",
        "outputId": "eccae023-3c90-4a5b-9d03-afb15fa930e2"
      },
      "outputs": [
        {
          "name": "stdout",
          "output_type": "stream",
          "text": [
            "70000 examples loaded from data/reviews.aspect1.train.txt.gz\n",
            "max text length: 5085\n",
            "10000 examples loaded from data/reviews.aspect1.heldout.txt.gz\n",
            "max text length: 4619\n"
          ]
        }
      ],
      "source": [
        "ASPECT = 1  # 0, 1, 2, or 3\n",
        "BASE_PATH = 'data'\n",
        "\n",
        "path = os.path.join(BASE_PATH, 'reviews.aspect' + str(ASPECT))\n",
        "train_path = path + '.train.txt.gz'\n",
        "heldout_path = path + '.heldout.txt.gz'\n",
        "\n",
        "X_train_texts, y_train = load_reviews(train_path)\n",
        "X_test_texts, y_test = load_reviews(heldout_path)\n",
        "\n",
        "# y value is just the sentiment for this aspect, throw away the other scores\n",
        "y_train = np.array([y[ASPECT] for y in y_train])\n",
        "y_test = np.array([y[ASPECT] for y in y_test])\n",
        "\n",
        "# Create a 3k validation set held-out from the test set\n",
        "X_test_texts, X_val_texts, y_test, y_val = create_splits(X_test_texts, y_test)"
      ]
    },
    {
      "cell_type": "code",
      "execution_count": null,
      "metadata": {
        "id": "JaBO6CVVFlGL",
        "outputId": "22f15339-85cd-493a-ad33-93e201a04553",
        "scrolled": true
      },
      "outputs": [
        {
          "data": {
            "image/png": "[encoded data removed]",
            "text/plain": [
              "\u003cFigure size 432x288 with 1 Axes\u003e"
            ]
          },
          "metadata": {
            "needs_background": "light",
            "tags": []
          },
          "output_type": "display_data"
        },
        {
          "name": "stdout",
          "output_type": "stream",
          "text": [
            "Unique y values:  [0.2 0.3 0.4 0.5 0.6 0.7 0.8 0.9 1. ]\n",
            "Mean y value:  0.6802100000000001\n",
            "Median y value:  0.7\n",
            "Std y value:  0.23792000195143623\n"
          ]
        }
      ],
      "source": [
        "plt.hist(y_train)\n",
        "plt.show()\n",
        "\n",
        "print('Unique y values: ', np.unique(y_train))\n",
        "print('Mean y value: ', np.mean(y_train))\n",
        "print('Median y value: ', np.median(y_train))\n",
        "print('Std y value: ', np.std(y_train))"
      ]
    },
    {
      "cell_type": "code",
      "execution_count": null,
      "metadata": {
        "id": "7QE9pTUKFlGL",
        "outputId": "c3bccfab-7a1f-4c2e-e25e-6ca31314811b"
      },
      "outputs": [
        {
          "name": "stdout",
          "output_type": "stream",
          "text": [
            "Review length:\n",
            "Mean 154.47 words (stddev: 81.134751)\n"
          ]
        },
        {
          "data": {
            "image/png": "[encoded data removed]",
            "text/plain": [
              "\u003cFigure size 432x288 with 1 Axes\u003e"
            ]
          },
          "metadata": {
            "needs_background": "light",
            "tags": []
          },
          "output_type": "display_data"
        }
      ],
      "source": [
        "print('Review length:')\n",
        "train_texts_lengths = [len(x.split(' ')) for x in X_train_texts]\n",
        "print(\"Mean %.2f words (stddev: %f)\" % \\\n",
        "      (np.mean(train_texts_lengths),\n",
        "       np.std(train_texts_lengths)))\n",
        "\n",
        "# plot review lengths\n",
        "plt.boxplot(train_texts_lengths)\n",
        "plt.show()"
      ]
    },
    {
      "cell_type": "code",
      "execution_count": null,
      "metadata": {
        "id": "jvNNLiMDFlGM",
        "outputId": "797cfc9f-a85c-4a34-ef18-f8a5f37d5a5a"
      },
      "outputs": [
        {
          "name": "stdout",
          "output_type": "stream",
          "text": [
            "70000\n",
            "3000\n",
            "7000\n"
          ]
        }
      ],
      "source": [
        "# Tokenize the texts and keep only the top n words\n",
        "\n",
        "TOP_WORDS = 10000\n",
        "\n",
        "tokenizer = create_tokenizer(X_train_texts, top_words=TOP_WORDS)\n",
        "\n",
        "X_train = tokenizer.texts_to_sequences(X_train_texts)\n",
        "X_val = tokenizer.texts_to_sequences(X_val_texts)\n",
        "X_test = tokenizer.texts_to_sequences(X_test_texts)\n",
        "\n",
        "print(len(X_train))\n",
        "print(len(X_val))\n",
        "print(len(X_test))"
      ]
    },
    {
      "cell_type": "code",
      "execution_count": null,
      "metadata": {
        "id": "uo3z3yvLFlGM"
      },
      "outputs": [],
      "source": [
        "index_to_token = {tokenizer.word_index[k]: k for k in tokenizer.word_index.keys()}"
      ]
    },
    {
      "cell_type": "code",
      "execution_count": null,
      "metadata": {
        "id": "7rYrmNXHFlGM"
      },
      "outputs": [],
      "source": [
        "MAX_WORDS = 500\n",
        "\n",
        "X_train = pad_sequences(X_train, max_words=MAX_WORDS)\n",
        "X_val = pad_sequences(X_val, max_words=MAX_WORDS)\n",
        "X_test = pad_sequences(X_test, max_words=MAX_WORDS)"
      ]
    },
    {
      "cell_type": "code",
      "execution_count": null,
      "metadata": {
        "id": "I0tt9etTFlGM",
        "outputId": "48a301f5-59b9-420e-d9c1-edf3fe649ed0"
      },
      "outputs": [
        {
          "name": "stdout",
          "output_type": "stream",
          "text": [
            "Model: \"sequential\"\n",
            "_________________________________________________________________\n",
            "Layer (type)                 Output Shape              Param #   \n",
            "=================================================================\n",
            "embedding (Embedding)        (None, 500, 100)          1000000   \n",
            "_________________________________________________________________\n",
            "conv1d (Conv1D)              (None, 498, 128)          38528     \n",
            "_________________________________________________________________\n",
            "global_max_pooling1d (Global (None, 128)               0         \n",
            "_________________________________________________________________\n",
            "dense (Dense)                (None, 1)                 129       \n",
            "=================================================================\n",
            "Total params: 1,038,657\n",
            "Trainable params: 1,038,657\n",
            "Non-trainable params: 0\n",
            "_________________________________________________________________\n"
          ]
        }
      ],
      "source": [
        "tf.reset_default_graph()\n",
        "model = tf.keras.Sequential([\n",
        "    tf.keras.Input(shape=(MAX_WORDS,)),\n",
        "    tf.keras.layers.Embedding(TOP_WORDS, 100),\n",
        "    tf.keras.layers.Conv1D(filters=128, strides=1,\n",
        "                           kernel_size=3,\n",
        "                           activation='relu'),\n",
        "    tf.keras.layers.GlobalMaxPooling1D(),\n",
        "    tf.keras.layers.Dense(1, activation='sigmoid')\n",
        "    ])\n",
        "model.summary()"
      ]
    },
    {
      "cell_type": "code",
      "execution_count": null,
      "metadata": {
        "id": "wbRhbM_RFlGN",
        "outputId": "f4bdcb5a-53ef-436f-8355-a9af94aceae4"
      },
      "outputs": [
        {
          "name": "stdout",
          "output_type": "stream",
          "text": [
            "Train on 70000 samples, validate on 3000 samples\n",
            "Epoch 1/10\n",
            "70000/70000 [==============================] - ETA: 0s - loss: 0.0344 - acc: 0.1689"
          ]
        },
        {
          "name": "stderr",
          "output_type": "stream",
          "text": [
            "/Users/subhamsahoo/Library/Python/3.7/lib/python/site-packages/tensorflow/python/keras/engine/training.py:2325: UserWarning: `Model.state_updates` will be removed in a future version. This property should not be used in TensorFlow 2.0, as `updates` are applied automatically.\n",
            "  warnings.warn('`Model.state_updates` will be removed in a future version. '\n"
          ]
        },
        {
          "name": "stdout",
          "output_type": "stream",
          "text": [
            "70000/70000 [==============================] - 57s 816us/sample - loss: 0.0344 - acc: 0.1689 - val_loss: 0.0260 - val_acc: 0.1573\n",
            "Epoch 2/10\n",
            "70000/70000 [==============================] - 60s 859us/sample - loss: 0.0229 - acc: 0.1691 - val_loss: 0.0241 - val_acc: 0.1573\n",
            "Epoch 3/10\n",
            "70000/70000 [==============================] - 65s 924us/sample - loss: 0.0182 - acc: 0.1692 - val_loss: 0.0246 - val_acc: 0.1567\n",
            "Epoch 4/10\n",
            "70000/70000 [==============================] - 77s 1ms/sample - loss: 0.0140 - acc: 0.1693 - val_loss: 0.0253 - val_acc: 0.1567\n",
            "Epoch 5/10\n",
            "70000/70000 [==============================] - 74s 1ms/sample - loss: 0.0103 - acc: 0.1694 - val_loss: 0.0262 - val_acc: 0.1563\n",
            "Epoch 6/10\n",
            "70000/70000 [==============================] - 76s 1ms/sample - loss: 0.0074 - acc: 0.1694 - val_loss: 0.0271 - val_acc: 0.1567\n",
            "Epoch 7/10\n",
            "70000/70000 [==============================] - 73s 1ms/sample - loss: 0.0054 - acc: 0.1694 - val_loss: 0.0284 - val_acc: 0.1563\n",
            "Epoch 8/10\n",
            "70000/70000 [==============================] - 77s 1ms/sample - loss: 0.0041 - acc: 0.1694 - val_loss: 0.0293 - val_acc: 0.1557\n",
            "Epoch 9/10\n",
            "70000/70000 [==============================] - 79s 1ms/sample - loss: 0.0035 - acc: 0.1694 - val_loss: 0.0290 - val_acc: 0.1560\n",
            "Epoch 10/10\n",
            "70000/70000 [==============================] - 71s 1ms/sample - loss: 0.0033 - acc: 0.1694 - val_loss: 0.0301 - val_acc: 0.1553\n"
          ]
        }
      ],
      "source": [
        "model.compile(optimizer=tf.keras.optimizers.Adam(),\n",
        "              loss='mse',  # binary_crossentropy\n",
        "              metrics=['acc'])\n",
        "\n",
        "# multi-input test\n",
        "history = model.fit(X_train, y_train, epochs=10, batch_size=128,\n",
        "                    validation_data=(X_val, y_val))"
      ]
    },
    {
      "cell_type": "code",
      "execution_count": null,
      "metadata": {
        "id": "dR748IVcFlGN"
      },
      "outputs": [],
      "source": [
        "def load_rationale_annotations(path, verbose=True):\n",
        "  data = []\n",
        "  fopen = gfile.Open(path, 'rb')\n",
        "  if path.endswith(\".gz\"):\n",
        "    fopen = gzip.GzipFile(fileobj=fopen)\n",
        "\n",
        "  for line in fopen:\n",
        "    item = json.loads(line)\n",
        "    data.append(item)\n",
        "  fopen.close()\n",
        "  if verbose:\n",
        "    print('Loaded %d annotations.' % len(data))\n",
        "  return data\n",
        "\n",
        "\n",
        "def retokenize_annotation(annotation, tokenizer, annotation_indices=None, count_missing=False):\n",
        "  joined_annotation = ' '.join(annotation)\n",
        "  retokenized = tokenizer.texts_to_sequences([joined_annotation])[0]\n",
        "  if count_missing:\n",
        "    word_sequence = text.text_to_word_sequence(joined_annotation,\n",
        "                                                tokenizer.filters,\n",
        "                                                tokenizer.lower,\n",
        "                                                tokenizer.split)\n",
        "    num_missing = len(word_sequence) - len(retokenized)\n",
        "  else:\n",
        "    num_missing = None\n",
        "  return retokenized, num_missing"
      ]
    },
    {
      "cell_type": "code",
      "execution_count": null,
      "metadata": {
        "id": "xtn7dYxqFlGN",
        "outputId": "cecb631e-394c-4ae2-bb77-a8a1e611554b"
      },
      "outputs": [
        {
          "name": "stdout",
          "output_type": "stream",
          "text": [
            "Loaded 994 annotations.\n"
          ]
        }
      ],
      "source": [
        "annotations = load_rationale_annotations(\n",
        "    os.path.join(BASE_PATH, 'annotations.json'))"
      ]
    },
    {
      "cell_type": "code",
      "execution_count": null,
      "metadata": {
        "id": "32LFCxVKFlGO",
        "outputId": "2d7d6b2d-96dc-4327-fbc5-71b2a15cc4f2"
      },
      "outputs": [
        {
          "data": {
            "image/png": "[encoded data removed]",
            "text/plain": [
              "\u003cFigure size 432x288 with 1 Axes\u003e"
            ]
          },
          "metadata": {
            "needs_background": "light",
            "tags": []
          },
          "output_type": "display_data"
        },
        {
          "data": {
            "image/png": "[encoded data removed]",
            "text/plain": [
              "\u003cFigure size 432x288 with 1 Axes\u003e"
            ]
          },
          "metadata": {
            "needs_background": "light",
            "tags": []
          },
          "output_type": "display_data"
        }
      ],
      "source": [
        "# plotting the results\n",
        "import matplotlib.pyplot as plt\n",
        "\n",
        "acc = history.history.get('acc')\n",
        "val_acc = history.history.get('val_acc')\n",
        "loss = history.history.get('loss')\n",
        "val_loss = history.history.get('val_loss')\n",
        "\n",
        "epochs = range(1, len(acc) + 1)\n",
        "plt.plot(epochs, acc, 'bo', label='Training Acc')\n",
        "plt.plot(epochs, val_acc, 'b', label='Validation Acc')\n",
        "plt.title('Training and Validation Accuracy')\n",
        "plt.legend()\n",
        "\n",
        "plt.figure()\n",
        "\n",
        "plt.plot(epochs, loss, 'bo', label=\"Training Loss\")\n",
        "plt.plot(epochs, val_loss, 'b', label='Validation loss')\n",
        "plt.title('Training and Validation loss')\n",
        "plt.legend()\n",
        "plt.show()"
      ]
    },
    {
      "cell_type": "code",
      "execution_count": null,
      "metadata": {
        "id": "MvNi6R-jFlGO",
        "outputId": "033e2338-e322-4dd8-bc11-a1228d8209b1"
      },
      "outputs": [
        {
          "name": "stdout",
          "output_type": "stream",
          "text": [
            "INFO:tensorflow:Assets added to graph.\n",
            "INFO:tensorflow:No assets to write.\n",
            "INFO:tensorflow:SavedModel written to: trained_text_model/saved_model.pb\n"
          ]
        }
      ],
      "source": [
        "tf.saved_model.simple_save(\n",
        "    session=tf.keras.backend.get_session(),\n",
        "    export_dir='trained_text_model',\n",
        "    inputs={'input': model.inputs[0]},\n",
        "    outputs={'output': model.outputs[0]})"
      ]
    },
    {
      "cell_type": "markdown",
      "metadata": {
        "id": "3wo7rSkWFlGP"
      },
      "source": [
        "### Generate Saliency Maps"
      ]
    },
    {
      "cell_type": "code",
      "execution_count": null,
      "metadata": {
        "id": "TCJ21QFTFlGP"
      },
      "outputs": [],
      "source": [
        "def pad_sequences(X, max_words=500):\n",
        "    return keras.preprocessing.sequence.pad_sequences(X, maxlen=max_words)\n",
        "\n",
        "def get_words(x, tokenizer):\n",
        "  index_to_token = {\n",
        "      tokenizer.word_index[k]: k for k in tokenizer.word_index.keys()}\n",
        "  index_to_token[0] = ''\n",
        "  words = []\n",
        "  for i in x:\n",
        "    if i != 0:\n",
        "      words.append(index_to_token[i])\n",
        "  return words\n",
        "\n",
        "\n",
        "def highlight_ground_truth(review, limits):\n",
        "  for lims in limits:\n",
        "    for index in range(lims[0], lims[1], 1):\n",
        "      review[index] = '\u003cu\u003e' + review[index] + '\u003c/u\u003e'\n",
        "  return review\n",
        "\n",
        "\n",
        "def highlight_words(review, words, attributes):\n",
        "  assert len(attributes) == len(words)\n",
        "  previous_index = 0\n",
        "  for word, attribute in zip(words, attributes):\n",
        "    if word not in review:\n",
        "      continue\n",
        "    index = review[previous_index:].index(word)\n",
        "    r, g, b = _get_color(attribute)\n",
        "    review[previous_index + index] = (\n",
        "        \"\u003cspan style='color:rgb(%d,%d,%d)'\u003e%s\u003c/span\u003e\" % (\n",
        "            r, g, b, review[index]))\n",
        "    # previous_index = index\n",
        "  return review\n",
        "\n",
        "def _get_color(attribute):\n",
        "  if attribute \u003e 0:\n",
        "    return (128 - int(64*attribute),\n",
        "            int(128*attribute) + 127,\n",
        "            128 - int(64*attribute),)\n",
        "  return (int(-128*attribute) + 127,\n",
        "          128 + int(64*attribute),\n",
        "          128 + int(64*attribute))\n",
        "\n",
        "\n",
        "def highlight_text(annotation, aspect, words, attributes, print_html=False):\n",
        "  # Color words\n",
        "  review = highlight_words(\n",
        "      review=list(annotation['x']),\n",
        "      words=words,\n",
        "      attributes=attributes)\n",
        "\n",
        "  # Underline words\n",
        "  review = highlight_ground_truth(\n",
        "      review=review,\n",
        "      limits=annotation[str(aspect)])\n",
        "\n",
        "  # New for neurips - remove solid white\n",
        "  for i, word in enumerate(review):\n",
        "    if \"\u003cspan style='color:rgb\" not in word:\n",
        "      review[i] = \"\u003cspan style='color:rgb(128,127,128)'\u003e{}\u003c/span\u003e\".format(word)\n",
        "  display(HTML(' '.join(review)))\n",
        "  \n",
        "  if print_html:\n",
        "    print(' '.join(review))\n",
        "\n",
        "\n",
        "def get_words_with_attributes(x, attributes, tokenizer):\n",
        "  index_to_token = {\n",
        "      tokenizer.word_index[k]: k for k in tokenizer.word_index.keys()}\n",
        "  index_to_token[0] = ''\n",
        "  words = []\n",
        "  _attributes = []\n",
        "  max_attribute = np.percentile(attributes, 99)\n",
        "  if max_attribute == 0:\n",
        "    max_attribute = np.max(attributes)\n",
        "  for i, j in zip(x, attributes):\n",
        "    if i != 0:\n",
        "      words.append(index_to_token[i])\n",
        "      _attributes.append(j /max_attribute)\n",
        "      # print(np.max(np.abs(attributes)), j, np.percentile(attributes, 99))\n",
        "  return words, _attributes"
      ]
    },
    {
      "cell_type": "code",
      "execution_count": null,
      "metadata": {
        "id": "HK0g2yrQFlGQ"
      },
      "outputs": [],
      "source": [
        "run_params = masking.RunParams(**{\n",
        "  'model_path': 'trained_text_model',\n",
        "  'image_placeholder_shape': (1, 500),\n",
        "  'model_type': 'text_cnn',\n",
        "  'padding': (0, 0),\n",
        "  'strides': 1,\n",
        "  'activations': None,\n",
        "  'pixel_range': None,\n",
        "  'tensor_names': {\n",
        "        'input': 'input_1:0',\n",
        "        'embedding': 'embedding/embedding_lookup/Identity_1:0',\n",
        "        'first_layer': 'conv1d/BiasAdd:0',\n",
        "        'first_layer_relu': 'conv1d/Relu:0',\n",
        "        'logits': 'dense/BiasAdd:0',\n",
        "        'softmax': 'dense/Sigmoid:0',\n",
        "        'weights_layer_1': 'conv1d/conv1d/ExpandDims_1:0',\n",
        "        'biases_layer_1': 'conv1d/BiasAdd/ReadVariableOp:0'\n",
        "  }\n",
        "})"
      ]
    },
    {
      "cell_type": "code",
      "execution_count": null,
      "metadata": {
        "id": "b2PNh-O3FlGQ",
        "outputId": "a9f4b0d3-b110-4027-a7de-97a6e31f8ce9"
      },
      "outputs": [
        {
          "name": "stdout",
          "output_type": "stream",
          "text": [
            "WARNING:tensorflow:From /Users/subhamsahoo/smug_colab_test/google-research/smug_saliency/utils.py:189: load (from tensorflow.python.saved_model.loader_impl) is deprecated and will be removed in a future version.\n",
            "Instructions for updating:\n",
            "This function will only be available through the v1 compatibility library as tf.compat.v1.saved_model.loader.load or tf.compat.v1.saved_model.load. There will be a new function for importing SavedModels in Tensorflow 2.0.\n",
            "INFO:tensorflow:Restoring parameters from trained_text_model/variables/variables\n",
            "Model type: trained_text_model\n",
            "input (1, 500)\n",
            "embedding (1, 500, 100)\n",
            "first_layer (1, 498, 128)\n",
            "first_layer_relu (1, 498, 128)\n",
            "logits (1, 1)\n",
            "softmax (1, 1)\n",
            "weights_layer_1 (1, 3, 100, 128)\n",
            "biases_layer_1 (128,)\n",
            "\n",
            "\n"
          ]
        }
      ],
      "source": [
        "with utils.restore_model(run_params.model_path) as sess:\n",
        "  run_output = sess.run(\n",
        "      run_params.tensor_names,\n",
        "      feed_dict={run_params.tensor_names['input']: np.random.rand(1, 500)\n",
        "      })\n",
        "  print('Model type: {}'.format(run_params.model_path.split('/')[-1]))\n",
        "  for key, value in run_output.items():\n",
        "    print(key, value.shape)\n",
        "  print('\\n')"
      ]
    },
    {
      "cell_type": "code",
      "execution_count": null,
      "metadata": {
        "id": "W1WmIX_eFlGQ"
      },
      "outputs": [],
      "source": [
        "annotation_x = pad_sequences([retokenize_annotation(\n",
        "    annotation['x'], tokenizer)[0] for annotation in annotations])\n",
        "\n",
        "annotation_y = np.array(\n",
        "    [float(annotation['y'][ASPECT]) for annotation in annotations])"
      ]
    },
    {
      "cell_type": "code",
      "execution_count": null,
      "metadata": {
        "id": "4ruBr-cUFlGR"
      },
      "outputs": [],
      "source": [
        "def generate_saliency_maps(features, run_params):\n",
        "  smug_result = masking.find_mask_first_layer(\n",
        "    image=features,\n",
        "    label_index=0, # Since only one output node\n",
        "    run_params=run_params,\n",
        "    window_size=1,\n",
        "    score_method='integrated_gradients',\n",
        "    top_k=100,\n",
        "    gamma=0,\n",
        "    timeout=600,\n",
        "    num_unique_solutions=1,\n",
        "  )\n",
        "  smug_base_saliency = masking.get_no_minimization_mask(\n",
        "    image=features,\n",
        "    label_index=0,\n",
        "    top_k=100,\n",
        "    run_params=run_params)\n",
        "  with utils.restore_model(run_params.model_path) as session:\n",
        "    unmasked_predictions = session.run(\n",
        "        run_params.tensor_names,\n",
        "        feed_dict={run_params.tensor_names['input']: [features]})\n",
        "    ig_saliency_map = np.sum(masking.get_saliency_map(\n",
        "        session=session,\n",
        "        features=unmasked_predictions['embedding'][0],\n",
        "        saliency_method='integrated_gradients',\n",
        "        input_tensor_name=run_params.tensor_names['embedding'],\n",
        "        output_tensor_name=run_params.tensor_names['softmax'],\n",
        "        label=0), axis=1)\n",
        "  return (smug_result['masks'][0] * smug_base_saliency,\n",
        "          smug_base_saliency, ig_saliency_map)"
      ]
    },
    {
      "cell_type": "code",
      "execution_count": null,
      "metadata": {
        "id": "dvQ9XTTfFlGR",
        "outputId": "0582c74b-bb79-4459-836c-69f50a92e3a6"
      },
      "outputs": [
        {
          "name": "stdout",
          "output_type": "stream",
          "text": [
            "INFO:tensorflow:Restoring parameters from trained_text_model/variables/variables\n",
            "INFO:tensorflow:Restoring parameters from trained_text_model/variables/variables\n",
            "INFO:tensorflow:Restoring parameters from trained_text_model/variables/variables\n",
            "Smug\n"
          ]
        },
        {
          "data": {
            "text/html": [
              "\u003cspan style='color:rgb(127,128,128)'\u003ei\u003c/span\u003e \u003cspan style='color:rgb(93,197,93)'\u003ereally\u003c/span\u003e \u003cspan style='color:rgb(127,128,128)'\u003edid\u003c/span\u003e \u003cspan style='color:rgb(127,128,128)'\u003enot\u003c/span\u003e \u003cspan style='color:rgb(127,128,128)'\u003elike\u003c/span\u003e \u003cspan style='color:rgb(127,128,128)'\u003ethis\u003c/span\u003e \u003cspan style='color:rgb(128,127,128)'\u003e.\u003c/span\u003e \u003cspan style='color:rgb(48,288,48)'\u003eit\u003c/span\u003e \u003cspan style='color:rgb(127,128,128)'\u003ejust\u003c/span\u003e \u003cspan style='color:rgb(79,226,79)'\u003eseemed\u003c/span\u003e \u003cspan style='color:rgb(98,187,98)'\u003eextremely\u003c/span\u003e \u003cspan style='color:rgb(127,128,128)'\u003ewatery\u003c/span\u003e \u003cspan style='color:rgb(128,127,128)'\u003e.\u003c/span\u003e \u003cspan style='color:rgb(127,128,128)'\u003ei\u003c/span\u003e \u003cspan style='color:rgb(32,319,32)'\u003edont\u003c/span\u003e \u003cspan style='color:rgb(127,128,128)'\u003e'\u003c/span\u003e \u003cspan style='color:rgb(84,216,84)'\u003ethink\u003c/span\u003e \u003cspan style='color:rgb(127,128,128)'\u003ethis\u003c/span\u003e \u003cspan style='color:rgb(127,128,128)'\u003ehad\u003c/span\u003e \u003cspan style='color:rgb(128,127,128)'\u003eany\u003c/span\u003e \u003cspan style='color:rgb(127,128,128)'\u003ecarbonation\u003c/span\u003e \u003cspan style='color:rgb(127,128,128)'\u003ewhatsoever\u003c/span\u003e \u003cspan style='color:rgb(128,127,128)'\u003e.\u003c/span\u003e \u003cspan style='color:rgb(127,128,128)'\u003emaybe\u003c/span\u003e \u003cspan style='color:rgb(127,128,128)'\u003eit\u003c/span\u003e \u003cspan style='color:rgb(127,128,128)'\u003ewas\u003c/span\u003e \u003cspan style='color:rgb(53,278,53)'\u003eflat\u003c/span\u003e \u003cspan style='color:rgb(128,127,128)'\u003e,\u003c/span\u003e \u003cspan style='color:rgb(127,128,128)'\u003ewho\u003c/span\u003e \u003cspan style='color:rgb(127,128,128)'\u003eknows\u003c/span\u003e \u003cspan style='color:rgb(128,127,128)'\u003e?\u003c/span\u003e \u003cspan style='color:rgb(127,128,128)'\u003ebut\u003c/span\u003e \u003cspan style='color:rgb(127,128,128)'\u003eeven\u003c/span\u003e \u003cspan style='color:rgb(127,128,128)'\u003eif\u003c/span\u003e \u003cspan style='color:rgb(127,128,128)'\u003ei\u003c/span\u003e \u003cspan style='color:rgb(127,128,128)'\u003egot\u003c/span\u003e \u003cspan style='color:rgb(127,128,128)'\u003ea\u003c/span\u003e \u003cspan style='color:rgb(-10,404,-10)'\u003ebad\u003c/span\u003e \u003cspan style='color:rgb(127,128,128)'\u003ebrew\u003c/span\u003e \u003cspan style='color:rgb(127,128,128)'\u003ei\u003c/span\u003e \u003cspan style='color:rgb(127,128,128)'\u003edo\u003c/span\u003e \u003cspan style='color:rgb(127,128,128)'\u003en't\u003c/span\u003e \u003cspan style='color:rgb(82,220,82)'\u003esee\u003c/span\u003e \u003cspan style='color:rgb(127,128,128)'\u003ehow\u003c/span\u003e \u003cspan style='color:rgb(127,128,128)'\u003ethis\u003c/span\u003e \u003cspan style='color:rgb(127,128,128)'\u003ewould\u003c/span\u003e \u003cspan style='color:rgb(115,153,115)'\u003epossibly\u003c/span\u003e \u003cspan style='color:rgb(127,128,128)'\u003ebe\u003c/span\u003e \u003cspan style='color:rgb(115,153,115)'\u003esomething\u003c/span\u003e \u003cspan style='color:rgb(127,128,128)'\u003ei\u003c/span\u003e \u003cspan style='color:rgb(127,128,128)'\u003e'd\u003c/span\u003e \u003cspan style='color:rgb(68,247,68)'\u003eget\u003c/span\u003e \u003cspan style='color:rgb(127,128,128)'\u003etime\u003c/span\u003e \u003cspan style='color:rgb(102,179,102)'\u003eand\u003c/span\u003e \u003cspan style='color:rgb(127,128,128)'\u003etime\u003c/span\u003e \u003cspan style='color:rgb(103,177,103)'\u003eagain\u003c/span\u003e \u003cspan style='color:rgb(128,127,128)'\u003e.\u003c/span\u003e \u003cspan style='color:rgb(127,128,128)'\u003ei\u003c/span\u003e \u003cspan style='color:rgb(127,128,128)'\u003ecould\u003c/span\u003e \u003cspan style='color:rgb(70,243,70)'\u003etaste\u003c/span\u003e \u003cspan style='color:rgb(127,128,128)'\u003ethe\u003c/span\u003e \u003cspan style='color:rgb(54,276,54)'\u003ehops\u003c/span\u003e \u003cspan style='color:rgb(127,128,128)'\u003etowards\u003c/span\u003e \u003cspan style='color:rgb(127,128,128)'\u003ethe\u003c/span\u003e \u003cspan style='color:rgb(127,128,128)'\u003emiddle\u003c/span\u003e \u003cspan style='color:rgb(128,127,128)'\u003e,\u003c/span\u003e \u003cspan style='color:rgb(69,246,69)'\u003ebut\u003c/span\u003e \u003cspan style='color:rgb(128,127,128)'\u003ethe\u003c/span\u003e \u003cspan style='color:rgb(127,128,128)'\u003ebeer\u003c/span\u003e \u003cspan style='color:rgb(127,128,128)'\u003egot\u003c/span\u003e \u003cspan style='color:rgb(65,254,65)'\u003epretty\u003c/span\u003e \u003cspan style='color:rgb(65,254,65)'\u003enasty\u003c/span\u003e \u003cspan style='color:rgb(89,205,89)'\u003etowards\u003c/span\u003e \u003cspan style='color:rgb(84,216,84)'\u003ethe\u003c/span\u003e \u003cspan style='color:rgb(127,128,128)'\u003ebottom\u003c/span\u003e \u003cspan style='color:rgb(128,127,128)'\u003e.\u003c/span\u003e \u003cspan style='color:rgb(127,128,128)'\u003ei\u003c/span\u003e \u003cspan style='color:rgb(76,232,76)'\u003ewould\u003c/span\u003e \u003cspan style='color:rgb(127,128,128)'\u003enever\u003c/span\u003e \u003cspan style='color:rgb(127,128,128)'\u003edrink\u003c/span\u003e \u003cspan style='color:rgb(127,128,128)'\u003ethis\u003c/span\u003e \u003cspan style='color:rgb(65,254,65)'\u003eagain\u003c/span\u003e \u003cspan style='color:rgb(128,127,128)'\u003e,\u003c/span\u003e \u003cspan style='color:rgb(65,254,65)'\u003eunless\u003c/span\u003e \u003cspan style='color:rgb(127,128,128)'\u003eit\u003c/span\u003e \u003cspan style='color:rgb(127,128,128)'\u003ewas\u003c/span\u003e \u003cspan style='color:rgb(127,128,128)'\u003efree\u003c/span\u003e \u003cspan style='color:rgb(128,127,128)'\u003e.\u003c/span\u003e \u003cspan style='color:rgb(128,127,128)'\u003ei\u003c/span\u003e \u003cspan style='color:rgb(127,128,128)'\u003e'm\u003c/span\u003e \u003cspan style='color:rgb(127,128,128)'\u003ekind\u003c/span\u003e \u003cspan style='color:rgb(127,128,128)'\u003eof\u003c/span\u003e \u003cspan style='color:rgb(72,239,72)'\u003eupset\u003c/span\u003e \u003cspan style='color:rgb(127,128,128)'\u003ei\u003c/span\u003e \u003cspan style='color:rgb(128,127,128)'\u003ebought\u003c/span\u003e \u003cspan style='color:rgb(127,128,128)'\u003ethis\u003c/span\u003e \u003cspan style='color:rgb(128,127,128)'\u003e.\u003c/span\u003e"
            ],
            "text/plain": [
              "\u003cIPython.core.display.HTML object\u003e"
            ]
          },
          "metadata": {
            "tags": []
          },
          "output_type": "display_data"
        },
        {
          "name": "stdout",
          "output_type": "stream",
          "text": [
            "\n",
            "No_minimization\n"
          ]
        },
        {
          "data": {
            "text/html": [
              "\u003cspan style='color:rgb(105,173,105)'\u003ei\u003c/span\u003e \u003cspan style='color:rgb(105,173,105)'\u003ereally\u003c/span\u003e \u003cspan style='color:rgb(105,173,105)'\u003edid\u003c/span\u003e \u003cspan style='color:rgb(128,127,128)'\u003enot\u003c/span\u003e \u003cspan style='color:rgb(75,234,75)'\u003elike\u003c/span\u003e \u003cspan style='color:rgb(75,234,75)'\u003ethis\u003c/span\u003e \u003cspan style='color:rgb(128,127,128)'\u003e.\u003c/span\u003e \u003cspan style='color:rgb(75,234,75)'\u003eit\u003c/span\u003e \u003cspan style='color:rgb(95,193,95)'\u003ejust\u003c/span\u003e \u003cspan style='color:rgb(95,193,95)'\u003eseemed\u003c/span\u003e \u003cspan style='color:rgb(108,167,108)'\u003eextremely\u003c/span\u003e \u003cspan style='color:rgb(64,255,64)'\u003ewatery\u003c/span\u003e \u003cspan style='color:rgb(128,127,128)'\u003e.\u003c/span\u003e \u003cspan style='color:rgb(64,255,64)'\u003ei\u003c/span\u003e \u003cspan style='color:rgb(64,255,64)'\u003edont\u003c/span\u003e \u003cspan style='color:rgb(99,186,99)'\u003e'\u003c/span\u003e \u003cspan style='color:rgb(99,186,99)'\u003ethink\u003c/span\u003e \u003cspan style='color:rgb(128,127,128)'\u003ethis\u003c/span\u003e \u003cspan style='color:rgb(127,128,128)'\u003ehad\u003c/span\u003e \u003cspan style='color:rgb(128,127,128)'\u003eany\u003c/span\u003e \u003cspan style='color:rgb(128,127,128)'\u003ecarbonation\u003c/span\u003e \u003cspan style='color:rgb(128,127,128)'\u003ewhatsoever\u003c/span\u003e \u003cspan style='color:rgb(128,127,128)'\u003e.\u003c/span\u003e \u003cspan style='color:rgb(127,128,128)'\u003emaybe\u003c/span\u003e \u003cspan style='color:rgb(92,200,92)'\u003eit\u003c/span\u003e \u003cspan style='color:rgb(78,227,78)'\u003ewas\u003c/span\u003e \u003cspan style='color:rgb(78,227,78)'\u003eflat\u003c/span\u003e \u003cspan style='color:rgb(128,127,128)'\u003e,\u003c/span\u003e \u003cspan style='color:rgb(78,227,78)'\u003ewho\u003c/span\u003e \u003cspan style='color:rgb(107,169,107)'\u003eknows\u003c/span\u003e \u003cspan style='color:rgb(128,127,128)'\u003e?\u003c/span\u003e \u003cspan style='color:rgb(127,128,128)'\u003ebut\u003c/span\u003e \u003cspan style='color:rgb(127,128,128)'\u003eeven\u003c/span\u003e \u003cspan style='color:rgb(127,128,128)'\u003eif\u003c/span\u003e \u003cspan style='color:rgb(127,128,128)'\u003ei\u003c/span\u003e \u003cspan style='color:rgb(92,199,92)'\u003egot\u003c/span\u003e \u003cspan style='color:rgb(86,211,86)'\u003ea\u003c/span\u003e \u003cspan style='color:rgb(36,311,36)'\u003ebad\u003c/span\u003e \u003cspan style='color:rgb(36,311,36)'\u003ebrew\u003c/span\u003e \u003cspan style='color:rgb(36,311,36)'\u003ei\u003c/span\u003e \u003cspan style='color:rgb(127,128,128)'\u003edo\u003c/span\u003e \u003cspan style='color:rgb(128,127,128)'\u003en't\u003c/span\u003e \u003cspan style='color:rgb(97,189,97)'\u003esee\u003c/span\u003e \u003cspan style='color:rgb(97,189,97)'\u003ehow\u003c/span\u003e \u003cspan style='color:rgb(97,189,97)'\u003ethis\u003c/span\u003e \u003cspan style='color:rgb(128,127,128)'\u003ewould\u003c/span\u003e \u003cspan style='color:rgb(120,144,120)'\u003epossibly\u003c/span\u003e \u003cspan style='color:rgb(120,144,120)'\u003ebe\u003c/span\u003e \u003cspan style='color:rgb(120,144,120)'\u003esomething\u003c/span\u003e \u003cspan style='color:rgb(122,139,122)'\u003ei\u003c/span\u003e \u003cspan style='color:rgb(88,207,88)'\u003e'd\u003c/span\u003e \u003cspan style='color:rgb(88,207,88)'\u003eget\u003c/span\u003e \u003cspan style='color:rgb(88,207,88)'\u003etime\u003c/span\u003e \u003cspan style='color:rgb(111,162,111)'\u003eand\u003c/span\u003e \u003cspan style='color:rgb(111,162,111)'\u003etime\u003c/span\u003e \u003cspan style='color:rgb(112,160,112)'\u003eagain\u003c/span\u003e \u003cspan style='color:rgb(128,127,128)'\u003e.\u003c/span\u003e \u003cspan style='color:rgb(105,174,105)'\u003ei\u003c/span\u003e \u003cspan style='color:rgb(105,174,105)'\u003ecould\u003c/span\u003e \u003cspan style='color:rgb(90,204,90)'\u003etaste\u003c/span\u003e \u003cspan style='color:rgb(88,207,88)'\u003ethe\u003c/span\u003e \u003cspan style='color:rgb(79,226,79)'\u003ehops\u003c/span\u003e \u003cspan style='color:rgb(79,226,79)'\u003etowards\u003c/span\u003e \u003cspan style='color:rgb(79,226,79)'\u003ethe\u003c/span\u003e \u003cspan style='color:rgb(89,206,89)'\u003emiddle\u003c/span\u003e \u003cspan style='color:rgb(128,127,128)'\u003e,\u003c/span\u003e \u003cspan style='color:rgb(89,206,89)'\u003ebut\u003c/span\u003e \u003cspan style='color:rgb(128,127,128)'\u003ethe\u003c/span\u003e \u003cspan style='color:rgb(107,170,107)'\u003ebeer\u003c/span\u003e \u003cspan style='color:rgb(86,211,86)'\u003egot\u003c/span\u003e \u003cspan style='color:rgb(86,211,86)'\u003epretty\u003c/span\u003e \u003cspan style='color:rgb(86,211,86)'\u003enasty\u003c/span\u003e \u003cspan style='color:rgb(102,179,102)'\u003etowards\u003c/span\u003e \u003cspan style='color:rgb(99,186,99)'\u003ethe\u003c/span\u003e \u003cspan style='color:rgb(93,197,93)'\u003ebottom\u003c/span\u003e \u003cspan style='color:rgb(128,127,128)'\u003e.\u003c/span\u003e \u003cspan style='color:rgb(93,197,93)'\u003ei\u003c/span\u003e \u003cspan style='color:rgb(93,197,93)'\u003ewould\u003c/span\u003e \u003cspan style='color:rgb(128,127,128)'\u003enever\u003c/span\u003e \u003cspan style='color:rgb(128,127,128)'\u003edrink\u003c/span\u003e \u003cspan style='color:rgb(86,212,86)'\u003ethis\u003c/span\u003e \u003cspan style='color:rgb(86,212,86)'\u003eagain\u003c/span\u003e \u003cspan style='color:rgb(128,127,128)'\u003e,\u003c/span\u003e \u003cspan style='color:rgb(86,212,86)'\u003eunless\u003c/span\u003e \u003cspan style='color:rgb(89,206,89)'\u003eit\u003c/span\u003e \u003cspan style='color:rgb(128,127,128)'\u003ewas\u003c/span\u003e \u003cspan style='color:rgb(128,127,128)'\u003efree\u003c/span\u003e \u003cspan style='color:rgb(128,127,128)'\u003e.\u003c/span\u003e \u003cspan style='color:rgb(128,127,128)'\u003ei\u003c/span\u003e \u003cspan style='color:rgb(127,128,128)'\u003e'm\u003c/span\u003e \u003cspan style='color:rgb(91,201,91)'\u003ekind\u003c/span\u003e \u003cspan style='color:rgb(91,201,91)'\u003eof\u003c/span\u003e \u003cspan style='color:rgb(91,201,91)'\u003eupset\u003c/span\u003e \u003cspan style='color:rgb(124,136,124)'\u003ei\u003c/span\u003e \u003cspan style='color:rgb(128,127,128)'\u003ebought\u003c/span\u003e \u003cspan style='color:rgb(128,127,128)'\u003ethis\u003c/span\u003e \u003cspan style='color:rgb(128,127,128)'\u003e.\u003c/span\u003e"
            ],
            "text/plain": [
              "\u003cIPython.core.display.HTML object\u003e"
            ]
          },
          "metadata": {
            "tags": []
          },
          "output_type": "display_data"
        },
        {
          "name": "stdout",
          "output_type": "stream",
          "text": [
            "\n",
            "IG\n"
          ]
        },
        {
          "data": {
            "text/html": [
              "\u003cspan style='color:rgb(151,116,116)'\u003ei\u003c/span\u003e \u003cspan style='color:rgb(206,89,89)'\u003ereally\u003c/span\u003e \u003cspan style='color:rgb(99,185,99)'\u003edid\u003c/span\u003e \u003cspan style='color:rgb(593,-105,-105)'\u003enot\u003c/span\u003e \u003cspan style='color:rgb(72,240,72)'\u003elike\u003c/span\u003e \u003cspan style='color:rgb(128,127,128)'\u003ethis\u003c/span\u003e \u003cspan style='color:rgb(128,127,128)'\u003e.\u003c/span\u003e \u003cspan style='color:rgb(104,175,104)'\u003eit\u003c/span\u003e \u003cspan style='color:rgb(99,185,99)'\u003ejust\u003c/span\u003e \u003cspan style='color:rgb(90,204,90)'\u003eseemed\u003c/span\u003e \u003cspan style='color:rgb(202,91,91)'\u003eextremely\u003c/span\u003e \u003cspan style='color:rgb(65,254,65)'\u003ewatery\u003c/span\u003e \u003cspan style='color:rgb(128,127,128)'\u003e.\u003c/span\u003e \u003cspan style='color:rgb(169,107,107)'\u003ei\u003c/span\u003e \u003cspan style='color:rgb(23,337,23)'\u003edont\u003c/span\u003e \u003cspan style='color:rgb(100,184,100)'\u003e'\u003c/span\u003e \u003cspan style='color:rgb(133,125,125)'\u003ethink\u003c/span\u003e \u003cspan style='color:rgb(127,128,128)'\u003ethis\u003c/span\u003e \u003cspan style='color:rgb(127,128,128)'\u003ehad\u003c/span\u003e \u003cspan style='color:rgb(127,128,128)'\u003eany\u003c/span\u003e \u003cspan style='color:rgb(127,128,128)'\u003ecarbonation\u003c/span\u003e \u003cspan style='color:rgb(289,47,47)'\u003ewhatsoever\u003c/span\u003e \u003cspan style='color:rgb(128,127,128)'\u003e.\u003c/span\u003e \u003cspan style='color:rgb(217,83,83)'\u003emaybe\u003c/span\u003e \u003cspan style='color:rgb(91,202,91)'\u003eit\u003c/span\u003e \u003cspan style='color:rgb(179,102,102)'\u003ewas\u003c/span\u003e \u003cspan style='color:rgb(23,338,23)'\u003eflat\u003c/span\u003e \u003cspan style='color:rgb(128,127,128)'\u003e,\u003c/span\u003e \u003cspan style='color:rgb(276,54,54)'\u003ewho\u003c/span\u003e \u003cspan style='color:rgb(204,90,90)'\u003eknows\u003c/span\u003e \u003cspan style='color:rgb(128,127,128)'\u003e?\u003c/span\u003e \u003cspan style='color:rgb(115,153,115)'\u003ebut\u003c/span\u003e \u003cspan style='color:rgb(143,120,120)'\u003eeven\u003c/span\u003e \u003cspan style='color:rgb(127,128,128)'\u003eif\u003c/span\u003e \u003cspan style='color:rgb(127,128,128)'\u003ei\u003c/span\u003e \u003cspan style='color:rgb(86,212,86)'\u003egot\u003c/span\u003e \u003cspan style='color:rgb(128,128,128)'\u003ea\u003c/span\u003e \u003cspan style='color:rgb(76,232,76)'\u003ebad\u003c/span\u003e \u003cspan style='color:rgb(79,226,79)'\u003ebrew\u003c/span\u003e \u003cspan style='color:rgb(120,143,120)'\u003ei\u003c/span\u003e \u003cspan style='color:rgb(127,130,127)'\u003edo\u003c/span\u003e \u003cspan style='color:rgb(190,97,97)'\u003en't\u003c/span\u003e \u003cspan style='color:rgb(209,87,87)'\u003esee\u003c/span\u003e \u003cspan style='color:rgb(115,153,115)'\u003ehow\u003c/span\u003e \u003cspan style='color:rgb(107,169,107)'\u003ethis\u003c/span\u003e \u003cspan style='color:rgb(127,128,128)'\u003ewould\u003c/span\u003e \u003cspan style='color:rgb(136,124,124)'\u003epossibly\u003c/span\u003e \u003cspan style='color:rgb(120,143,120)'\u003ebe\u003c/span\u003e \u003cspan style='color:rgb(205,89,89)'\u003esomething\u003c/span\u003e \u003cspan style='color:rgb(124,136,124)'\u003ei\u003c/span\u003e \u003cspan style='color:rgb(108,168,108)'\u003e'd\u003c/span\u003e \u003cspan style='color:rgb(380,2,2)'\u003eget\u003c/span\u003e \u003cspan style='color:rgb(109,165,109)'\u003etime\u003c/span\u003e \u003cspan style='color:rgb(101,181,101)'\u003eand\u003c/span\u003e \u003cspan style='color:rgb(116,151,116)'\u003etime\u003c/span\u003e \u003cspan style='color:rgb(108,167,108)'\u003eagain\u003c/span\u003e \u003cspan style='color:rgb(128,127,128)'\u003e.\u003c/span\u003e \u003cspan style='color:rgb(161,111,111)'\u003ei\u003c/span\u003e \u003cspan style='color:rgb(132,126,126)'\u003ecould\u003c/span\u003e \u003cspan style='color:rgb(72,239,72)'\u003etaste\u003c/span\u003e \u003cspan style='color:rgb(51,282,51)'\u003ethe\u003c/span\u003e \u003cspan style='color:rgb(-2,387,-2)'\u003ehops\u003c/span\u003e \u003cspan style='color:rgb(241,71,71)'\u003etowards\u003c/span\u003e \u003cspan style='color:rgb(100,183,100)'\u003ethe\u003c/span\u003e \u003cspan style='color:rgb(268,58,58)'\u003emiddle\u003c/span\u003e \u003cspan style='color:rgb(128,127,128)'\u003e,\u003c/span\u003e \u003cspan style='color:rgb(97,190,97)'\u003ebut\u003c/span\u003e \u003cspan style='color:rgb(153,115,115)'\u003ethe\u003c/span\u003e \u003cspan style='color:rgb(117,149,117)'\u003ebeer\u003c/span\u003e \u003cspan style='color:rgb(82,219,82)'\u003egot\u003c/span\u003e \u003cspan style='color:rgb(90,203,90)'\u003epretty\u003c/span\u003e \u003cspan style='color:rgb(579,-98,-98)'\u003enasty\u003c/span\u003e \u003cspan style='color:rgb(74,236,74)'\u003etowards\u003c/span\u003e \u003cspan style='color:rgb(185,99,99)'\u003ethe\u003c/span\u003e \u003cspan style='color:rgb(7,370,7)'\u003ebottom\u003c/span\u003e \u003cspan style='color:rgb(128,127,128)'\u003e.\u003c/span\u003e \u003cspan style='color:rgb(129,127,127)'\u003ei\u003c/span\u003e \u003cspan style='color:rgb(97,189,97)'\u003ewould\u003c/span\u003e \u003cspan style='color:rgb(202,91,91)'\u003enever\u003c/span\u003e \u003cspan style='color:rgb(169,107,107)'\u003edrink\u003c/span\u003e \u003cspan style='color:rgb(135,124,124)'\u003ethis\u003c/span\u003e \u003cspan style='color:rgb(102,180,102)'\u003eagain\u003c/span\u003e \u003cspan style='color:rgb(128,127,128)'\u003e,\u003c/span\u003e \u003cspan style='color:rgb(143,120,120)'\u003eunless\u003c/span\u003e \u003cspan style='color:rgb(110,163,110)'\u003eit\u003c/span\u003e \u003cspan style='color:rgb(119,146,119)'\u003ewas\u003c/span\u003e \u003cspan style='color:rgb(454,-35,-35)'\u003efree\u003c/span\u003e \u003cspan style='color:rgb(128,127,128)'\u003e.\u003c/span\u003e \u003cspan style='color:rgb(119,145,119)'\u003ei\u003c/span\u003e \u003cspan style='color:rgb(210,87,87)'\u003e'm\u003c/span\u003e \u003cspan style='color:rgb(191,96,96)'\u003ekind\u003c/span\u003e \u003cspan style='color:rgb(103,177,103)'\u003eof\u003c/span\u003e \u003cspan style='color:rgb(212,86,86)'\u003eupset\u003c/span\u003e \u003cspan style='color:rgb(129,127,127)'\u003ei\u003c/span\u003e \u003cspan style='color:rgb(127,128,128)'\u003ebought\u003c/span\u003e \u003cspan style='color:rgb(127,128,128)'\u003ethis\u003c/span\u003e \u003cspan style='color:rgb(128,127,128)'\u003e.\u003c/span\u003e"
            ],
            "text/plain": [
              "\u003cIPython.core.display.HTML object\u003e"
            ]
          },
          "metadata": {
            "tags": []
          },
          "output_type": "display_data"
        },
        {
          "name": "stdout",
          "output_type": "stream",
          "text": [
            "\n"
          ]
        }
      ],
      "source": [
        "def _get_features_and_annotation_from_index(index):\n",
        "  return annotation_x[index], annotations[index]\n",
        "features, annotation = _get_features_and_annotation_from_index(10)\n",
        "\n",
        "smug_saliency, smug_base_saliency, ig_saliency = generate_saliency_maps(\n",
        "  features, run_params)\n",
        "highlight_params = []\n",
        "\n",
        "smug_words, smug_attributes = get_words_with_attributes(\n",
        "    features, smug_saliency, tokenizer)\n",
        "highlight_params.append(('Smug', smug_words, smug_attributes))\n",
        "\n",
        "smug_base_words, smug_base_attributes = get_words_with_attributes(\n",
        "    features, smug_base_saliency, tokenizer)\n",
        "highlight_params.append(\n",
        "  ('No_minimization', smug_base_words, smug_base_attributes))\n",
        "\n",
        "ig_words, ig_attributes = get_words_with_attributes(\n",
        "    features, ig_saliency, tokenizer)\n",
        "highlight_params.append(('IG', ig_words, ig_attributes))\n",
        "\n",
        "for method, words, attributes in highlight_params:\n",
        "  print(method)\n",
        "  highlight_text(\n",
        "      annotation=annotation,\n",
        "      aspect=ASPECT,\n",
        "      words=words,\n",
        "      attributes=attributes,\n",
        "      print_html=False)\n",
        "  print('')"
      ]
    },
    {
      "cell_type": "code",
      "execution_count": null,
      "metadata": {
        "id": "dcQvA-IlFlGR"
      },
      "outputs": [],
      "source": [
        ""
      ]
    }
  ],
  "metadata": {
    "colab": {
      "collapsed_sections": [],
      "name": "text_saliency.ipynb",
      "provenance": [
        {
          "file_id": "101BUxrUohvPHzm0ThSCotsTnw5aJSk9q",
          "timestamp": 1616167478688
        }
      ]
    },
    "kernelspec": {
      "display_name": "Python 3",
      "language": "python",
      "name": "python3"
    },
    "language_info": {
      "codemirror_mode": {
        "name": "ipython",
        "version": 3
      },
      "file_extension": ".py",
      "mimetype": "text/x-python",
      "name": "python",
      "nbconvert_exporter": "python",
      "pygments_lexer": "ipython3",
      "version": "3.7.4"
    }
  },
  "nbformat": 4,
  "nbformat_minor": 0
}
