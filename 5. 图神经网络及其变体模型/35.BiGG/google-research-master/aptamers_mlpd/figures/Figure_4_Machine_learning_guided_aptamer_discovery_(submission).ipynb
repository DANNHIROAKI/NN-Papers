{
  "cells": [
    {
      "metadata": {
        "id": "DhWmZgAVwDGu",
        "colab_type": "text"
      },
      "cell_type": "markdown",
      "source": [
        "Copyright 2021 Google LLC\n",
        "\n",
        "Licensed under the Apache License, Version 2.0 (the \"License\");\n",
        "you may not use this file except in compliance with the License.\n",
        "You may obtain a copy of the License at\n",
        "\n",
        "    https://www.apache.org/licenses/LICENSE-2.0\n",
        "\n",
        "Unless required by applicable law or agreed to in writing, software\n",
        "distributed under the License is distributed on an \"AS IS\" BASIS,\n",
        "WITHOUT WARRANTIES OR CONDITIONS OF ANY KIND, either express or implied.\n",
        "See the License for the specific language governing permissions and\n",
        "limitations under the License."
      ]
    },
    {
      "cell_type": "markdown",
      "metadata": {
        "id": "IMdCi5Ei9UE5"
      },
      "source": [
        "# Overview\n",
        "This notebook loads in all the simulated truncations (with model scores) as well as the experimentally tested subset of truncations. It then creates a plot showing the distribution of model scores for each tested truncation."
      ]
    },
    {
      "cell_type": "code",
      "execution_count": null,
      "metadata": {
        "id": "2MtlkKnbvzIv"
      },
      "outputs": [],
      "source": [
        "import pandas as pd\n",
        "import numpy as np\n",
        "import seaborn as sns\n",
        "import matplotlib.pyplot as plt"
      ]
    },
    {
      "cell_type": "markdown",
      "metadata": {
        "id": "priK_Jn-zFls"
      },
      "source": [
        "## Experimental PD affinity estimate \n",
        "\n",
        "These affinity estimates are fairly small so we directly embed them below."
      ]
    },
    {
      "cell_type": "code",
      "execution_count": null,
      "metadata": {
        "id": "H851rxgDzRO_"
      },
      "outputs": [],
      "source": [
        "# Tuple of form: (Seq, Stringency, Kd)\n",
        "\n",
        "validated_core_seqs = [ ('TTTGGTGGATAGTAA', 1, '\u003c 512 nM'),\n",
        "                        ('AGAGGATTTGGTGGATAGT', 0, '\u003e 512nM'),\n",
        "                        ('AGAGGATTTGGTGGATAGTAAAT', 3, '\u003c 32 nM'),\n",
        "                        ('GAGGATTTGGTGGATAGTAAATC', 4, '\u003c 8 nM'),\n",
        "                        ('GAGGATTTGGTGGATAGTAAATCTTTG', 4, '\u003c 8 nM'),\n",
        "                        ('AAGAGGATTTGGTGGATAGTAAATCTT', 4, '\u003c 8 nM'),\n",
        "                        ('CAAGAGGATTTGGTGGATAGTAAATCTTTGC', 4, '\u003c 8 nM'),\n",
        "                        ('GATAGTAAATCTTTGCCTATCCA', 0, '\u003e 512nM'),\n",
        "                        ('GTGGATAGTAAATCTTTGCCTATCCAG', 0, '\u003e 512nM'),\n",
        "                        ('TTTGGTGGATAGTAAATCTTTGC', 0, '\u003e 512nM'),\n",
        "                        ('CAAGAGGATTTGGTGGATAGTAAATCTTTGCCTAT', 3, '\u003c 32 nM'),\n",
        "                        ('CAAGAGGATTTGGTGGATAGTAAATCTTTGCCTATCCAG', 3, '\u003c 32 nM'),\n",
        "                        ('GTTTTTGGTGGATAG', 0, '\u003e 512nM'),\n",
        "                        ('GTTTTTGGTGGATAGCAAA', 3, '\u003c 32 nM'),\n",
        "                        ('ACGTTTTTGGTGGATAGCAAATG', 3, '\u003c 32 nM'),\n",
        "                        ('ACGTTTTTGGTGGATAGCAAATGCCAG', 3, '\u003c 32 nM'),\n",
        "                        ('ACGTTTTTGGTGGATAGCAAATGCCAGGGCC', 3, '\u003c 32 nM'),\n",
        "                        ('ACGTTTTTGGTGGATAGCAAATGCCAGGGCCCTTT', 3, '\u003c 32 nM'),\n",
        "                        ('ACGTTTTTGGTGGATAGCAAATGCCAGGGCCCTTTTTTG', 3, '\u003c 32 nM'),\n",
        "                        ('GGACTGGTGGATAGT', 0, '\u003e 512nM'),\n",
        "                        ('CGGACTGGTGGATAGTAGA', 1, '\u003c 512 nM'),\n",
        "                        ('CGGACTGGTGGATAGTAGAGCTG', 0, '\u003e 512nM'),\n",
        "                        ('CACGGACTGGTGGATAGTAGAGC', 1, '\u003c 512 nM'),\n",
        "                        ('CACGGACTGGTGGATAGTAGAGCTGTG', 3, '\u003c 32 nM'),\n",
        "                        ('GCACGGACTGGTGGATAGTAGAGCTGTGTGA', 2, '\u003c 128 nM'),\n",
        "                        ('CACGGACTGGTGGATAGTAGAGCTGTGTGAGGTCG', 0, '\u003e 512nM'),\n",
        "                        ('CGCACGGACTGGTGGATAGTAGAGCTGTGTGAGGT', 2, '\u003c 128 nM'),\n",
        "                        ('GTCGCACGGACTGGTGGATAGTAGAGCTGTGTGAGGTCG', 3, '\u003c 32 nM'),\n",
        "                        ('GATGGTGGCTGGATAGTCA', 3, '\u003c 32 nM'),\n",
        "                        ('GATGGTGGCTGGATAGTCACCTAGTGTCTGG', 3, '\u003c 32 nM')]\n",
        "validated_core_seq_df = pd.DataFrame(validated_core_seqs, columns=['core_seq', 'stringency_level', 'Kd'])"
      ]
    },
    {
      "cell_type": "markdown",
      "metadata": {
        "id": "gkLvqYa8v0_B"
      },
      "source": [
        "# Load in Data"
      ]
    },
    {
      "cell_type": "code",
      "execution_count": null,
      "metadata": {
        "colab": {
          "base_uri": "https://localhost:8080/",
          "height": 89,
          "resources": {
            "http://localhost:8080/nbextensions/google.colab/files.js": {
              "data": "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",
              "headers": [
                [
                  "content-type",
                  "application/javascript"
                ]
              ],
              "ok": true,
              "status": 200,
              "status_text": ""
            }
          }
        },
        "executionInfo": {
          "elapsed": 72315,
          "status": "ok",
          "timestamp": 1603473576839,
          "user": {
            "displayName": "Ali Bashir",
            "photoUrl": "https://lh3.googleusercontent.com/a-/AOh14Gg_2QzdOhvL03-igIA8CW4RWncTEV4gLZ80ECLPkg=s64",
            "userId": "01976351517997791084"
          },
          "user_tz": 420
        },
        "id": "cVTVlNJwv3Jg",
        "outputId": "9d135d36-3179-4192-f9bb-3de3919f8a83"
      },
      "outputs": [
        {
          "data": {
            "text/html": [
              "\n",
              "     \u003cinput type=\"file\" id=\"files-eaf818cd-9261-416e-8e50-78af768c1f69\" name=\"files[]\" multiple disabled\n",
              "        style=\"border:none\" /\u003e\n",
              "     \u003coutput id=\"result-eaf818cd-9261-416e-8e50-78af768c1f69\"\u003e\n",
              "      Upload widget is only available when the cell has been executed in the\n",
              "      current browser session. Please rerun this cell to enable.\n",
              "      \u003c/output\u003e\n",
              "      \u003cscript src=\"/nbextensions/google.colab/files.js\"\u003e\u003c/script\u003e "
            ],
            "text/plain": [
              "\u003cIPython.core.display.HTML object\u003e"
            ]
          },
          "metadata": {
            "tags": []
          },
          "output_type": "display_data"
        },
        {
          "name": "stdout",
          "output_type": "stream",
          "text": [
            "Saving truncation_option_seed_scores_manuscript.csv to truncation_option_seed_scores_manuscript.csv\n",
            "User uploaded file \"truncation_option_seed_scores_manuscript.csv\" with length 16277793 bytes\n"
          ]
        }
      ],
      "source": [
        "# All ML score truncations for G12 and G13 in all screened sequence contexts.\n",
        "# Upload truncation_option_seed_scores_manuscript.csv\n",
        "from google.colab import files\n",
        "\n",
        "uploaded = files.upload()\n",
        "\n",
        "for fn in uploaded.keys():\n",
        "  print('User uploaded file \"{name}\" with length {length} bytes'.format(\n",
        "      name=fn, length=len(uploaded[fn])))\n",
        "\n",
        "with open('truncation_option_seed_scores_manuscript.csv') as f:\n",
        "  truncation_scores_df = pd.read_csv(f)"
      ]
    },
    {
      "cell_type": "markdown",
      "metadata": {
        "id": "sceRGQ0Qd2LG"
      },
      "source": [
        "# Merge experimental and model score data"
      ]
    },
    {
      "cell_type": "code",
      "execution_count": null,
      "metadata": {
        "id": "Mi5CPlxn0Rmo"
      },
      "outputs": [],
      "source": [
        "trunc_validated_df = truncation_scores_df.merge(validated_core_seq_df, how='inner', on='core_seq')"
      ]
    },
    {
      "cell_type": "markdown",
      "metadata": {
        "id": "B5OuLFei1Ydi"
      },
      "source": [
        "# Examine distribution of scores for sequences"
      ]
    },
    {
      "cell_type": "code",
      "execution_count": null,
      "metadata": {
        "id": "J77VU2if3Qk5"
      },
      "outputs": [],
      "source": [
        "trunc_validated_df['core_seq_len'] = trunc_validated_df['core_seq'].apply(len)"
      ]
    },
    {
      "cell_type": "code",
      "execution_count": null,
      "metadata": {
        "id": "FhZvSGJN1Xue"
      },
      "outputs": [],
      "source": [
        "trunc_validated_df_median = trunc_validated_df[\n",
        "                                               [u'core_seq', u'seq', u'seed_seq', \n",
        "                                                u'seed_label', u'model_score',\n",
        "                                                u'model_delta', 'core_seq_len', \n",
        "                                                'inferer_name', 'Kd',\n",
        "                                                'stringency_level']].groupby(\n",
        "                                                    [u'core_seq', u'seed_seq', 'core_seq_len',\n",
        "                                                     u'seed_label', 'Kd',\n",
        "                                                     u'inferer_name']).median().reset_index()\n",
        "\n",
        "trunc_validated_df_var = trunc_validated_df[[u'core_seq', u'seq', u'seed_seq', \n",
        "                                             u'seed_label', u'model_score',\n",
        "                                             u'model_delta', 'core_seq_len', \n",
        "                                             'inferer_name', 'Kd',\n",
        "                                             'stringency_level']].groupby(\n",
        "                                                 [u'core_seq', u'seed_seq', 'core_seq_len', \n",
        "                                                  u'seed_label', 'Kd',\n",
        "                                                  u'inferer_name']).var().reset_index()\n",
        "\n",
        "\n"
      ]
    },
    {
      "cell_type": "code",
      "execution_count": null,
      "metadata": {
        "colab": {
          "base_uri": "https://localhost:8080/",
          "height": 638
        },
        "executionInfo": {
          "elapsed": 896,
          "status": "ok",
          "timestamp": 1603473577777,
          "user": {
            "displayName": "Ali Bashir",
            "photoUrl": "https://lh3.googleusercontent.com/a-/AOh14Gg_2QzdOhvL03-igIA8CW4RWncTEV4gLZ80ECLPkg=s64",
            "userId": "01976351517997791084"
          },
          "user_tz": 420
        },
        "id": "CRrYyjcFTyrA",
        "outputId": "c5ad4c88-a44d-4566-a9fe-afa41faba84c"
      },
      "outputs": [
        {
          "data": {
            "text/html": [
              "\u003cdiv\u003e\n",
              "\u003cstyle scoped\u003e\n",
              "    .dataframe tbody tr th:only-of-type {\n",
              "        vertical-align: middle;\n",
              "    }\n",
              "\n",
              "    .dataframe tbody tr th {\n",
              "        vertical-align: top;\n",
              "    }\n",
              "\n",
              "    .dataframe thead th {\n",
              "        text-align: right;\n",
              "    }\n",
              "\u003c/style\u003e\n",
              "\u003ctable border=\"1\" class=\"dataframe\"\u003e\n",
              "  \u003cthead\u003e\n",
              "    \u003ctr style=\"text-align: right;\"\u003e\n",
              "      \u003cth\u003e\u003c/th\u003e\n",
              "      \u003cth\u003eseed_label\u003c/th\u003e\n",
              "      \u003cth\u003ecore_seq\u003c/th\u003e\n",
              "      \u003cth\u003ecore_seq_len\u003c/th\u003e\n",
              "      \u003cth\u003eKd\u003c/th\u003e\n",
              "      \u003cth\u003einferer_name\u003c/th\u003e\n",
              "      \u003cth\u003emodel_score_median\u003c/th\u003e\n",
              "      \u003cth\u003emodel_score_var\u003c/th\u003e\n",
              "    \u003c/tr\u003e\n",
              "  \u003c/thead\u003e\n",
              "  \u003ctbody\u003e\n",
              "    \u003ctr\u003e\n",
              "      \u003cth\u003e32\u003c/th\u003e\n",
              "      \u003ctd\u003eG13\u003c/td\u003e\n",
              "      \u003ctd\u003eCAAGAGGATTTGGTGGATAGTAAATCTTTGCCTATCCAG\u003c/td\u003e\n",
              "      \u003ctd\u003e39\u003c/td\u003e\n",
              "      \u003ctd\u003e\u0026lt; 32 nM\u003c/td\u003e\n",
              "      \u003ctd\u003eSuperBin\u003c/td\u003e\n",
              "      \u003ctd\u003e3.826400\u003c/td\u003e\n",
              "      \u003ctd\u003e0.015550\u003c/td\u003e\n",
              "    \u003c/tr\u003e\n",
              "    \u003ctr\u003e\n",
              "      \u003cth\u003e29\u003c/th\u003e\n",
              "      \u003ctd\u003eG13\u003c/td\u003e\n",
              "      \u003ctd\u003eCAAGAGGATTTGGTGGATAGTAAATCTTTGCCTAT\u003c/td\u003e\n",
              "      \u003ctd\u003e35\u003c/td\u003e\n",
              "      \u003ctd\u003e\u0026lt; 32 nM\u003c/td\u003e\n",
              "      \u003ctd\u003eSuperBin\u003c/td\u003e\n",
              "      \u003ctd\u003e3.549623\u003c/td\u003e\n",
              "      \u003ctd\u003e0.257312\u003c/td\u003e\n",
              "    \u003c/tr\u003e\n",
              "    \u003ctr\u003e\n",
              "      \u003cth\u003e26\u003c/th\u003e\n",
              "      \u003ctd\u003eG13\u003c/td\u003e\n",
              "      \u003ctd\u003eCAAGAGGATTTGGTGGATAGTAAATCTTTGC\u003c/td\u003e\n",
              "      \u003ctd\u003e31\u003c/td\u003e\n",
              "      \u003ctd\u003e\u0026lt; 8 nM\u003c/td\u003e\n",
              "      \u003ctd\u003eSuperBin\u003c/td\u003e\n",
              "      \u003ctd\u003e3.734980\u003c/td\u003e\n",
              "      \u003ctd\u003e0.489129\u003c/td\u003e\n",
              "    \u003c/tr\u003e\n",
              "    \u003ctr\u003e\n",
              "      \u003cth\u003e2\u003c/th\u003e\n",
              "      \u003ctd\u003eG13\u003c/td\u003e\n",
              "      \u003ctd\u003eAAGAGGATTTGGTGGATAGTAAATCTT\u003c/td\u003e\n",
              "      \u003ctd\u003e27\u003c/td\u003e\n",
              "      \u003ctd\u003e\u0026lt; 8 nM\u003c/td\u003e\n",
              "      \u003ctd\u003eSuperBin\u003c/td\u003e\n",
              "      \u003ctd\u003e3.740236\u003c/td\u003e\n",
              "      \u003ctd\u003e0.665158\u003c/td\u003e\n",
              "    \u003c/tr\u003e\n",
              "    \u003ctr\u003e\n",
              "      \u003cth\u003e38\u003c/th\u003e\n",
              "      \u003ctd\u003eG13\u003c/td\u003e\n",
              "      \u003ctd\u003eGAGGATTTGGTGGATAGTAAATCTTTG\u003c/td\u003e\n",
              "      \u003ctd\u003e27\u003c/td\u003e\n",
              "      \u003ctd\u003e\u0026lt; 8 nM\u003c/td\u003e\n",
              "      \u003ctd\u003eSuperBin\u003c/td\u003e\n",
              "      \u003ctd\u003e3.815974\u003c/td\u003e\n",
              "      \u003ctd\u003e0.635511\u003c/td\u003e\n",
              "    \u003c/tr\u003e\n",
              "    \u003ctr\u003e\n",
              "      \u003cth\u003e44\u003c/th\u003e\n",
              "      \u003ctd\u003eG13\u003c/td\u003e\n",
              "      \u003ctd\u003eGTGGATAGTAAATCTTTGCCTATCCAG\u003c/td\u003e\n",
              "      \u003ctd\u003e27\u003c/td\u003e\n",
              "      \u003ctd\u003e\u0026gt; 512nM\u003c/td\u003e\n",
              "      \u003ctd\u003eSuperBin\u003c/td\u003e\n",
              "      \u003ctd\u003e2.230930\u003c/td\u003e\n",
              "      \u003ctd\u003e0.940225\u003c/td\u003e\n",
              "    \u003c/tr\u003e\n",
              "    \u003ctr\u003e\n",
              "      \u003cth\u003e23\u003c/th\u003e\n",
              "      \u003ctd\u003eG13\u003c/td\u003e\n",
              "      \u003ctd\u003eAGAGGATTTGGTGGATAGTAAAT\u003c/td\u003e\n",
              "      \u003ctd\u003e23\u003c/td\u003e\n",
              "      \u003ctd\u003e\u0026lt; 32 nM\u003c/td\u003e\n",
              "      \u003ctd\u003eSuperBin\u003c/td\u003e\n",
              "      \u003ctd\u003e3.808052\u003c/td\u003e\n",
              "      \u003ctd\u003e0.848205\u003c/td\u003e\n",
              "    \u003c/tr\u003e\n",
              "    \u003ctr\u003e\n",
              "      \u003cth\u003e35\u003c/th\u003e\n",
              "      \u003ctd\u003eG13\u003c/td\u003e\n",
              "      \u003ctd\u003eGAGGATTTGGTGGATAGTAAATC\u003c/td\u003e\n",
              "      \u003ctd\u003e23\u003c/td\u003e\n",
              "      \u003ctd\u003e\u0026lt; 8 nM\u003c/td\u003e\n",
              "      \u003ctd\u003eSuperBin\u003c/td\u003e\n",
              "      \u003ctd\u003e3.745302\u003c/td\u003e\n",
              "      \u003ctd\u003e0.686720\u003c/td\u003e\n",
              "    \u003c/tr\u003e\n",
              "    \u003ctr\u003e\n",
              "      \u003cth\u003e41\u003c/th\u003e\n",
              "      \u003ctd\u003eG13\u003c/td\u003e\n",
              "      \u003ctd\u003eGATAGTAAATCTTTGCCTATCCA\u003c/td\u003e\n",
              "      \u003ctd\u003e23\u003c/td\u003e\n",
              "      \u003ctd\u003e\u0026gt; 512nM\u003c/td\u003e\n",
              "      \u003ctd\u003eSuperBin\u003c/td\u003e\n",
              "      \u003ctd\u003e0.219223\u003c/td\u003e\n",
              "      \u003ctd\u003e0.212515\u003c/td\u003e\n",
              "    \u003c/tr\u003e\n",
              "    \u003ctr\u003e\n",
              "      \u003cth\u003e56\u003c/th\u003e\n",
              "      \u003ctd\u003eG13\u003c/td\u003e\n",
              "      \u003ctd\u003eTTTGGTGGATAGTAAATCTTTGC\u003c/td\u003e\n",
              "      \u003ctd\u003e23\u003c/td\u003e\n",
              "      \u003ctd\u003e\u0026gt; 512nM\u003c/td\u003e\n",
              "      \u003ctd\u003eSuperBin\u003c/td\u003e\n",
              "      \u003ctd\u003e3.337054\u003c/td\u003e\n",
              "      \u003ctd\u003e1.402974\u003c/td\u003e\n",
              "    \u003c/tr\u003e\n",
              "    \u003ctr\u003e\n",
              "      \u003cth\u003e20\u003c/th\u003e\n",
              "      \u003ctd\u003eG13\u003c/td\u003e\n",
              "      \u003ctd\u003eAGAGGATTTGGTGGATAGT\u003c/td\u003e\n",
              "      \u003ctd\u003e19\u003c/td\u003e\n",
              "      \u003ctd\u003e\u0026gt; 512nM\u003c/td\u003e\n",
              "      \u003ctd\u003eSuperBin\u003c/td\u003e\n",
              "      \u003ctd\u003e3.515028\u003c/td\u003e\n",
              "      \u003ctd\u003e1.038317\u003c/td\u003e\n",
              "    \u003c/tr\u003e\n",
              "    \u003ctr\u003e\n",
              "      \u003cth\u003e53\u003c/th\u003e\n",
              "      \u003ctd\u003eG13\u003c/td\u003e\n",
              "      \u003ctd\u003eTTTGGTGGATAGTAA\u003c/td\u003e\n",
              "      \u003ctd\u003e15\u003c/td\u003e\n",
              "      \u003ctd\u003e\u0026lt; 512 nM\u003c/td\u003e\n",
              "      \u003ctd\u003eSuperBin\u003c/td\u003e\n",
              "      \u003ctd\u003e3.214107\u003c/td\u003e\n",
              "      \u003ctd\u003e2.216152\u003c/td\u003e\n",
              "    \u003c/tr\u003e\n",
              "    \u003ctr\u003e\n",
              "      \u003cth\u003e17\u003c/th\u003e\n",
              "      \u003ctd\u003eG12\u003c/td\u003e\n",
              "      \u003ctd\u003eACGTTTTTGGTGGATAGCAAATGCCAGGGCCCTTTTTTG\u003c/td\u003e\n",
              "      \u003ctd\u003e39\u003c/td\u003e\n",
              "      \u003ctd\u003e\u0026lt; 32 nM\u003c/td\u003e\n",
              "      \u003ctd\u003eSuperBin\u003c/td\u003e\n",
              "      \u003ctd\u003e4.132033\u003c/td\u003e\n",
              "      \u003ctd\u003e0.008568\u003c/td\u003e\n",
              "    \u003c/tr\u003e\n",
              "    \u003ctr\u003e\n",
              "      \u003cth\u003e14\u003c/th\u003e\n",
              "      \u003ctd\u003eG12\u003c/td\u003e\n",
              "      \u003ctd\u003eACGTTTTTGGTGGATAGCAAATGCCAGGGCCCTTT\u003c/td\u003e\n",
              "      \u003ctd\u003e35\u003c/td\u003e\n",
              "      \u003ctd\u003e\u0026lt; 32 nM\u003c/td\u003e\n",
              "      \u003ctd\u003eSuperBin\u003c/td\u003e\n",
              "      \u003ctd\u003e3.701966\u003c/td\u003e\n",
              "      \u003ctd\u003e0.347123\u003c/td\u003e\n",
              "    \u003c/tr\u003e\n",
              "    \u003ctr\u003e\n",
              "      \u003cth\u003e11\u003c/th\u003e\n",
              "      \u003ctd\u003eG12\u003c/td\u003e\n",
              "      \u003ctd\u003eACGTTTTTGGTGGATAGCAAATGCCAGGGCC\u003c/td\u003e\n",
              "      \u003ctd\u003e31\u003c/td\u003e\n",
              "      \u003ctd\u003e\u0026lt; 32 nM\u003c/td\u003e\n",
              "      \u003ctd\u003eSuperBin\u003c/td\u003e\n",
              "      \u003ctd\u003e3.519245\u003c/td\u003e\n",
              "      \u003ctd\u003e0.255186\u003c/td\u003e\n",
              "    \u003c/tr\u003e\n",
              "    \u003ctr\u003e\n",
              "      \u003cth\u003e8\u003c/th\u003e\n",
              "      \u003ctd\u003eG12\u003c/td\u003e\n",
              "      \u003ctd\u003eACGTTTTTGGTGGATAGCAAATGCCAG\u003c/td\u003e\n",
              "      \u003ctd\u003e27\u003c/td\u003e\n",
              "      \u003ctd\u003e\u0026lt; 32 nM\u003c/td\u003e\n",
              "      \u003ctd\u003eSuperBin\u003c/td\u003e\n",
              "      \u003ctd\u003e3.670578\u003c/td\u003e\n",
              "      \u003ctd\u003e0.567424\u003c/td\u003e\n",
              "    \u003c/tr\u003e\n",
              "    \u003ctr\u003e\n",
              "      \u003cth\u003e5\u003c/th\u003e\n",
              "      \u003ctd\u003eG12\u003c/td\u003e\n",
              "      \u003ctd\u003eACGTTTTTGGTGGATAGCAAATG\u003c/td\u003e\n",
              "      \u003ctd\u003e23\u003c/td\u003e\n",
              "      \u003ctd\u003e\u0026lt; 32 nM\u003c/td\u003e\n",
              "      \u003ctd\u003eSuperBin\u003c/td\u003e\n",
              "      \u003ctd\u003e3.441101\u003c/td\u003e\n",
              "      \u003ctd\u003e0.671744\u003c/td\u003e\n",
              "    \u003c/tr\u003e\n",
              "    \u003ctr\u003e\n",
              "      \u003cth\u003e50\u003c/th\u003e\n",
              "      \u003ctd\u003eG12\u003c/td\u003e\n",
              "      \u003ctd\u003eGTTTTTGGTGGATAGCAAA\u003c/td\u003e\n",
              "      \u003ctd\u003e19\u003c/td\u003e\n",
              "      \u003ctd\u003e\u0026lt; 32 nM\u003c/td\u003e\n",
              "      \u003ctd\u003eSuperBin\u003c/td\u003e\n",
              "      \u003ctd\u003e3.125453\u003c/td\u003e\n",
              "      \u003ctd\u003e1.224282\u003c/td\u003e\n",
              "    \u003c/tr\u003e\n",
              "    \u003ctr\u003e\n",
              "      \u003cth\u003e47\u003c/th\u003e\n",
              "      \u003ctd\u003eG12\u003c/td\u003e\n",
              "      \u003ctd\u003eGTTTTTGGTGGATAG\u003c/td\u003e\n",
              "      \u003ctd\u003e15\u003c/td\u003e\n",
              "      \u003ctd\u003e\u0026gt; 512nM\u003c/td\u003e\n",
              "      \u003ctd\u003eSuperBin\u003c/td\u003e\n",
              "      \u003ctd\u003e2.799400\u003c/td\u003e\n",
              "      \u003ctd\u003e2.241221\u003c/td\u003e\n",
              "    \u003c/tr\u003e\n",
              "  \u003c/tbody\u003e\n",
              "\u003c/table\u003e\n",
              "\u003c/div\u003e"
            ],
            "text/plain": [
              "   seed_label                                 core_seq  core_seq_len  \\\n",
              "32        G13  CAAGAGGATTTGGTGGATAGTAAATCTTTGCCTATCCAG            39   \n",
              "29        G13      CAAGAGGATTTGGTGGATAGTAAATCTTTGCCTAT            35   \n",
              "26        G13          CAAGAGGATTTGGTGGATAGTAAATCTTTGC            31   \n",
              "2         G13              AAGAGGATTTGGTGGATAGTAAATCTT            27   \n",
              "38        G13              GAGGATTTGGTGGATAGTAAATCTTTG            27   \n",
              "44        G13              GTGGATAGTAAATCTTTGCCTATCCAG            27   \n",
              "23        G13                  AGAGGATTTGGTGGATAGTAAAT            23   \n",
              "35        G13                  GAGGATTTGGTGGATAGTAAATC            23   \n",
              "41        G13                  GATAGTAAATCTTTGCCTATCCA            23   \n",
              "56        G13                  TTTGGTGGATAGTAAATCTTTGC            23   \n",
              "20        G13                      AGAGGATTTGGTGGATAGT            19   \n",
              "53        G13                          TTTGGTGGATAGTAA            15   \n",
              "17        G12  ACGTTTTTGGTGGATAGCAAATGCCAGGGCCCTTTTTTG            39   \n",
              "14        G12      ACGTTTTTGGTGGATAGCAAATGCCAGGGCCCTTT            35   \n",
              "11        G12          ACGTTTTTGGTGGATAGCAAATGCCAGGGCC            31   \n",
              "8         G12              ACGTTTTTGGTGGATAGCAAATGCCAG            27   \n",
              "5         G12                  ACGTTTTTGGTGGATAGCAAATG            23   \n",
              "50        G12                      GTTTTTGGTGGATAGCAAA            19   \n",
              "47        G12                          GTTTTTGGTGGATAG            15   \n",
              "\n",
              "          Kd inferer_name  model_score_median  model_score_var  \n",
              "32   \u003c 32 nM     SuperBin            3.826400         0.015550  \n",
              "29   \u003c 32 nM     SuperBin            3.549623         0.257312  \n",
              "26    \u003c 8 nM     SuperBin            3.734980         0.489129  \n",
              "2     \u003c 8 nM     SuperBin            3.740236         0.665158  \n",
              "38    \u003c 8 nM     SuperBin            3.815974         0.635511  \n",
              "44   \u003e 512nM     SuperBin            2.230930         0.940225  \n",
              "23   \u003c 32 nM     SuperBin            3.808052         0.848205  \n",
              "35    \u003c 8 nM     SuperBin            3.745302         0.686720  \n",
              "41   \u003e 512nM     SuperBin            0.219223         0.212515  \n",
              "56   \u003e 512nM     SuperBin            3.337054         1.402974  \n",
              "20   \u003e 512nM     SuperBin            3.515028         1.038317  \n",
              "53  \u003c 512 nM     SuperBin            3.214107         2.216152  \n",
              "17   \u003c 32 nM     SuperBin            4.132033         0.008568  \n",
              "14   \u003c 32 nM     SuperBin            3.701966         0.347123  \n",
              "11   \u003c 32 nM     SuperBin            3.519245         0.255186  \n",
              "8    \u003c 32 nM     SuperBin            3.670578         0.567424  \n",
              "5    \u003c 32 nM     SuperBin            3.441101         0.671744  \n",
              "50   \u003c 32 nM     SuperBin            3.125453         1.224282  \n",
              "47   \u003e 512nM     SuperBin            2.799400         2.241221  "
            ]
          },
          "execution_count": 7,
          "metadata": {
            "tags": []
          },
          "output_type": "execute_result"
        }
      ],
      "source": [
        "# Join Median and Var into one table to Summarize\n",
        "trunc_validated_df_median_var = trunc_validated_df_median.merge(\n",
        "    trunc_validated_df_var, \n",
        "    on=['core_seq', 'inferer_name', 'seed_label', 'seed_seq', 'core_seq_len', 'Kd'], \n",
        "    suffixes=('_median', '_var'))\n",
        "\n",
        "trunc_validated_df_median_var[trunc_validated_df_median_var.inferer_name == 'SuperBin'].sort_values(\n",
        "    by=['seed_label', 'core_seq_len'],\n",
        "    ascending=False)[['seed_label', 'core_seq', 'core_seq_len', 'Kd', 'inferer_name', \n",
        "                      'model_score_median', 'model_score_var']]"
      ]
    },
    {
      "cell_type": "markdown",
      "metadata": {
        "id": "nnHXv6sMe73o"
      },
      "source": [
        "# Generate Figure Plots"
      ]
    },
    {
      "cell_type": "code",
      "execution_count": null,
      "metadata": {
        "id": "nQItPHuZ3guI"
      },
      "outputs": [],
      "source": [
        "def plot_swarm_and_box_plots (median_df, full_df, inferer_name, seed_label):\n",
        "  \"\"\"Plots swarm and boxplots for truncated sequences.\n",
        "\n",
        "  Args:\n",
        "    median_df: (pd.DataFrame) Median model scores for truncated sequence.\n",
        "    full_df: (pd.DataFrame) All model scores evaluated for each truncation.\n",
        "    inferer_name: (str) Name of model to plot data from (e.g. SuperBin)\n",
        "    seed_label: (str) Seed sequence for which to plot truncations.\n",
        "  \"\"\"\n",
        "  # Subset out seed and model for inference\n",
        "  seed_median_df = median_df[(median_df.inferer_name == inferer_name) \u0026 \n",
        "                             (median_df.seed_label == seed_label)].copy()\n",
        "  seed_full_df = full_df[(full_df.inferer_name ==  inferer_name) \u0026\n",
        "                         (full_df.seed_label == seed_label)].copy()\n",
        "\n",
        "  # Use the median df to sort the data by relative model scores\n",
        "  seed_median_df = seed_median_df.sort_values('model_delta', ascending=False)\n",
        "\n",
        "  # Create an offset to enable spacing between values of the same core seq len\n",
        "  core_seq_offset_dict = {} \n",
        "  for core_seq_len in seed_median_df.core_seq_len.unique():\n",
        "    for i, core_seq in enumerate(seed_median_df[seed_median_df.core_seq_len == core_seq_len].core_seq):\n",
        "      core_seq_offset_dict[core_seq] = i\n",
        "\n",
        "  # Apply these offsets back to the full set of evaluated points as well as medians\n",
        "  seed_full_df['seq_len_offset'] = seed_full_df['core_seq'].apply(\n",
        "      lambda x:  core_seq_offset_dict[x])\n",
        "  seed_full_df['seq_len_mod'] = seed_full_df['core_seq_len'] + seed_full_df['core_seq'].apply(\n",
        "      lambda x:  float(5 * core_seq_offset_dict[x]) / 10.)\n",
        "  seed_full_df['seq_len_mod2'] = -1 * seed_full_df['seq_len_mod']\n",
        "\n",
        "  # Create a categorical to enable ordering of colors\n",
        "  seed_full_df['$K_D$'] = pd.Categorical(seed_full_df['Kd'],\n",
        "                                         categories=['\u003e 512nM', '\u003c 512 nM', '\u003c 128 nM', '\u003c 32 nM', '\u003c 8 nM'],\n",
        "                                         ordered=True)\n",
        "\n",
        "  # Create an ordering to enable spacing of points.\n",
        "  boxplot_order = [-40. , -39.5, -39. , \n",
        "       -35.5, -35. ,  -31.5,\n",
        "       -31. , 30.5 , -28, -27.5, -27., \n",
        "       -25. , -24.5, -24. , -23.5, -23. , \n",
        "        -19.5, -19. , 15.5,\n",
        "        -15., -14.5, ]\n",
        "\n",
        "  # Only show the sizes we actually evaluated core sequences.\n",
        "  boxplot_order_strs = [40 , '', 39 , \n",
        "       '', 35 , '',  \n",
        "       31 , '', '', '', 27, \n",
        "      '', '', '', '', 23 , \n",
        "       '', 19 , \n",
        "      '', 15, '']\n",
        "\n",
        "\n",
        "  # First render points via swarm\n",
        "  boxplot_order_strs = map(str, boxplot_order_strs)\n",
        "  plt.figure(figsize=(10, 5))\n",
        "  ax = sns.swarmplot(data=seed_full_df, x='seq_len_mod2', y='model_score', \n",
        "                edgecolor='k',\n",
        "            palette='Greens', hue='$K_D$', order=boxplot_order, \n",
        "          dodge=False, size=3, zorder=0, linewidth=.2)\n",
        "\n",
        "  for artist in zip(ax.artists):\n",
        "      artist.set_edgecolor('k')\n",
        "\n",
        "  # Render boxplot on top\n",
        "  ax =sns.boxplot(data=seed_full_df, x='seq_len_mod2', y='model_score', \n",
        "              color='white', hue='$K_D$', order=boxplot_order, \n",
        "              dodge=False, linewidth=3, boxprops={'facecolor':'None'},\n",
        "              showcaps=False, showfliers=False )    \n",
        "    \n",
        "  # Formatting of Figure\n",
        "  for l in ax.lines:\n",
        "    # set median line style\n",
        "    l.set_linestyle('-')\n",
        "    l.set_color('k')\n",
        "    l.set_linewidth(2)\n",
        "    l.set_solid_capstyle('butt')\n",
        "    l.set_alpha(0.5)\n",
        "\n",
        "  xloc, xlab = plt.xticks()\n",
        "  xloc_filt = []\n",
        "  boxplot_order_strs_filt = []\n",
        "  for i in range(len(boxplot_order_strs)):\n",
        "    if boxplot_order_strs[i] != '':\n",
        "      boxplot_order_strs_filt.append(boxplot_order_strs[i])\n",
        "      xloc_filt.append(xloc[i])\n",
        "  plt.xticks(xloc_filt, boxplot_order_strs_filt)\n",
        "  plt.legend(bbox_to_anchor=(1.05, 1), loc=2, borderaxespad=0.)\n",
        "  plt.show() \n",
        "  \n",
        "  "
      ]
    },
    {
      "cell_type": "code",
      "execution_count": null,
      "metadata": {
        "colab": {
          "base_uri": "https://localhost:8080/",
          "height": 338
        },
        "executionInfo": {
          "elapsed": 1187,
          "status": "ok",
          "timestamp": 1603473599304,
          "user": {
            "displayName": "Ali Bashir",
            "photoUrl": "https://lh3.googleusercontent.com/a-/AOh14Gg_2QzdOhvL03-igIA8CW4RWncTEV4gLZ80ECLPkg=s64",
            "userId": "01976351517997791084"
          },
          "user_tz": 420
        },
        "id": "M17liMlh3oCE",
        "outputId": "b041b5d4-4259-41ce-f5a1-149b9bb1dbb5"
      },
      "outputs": [
        {
          "data": {
            "image/png": "[encoded data removed]",
            "text/plain": [
              "\u003cFigure size 720x360 with 1 Axes\u003e"
            ]
          },
          "metadata": {
            "needs_background": "light",
            "tags": []
          },
          "output_type": "display_data"
        }
      ],
      "source": [
        "# Figure 4A\n",
        "plot_swarm_and_box_plots(trunc_validated_df_median, trunc_validated_df,\n",
        "                         'SuperBin', 'G12')\n",
        "\n",
        "    "
      ]
    },
    {
      "cell_type": "code",
      "execution_count": null,
      "metadata": {
        "colab": {
          "base_uri": "https://localhost:8080/",
          "height": 338
        },
        "executionInfo": {
          "elapsed": 1105,
          "status": "ok",
          "timestamp": 1603473599975,
          "user": {
            "displayName": "Ali Bashir",
            "photoUrl": "https://lh3.googleusercontent.com/a-/AOh14Gg_2QzdOhvL03-igIA8CW4RWncTEV4gLZ80ECLPkg=s64",
            "userId": "01976351517997791084"
          },
          "user_tz": 420
        },
        "id": "8u3OssxKfduj",
        "outputId": "f1a7c60f-fe48-4bd7-d8ed-d2b224e1f1ba"
      },
      "outputs": [
        {
          "data": {
            "image/png": "[encoded data removed]",
            "text/plain": [
              "\u003cFigure size 720x360 with 1 Axes\u003e"
            ]
          },
          "metadata": {
            "needs_background": "light",
            "tags": []
          },
          "output_type": "display_data"
        }
      ],
      "source": [
        "# Figure 4A\n",
        "plot_swarm_and_box_plots(trunc_validated_df_median, trunc_validated_df,\n",
        "                         'SuperBin', 'G13')\n"
      ]
    }
  ],
  "metadata": {
    "colab": {
      "collapsed_sections": [],
      "last_runtime": {
        "build_target": "//research/biology/collaborations/aptamers:notebook",
        "kind": "shared"
      },
      "name": "Figure 4 Machine-learning-guided aptamer discovery (submission)",
      "provenance": [
        {
          "file_id": "1xWFpHj7qz5kDHfIOYS7Q3ErHoxOrrArR",
          "timestamp": 1603475287380
        },
        {
          "file_id": "1qC0IU5rTethsx5hb-KqMw7uLHh8eahQq",
          "timestamp": 1603357299400
        },
        {
          "file_id": "161DERdnpFdJ3b7U3YOCo7C94D39oli_U",
          "timestamp": 1603355850507
        },
        {
          "file_id": "1yp54vNxJnzTZRSG0VWNiy036HQqITtNb",
          "timestamp": 1603342615794
        },
        {
          "file_id": "1aMlzPCcPcP93hbyywBzxRW05IToy5WxQ",
          "timestamp": 1603318107917
        },
        {
          "file_id": "1eDIAaYaT_2DVqv1uR_H504yCYaas939c",
          "timestamp": 1597677819315
        },
        {
          "file_id": "1uxfPeOwc8OPbRZ9TBMlqHyyzC3tw8avq",
          "timestamp": 1588018488807
        },
        {
          "file_id": "1AAN4PglVyFue88XBcP3rSZ48UK8wz98W",
          "timestamp": 1580612333617
        },
        {
          "file_id": "1D2MWuAOiPdkU_H0k9kIpEg-cDIex1mDd",
          "timestamp": 1570722471047
        },
        {
          "file_id": "1F2MKN4sZfELaDqrVQDHu2t6lYuvBfv7V",
          "timestamp": 1551986263518
        },
        {
          "file_id": "1FMtY5x-zZ5h0Xyhm5vsoxO0WBFfROa3X",
          "timestamp": 1551304638113
        }
      ]
    },
    "kernelspec": {
      "display_name": "Python 2",
      "name": "python2"
    }
  },
  "nbformat": 4,
  "nbformat_minor": 0
}
