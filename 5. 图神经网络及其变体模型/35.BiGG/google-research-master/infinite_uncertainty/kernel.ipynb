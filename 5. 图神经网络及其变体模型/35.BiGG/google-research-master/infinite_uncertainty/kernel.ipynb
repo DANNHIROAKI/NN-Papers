{
  "cells": [
    {
      "cell_type": "markdown",
      "metadata": {
        "id": "UkJ8Xh2gUknk"
      },
      "source": [
        "\n",
        "Copyright 2021 Google LLC\n",
        "\n",
        "Licensed under the Apache License, Version 2.0 (the \"License\");\n",
        "you may not use this file except in compliance with the License.\n",
        "You may obtain a copy of the License at\n",
        "\n",
        "     https://www.apache.org/licenses/LICENSE-2.0\n",
        "\n",
        "Unless required by applicable law or agreed to in writing, software\n",
        "distributed under the License is distributed on an \"AS IS\" BASIS,\n",
        "WITHOUT WARRANTIES OR CONDITIONS OF ANY KIND, either express or implied.\n",
        "See the License for the specific language governing permissions and\n",
        "limitations under the License.\n",
        "\n"
      ]
    },
    {
      "cell_type": "markdown",
      "metadata": {
        "id": "engAKP-iifhM"
      },
      "source": [
        "# Loading precomputed Myrtle-10 kernels from CIFAR-10\n",
        "\n",
        "Loading full CIFAR-10 kernels requires large RAM (+32GB)\n",
        "\n",
        "\n"
      ]
    },
    {
      "cell_type": "code",
      "execution_count": null,
      "metadata": {
        "id": "Pmf9KNv3xQop"
      },
      "outputs": [],
      "source": [
        "# Imports\n",
        "from tensorflow.io import gfile\n",
        "import os\n",
        "import numpy as np\n",
        "import itertools\n",
        "import concurrent.futures\n",
        "import matplotlib.pyplot as plt"
      ]
    },
    {
      "cell_type": "code",
      "execution_count": null,
      "metadata": {
        "executionInfo": {
          "elapsed": 1457,
          "status": "ok",
          "timestamp": 1618254012591,
          "user": {
            "displayName": "",
            "photoUrl": "",
            "userId": ""
          },
          "user_tz": 420
        },
        "id": "hV1V1Fm93wUX",
        "outputId": "a30f914e-f30d-414a-d987-aa271b6925c8"
      },
      "outputs": [
        {
          "name": "stdout",
          "output_type": "stream",
          "text": [
            "Colab authentication failed!!\n",
            "Corruption directory names: ['brightness_1', 'brightness_2', 'brightness_3', 'brightness_4', 'brightness_5', 'clean', 'contrast_1']\n"
          ]
        }
      ],
      "source": [
        "# External\n",
        "from google.colab import auth\n",
        "try:\n",
        "  auth.authenticate_user()\n",
        "except:\n",
        "  print('Colab authentication failed!!')\n",
        "\n",
        "KERNEL_PATH = 'gs://neural-tangents-kernels/infinite-uncertainty/kernels/myrtle-10'\n",
        "\n",
        "\n",
        "print('Corruption directory names:', gfile.listdir(KERNEL_PATH)[:7])"
      ]
    },
    {
      "cell_type": "markdown",
      "metadata": {
        "id": "TuMAIMYZWDuL"
      },
      "source": [
        "# Loading computed kernels"
      ]
    },
    {
      "cell_type": "code",
      "execution_count": null,
      "metadata": {
        "id": "LPxZa8LbQeCc"
      },
      "outputs": [],
      "source": [
        "# Convenient packaging for kernels and labels\n",
        "class LoadedKernel:\n",
        "\n",
        "  def __init__(self,\n",
        "               kernel_type,\n",
        "               n_train_load=5000,\n",
        "               kernel_path='/tmp/kernels',\n",
        "               dtype=np.float32):\n",
        "    self.kernel_path = kernel_path\n",
        "    self.k_type = kernel_type\n",
        "\n",
        "    # Load kernels by block size of 5000\n",
        "    assert n_train_load % 5000 == 0\n",
        "    self.n_train_load = n_train_load\n",
        "    self.max_train_id = int(np.ceil(n_train_load / 5000))\n",
        "    self.clean_ids = list(\n",
        "        filter(\n",
        "            lambda x: x[0] \u003c= x[1],\n",
        "            itertools.product(\n",
        "                list(range(self.max_train_id)) + [10, 11],\n",
        "                list(range(self.max_train_id)) + [10, 11])))\n",
        "\n",
        "    self.test_ids = list(\n",
        "        filter(lambda x: x[0] \u003c= x[1],\n",
        "               itertools.product(list(range(self.max_train_id)), [10, 11])))\n",
        "    self.dtype = dtype\n",
        "    self.kernel = np.zeros(\n",
        "        shape=(5000 * (self.max_train_id + 2), 5000 * (self.max_train_id + 2)),\n",
        "        dtype=self.dtype)\n",
        "    self._load_labels()\n",
        "    self._load_kernel()\n",
        "\n",
        "  def _update_kernel(self, test_type, kernel_type, ids):\n",
        "    filedir = os.path.join(self.kernel_path, test_type)\n",
        "    assert gfile.exists(filedir), f\"File path {filedir} doesn't exsit\"\n",
        "    filepath = os.path.join(filedir, kernel_type)\n",
        "\n",
        "    def _update_kernel_from_indicies(index):\n",
        "      row, col = index\n",
        "      # Loading based on 60k x 60k matrix\n",
        "      with gfile.GFile(f'{filepath}-{row}-{col}', 'rb') as f:\n",
        "        val = np.load(f).astype(self.dtype)\n",
        "\n",
        "      # Adjust row/col index based on self.n_train_load\n",
        "      if row \u003e= self.max_train_id:\n",
        "        row += self.max_train_id - 10\n",
        "      if col \u003e= self.max_train_id:\n",
        "        col += self.max_train_id - 10\n",
        "      self.kernel[row * 5000:(row + 1) * 5000,\n",
        "                  col * 5000:(col + 1) * 5000] = val\n",
        "      if col \u003e row:\n",
        "        self.kernel[col * 5000:(col + 1) * 5000,\n",
        "                    row * 5000:(row + 1) * 5000] = val.T\n",
        "\n",
        "    with concurrent.futures.ThreadPoolExecutor(max_workers=200) as executor:\n",
        "      executor.map(_update_kernel_from_indicies, ids)\n",
        "\n",
        "  def _load_kernel(self):\n",
        "    self._update_kernel('clean', self.k_type, self.clean_ids)\n",
        "\n",
        "  def _load_labels(self):\n",
        "    with gfile.GFile(os.path.join(self.kernel_path, 'clean', 'labels'),\n",
        "                     'rb') as f:\n",
        "      self.labels = np.load(f)\n",
        "    self.labels = np.concatenate(\n",
        "        [self.labels[:self.max_train_id * 5000], self.labels[-10000:]])\n",
        "\n",
        "  def update_test(self, test_type):\n",
        "    self._update_kernel(test_type, self.k_type, self.test_ids)"
      ]
    },
    {
      "cell_type": "code",
      "execution_count": null,
      "metadata": {
        "id": "-n6txn1PWZwA"
      },
      "outputs": [],
      "source": [
        "# Check kernels for sanity\n",
        "def kernel_inference(kdd, ktd, y_train, diag_reg):\n",
        "  return ktd.dot(\n",
        "      np.linalg.solve(\n",
        "          kdd + diag_reg * np.mean(np.diag(kdd)) * np.eye(kdd.shape[0]),\n",
        "          y_train))\n",
        "\n",
        "\n",
        "def run_kerenel_inference(kernel, n_train, seed=0):\n",
        "  kernel_train_size = kernel.kernel.shape[0] - 10000\n",
        "  assert kernel_train_size \u003e= n_train\n",
        "  np.random.seed(seed)\n",
        "  support_idx = np.random.choice(kernel_train_size, n_train, replace=False)\n",
        "  train_labels = kernel.labels[:kernel_train_size]\n",
        "  test_labels = kernel.labels[kernel_train_size:]\n",
        "  support_y = train_labels[support_idx]\n",
        "  kdd = kernel.kernel[support_idx, :][:, support_idx]\n",
        "  ktd = kernel.kernel[kernel_train_size:, :][:, support_idx]\n",
        "  accs = []\n",
        "  predictions = []\n",
        "  diag_regs = np.logspace(-8, 2, 20)\n",
        "  for diag_reg in diag_regs:\n",
        "    pred = kernel_inference(kdd, ktd, support_y, diag_reg)\n",
        "    acc = np.mean(np.argmax(pred, axis=-1) == np.argmax(test_labels, axis=-1))\n",
        "    predictions.append(pred)\n",
        "    accs.append(acc)\n",
        "  return np.array(predictions), diag_regs, np.array(accs)"
      ]
    },
    {
      "cell_type": "code",
      "execution_count": null,
      "metadata": {
        "executionInfo": {
          "elapsed": 10138,
          "status": "ok",
          "timestamp": 1618254023146,
          "user": {
            "displayName": "",
            "photoUrl": "",
            "userId": ""
          },
          "user_tz": 420
        },
        "id": "0S9pMx1Lc19q",
        "outputId": "0d7a0062-aa54-41f8-c6cd-149bc692017c"
      },
      "outputs": [
        {
          "name": "stdout",
          "output_type": "stream",
          "text": [
            "CPU times: user 2.51 s, sys: 1.47 s, total: 3.98 s\n",
            "Wall time: 10 s\n"
          ]
        }
      ],
      "source": [
        "%%time\n",
        "N_TRAIN_LOAD = 5000\n",
        "KERNEL_TYPE = 'ntk'  # 'nngp', 'ntk\n",
        "\n",
        "Kernel = LoadedKernel(\n",
        "    n_train_load=N_TRAIN_LOAD,\n",
        "    kernel_type=KERNEL_TYPE,\n",
        "    kernel_path=KERNEL_PATH,\n",
        "    )"
      ]
    },
    {
      "cell_type": "code",
      "execution_count": null,
      "metadata": {
        "colab": {
          "height": 265
        },
        "executionInfo": {
          "elapsed": 331,
          "status": "ok",
          "timestamp": 1618254023483,
          "user": {
            "displayName": "",
            "photoUrl": "",
            "userId": ""
          },
          "user_tz": 420
        },
        "id": "NT-QmF7cMCky",
        "outputId": "3eca919d-a46e-407f-9978-f7ef0ae72a63"
      },
      "outputs": [
        {
          "data": {
            "image/png": "[encoded data removed]",
            "text/plain": [
              "\u003cFigure size 600x400 with 1 Axes\u003e"
            ]
          },
          "metadata": {
            "tags": []
          },
          "output_type": "display_data"
        }
      ],
      "source": [
        "plt.imshow(Kernel.kernel[:25, :25])\n",
        "plt.show()"
      ]
    },
    {
      "cell_type": "code",
      "execution_count": null,
      "metadata": {
        "cellView": "form",
        "executionInfo": {
          "elapsed": 103100,
          "status": "ok",
          "timestamp": 1618254166428,
          "user": {
            "displayName": "",
            "photoUrl": "",
            "userId": ""
          },
          "user_tz": 420
        },
        "id": "w-10BRjrU44t",
        "outputId": "8dfb9029-d199-4257-93f0-103d99c9581f"
      },
      "outputs": [
        {
          "name": "stdout",
          "output_type": "stream",
          "text": [
            "n_train = 500, corruption = speckle_noise\n",
            "Corruption Level 0, Acc: 0.5024\n",
            "Corruption Level 1, Acc: 0.2831\n",
            "Corruption Level 2, Acc: 0.2046\n",
            "Corruption Level 3, Acc: 0.1831\n",
            "Corruption Level 4, Acc: 0.1566\n",
            "Corruption Level 5, Acc: 0.1418\n"
          ]
        }
      ],
      "source": [
        "corruption_name = 'speckle_noise'  #@param ['brightness', 'contrast', 'defocus_blur', 'elastic', 'fog', 'frost', 'frosted_glass_blur', 'gaussian_blur', 'gaussian_noise', 'impulse_noise', 'jpeg_compression', 'motion_blur', 'pixelate', 'saturate', 'shot_noise', 'snow', 'spatter', 'speckle_noise', 'zoom_blur']\n",
        "\n",
        "n_train = 500  #@param\n",
        "print(f'n_train = {n_train}, corruption = {corruption_name}')\n",
        "for c_level in range(0, 6):\n",
        "  if c_level == 0:\n",
        "    Kernel.update_test(f'clean')\n",
        "  else:\n",
        "    Kernel.update_test(f'{corruption_name}_{c_level}')\n",
        "  preds, regs, accs = run_kerenel_inference(Kernel, n_train)\n",
        "  print(f'Corruption Level {c_level}, Acc: {np.max(accs)}')"
      ]
    }
  ],
  "metadata": {
    "colab": {
      "collapsed_sections": [],
      "last_runtime": {
        "build_target": "//learning/deepmind/public/tools/ml_python:ml_notebook",
        "kind": "private"
      },
      "name": "Myrtle kernels for all CIFAR-10 corruption (Infinite uncertainty)",
      "provenance": [
        {
          "file_id": "1DNoY9i-WKsmt486Q0Xr4ycJXeS-NrSz1",
          "timestamp": 1615917402756
        }
      ]
    },
    "kernelspec": {
      "display_name": "Python 3",
      "name": "python3"
    }
  },
  "nbformat": 4,
  "nbformat_minor": 0
}
