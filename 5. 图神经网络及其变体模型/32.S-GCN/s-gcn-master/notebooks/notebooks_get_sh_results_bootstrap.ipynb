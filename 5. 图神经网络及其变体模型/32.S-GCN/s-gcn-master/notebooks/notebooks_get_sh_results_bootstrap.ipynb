{
 "cells": [
  {
   "cell_type": "code",
   "execution_count": 1,
   "metadata": {},
   "outputs": [],
   "source": [
    "import pandas as pd\n",
    "import numpy as np\n",
    "import scipy.stats as sps\n",
    "import seaborn as sns\n",
    "import matplotlib.pyplot as plt\n",
    "import os\n",
    "import random\n",
    "from tqdm import tqdm\n",
    "from sklearn.metrics import mean_squared_error\n",
    "from sklearn.metrics import r2_score\n",
    "import multiprocessing"
   ]
  },
  {
   "cell_type": "code",
   "execution_count": 2,
   "metadata": {},
   "outputs": [],
   "source": [
    "def read_sota(path):\n",
    "    casp13 = pd.DataFrame()\n",
    "    casp12 = pd.DataFrame()\n",
    "    for file in os.listdir(path):\n",
    "        if not file.endswith('.csv'):\n",
    "            continue\n",
    "        target = file[:-4]\n",
    "        df = pd.read_csv(os.path.join(path, file), index_col=0, sep='\\t')\n",
    "        df['model'] = df['model'].transform(lambda x: f'{target}_{x}')\n",
    "        if file >= 'T0949.csv':\n",
    "            casp13 = pd.concat([casp13, df])\n",
    "        else:\n",
    "            casp12 = pd.concat([casp12, df])\n",
    "    return (casp12.set_index('model'), casp13.set_index('model'))"
   ]
  },
  {
   "cell_type": "code",
   "execution_count": 4,
   "metadata": {},
   "outputs": [
    {
     "data": {
      "text/html": [
       "<div>\n",
       "<style scoped>\n",
       "    .dataframe tbody tr th:only-of-type {\n",
       "        vertical-align: middle;\n",
       "    }\n",
       "\n",
       "    .dataframe tbody tr th {\n",
       "        vertical-align: top;\n",
       "    }\n",
       "\n",
       "    .dataframe thead th {\n",
       "        text-align: right;\n",
       "    }\n",
       "</style>\n",
       "<table border=\"1\" class=\"dataframe\">\n",
       "  <thead>\n",
       "    <tr style=\"text-align: right;\">\n",
       "      <th></th>\n",
       "      <th>sbrod</th>\n",
       "      <th>sbrod_server</th>\n",
       "      <th>proq3</th>\n",
       "      <th>proq3d_lddt</th>\n",
       "      <th>voromqa_b</th>\n",
       "    </tr>\n",
       "    <tr>\n",
       "      <th>model</th>\n",
       "      <th></th>\n",
       "      <th></th>\n",
       "      <th></th>\n",
       "      <th></th>\n",
       "      <th></th>\n",
       "    </tr>\n",
       "  </thead>\n",
       "  <tbody>\n",
       "    <tr>\n",
       "      <th>T0986s2_BAKER-ROSETTASERVER_TS4</th>\n",
       "      <td>0.737451</td>\n",
       "      <td>0.387212</td>\n",
       "      <td>0.5111</td>\n",
       "      <td>0.3954</td>\n",
       "      <td>0.438</td>\n",
       "    </tr>\n",
       "    <tr>\n",
       "      <th>T0986s2_Delta-Gelly-Server_TS1</th>\n",
       "      <td>0.727368</td>\n",
       "      <td>0.372066</td>\n",
       "      <td>0.6292</td>\n",
       "      <td>0.4802</td>\n",
       "      <td>0.473</td>\n",
       "    </tr>\n",
       "    <tr>\n",
       "      <th>T0986s2_RaptorX-DeepModeller_TS2</th>\n",
       "      <td>0.722686</td>\n",
       "      <td>0.365234</td>\n",
       "      <td>0.5878</td>\n",
       "      <td>0.5049</td>\n",
       "      <td>0.456</td>\n",
       "    </tr>\n",
       "    <tr>\n",
       "      <th>T0986s2_Zhang-Server_TS2</th>\n",
       "      <td>0.720555</td>\n",
       "      <td>0.362166</td>\n",
       "      <td>0.5748</td>\n",
       "      <td>0.5090</td>\n",
       "      <td>0.521</td>\n",
       "    </tr>\n",
       "    <tr>\n",
       "      <th>T0986s2_RaptorX-DeepModeller_TS1</th>\n",
       "      <td>0.714794</td>\n",
       "      <td>0.353996</td>\n",
       "      <td>0.5385</td>\n",
       "      <td>0.5037</td>\n",
       "      <td>0.450</td>\n",
       "    </tr>\n",
       "    <tr>\n",
       "      <th>...</th>\n",
       "      <td>...</td>\n",
       "      <td>...</td>\n",
       "      <td>...</td>\n",
       "      <td>...</td>\n",
       "      <td>...</td>\n",
       "    </tr>\n",
       "    <tr>\n",
       "      <th>T1009_HMSCasper-Refiner_TS5</th>\n",
       "      <td>NaN</td>\n",
       "      <td>0.126108</td>\n",
       "      <td>0.1398</td>\n",
       "      <td>0.2324</td>\n",
       "      <td>0.197</td>\n",
       "    </tr>\n",
       "    <tr>\n",
       "      <th>T1009_HMSCasper-Refiner_TS3</th>\n",
       "      <td>NaN</td>\n",
       "      <td>0.098133</td>\n",
       "      <td>0.1037</td>\n",
       "      <td>0.2814</td>\n",
       "      <td>0.154</td>\n",
       "    </tr>\n",
       "    <tr>\n",
       "      <th>T1009_HMSCasper-Refiner_TS4</th>\n",
       "      <td>NaN</td>\n",
       "      <td>0.092679</td>\n",
       "      <td>0.0803</td>\n",
       "      <td>0.2697</td>\n",
       "      <td>0.157</td>\n",
       "    </tr>\n",
       "    <tr>\n",
       "      <th>T1009_HMSCasper-Refiner_TS2</th>\n",
       "      <td>NaN</td>\n",
       "      <td>0.086762</td>\n",
       "      <td>0.0642</td>\n",
       "      <td>0.2694</td>\n",
       "      <td>0.159</td>\n",
       "    </tr>\n",
       "    <tr>\n",
       "      <th>T1009_HMSCasper-Refiner_TS1</th>\n",
       "      <td>NaN</td>\n",
       "      <td>0.074733</td>\n",
       "      <td>0.0606</td>\n",
       "      <td>0.2641</td>\n",
       "      <td>0.146</td>\n",
       "    </tr>\n",
       "  </tbody>\n",
       "</table>\n",
       "<p>12892 rows × 5 columns</p>\n",
       "</div>"
      ],
      "text/plain": [
       "                                     sbrod  sbrod_server   proq3  proq3d_lddt  \\\n",
       "model                                                                           \n",
       "T0986s2_BAKER-ROSETTASERVER_TS4   0.737451      0.387212  0.5111       0.3954   \n",
       "T0986s2_Delta-Gelly-Server_TS1    0.727368      0.372066  0.6292       0.4802   \n",
       "T0986s2_RaptorX-DeepModeller_TS2  0.722686      0.365234  0.5878       0.5049   \n",
       "T0986s2_Zhang-Server_TS2          0.720555      0.362166  0.5748       0.5090   \n",
       "T0986s2_RaptorX-DeepModeller_TS1  0.714794      0.353996  0.5385       0.5037   \n",
       "...                                    ...           ...     ...          ...   \n",
       "T1009_HMSCasper-Refiner_TS5            NaN      0.126108  0.1398       0.2324   \n",
       "T1009_HMSCasper-Refiner_TS3            NaN      0.098133  0.1037       0.2814   \n",
       "T1009_HMSCasper-Refiner_TS4            NaN      0.092679  0.0803       0.2697   \n",
       "T1009_HMSCasper-Refiner_TS2            NaN      0.086762  0.0642       0.2694   \n",
       "T1009_HMSCasper-Refiner_TS1            NaN      0.074733  0.0606       0.2641   \n",
       "\n",
       "                                  voromqa_b  \n",
       "model                                        \n",
       "T0986s2_BAKER-ROSETTASERVER_TS4       0.438  \n",
       "T0986s2_Delta-Gelly-Server_TS1        0.473  \n",
       "T0986s2_RaptorX-DeepModeller_TS2      0.456  \n",
       "T0986s2_Zhang-Server_TS2              0.521  \n",
       "T0986s2_RaptorX-DeepModeller_TS1      0.450  \n",
       "...                                     ...  \n",
       "T1009_HMSCasper-Refiner_TS5           0.197  \n",
       "T1009_HMSCasper-Refiner_TS3           0.154  \n",
       "T1009_HMSCasper-Refiner_TS4           0.157  \n",
       "T1009_HMSCasper-Refiner_TS2           0.159  \n",
       "T1009_HMSCasper-Refiner_TS1           0.146  \n",
       "\n",
       "[12892 rows x 5 columns]"
      ]
     },
     "execution_count": 4,
     "metadata": {},
     "output_type": "execute_result"
    }
   ],
   "source": [
    "sota12, sota13 = read_sota('../sota_from_casp')\n",
    "sota13"
   ]
  },
  {
   "cell_type": "code",
   "execution_count": 5,
   "metadata": {},
   "outputs": [
    {
     "data": {
      "text/html": [
       "<div>\n",
       "<style scoped>\n",
       "    .dataframe tbody tr th:only-of-type {\n",
       "        vertical-align: middle;\n",
       "    }\n",
       "\n",
       "    .dataframe tbody tr th {\n",
       "        vertical-align: top;\n",
       "    }\n",
       "\n",
       "    .dataframe thead th {\n",
       "        text-align: right;\n",
       "    }\n",
       "</style>\n",
       "<table border=\"1\" class=\"dataframe\">\n",
       "  <thead>\n",
       "    <tr style=\"text-align: right;\">\n",
       "      <th></th>\n",
       "      <th>proq3</th>\n",
       "      <th>sbrod</th>\n",
       "      <th>voromqa</th>\n",
       "    </tr>\n",
       "    <tr>\n",
       "      <th>model</th>\n",
       "      <th></th>\n",
       "      <th></th>\n",
       "      <th></th>\n",
       "    </tr>\n",
       "  </thead>\n",
       "  <tbody>\n",
       "    <tr>\n",
       "      <th>T0928_MULTICOM-CONSTRUCT_TS4</th>\n",
       "      <td>0.502581</td>\n",
       "      <td>1.625210</td>\n",
       "      <td>0.296682</td>\n",
       "    </tr>\n",
       "    <tr>\n",
       "      <th>T0928_GOAL_TS1</th>\n",
       "      <td>0.647628</td>\n",
       "      <td>1.684738</td>\n",
       "      <td>0.420234</td>\n",
       "    </tr>\n",
       "    <tr>\n",
       "      <th>T0928_MUfold1_TS5</th>\n",
       "      <td>0.318427</td>\n",
       "      <td>1.515931</td>\n",
       "      <td>0.227225</td>\n",
       "    </tr>\n",
       "    <tr>\n",
       "      <th>T0928_FALCON_TOPOX_TS5</th>\n",
       "      <td>0.571618</td>\n",
       "      <td>1.628121</td>\n",
       "      <td>0.328569</td>\n",
       "    </tr>\n",
       "    <tr>\n",
       "      <th>T0928_myprotein-me_TS4</th>\n",
       "      <td>0.450548</td>\n",
       "      <td>1.595801</td>\n",
       "      <td>0.280673</td>\n",
       "    </tr>\n",
       "    <tr>\n",
       "      <th>...</th>\n",
       "      <td>...</td>\n",
       "      <td>...</td>\n",
       "      <td>...</td>\n",
       "    </tr>\n",
       "    <tr>\n",
       "      <th>T0862_IntFOLD4_TS1</th>\n",
       "      <td>0.318637</td>\n",
       "      <td>1.464842</td>\n",
       "      <td>0.181786</td>\n",
       "    </tr>\n",
       "    <tr>\n",
       "      <th>T0862_Pcons-net_TS2</th>\n",
       "      <td>0.209801</td>\n",
       "      <td>1.463733</td>\n",
       "      <td>0.238456</td>\n",
       "    </tr>\n",
       "    <tr>\n",
       "      <th>T0862_QUARK_TS2</th>\n",
       "      <td>0.389019</td>\n",
       "      <td>1.595531</td>\n",
       "      <td>0.313818</td>\n",
       "    </tr>\n",
       "    <tr>\n",
       "      <th>T0862_HHGG_TS5</th>\n",
       "      <td>0.098488</td>\n",
       "      <td>1.411283</td>\n",
       "      <td>0.137083</td>\n",
       "    </tr>\n",
       "    <tr>\n",
       "      <th>T0862_HHPred0_TS1</th>\n",
       "      <td>0.059412</td>\n",
       "      <td>1.416802</td>\n",
       "      <td>0.111880</td>\n",
       "    </tr>\n",
       "  </tbody>\n",
       "</table>\n",
       "<p>5616 rows × 3 columns</p>\n",
       "</div>"
      ],
      "text/plain": [
       "                                 proq3     sbrod   voromqa\n",
       "model                                                     \n",
       "T0928_MULTICOM-CONSTRUCT_TS4  0.502581  1.625210  0.296682\n",
       "T0928_GOAL_TS1                0.647628  1.684738  0.420234\n",
       "T0928_MUfold1_TS5             0.318427  1.515931  0.227225\n",
       "T0928_FALCON_TOPOX_TS5        0.571618  1.628121  0.328569\n",
       "T0928_myprotein-me_TS4        0.450548  1.595801  0.280673\n",
       "...                                ...       ...       ...\n",
       "T0862_IntFOLD4_TS1            0.318637  1.464842  0.181786\n",
       "T0862_Pcons-net_TS2           0.209801  1.463733  0.238456\n",
       "T0862_QUARK_TS2               0.389019  1.595531  0.313818\n",
       "T0862_HHGG_TS5                0.098488  1.411283  0.137083\n",
       "T0862_HHPred0_TS1             0.059412  1.416802  0.111880\n",
       "\n",
       "[5616 rows x 3 columns]"
      ]
     },
     "execution_count": 5,
     "metadata": {},
     "output_type": "execute_result"
    }
   ],
   "source": [
    "sota_sota12, sota_sota13 = read_sota('../sota')\n",
    "sota_sota12"
   ]
  },
  {
   "cell_type": "code",
   "execution_count": 6,
   "metadata": {},
   "outputs": [],
   "source": [
    "proq3_targets13 = set(sota13['proq3'].dropna().index)\n",
    "proq3_targets12 = set(sota12['proq3'].dropna().index)"
   ]
  },
  {
   "cell_type": "code",
   "execution_count": 7,
   "metadata": {},
   "outputs": [
    {
     "ename": "NameError",
     "evalue": "name 'sota' is not defined",
     "output_type": "error",
     "traceback": [
      "\u001b[0;31m---------------------------------------------------------------------------\u001b[0m",
      "\u001b[0;31mNameError\u001b[0m                                 Traceback (most recent call last)",
      "\u001b[0;32m<ipython-input-7-c609c36d7d27>\u001b[0m in \u001b[0;36m<module>\u001b[0;34m\u001b[0m\n\u001b[0;32m----> 1\u001b[0;31m \u001b[0mnp\u001b[0m\u001b[0;34m.\u001b[0m\u001b[0msum\u001b[0m\u001b[0;34m(\u001b[0m\u001b[0mnp\u001b[0m\u001b[0;34m.\u001b[0m\u001b[0misnan\u001b[0m\u001b[0;34m(\u001b[0m\u001b[0msota\u001b[0m\u001b[0;34m[\u001b[0m\u001b[0;34m'proq3'\u001b[0m\u001b[0;34m]\u001b[0m\u001b[0;34m.\u001b[0m\u001b[0mdropna\u001b[0m\u001b[0;34m(\u001b[0m\u001b[0;34m)\u001b[0m\u001b[0;34m.\u001b[0m\u001b[0mvalues\u001b[0m\u001b[0;34m)\u001b[0m\u001b[0;34m)\u001b[0m\u001b[0;34m\u001b[0m\u001b[0;34m\u001b[0m\u001b[0m\n\u001b[0m",
      "\u001b[0;31mNameError\u001b[0m: name 'sota' is not defined"
     ]
    }
   ],
   "source": [
    "np.sum(np.isnan(sota['proq3'].dropna().values))"
   ]
  },
  {
   "cell_type": "code",
   "execution_count": 8,
   "metadata": {},
   "outputs": [],
   "source": [
    "voromqa_b_targets12 = set(sota12['voromqa'].dropna().index)\n",
    "voromqa_b_targets13 = set(sota13['voromqa_b'].dropna().index)"
   ]
  },
  {
   "cell_type": "code",
   "execution_count": 9,
   "metadata": {},
   "outputs": [],
   "source": [
    "sbrod_targets13 = set(sota13['sbrod_server'].dropna().index)\n",
    "sbrod_targets12 = set(sota_sota12['sbrod'].dropna().index)"
   ]
  },
  {
   "cell_type": "code",
   "execution_count": 10,
   "metadata": {},
   "outputs": [
    {
     "data": {
      "text/plain": [
       "5471"
      ]
     },
     "execution_count": 10,
     "metadata": {},
     "output_type": "execute_result"
    }
   ],
   "source": [
    "targets_all12 = proq3_targets12 & voromqa_b_targets12 & sbrod_targets12\n",
    "len(targets_all12)"
   ]
  },
  {
   "cell_type": "code",
   "execution_count": 11,
   "metadata": {},
   "outputs": [
    {
     "data": {
      "text/plain": [
       "11798"
      ]
     },
     "execution_count": 11,
     "metadata": {},
     "output_type": "execute_result"
    }
   ],
   "source": [
    "targets_all13 = proq3_targets13 & voromqa_b_targets13 & sbrod_targets13\n",
    "len(targets_all13)"
   ]
  },
  {
   "cell_type": "code",
   "execution_count": 12,
   "metadata": {},
   "outputs": [],
   "source": [
    "def network_results(results, filter_targets=None):\n",
    "    glob = pd.DataFrame()\n",
    "    for file in os.listdir(results):\n",
    "        target = file[:-4]\n",
    "        df = pd.read_csv(os.path.join(results, file))\n",
    "        df['model'] = df['model'].transform(lambda x: f'{target}_{x}')\n",
    "        if filter_targets is not None:\n",
    "            df = df[df['model'].isin(filter_targets)]\n",
    "        glob = pd.concat([glob, df])\n",
    "    return glob"
   ]
  },
  {
   "cell_type": "code",
   "execution_count": 13,
   "metadata": {},
   "outputs": [],
   "source": [
    "def one_thread(args):\n",
    "        pearsons = []\n",
    "        spearmans = []\n",
    "        mses = []\n",
    "        r2s = []\n",
    "        results = args[0]\n",
    "        K = args[1]\n",
    "        sz = args[2]\n",
    "        gen = tqdm(range(K)) if args[3] else range(K)\n",
    "        for i in gen:\n",
    "            sample = np.array(random.choices(results, k=sz))\n",
    "            pred = sample[:, 1]\n",
    "            gt = sample[:, 2]\n",
    "            pearsons.append(sps.pearsonr(gt, pred)[0])\n",
    "            spearmans.append(sps.spearmanr(gt, pred)[0])\n",
    "            mses.append(mean_squared_error(gt, pred))\n",
    "            r2s.append(r2_score(gt, pred))\n",
    "        return (np.array(pearsons), np.array(spearmans), np.array(mses), np.array(r2s))\n",
    "\n",
    "def bootstrap(results, K, sz=None, n_jobs=10):   \n",
    "    if sz is None:\n",
    "        sz = len(results)\n",
    "    \n",
    "    pearsons = []\n",
    "    spearmans = []\n",
    "    mses = []\n",
    "    r2s = []\n",
    "    \n",
    "    args = []\n",
    "    for i in range(n_jobs):\n",
    "        args.append([results, K // n_jobs, sz, i == 0])\n",
    "    \n",
    "    p = multiprocessing.Pool(n_jobs)\n",
    "    result = p.map(one_thread, args)\n",
    "    for res in result:\n",
    "        pearsons.append(res[0])\n",
    "        spearmans.append(res[1])\n",
    "        mses.append(res[2])\n",
    "        r2s.append(res[3])\n",
    "    return (np.concatenate(pearsons), np.concatenate(spearmans), np.concatenate(mses), np.concatenate(r2s))"
   ]
  },
  {
   "cell_type": "code",
   "execution_count": 14,
   "metadata": {},
   "outputs": [],
   "source": [
    "def make_intervals(pearsons, spearmans, mses, r2s):\n",
    "    z = sps.norm.ppf(0.975)\n",
    "    def interval(sample, round_to=2, to_z=None):\n",
    "        if to_z is None:\n",
    "            return f'{round(sample.mean(), round_to)} ± {round(z * sample.std(), round_to)}'\n",
    "        else:\n",
    "            return f'{round(sample.mean() * 100, round_to)} ± {round(z * sample.std() * 100, round_to)}'\n",
    "    \n",
    "    return pd.DataFrame({\n",
    "        'pearson_glob_glob': [interval(pearsons, 3)],\n",
    "        'spearman_glob_glob': [interval(spearmans, 3)],\n",
    "        'mse_glob_glob': [interval(mses, 4)],\n",
    "        'r2_glob_glob': [interval(r2s, 3)],\n",
    "    })"
   ]
  },
  {
   "cell_type": "code",
   "execution_count": 56,
   "metadata": {},
   "outputs": [],
   "source": [
    "def make_sota(sota, preds):\n",
    "    sota_filtered = sota.reset_index()\n",
    "    if 'proq3d_lddt' in sota_filtered.columns:\n",
    "        sota_filtered = sota_filtered.drop(['proq3d_lddt'], axis=1)\n",
    "    sota_filtered = sota_filtered.dropna()\n",
    "    targets = set(preds.model)\n",
    "    sota_filtered = sota_filtered[sota_filtered['model'].isin(set(preds.model))]\n",
    "\n",
    "    #print(set(sota_filtered.model) == set(preds.model))\n",
    "    #print(len(set(sota_filtered.model)))\n",
    "    \n",
    "    sota_filtered = sota_filtered.set_index('model')\n",
    "    sota_filtered = sota_filtered.join(preds.set_index('model'))\n",
    "    proq3 = sota_filtered[['proq3', 'true']]\n",
    "    if 'voromqa_b' in sota.columns:   \n",
    "        voromqa = sota_filtered[['voromqa_b', 'true']]\n",
    "    else:\n",
    "        voromqa = sota_filtered[['voromqa', 'true']]\n",
    "    if 'sbrod_server' in sota.columns:\n",
    "        sbrod = sota_filtered[['sbrod_server', 'true']]\n",
    "    elif 'sbrod' in sota.columns:\n",
    "        sbrod = sota_filtered[['sbrod', 'true']]\n",
    "    else:\n",
    "        sbrod = pd.DataFrame()\n",
    "    proq3 = proq3.reset_index()\n",
    "    voromqa = voromqa.reset_index()\n",
    "    sbrod = sbrod.reset_index()\n",
    "    return (proq3.values, voromqa.values, sbrod.values)"
   ]
  },
  {
   "cell_type": "markdown",
   "metadata": {},
   "source": [
    "# Global metrics"
   ]
  },
  {
   "cell_type": "markdown",
   "metadata": {},
   "source": [
    "## CASP13"
   ]
  },
  {
   "cell_type": "code",
   "execution_count": 16,
   "metadata": {},
   "outputs": [],
   "source": [
    "s5_or5 = network_results('globs/nikita_best/CASP13_test/checkpoint_epoch_39',\n",
    "                         targets_all13).values"
   ]
  },
  {
   "cell_type": "code",
   "execution_count": 17,
   "metadata": {},
   "outputs": [
    {
     "data": {
      "text/plain": [
       "10882"
      ]
     },
     "execution_count": 17,
     "metadata": {},
     "output_type": "execute_result"
    }
   ],
   "source": [
    "len(s5_or5)"
   ]
  },
  {
   "cell_type": "code",
   "execution_count": 18,
   "metadata": {},
   "outputs": [
    {
     "name": "stderr",
     "output_type": "stream",
     "text": [
      "100%|██████████| 50000/50000 [16:22<00:00, 50.89it/s]\n"
     ]
    }
   ],
   "source": [
    "pearsons, spearmans, mses, r2s = bootstrap(s5_or5, 1000000, 6000, 20)"
   ]
  },
  {
   "cell_type": "code",
   "execution_count": 19,
   "metadata": {},
   "outputs": [],
   "source": [
    "s5_or5_global = make_intervals(pearsons, spearmans, mses, r2s)"
   ]
  },
  {
   "cell_type": "code",
   "execution_count": 20,
   "metadata": {},
   "outputs": [
    {
     "data": {
      "text/html": [
       "<div>\n",
       "<style scoped>\n",
       "    .dataframe tbody tr th:only-of-type {\n",
       "        vertical-align: middle;\n",
       "    }\n",
       "\n",
       "    .dataframe tbody tr th {\n",
       "        vertical-align: top;\n",
       "    }\n",
       "\n",
       "    .dataframe thead th {\n",
       "        text-align: right;\n",
       "    }\n",
       "</style>\n",
       "<table border=\"1\" class=\"dataframe\">\n",
       "  <thead>\n",
       "    <tr style=\"text-align: right;\">\n",
       "      <th></th>\n",
       "      <th>pearson_glob_glob</th>\n",
       "      <th>spearman_glob_glob</th>\n",
       "      <th>mse_glob_glob</th>\n",
       "      <th>r2_glob_glob</th>\n",
       "    </tr>\n",
       "  </thead>\n",
       "  <tbody>\n",
       "    <tr>\n",
       "      <th>0</th>\n",
       "      <td>0.806 ± 0.009</td>\n",
       "      <td>0.808 ± 0.01</td>\n",
       "      <td>0.0131 ± 0.0004</td>\n",
       "      <td>-0.118 ± 0.033</td>\n",
       "    </tr>\n",
       "  </tbody>\n",
       "</table>\n",
       "</div>"
      ],
      "text/plain": [
       "  pearson_glob_glob spearman_glob_glob    mse_glob_glob    r2_glob_glob\n",
       "0     0.806 ± 0.009       0.808 ± 0.01  0.0131 ± 0.0004  -0.118 ± 0.033"
      ]
     },
     "execution_count": 20,
     "metadata": {},
     "output_type": "execute_result"
    }
   ],
   "source": [
    "s5_or5_global"
   ]
  },
  {
   "cell_type": "code",
   "execution_count": 21,
   "metadata": {},
   "outputs": [],
   "source": [
    "base = network_results('globs/nikita_base/CASP13_test/checkpoint_epoch_15',\n",
    "                      targets_all13).values"
   ]
  },
  {
   "cell_type": "code",
   "execution_count": 22,
   "metadata": {},
   "outputs": [
    {
     "name": "stderr",
     "output_type": "stream",
     "text": [
      "100%|██████████| 100000/100000 [26:20<00:00, 63.26it/s]\n"
     ]
    }
   ],
   "source": [
    "pearsons_b, spearmans_b, mses_b, r2s_b = bootstrap(base, 1000000, 6000)"
   ]
  },
  {
   "cell_type": "code",
   "execution_count": 23,
   "metadata": {},
   "outputs": [],
   "source": [
    "base_global = make_intervals(pearsons_b, spearmans_b, mses_b, r2s_b)"
   ]
  },
  {
   "cell_type": "code",
   "execution_count": 24,
   "metadata": {},
   "outputs": [
    {
     "data": {
      "text/html": [
       "<div>\n",
       "<style scoped>\n",
       "    .dataframe tbody tr th:only-of-type {\n",
       "        vertical-align: middle;\n",
       "    }\n",
       "\n",
       "    .dataframe tbody tr th {\n",
       "        vertical-align: top;\n",
       "    }\n",
       "\n",
       "    .dataframe thead th {\n",
       "        text-align: right;\n",
       "    }\n",
       "</style>\n",
       "<table border=\"1\" class=\"dataframe\">\n",
       "  <thead>\n",
       "    <tr style=\"text-align: right;\">\n",
       "      <th></th>\n",
       "      <th>pearson_glob_glob</th>\n",
       "      <th>spearman_glob_glob</th>\n",
       "      <th>mse_glob_glob</th>\n",
       "      <th>r2_glob_glob</th>\n",
       "    </tr>\n",
       "  </thead>\n",
       "  <tbody>\n",
       "    <tr>\n",
       "      <th>0</th>\n",
       "      <td>0.487 ± 0.022</td>\n",
       "      <td>0.495 ± 0.021</td>\n",
       "      <td>0.0253 ± 0.0008</td>\n",
       "      <td>-1.158 ± 0.064</td>\n",
       "    </tr>\n",
       "  </tbody>\n",
       "</table>\n",
       "</div>"
      ],
      "text/plain": [
       "  pearson_glob_glob spearman_glob_glob    mse_glob_glob    r2_glob_glob\n",
       "0     0.487 ± 0.022      0.495 ± 0.021  0.0253 ± 0.0008  -1.158 ± 0.064"
      ]
     },
     "execution_count": 24,
     "metadata": {},
     "output_type": "execute_result"
    }
   ],
   "source": [
    "base_global"
   ]
  },
  {
   "cell_type": "code",
   "execution_count": 25,
   "metadata": {},
   "outputs": [],
   "source": [
    "s5_or10 = network_results('globs/s5_d0.1_reg0.001_o100_v1/CASP13_test/checkpoint_epoch_52',\n",
    "                          targets_all13).values"
   ]
  },
  {
   "cell_type": "code",
   "execution_count": 26,
   "metadata": {},
   "outputs": [
    {
     "name": "stderr",
     "output_type": "stream",
     "text": [
      "100%|██████████| 100000/100000 [27:03<00:00, 61.58it/s]\n"
     ]
    }
   ],
   "source": [
    "pearsons_10, spearmans_10, mses_10, r2s_10 = bootstrap(s5_or10, 1000000, 6000)"
   ]
  },
  {
   "cell_type": "code",
   "execution_count": 27,
   "metadata": {},
   "outputs": [],
   "source": [
    "s5_or10_global = make_intervals(pearsons_10, spearmans_10, mses_10, r2s_10)"
   ]
  },
  {
   "cell_type": "code",
   "execution_count": 28,
   "metadata": {},
   "outputs": [
    {
     "data": {
      "text/html": [
       "<div>\n",
       "<style scoped>\n",
       "    .dataframe tbody tr th:only-of-type {\n",
       "        vertical-align: middle;\n",
       "    }\n",
       "\n",
       "    .dataframe tbody tr th {\n",
       "        vertical-align: top;\n",
       "    }\n",
       "\n",
       "    .dataframe thead th {\n",
       "        text-align: right;\n",
       "    }\n",
       "</style>\n",
       "<table border=\"1\" class=\"dataframe\">\n",
       "  <thead>\n",
       "    <tr style=\"text-align: right;\">\n",
       "      <th></th>\n",
       "      <th>pearson_glob_glob</th>\n",
       "      <th>spearman_glob_glob</th>\n",
       "      <th>mse_glob_glob</th>\n",
       "      <th>r2_glob_glob</th>\n",
       "    </tr>\n",
       "  </thead>\n",
       "  <tbody>\n",
       "    <tr>\n",
       "      <th>0</th>\n",
       "      <td>0.774 ± 0.01</td>\n",
       "      <td>0.783 ± 0.011</td>\n",
       "      <td>0.0068 ± 0.0002</td>\n",
       "      <td>0.422 ± 0.017</td>\n",
       "    </tr>\n",
       "  </tbody>\n",
       "</table>\n",
       "</div>"
      ],
      "text/plain": [
       "  pearson_glob_glob spearman_glob_glob    mse_glob_glob   r2_glob_glob\n",
       "0      0.774 ± 0.01      0.783 ± 0.011  0.0068 ± 0.0002  0.422 ± 0.017"
      ]
     },
     "execution_count": 28,
     "metadata": {},
     "output_type": "execute_result"
    }
   ],
   "source": [
    "s5_or10_global"
   ]
  },
  {
   "cell_type": "code",
   "execution_count": 40,
   "metadata": {},
   "outputs": [],
   "source": [
    "res = network_results('globs/nikita_best/CASP13_test/checkpoint_epoch_39', targets_all13)\n",
    "proq3, voromqa_b, sbrod = make_sota(sota13, res)"
   ]
  },
  {
   "cell_type": "code",
   "execution_count": 32,
   "metadata": {},
   "outputs": [
    {
     "name": "stderr",
     "output_type": "stream",
     "text": [
      "100%|██████████| 50000/50000 [15:38<00:00, 53.28it/s]\n"
     ]
    }
   ],
   "source": [
    "pearsons_p, spearmans_p, mses_p, r2s_p = bootstrap(proq3, 1000000, 6000, 20)"
   ]
  },
  {
   "cell_type": "code",
   "execution_count": 33,
   "metadata": {},
   "outputs": [],
   "source": [
    "proq3_global = make_intervals(pearsons_p, spearmans_p, mses_p, r2s_p)"
   ]
  },
  {
   "cell_type": "code",
   "execution_count": 34,
   "metadata": {},
   "outputs": [
    {
     "data": {
      "text/html": [
       "<div>\n",
       "<style scoped>\n",
       "    .dataframe tbody tr th:only-of-type {\n",
       "        vertical-align: middle;\n",
       "    }\n",
       "\n",
       "    .dataframe tbody tr th {\n",
       "        vertical-align: top;\n",
       "    }\n",
       "\n",
       "    .dataframe thead th {\n",
       "        text-align: right;\n",
       "    }\n",
       "</style>\n",
       "<table border=\"1\" class=\"dataframe\">\n",
       "  <thead>\n",
       "    <tr style=\"text-align: right;\">\n",
       "      <th></th>\n",
       "      <th>pearson_glob_glob</th>\n",
       "      <th>spearman_glob_glob</th>\n",
       "      <th>mse_glob_glob</th>\n",
       "      <th>r2_glob_glob</th>\n",
       "    </tr>\n",
       "  </thead>\n",
       "  <tbody>\n",
       "    <tr>\n",
       "      <th>0</th>\n",
       "      <td>0.726 ± 0.013</td>\n",
       "      <td>0.728 ± 0.014</td>\n",
       "      <td>0.0353 ± 0.0012</td>\n",
       "      <td>-1.97 ± 0.132</td>\n",
       "    </tr>\n",
       "  </tbody>\n",
       "</table>\n",
       "</div>"
      ],
      "text/plain": [
       "  pearson_glob_glob spearman_glob_glob    mse_glob_glob   r2_glob_glob\n",
       "0     0.726 ± 0.013      0.728 ± 0.014  0.0353 ± 0.0012  -1.97 ± 0.132"
      ]
     },
     "execution_count": 34,
     "metadata": {},
     "output_type": "execute_result"
    }
   ],
   "source": [
    "proq3_global"
   ]
  },
  {
   "cell_type": "code",
   "execution_count": 35,
   "metadata": {},
   "outputs": [
    {
     "name": "stderr",
     "output_type": "stream",
     "text": [
      "100%|██████████| 50000/50000 [15:33<00:00, 53.57it/s]\n"
     ]
    }
   ],
   "source": [
    "pearsons_v, spearmans_v, mses_v, r2s_v = bootstrap(voromqa_b, 1000000, 6000, 20)"
   ]
  },
  {
   "cell_type": "code",
   "execution_count": 36,
   "metadata": {},
   "outputs": [],
   "source": [
    "voro_global = make_intervals(pearsons_v, spearmans_v, mses_v, r2s_v)"
   ]
  },
  {
   "cell_type": "code",
   "execution_count": 37,
   "metadata": {},
   "outputs": [
    {
     "data": {
      "text/html": [
       "<div>\n",
       "<style scoped>\n",
       "    .dataframe tbody tr th:only-of-type {\n",
       "        vertical-align: middle;\n",
       "    }\n",
       "\n",
       "    .dataframe tbody tr th {\n",
       "        vertical-align: top;\n",
       "    }\n",
       "\n",
       "    .dataframe thead th {\n",
       "        text-align: right;\n",
       "    }\n",
       "</style>\n",
       "<table border=\"1\" class=\"dataframe\">\n",
       "  <thead>\n",
       "    <tr style=\"text-align: right;\">\n",
       "      <th></th>\n",
       "      <th>pearson_glob_glob</th>\n",
       "      <th>spearman_glob_glob</th>\n",
       "      <th>mse_glob_glob</th>\n",
       "      <th>r2_glob_glob</th>\n",
       "    </tr>\n",
       "  </thead>\n",
       "  <tbody>\n",
       "    <tr>\n",
       "      <th>0</th>\n",
       "      <td>0.659 ± 0.019</td>\n",
       "      <td>0.688 ± 0.017</td>\n",
       "      <td>0.038 ± 0.001</td>\n",
       "      <td>-2.198 ± 0.104</td>\n",
       "    </tr>\n",
       "  </tbody>\n",
       "</table>\n",
       "</div>"
      ],
      "text/plain": [
       "  pearson_glob_glob spearman_glob_glob  mse_glob_glob    r2_glob_glob\n",
       "0     0.659 ± 0.019      0.688 ± 0.017  0.038 ± 0.001  -2.198 ± 0.104"
      ]
     },
     "execution_count": 37,
     "metadata": {},
     "output_type": "execute_result"
    }
   ],
   "source": [
    "voro_global"
   ]
  },
  {
   "cell_type": "code",
   "execution_count": 41,
   "metadata": {},
   "outputs": [
    {
     "name": "stderr",
     "output_type": "stream",
     "text": [
      "100%|██████████| 50000/50000 [17:11<00:00, 48.48it/s]\n"
     ]
    }
   ],
   "source": [
    "pearsons_s, spearmans_s, mses_s, r2s_s = bootstrap(sbrod, 1000000, 6000, 20)"
   ]
  },
  {
   "cell_type": "code",
   "execution_count": 42,
   "metadata": {},
   "outputs": [],
   "source": [
    "sbrod_global = make_intervals(pearsons_s, spearmans_s, mses_s, r2s_s)"
   ]
  },
  {
   "cell_type": "code",
   "execution_count": 43,
   "metadata": {},
   "outputs": [
    {
     "data": {
      "text/html": [
       "<div>\n",
       "<style scoped>\n",
       "    .dataframe tbody tr th:only-of-type {\n",
       "        vertical-align: middle;\n",
       "    }\n",
       "\n",
       "    .dataframe tbody tr th {\n",
       "        vertical-align: top;\n",
       "    }\n",
       "\n",
       "    .dataframe thead th {\n",
       "        text-align: right;\n",
       "    }\n",
       "</style>\n",
       "<table border=\"1\" class=\"dataframe\">\n",
       "  <thead>\n",
       "    <tr style=\"text-align: right;\">\n",
       "      <th></th>\n",
       "      <th>pearson_glob_glob</th>\n",
       "      <th>spearman_glob_glob</th>\n",
       "      <th>mse_glob_glob</th>\n",
       "      <th>r2_glob_glob</th>\n",
       "    </tr>\n",
       "  </thead>\n",
       "  <tbody>\n",
       "    <tr>\n",
       "      <th>0</th>\n",
       "      <td>0.417 ± 0.021</td>\n",
       "      <td>0.433 ± 0.021</td>\n",
       "      <td>0.0503 ± 0.0015</td>\n",
       "      <td>-3.235 ± 0.149</td>\n",
       "    </tr>\n",
       "  </tbody>\n",
       "</table>\n",
       "</div>"
      ],
      "text/plain": [
       "  pearson_glob_glob spearman_glob_glob    mse_glob_glob    r2_glob_glob\n",
       "0     0.417 ± 0.021      0.433 ± 0.021  0.0503 ± 0.0015  -3.235 ± 0.149"
      ]
     },
     "execution_count": 43,
     "metadata": {},
     "output_type": "execute_result"
    }
   ],
   "source": [
    "sbrod_global"
   ]
  },
  {
   "cell_type": "code",
   "execution_count": 44,
   "metadata": {},
   "outputs": [],
   "source": [
    "res_global = pd.concat((s5_or5_global, s5_or10_global,\n",
    "                        base_global, proq3_global, voro_global, sbrod_global))"
   ]
  },
  {
   "cell_type": "code",
   "execution_count": 45,
   "metadata": {},
   "outputs": [],
   "source": [
    "res_global.index = ['s5_o5', 's5_o10', 'base', 'proq3', 'voromqa', 'sbrod']"
   ]
  },
  {
   "cell_type": "code",
   "execution_count": 46,
   "metadata": {},
   "outputs": [
    {
     "data": {
      "text/html": [
       "<div>\n",
       "<style scoped>\n",
       "    .dataframe tbody tr th:only-of-type {\n",
       "        vertical-align: middle;\n",
       "    }\n",
       "\n",
       "    .dataframe tbody tr th {\n",
       "        vertical-align: top;\n",
       "    }\n",
       "\n",
       "    .dataframe thead th {\n",
       "        text-align: right;\n",
       "    }\n",
       "</style>\n",
       "<table border=\"1\" class=\"dataframe\">\n",
       "  <thead>\n",
       "    <tr style=\"text-align: right;\">\n",
       "      <th></th>\n",
       "      <th>pearson_glob_glob</th>\n",
       "      <th>spearman_glob_glob</th>\n",
       "      <th>mse_glob_glob</th>\n",
       "      <th>r2_glob_glob</th>\n",
       "    </tr>\n",
       "  </thead>\n",
       "  <tbody>\n",
       "    <tr>\n",
       "      <th>s5_o5</th>\n",
       "      <td>0.806 ± 0.009</td>\n",
       "      <td>0.808 ± 0.01</td>\n",
       "      <td>0.0131 ± 0.0004</td>\n",
       "      <td>-0.118 ± 0.033</td>\n",
       "    </tr>\n",
       "    <tr>\n",
       "      <th>s5_o10</th>\n",
       "      <td>0.774 ± 0.01</td>\n",
       "      <td>0.783 ± 0.011</td>\n",
       "      <td>0.0068 ± 0.0002</td>\n",
       "      <td>0.422 ± 0.017</td>\n",
       "    </tr>\n",
       "    <tr>\n",
       "      <th>base</th>\n",
       "      <td>0.487 ± 0.022</td>\n",
       "      <td>0.495 ± 0.021</td>\n",
       "      <td>0.0253 ± 0.0008</td>\n",
       "      <td>-1.158 ± 0.064</td>\n",
       "    </tr>\n",
       "    <tr>\n",
       "      <th>proq3</th>\n",
       "      <td>0.726 ± 0.013</td>\n",
       "      <td>0.728 ± 0.014</td>\n",
       "      <td>0.0353 ± 0.0012</td>\n",
       "      <td>-1.97 ± 0.132</td>\n",
       "    </tr>\n",
       "    <tr>\n",
       "      <th>voromqa</th>\n",
       "      <td>0.659 ± 0.019</td>\n",
       "      <td>0.688 ± 0.017</td>\n",
       "      <td>0.038 ± 0.001</td>\n",
       "      <td>-2.198 ± 0.104</td>\n",
       "    </tr>\n",
       "    <tr>\n",
       "      <th>sbrod</th>\n",
       "      <td>0.417 ± 0.021</td>\n",
       "      <td>0.433 ± 0.021</td>\n",
       "      <td>0.0503 ± 0.0015</td>\n",
       "      <td>-3.235 ± 0.149</td>\n",
       "    </tr>\n",
       "  </tbody>\n",
       "</table>\n",
       "</div>"
      ],
      "text/plain": [
       "        pearson_glob_glob spearman_glob_glob    mse_glob_glob    r2_glob_glob\n",
       "s5_o5       0.806 ± 0.009       0.808 ± 0.01  0.0131 ± 0.0004  -0.118 ± 0.033\n",
       "s5_o10       0.774 ± 0.01      0.783 ± 0.011  0.0068 ± 0.0002   0.422 ± 0.017\n",
       "base        0.487 ± 0.022      0.495 ± 0.021  0.0253 ± 0.0008  -1.158 ± 0.064\n",
       "proq3       0.726 ± 0.013      0.728 ± 0.014  0.0353 ± 0.0012   -1.97 ± 0.132\n",
       "voromqa     0.659 ± 0.019      0.688 ± 0.017    0.038 ± 0.001  -2.198 ± 0.104\n",
       "sbrod       0.417 ± 0.021      0.433 ± 0.021  0.0503 ± 0.0015  -3.235 ± 0.149"
      ]
     },
     "execution_count": 46,
     "metadata": {},
     "output_type": "execute_result"
    }
   ],
   "source": [
    "res_global"
   ]
  },
  {
   "cell_type": "markdown",
   "metadata": {},
   "source": [
    "## CASP12"
   ]
  },
  {
   "cell_type": "code",
   "execution_count": 47,
   "metadata": {},
   "outputs": [],
   "source": [
    "s5_or5_12 = network_results('globs/nikita_best/CASP12_test/checkpoint_epoch_39',\n",
    "                            targets_all12).values"
   ]
  },
  {
   "cell_type": "code",
   "execution_count": 48,
   "metadata": {},
   "outputs": [
    {
     "name": "stderr",
     "output_type": "stream",
     "text": [
      "100%|██████████| 50000/50000 [15:20<00:00, 54.31it/s]\n"
     ]
    }
   ],
   "source": [
    "pearsons12, spearmans12, mses12, r2s12 = bootstrap(s5_or5_12, 1000000, 6000, 20)"
   ]
  },
  {
   "cell_type": "code",
   "execution_count": 49,
   "metadata": {},
   "outputs": [
    {
     "data": {
      "text/html": [
       "<div>\n",
       "<style scoped>\n",
       "    .dataframe tbody tr th:only-of-type {\n",
       "        vertical-align: middle;\n",
       "    }\n",
       "\n",
       "    .dataframe tbody tr th {\n",
       "        vertical-align: top;\n",
       "    }\n",
       "\n",
       "    .dataframe thead th {\n",
       "        text-align: right;\n",
       "    }\n",
       "</style>\n",
       "<table border=\"1\" class=\"dataframe\">\n",
       "  <thead>\n",
       "    <tr style=\"text-align: right;\">\n",
       "      <th></th>\n",
       "      <th>pearson_glob_glob</th>\n",
       "      <th>spearman_glob_glob</th>\n",
       "      <th>mse_glob_glob</th>\n",
       "      <th>r2_glob_glob</th>\n",
       "    </tr>\n",
       "  </thead>\n",
       "  <tbody>\n",
       "    <tr>\n",
       "      <th>0</th>\n",
       "      <td>0.854 ± 0.007</td>\n",
       "      <td>0.831 ± 0.009</td>\n",
       "      <td>0.0098 ± 0.0003</td>\n",
       "      <td>0.157 ± 0.025</td>\n",
       "    </tr>\n",
       "  </tbody>\n",
       "</table>\n",
       "</div>"
      ],
      "text/plain": [
       "  pearson_glob_glob spearman_glob_glob    mse_glob_glob   r2_glob_glob\n",
       "0     0.854 ± 0.007      0.831 ± 0.009  0.0098 ± 0.0003  0.157 ± 0.025"
      ]
     },
     "execution_count": 49,
     "metadata": {},
     "output_type": "execute_result"
    }
   ],
   "source": [
    "s5_or5_12_global = make_intervals(pearsons12, spearmans12, mses12, r2s12)\n",
    "s5_or5_12_global"
   ]
  },
  {
   "cell_type": "code",
   "execution_count": 50,
   "metadata": {},
   "outputs": [
    {
     "name": "stderr",
     "output_type": "stream",
     "text": [
      "100%|██████████| 50000/50000 [14:48<00:00, 56.24it/s]  \n"
     ]
    },
    {
     "data": {
      "text/html": [
       "<div>\n",
       "<style scoped>\n",
       "    .dataframe tbody tr th:only-of-type {\n",
       "        vertical-align: middle;\n",
       "    }\n",
       "\n",
       "    .dataframe tbody tr th {\n",
       "        vertical-align: top;\n",
       "    }\n",
       "\n",
       "    .dataframe thead th {\n",
       "        text-align: right;\n",
       "    }\n",
       "</style>\n",
       "<table border=\"1\" class=\"dataframe\">\n",
       "  <thead>\n",
       "    <tr style=\"text-align: right;\">\n",
       "      <th></th>\n",
       "      <th>pearson_glob_glob</th>\n",
       "      <th>spearman_glob_glob</th>\n",
       "      <th>mse_glob_glob</th>\n",
       "      <th>r2_glob_glob</th>\n",
       "    </tr>\n",
       "  </thead>\n",
       "  <tbody>\n",
       "    <tr>\n",
       "      <th>0</th>\n",
       "      <td>0.6 ± 0.017</td>\n",
       "      <td>0.587 ± 0.018</td>\n",
       "      <td>0.0188 ± 0.0006</td>\n",
       "      <td>-0.62 ± 0.047</td>\n",
       "    </tr>\n",
       "  </tbody>\n",
       "</table>\n",
       "</div>"
      ],
      "text/plain": [
       "  pearson_glob_glob spearman_glob_glob    mse_glob_glob   r2_glob_glob\n",
       "0       0.6 ± 0.017      0.587 ± 0.018  0.0188 ± 0.0006  -0.62 ± 0.047"
      ]
     },
     "execution_count": 50,
     "metadata": {},
     "output_type": "execute_result"
    }
   ],
   "source": [
    "base_12 = network_results('globs/nikita_base/CASP12_test/checkpoint_epoch_15',\n",
    "                          targets_all12).values\n",
    "pearsons_b12, spearmans_b12, mses_b12, r2s_b12 = bootstrap(base_12, 1000000, 6000, 20)\n",
    "base12_global = make_intervals(pearsons_b12, spearmans_b12, mses_b12, r2s_b12)\n",
    "base12_global"
   ]
  },
  {
   "cell_type": "code",
   "execution_count": 51,
   "metadata": {},
   "outputs": [
    {
     "name": "stderr",
     "output_type": "stream",
     "text": [
      "100%|██████████| 50000/50000 [15:30<00:00, 53.73it/s]  \n"
     ]
    },
    {
     "data": {
      "text/html": [
       "<div>\n",
       "<style scoped>\n",
       "    .dataframe tbody tr th:only-of-type {\n",
       "        vertical-align: middle;\n",
       "    }\n",
       "\n",
       "    .dataframe tbody tr th {\n",
       "        vertical-align: top;\n",
       "    }\n",
       "\n",
       "    .dataframe thead th {\n",
       "        text-align: right;\n",
       "    }\n",
       "</style>\n",
       "<table border=\"1\" class=\"dataframe\">\n",
       "  <thead>\n",
       "    <tr style=\"text-align: right;\">\n",
       "      <th></th>\n",
       "      <th>pearson_glob_glob</th>\n",
       "      <th>spearman_glob_glob</th>\n",
       "      <th>mse_glob_glob</th>\n",
       "      <th>r2_glob_glob</th>\n",
       "    </tr>\n",
       "  </thead>\n",
       "  <tbody>\n",
       "    <tr>\n",
       "      <th>0</th>\n",
       "      <td>0.812 ± 0.009</td>\n",
       "      <td>0.789 ± 0.011</td>\n",
       "      <td>0.0049 ± 0.0001</td>\n",
       "      <td>0.573 ± 0.013</td>\n",
       "    </tr>\n",
       "  </tbody>\n",
       "</table>\n",
       "</div>"
      ],
      "text/plain": [
       "  pearson_glob_glob spearman_glob_glob    mse_glob_glob   r2_glob_glob\n",
       "0     0.812 ± 0.009      0.789 ± 0.011  0.0049 ± 0.0001  0.573 ± 0.013"
      ]
     },
     "execution_count": 51,
     "metadata": {},
     "output_type": "execute_result"
    }
   ],
   "source": [
    "s5_or10_12 = network_results('globs/s5_d0.1_reg0.001_o100_v1/CASP12_test/checkpoint_epoch_52',\n",
    "                          targets_all12).values\n",
    "pearsons_10_12, spearmans_10_12, mses_10_12, r2s_10_12 = bootstrap(s5_or10_12, 1000000, 6000, 20)\n",
    "s5_or10_12_global = make_intervals(pearsons_10_12, spearmans_10_12, mses_10_12, r2s_10_12)\n",
    "s5_or10_12_global"
   ]
  },
  {
   "cell_type": "code",
   "execution_count": 57,
   "metadata": {},
   "outputs": [],
   "source": [
    "res = network_results('globs/nikita_best/CASP12_test/checkpoint_epoch_39', targets_all12)\n",
    "proq3_12, voromqa_b_12, sbrod_ = make_sota(sota12, res)\n",
    "_1, _2, sbrod12 = make_sota(sota_sota12, res)"
   ]
  },
  {
   "cell_type": "code",
   "execution_count": 59,
   "metadata": {},
   "outputs": [
    {
     "name": "stderr",
     "output_type": "stream",
     "text": [
      "100%|██████████| 50000/50000 [16:05<00:00, 51.78it/s]  \n"
     ]
    },
    {
     "data": {
      "text/html": [
       "<div>\n",
       "<style scoped>\n",
       "    .dataframe tbody tr th:only-of-type {\n",
       "        vertical-align: middle;\n",
       "    }\n",
       "\n",
       "    .dataframe tbody tr th {\n",
       "        vertical-align: top;\n",
       "    }\n",
       "\n",
       "    .dataframe thead th {\n",
       "        text-align: right;\n",
       "    }\n",
       "</style>\n",
       "<table border=\"1\" class=\"dataframe\">\n",
       "  <thead>\n",
       "    <tr style=\"text-align: right;\">\n",
       "      <th></th>\n",
       "      <th>pearson_glob_glob</th>\n",
       "      <th>spearman_glob_glob</th>\n",
       "      <th>mse_glob_glob</th>\n",
       "      <th>r2_glob_glob</th>\n",
       "    </tr>\n",
       "  </thead>\n",
       "  <tbody>\n",
       "    <tr>\n",
       "      <th>0</th>\n",
       "      <td>0.795 ± 0.008</td>\n",
       "      <td>0.806 ± 0.009</td>\n",
       "      <td>0.0352 ± 0.001</td>\n",
       "      <td>-2.038 ± 0.133</td>\n",
       "    </tr>\n",
       "  </tbody>\n",
       "</table>\n",
       "</div>"
      ],
      "text/plain": [
       "  pearson_glob_glob spearman_glob_glob   mse_glob_glob    r2_glob_glob\n",
       "0     0.795 ± 0.008      0.806 ± 0.009  0.0352 ± 0.001  -2.038 ± 0.133"
      ]
     },
     "execution_count": 59,
     "metadata": {},
     "output_type": "execute_result"
    }
   ],
   "source": [
    "pearsons_p12, spearmans_p12, mses_p12, r2s_p12 = bootstrap(proq3_12, 1000000, 6000, 20)\n",
    "proq3_12_global = make_intervals(pearsons_p12, spearmans_p12, mses_p12, r2s_p12)\n",
    "proq3_12_global"
   ]
  },
  {
   "cell_type": "code",
   "execution_count": 60,
   "metadata": {},
   "outputs": [
    {
     "name": "stderr",
     "output_type": "stream",
     "text": [
      "100%|██████████| 50000/50000 [14:27<00:00, 57.66it/s]\n"
     ]
    },
    {
     "data": {
      "text/html": [
       "<div>\n",
       "<style scoped>\n",
       "    .dataframe tbody tr th:only-of-type {\n",
       "        vertical-align: middle;\n",
       "    }\n",
       "\n",
       "    .dataframe tbody tr th {\n",
       "        vertical-align: top;\n",
       "    }\n",
       "\n",
       "    .dataframe thead th {\n",
       "        text-align: right;\n",
       "    }\n",
       "</style>\n",
       "<table border=\"1\" class=\"dataframe\">\n",
       "  <thead>\n",
       "    <tr style=\"text-align: right;\">\n",
       "      <th></th>\n",
       "      <th>pearson_glob_glob</th>\n",
       "      <th>spearman_glob_glob</th>\n",
       "      <th>mse_glob_glob</th>\n",
       "      <th>r2_glob_glob</th>\n",
       "    </tr>\n",
       "  </thead>\n",
       "  <tbody>\n",
       "    <tr>\n",
       "      <th>0</th>\n",
       "      <td>0.675 ± 0.016</td>\n",
       "      <td>0.7 ± 0.016</td>\n",
       "      <td>0.0513 ± 0.0011</td>\n",
       "      <td>-3.428 ± 0.138</td>\n",
       "    </tr>\n",
       "  </tbody>\n",
       "</table>\n",
       "</div>"
      ],
      "text/plain": [
       "  pearson_glob_glob spearman_glob_glob    mse_glob_glob    r2_glob_glob\n",
       "0     0.675 ± 0.016        0.7 ± 0.016  0.0513 ± 0.0011  -3.428 ± 0.138"
      ]
     },
     "execution_count": 60,
     "metadata": {},
     "output_type": "execute_result"
    }
   ],
   "source": [
    "pearsons_12_v, spearmans_12_v, mses_12_v, r2s_12_v = bootstrap(voromqa_b_12, 1000000, 6000, 20)\n",
    "voro_12_global = make_intervals(pearsons_12_v, spearmans_12_v, mses_12_v, r2s_12_v)\n",
    "voro_12_global"
   ]
  },
  {
   "cell_type": "code",
   "execution_count": 61,
   "metadata": {},
   "outputs": [
    {
     "name": "stderr",
     "output_type": "stream",
     "text": [
      "100%|██████████| 50000/50000 [15:45<00:00, 52.87it/s]  \n"
     ]
    },
    {
     "data": {
      "text/html": [
       "<div>\n",
       "<style scoped>\n",
       "    .dataframe tbody tr th:only-of-type {\n",
       "        vertical-align: middle;\n",
       "    }\n",
       "\n",
       "    .dataframe tbody tr th {\n",
       "        vertical-align: top;\n",
       "    }\n",
       "\n",
       "    .dataframe thead th {\n",
       "        text-align: right;\n",
       "    }\n",
       "</style>\n",
       "<table border=\"1\" class=\"dataframe\">\n",
       "  <thead>\n",
       "    <tr style=\"text-align: right;\">\n",
       "      <th></th>\n",
       "      <th>pearson_glob_glob</th>\n",
       "      <th>spearman_glob_glob</th>\n",
       "      <th>mse_glob_glob</th>\n",
       "      <th>r2_glob_glob</th>\n",
       "    </tr>\n",
       "  </thead>\n",
       "  <tbody>\n",
       "    <tr>\n",
       "      <th>0</th>\n",
       "      <td>0.552 ± 0.017</td>\n",
       "      <td>0.531 ± 0.019</td>\n",
       "      <td>0.9611 ± 0.0064</td>\n",
       "      <td>-81.935 ± 2.78</td>\n",
       "    </tr>\n",
       "  </tbody>\n",
       "</table>\n",
       "</div>"
      ],
      "text/plain": [
       "  pearson_glob_glob spearman_glob_glob    mse_glob_glob    r2_glob_glob\n",
       "0     0.552 ± 0.017      0.531 ± 0.019  0.9611 ± 0.0064  -81.935 ± 2.78"
      ]
     },
     "execution_count": 61,
     "metadata": {},
     "output_type": "execute_result"
    }
   ],
   "source": [
    "pearsons_s12, spearmans_s12, mses_s12, r2s_s12 = bootstrap(sbrod12, 1000000, 6000, 20)\n",
    "sbrod12_global = make_intervals(pearsons_s12, spearmans_s12, mses_s12, r2s_s12)\n",
    "sbrod12_global"
   ]
  },
  {
   "cell_type": "markdown",
   "metadata": {},
   "source": [
    "# Decoy"
   ]
  },
  {
   "cell_type": "code",
   "execution_count": 157,
   "metadata": {},
   "outputs": [],
   "source": [
    "def calculate_z_scores(vector):\n",
    "    threshold = -2\n",
    "    raw_z_scores = (vector - np.mean(vector)) / np.std(vector)\n",
    "    filtered_vector = [vector[i] for i, z in enumerate(raw_z_scores) if z > threshold]\n",
    "    z_scores = (vector - np.mean(filtered_vector)) / np.std(filtered_vector)\n",
    "    z_scores = np.clip(z_scores, -2, None)\n",
    "    return z_scores\n",
    "\n",
    "\n",
    "def fisher_mean(correlations):\n",
    "    return np.tanh(np.arctanh(correlations).mean())\n",
    "\n",
    "\n",
    "def calc_target(preds, true):\n",
    "    choice = int(np.argmax(preds))\n",
    "    return {\n",
    "        'pearson': sps.pearsonr(preds, true)[0],\n",
    "        'spearman': sps.spearmanr(preds, true)[0],\n",
    "        'mse': mean_squared_error(true, preds),\n",
    "        'r2': r2_score(true, preds),\n",
    "        'z_score': calculate_z_scores(true)[choice],\n",
    "        'rank': sps.rankdata(-np.array(true))[choice]\n",
    "    }\n",
    "\n",
    "def network_global_results(results, filter_targets=None):\n",
    "    glob = []\n",
    "    for file in os.listdir(results):\n",
    "        target = file[:-4]\n",
    "        df = pd.read_csv(os.path.join(results, file))\n",
    "        df['model'] = df['model'].transform(lambda x: f'{target}_{x}')\n",
    "        if filter_targets is not None:\n",
    "            df = df[df['model'].isin(filter_targets)]\n",
    "        if len(df.pred.values) != 0:\n",
    "            glob.append(calc_target(df.pred.values, df.true.values))\n",
    "    return pd.DataFrame(glob)\n",
    "\n",
    "def sota_result(sota_path, results_path, models):\n",
    "    glob_proq3 = []\n",
    "    glob_voromqa = []\n",
    "    glob_sbrod = []\n",
    "    for file in os.listdir(sota_path):\n",
    "        target = file[:-4]\n",
    "        if not file.endswith('.csv'):\n",
    "            continue\n",
    "        if not os.path.exists(os.path.join(results_path, file)):\n",
    "            continue\n",
    "        df = pd.read_csv(os.path.join(sota_path, file), sep='\\t', index_col=0)\n",
    "        #print(df)\n",
    "        df['model'] = df['model'].transform(lambda x: f'{target}_{x}')\n",
    "        df = df[df['model'].isin(models)]\n",
    "        \n",
    "        res = pd.read_csv(os.path.join(results_path, file))\n",
    "        #print(res)\n",
    "        res['model'] = res['model'].transform(lambda x: f'{target}_{x}')\n",
    "        res = res[res['model'].isin(models)]\n",
    "        \n",
    "        df = df.set_index('model').join(res.set_index('model')).reset_index()\n",
    "        \n",
    "        if len(df.true.values) == 0:\n",
    "            continue\n",
    "        \n",
    "        glob_proq3.append(calc_target(df.proq3, df.true))\n",
    "        if 'voromqa_b' in df.columns:\n",
    "            glob_voromqa.append(calc_target(df.voromqa_b, df.true))\n",
    "        else:\n",
    "            glob_voromqa.append(calc_target(df.voromqa, df.true))\n",
    "        if 'sbrod_server' in df.columns:\n",
    "            glob_sbrod.append(calc_target(df.sbrod_server, df.true))\n",
    "        elif 'sbrod' in df.columns:\n",
    "             glob_sbrod.append(calc_target(df.sbrod, df.true))\n",
    "    return (pd.DataFrame(glob_proq3), pd.DataFrame(glob_voromqa), pd.DataFrame(glob_sbrod))\n",
    "\n",
    "\n",
    "def one_thread(args):\n",
    "        pearsons = []\n",
    "        spearmans = []\n",
    "        mses = []\n",
    "        r2s = []\n",
    "        z_scores = []\n",
    "        ranks = []\n",
    "        results = args[0]\n",
    "        K = args[1]\n",
    "        sz = args[2]\n",
    "        gen = tqdm(range(K)) if args[3] else range(K)\n",
    "        for i in gen:\n",
    "            sample = np.array(random.choices(results, k=sz))\n",
    "            z_scores.append(np.mean(sample[:, 4]))\n",
    "            ranks.append(np.mean(sample[:, 5]))\n",
    "            pearsons.append(fisher_mean(sample[:, 0]))\n",
    "            spearmans.append(fisher_mean(sample[:, 1]))\n",
    "            mses.append(np.mean(sample[:, 2]))\n",
    "            r2s.append(np.mean(sample[:, 3]))\n",
    "        return (\n",
    "            np.array(z_scores), np.array(ranks),\n",
    "            np.array(mses), np.array(r2s),\n",
    "            np.array(pearsons), np.array(spearmans))\n",
    "\n",
    "\n",
    "def bootstrap_decoy(results, K, sz=None, n_jobs=10):   \n",
    "    if sz is None:\n",
    "        sz = len(results)\n",
    "    \n",
    "    z_scores = []\n",
    "    ranks = []\n",
    "    mses = []\n",
    "    r2s = []\n",
    "    pearsons = []\n",
    "    spearmans = []\n",
    "    \n",
    "    args = []\n",
    "    for i in range(n_jobs):\n",
    "        args.append([results, K // n_jobs, sz, i == 0])\n",
    "    \n",
    "    p = multiprocessing.Pool(n_jobs)\n",
    "    result = p.map(one_thread, args)\n",
    "    for res in result:\n",
    "        z_scores.append(res[0])\n",
    "        ranks.append(res[1])\n",
    "        mses.append(res[2])\n",
    "        r2s.append(res[3])\n",
    "        pearsons.append(res[4])\n",
    "        spearmans.append(res[5])\n",
    "    return (\n",
    "        np.concatenate(z_scores), np.concatenate(ranks),\n",
    "        np.concatenate(mses), np.concatenate(r2s),\n",
    "        np.concatenate(pearsons), np.concatenate(spearmans),\n",
    "    )\n",
    "\n",
    "def make_intervals_decoy(metrics):\n",
    "    z = sps.norm.ppf(0.975)\n",
    "    def interval(sample, round_to=2, to_z=None):\n",
    "        if to_z is None:\n",
    "            return f'{round(sample.mean(), round_to)} ± {round(z * sample.std(), round_to)}'\n",
    "        else:\n",
    "            return f'{round(sample.mean() * 100, round_to)} ± {round(z * sample.std() * 100, round_to)}'\n",
    "    \n",
    "    return pd.DataFrame({\n",
    "        'z_score': [interval(metrics[0], 3)],\n",
    "        'rank': [interval(metrics[1], 3)],\n",
    "        'mse_glob_decoy': [interval(metrics[2], 4)],\n",
    "        'r2_glob_decoy': [interval(metrics[3], 3)],\n",
    "        'pearson_glob_decoy': [interval(metrics[4], 3)],\n",
    "        'spearman_glob_decoy': [interval(metrics[5], 3)]\n",
    "    })"
   ]
  },
  {
   "cell_type": "code",
   "execution_count": 86,
   "metadata": {},
   "outputs": [],
   "source": [
    "targets_all13 = proq3_targets13 & voromqa_b_targets13 & sbrod_targets13 & set(s5_or10[:, 0])\n",
    "targets_all12 = proq3_targets12 & voromqa_b_targets12 & sbrod_targets12 & set(s5_or10_12[:, 0])"
   ]
  },
  {
   "cell_type": "markdown",
   "metadata": {},
   "source": [
    "## CASP13"
   ]
  },
  {
   "cell_type": "code",
   "execution_count": 158,
   "metadata": {},
   "outputs": [
    {
     "name": "stderr",
     "output_type": "stream",
     "text": [
      "100%|██████████| 50000/50000 [00:10<00:00, 4714.95it/s]\n"
     ]
    },
    {
     "data": {
      "text/html": [
       "<div>\n",
       "<style scoped>\n",
       "    .dataframe tbody tr th:only-of-type {\n",
       "        vertical-align: middle;\n",
       "    }\n",
       "\n",
       "    .dataframe tbody tr th {\n",
       "        vertical-align: top;\n",
       "    }\n",
       "\n",
       "    .dataframe thead th {\n",
       "        text-align: right;\n",
       "    }\n",
       "</style>\n",
       "<table border=\"1\" class=\"dataframe\">\n",
       "  <thead>\n",
       "    <tr style=\"text-align: right;\">\n",
       "      <th></th>\n",
       "      <th>z_score</th>\n",
       "      <th>rank</th>\n",
       "      <th>mse_glob_decoy</th>\n",
       "      <th>r2_glob_decoy</th>\n",
       "      <th>pearson_glob_decoy</th>\n",
       "      <th>spearman_glob_decoy</th>\n",
       "    </tr>\n",
       "  </thead>\n",
       "  <tbody>\n",
       "    <tr>\n",
       "      <th>0</th>\n",
       "      <td>1.362 ± 0.202</td>\n",
       "      <td>20.543 ± 6.546</td>\n",
       "      <td>0.0131 ± 0.0028</td>\n",
       "      <td>-3.458 ± 2.11</td>\n",
       "      <td>0.789 ± 0.032</td>\n",
       "      <td>0.743 ± 0.032</td>\n",
       "    </tr>\n",
       "  </tbody>\n",
       "</table>\n",
       "</div>"
      ],
      "text/plain": [
       "         z_score            rank   mse_glob_decoy  r2_glob_decoy  \\\n",
       "0  1.362 ± 0.202  20.543 ± 6.546  0.0131 ± 0.0028  -3.458 ± 2.11   \n",
       "\n",
       "  pearson_glob_decoy spearman_glob_decoy  \n",
       "0      0.789 ± 0.032       0.743 ± 0.032  "
      ]
     },
     "execution_count": 158,
     "metadata": {},
     "output_type": "execute_result"
    }
   ],
   "source": [
    "s5_o5_t = network_global_results('globs/nikita_best/CASP13_test/checkpoint_epoch_39',\n",
    "                      targets_all13)\n",
    "make_intervals_decoy(bootstrap_decoy(s5_o5_t.values, 1000000, 73, 20))"
   ]
  },
  {
   "cell_type": "code",
   "execution_count": 159,
   "metadata": {},
   "outputs": [
    {
     "name": "stderr",
     "output_type": "stream",
     "text": [
      "100%|██████████| 50000/50000 [00:08<00:00, 6183.95it/s]\n"
     ]
    },
    {
     "data": {
      "text/html": [
       "<div>\n",
       "<style scoped>\n",
       "    .dataframe tbody tr th:only-of-type {\n",
       "        vertical-align: middle;\n",
       "    }\n",
       "\n",
       "    .dataframe tbody tr th {\n",
       "        vertical-align: top;\n",
       "    }\n",
       "\n",
       "    .dataframe thead th {\n",
       "        text-align: right;\n",
       "    }\n",
       "</style>\n",
       "<table border=\"1\" class=\"dataframe\">\n",
       "  <thead>\n",
       "    <tr style=\"text-align: right;\">\n",
       "      <th></th>\n",
       "      <th>z_score</th>\n",
       "      <th>rank</th>\n",
       "      <th>mse_glob_decoy</th>\n",
       "      <th>r2_glob_decoy</th>\n",
       "      <th>pearson_glob_decoy</th>\n",
       "      <th>spearman_glob_decoy</th>\n",
       "    </tr>\n",
       "  </thead>\n",
       "  <tbody>\n",
       "    <tr>\n",
       "      <th>0</th>\n",
       "      <td>1.247 ± 0.196</td>\n",
       "      <td>22.762 ± 6.605</td>\n",
       "      <td>0.0068 ± 0.0015</td>\n",
       "      <td>-1.348 ± 1.028</td>\n",
       "      <td>0.721 ± 0.038</td>\n",
       "      <td>0.694 ± 0.038</td>\n",
       "    </tr>\n",
       "  </tbody>\n",
       "</table>\n",
       "</div>"
      ],
      "text/plain": [
       "         z_score            rank   mse_glob_decoy   r2_glob_decoy  \\\n",
       "0  1.247 ± 0.196  22.762 ± 6.605  0.0068 ± 0.0015  -1.348 ± 1.028   \n",
       "\n",
       "  pearson_glob_decoy spearman_glob_decoy  \n",
       "0      0.721 ± 0.038       0.694 ± 0.038  "
      ]
     },
     "execution_count": 159,
     "metadata": {},
     "output_type": "execute_result"
    }
   ],
   "source": [
    "s5_o10_t = network_global_results('globs/s5_d0.1_reg0.001_o100_v1/CASP13_test/checkpoint_epoch_52',\n",
    "                      targets_all13)\n",
    "make_intervals_decoy(bootstrap_decoy(s5_o10_t.values, 1000000, 73, 20))"
   ]
  },
  {
   "cell_type": "code",
   "execution_count": 160,
   "metadata": {},
   "outputs": [
    {
     "name": "stderr",
     "output_type": "stream",
     "text": [
      "100%|██████████| 50000/50000 [00:11<00:00, 4215.86it/s]\n"
     ]
    },
    {
     "data": {
      "text/html": [
       "<div>\n",
       "<style scoped>\n",
       "    .dataframe tbody tr th:only-of-type {\n",
       "        vertical-align: middle;\n",
       "    }\n",
       "\n",
       "    .dataframe tbody tr th {\n",
       "        vertical-align: top;\n",
       "    }\n",
       "\n",
       "    .dataframe thead th {\n",
       "        text-align: right;\n",
       "    }\n",
       "</style>\n",
       "<table border=\"1\" class=\"dataframe\">\n",
       "  <thead>\n",
       "    <tr style=\"text-align: right;\">\n",
       "      <th></th>\n",
       "      <th>z_score</th>\n",
       "      <th>rank</th>\n",
       "      <th>mse_glob_decoy</th>\n",
       "      <th>r2_glob_decoy</th>\n",
       "      <th>pearson_glob_decoy</th>\n",
       "      <th>spearman_glob_decoy</th>\n",
       "    </tr>\n",
       "  </thead>\n",
       "  <tbody>\n",
       "    <tr>\n",
       "      <th>0</th>\n",
       "      <td>0.838 ± 0.179</td>\n",
       "      <td>37.949 ± 6.71</td>\n",
       "      <td>0.0253 ± 0.0059</td>\n",
       "      <td>-8.889 ± 5.497</td>\n",
       "      <td>0.622 ± 0.047</td>\n",
       "      <td>0.599 ± 0.047</td>\n",
       "    </tr>\n",
       "  </tbody>\n",
       "</table>\n",
       "</div>"
      ],
      "text/plain": [
       "         z_score           rank   mse_glob_decoy   r2_glob_decoy  \\\n",
       "0  0.838 ± 0.179  37.949 ± 6.71  0.0253 ± 0.0059  -8.889 ± 5.497   \n",
       "\n",
       "  pearson_glob_decoy spearman_glob_decoy  \n",
       "0      0.622 ± 0.047       0.599 ± 0.047  "
      ]
     },
     "execution_count": 160,
     "metadata": {},
     "output_type": "execute_result"
    }
   ],
   "source": [
    "base_t = network_global_results('globs/nikita_base/CASP13_test/checkpoint_epoch_15',\n",
    "                      targets_all13)\n",
    "make_intervals_decoy(bootstrap_decoy(base_t.values, 1000000, 73, 20))"
   ]
  },
  {
   "cell_type": "code",
   "execution_count": 161,
   "metadata": {},
   "outputs": [],
   "source": [
    "proq3_t, voromqa_t, sbrod_t = sota_result('../sota_from_casp',\n",
    "                                         'globs/nikita_best/CASP13_test/checkpoint_epoch_39',\n",
    "                                         targets_all13)"
   ]
  },
  {
   "cell_type": "code",
   "execution_count": 162,
   "metadata": {},
   "outputs": [
    {
     "name": "stderr",
     "output_type": "stream",
     "text": [
      "100%|██████████| 50000/50000 [00:07<00:00, 6588.44it/s]\n"
     ]
    },
    {
     "data": {
      "text/html": [
       "<div>\n",
       "<style scoped>\n",
       "    .dataframe tbody tr th:only-of-type {\n",
       "        vertical-align: middle;\n",
       "    }\n",
       "\n",
       "    .dataframe tbody tr th {\n",
       "        vertical-align: top;\n",
       "    }\n",
       "\n",
       "    .dataframe thead th {\n",
       "        text-align: right;\n",
       "    }\n",
       "</style>\n",
       "<table border=\"1\" class=\"dataframe\">\n",
       "  <thead>\n",
       "    <tr style=\"text-align: right;\">\n",
       "      <th></th>\n",
       "      <th>z_score</th>\n",
       "      <th>rank</th>\n",
       "      <th>mse_glob_decoy</th>\n",
       "      <th>r2_glob_decoy</th>\n",
       "      <th>pearson_glob_decoy</th>\n",
       "      <th>spearman_glob_decoy</th>\n",
       "    </tr>\n",
       "  </thead>\n",
       "  <tbody>\n",
       "    <tr>\n",
       "      <th>0</th>\n",
       "      <td>1.459 ± 0.201</td>\n",
       "      <td>18.994 ± 6.157</td>\n",
       "      <td>0.0348 ± 0.0076</td>\n",
       "      <td>-17.519 ± 8.838</td>\n",
       "      <td>0.775 ± 0.037</td>\n",
       "      <td>0.737 ± 0.035</td>\n",
       "    </tr>\n",
       "  </tbody>\n",
       "</table>\n",
       "</div>"
      ],
      "text/plain": [
       "         z_score            rank   mse_glob_decoy    r2_glob_decoy  \\\n",
       "0  1.459 ± 0.201  18.994 ± 6.157  0.0348 ± 0.0076  -17.519 ± 8.838   \n",
       "\n",
       "  pearson_glob_decoy spearman_glob_decoy  \n",
       "0      0.775 ± 0.037       0.737 ± 0.035  "
      ]
     },
     "execution_count": 162,
     "metadata": {},
     "output_type": "execute_result"
    }
   ],
   "source": [
    "make_intervals_decoy(bootstrap_decoy(proq3_t.values, 1000000, 73, 20))"
   ]
  },
  {
   "cell_type": "code",
   "execution_count": 163,
   "metadata": {},
   "outputs": [
    {
     "name": "stderr",
     "output_type": "stream",
     "text": [
      "100%|██████████| 50000/50000 [00:07<00:00, 6772.94it/s]\n"
     ]
    },
    {
     "data": {
      "text/html": [
       "<div>\n",
       "<style scoped>\n",
       "    .dataframe tbody tr th:only-of-type {\n",
       "        vertical-align: middle;\n",
       "    }\n",
       "\n",
       "    .dataframe tbody tr th {\n",
       "        vertical-align: top;\n",
       "    }\n",
       "\n",
       "    .dataframe thead th {\n",
       "        text-align: right;\n",
       "    }\n",
       "</style>\n",
       "<table border=\"1\" class=\"dataframe\">\n",
       "  <thead>\n",
       "    <tr style=\"text-align: right;\">\n",
       "      <th></th>\n",
       "      <th>z_score</th>\n",
       "      <th>rank</th>\n",
       "      <th>mse_glob_decoy</th>\n",
       "      <th>r2_glob_decoy</th>\n",
       "      <th>pearson_glob_decoy</th>\n",
       "      <th>spearman_glob_decoy</th>\n",
       "    </tr>\n",
       "  </thead>\n",
       "  <tbody>\n",
       "    <tr>\n",
       "      <th>0</th>\n",
       "      <td>1.369 ± 0.222</td>\n",
       "      <td>21.242 ± 6.985</td>\n",
       "      <td>0.0378 ± 0.0076</td>\n",
       "      <td>-15.931 ± 8.854</td>\n",
       "      <td>0.803 ± 0.034</td>\n",
       "      <td>0.767 ± 0.033</td>\n",
       "    </tr>\n",
       "  </tbody>\n",
       "</table>\n",
       "</div>"
      ],
      "text/plain": [
       "         z_score            rank   mse_glob_decoy    r2_glob_decoy  \\\n",
       "0  1.369 ± 0.222  21.242 ± 6.985  0.0378 ± 0.0076  -15.931 ± 8.854   \n",
       "\n",
       "  pearson_glob_decoy spearman_glob_decoy  \n",
       "0      0.803 ± 0.034       0.767 ± 0.033  "
      ]
     },
     "execution_count": 163,
     "metadata": {},
     "output_type": "execute_result"
    }
   ],
   "source": [
    "make_intervals_decoy(bootstrap_decoy(voromqa_t.values, 1000000, 73, 20))"
   ]
  },
  {
   "cell_type": "code",
   "execution_count": 164,
   "metadata": {},
   "outputs": [
    {
     "name": "stderr",
     "output_type": "stream",
     "text": [
      "100%|██████████| 50000/50000 [00:08<00:00, 6067.60it/s]\n"
     ]
    },
    {
     "data": {
      "text/html": [
       "<div>\n",
       "<style scoped>\n",
       "    .dataframe tbody tr th:only-of-type {\n",
       "        vertical-align: middle;\n",
       "    }\n",
       "\n",
       "    .dataframe tbody tr th {\n",
       "        vertical-align: top;\n",
       "    }\n",
       "\n",
       "    .dataframe thead th {\n",
       "        text-align: right;\n",
       "    }\n",
       "</style>\n",
       "<table border=\"1\" class=\"dataframe\">\n",
       "  <thead>\n",
       "    <tr style=\"text-align: right;\">\n",
       "      <th></th>\n",
       "      <th>z_score</th>\n",
       "      <th>rank</th>\n",
       "      <th>mse_glob_decoy</th>\n",
       "      <th>r2_glob_decoy</th>\n",
       "      <th>pearson_glob_decoy</th>\n",
       "      <th>spearman_glob_decoy</th>\n",
       "    </tr>\n",
       "  </thead>\n",
       "  <tbody>\n",
       "    <tr>\n",
       "      <th>0</th>\n",
       "      <td>1.453 ± 0.181</td>\n",
       "      <td>18.245 ± 4.996</td>\n",
       "      <td>0.0515 ± 0.0121</td>\n",
       "      <td>-22.454 ± 10.917</td>\n",
       "      <td>0.804 ± 0.032</td>\n",
       "      <td>0.761 ± 0.033</td>\n",
       "    </tr>\n",
       "  </tbody>\n",
       "</table>\n",
       "</div>"
      ],
      "text/plain": [
       "         z_score            rank   mse_glob_decoy     r2_glob_decoy  \\\n",
       "0  1.453 ± 0.181  18.245 ± 4.996  0.0515 ± 0.0121  -22.454 ± 10.917   \n",
       "\n",
       "  pearson_glob_decoy spearman_glob_decoy  \n",
       "0      0.804 ± 0.032       0.761 ± 0.033  "
      ]
     },
     "execution_count": 164,
     "metadata": {},
     "output_type": "execute_result"
    }
   ],
   "source": [
    "make_intervals_decoy(bootstrap_decoy(sbrod_t.values, 1000000, 73, 20))"
   ]
  },
  {
   "cell_type": "markdown",
   "metadata": {},
   "source": [
    "# CASP12"
   ]
  },
  {
   "cell_type": "code",
   "execution_count": 165,
   "metadata": {},
   "outputs": [
    {
     "name": "stderr",
     "output_type": "stream",
     "text": [
      "100%|██████████| 50000/50000 [00:07<00:00, 6256.17it/s]\n"
     ]
    },
    {
     "data": {
      "text/html": [
       "<div>\n",
       "<style scoped>\n",
       "    .dataframe tbody tr th:only-of-type {\n",
       "        vertical-align: middle;\n",
       "    }\n",
       "\n",
       "    .dataframe tbody tr th {\n",
       "        vertical-align: top;\n",
       "    }\n",
       "\n",
       "    .dataframe thead th {\n",
       "        text-align: right;\n",
       "    }\n",
       "</style>\n",
       "<table border=\"1\" class=\"dataframe\">\n",
       "  <thead>\n",
       "    <tr style=\"text-align: right;\">\n",
       "      <th></th>\n",
       "      <th>z_score</th>\n",
       "      <th>rank</th>\n",
       "      <th>mse_glob_decoy</th>\n",
       "      <th>r2_glob_decoy</th>\n",
       "      <th>pearson_glob_decoy</th>\n",
       "      <th>spearman_glob_decoy</th>\n",
       "    </tr>\n",
       "  </thead>\n",
       "  <tbody>\n",
       "    <tr>\n",
       "      <th>0</th>\n",
       "      <td>1.704 ± 0.203</td>\n",
       "      <td>13.947 ± 5.392</td>\n",
       "      <td>0.0097 ± 0.0023</td>\n",
       "      <td>-1.89 ± 0.621</td>\n",
       "      <td>0.796 ± 0.03</td>\n",
       "      <td>0.738 ± 0.033</td>\n",
       "    </tr>\n",
       "  </tbody>\n",
       "</table>\n",
       "</div>"
      ],
      "text/plain": [
       "         z_score            rank   mse_glob_decoy  r2_glob_decoy  \\\n",
       "0  1.704 ± 0.203  13.947 ± 5.392  0.0097 ± 0.0023  -1.89 ± 0.621   \n",
       "\n",
       "  pearson_glob_decoy spearman_glob_decoy  \n",
       "0       0.796 ± 0.03       0.738 ± 0.033  "
      ]
     },
     "execution_count": 165,
     "metadata": {},
     "output_type": "execute_result"
    }
   ],
   "source": [
    "s5_o5_t = network_global_results('globs/nikita_best/CASP12_test/checkpoint_epoch_39',\n",
    "                      targets_all12)\n",
    "make_intervals_decoy(bootstrap_decoy(s5_o5_t.values, 1000000, 73, 20))"
   ]
  },
  {
   "cell_type": "code",
   "execution_count": 166,
   "metadata": {},
   "outputs": [
    {
     "name": "stderr",
     "output_type": "stream",
     "text": [
      "100%|██████████| 50000/50000 [00:07<00:00, 6378.54it/s]\n"
     ]
    },
    {
     "data": {
      "text/html": [
       "<div>\n",
       "<style scoped>\n",
       "    .dataframe tbody tr th:only-of-type {\n",
       "        vertical-align: middle;\n",
       "    }\n",
       "\n",
       "    .dataframe tbody tr th {\n",
       "        vertical-align: top;\n",
       "    }\n",
       "\n",
       "    .dataframe thead th {\n",
       "        text-align: right;\n",
       "    }\n",
       "</style>\n",
       "<table border=\"1\" class=\"dataframe\">\n",
       "  <thead>\n",
       "    <tr style=\"text-align: right;\">\n",
       "      <th></th>\n",
       "      <th>z_score</th>\n",
       "      <th>rank</th>\n",
       "      <th>mse_glob_decoy</th>\n",
       "      <th>r2_glob_decoy</th>\n",
       "      <th>pearson_glob_decoy</th>\n",
       "      <th>spearman_glob_decoy</th>\n",
       "    </tr>\n",
       "  </thead>\n",
       "  <tbody>\n",
       "    <tr>\n",
       "      <th>0</th>\n",
       "      <td>1.665 ± 0.158</td>\n",
       "      <td>12.632 ± 3.853</td>\n",
       "      <td>0.0049 ± 0.0008</td>\n",
       "      <td>-0.831 ± 0.322</td>\n",
       "      <td>0.71 ± 0.035</td>\n",
       "      <td>0.68 ± 0.036</td>\n",
       "    </tr>\n",
       "  </tbody>\n",
       "</table>\n",
       "</div>"
      ],
      "text/plain": [
       "         z_score            rank   mse_glob_decoy   r2_glob_decoy  \\\n",
       "0  1.665 ± 0.158  12.632 ± 3.853  0.0049 ± 0.0008  -0.831 ± 0.322   \n",
       "\n",
       "  pearson_glob_decoy spearman_glob_decoy  \n",
       "0       0.71 ± 0.035        0.68 ± 0.036  "
      ]
     },
     "execution_count": 166,
     "metadata": {},
     "output_type": "execute_result"
    }
   ],
   "source": [
    "s5_o10_t = network_global_results('globs/s5_d0.1_reg0.001_o100_v1/CASP12_test/checkpoint_epoch_52',\n",
    "                      targets_all12)\n",
    "make_intervals_decoy(bootstrap_decoy(s5_o10_t.values, 1000000, 73, 20))"
   ]
  },
  {
   "cell_type": "code",
   "execution_count": 167,
   "metadata": {},
   "outputs": [
    {
     "name": "stderr",
     "output_type": "stream",
     "text": [
      "100%|██████████| 50000/50000 [00:07<00:00, 6589.83it/s]\n"
     ]
    },
    {
     "data": {
      "text/html": [
       "<div>\n",
       "<style scoped>\n",
       "    .dataframe tbody tr th:only-of-type {\n",
       "        vertical-align: middle;\n",
       "    }\n",
       "\n",
       "    .dataframe tbody tr th {\n",
       "        vertical-align: top;\n",
       "    }\n",
       "\n",
       "    .dataframe thead th {\n",
       "        text-align: right;\n",
       "    }\n",
       "</style>\n",
       "<table border=\"1\" class=\"dataframe\">\n",
       "  <thead>\n",
       "    <tr style=\"text-align: right;\">\n",
       "      <th></th>\n",
       "      <th>z_score</th>\n",
       "      <th>rank</th>\n",
       "      <th>mse_glob_decoy</th>\n",
       "      <th>r2_glob_decoy</th>\n",
       "      <th>pearson_glob_decoy</th>\n",
       "      <th>spearman_glob_decoy</th>\n",
       "    </tr>\n",
       "  </thead>\n",
       "  <tbody>\n",
       "    <tr>\n",
       "      <th>0</th>\n",
       "      <td>0.818 ± 0.229</td>\n",
       "      <td>38.436 ± 9.136</td>\n",
       "      <td>0.0187 ± 0.0046</td>\n",
       "      <td>-4.719 ± 1.272</td>\n",
       "      <td>0.617 ± 0.035</td>\n",
       "      <td>0.557 ± 0.031</td>\n",
       "    </tr>\n",
       "  </tbody>\n",
       "</table>\n",
       "</div>"
      ],
      "text/plain": [
       "         z_score            rank   mse_glob_decoy   r2_glob_decoy  \\\n",
       "0  0.818 ± 0.229  38.436 ± 9.136  0.0187 ± 0.0046  -4.719 ± 1.272   \n",
       "\n",
       "  pearson_glob_decoy spearman_glob_decoy  \n",
       "0      0.617 ± 0.035       0.557 ± 0.031  "
      ]
     },
     "execution_count": 167,
     "metadata": {},
     "output_type": "execute_result"
    }
   ],
   "source": [
    "base_t = network_global_results('globs/nikita_base/CASP12_test/checkpoint_epoch_15',\n",
    "                      targets_all12)\n",
    "make_intervals_decoy(bootstrap_decoy(base_t.values, 1000000, 73, 20))"
   ]
  },
  {
   "cell_type": "code",
   "execution_count": 168,
   "metadata": {},
   "outputs": [],
   "source": [
    "proq3_t, voromqa_t, _ = sota_result('../sota_from_casp',\n",
    "                                         'globs/nikita_best/CASP12_test/checkpoint_epoch_39',\n",
    "                                         targets_all12)\n",
    "_, _, sbrod_t = sota_result('../sota',\n",
    "                                         'globs/nikita_best/CASP12_test/checkpoint_epoch_39',\n",
    "                                         targets_all12)"
   ]
  },
  {
   "cell_type": "code",
   "execution_count": 169,
   "metadata": {},
   "outputs": [
    {
     "name": "stderr",
     "output_type": "stream",
     "text": [
      "100%|██████████| 50000/50000 [00:13<00:00, 3579.26it/s]\n"
     ]
    },
    {
     "data": {
      "text/html": [
       "<div>\n",
       "<style scoped>\n",
       "    .dataframe tbody tr th:only-of-type {\n",
       "        vertical-align: middle;\n",
       "    }\n",
       "\n",
       "    .dataframe tbody tr th {\n",
       "        vertical-align: top;\n",
       "    }\n",
       "\n",
       "    .dataframe thead th {\n",
       "        text-align: right;\n",
       "    }\n",
       "</style>\n",
       "<table border=\"1\" class=\"dataframe\">\n",
       "  <thead>\n",
       "    <tr style=\"text-align: right;\">\n",
       "      <th></th>\n",
       "      <th>z_score</th>\n",
       "      <th>rank</th>\n",
       "      <th>mse_glob_decoy</th>\n",
       "      <th>r2_glob_decoy</th>\n",
       "      <th>pearson_glob_decoy</th>\n",
       "      <th>spearman_glob_decoy</th>\n",
       "    </tr>\n",
       "  </thead>\n",
       "  <tbody>\n",
       "    <tr>\n",
       "      <th>0</th>\n",
       "      <td>1.67 ± 0.168</td>\n",
       "      <td>11.96 ± 3.165</td>\n",
       "      <td>0.0354 ± 0.0052</td>\n",
       "      <td>-16.575 ± 4.272</td>\n",
       "      <td>0.801 ± 0.034</td>\n",
       "      <td>0.75 ± 0.035</td>\n",
       "    </tr>\n",
       "  </tbody>\n",
       "</table>\n",
       "</div>"
      ],
      "text/plain": [
       "        z_score           rank   mse_glob_decoy    r2_glob_decoy  \\\n",
       "0  1.67 ± 0.168  11.96 ± 3.165  0.0354 ± 0.0052  -16.575 ± 4.272   \n",
       "\n",
       "  pearson_glob_decoy spearman_glob_decoy  \n",
       "0      0.801 ± 0.034        0.75 ± 0.035  "
      ]
     },
     "execution_count": 169,
     "metadata": {},
     "output_type": "execute_result"
    }
   ],
   "source": [
    "make_intervals_decoy(bootstrap_decoy(proq3_t.values, 1000000, 73, 20))"
   ]
  },
  {
   "cell_type": "code",
   "execution_count": 170,
   "metadata": {},
   "outputs": [
    {
     "name": "stderr",
     "output_type": "stream",
     "text": [
      "100%|██████████| 50000/50000 [00:12<00:00, 4039.99it/s]\n"
     ]
    },
    {
     "data": {
      "text/html": [
       "<div>\n",
       "<style scoped>\n",
       "    .dataframe tbody tr th:only-of-type {\n",
       "        vertical-align: middle;\n",
       "    }\n",
       "\n",
       "    .dataframe tbody tr th {\n",
       "        vertical-align: top;\n",
       "    }\n",
       "\n",
       "    .dataframe thead th {\n",
       "        text-align: right;\n",
       "    }\n",
       "</style>\n",
       "<table border=\"1\" class=\"dataframe\">\n",
       "  <thead>\n",
       "    <tr style=\"text-align: right;\">\n",
       "      <th></th>\n",
       "      <th>z_score</th>\n",
       "      <th>rank</th>\n",
       "      <th>mse_glob_decoy</th>\n",
       "      <th>r2_glob_decoy</th>\n",
       "      <th>pearson_glob_decoy</th>\n",
       "      <th>spearman_glob_decoy</th>\n",
       "    </tr>\n",
       "  </thead>\n",
       "  <tbody>\n",
       "    <tr>\n",
       "      <th>0</th>\n",
       "      <td>1.41 ± 0.18</td>\n",
       "      <td>17.173 ± 5.095</td>\n",
       "      <td>0.0512 ± 0.0088</td>\n",
       "      <td>-19.764 ± 4.021</td>\n",
       "      <td>0.803 ± 0.031</td>\n",
       "      <td>0.766 ± 0.032</td>\n",
       "    </tr>\n",
       "  </tbody>\n",
       "</table>\n",
       "</div>"
      ],
      "text/plain": [
       "       z_score            rank   mse_glob_decoy    r2_glob_decoy  \\\n",
       "0  1.41 ± 0.18  17.173 ± 5.095  0.0512 ± 0.0088  -19.764 ± 4.021   \n",
       "\n",
       "  pearson_glob_decoy spearman_glob_decoy  \n",
       "0      0.803 ± 0.031       0.766 ± 0.032  "
      ]
     },
     "execution_count": 170,
     "metadata": {},
     "output_type": "execute_result"
    }
   ],
   "source": [
    "make_intervals_decoy(bootstrap_decoy(voromqa_t.values, 1000000, 73, 20))"
   ]
  },
  {
   "cell_type": "code",
   "execution_count": 171,
   "metadata": {},
   "outputs": [
    {
     "name": "stderr",
     "output_type": "stream",
     "text": [
      "100%|██████████| 50000/50000 [00:11<00:00, 4448.30it/s]\n"
     ]
    },
    {
     "data": {
      "text/html": [
       "<div>\n",
       "<style scoped>\n",
       "    .dataframe tbody tr th:only-of-type {\n",
       "        vertical-align: middle;\n",
       "    }\n",
       "\n",
       "    .dataframe tbody tr th {\n",
       "        vertical-align: top;\n",
       "    }\n",
       "\n",
       "    .dataframe thead th {\n",
       "        text-align: right;\n",
       "    }\n",
       "</style>\n",
       "<table border=\"1\" class=\"dataframe\">\n",
       "  <thead>\n",
       "    <tr style=\"text-align: right;\">\n",
       "      <th></th>\n",
       "      <th>z_score</th>\n",
       "      <th>rank</th>\n",
       "      <th>mse_glob_decoy</th>\n",
       "      <th>r2_glob_decoy</th>\n",
       "      <th>pearson_glob_decoy</th>\n",
       "      <th>spearman_glob_decoy</th>\n",
       "    </tr>\n",
       "  </thead>\n",
       "  <tbody>\n",
       "    <tr>\n",
       "      <th>0</th>\n",
       "      <td>1.282 ± 0.214</td>\n",
       "      <td>23.577 ± 6.763</td>\n",
       "      <td>0.9611 ± 0.0499</td>\n",
       "      <td>-427.839 ± 71.492</td>\n",
       "      <td>0.761 ± 0.043</td>\n",
       "      <td>0.684 ± 0.042</td>\n",
       "    </tr>\n",
       "  </tbody>\n",
       "</table>\n",
       "</div>"
      ],
      "text/plain": [
       "         z_score            rank   mse_glob_decoy      r2_glob_decoy  \\\n",
       "0  1.282 ± 0.214  23.577 ± 6.763  0.9611 ± 0.0499  -427.839 ± 71.492   \n",
       "\n",
       "  pearson_glob_decoy spearman_glob_decoy  \n",
       "0      0.761 ± 0.043       0.684 ± 0.042  "
      ]
     },
     "execution_count": 171,
     "metadata": {},
     "output_type": "execute_result"
    }
   ],
   "source": [
    "make_intervals_decoy(bootstrap_decoy(sbrod_t.values, 1000000, 73, 20))"
   ]
  },
  {
   "cell_type": "code",
   "execution_count": null,
   "metadata": {},
   "outputs": [],
   "source": []
  }
 ],
 "metadata": {
  "kernelspec": {
   "display_name": "Python 3",
   "language": "python",
   "name": "python3"
  },
  "language_info": {
   "codemirror_mode": {
    "name": "ipython",
    "version": 3
   },
   "file_extension": ".py",
   "mimetype": "text/x-python",
   "name": "python",
   "nbconvert_exporter": "python",
   "pygments_lexer": "ipython3",
   "version": "3.6.9"
  }
 },
 "nbformat": 4,
 "nbformat_minor": 4
}
