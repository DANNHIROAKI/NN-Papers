{
 "cells": [
  {
   "cell_type": "markdown",
   "metadata": {},
   "source": [
    "### SAT latency for the SegNext model (sax1)"
   ]
  },
  {
   "cell_type": "code",
   "execution_count": 3,
   "metadata": {},
   "outputs": [
    {
     "name": "stdout",
     "output_type": "stream",
     "text": [
      "SAT Latency: 13.298871278762817 (s)\n"
     ]
    }
   ],
   "source": [
    "import sys\n",
    "sys.path.insert(0, '../segnext')\n",
    "from time import time\n",
    "import torch\n",
    "\n",
    "from isegm.inference import utils\n",
    "from isegm.data.datasets import DavisDataset\n",
    "from isegm.inference.predictor import BasePredictor\n",
    "\n",
    "model = utils.load_is_model(\n",
    "    checkpoint='../weights/vitb_sa1_cocolvis_epoch_90.pth', \n",
    "    device=torch.device('cuda:0'))\n",
    "model.cpu_dist_maps = True\n",
    "predictor = BasePredictor(model)\n",
    "\n",
    "dataset_path = '../data/DAVIS345/'\n",
    "dataset = DavisDataset(dataset_path)\n",
    "sample = dataset.get_sample(0)\n",
    "image = sample.image\n",
    "\n",
    "start_time = time()\n",
    "with torch.no_grad():\n",
    "    predictor.set_image(image)\n",
    "    preds = predictor.predict_sat(points_per_side=16)\n",
    "end_time = time()\n",
    "\n",
    "print(f'SAT Latency: {end_time - start_time} (s)')"
   ]
  },
  {
   "cell_type": "markdown",
   "metadata": {},
   "source": [
    "### SAT latency for the SegNext model (sax2)"
   ]
  },
  {
   "cell_type": "code",
   "execution_count": 2,
   "metadata": {},
   "outputs": [
    {
     "name": "stdout",
     "output_type": "stream",
     "text": [
      "SAT Latency: 17.585328340530396 (s)\n"
     ]
    }
   ],
   "source": [
    "import sys\n",
    "sys.path.insert(0, '../segnext')\n",
    "from time import time\n",
    "import torch\n",
    "\n",
    "from isegm.inference import utils\n",
    "from isegm.data.datasets import DavisDataset\n",
    "from isegm.inference.predictor import BasePredictor\n",
    "\n",
    "model = utils.load_is_model(\n",
    "    checkpoint='../weights/vitb_sa2_cocolvis_hq44k_epoch_0.pth', \n",
    "    device=torch.device('cuda:0'))\n",
    "model.cpu_dist_maps = True\n",
    "predictor = BasePredictor(model)\n",
    "\n",
    "dataset_path = '../data/DAVIS345/'\n",
    "dataset = DavisDataset(dataset_path)\n",
    "sample = dataset.get_sample(0)\n",
    "image = sample.image\n",
    "\n",
    "start_time = time()\n",
    "with torch.no_grad():\n",
    "    predictor.set_image(image)\n",
    "    preds = predictor.predict_sat(points_per_side=16)\n",
    "end_time = time()\n",
    "\n",
    "print(f'SAT Latency: {end_time - start_time} (s)')"
   ]
  },
  {
   "cell_type": "markdown",
   "metadata": {},
   "source": [
    "### SAT latency for the SAM model"
   ]
  },
  {
   "cell_type": "code",
   "execution_count": 3,
   "metadata": {},
   "outputs": [
    {
     "name": "stdout",
     "output_type": "stream",
     "text": [
      "SAT Latency: 7.002699375152588 (s)\n"
     ]
    }
   ],
   "source": [
    "# The user needs install SAM before running the code\n",
    "\n",
    "import torch\n",
    "from time import time\n",
    "from torchvision.transforms.functional import resize, to_pil_image  # type: ignore\n",
    "import numpy as np\n",
    "import sys\n",
    "sys.path.insert(0, '../segnext')\n",
    "\n",
    "from segment_anything import sam_model_registry, SamAutomaticMaskGenerator\n",
    "from isegm.data.datasets import  DavisDataset\n",
    "\n",
    "dataset_path = '../data/DAVIS345/'\n",
    "dataset = DavisDataset(dataset_path)\n",
    "sample = dataset.get_sample(0)\n",
    "image = sample.image\n",
    "\n",
    "sam_path = '../weights/sam_vit_b_01ec64.pth'\n",
    "sam = sam_model_registry[\"vit_b\"](checkpoint=sam_path)\n",
    "device = torch.device('cuda:0')\n",
    "sam.to(device)\n",
    "mask_generator = SamAutomaticMaskGenerator(\n",
    "    model=sam,\n",
    "    points_per_side=16,\n",
    "    points_per_batch=1\n",
    ")\n",
    "start_time = time()\n",
    "with torch.no_grad():\n",
    "    masks = mask_generator.generate(image)\n",
    "end_time = time()\n",
    "\n",
    "print(f'SAT Latency: {end_time - start_time} (s)')"
   ]
  },
  {
   "cell_type": "markdown",
   "metadata": {},
   "source": [
    "### SAT latency for HQ-SAM"
   ]
  },
  {
   "cell_type": "code",
   "execution_count": 4,
   "metadata": {},
   "outputs": [
    {
     "name": "stdout",
     "output_type": "stream",
     "text": [
      "<All keys matched successfully>\n",
      "SAT Latency: 8.309977293014526 (s)\n"
     ]
    }
   ],
   "source": [
    "# The user needs install SAM before running the code\n",
    "\n",
    "import torch\n",
    "from time import time\n",
    "from torchvision.transforms.functional import resize, to_pil_image  # type: ignore\n",
    "import numpy as np\n",
    "import sys\n",
    "sys.path.insert(0, '../segnext')\n",
    "\n",
    "from segment_anything_hq import sam_model_registry, SamAutomaticMaskGenerator\n",
    "from isegm.data.datasets import  DavisDataset\n",
    "\n",
    "dataset_path = '../data/DAVIS345/'\n",
    "dataset = DavisDataset(dataset_path)\n",
    "sample = dataset.get_sample(0)\n",
    "image = sample.image\n",
    "\n",
    "sam_path = '../weights/sam_hq_vit_b.pth'\n",
    "sam = sam_model_registry[\"vit_b\"](checkpoint=sam_path)\n",
    "device = torch.device('cuda:0')\n",
    "sam.to(device)\n",
    "mask_generator = SamAutomaticMaskGenerator(\n",
    "    model=sam,\n",
    "    points_per_side=16,\n",
    "    points_per_batch=1\n",
    ")\n",
    "start_time = time()\n",
    "with torch.no_grad():\n",
    "    masks = mask_generator.generate(image)\n",
    "end_time = time()\n",
    "\n",
    "print(f'SAT Latency: {end_time - start_time} (s)')"
   ]
  },
  {
   "cell_type": "markdown",
   "metadata": {},
   "source": [
    "### SAT latency for MobileSAM"
   ]
  },
  {
   "cell_type": "code",
   "execution_count": 5,
   "metadata": {},
   "outputs": [
    {
     "name": "stdout",
     "output_type": "stream",
     "text": [
      "SAT Latency: 6.589253902435303 (s)\n"
     ]
    }
   ],
   "source": [
    "# The user needs install SAM before running the code\n",
    "\n",
    "import torch\n",
    "from time import time\n",
    "from torchvision.transforms.functional import resize, to_pil_image  # type: ignore\n",
    "import numpy as np\n",
    "import sys\n",
    "sys.path.insert(0, '../segnext')\n",
    "\n",
    "from mobile_sam import sam_model_registry, SamAutomaticMaskGenerator\n",
    "from isegm.data.datasets import  DavisDataset\n",
    "\n",
    "dataset_path = '../data/DAVIS345/'\n",
    "dataset = DavisDataset(dataset_path)\n",
    "sample = dataset.get_sample(0)\n",
    "image = sample.image\n",
    "\n",
    "sam_path = '../weights/mobile_sam.pt'\n",
    "sam = sam_model_registry[\"vit_t\"](checkpoint=sam_path)\n",
    "device = torch.device('cuda:0')\n",
    "sam.to(device)\n",
    "mask_generator = SamAutomaticMaskGenerator(\n",
    "    model=sam,\n",
    "    points_per_side=16,\n",
    "    points_per_batch=1\n",
    ")\n",
    "start_time = time()\n",
    "with torch.no_grad():\n",
    "    masks = mask_generator.generate(image)\n",
    "end_time = time()\n",
    "\n",
    "print(f'SAT Latency: {end_time - start_time} (s)')"
   ]
  }
 ],
 "metadata": {
  "kernelspec": {
   "display_name": "base",
   "language": "python",
   "name": "python3"
  },
  "language_info": {
   "codemirror_mode": {
    "name": "ipython",
    "version": 3
   },
   "file_extension": ".py",
   "mimetype": "text/x-python",
   "name": "python",
   "nbconvert_exporter": "python",
   "pygments_lexer": "ipython3",
   "version": "3.10.13"
  },
  "orig_nbformat": 4
 },
 "nbformat": 4,
 "nbformat_minor": 2
}
