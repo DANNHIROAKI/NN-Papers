{
 "cells": [
  {
   "cell_type": "markdown",
   "metadata": {
    "pycharm": {
     "name": "#%% md\n"
    }
   },
   "source": [
    "The MIT License\n",
    "\n",
    "Copyright (c) 2020 POMO-RL\n",
    " \n",
    "Permission is hereby granted, free of charge, to any person obtaining a copy\n",
    "of this software and associated documentation files (the \"Software\"), to deal\n",
    "in the Software without restriction, including without limitation the rights\n",
    "to use, copy, modify, merge, publish, distribute, sublicense, and/or sell\n",
    "copies of the Software, and to permit persons to whom the Software is\n",
    "furnished to do so, subject to the following conditions:\n",
    " \n",
    "The above copyright notice and this permission notice shall be included in\n",
    "all copies or substantial portions of the Software.\n",
    " \n",
    " \n",
    " \n",
    "THE SOFTWARE IS PROVIDED \"AS IS\", WITHOUT WARRANTY OF ANY KIND, EXPRESS OR\n",
    "IMPLIED, INCLUDING BUT NOT LIMITED TO THE WARRANTIES OF MERCHANTABILITY,\n",
    "FITNESS FOR A PARTICULAR PURPOSE AND NONINFRINGEMENT. IN NO EVENT SHALL THE\n",
    "AUTHORS OR COPYRIGHT HOLDERS BE LIABLE FOR ANY CLAIM, DAMAGES OR OTHER\n",
    "LIABILITY, WHETHER IN AN ACTION OF CONTRACT, TORT OR OTHERWISE, ARISING FROM,\n",
    "OUT OF OR IN CONNECTION WITH THE SOFTWARE OR THE USE OR OTHER DEALINGS IN\n",
    "THE SOFTWARE.\n",
    "\n"
   ]
  },
  {
   "cell_type": "code",
   "execution_count": null,
   "metadata": {
    "pycharm": {
     "name": "#%%\n"
    }
   },
   "outputs": [],
   "source": [
    "SAVE_FOLDER_NAME = \"INFERENCE_00\"\n",
    "print(SAVE_FOLDER_NAME)\n"
   ]
  },
  {
   "cell_type": "code",
   "execution_count": null,
   "metadata": {},
   "outputs": [],
   "source": [
    "\n",
    "from HYPER_PARAMS import *  # NOTE : You much edit HYPER_PARAMS to match the model you are loading\n",
    "from TORCH_OBJECTS import *\n",
    "import numpy as np\n",
    "import time\n",
    "\n"
   ]
  },
  {
   "cell_type": "code",
   "execution_count": null,
   "metadata": {
    "scrolled": true
   },
   "outputs": [],
   "source": [
    "from source.knapsack_problem import GROUP_ENVIRONMENT\n",
    "import source.MODEL__Actor.grouped_actors as A_Module\n",
    "from source.utilities import Average_Meter, Get_Logger\n"
   ]
  },
  {
   "cell_type": "code",
   "execution_count": null,
   "metadata": {},
   "outputs": [],
   "source": [
    "# Make Log File\n",
    "logger, result_folder_path = Get_Logger(SAVE_FOLDER_NAME)\n",
    "\n",
    "print(result_folder_path)\n"
   ]
  },
  {
   "cell_type": "code",
   "execution_count": null,
   "metadata": {
    "pycharm": {
     "name": "#%%\n"
    }
   },
   "outputs": [],
   "source": [
    "# Load Model\n",
    "\n",
    "grouped_actor = A_Module.ACTOR().to(device)\n",
    "\n",
    "actor_model_save_path = './result/Saved_KP200_Model/ACTOR_state_dic.pt'\n",
    "grouped_actor.load_state_dict(torch.load(actor_model_save_path, map_location=\"cuda:0\"))\n",
    "grouped_actor.eval()\n",
    "\n",
    "logger.info('==============================================================================')\n",
    "logger.info('==============================================================================')\n",
    "log_str = '  <<< MODEL: {:s} >>>'.format(actor_model_save_path)\n",
    "logger.info(log_str)\n"
   ]
  },
  {
   "cell_type": "code",
   "execution_count": null,
   "metadata": {},
   "outputs": [],
   "source": []
  },
  {
   "cell_type": "code",
   "execution_count": null,
   "metadata": {
    "pycharm": {
     "name": "#%%\n"
    }
   },
   "outputs": [],
   "source": [
    "LOG_PERIOD_SEC = 10\n",
    "\n",
    "DATASET_SIZE = 100 *1000\n",
    "TEST_BATCH_SIZE = 1024\n"
   ]
  },
  {
   "cell_type": "code",
   "execution_count": null,
   "metadata": {
    "scrolled": true
   },
   "outputs": [],
   "source": [
    "eval_dist_AM_0 = Average_Meter()\n",
    "\n",
    "\n",
    "logger.info('===================================================================')\n",
    "log_str = 'Single Trajectory'\n",
    "logger.info(log_str)\n",
    "\n",
    "timer_start = time.time()\n",
    "logger_start = time.time()\n",
    "\n",
    "\n",
    "episode = 0\n",
    "while True:\n",
    "\n",
    "    data = Tensor(np.random.rand(TEST_BATCH_SIZE, PROBLEM_SIZE, 2))\n",
    "\n",
    "    batch_s = data.size(0)\n",
    "    episode = episode + batch_s\n",
    "\n",
    "\n",
    "    with torch.no_grad():\n",
    " \n",
    "        env = GROUP_ENVIRONMENT(data)\n",
    "        group_s = 1\n",
    "        group_state, reward, done = env.reset(group_size=group_s)\n",
    "        grouped_actor.reset(group_state)\n",
    "\n",
    "        # First Move is given\n",
    "        first_action = LongTensor(np.arange(group_s))[None, :].expand(batch_s, group_s)\n",
    "        group_state, reward, done = env.step(first_action)\n",
    "\n",
    "        while not done:\n",
    "            action_probs = grouped_actor.get_action_probabilities(group_state)\n",
    "            # shape = (batch, group, problem)\n",
    "            action = action_probs.argmax(dim=2)\n",
    "            # shape = (batch, group)\n",
    "\n",
    "            action_w_finished = action.clone()\n",
    "            action_w_finished[group_state.finished] = PROBLEM_SIZE  # this is dummy item with 0 size 0 value\n",
    "            group_state, reward, done = env.step(action_w_finished)\n",
    "\n",
    "    eval_dist_AM_0.push(reward)  \n",
    "\n",
    "\n",
    "\n",
    "    if (time.time()-logger_start > LOG_PERIOD_SEC) or (episode >= DATASET_SIZE):\n",
    "        timestr = time.strftime(\"%H:%M:%S\", time.gmtime(time.time()-timer_start))\n",
    "        log_str = 'Ep:{:07d}({:5.1f}%)  T:{:s}  avg:{:f}'\\\n",
    "            .format(episode, episode/DATASET_SIZE*100,\n",
    "                    timestr, eval_dist_AM_0.peek())\n",
    "        logger.info(log_str)\n",
    "        logger_start = time.time()\n",
    "        \n",
    "    if episode >= DATASET_SIZE:\n",
    "        break\n",
    "\n",
    "    \n",
    "logger.info('---------------------------------------------------')\n",
    "logger.info('average = {}'.format(eval_dist_AM_0.result()))\n",
    "logger.info('---------------------------------------------------')\n",
    "logger.info('---------------------------------------------------')\n",
    "\n"
   ]
  },
  {
   "cell_type": "code",
   "execution_count": null,
   "metadata": {},
   "outputs": [],
   "source": []
  },
  {
   "cell_type": "code",
   "execution_count": null,
   "metadata": {},
   "outputs": [],
   "source": [
    "\n"
   ]
  },
  {
   "cell_type": "code",
   "execution_count": null,
   "metadata": {
    "pycharm": {
     "name": "#%%\n"
    }
   },
   "outputs": [],
   "source": [
    "eval_dist_AM_0 = Average_Meter()\n",
    "\n",
    "logger.info('===================================================================')\n",
    "log_str = 'All Trajectory'\n",
    "logger.info(log_str)\n",
    "\n",
    "\n",
    "timer_start = time.time()\n",
    "logger_start = time.time()\n",
    "episode = 0\n",
    "while True:\n",
    "\n",
    "    data = Tensor(np.random.rand(TEST_BATCH_SIZE, PROBLEM_SIZE, 2))\n",
    "\n",
    "    batch_s = data.size(0)\n",
    "    episode = episode + batch_s\n",
    "\n",
    "\n",
    "    with torch.no_grad():\n",
    "\n",
    "        env = GROUP_ENVIRONMENT(data)\n",
    "        group_s = PROBLEM_SIZE\n",
    "        group_state, reward, done = env.reset(group_size=group_s)\n",
    "        grouped_actor.reset(group_state)\n",
    "\n",
    "        # First Move is given\n",
    "        first_action = LongTensor(np.arange(group_s))[None, :].expand(batch_s, group_s)\n",
    "        group_state, reward, done = env.step(first_action)\n",
    "\n",
    "        while not done:\n",
    "            action_probs = grouped_actor.get_action_probabilities(group_state)\n",
    "            # shape = (batch, group, problem)\n",
    "            action = action_probs.argmax(dim=2)\n",
    "            # shape = (batch, group)\n",
    "\n",
    "            action_w_finished = action.clone()\n",
    "            action_w_finished[group_state.finished] = PROBLEM_SIZE  # this is dummy item with 0 size 0 value\n",
    "            group_state, reward, done = env.step(action_w_finished)\n",
    "\n",
    "\n",
    "    max_reward, _ = reward.max(dim=1)\n",
    "    eval_dist_AM_0.push(max_reward)  \n",
    "\n",
    "\n",
    "\n",
    "    if (time.time()-logger_start > LOG_PERIOD_SEC) or (episode >= DATASET_SIZE):\n",
    "        timestr = time.strftime(\"%H:%M:%S\", time.gmtime(time.time()-timer_start))\n",
    "        log_str = 'Ep:{:07d}({:5.1f}%)  T:{:s}  avg.:{:f}'\\\n",
    "            .format(episode, episode/DATASET_SIZE*100,\n",
    "                    timestr, eval_dist_AM_0.peek())\n",
    "        logger.info(log_str)\n",
    "        logger_start = time.time()\n",
    "        \n",
    "    if episode >= DATASET_SIZE:\n",
    "        break\n",
    "\n",
    "    \n",
    "logger.info('---------------------------------------------------')\n",
    "logger.info('average = {}'.format(eval_dist_AM_0.result()))\n",
    "logger.info('---------------------------------------------------')\n",
    "logger.info('---------------------------------------------------')\n"
   ]
  },
  {
   "cell_type": "code",
   "execution_count": null,
   "metadata": {},
   "outputs": [],
   "source": []
  },
  {
   "cell_type": "code",
   "execution_count": null,
   "metadata": {},
   "outputs": [],
   "source": [
    "\n"
   ]
  },
  {
   "cell_type": "code",
   "execution_count": null,
   "metadata": {},
   "outputs": [],
   "source": []
  }
 ],
 "metadata": {
  "kernelspec": {
   "display_name": "Python 3",
   "language": "python",
   "name": "python3"
  },
  "language_info": {
   "codemirror_mode": {
    "name": "ipython",
    "version": 3
   },
   "file_extension": ".py",
   "mimetype": "text/x-python",
   "name": "python",
   "nbconvert_exporter": "python",
   "pygments_lexer": "ipython3",
   "version": "3.7.4"
  },
  "pycharm": {
   "stem_cell": {
    "cell_type": "raw",
    "source": [],
    "metadata": {
     "collapsed": false
    }
   }
  }
 },
 "nbformat": 4,
 "nbformat_minor": 2
}