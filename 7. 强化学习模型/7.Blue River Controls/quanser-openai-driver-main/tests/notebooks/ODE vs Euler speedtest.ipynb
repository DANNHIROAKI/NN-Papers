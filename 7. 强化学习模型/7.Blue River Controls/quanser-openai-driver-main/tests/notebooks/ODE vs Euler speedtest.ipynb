{
 "cells": [
  {
   "cell_type": "code",
   "execution_count": 1,
   "metadata": {},
   "outputs": [],
   "source": [
    "import numba\n",
    "import numpy as np\n",
    "from scipy.integrate import odeint"
   ]
  },
  {
   "cell_type": "code",
   "execution_count": 2,
   "metadata": {},
   "outputs": [],
   "source": [
    "# Motor\n",
    "Rm = 8.4  # Resistance\n",
    "kt = 0.042  # Current-torque (N-m/A)\n",
    "km = 0.042  # Back-emf constant (V-s/rad)\n",
    "\n",
    "# Rotary Arm\n",
    "mr = 0.095  # Mass (kg)\n",
    "Lr = 0.085  # Total length (m)\n",
    "Jr = mr * Lr ** 2 / 12  # Moment of inertia about pivot (kg-m^2)\n",
    "\n",
    "# Pendulum Link\n",
    "mp = 0.024  # Mass (kg)\n",
    "Lp = 0.129  # Total length (m)\n",
    "Jp = mp * Lp ** 2 / 12  # Moment of inertia about pivot (kg-m^2)\n",
    "\n",
    "Br = Dr = 0.0005  # Equivalent viscous damping coefficient (N-m-s/rad)\n",
    "Bp = Dp = 0.00005  # Equivalent viscous damping coefficient (N-m-s/rad)\n",
    "g = 9.81  # Gravity constant\n"
   ]
  },
  {
   "cell_type": "code",
   "execution_count": 3,
   "metadata": {},
   "outputs": [],
   "source": [
    "def diff_forward_model_ode(state, t, action, dt):\n",
    "    theta = state[0]\n",
    "    alpha = state[1]\n",
    "    theta_dot = state[2]\n",
    "    alpha_dot = state[3]\n",
    "    Vm = action\n",
    "    tau = (km * (Vm - km * theta_dot)) / Rm  # torque\n",
    "\n",
    "    # fmt: off\n",
    "    alpha_dot_dot = (2.0*Lp*Lr*mp*(4.0*Dr*theta_dot + Lp**2*alpha_dot*mp*theta_dot*np.sin(2.0*alpha) + 2.0*Lp*Lr*alpha_dot**2*mp*np.sin(alpha) - 4.0*tau)*np.cos(alpha) - 0.5*(4.0*Jr + Lp**2*mp*np.sin(alpha)**2 + 4.0*Lr**2*mp)*(-8.0*Dp*alpha_dot + Lp**2*mp*theta_dot**2*np.sin(2.0*alpha) + 4.0*Lp*g*mp*np.sin(alpha)))/(4.0*Lp**2*Lr**2*mp**2*np.cos(alpha)**2 - (4.0*Jp + Lp**2*mp)*(4.0*Jr + Lp**2*mp*np.sin(alpha)**2 + 4.0*Lr**2*mp))\n",
    "    theta_dot_dot = (-Lp*Lr*mp*(-8.0*Dp*alpha_dot + Lp**2*mp*theta_dot**2*np.sin(2.0*alpha) + 4.0*Lp*g*mp*np.sin(alpha))*np.cos(alpha) + (4.0*Jp + Lp**2*mp)*(4.0*Dr*theta_dot + Lp**2*alpha_dot*mp*theta_dot*np.sin(2.0*alpha) + 2.0*Lp*Lr*alpha_dot**2*mp*np.sin(alpha) - 4.0*tau))/(4.0*Lp**2*Lr**2*mp**2*np.cos(alpha)**2 - (4.0*Jp + Lp**2*mp)*(4.0*Jr + Lp**2*mp*np.sin(alpha)**2 + 4.0*Lr**2*mp))\n",
    "    # fmt: on\n",
    "\n",
    "    diff_state = np.array([theta_dot, alpha_dot, theta_dot_dot, alpha_dot_dot])\n",
    "    diff_state = np.array(diff_state, dtype=\"float64\")\n",
    "    return diff_state\n",
    "\n",
    "\n",
    "def forward_model_ode(theta, alpha, theta_dot, alpha_dot, Vm, dt, integration_steps):\n",
    "    t = np.linspace(0.0, dt, integration_steps)\n",
    "\n",
    "    state = np.array([theta, alpha, theta_dot, alpha_dot])\n",
    "    next_state = np.array(odeint(diff_forward_model_ode, state, t, args=(Vm, dt))).reshape(4,)\n",
    "    \n",
    "    theta = next_state[0]\n",
    "    alpha = next_state[1]\n",
    "    theta_dot = next_state[2]\n",
    "    alpha_dot = next_state[3]\n",
    "\n",
    "    theta = ((theta + np.pi) % (2 * np.pi)) - np.pi\n",
    "    alpha = ((alpha + np.pi) % (2 * np.pi)) - np.pi\n",
    "\n",
    "    return theta, alpha, theta_dot, alpha_dot\n"
   ]
  },
  {
   "cell_type": "code",
   "execution_count": 4,
   "metadata": {},
   "outputs": [],
   "source": [
    "def forward_model_euler(theta, alpha, theta_dot, alpha_dot, Vm, dt, integration_steps):\n",
    "    dt /= integration_steps\n",
    "    for step in range(integration_steps):\n",
    "        tau = (km * (Vm - km * theta_dot)) / Rm  # torque\n",
    "\n",
    "        # fmt: off\n",
    "        alpha_dot_dot = (2.0*Lp*Lr*mp*(4.0*Dr*theta_dot + Lp**2*alpha_dot*mp*theta_dot*np.sin(2.0*alpha) + 2.0*Lp*Lr*alpha_dot**2*mp*np.sin(alpha) - 4.0*tau)*np.cos(alpha) - 0.5*(4.0*Jr + Lp**2*mp*np.sin(alpha)**2 + 4.0*Lr**2*mp)*(-8.0*Dp*alpha_dot + Lp**2*mp*theta_dot**2*np.sin(2.0*alpha) + 4.0*Lp*g*mp*np.sin(alpha)))/(4.0*Lp**2*Lr**2*mp**2*np.cos(alpha)**2 - (4.0*Jp + Lp**2*mp)*(4.0*Jr + Lp**2*mp*np.sin(alpha)**2 + 4.0*Lr**2*mp))\n",
    "        theta_dot_dot = (-Lp*Lr*mp*(-8.0*Dp*alpha_dot + Lp**2*mp*theta_dot**2*np.sin(2.0*alpha) + 4.0*Lp*g*mp*np.sin(alpha))*np.cos(alpha) + (4.0*Jp + Lp**2*mp)*(4.0*Dr*theta_dot + Lp**2*alpha_dot*mp*theta_dot*np.sin(2.0*alpha) + 2.0*Lp*Lr*alpha_dot**2*mp*np.sin(alpha) - 4.0*tau))/(4.0*Lp**2*Lr**2*mp**2*np.cos(alpha)**2 - (4.0*Jp + Lp**2*mp)*(4.0*Jr + Lp**2*mp*np.sin(alpha)**2 + 4.0*Lr**2*mp))\n",
    "        # fmt: on\n",
    "\n",
    "        theta_dot += theta_dot_dot * dt\n",
    "        alpha_dot += alpha_dot_dot * dt\n",
    "\n",
    "        theta += theta_dot * dt\n",
    "        alpha += alpha_dot * dt\n",
    "\n",
    "        theta %= 2 * np.pi\n",
    "        alpha %= 2 * np.pi\n",
    "\n",
    "    return theta, alpha, theta_dot, alpha_dot\n"
   ]
  },
  {
   "cell_type": "code",
   "execution_count": 5,
   "metadata": {},
   "outputs": [],
   "source": [
    "def f(forward_model, n=1000):\n",
    "    for i in range(n):\n",
    "        theta, alpha, theta_dot, alpha_dot = np.random.randn(4,) * 0.1\n",
    "        Vm = np.random.randn()\n",
    "        theta, alpha, theta_dot, alpha_dot = forward_model(\n",
    "            theta, alpha, theta_dot, alpha_dot, Vm, dt=0.001, integration_steps=1\n",
    "        )\n"
   ]
  },
  {
   "cell_type": "markdown",
   "metadata": {},
   "source": [
    "# Without numba"
   ]
  },
  {
   "cell_type": "code",
   "execution_count": 6,
   "metadata": {},
   "outputs": [
    {
     "name": "stdout",
     "output_type": "stream",
     "text": [
      "41.4 ms ± 3.21 ms per loop (mean ± std. dev. of 7 runs, 100 loops each)\n"
     ]
    }
   ],
   "source": [
    "%timeit -n 100 f(forward_model_ode)"
   ]
  },
  {
   "cell_type": "code",
   "execution_count": 7,
   "metadata": {},
   "outputs": [
    {
     "name": "stdout",
     "output_type": "stream",
     "text": [
      "54.9 ms ± 12.5 ms per loop (mean ± std. dev. of 7 runs, 100 loops each)\n"
     ]
    }
   ],
   "source": [
    "%timeit -n 100 f(forward_model_euler)"
   ]
  },
  {
   "cell_type": "markdown",
   "metadata": {},
   "source": [
    "# With numba"
   ]
  },
  {
   "cell_type": "code",
   "execution_count": 8,
   "metadata": {},
   "outputs": [],
   "source": [
    "forward_model_ode = numba.jit(forward_model_ode)\n",
    "forward_model_euler = numba.jit(forward_model_euler)"
   ]
  },
  {
   "cell_type": "code",
   "execution_count": 9,
   "metadata": {},
   "outputs": [
    {
     "name": "stdout",
     "output_type": "stream",
     "text": [
      "49.4 ms ± 2.37 ms per loop (mean ± std. dev. of 7 runs, 100 loops each)\n"
     ]
    }
   ],
   "source": [
    "%timeit -n 100 f(forward_model_ode)"
   ]
  },
  {
   "cell_type": "code",
   "execution_count": 10,
   "metadata": {},
   "outputs": [
    {
     "name": "stdout",
     "output_type": "stream",
     "text": [
      "5.62 ms ± 1.41 ms per loop (mean ± std. dev. of 7 runs, 100 loops each)\n"
     ]
    }
   ],
   "source": [
    "%timeit -n 100 f(forward_model_euler)"
   ]
  }
 ],
 "metadata": {
  "kernelspec": {
   "display_name": "TensorFlow (3.6.6)",
   "language": "python",
   "name": "tf"
  },
  "language_info": {
   "codemirror_mode": {
    "name": "ipython",
    "version": 3
   },
   "file_extension": ".py",
   "mimetype": "text/x-python",
   "name": "python",
   "nbconvert_exporter": "python",
   "pygments_lexer": "ipython3",
   "version": "3.6.7"
  }
 },
 "nbformat": 4,
 "nbformat_minor": 2
}
