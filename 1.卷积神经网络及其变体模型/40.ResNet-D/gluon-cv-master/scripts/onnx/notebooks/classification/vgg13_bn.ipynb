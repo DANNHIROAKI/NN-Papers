{
 "cells": [
  {
   "cell_type": "markdown",
   "metadata": {},
   "source": [
    "<a href=\"https://colab.research.google.com/github/dmlc/gluon-cv/blob/onnx/scripts/onnx/notebooks/classification/vgg13_bn.ipynb\" target=\"_parent\"><img src=\"https://colab.research.google.com/assets/colab-badge.svg\" alt=\"Open In Colab\"/></a>"
   ]
  },
  {
   "cell_type": "code",
   "execution_count": null,
   "metadata": {},
   "outputs": [],
   "source": [
    "!pip3 install --upgrade onnxruntime"
   ]
  },
  {
   "cell_type": "code",
   "execution_count": null,
   "metadata": {},
   "outputs": [],
   "source": [
    "\n",
    "import numpy as np\n",
    "import onnxruntime as rt\n",
    "import urllib.request\n",
    "import os.path \n",
    "from PIL import Image\n",
    "    "
   ]
  },
  {
   "cell_type": "code",
   "execution_count": null,
   "metadata": {},
   "outputs": [],
   "source": [
    "\n",
    "def fetch_model():\n",
    "    if not os.path.isfile(\"vgg13_bn.onnx\"):\n",
    "        urllib.request.urlretrieve(\"https://apache-mxnet.s3-us-west-2.amazonaws.com/onnx/models/gluoncv-vgg13_bn-b08d2765.onnx\", filename=\"vgg13_bn.onnx\")\n",
    "    return \"vgg13_bn.onnx\"\n",
    "\n",
    "def prepare_img(img_path, input_shape):\n",
    "    # input_shape: BHWC\n",
    "    height, width = input_shape[1], input_shape[2]\n",
    "    img = Image.open(img_path).convert('RGB')\n",
    "    img = img.resize((width, height))\n",
    "    img = np.asarray(img)\n",
    "    img = np.expand_dims(img, axis=0).astype('float32')\n",
    "\n",
    "    return img\n",
    "    "
   ]
  },
  {
   "cell_type": "markdown",
   "metadata": {},
   "source": [
    "**Make sure to replace the image you want to use**"
   ]
  },
  {
   "cell_type": "code",
   "execution_count": null,
   "metadata": {},
   "outputs": [],
   "source": [
    "\n",
    "model = fetch_model()\n",
    "img_path = \"Your image\"\n",
    "img = prepare_img(img_path, (1, 224, 224, 3))\n",
    "    "
   ]
  },
  {
   "cell_type": "code",
   "execution_count": null,
   "metadata": {},
   "outputs": [],
   "source": [
    "\n",
    "# Create a onnx inference session and get the input name\n",
    "onnx_session = rt.InferenceSession(model, None)\n",
    "input_name = onnx_session.get_inputs()[0].name\n",
    "# Make prediction\n",
    "pred = onnx_session.run([], {input_name: img})[0]\n",
    "    "
   ]
  },
  {
   "cell_type": "markdown",
   "metadata": {},
   "source": [
    "\n",
    "(Optional) We use mxnet and gluoncv to process the result.\n",
    "\n",
    "Feel free to process the result your own way\n"
   ]
  },
  {
   "cell_type": "code",
   "execution_count": null,
   "metadata": {},
   "outputs": [],
   "source": [
    "!pip3 install --upgrade mxnet gluoncv"
   ]
  },
  {
   "cell_type": "code",
   "execution_count": null,
   "metadata": {},
   "outputs": [],
   "source": [
    "\n",
    "def prepare_label():\n",
    "    attrib = ImageNet1kAttr()\n",
    "    return attrib.classes\n",
    "\n",
    "import mxnet as mx\n",
    "from gluoncv.data import ImageNet1kAttr\n",
    "\n",
    "labels = prepare_label()    \n",
    "pred = mx.nd.array(pred)\n",
    "prob = mx.nd.softmax(pred)[0].asnumpy()\n",
    "# find the 5 class indices with the highest score\n",
    "ind = mx.nd.topk(pred, k=5)[0].astype('int').asnumpy().tolist()\n",
    "# print the class name and predicted probability\n",
    "print('The input picture is classified to be')\n",
    "for i in range(5):\n",
    "    print('- [%s], with probability %.3f.'%(labels[ind[i]], prob[ind[i]]))\n",
    "    "
   ]
  }
 ],
 "metadata": {},
 "nbformat": 4,
 "nbformat_minor": 4
}
